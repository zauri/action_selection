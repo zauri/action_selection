{
 "cells": [
  {
   "cell_type": "code",
   "execution_count": 2,
   "id": "18f21d74",
   "metadata": {},
   "outputs": [],
   "source": [
    "from datetime import datetime\n",
    "import pandas as pd"
   ]
  },
  {
   "cell_type": "code",
   "execution_count": 3,
   "id": "50f8f9e9",
   "metadata": {},
   "outputs": [],
   "source": [
    "food_items = ['apricots', 'avocado', 'bananas', 'beans', 'blueberries', 'bread',\n",
    "             'broccoli', 'butter', 'carrot', 'carrots', 'cauliflower', 'cereal',\n",
    "             'cheese', 'chilli', 'cucumber', 'eggs', 'fig', 'figs', 'flour', 'garlic',\n",
    "             'ginger', 'grapes', 'kiwi', 'leek', 'mango', 'onion', 'orange', 'oranges',\n",
    "             'pepper', 'pineapple', 'plum', 'pomegranate', 'potato', 'salad', 'tomato_plate',\n",
    "             'yoghurt', 'jar', 'oil']\n",
    "\n",
    "seasoning = ['herbs', 'lemon_juice', 'lime', 'ketchup', 'salt', 'spice',\n",
    "            'spice_shaker', 'sugar']\n",
    "\n",
    "beverages = ['beer', 'can', 'drink', 'milk', 'water']\n",
    "\n",
    "kitchen_utensils = ['colander', 'flat_grater', 'garlic_press', 'ladle', 'measuring_pitcher', 'peeler',\n",
    "                   'spatula', 'squeezer', 'wire_whisk']\n",
    "\n",
    "containers = ['paper_bag', 'plastic_box', 'tupperware']\n",
    "\n",
    "cookware = ['pot', 'pan', 'lid']"
   ]
  },
  {
   "cell_type": "code",
   "execution_count": 14,
   "id": "2347bdf3",
   "metadata": {},
   "outputs": [],
   "source": [
    "category_dict = {}\n",
    "\n",
    "for item in food_items:\n",
    "    category_dict[item] = 'food'\n",
    "for item in seasoning:\n",
    "    category_dict[item] = 'seasoning'\n",
    "for item in beverages:\n",
    "    category_dict[item] = 'beverage'\n",
    "for item in kitchen_utensils:\n",
    "    category_dict[item] = 'utensil'\n",
    "for item in containers:\n",
    "    category_dict[item] = 'container'\n",
    "for item in cookware:\n",
    "    category_dict[item] = 'cookware'"
   ]
  },
  {
   "cell_type": "code",
   "execution_count": 4,
   "id": "1699ad68",
   "metadata": {},
   "outputs": [],
   "source": [
    "df = pd.read_csv('data/all_task_environments_list_2022-04-01.csv', header=0)"
   ]
  },
  {
   "cell_type": "code",
   "execution_count": 6,
   "id": "1e74d35b",
   "metadata": {},
   "outputs": [],
   "source": [
    "with open('../opportunistic_planning/documentation/legends/item_legend_neural_nets.txt') as legend:\n",
    "        legend_dict = legend.read()\n",
    "        item_legend = eval(legend_dict)"
   ]
  },
  {
   "cell_type": "code",
   "execution_count": 39,
   "id": "1be317e5",
   "metadata": {},
   "outputs": [],
   "source": [
    "sequence_list = []\n",
    "\n",
    "for row in range(0, len(df['sequence'])):\n",
    "    sequence = [item for item in df.at[row, 'sequence'].split(',')]\n",
    "    for item in range(0, len(sequence)):\n",
    "        if '2' in sequence[item]:\n",
    "            sequence[item] = sequence[item][:-1]\n",
    "        if sequence[item] in category_dict:\n",
    "            sequence[item] = category_dict[sequence[item]]\n",
    "    sequence_list.append(sequence)"
   ]
  },
  {
   "cell_type": "code",
   "execution_count": 40,
   "id": "80222713",
   "metadata": {},
   "outputs": [],
   "source": [
    "for lst in sequence_list:\n",
    "    for item in range(0, len(lst)):\n",
    "        lst[item] = item_legend[lst[item]]"
   ]
  },
  {
   "cell_type": "code",
   "execution_count": 46,
   "id": "5728e2c5",
   "metadata": {},
   "outputs": [],
   "source": [
    "strings = []\n",
    "\n",
    "for lst in sequence_list:\n",
    "    joined = ''.join(lst)\n",
    "    strings.append(joined)"
   ]
  },
  {
   "cell_type": "code",
   "execution_count": 48,
   "id": "0af3d4b3",
   "metadata": {},
   "outputs": [],
   "source": [
    "date = datetime.today().strftime('%Y-%m-%d')"
   ]
  },
  {
   "cell_type": "code",
   "execution_count": 52,
   "id": "1d60ad16",
   "metadata": {},
   "outputs": [],
   "source": [
    "filename = 'data/text_prediction_data_' + str(date) + '.txt'"
   ]
  },
  {
   "cell_type": "code",
   "execution_count": 53,
   "id": "e11a39bb",
   "metadata": {},
   "outputs": [],
   "source": [
    "with open(filename, 'w') as file:\n",
    "    for item in strings:\n",
    "        file.write(\"%s\\n\" % item)"
   ]
  },
  {
   "cell_type": "code",
   "execution_count": null,
   "id": "965cfcab",
   "metadata": {},
   "outputs": [],
   "source": []
  }
 ],
 "metadata": {
  "kernelspec": {
   "display_name": "anaconda",
   "language": "python",
   "name": "anaconda"
  },
  "language_info": {
   "codemirror_mode": {
    "name": "ipython",
    "version": 3
   },
   "file_extension": ".py",
   "mimetype": "text/x-python",
   "name": "python",
   "nbconvert_exporter": "python",
   "pygments_lexer": "ipython3",
   "version": "3.9.12"
  }
 },
 "nbformat": 4,
 "nbformat_minor": 5
}
