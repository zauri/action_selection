{
 "cells": [
  {
   "cell_type": "code",
   "execution_count": 1,
   "id": "792ffb7b",
   "metadata": {},
   "outputs": [],
   "source": [
    "import pandas as pd"
   ]
  },
  {
   "cell_type": "code",
   "execution_count": 2,
   "id": "e62fc4a5",
   "metadata": {},
   "outputs": [],
   "source": [
    "sequences = pd.read_csv('data/kit_sequenzen.csv', header=0)"
   ]
  },
  {
   "cell_type": "code",
   "execution_count": 5,
   "id": "e57abca7",
   "metadata": {},
   "outputs": [],
   "source": [
    "df = pd.DataFrame(columns=['ID', 'sequence'])"
   ]
  },
  {
   "cell_type": "code",
   "execution_count": 4,
   "id": "a0eca3fe",
   "metadata": {},
   "outputs": [],
   "source": [
    "# TODO\n",
    "# generate legend for item translation\n",
    "# remove double occurrences (only keep first)\n",
    "# get item positions from annotation file\n",
    "# define parameters for k"
   ]
  },
  {
   "cell_type": "code",
   "execution_count": 8,
   "id": "e504b15b",
   "metadata": {},
   "outputs": [],
   "source": [
    "for row in range(0, len(sequences)):\n",
    "    seq = []\n",
    "    ID = sequences.at[row, 'ID']\n",
    "    for item in sequences.at[row,'sequence'].split(','):\n",
    "        if item not in seq:\n",
    "            seq.append(item)\n",
    "    df.at[row, 'ID'] = ID\n",
    "    df.at[row, 'sequence'] = seq"
   ]
  },
  {
   "cell_type": "code",
   "execution_count": null,
   "id": "5e7c1bb7",
   "metadata": {},
   "outputs": [],
   "source": []
  },
  {
   "cell_type": "code",
   "execution_count": null,
   "id": "e947997a",
   "metadata": {},
   "outputs": [],
   "source": []
  }
 ],
 "metadata": {
  "kernelspec": {
   "display_name": "Python 3 (ipykernel)",
   "language": "python",
   "name": "python3"
  },
  "language_info": {
   "codemirror_mode": {
    "name": "ipython",
    "version": 3
   },
   "file_extension": ".py",
   "mimetype": "text/x-python",
   "name": "python",
   "nbconvert_exporter": "python",
   "pygments_lexer": "ipython3",
   "version": "3.9.13"
  }
 },
 "nbformat": 4,
 "nbformat_minor": 5
}
