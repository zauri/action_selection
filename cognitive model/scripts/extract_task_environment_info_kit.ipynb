{
 "cells": [
  {
   "cell_type": "code",
   "execution_count": 1,
   "id": "792ffb7b",
   "metadata": {},
   "outputs": [],
   "source": [
    "import pandas as pd"
   ]
  },
  {
   "cell_type": "code",
   "execution_count": 125,
   "id": "e62fc4a5",
   "metadata": {},
   "outputs": [],
   "source": [
    "sequences = pd.read_csv('data/kit_sequenzen.csv', header=0)"
   ]
  },
  {
   "cell_type": "code",
   "execution_count": 126,
   "id": "29a37ff0",
   "metadata": {},
   "outputs": [],
   "source": [
    "annotation = pd.read_csv('data/kit_annotation.csv', header=0)"
   ]
  },
  {
   "cell_type": "code",
   "execution_count": 165,
   "id": "e57abca7",
   "metadata": {},
   "outputs": [],
   "source": [
    "df = pd.DataFrame(columns=['ID', 'sequence', 'coordinates', 'start_coordinates'])"
   ]
  },
  {
   "cell_type": "code",
   "execution_count": null,
   "id": "a0eca3fe",
   "metadata": {},
   "outputs": [],
   "source": []
  },
  {
   "cell_type": "code",
   "execution_count": 166,
   "id": "4592326d",
   "metadata": {},
   "outputs": [],
   "source": [
    "all_items = []\n",
    "\n",
    "for row in range(0, len(sequences)):\n",
    "    seq = []\n",
    "    ID = sequences.at[row, 'ID']\n",
    "    for item in sequences.at[row,'sequence'].split(','):\n",
    "        if item not in seq:\n",
    "            seq.append(item)\n",
    "    df.at[row, 'ID'] = ID\n",
    "    df.at[row, 'sequence'] = seq\n",
    "    all_items.append(seq)"
   ]
  },
  {
   "cell_type": "code",
   "execution_count": 167,
   "id": "82293ad5",
   "metadata": {},
   "outputs": [],
   "source": [
    "item_set = set([item for sublist in all_items for item in sublist])"
   ]
  },
  {
   "cell_type": "code",
   "execution_count": 168,
   "id": "b7b8a612",
   "metadata": {},
   "outputs": [],
   "source": [
    "for row in range(0, len (df)):\n",
    "    locations_dict = {}\n",
    "    ID = df.at[row, 'ID']\n",
    "    filtered_df = annotation.loc[annotation['annotation'] == 'start'].set_index('ID')\n",
    "    \n",
    "    for item in item_set:\n",
    "        locations_dict[item] = [filtered_df.at[ID, str(item) + '_x'],\n",
    "                               filtered_df.at[ID, str(item) + '_y'], 2.0]\n",
    "    df.at[row, 'coordinates'] = locations_dict"
   ]
  },
  {
   "cell_type": "code",
   "execution_count": 169,
   "id": "97be4074",
   "metadata": {},
   "outputs": [],
   "source": [
    "for row in range(0, len(df)):\n",
    "    subject_locations = []\n",
    "    ID = df.at[row, 'ID']\n",
    "    filtered_annotation = annotation.loc[annotation['ID'] == ID].reset_index()\n",
    "    \n",
    "    for row2 in range(0, len(filtered_annotation)):\n",
    "        if filtered_annotation.at[row2, 'annotation'] == 'start':\n",
    "            subject_locations.append([filtered_annotation.at[row2, 'head_x'],\n",
    "                                      filtered_annotation.at[row2, 'head_y'], 2])\n",
    "        elif filtered_annotation.at[row2, 'annotation'] == 'nehmen_objekte':\n",
    "            subject_locations.append([filtered_annotation.at[row2 - 1, 'head_x'],\n",
    "                                     filtered_annotation.at[row2 - 1, 'head_y'], 2])\n",
    "    \n",
    "    #print(subject_locations)\n",
    "    df.at[row, 'start_coordinates'] = subject_locations"
   ]
  },
  {
   "cell_type": "code",
   "execution_count": 184,
   "id": "de6c2e7e",
   "metadata": {},
   "outputs": [],
   "source": [
    "# TODO: fix start coordinates if len seq > len start_coordinates\n",
    "# (multiple items taken together?)"
   ]
  },
  {
   "cell_type": "code",
   "execution_count": null,
   "id": "4699d656",
   "metadata": {},
   "outputs": [],
   "source": []
  }
 ],
 "metadata": {
  "kernelspec": {
   "display_name": "Python 3 (ipykernel)",
   "language": "python",
   "name": "python3"
  },
  "language_info": {
   "codemirror_mode": {
    "name": "ipython",
    "version": 3
   },
   "file_extension": ".py",
   "mimetype": "text/x-python",
   "name": "python",
   "nbconvert_exporter": "python",
   "pygments_lexer": "ipython3",
   "version": "3.9.13"
  }
 },
 "nbformat": 4,
 "nbformat_minor": 5
}
