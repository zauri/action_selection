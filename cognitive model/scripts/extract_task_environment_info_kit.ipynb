{
 "cells": [
  {
   "cell_type": "code",
   "execution_count": 256,
   "id": "792ffb7b",
   "metadata": {},
   "outputs": [],
   "source": [
    "import numpy as np\n",
    "import pandas as pd"
   ]
  },
  {
   "cell_type": "code",
   "execution_count": 125,
   "id": "e62fc4a5",
   "metadata": {},
   "outputs": [],
   "source": [
    "sequences = pd.read_csv('data/kit_sequenzen.csv', header=0)"
   ]
  },
  {
   "cell_type": "code",
   "execution_count": 126,
   "id": "29a37ff0",
   "metadata": {},
   "outputs": [],
   "source": [
    "annotation = pd.read_csv('data/kit_annotation.csv', header=0)"
   ]
  },
  {
   "cell_type": "code",
   "execution_count": 267,
   "id": "e57abca7",
   "metadata": {},
   "outputs": [],
   "source": [
    "df = pd.DataFrame(columns=['ID', 'sequence', 'coordinates', 'start_coordinates', 'set_0',\n",
    "                          'set_1', 'set_2', 'set_3', 'set_4', 'set_5'])"
   ]
  },
  {
   "cell_type": "code",
   "execution_count": 268,
   "id": "a0eca3fe",
   "metadata": {},
   "outputs": [],
   "source": [
    "data = pd.read_csv('data/kit_annotation_clustered.csv', header=0)"
   ]
  },
  {
   "cell_type": "code",
   "execution_count": 269,
   "id": "4592326d",
   "metadata": {},
   "outputs": [],
   "source": [
    "all_items = []\n",
    "\n",
    "for col in data.columns:\n",
    "    if 'geschirr' not in col and 'head' not in col and 'x' in col:\n",
    "        all_items.append(col[:-2])"
   ]
  },
  {
   "cell_type": "code",
   "execution_count": 270,
   "id": "82293ad5",
   "metadata": {},
   "outputs": [],
   "source": [
    "ids = set(data['ID'])"
   ]
  },
  {
   "cell_type": "code",
   "execution_count": 271,
   "id": "f3cda3f8",
   "metadata": {},
   "outputs": [],
   "source": [
    "df['ID'] = sorted(list(ids))"
   ]
  },
  {
   "cell_type": "code",
   "execution_count": 272,
   "id": "b7b8a612",
   "metadata": {},
   "outputs": [],
   "source": [
    "for row in range(0, len(df)):\n",
    "    locations_dict = {}\n",
    "    ID = df.at[row, 'ID']\n",
    "    filtered_df = data.loc[data['annotation'] == 'start'].set_index('ID')\n",
    "    \n",
    "    for item in all_items:\n",
    "        locations_dict[item] = [filtered_df.at[ID, str(item) + '_x'],\n",
    "                               filtered_df.at[ID, str(item) + '_y'], 2.0]\n",
    "    df.at[row, 'coordinates'] = locations_dict"
   ]
  },
  {
   "cell_type": "code",
   "execution_count": 273,
   "id": "97be4074",
   "metadata": {},
   "outputs": [],
   "source": [
    "for row in range(0, len(df)):\n",
    "    subject_locations = []\n",
    "    ID = df.at[row, 'ID']\n",
    "    filtered_annotation = data.loc[data['ID'] == ID].reset_index()\n",
    "    \n",
    "    for row2 in range(0, len(filtered_annotation)):\n",
    "        if filtered_annotation.at[row2, 'annotation'] == 'start':\n",
    "            subject_locations.append([filtered_annotation.at[row2, 'head_x'],\n",
    "                                      filtered_annotation.at[row2, 'head_y'], 2.0])\n",
    "        elif filtered_annotation.at[row2, 'annotation'] == 'nehmen_objekte':\n",
    "            subject_locations.append([filtered_annotation.at[row2 - 1, 'head_x'],\n",
    "                                     filtered_annotation.at[row2 - 1, 'head_y'], 2.0])\n",
    "    \n",
    "    #print(subject_locations)\n",
    "    df.at[row, 'start_coordinates'] = subject_locations"
   ]
  },
  {
   "cell_type": "code",
   "execution_count": 275,
   "id": "de6c2e7e",
   "metadata": {},
   "outputs": [],
   "source": [
    "object_cols = ['erstes_objekt', 'zweites_objekt', 'drittes_objekt', \n",
    "               'viertes_objekt', 'fuenftes_objekt']\n",
    "\n",
    "for row in range(0 ,len(df)):\n",
    "    ID = df.at[row, 'ID']\n",
    "    filtered_annotation = data.loc[(data['ID'] == ID) & (data['annotation'] == 'nehmen_objekte')].reset_index()\n",
    "    sequence = []\n",
    "    \n",
    "    for row2 in range(0, len(filtered_annotation)):\n",
    "        if pd.isna(filtered_annotation.at[row2, 'zweites_objekt']):\n",
    "            sequence.append(filtered_annotation.at[row2, 'erstes_objekt'])\n",
    "        else:\n",
    "            set_name = str('set') + '_' + str(row2)\n",
    "            sequence.append(set_name)\n",
    "            set_items = []\n",
    "            \n",
    "            if set_name not in df.columns:\n",
    "                df[set_name] = None\n",
    "            \n",
    "            for col in object_cols:\n",
    "                if not pd.isna(filtered_annotation.at[row2, col]):\n",
    "                    set_items.append(filtered_annotation.at[row2, col])\n",
    "                    \n",
    "            df.at[row, set_name] = set_items\n",
    "        \n",
    "    df.at[row, 'sequence'] = sequence "
   ]
  },
  {
   "cell_type": "code",
   "execution_count": 277,
   "id": "4699d656",
   "metadata": {},
   "outputs": [],
   "source": [
    "df.to_csv('kit_task_envs_2022-08-26.csv', header=True, index=False)"
   ]
  },
  {
   "cell_type": "code",
   "execution_count": null,
   "id": "a596d94e",
   "metadata": {},
   "outputs": [],
   "source": []
  }
 ],
 "metadata": {
  "kernelspec": {
   "display_name": "Python 3 (ipykernel)",
   "language": "python",
   "name": "python3"
  },
  "language_info": {
   "codemirror_mode": {
    "name": "ipython",
    "version": 3
   },
   "file_extension": ".py",
   "mimetype": "text/x-python",
   "name": "python",
   "nbconvert_exporter": "python",
   "pygments_lexer": "ipython3",
   "version": "3.9.13"
  }
 },
 "nbformat": 4,
 "nbformat_minor": 5
}
