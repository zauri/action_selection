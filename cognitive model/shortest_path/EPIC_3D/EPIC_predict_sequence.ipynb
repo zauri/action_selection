{
 "cells": [
  {
   "cell_type": "code",
   "execution_count": 2,
   "metadata": {},
   "outputs": [],
   "source": [
    "import pandas as pd\n",
    "import numpy as np\n",
    "import itertools\n",
    "from scipy.spatial import distance\n",
    "import random\n",
    "\n",
    "pd.set_option('display.max_rows', 500)"
   ]
  },
  {
   "cell_type": "code",
   "execution_count": 232,
   "metadata": {},
   "outputs": [],
   "source": [
    "objects = ['p', 'm', 's']\n",
    "\n",
    "coordinates = {'p': (4,1,3),\n",
    "              'm': (4,3,2),\n",
    "              's': (4,3,2),\n",
    "              'start': (3,3,1),\n",
    "              'table': (2,2,2)}\n",
    "\n",
    "c1 = {'p': 1.0,\n",
    "    'm': 1.2,\n",
    "    's': 1.2}\n",
    "\n",
    "k1 = {'p': 0.9,\n",
    "    'm': 0.9,\n",
    "    's': 1.0}\n",
    "\n",
    "c0 = {'p': 1.0,\n",
    "    'm': 1.0,\n",
    "    's': 1.0}\n",
    "\n",
    "k0 = {'p': 1.0,\n",
    "    'm': 1.0,\n",
    "    's': 1.0}\n",
    "\n",
    "start_coordinates = [[3,3,1],[2,2,2],[3,0,2]]"
   ]
  },
  {
   "cell_type": "code",
   "execution_count": 243,
   "metadata": {},
   "outputs": [],
   "source": [
    "def predict_sequence(possible_items, coordinates, c, k, start_coords, dimensions=3):\n",
    "    prediction = []\n",
    "    possible_items = dict.fromkeys(objects, 0) # generate dict from object list\n",
    "    coord_index = 0\n",
    "    \n",
    "    if dimensions == 3:\n",
    "        coords = coordinates\n",
    "    elif dimensions == 2:\n",
    "        coords = {key: value[:-1] for key, value in coordinates.items()}\n",
    "        for x in start_coords:\n",
    "            del x[-1]    \n",
    "    elif dimensions == 1:\n",
    "        coords = {key: value[:-2] for key, value in coordinates.items()}\n",
    "        for x in start_coords:\n",
    "            del x[-2]\n",
    "    \n",
    "    while bool(possible_items) == True: # while dict not empty\n",
    "        for obj in possible_items.keys():\n",
    "            possible_items[obj] = ((distance.euclidean(\n",
    "                                start_coords[coord_index], \n",
    "                                coords[obj])\n",
    "                                ) ** k[obj]) * c[obj]\n",
    "                              \n",
    "        minval = min(possible_items.values())\n",
    "        minval = [k for k, v in possible_items.items() if v == minval]\n",
    "        minval = random.choice(minval) # choose prediction randomly if multiple items have same cost\n",
    "        prediction.append(minval)\n",
    "        del possible_items[minval]\n",
    "        coord_index += 1\n",
    "        \n",
    "    return prediction"
   ]
  },
  {
   "cell_type": "code",
   "execution_count": null,
   "metadata": {},
   "outputs": [],
   "source": []
  },
  {
   "cell_type": "code",
   "execution_count": 247,
   "metadata": {},
   "outputs": [
    {
     "data": {
      "text/plain": [
       "['s', 'p', 'm']"
      ]
     },
     "execution_count": 247,
     "metadata": {},
     "output_type": "execute_result"
    }
   ],
   "source": [
    "predict_sequence(objects,coordinates, c1, k0, start_coordinates, dimensions=3)"
   ]
  },
  {
   "cell_type": "code",
   "execution_count": null,
   "metadata": {},
   "outputs": [],
   "source": []
  },
  {
   "cell_type": "code",
   "execution_count": null,
   "metadata": {},
   "outputs": [],
   "source": []
  },
  {
   "cell_type": "code",
   "execution_count": null,
   "metadata": {},
   "outputs": [],
   "source": []
  },
  {
   "cell_type": "code",
   "execution_count": null,
   "metadata": {},
   "outputs": [],
   "source": []
  },
  {
   "cell_type": "code",
   "execution_count": null,
   "metadata": {},
   "outputs": [],
   "source": []
  }
 ],
 "metadata": {
  "kernelspec": {
   "display_name": "Python 3",
   "language": "python",
   "name": "python3"
  },
  "language_info": {
   "codemirror_mode": {
    "name": "ipython",
    "version": 3
   },
   "file_extension": ".py",
   "mimetype": "text/x-python",
   "name": "python",
   "nbconvert_exporter": "python",
   "pygments_lexer": "ipython3",
   "version": "3.7.3"
  }
 },
 "nbformat": 4,
 "nbformat_minor": 2
}
