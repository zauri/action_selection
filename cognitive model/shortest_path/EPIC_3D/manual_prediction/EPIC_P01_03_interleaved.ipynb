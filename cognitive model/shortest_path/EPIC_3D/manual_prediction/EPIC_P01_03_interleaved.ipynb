{
 "cells": [
  {
   "cell_type": "code",
   "execution_count": 1,
   "metadata": {},
   "outputs": [],
   "source": [
    "import pandas as pd\n",
    "import numpy as np\n",
    "import itertools\n",
    "from scipy.spatial import distance\n",
    "\n",
    "pd.set_option('display.max_rows', 500)"
   ]
  },
  {
   "cell_type": "markdown",
   "metadata": {},
   "source": [
    "### Create inputs"
   ]
  },
  {
   "cell_type": "markdown",
   "metadata": {},
   "source": [
    "### Populate dataframe"
   ]
  },
  {
   "cell_type": "code",
   "execution_count": 2,
   "metadata": {},
   "outputs": [],
   "source": [
    "def fill_dataframe(objects, objects_at_once=2):\n",
    "    df = pd.DataFrame(columns=['from_node', 'to_node', 'obj_at_once', 'dist', 'weight_new'])\n",
    "    # Generate list of combinations w/o duplicates\n",
    "    nodes = list(itertools.chain(*[itertools.combinations(objects, i+1) for i in range(len(objects))]))\n",
    "    nodes = [''.join(node) for node in nodes]\n",
    "    \n",
    "    node_list = []\n",
    "    for x in range(0, len(nodes)):\n",
    "        if len(nodes[x]) <= 2:\n",
    "            df.loc[x, 'from_node'] = 'z'\n",
    "            df.loc[x, 'to_node'] = nodes[x]\n",
    "            df.loc[x, 'obj_at_once'] = len(nodes[x])\n",
    "    \n",
    "        for y in range(x, len(nodes)):\n",
    "            if 1 <= (len(nodes[y]) - len(nodes[x])) <= 2:\n",
    "                if all(x in nodes[y] for x in nodes[x]):\n",
    "                    node_list.append((nodes[y], nodes[x]))\n",
    "    \n",
    "    for tup in node_list:\n",
    "        df = df.append({'from_node': tup[1], 'to_node': tup[0], 'obj_at_once': len(tup[0]) - len(tup[1])}, ignore_index=True)\n",
    "    \n",
    "    # No constraints for how many objects at once\n",
    "    if objects_at_once == 2:\n",
    "        df = df\n",
    "    elif objects_at_once == 1:\n",
    "        # Add constraint: Only 1 object at once\n",
    "        df = df.loc[df['obj_at_once'] == 1]\n",
    "\n",
    "    # Reset index\n",
    "    df = df.reset_index(drop=True)\n",
    "    \n",
    "    return df"
   ]
  },
  {
   "cell_type": "markdown",
   "metadata": {},
   "source": [
    "### Calculate distances"
   ]
  },
  {
   "cell_type": "code",
   "execution_count": 3,
   "metadata": {},
   "outputs": [],
   "source": [
    "def calculate_distances(data):\n",
    "    for row in range(0, len(data)):\n",
    "        # Distance = start -> obj 1 -> table\n",
    "        if data['from_node'][row] == 'z' and len(data['to_node'][row]) == 1:\n",
    "            data.loc[row, 'dist'] = (distance.euclidean(\n",
    "                        coordinates['start'], \n",
    "                        coordinates[data['to_node'][row]]) +\n",
    "                    distance.euclidean(\n",
    "                        coordinates[data['to_node'][row]], \n",
    "                        coordinates['table'])\n",
    "                    )\n",
    "    \n",
    "        # Distance = start -> obj 1 -> obj 2 -> table\n",
    "        elif data['from_node'][row] == 'z' and len(data['to_node'][row]) != 1:\n",
    "            data.loc[row, 'dist'] = (distance.euclidean(\n",
    "                        coordinates['start'], \n",
    "                        coordinates[data['to_node'][row][0]]) +\n",
    "                    distance.euclidean(\n",
    "                        coordinates[data['to_node'][row][0]], \n",
    "                        coordinates[data['to_node'][row][1]]) +\n",
    "                    distance.euclidean(\n",
    "                        coordinates[data['to_node'][row][1]], \n",
    "                        coordinates['table'])\n",
    "                    )\n",
    "    # Distance = table -> obj 1 -> (obj 2) -> table\n",
    "        else:\n",
    "            # Get difference between sequences (from_node, to_node)\n",
    "            diff = [x for x in data['to_node'][row] if x not in data['from_node'][row]]\n",
    "        \n",
    "            if len(diff) == 1:\n",
    "                data.loc[row, 'dist'] = distance.euclidean(\n",
    "                        coordinates['table'], \n",
    "                        coordinates[diff[0]]) * 2\n",
    "        \n",
    "            elif len(diff) == 2:\n",
    "                data.loc[row, 'dist'] = (distance.euclidean(\n",
    "                        coordinates['table'], \n",
    "                        coordinates[diff[0]]) +\n",
    "                    distance.euclidean(\n",
    "                        coordinates[diff[0]], \n",
    "                        coordinates[diff[1]]) +\n",
    "                    distance.euclidean(\n",
    "                        coordinates[diff[1]], \n",
    "                        coordinates['table'])\n",
    "                    )\n",
    "    return data"
   ]
  },
  {
   "cell_type": "code",
   "execution_count": 4,
   "metadata": {},
   "outputs": [],
   "source": [
    "def calculate_edge_weights_params(data, objects, c, k):\n",
    "    # Reset weights according to weight parameters\n",
    "    for row in range(0, len(data)):\n",
    "        diff = [x for x in data['to_node'][row] if x not in data['from_node'][row]]\n",
    "        \n",
    "        for obj in objects:\n",
    "            if len(diff) == 1 and obj in diff:\n",
    "                data.loc[row, 'weight_new'] = (data['dist'][row] ** k[diff[0]]) * c[diff[0]]\n",
    "                \n",
    "            elif len(diff) == 2 and obj in diff:\n",
    "                data.loc[row, 'weight_new'] = (data['dist'][row] ** k[diff[0]]) * c[diff[0]]\n",
    "                data.loc[row, 'weight_new'] = (data['weight_new'][row] ** k[diff[1]]) * c[diff[1]]\n",
    "                \n",
    "    return data"
   ]
  },
  {
   "cell_type": "code",
   "execution_count": 32,
   "metadata": {},
   "outputs": [],
   "source": [
    "objects = ['r', 'h', 'c', 's', 'e']\n",
    "\n",
    "coordinates = {'r': (0,5,2),\n",
    "              'h': (4,4,1),\n",
    "              'c': (2,0,0),\n",
    "               's': (4,3,2),\n",
    "               'e': (4,1,1),\n",
    "              'start': (4,5,2),\n",
    "              'table': (2,2,2)}\n",
    "\n",
    "c1 = {'r': 1.2,\n",
    "    'h': 1.0,\n",
    "    'c': 1.2,\n",
    "    's': 1.2,\n",
    "    'e': 1.2}\n",
    "\n",
    "k1 = {'r': 1.0,\n",
    "    'h': 0.9,\n",
    "    'c': 0.95,\n",
    "    's': 1.0,\n",
    "    'e': 1.0}\n",
    "\n",
    "c0 = {'r': 1.0,\n",
    "    'h': 1.0,\n",
    "    'c': 1.0,\n",
    "    's': 1.0,\n",
    "    'e': 1.0}\n",
    "\n",
    "k0 = {'r': 1.0,\n",
    "    'h': 1.0,\n",
    "    'c': 1.0,\n",
    "    's': 1.0,\n",
    "    'e': 1.0}"
   ]
  },
  {
   "cell_type": "code",
   "execution_count": null,
   "metadata": {},
   "outputs": [],
   "source": []
  },
  {
   "cell_type": "code",
   "execution_count": 50,
   "metadata": {},
   "outputs": [],
   "source": [
    "def get_first(data, objects):\n",
    "    possible_items = {}\n",
    "    \n",
    "    for row in range(0, len(data)):\n",
    "        for obj in objects:\n",
    "            if data.loc[row, 'to_node'] == obj:\n",
    "                possible_items[obj] = data.loc[row, 'weight_new']\n",
    "                \n",
    "    minval = min(possible_items.values())\n",
    "    list_minval = [k for k, v in possible_items.items() if v==minval]\n",
    "    \n",
    "    return possible_items, list_minval\n",
    "                \n"
   ]
  },
  {
   "cell_type": "code",
   "execution_count": 62,
   "metadata": {},
   "outputs": [
    {
     "data": {
      "text/plain": [
       "({'r': 7.60555127546399,\n",
       "  'h': 3.805116926956346,\n",
       "  'c': 7.699733437364017,\n",
       "  's': 4.23606797749979,\n",
       "  'e': 6.5725953684008385},\n",
       " ['h'])"
      ]
     },
     "execution_count": 62,
     "metadata": {},
     "output_type": "execute_result"
    }
   ],
   "source": [
    "data2 = fill_dataframe(objects, objects_at_once=1)\n",
    "data2 = calculate_distances(data2)\n",
    "##\n",
    "data2 = calculate_edge_weights_params(data2, objects, c0, k1)\n",
    "##\n",
    "get_first(data2, objects)"
   ]
  },
  {
   "cell_type": "code",
   "execution_count": 33,
   "metadata": {},
   "outputs": [],
   "source": [
    "# starting points after action x\n",
    "start0 = (4,5,2)\n",
    "start1 = (2,2,2)\n",
    "start2 = (2,2,2)\n",
    "start3 = (0,5,2)\n",
    "start4 = (2,2,2)"
   ]
  },
  {
   "cell_type": "code",
   "execution_count": 11,
   "metadata": {},
   "outputs": [],
   "source": [
    "def get_next(possible_items, coordinates, c, k, start_coord):\n",
    "    dist_items = {}\n",
    "    \n",
    "    for obj in possible_items:\n",
    "        dist_items[obj] = ((distance.euclidean(\n",
    "                        start_coord, \n",
    "                        coordinates[obj]) +\n",
    "                    distance.euclidean(\n",
    "                        coordinates[obj], \n",
    "                        coordinates['table'])\n",
    "                    ) ** k[obj]) * c[obj]\n",
    "        \n",
    "    minval = min(dist_items.values())\n",
    "    list_minval = [k for k, v in dist_items.items() if v==minval]\n",
    "        \n",
    "    return dist_items, list_minval\n",
    "    "
   ]
  },
  {
   "cell_type": "code",
   "execution_count": 63,
   "metadata": {},
   "outputs": [
    {
     "data": {
      "text/plain": [
       "({'r': 7.211102550927978,\n",
       "  'c': 5.187358218604039,\n",
       "  's': 4.47213595499958,\n",
       "  'e': 4.898979485566356},\n",
       " ['s'])"
      ]
     },
     "execution_count": 63,
     "metadata": {},
     "output_type": "execute_result"
    }
   ],
   "source": [
    "items = ['r', 'c', 's', 'e']\n",
    "start_coord = start1\n",
    "\n",
    "get_next(items, coordinates, c0, k1, start_coord)"
   ]
  },
  {
   "cell_type": "code",
   "execution_count": 64,
   "metadata": {},
   "outputs": [
    {
     "data": {
      "text/plain": [
       "({'r': 7.211102550927978, 'c': 5.187358218604039, 'e': 4.898979485566356},\n",
       " ['e'])"
      ]
     },
     "execution_count": 64,
     "metadata": {},
     "output_type": "execute_result"
    }
   ],
   "source": [
    "items = ['r', 'c', 'e']\n",
    "start_coord = start2\n",
    "\n",
    "get_next(items, coordinates, c0, k1, start_coord)"
   ]
  },
  {
   "cell_type": "code",
   "execution_count": 65,
   "metadata": {},
   "outputs": [
    {
     "data": {
      "text/plain": [
       "({'r': 3.605551275463989, 'c': 7.699733437364017}, ['r'])"
      ]
     },
     "execution_count": 65,
     "metadata": {},
     "output_type": "execute_result"
    }
   ],
   "source": [
    "items = ['r', 'c']\n",
    "start_coord = start3\n",
    "\n",
    "get_next(items, coordinates, c0, k1, start_coord)"
   ]
  },
  {
   "cell_type": "code",
   "execution_count": null,
   "metadata": {},
   "outputs": [],
   "source": []
  }
 ],
 "metadata": {
  "kernelspec": {
   "display_name": "Python 3",
   "language": "python",
   "name": "python3"
  },
  "language_info": {
   "codemirror_mode": {
    "name": "ipython",
    "version": 3
   },
   "file_extension": ".py",
   "mimetype": "text/x-python",
   "name": "python",
   "nbconvert_exporter": "python",
   "pygments_lexer": "ipython3",
   "version": "3.7.3"
  }
 },
 "nbformat": 4,
 "nbformat_minor": 2
}
