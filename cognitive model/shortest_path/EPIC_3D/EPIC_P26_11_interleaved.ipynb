{
 "cells": [
  {
   "cell_type": "code",
   "execution_count": 4,
   "metadata": {},
   "outputs": [],
   "source": [
    "import pandas as pd\n",
    "import numpy as np\n",
    "import itertools\n",
    "from scipy.spatial import distance\n",
    "\n",
    "pd.set_option('display.max_rows', 500)"
   ]
  },
  {
   "cell_type": "markdown",
   "metadata": {},
   "source": [
    "### Create inputs"
   ]
  },
  {
   "cell_type": "markdown",
   "metadata": {},
   "source": [
    "### Populate dataframe"
   ]
  },
  {
   "cell_type": "code",
   "execution_count": 5,
   "metadata": {},
   "outputs": [],
   "source": [
    "def fill_dataframe(objects, objects_at_once=2):\n",
    "    df = pd.DataFrame(columns=['from_node', 'to_node', 'obj_at_once', 'dist', 'weight_new'])\n",
    "    # Generate list of combinations w/o duplicates\n",
    "    nodes = list(itertools.chain(*[itertools.combinations(objects, i+1) for i in range(len(objects))]))\n",
    "    nodes = [''.join(node) for node in nodes]\n",
    "    \n",
    "    node_list = []\n",
    "    for x in range(0, len(nodes)):\n",
    "        if len(nodes[x]) <= 2:\n",
    "            df.loc[x, 'from_node'] = 'z'\n",
    "            df.loc[x, 'to_node'] = nodes[x]\n",
    "            df.loc[x, 'obj_at_once'] = len(nodes[x])\n",
    "    \n",
    "        for y in range(x, len(nodes)):\n",
    "            if 1 <= (len(nodes[y]) - len(nodes[x])) <= 2:\n",
    "                if all(x in nodes[y] for x in nodes[x]):\n",
    "                    node_list.append((nodes[y], nodes[x]))\n",
    "    \n",
    "    for tup in node_list:\n",
    "        df = df.append({'from_node': tup[1], 'to_node': tup[0], 'obj_at_once': len(tup[0]) - len(tup[1])}, ignore_index=True)\n",
    "    \n",
    "    # No constraints for how many objects at once\n",
    "    if objects_at_once == 2:\n",
    "        df = df\n",
    "    elif objects_at_once == 1:\n",
    "        # Add constraint: Only 1 object at once\n",
    "        df = df.loc[df['obj_at_once'] == 1]\n",
    "\n",
    "    # Reset index\n",
    "    df = df.reset_index(drop=True)\n",
    "    \n",
    "    return df"
   ]
  },
  {
   "cell_type": "markdown",
   "metadata": {},
   "source": [
    "### Calculate distances"
   ]
  },
  {
   "cell_type": "code",
   "execution_count": 6,
   "metadata": {},
   "outputs": [],
   "source": [
    "def calculate_distances(data):\n",
    "    for row in range(0, len(data)):\n",
    "        # Distance = start -> obj 1 -> table\n",
    "        if data['from_node'][row] == 'z' and len(data['to_node'][row]) == 1:\n",
    "            data.loc[row, 'dist'] = (distance.euclidean(\n",
    "                        coordinates['start'], \n",
    "                        coordinates[data['to_node'][row]]) +\n",
    "                    distance.euclidean(\n",
    "                        coordinates[data['to_node'][row]], \n",
    "                        coordinates['table'])\n",
    "                    )\n",
    "    \n",
    "        # Distance = start -> obj 1 -> obj 2 -> table\n",
    "        elif data['from_node'][row] == 'z' and len(data['to_node'][row]) != 1:\n",
    "            data.loc[row, 'dist'] = (distance.euclidean(\n",
    "                        coordinates['start'], \n",
    "                        coordinates[data['to_node'][row][0]]) +\n",
    "                    distance.euclidean(\n",
    "                        coordinates[data['to_node'][row][0]], \n",
    "                        coordinates[data['to_node'][row][1]]) +\n",
    "                    distance.euclidean(\n",
    "                        coordinates[data['to_node'][row][1]], \n",
    "                        coordinates['table'])\n",
    "                    )\n",
    "    # Distance = table -> obj 1 -> (obj 2) -> table\n",
    "        else:\n",
    "            # Get difference between sequences (from_node, to_node)\n",
    "            diff = [x for x in data['to_node'][row] if x not in data['from_node'][row]]\n",
    "        \n",
    "            if len(diff) == 1:\n",
    "                data.loc[row, 'dist'] = distance.euclidean(\n",
    "                        coordinates['table'], \n",
    "                        coordinates[diff[0]]) * 2\n",
    "        \n",
    "            elif len(diff) == 2:\n",
    "                data.loc[row, 'dist'] = (distance.euclidean(\n",
    "                        coordinates['table'], \n",
    "                        coordinates[diff[0]]) +\n",
    "                    distance.euclidean(\n",
    "                        coordinates[diff[0]], \n",
    "                        coordinates[diff[1]]) +\n",
    "                    distance.euclidean(\n",
    "                        coordinates[diff[1]], \n",
    "                        coordinates['table'])\n",
    "                    )\n",
    "    return data"
   ]
  },
  {
   "cell_type": "code",
   "execution_count": 7,
   "metadata": {},
   "outputs": [],
   "source": [
    "def calculate_edge_weights_params(data, objects, c, k):\n",
    "    # Reset weights according to weight parameters\n",
    "    for row in range(0, len(data)):\n",
    "        diff = [x for x in data['to_node'][row] if x not in data['from_node'][row]]\n",
    "        \n",
    "        for obj in objects:\n",
    "            if len(diff) == 1 and obj in diff:\n",
    "                data.loc[row, 'weight_new'] = (data['dist'][row] ** k[diff[0]]) * c[diff[0]]\n",
    "                \n",
    "            elif len(diff) == 2 and obj in diff:\n",
    "                data.loc[row, 'weight_new'] = (data['dist'][row] ** k[diff[0]]) * c[diff[0]]\n",
    "                data.loc[row, 'weight_new'] = (data['weight_new'][row] ** k[diff[1]]) * c[diff[1]]\n",
    "                \n",
    "    return data"
   ]
  },
  {
   "cell_type": "code",
   "execution_count": 49,
   "metadata": {},
   "outputs": [],
   "source": [
    "data2 = fill_dataframe(objects, objects_at_once=1)\n",
    "data2 = calculate_distances(data2)\n",
    "data2 = calculate_edge_weights_params(data2, objects, c0, k1)\n",
    "#data2"
   ]
  },
  {
   "cell_type": "code",
   "execution_count": 43,
   "metadata": {},
   "outputs": [],
   "source": [
    "objects = ['p', 's', 'g', 'c', 't']\n",
    "\n",
    "coordinates = {'p': (0,1,3),\n",
    "              's': (1,3,2),\n",
    "              'g': (0,1,2.5),\n",
    "               'c': (0,0,1),\n",
    "               't': (1,3,2),\n",
    "              'start': (0,1,0),\n",
    "              'table': (1,2,1)}\n",
    "\n",
    "c1 = {'p': 1.2,\n",
    "    's': 1.2,\n",
    "    'g': 1.2,\n",
    "    'c': 1.2,\n",
    "    't': 1.2}\n",
    "\n",
    "k1 = {'p': 0.85,\n",
    "    's': 1.0,\n",
    "    'g': 1.0,\n",
    "    'c': 1.0,\n",
    "    't': 1.0}\n",
    "\n",
    "c0 = {'p': 1.0,\n",
    "    's': 1.0,\n",
    "    'g': 1.0,\n",
    "    'c': 1.0,\n",
    "    't': 1.0}\n",
    "\n",
    "k0 = {'p': 1.0,\n",
    "    's': 1.0,\n",
    "    'g': 1.0,\n",
    "    'c': 1.0,\n",
    "    't': 1.0}"
   ]
  },
  {
   "cell_type": "code",
   "execution_count": 44,
   "metadata": {},
   "outputs": [],
   "source": [
    "def get_first(data, objects, c, k):\n",
    "    possible_items = {}\n",
    "    \n",
    "    for row in range(0, len(data)):\n",
    "        for obj in objects:\n",
    "            if data.loc[row, 'to_node'] == obj:\n",
    "                possible_items[obj] = data.loc[row, 'weight_new']\n",
    "                \n",
    "    minval = min(possible_items.values())\n",
    "    list_minval = [k for k, v in possible_items.items() if v==minval]\n",
    "    \n",
    "    return possible_items, list_minval\n",
    "                \n"
   ]
  },
  {
   "cell_type": "code",
   "execution_count": 50,
   "metadata": {},
   "outputs": [
    {
     "data": {
      "text/plain": [
       "({'p': 4.225736994848842,\n",
       "  's': 4.414213562373095,\n",
       "  'g': 4.561552812808831,\n",
       "  'c': 3.6502815398728847,\n",
       "  't': 4.414213562373095},\n",
       " ['c'])"
      ]
     },
     "execution_count": 50,
     "metadata": {},
     "output_type": "execute_result"
    }
   ],
   "source": [
    "get_first(data2, objects, c0, k1)"
   ]
  },
  {
   "cell_type": "code",
   "execution_count": 39,
   "metadata": {},
   "outputs": [],
   "source": [
    "# starting points after action x\n",
    "# pure table setting, always starts from table (1,2,1)"
   ]
  },
  {
   "cell_type": "code",
   "execution_count": 12,
   "metadata": {},
   "outputs": [],
   "source": [
    "def get_next(possible_items, coordinates, c, k, start_coord):\n",
    "    dist_items = {}\n",
    "    \n",
    "    for obj in possible_items:\n",
    "        dist_items[obj] = ((distance.euclidean(\n",
    "                        start_coord, \n",
    "                        coordinates[obj]) +\n",
    "                    distance.euclidean(\n",
    "                        coordinates[obj], \n",
    "                        coordinates['table'])\n",
    "                    ) ** k[obj]) * c[obj]\n",
    "        \n",
    "    minval = min(dist_items.values())\n",
    "    list_minval = [k for k, v in dist_items.items() if v==minval]\n",
    "        \n",
    "    return dist_items, list_minval\n",
    "    "
   ]
  },
  {
   "cell_type": "code",
   "execution_count": 51,
   "metadata": {},
   "outputs": [
    {
     "data": {
      "text/plain": [
       "({'p': 3.154664684467268,\n",
       "  's': 3.414213562373095,\n",
       "  'g': 3.179586801558725,\n",
       "  't': 3.414213562373095},\n",
       " ['p'])"
      ]
     },
     "execution_count": 51,
     "metadata": {},
     "output_type": "execute_result"
    }
   ],
   "source": [
    "items = ['p', 's', 'g', 't']\n",
    "start_coord = (1,1,2)\n",
    "\n",
    "get_next(items, coordinates, c0, k1, start_coord)"
   ]
  },
  {
   "cell_type": "code",
   "execution_count": 53,
   "metadata": {},
   "outputs": [
    {
     "data": {
      "text/plain": [
       "({'s': 3.414213562373095, 'g': 3.179586801558725, 't': 3.414213562373095},\n",
       " ['g'])"
      ]
     },
     "execution_count": 53,
     "metadata": {},
     "output_type": "execute_result"
    }
   ],
   "source": [
    "items = ['s', 'g', 't']\n",
    "start_coord = (1,1,2)\n",
    "\n",
    "get_next(items, coordinates, c0, k1, start_coord)"
   ]
  },
  {
   "cell_type": "code",
   "execution_count": 54,
   "metadata": {},
   "outputs": [
    {
     "data": {
      "text/plain": [
       "({'s': 3.414213562373095, 't': 3.414213562373095}, ['s', 't'])"
      ]
     },
     "execution_count": 54,
     "metadata": {},
     "output_type": "execute_result"
    }
   ],
   "source": [
    "items = ['s', 't']\n",
    "start_coord = (1,1,2)\n",
    "\n",
    "get_next(items, coordinates, c0, k1, start_coord)"
   ]
  },
  {
   "cell_type": "code",
   "execution_count": null,
   "metadata": {},
   "outputs": [],
   "source": []
  },
  {
   "cell_type": "code",
   "execution_count": null,
   "metadata": {},
   "outputs": [],
   "source": []
  }
 ],
 "metadata": {
  "kernelspec": {
   "display_name": "Python 3",
   "language": "python",
   "name": "python3"
  },
  "language_info": {
   "codemirror_mode": {
    "name": "ipython",
    "version": 3
   },
   "file_extension": ".py",
   "mimetype": "text/x-python",
   "name": "python",
   "nbconvert_exporter": "python",
   "pygments_lexer": "ipython3",
   "version": "3.7.3"
  }
 },
 "nbformat": 4,
 "nbformat_minor": 2
}
