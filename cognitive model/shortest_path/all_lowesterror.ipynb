{
 "cells": [
  {
   "cell_type": "code",
   "execution_count": 160,
   "metadata": {},
   "outputs": [],
   "source": [
    "import pandas as pd\n",
    "import numpy as np\n",
    "import itertools\n",
    "import random\n",
    "import ast\n",
    "from scipy.spatial import distance\n",
    "from pyxdameraulevenshtein import damerau_levenshtein_distance\n",
    "\n",
    "pd.set_option('display.max_rows', 500)"
   ]
  },
  {
   "cell_type": "code",
   "execution_count": 162,
   "metadata": {},
   "outputs": [
    {
     "data": {
      "text/html": [
       "<div>\n",
       "<style scoped>\n",
       "    .dataframe tbody tr th:only-of-type {\n",
       "        vertical-align: middle;\n",
       "    }\n",
       "\n",
       "    .dataframe tbody tr th {\n",
       "        vertical-align: top;\n",
       "    }\n",
       "\n",
       "    .dataframe thead th {\n",
       "        text-align: right;\n",
       "    }\n",
       "</style>\n",
       "<table border=\"1\" class=\"dataframe\">\n",
       "  <thead>\n",
       "    <tr style=\"text-align: right;\">\n",
       "      <th></th>\n",
       "      <th>ID</th>\n",
       "      <th>sequence</th>\n",
       "      <th>objects</th>\n",
       "      <th>coordinates</th>\n",
       "      <th>start_coordinates</th>\n",
       "      <th>strong_k</th>\n",
       "      <th>mid_k</th>\n",
       "      <th>no_k</th>\n",
       "      <th>containment</th>\n",
       "    </tr>\n",
       "  </thead>\n",
       "  <tbody>\n",
       "    <tr>\n",
       "      <td>0</td>\n",
       "      <td>T3</td>\n",
       "      <td>tn,pc,s</td>\n",
       "      <td>t,n,s,p,c</td>\n",
       "      <td>c: (1,4,4);n: (1,1,2);p: (1,4,4);s: (1,1,2);t:...</td>\n",
       "      <td>[2,1,2],[4,3,2],[4,3,2]</td>\n",
       "      <td>t</td>\n",
       "      <td>p,n</td>\n",
       "      <td>s,c</td>\n",
       "      <td>p,c,s</td>\n",
       "    </tr>\n",
       "    <tr>\n",
       "      <td>1</td>\n",
       "      <td>T1</td>\n",
       "      <td>tnpsc</td>\n",
       "      <td>t,n,s,p,c</td>\n",
       "      <td>c: (1,4,4);n: (1,1,2);p: (1,4,4);s: (1,1,2);t:...</td>\n",
       "      <td>[2,1,2];[4,3,2];[4,3,2]</td>\n",
       "      <td>t</td>\n",
       "      <td>p,n</td>\n",
       "      <td>s,c</td>\n",
       "      <td>p,c,s</td>\n",
       "    </tr>\n",
       "    <tr>\n",
       "      <td>2</td>\n",
       "      <td>T14</td>\n",
       "      <td>tnpcs</td>\n",
       "      <td>t,n,s,p,c</td>\n",
       "      <td>c: (1,4,4);n: (1,1,2);p: (1,4,4);s: (1,1,2);t:...</td>\n",
       "      <td>[2,1,2];[4,3,2];[4,3,2]</td>\n",
       "      <td>t</td>\n",
       "      <td>p,n</td>\n",
       "      <td>s,c</td>\n",
       "      <td>p,c,s</td>\n",
       "    </tr>\n",
       "    <tr>\n",
       "      <td>3</td>\n",
       "      <td>T16</td>\n",
       "      <td>tnpsc</td>\n",
       "      <td>t,n,s,p,c</td>\n",
       "      <td>c: (1,4,4);n: (1,1,2);p: (1,4,4);s: (1,1,2);t:...</td>\n",
       "      <td>[2,1,2];[4,3,2];[4,3,2]</td>\n",
       "      <td>t</td>\n",
       "      <td>p,n</td>\n",
       "      <td>s,c</td>\n",
       "      <td>p,c,s</td>\n",
       "    </tr>\n",
       "    <tr>\n",
       "      <td>4</td>\n",
       "      <td>T18</td>\n",
       "      <td>tnspc</td>\n",
       "      <td>t,n,s,p,c</td>\n",
       "      <td>c: (1,4,4);n: (1,1,2);p: (1,4,4);s: (1,1,2);t:...</td>\n",
       "      <td>[2,1,2];[4,3,2];[4,3,2]</td>\n",
       "      <td>t</td>\n",
       "      <td>p,n</td>\n",
       "      <td>s,c</td>\n",
       "      <td>p,c,s</td>\n",
       "    </tr>\n",
       "  </tbody>\n",
       "</table>\n",
       "</div>"
      ],
      "text/plain": [
       "    ID sequence    objects                                        coordinates  \\\n",
       "0   T3  tn,pc,s  t,n,s,p,c  c: (1,4,4);n: (1,1,2);p: (1,4,4);s: (1,1,2);t:...   \n",
       "1   T1    tnpsc  t,n,s,p,c  c: (1,4,4);n: (1,1,2);p: (1,4,4);s: (1,1,2);t:...   \n",
       "2  T14    tnpcs  t,n,s,p,c  c: (1,4,4);n: (1,1,2);p: (1,4,4);s: (1,1,2);t:...   \n",
       "3  T16    tnpsc  t,n,s,p,c  c: (1,4,4);n: (1,1,2);p: (1,4,4);s: (1,1,2);t:...   \n",
       "4  T18    tnspc  t,n,s,p,c  c: (1,4,4);n: (1,1,2);p: (1,4,4);s: (1,1,2);t:...   \n",
       "\n",
       "         start_coordinates strong_k mid_k no_k containment  \n",
       "0  [2,1,2],[4,3,2],[4,3,2]        t   p,n  s,c       p,c,s  \n",
       "1  [2,1,2];[4,3,2];[4,3,2]        t   p,n  s,c       p,c,s  \n",
       "2  [2,1,2];[4,3,2];[4,3,2]        t   p,n  s,c       p,c,s  \n",
       "3  [2,1,2];[4,3,2];[4,3,2]        t   p,n  s,c       p,c,s  \n",
       "4  [2,1,2];[4,3,2];[4,3,2]        t   p,n  s,c       p,c,s  "
      ]
     },
     "execution_count": 162,
     "metadata": {},
     "output_type": "execute_result"
    }
   ],
   "source": [
    "df = pd.read_csv('all_task_environments.csv', header=0)\n",
    "df.head()"
   ]
  },
  {
   "cell_type": "code",
   "execution_count": 17,
   "metadata": {},
   "outputs": [],
   "source": []
  },
  {
   "cell_type": "code",
   "execution_count": 170,
   "metadata": {},
   "outputs": [],
   "source": [
    "def find_best_fit(data):\n",
    "\n",
    "    results = pd.DataFrame(index=df.index)\n",
    "    dimensions = [[1,'x'],[1,'y'],[1,'z'],[2,'xy'],[2,'xz'],[2,'yz'],[3,'xyz']]\n",
    "\n",
    "    for k in range(0,1,0.1):\n",
    "        k1 = dict()\n",
    "        for c in range(1,2,0.1):\n",
    "            c1 = dict()\n",
    "            for dim in dimensions:\n",
    "                for row in range(0, len(df)):\n",
    "                    objects = list(df.at[row,'objects'].split(','))\n",
    "                    coordinates = {key: value for key, value in (elem.split(': ') for elem in df.at[row,'coordinates'].split(';'))}\n",
    "                    start_coordinates = list(ast.literal_eval(df.at[row, 'start_coordinates']))\n",
    "                    sequence = df.at[row,'sequence']\n",
    "                    \n",
    "                    #for obj in objects:\n",
    "                    c1 = {obj: c if obj in df.at[0, 'containment'] else 1.0 for obj in objects}\n",
    "                \n",
    "                    edit_dist = get_average(objects, coordinates, start_coordinates, c1, k1, dim, sequence)\n",
    "\n",
    "#TODO:\n",
    "# fix input! (better data format?)\n",
    "# how to define k?\n",
    "            "
   ]
  },
  {
   "cell_type": "code",
   "execution_count": 20,
   "metadata": {},
   "outputs": [],
   "source": [
    "def predict_sequence(possible_items, coordinates, c, k, start_coordinates, dimension=[3,]):\n",
    "    prediction = []\n",
    "    possible_items = dict.fromkeys(objects, 0) # generate dict from object list\n",
    "    coord_index = 0\n",
    "    start_coords = start_coordinates\n",
    "    coords = coordinates\n",
    "    \n",
    "    if dimension[0] == 3: # no changes if 3D\n",
    "        pass\n",
    "        \n",
    "    elif dimension[0] == 2: # 2D: remove obsolete coordinate\n",
    "        if dimension[1] == 'xy':\n",
    "            coords = {key: value[:-1] for key, value in coords.items()}\n",
    "            start_coords = [x[:-1] for x in start_coords]\n",
    "                \n",
    "        elif dimension[1] == 'xz':\n",
    "            #coords = {key: value for key, value in coords.items()}\n",
    "            for key, value in coords.items():\n",
    "                new_value = (value[0], value[-1])\n",
    "                coords[key] = new_value\n",
    "\n",
    "            for x in range (0, len(start_coords)):\n",
    "                start_coords[x] = [start_coords[x][0], start_coords[x][-1]]\n",
    "        \n",
    "        elif dimension[1] == 'yz':\n",
    "            coords = {key: value[1:] for key, value in coords.items()}\n",
    "            start_coords = [x[1:] for x in start_coords]\n",
    "                \n",
    "    elif dimension[0] == 1: # 1D: choose appropriate coordinate\n",
    "        if dimension[1] == 'x':\n",
    "            coords = {key: value[0] for key, value in coords.items()}\n",
    "            start_coords = [x[0] for x in start_coords]\n",
    "        \n",
    "        elif dimension[1] == 'y':\n",
    "            coords = {key: value[1] for key, value in coords.items()}\n",
    "            start_coords = [x[1] for x in start_coords]\n",
    "        \n",
    "        elif dimension[1] == 'z':\n",
    "            coords = {key: value[2] for key, value in coords.items()}\n",
    "            start_coords = [x[2] for x in start_coords]\n",
    "    \n",
    "    while bool(possible_items) == True: # while dict not empty\n",
    "        for obj in possible_items.keys():\n",
    "            possible_items[obj] = ((distance.euclidean(\n",
    "                                start_coords[coord_index], \n",
    "                                coords[obj])\n",
    "                                ) ** k[obj]) * c[obj]\n",
    "        #print(possible_items)                      \n",
    "        minval = min(possible_items.values())\n",
    "        minval = [k for k, v in possible_items.items() if v == minval]\n",
    "        minval = random.choice(minval) # choose prediction randomly if multiple items have same cost\n",
    "        prediction.append(minval)\n",
    "        del possible_items[minval]\n",
    "        coord_index += 1\n",
    "        \n",
    "    return prediction"
   ]
  },
  {
   "cell_type": "code",
   "execution_count": 29,
   "metadata": {},
   "outputs": [
    {
     "data": {
      "text/plain": [
       "['a', 'b', 'c']"
      ]
     },
     "execution_count": 29,
     "metadata": {},
     "output_type": "execute_result"
    }
   ],
   "source": [
    "#predict_sequence(objects,coordinates, c0, k0, start_coordinates, dimensions=[2,'xy'])"
   ]
  },
  {
   "cell_type": "code",
   "execution_count": 145,
   "metadata": {},
   "outputs": [],
   "source": [
    "def get_average(objects, coordinates, start_coordinates, c, k, dimension, sequence):\n",
    "\n",
    "    edit_list = []\n",
    "\n",
    "    for x in range(0,1000):\n",
    "        result = ''.join(predict_sequence(objects, coordinates, c, k, start_coordinates, dimension))\n",
    "        #print(result)\n",
    "        dl = damerau_levenshtein_distance(sequence,result)\n",
    "        edit_list.append(dl)\n",
    "    \n",
    "    avg = np.mean(edit_list)\n",
    "    return avg"
   ]
  },
  {
   "cell_type": "code",
   "execution_count": null,
   "metadata": {},
   "outputs": [],
   "source": []
  },
  {
   "cell_type": "code",
   "execution_count": 129,
   "metadata": {},
   "outputs": [
    {
     "data": {
      "text/plain": [
       "['t', 'n', 's', 'p', 'c']"
      ]
     },
     "execution_count": 129,
     "metadata": {},
     "output_type": "execute_result"
    }
   ],
   "source": [
    "# test format of objects\n",
    "objects = list(df.at[0,'objects'].split(','))\n",
    "objects"
   ]
  },
  {
   "cell_type": "code",
   "execution_count": 126,
   "metadata": {},
   "outputs": [
    {
     "data": {
      "text/plain": [
       "{'t': 1.0, 'n': 1.0, 's': 1.4, 'p': 1.4, 'c': 1.4}"
      ]
     },
     "execution_count": 126,
     "metadata": {},
     "output_type": "execute_result"
    }
   ],
   "source": [
    "# test assignment of c1\n",
    "c = 1.4\n",
    "c4 = {obj: c if obj in df.at[0, 'containment'] else 1.0 for obj in objects}\n",
    "c4"
   ]
  },
  {
   "cell_type": "code",
   "execution_count": null,
   "metadata": {},
   "outputs": [],
   "source": []
  },
  {
   "cell_type": "code",
   "execution_count": 133,
   "metadata": {},
   "outputs": [
    {
     "data": {
      "text/plain": [
       "{'c': '(1,4,4)',\n",
       " 'n': '(1,1,2)',\n",
       " 'p': '(1,4,4)',\n",
       " 's': '(1,1,2)',\n",
       " 't': '(1,1,2)',\n",
       " 'start': '(2,1,2)',\n",
       " 'table': '(4,3,2)'}"
      ]
     },
     "execution_count": 133,
     "metadata": {},
     "output_type": "execute_result"
    }
   ],
   "source": [
    "# test format of dict\n",
    "coords = df.at[0,'coordinates']\n",
    "d = {key: value for key, value in (elem.split(': ') for elem in coords.split(';'))}\n",
    "d"
   ]
  },
  {
   "cell_type": "code",
   "execution_count": 172,
   "metadata": {},
   "outputs": [
    {
     "data": {
      "text/plain": [
       "[[2, 1, 2], [4, 3, 2], [4, 3, 2]]"
      ]
     },
     "execution_count": 172,
     "metadata": {},
     "output_type": "execute_result"
    }
   ],
   "source": [
    "# test format of start_coordinates\n",
    "x = list(ast.literal_eval(df.at[0,'start_coordinates']))\n",
    "x"
   ]
  },
  {
   "cell_type": "code",
   "execution_count": null,
   "metadata": {},
   "outputs": [],
   "source": []
  },
  {
   "cell_type": "code",
   "execution_count": null,
   "metadata": {},
   "outputs": [],
   "source": []
  },
  {
   "cell_type": "code",
   "execution_count": null,
   "metadata": {},
   "outputs": [],
   "source": []
  },
  {
   "cell_type": "code",
   "execution_count": null,
   "metadata": {},
   "outputs": [],
   "source": []
  }
 ],
 "metadata": {
  "kernelspec": {
   "display_name": "Python 3",
   "language": "python",
   "name": "python3"
  },
  "language_info": {
   "codemirror_mode": {
    "name": "ipython",
    "version": 3
   },
   "file_extension": ".py",
   "mimetype": "text/x-python",
   "name": "python",
   "nbconvert_exporter": "python",
   "pygments_lexer": "ipython3",
   "version": "3.7.4"
  }
 },
 "nbformat": 4,
 "nbformat_minor": 2
}
