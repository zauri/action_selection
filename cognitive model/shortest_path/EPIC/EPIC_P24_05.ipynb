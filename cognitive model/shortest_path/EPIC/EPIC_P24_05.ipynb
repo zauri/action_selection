{
 "cells": [
  {
   "cell_type": "code",
   "execution_count": 5,
   "metadata": {},
   "outputs": [],
   "source": [
    "import pandas as pd\n",
    "import numpy as np\n",
    "import itertools\n",
    "from scipy.spatial import distance"
   ]
  },
  {
   "cell_type": "markdown",
   "metadata": {},
   "source": [
    "### Create inputs"
   ]
  },
  {
   "cell_type": "code",
   "execution_count": 6,
   "metadata": {},
   "outputs": [],
   "source": [
    "objects = ['g', 's', 'w', 'a', 'p']\n",
    "# g = glass, s = silverware (fork + knife), w = water bottle, a = salad, p = plate"
   ]
  },
  {
   "cell_type": "code",
   "execution_count": null,
   "metadata": {},
   "outputs": [],
   "source": []
  },
  {
   "cell_type": "code",
   "execution_count": 7,
   "metadata": {},
   "outputs": [],
   "source": [
    "coordinates = {'g': (0,2),\n",
    "              's': (0,2),\n",
    "              'w': (0,4),\n",
    "              'a': (0,3),\n",
    "               'p': (0,3),\n",
    "              'start': (0,3),\n",
    "              'table': (1,1)}"
   ]
  },
  {
   "cell_type": "markdown",
   "metadata": {},
   "source": [
    "### Populate dataframe"
   ]
  },
  {
   "cell_type": "code",
   "execution_count": 8,
   "metadata": {},
   "outputs": [],
   "source": [
    "def fill_dataframe(objects, objects_at_once=2):\n",
    "    df = pd.DataFrame(columns=['from_node', 'to_node', 'obj_at_once', 'dist', 'weight_new'])\n",
    "    # Generate list of combinations w/o duplicates\n",
    "    nodes = list(itertools.chain(*[itertools.combinations(objects, i+1) for i in range(len(objects))]))\n",
    "    nodes = [''.join(node) for node in nodes]\n",
    "    \n",
    "    node_list = []\n",
    "    for x in range(0, len(nodes)):\n",
    "        if len(nodes[x]) <= 2:\n",
    "            df.loc[x, 'from_node'] = 'table_empty'\n",
    "            df.loc[x, 'to_node'] = nodes[x]\n",
    "            df.loc[x, 'obj_at_once'] = len(nodes[x])\n",
    "    \n",
    "        for y in range(x, len(nodes)):\n",
    "            if 1 <= (len(nodes[y]) - len(nodes[x])) <= 2:\n",
    "                if all(x in nodes[y] for x in nodes[x]):\n",
    "                    node_list.append((nodes[y], nodes[x]))\n",
    "    \n",
    "    for tup in node_list:\n",
    "        df = df.append({'from_node': tup[1], 'to_node': tup[0], 'obj_at_once': len(tup[0]) - len(tup[1])}, ignore_index=True)\n",
    "    \n",
    "    # No constraints for how many objects at once\n",
    "    if objects_at_once == 2:\n",
    "        df = df\n",
    "    elif objects_at_once == 1:\n",
    "        # Add constraint: Only 1 object at once\n",
    "        df = df.loc[df['obj_at_once'] == 1]\n",
    "\n",
    "    # Reset index\n",
    "    df = df.reset_index(drop=True)\n",
    "    \n",
    "    return df"
   ]
  },
  {
   "cell_type": "code",
   "execution_count": 23,
   "metadata": {},
   "outputs": [],
   "source": [
    "data = fill_dataframe(objects, objects_at_once=1)"
   ]
  },
  {
   "cell_type": "markdown",
   "metadata": {},
   "source": [
    "### Calculate distances"
   ]
  },
  {
   "cell_type": "code",
   "execution_count": 9,
   "metadata": {},
   "outputs": [],
   "source": [
    "def calculate_distances(data):\n",
    "    for row in range(0, len(data)):\n",
    "        # Distance = start -> obj 1 -> table\n",
    "        if data['from_node'][row] == 'table_empty' and len(data['to_node'][row]) == 1:\n",
    "            data.loc[row, 'dist'] = (distance.euclidean(\n",
    "                        coordinates['start'], \n",
    "                        coordinates[data['to_node'][row]]) +\n",
    "                    distance.euclidean(\n",
    "                        coordinates[data['to_node'][row]], \n",
    "                        coordinates['table'])\n",
    "                    )\n",
    "    \n",
    "        # Distance = start -> obj 1 -> obj 2 -> table\n",
    "        elif data['from_node'][row] == 'table_empty' and len(data['to_node'][row]) != 1:\n",
    "            data.loc[row, 'dist'] = (distance.euclidean(\n",
    "                        coordinates['start'], \n",
    "                        coordinates[data['to_node'][row][0]]) +\n",
    "                    distance.euclidean(\n",
    "                        coordinates[data['to_node'][row][0]], \n",
    "                        coordinates[data['to_node'][row][1]]) +\n",
    "                    distance.euclidean(\n",
    "                        coordinates[data['to_node'][row][1]], \n",
    "                        coordinates['table'])\n",
    "                    )\n",
    "    # Distance = table -> obj 1 -> (obj 2) -> table\n",
    "        else:\n",
    "            # Get difference between sequences (from_node, to_node)\n",
    "            diff = [x for x in data['to_node'][row] if x not in data['from_node'][row]]\n",
    "        \n",
    "            if len(diff) == 1:\n",
    "                data.loc[row, 'dist'] = distance.euclidean(\n",
    "                        coordinates['table'], \n",
    "                        coordinates[diff[0]]) * 2\n",
    "        \n",
    "            elif len(diff) == 2:\n",
    "                data.loc[row, 'dist'] = (distance.euclidean(\n",
    "                        coordinates['table'], \n",
    "                        coordinates[diff[0]]) +\n",
    "                    distance.euclidean(\n",
    "                        coordinates[diff[0]], \n",
    "                        coordinates[diff[1]]) +\n",
    "                    distance.euclidean(\n",
    "                        coordinates[diff[1]], \n",
    "                        coordinates['table'])\n",
    "                    )\n",
    "    return data"
   ]
  },
  {
   "cell_type": "code",
   "execution_count": 343,
   "metadata": {},
   "outputs": [],
   "source": [
    "#data = calculate_distances(data)\n",
    "#data"
   ]
  },
  {
   "cell_type": "code",
   "execution_count": 10,
   "metadata": {},
   "outputs": [],
   "source": [
    "c = {'g': 1.2,\n",
    "    's': 1.2,\n",
    "    'w': 1.2,\n",
    "    'a': 1.0,\n",
    "    'p': 1.0}"
   ]
  },
  {
   "cell_type": "code",
   "execution_count": 11,
   "metadata": {},
   "outputs": [],
   "source": [
    "k = {'g': 1.0,\n",
    "    's': 1.0,\n",
    "    'w': 1.0,\n",
    "    'a': 1.0,\n",
    "    'p': 0.9}"
   ]
  },
  {
   "cell_type": "code",
   "execution_count": 12,
   "metadata": {},
   "outputs": [],
   "source": [
    "def calculate_edge_weights_params(data, objects, c, k):\n",
    "    # Reset weights according to weight parameters\n",
    "    for row in range(0, len(data)):\n",
    "        for obj in objects:\n",
    "            if obj in data['to_node'][row]:\n",
    "                data.loc[row, 'weight_new'] = (data['dist'][row] ** k[obj]) * c[obj]\n",
    "    return data"
   ]
  },
  {
   "cell_type": "code",
   "execution_count": 12,
   "metadata": {},
   "outputs": [],
   "source": [
    "#all(data['weight_new'] == data2['weight_new'])"
   ]
  },
  {
   "cell_type": "markdown",
   "metadata": {},
   "source": [
    "### Dijkstra + graph classes"
   ]
  },
  {
   "cell_type": "code",
   "execution_count": 13,
   "metadata": {},
   "outputs": [],
   "source": [
    "class Node:\n",
    "    def __init__(self, label):\n",
    "        self.label = label\n",
    "\n",
    "class Edge:\n",
    "    def __init__(self, to_node, length):\n",
    "        self.to_node = to_node\n",
    "        self.length = length\n",
    "\n",
    "\n",
    "class Graph:\n",
    "    def __init__(self):\n",
    "        self.nodes = set()\n",
    "        self.edges = dict()\n",
    "\n",
    "    def add_node(self, node):\n",
    "        self.nodes.add(node)\n",
    "\n",
    "    def add_edge(self, from_node, to_node, length):\n",
    "        edge = Edge(to_node, length)\n",
    "        if from_node.label in self.edges:\n",
    "            from_node_edges = self.edges[from_node.label]\n",
    "        else:\n",
    "            self.edges[from_node.label] = dict()\n",
    "            from_node_edges = self.edges[from_node.label]\n",
    "        from_node_edges[to_node.label] = edge\n",
    "\n",
    "\n",
    "def min_dist(q, dist):\n",
    "    \"\"\"\n",
    "    Returns the node with the smallest distance in q.\n",
    "    Implemented to keep the main algorithm clean.\n",
    "    \"\"\"\n",
    "    min_node = None\n",
    "    for node in q:\n",
    "        if min_node == None:\n",
    "            min_node = node\n",
    "        elif dist[node] < dist[min_node]:\n",
    "            min_node = node\n",
    "\n",
    "    return min_node\n",
    "\n",
    "def dijkstra(graph, source):\n",
    "    q = set()\n",
    "    dist = {}\n",
    "    prev = {}\n",
    "\n",
    "    for v in graph.nodes:           # initialization\n",
    "        dist[v] = float('inf')      # unknown distance from source to v\n",
    "        prev[v] = float('inf')      # previous node in optimal path from source\n",
    "        q.add(v)                    # all nodes initially in q (unvisited nodes)\n",
    "\n",
    "    # distance from source to source\n",
    "    dist[source] = 0\n",
    "\n",
    "    while q:\n",
    "        # node with the least distance selected first\n",
    "        u = min_dist(q, dist)\n",
    "\n",
    "        q.remove(u)\n",
    "\n",
    "        if u.label in graph.edges:\n",
    "            for _, v in graph.edges[u.label].items():\n",
    "                alt = dist[u] + v.length\n",
    "                if alt < dist[v.to_node]:\n",
    "                    # a shorter path to v has been found\n",
    "                    dist[v.to_node] = alt\n",
    "                    prev[v.to_node] = u\n",
    "\n",
    "    return dist, prev\n",
    "\n",
    "\n",
    "def to_array(prev, from_node):\n",
    "    \"\"\"Creates an ordered list of labels as a route.\"\"\"\n",
    "    previous_node = prev[from_node]\n",
    "    route = [from_node.label]\n",
    "    while previous_node != float('inf'):\n",
    "        route.append(previous_node.label)\n",
    "        temp = previous_node\n",
    "        previous_node = prev[temp]\n",
    "\n",
    "    route.reverse()\n",
    "    return route"
   ]
  },
  {
   "cell_type": "markdown",
   "metadata": {},
   "source": [
    "### Create nodes + edges"
   ]
  },
  {
   "cell_type": "code",
   "execution_count": 14,
   "metadata": {},
   "outputs": [],
   "source": [
    "def create_nodes_edges(graph, data):\n",
    "    # Create sorted set of nodes from to_nodes and from_nodes\n",
    "    nodes = sorted(pd.unique(data[['from_node', 'to_node']].values.ravel()))\n",
    "\n",
    "    # Create nodes from set\n",
    "    for x in range(0, len(nodes)):\n",
    "        globals()[nodes[x]] = Node(nodes[x])    # Create node as global variable\n",
    "        graph.add_node(globals()[nodes[x]])     # Add node to graph\n",
    "\n",
    "    # Add edge for row in csv -> from_node, to_node, weight\n",
    "    for row in range(0, len(data)):\n",
    "        to_node = globals()[data['to_node'][row]]\n",
    "        from_node = globals()[data['from_node'][row]]\n",
    "        graph.add_edge(from_node, to_node, data['weight_new'][row])\n",
    "    \n",
    "    return graph"
   ]
  },
  {
   "cell_type": "code",
   "execution_count": 341,
   "metadata": {},
   "outputs": [],
   "source": [
    "#create_nodes_edges(graph, data)"
   ]
  },
  {
   "cell_type": "markdown",
   "metadata": {},
   "source": [
    "### Print function"
   ]
  },
  {
   "cell_type": "code",
   "execution_count": 15,
   "metadata": {},
   "outputs": [],
   "source": [
    "def print_result(dist, prev):\n",
    "    print(\"The quickest path from {} to {} is [{}] with a distance of {}\".format(\n",
    "        table_empty.label,\n",
    "        gswap.label,\n",
    "        \" -> \".join(to_array(prev, gswap)),\n",
    "        str(round(dist[gswap], 2))\n",
    "        )\n",
    "    )"
   ]
  },
  {
   "cell_type": "markdown",
   "metadata": {},
   "source": [
    "### Define main function"
   ]
  },
  {
   "cell_type": "code",
   "execution_count": 16,
   "metadata": {},
   "outputs": [],
   "source": [
    "def main():\n",
    "    graph = Graph()\n",
    "    data = fill_dataframe(objects, objects_at_once=1)\n",
    "    data = calculate_distances(data)\n",
    "    data = calculate_edge_weights_params(data, objects, c, k)\n",
    "    create_nodes_edges(graph, data)\n",
    "    dist, prev = dijkstra(graph, table_empty)\n",
    "    print_result(dist, prev)"
   ]
  },
  {
   "cell_type": "code",
   "execution_count": 17,
   "metadata": {},
   "outputs": [
    {
     "name": "stdout",
     "output_type": "stream",
     "text": [
      "The quickest path from table_empty to gswap is [table_empty -> p -> gp -> gsp -> gsap -> gswap] with a distance of 16.27\n"
     ]
    }
   ],
   "source": [
    "main()"
   ]
  },
  {
   "cell_type": "code",
   "execution_count": null,
   "metadata": {},
   "outputs": [],
   "source": []
  },
  {
   "cell_type": "code",
   "execution_count": null,
   "metadata": {},
   "outputs": [],
   "source": []
  },
  {
   "cell_type": "code",
   "execution_count": null,
   "metadata": {},
   "outputs": [],
   "source": []
  }
 ],
 "metadata": {
  "kernelspec": {
   "display_name": "Python 3",
   "language": "python",
   "name": "python3"
  },
  "language_info": {
   "codemirror_mode": {
    "name": "ipython",
    "version": 3
   },
   "file_extension": ".py",
   "mimetype": "text/x-python",
   "name": "python",
   "nbconvert_exporter": "python",
   "pygments_lexer": "ipython3",
   "version": "3.7.3"
  }
 },
 "nbformat": 4,
 "nbformat_minor": 2
}
