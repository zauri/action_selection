{
 "cells": [
  {
   "cell_type": "code",
   "execution_count": 2,
   "metadata": {},
   "outputs": [],
   "source": [
    "import pandas as pd\n",
    "import numpy as np\n",
    "import itertools\n",
    "from scipy.spatial import distance\n",
    "import random\n",
    "\n",
    "pd.set_option('display.max_rows', 500)"
   ]
  },
  {
   "cell_type": "code",
   "execution_count": 14,
   "metadata": {},
   "outputs": [],
   "source": [
    "objects = objects = ['m', 'c', 'b', 'a', 't', 'p']\n",
    "\n",
    "coordinates = {'m': (0,0,2),\n",
    "               'c': (0,0,2),\n",
    "               'b': (0,0,2),\n",
    "               'a': (0,0,2),\n",
    "               't': (0,0,2),\n",
    "               'p': (0,0,2),\n",
    "              'start': (0,0,3),\n",
    "              'table': (1,1,2)}\n",
    "\n",
    "c1 = {'m': 1.0,\n",
    "    'c': 1.0,\n",
    "    'b': 1.0,\n",
    "    'a': 1.0,\n",
    "    't': 1.0,\n",
    "    'p': 1.0}\n",
    "\n",
    "k1 = {'m': 0.9,\n",
    "    'c': 1.0,\n",
    "    'b': 1.0,\n",
    "    'a': 1.0,\n",
    "    't': 1.0,\n",
    "    'p': 0.95}\n",
    "\n",
    "c0 = {'m': 1.0,\n",
    "    'c': 1.0,\n",
    "    'b': 1.0,\n",
    "    'a': 1.0,\n",
    "    't': 1.0,\n",
    "    'p': 1.0}\n",
    "\n",
    "k0 = {'m': 1.0,\n",
    "    'c': 1.0,\n",
    "    'b': 1.0,\n",
    "    'a': 1.0,\n",
    "    't': 1.0,\n",
    "    'p': 1.0}\n",
    "\n",
    "start_coordinates = [[0,2,2],[1,1,2],[1,1,2],[1,1,2],[1,1,2],[0,2,2]]"
   ]
  },
  {
   "cell_type": "code",
   "execution_count": 3,
   "metadata": {},
   "outputs": [],
   "source": [
    "def predict_sequence(possible_items, coordinates, c, k, start_coordinates, dimensions=[3,]):\n",
    "    prediction = []\n",
    "    possible_items = dict.fromkeys(objects, 0) # generate dict from object list\n",
    "    coord_index = 0\n",
    "    start_coords = start_coordinates\n",
    "    \n",
    "    if dimensions[0] == 3: # no changes if 3D\n",
    "        coords = coordinates\n",
    "        \n",
    "    elif dimensions[0] == 2: # 2D: remove obsolete coordinate\n",
    "        if dimensions[1] == 'xy':\n",
    "            coords = {key: value[:-1] for key, value in coordinates.items()}\n",
    "            for x in start_coords:\n",
    "                x.pop(-1)\n",
    "                \n",
    "        elif dimensions[1] == 'xz':\n",
    "            coords = {key: value for key, value in coordinates.items()}\n",
    "            for key, value in coords.items():\n",
    "                new_value = (value[0], value[-1])\n",
    "                coords[key] = new_value\n",
    "            print(coords)\n",
    "            for x in start_coords:\n",
    "                x.pop(1)\n",
    "        \n",
    "        elif dimensions[1] == 'yz':\n",
    "            coords = {key: value[1:] for key, value in coordinates.items()}\n",
    "            for x in start_coords:\n",
    "                x.pop(0)\n",
    "                \n",
    "    elif dimensions[0] == 1: # 1D: choose appropriate coordinate\n",
    "        if dimensions[1] == 'x':\n",
    "            coords = {key: value[0] for key, value in coordinates.items()}\n",
    "            start_coords = [x[0] for x in start_coords]\n",
    "        \n",
    "        elif dimensions[1] == 'y':\n",
    "            coords = {key: value[1] for key, value in coordinates.items()}\n",
    "            start_coords = [x[1] for x in start_coords]\n",
    "        \n",
    "        elif dimensions[1] == 'z':\n",
    "            coords = {key: value[2] for key, value in coordinates.items()}\n",
    "            start_coords = [x[2] for x in start_coords]\n",
    "    \n",
    "    while bool(possible_items) == True: # while dict not empty\n",
    "        for obj in possible_items.keys():\n",
    "            possible_items[obj] = ((distance.euclidean(\n",
    "                                start_coords[coord_index], \n",
    "                                coords[obj])\n",
    "                                ) ** k[obj]) * c[obj]\n",
    "        print(possible_items)                      \n",
    "        minval = min(possible_items.values())\n",
    "        minval = [k for k, v in possible_items.items() if v == minval]\n",
    "        minval = random.choice(minval) # choose prediction randomly if multiple items have same cost\n",
    "        prediction.append(minval)\n",
    "        del possible_items[minval]\n",
    "        coord_index += 1\n",
    "        \n",
    "    return prediction"
   ]
  },
  {
   "cell_type": "code",
   "execution_count": 15,
   "metadata": {},
   "outputs": [
    {
     "name": "stdout",
     "output_type": "stream",
     "text": [
      "{'m': 1.8660659830736148, 'c': 2.0, 'b': 2.0, 'a': 2.0, 't': 2.0, 'p': 1.931872657849691}\n",
      "{'c': 1.4142135623730951, 'b': 1.4142135623730951, 'a': 1.4142135623730951, 't': 1.4142135623730951, 'p': 1.389918219842337}\n",
      "{'c': 1.4142135623730951, 'b': 1.4142135623730951, 'a': 1.4142135623730951, 't': 1.4142135623730951}\n",
      "{'c': 1.4142135623730951, 'b': 1.4142135623730951, 'a': 1.4142135623730951}\n",
      "{'c': 1.4142135623730951, 'a': 1.4142135623730951}\n",
      "{'a': 2.0}\n"
     ]
    },
    {
     "data": {
      "text/plain": [
       "['m', 'p', 't', 'b', 'c', 'a']"
      ]
     },
     "execution_count": 15,
     "metadata": {},
     "output_type": "execute_result"
    }
   ],
   "source": [
    "predict_sequence(objects,coordinates, c1, k1, start_coordinates, dimensions=[3,'xyz'])"
   ]
  },
  {
   "cell_type": "code",
   "execution_count": null,
   "metadata": {},
   "outputs": [],
   "source": []
  },
  {
   "cell_type": "code",
   "execution_count": null,
   "metadata": {},
   "outputs": [],
   "source": []
  },
  {
   "cell_type": "code",
   "execution_count": null,
   "metadata": {},
   "outputs": [],
   "source": []
  }
 ],
 "metadata": {
  "kernelspec": {
   "display_name": "Python 3",
   "language": "python",
   "name": "python3"
  },
  "language_info": {
   "codemirror_mode": {
    "name": "ipython",
    "version": 3
   },
   "file_extension": ".py",
   "mimetype": "text/x-python",
   "name": "python",
   "nbconvert_exporter": "python",
   "pygments_lexer": "ipython3",
   "version": "3.7.3"
  }
 },
 "nbformat": 4,
 "nbformat_minor": 2
}
