{
 "cells": [
  {
   "cell_type": "code",
   "execution_count": 1,
   "metadata": {},
   "outputs": [],
   "source": [
    "import pandas as pd\n",
    "import numpy as np\n",
    "import itertools\n",
    "from scipy.spatial import distance\n",
    "import random\n",
    "\n",
    "pd.set_option('display.max_rows', 500)"
   ]
  },
  {
   "cell_type": "code",
   "execution_count": 11,
   "metadata": {},
   "outputs": [],
   "source": [
    "objects = ['n', 'f', 'p', 'y', 'm', 'b', 's']\n",
    "\n",
    "coordinates = {'n': (0,1,2),\n",
    "               'f': (0,1,2),\n",
    "               'p': (0,2,2),\n",
    "               'y': (0,4,0),\n",
    "               'm': (0,2,2),\n",
    "               'b': (0,2,2),\n",
    "               's': (0,1,2),\n",
    "              'start': (0,4,0),\n",
    "              'table': (2,4,2)}\n",
    "\n",
    "c1 = {'n': 1.0,\n",
    "    'f': 1.0,\n",
    "    'p': 1.0,\n",
    "    'y': 1.0,\n",
    "    'm': 1.0,\n",
    "    'b': 1.0,\n",
    "    's': 1.0}\n",
    "\n",
    "k1 = {'n': 0.95,\n",
    "    'f': 1.0,\n",
    "    'p': 1.0,\n",
    "    'y': 1.0,\n",
    "    'm': 1.0,\n",
    "    'b': 1.0,\n",
    "    's': 1.0}\n",
    "\n",
    "c0 = {'n': 1.0,\n",
    "    'f': 1.0,\n",
    "    'p': 1.0,\n",
    "    'y': 1.0,\n",
    "    'm': 1.0,\n",
    "    'b': 1.0,\n",
    "    's': 1.0}\n",
    "\n",
    "k0 = {'n': 1.0,\n",
    "    'f': 1.0,\n",
    "    'p': 1.0,\n",
    "    'y': 1.0,\n",
    "    'm': 1.0,\n",
    "    'b': 1.0,\n",
    "    's': 1.0}\n",
    "\n",
    "start_coordinates = [[0,4,0],[0,0,2],[2,4,2],[2,4,2],[0,3,2],[2,4,2],[2,4,2]]"
   ]
  },
  {
   "cell_type": "code",
   "execution_count": 3,
   "metadata": {},
   "outputs": [],
   "source": [
    "def predict_sequence(possible_items, coordinates, c, k, start_coordinates, dimensions=[3,]):\n",
    "    prediction = []\n",
    "    possible_items = dict.fromkeys(objects, 0) # generate dict from object list\n",
    "    coord_index = 0\n",
    "    start_coords = start_coordinates\n",
    "    \n",
    "    if dimensions[0] == 3: # no changes if 3D\n",
    "        coords = coordinates\n",
    "        \n",
    "    elif dimensions[0] == 2: # 2D: remove obsolete coordinate\n",
    "        if dimensions[1] == 'xy':\n",
    "            coords = {key: value[:-1] for key, value in coordinates.items()}\n",
    "            for x in start_coords:\n",
    "                x.pop(-1)\n",
    "                \n",
    "        elif dimensions[1] == 'xz':\n",
    "            coords = {key: value for key, value in coordinates.items()}\n",
    "            for key, value in coords.items():\n",
    "                new_value = (value[0], value[-1])\n",
    "                coords[key] = new_value\n",
    "            print(coords)\n",
    "            for x in start_coords:\n",
    "                x.pop(1)\n",
    "        \n",
    "        elif dimensions[1] == 'yz':\n",
    "            coords = {key: value[1:] for key, value in coordinates.items()}\n",
    "            for x in start_coords:\n",
    "                x.pop(0)\n",
    "                \n",
    "    elif dimensions[0] == 1: # 1D: choose appropriate coordinate\n",
    "        if dimensions[1] == 'x':\n",
    "            coords = {key: value[0] for key, value in coordinates.items()}\n",
    "            start_coords = [x[0] for x in start_coords]\n",
    "        \n",
    "        elif dimensions[1] == 'y':\n",
    "            coords = {key: value[1] for key, value in coordinates.items()}\n",
    "            start_coords = [x[1] for x in start_coords]\n",
    "        \n",
    "        elif dimensions[1] == 'z':\n",
    "            coords = {key: value[2] for key, value in coordinates.items()}\n",
    "            start_coords = [x[2] for x in start_coords]\n",
    "    \n",
    "    while bool(possible_items) == True: # while dict not empty\n",
    "        for obj in possible_items.keys():\n",
    "            possible_items[obj] = ((distance.euclidean(\n",
    "                                start_coords[coord_index], \n",
    "                                coords[obj])\n",
    "                                ) ** k[obj]) * c[obj]\n",
    "        print(possible_items)                      \n",
    "        minval = min(possible_items.values())\n",
    "        minval = [k for k, v in possible_items.items() if v == minval]\n",
    "        minval = random.choice(minval) # choose prediction randomly if multiple items have same cost\n",
    "        prediction.append(minval)\n",
    "        del possible_items[minval]\n",
    "        coord_index += 1\n",
    "        \n",
    "    return prediction"
   ]
  },
  {
   "cell_type": "code",
   "execution_count": 12,
   "metadata": {},
   "outputs": [
    {
     "name": "stdout",
     "output_type": "stream",
     "text": [
      "{'n': 3.3816066770562294, 'f': 3.605551275463989, 'p': 2.8284271247461903, 'y': 0.0, 'm': 2.8284271247461903, 'b': 2.8284271247461903, 's': 3.605551275463989}\n",
      "{'n': 1.0, 'f': 1.0, 'p': 2.0, 'm': 2.0, 'b': 2.0, 's': 1.0}\n",
      "{'f': 3.605551275463989, 'p': 2.8284271247461903, 'm': 2.8284271247461903, 'b': 2.8284271247461903, 's': 3.605551275463989}\n",
      "{'f': 3.605551275463989, 'p': 2.8284271247461903, 'm': 2.8284271247461903, 's': 3.605551275463989}\n",
      "{'f': 2.0, 'p': 1.0, 's': 2.0}\n",
      "{'f': 3.605551275463989, 's': 3.605551275463989}\n",
      "{'s': 3.605551275463989}\n"
     ]
    },
    {
     "data": {
      "text/plain": [
       "['y', 'n', 'b', 'm', 'p', 'f', 's']"
      ]
     },
     "execution_count": 12,
     "metadata": {},
     "output_type": "execute_result"
    }
   ],
   "source": [
    "predict_sequence(objects,coordinates, c1, k1, start_coordinates, dimensions=[3,'xyz'])"
   ]
  },
  {
   "cell_type": "code",
   "execution_count": null,
   "metadata": {},
   "outputs": [],
   "source": []
  },
  {
   "cell_type": "code",
   "execution_count": null,
   "metadata": {},
   "outputs": [],
   "source": []
  },
  {
   "cell_type": "code",
   "execution_count": null,
   "metadata": {},
   "outputs": [],
   "source": []
  }
 ],
 "metadata": {
  "kernelspec": {
   "display_name": "Python 3",
   "language": "python",
   "name": "python3"
  },
  "language_info": {
   "codemirror_mode": {
    "name": "ipython",
    "version": 3
   },
   "file_extension": ".py",
   "mimetype": "text/x-python",
   "name": "python",
   "nbconvert_exporter": "python",
   "pygments_lexer": "ipython3",
   "version": "3.7.3"
  }
 },
 "nbformat": 4,
 "nbformat_minor": 2
}
