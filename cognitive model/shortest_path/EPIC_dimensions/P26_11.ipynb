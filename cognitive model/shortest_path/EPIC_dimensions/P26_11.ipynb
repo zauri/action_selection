{
 "cells": [
  {
   "cell_type": "code",
   "execution_count": 1,
   "metadata": {},
   "outputs": [],
   "source": [
    "import pandas as pd\n",
    "import numpy as np\n",
    "import itertools\n",
    "from scipy.spatial import distance\n",
    "import random\n",
    "\n",
    "pd.set_option('display.max_rows', 500)"
   ]
  },
  {
   "cell_type": "code",
   "execution_count": 11,
   "metadata": {},
   "outputs": [],
   "source": [
    "objects = ['p', 's', 'g', 'c', 't']\n",
    "\n",
    "coordinates = {'p': (0,1,3),\n",
    "              's': (1,3,2),\n",
    "              'g': (0,1,2.5),\n",
    "               'c': (0,0,1),\n",
    "               't': (1,3,2),\n",
    "              'start': (0,1,0),\n",
    "              'table': (1,2,2)}\n",
    "\n",
    "c1 = {'p': 1.2,\n",
    "    's': 1.2,\n",
    "    'g': 1.2,\n",
    "    'c': 1.2,\n",
    "    't': 1.2}\n",
    "\n",
    "k1 = {'p': 0.95,\n",
    "    's': 1.0,\n",
    "    'g': 1.0,\n",
    "    'c': 1.0,\n",
    "    't': 1.0}\n",
    "\n",
    "c0 = {'p': 1.0,\n",
    "    's': 1.0,\n",
    "    'g': 1.0,\n",
    "    'c': 1.0,\n",
    "    't': 1.0}\n",
    "\n",
    "k0 = {'p': 1.0,\n",
    "    's': 1.0,\n",
    "    'g': 1.0,\n",
    "    'c': 1.0,\n",
    "    't': 1.0}\n",
    "\n",
    "start_coordinates = [[0,1,2],[1,1,2],[1,1,2],[1,1,2],[1,1,2]]"
   ]
  },
  {
   "cell_type": "code",
   "execution_count": 3,
   "metadata": {},
   "outputs": [],
   "source": [
    "def predict_sequence(possible_items, coordinates, c, k, start_coordinates, dimensions=[3,]):\n",
    "    prediction = []\n",
    "    possible_items = dict.fromkeys(objects, 0) # generate dict from object list\n",
    "    coord_index = 0\n",
    "    start_coords = start_coordinates\n",
    "    \n",
    "    if dimensions[0] == 3: # no changes if 3D\n",
    "        coords = coordinates\n",
    "        \n",
    "    elif dimensions[0] == 2: # 2D: remove obsolete coordinate\n",
    "        if dimensions[1] == 'xy':\n",
    "            coords = {key: value[:-1] for key, value in coordinates.items()}\n",
    "            for x in start_coords:\n",
    "                x.pop(-1)\n",
    "                \n",
    "        elif dimensions[1] == 'xz':\n",
    "            coords = {key: value for key, value in coordinates.items()}\n",
    "            for key, value in coords.items():\n",
    "                new_value = (value[0], value[-1])\n",
    "                coords[key] = new_value\n",
    "            print(coords)\n",
    "            for x in start_coords:\n",
    "                x.pop(1)\n",
    "        \n",
    "        elif dimensions[1] == 'yz':\n",
    "            coords = {key: value[1:] for key, value in coordinates.items()}\n",
    "            for x in start_coords:\n",
    "                x.pop(0)\n",
    "                \n",
    "    elif dimensions[0] == 1: # 1D: choose appropriate coordinate\n",
    "        if dimensions[1] == 'x':\n",
    "            coords = {key: value[0] for key, value in coordinates.items()}\n",
    "            start_coords = [x[0] for x in start_coords]\n",
    "        \n",
    "        elif dimensions[1] == 'y':\n",
    "            coords = {key: value[1] for key, value in coordinates.items()}\n",
    "            start_coords = [x[1] for x in start_coords]\n",
    "        \n",
    "        elif dimensions[1] == 'z':\n",
    "            coords = {key: value[2] for key, value in coordinates.items()}\n",
    "            start_coords = [x[2] for x in start_coords]\n",
    "    \n",
    "    while bool(possible_items) == True: # while dict not empty\n",
    "        for obj in possible_items.keys():\n",
    "            possible_items[obj] = ((distance.euclidean(\n",
    "                                start_coords[coord_index], \n",
    "                                coords[obj])\n",
    "                                ) ** k[obj]) * c[obj]\n",
    "        print(possible_items)                      \n",
    "        minval = min(possible_items.values())\n",
    "        minval = [k for k, v in possible_items.items() if v == minval]\n",
    "        minval = random.choice(minval) # choose prediction randomly if multiple items have same cost\n",
    "        prediction.append(minval)\n",
    "        del possible_items[minval]\n",
    "        coord_index += 1\n",
    "        \n",
    "    return prediction"
   ]
  },
  {
   "cell_type": "code",
   "execution_count": 12,
   "metadata": {},
   "outputs": [
    {
     "name": "stdout",
     "output_type": "stream",
     "text": [
      "{'p': 1.2, 's': 2.6832815729997477, 'g': 0.6, 'c': 1.697056274847714, 't': 2.6832815729997477}\n",
      "{'p': 1.6679018638108043, 's': 2.4, 'c': 2.0784609690826525, 't': 2.4}\n",
      "{'s': 2.4, 'c': 2.0784609690826525, 't': 2.4}\n",
      "{'s': 2.4, 't': 2.4}\n",
      "{'t': 2.4}\n"
     ]
    },
    {
     "data": {
      "text/plain": [
       "['g', 'p', 'c', 's', 't']"
      ]
     },
     "execution_count": 12,
     "metadata": {},
     "output_type": "execute_result"
    }
   ],
   "source": [
    "predict_sequence(objects,coordinates, c1, k1, start_coordinates, dimensions=[3,'xyz'])"
   ]
  },
  {
   "cell_type": "code",
   "execution_count": null,
   "metadata": {},
   "outputs": [],
   "source": []
  },
  {
   "cell_type": "code",
   "execution_count": null,
   "metadata": {},
   "outputs": [],
   "source": []
  },
  {
   "cell_type": "code",
   "execution_count": null,
   "metadata": {},
   "outputs": [],
   "source": []
  }
 ],
 "metadata": {
  "kernelspec": {
   "display_name": "Python 3",
   "language": "python",
   "name": "python3"
  },
  "language_info": {
   "codemirror_mode": {
    "name": "ipython",
    "version": 3
   },
   "file_extension": ".py",
   "mimetype": "text/x-python",
   "name": "python",
   "nbconvert_exporter": "python",
   "pygments_lexer": "ipython3",
   "version": "3.7.3"
  }
 },
 "nbformat": 4,
 "nbformat_minor": 2
}
