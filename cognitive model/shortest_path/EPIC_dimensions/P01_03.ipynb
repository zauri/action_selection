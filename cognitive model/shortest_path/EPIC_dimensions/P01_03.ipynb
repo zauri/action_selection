{
 "cells": [
  {
   "cell_type": "code",
   "execution_count": 23,
   "metadata": {},
   "outputs": [],
   "source": [
    "import pandas as pd\n",
    "import numpy as np\n",
    "import itertools\n",
    "from scipy.spatial import distance\n",
    "import random\n",
    "from pyxdameraulevenshtein import damerau_levenshtein_distance\n",
    "\n",
    "pd.set_option('display.max_rows', 500)"
   ]
  },
  {
   "cell_type": "code",
   "execution_count": 24,
   "metadata": {},
   "outputs": [],
   "source": [
    "objects = ['r', 'h', 'c', 's', 'e']\n",
    "\n",
    "coordinates = {'r': (0,5,2),\n",
    "              'h': (4,4,1),\n",
    "              'c': (2,0,0),\n",
    "               's': (4,3,2),\n",
    "               'e': (4,1,1),\n",
    "              'start': (4,5,2),\n",
    "              'table': (2,2,2)}\n",
    "\n",
    "c1 = {'r': 1.2,\n",
    "    'h': 1.0,\n",
    "    'c': 1.2,\n",
    "    's': 1.2,\n",
    "    'e': 1.2}\n",
    "\n",
    "k1 = {'r': 1.0,\n",
    "    'h': 0.9,\n",
    "    'c': 0.95,\n",
    "    's': 1.0,\n",
    "    'e': 1.0}\n",
    "\n",
    "c0 = {'r': 1.0,\n",
    "    'h': 1.0,\n",
    "    'c': 1.0,\n",
    "    's': 1.0,\n",
    "    'e': 1.0}\n",
    "\n",
    "k0 = {'r': 1.0,\n",
    "    'h': 1.0,\n",
    "    'c': 1.0,\n",
    "    's': 1.0,\n",
    "    'e': 1.0}\n",
    "\n",
    "start_coordinates = [[4,5,2],[2,2,2],[2,2,2],[0,5,2],[2,2,2]]"
   ]
  },
  {
   "cell_type": "code",
   "execution_count": 25,
   "metadata": {},
   "outputs": [],
   "source": [
    "def predict_sequence(possible_items, coordinates, c, k, start_coordinates, dimensions=[3,]):\n",
    "    prediction = []\n",
    "    possible_items = dict.fromkeys(objects, 0) # generate dict from object list\n",
    "    coord_index = 0\n",
    "    start_coords = start_coordinates\n",
    "    coords = coordinates\n",
    "    \n",
    "    if dimensions[0] == 3: # no changes if 3D\n",
    "        pass\n",
    "        \n",
    "    elif dimensions[0] == 2: # 2D: remove obsolete coordinate\n",
    "        if dimensions[1] == 'xy':\n",
    "            coords = {key: value[:-1] for key, value in coords.items()}\n",
    "            start_coords = [x[:-1] for x in start_coords]\n",
    "                \n",
    "        elif dimensions[1] == 'xz':\n",
    "            #coords = {key: value for key, value in coords.items()}\n",
    "            for key, value in coords.items():\n",
    "                new_value = (value[0], value[-1])\n",
    "                coords[key] = new_value\n",
    "\n",
    "            for x in range (0, len(start_coords)):\n",
    "                start_coords[x] = [start_coords[x][0], start_coords[x][-1]]\n",
    "        \n",
    "        elif dimensions[1] == 'yz':\n",
    "            coords = {key: value[1:] for key, value in coords.items()}\n",
    "            start_coords = [x[1:] for x in start_coords]\n",
    "                \n",
    "    elif dimensions[0] == 1: # 1D: choose appropriate coordinate\n",
    "        if dimensions[1] == 'x':\n",
    "            coords = {key: value[0] for key, value in coords.items()}\n",
    "            start_coords = [x[0] for x in start_coords]\n",
    "        \n",
    "        elif dimensions[1] == 'y':\n",
    "            coords = {key: value[1] for key, value in coords.items()}\n",
    "            start_coords = [x[1] for x in start_coords]\n",
    "        \n",
    "        elif dimensions[1] == 'z':\n",
    "            coords = {key: value[2] for key, value in coords.items()}\n",
    "            start_coords = [x[2] for x in start_coords]\n",
    "    \n",
    "    while bool(possible_items) == True: # while dict not empty\n",
    "        for obj in possible_items.keys():\n",
    "            possible_items[obj] = ((distance.euclidean(\n",
    "                                start_coords[coord_index], \n",
    "                                coords[obj])\n",
    "                                ) ** k[obj]) * c[obj]\n",
    "        #print(possible_items)                      \n",
    "        minval = min(possible_items.values())\n",
    "        minval = [k for k, v in possible_items.items() if v == minval]\n",
    "        minval = random.choice(minval) # choose prediction randomly if multiple items have same cost\n",
    "        prediction.append(minval)\n",
    "        del possible_items[minval]\n",
    "        coord_index += 1\n",
    "        \n",
    "    return prediction"
   ]
  },
  {
   "cell_type": "code",
   "execution_count": 4,
   "metadata": {},
   "outputs": [
    {
     "name": "stdout",
     "output_type": "stream",
     "text": [
      "{'r': 4.8, 'h': 1.3660402567543957, 'c': 6.316483521552575, 's': 2.4, 'e': 4.947726750741192}\n",
      "{'r': 4.326661530556787, 'c': 3.2221740066726325, 's': 2.6832815729997477, 'e': 2.9393876913398134}\n",
      "{'r': 4.326661530556787, 'c': 3.2221740066726325, 'e': 2.9393876913398134}\n",
      "{'r': 0.0, 'c': 6.316483521552575}\n",
      "{'c': 3.2221740066726325}\n"
     ]
    },
    {
     "data": {
      "text/plain": [
       "['h', 's', 'e', 'r', 'c']"
      ]
     },
     "execution_count": 4,
     "metadata": {},
     "output_type": "execute_result"
    }
   ],
   "source": [
    "predict_sequence(objects,coordinates, c1, k1, start_coordinates, dimensions=[3])"
   ]
  },
  {
   "cell_type": "code",
   "execution_count": 32,
   "metadata": {},
   "outputs": [
    {
     "data": {
      "text/plain": [
       "4.0"
      ]
     },
     "execution_count": 32,
     "metadata": {},
     "output_type": "execute_result"
    }
   ],
   "source": [
    "edit_list = []\n",
    "\n",
    "for x in range(0,1000):\n",
    "    result = ''.join(predict_sequence(objects,coordinates, c0, k0, start_coordinates, dimensions=[2,'yz']))\n",
    "    #print(result)\n",
    "    dl = damerau_levenshtein_distance('rhcse',result)\n",
    "    edit_list.append(dl)\n",
    "    \n",
    "avg = np.mean(edit_list)\n",
    "avg"
   ]
  },
  {
   "cell_type": "code",
   "execution_count": null,
   "metadata": {},
   "outputs": [],
   "source": []
  },
  {
   "cell_type": "code",
   "execution_count": null,
   "metadata": {},
   "outputs": [],
   "source": []
  }
 ],
 "metadata": {
  "kernelspec": {
   "display_name": "Python 3",
   "language": "python",
   "name": "python3"
  },
  "language_info": {
   "codemirror_mode": {
    "name": "ipython",
    "version": 3
   },
   "file_extension": ".py",
   "mimetype": "text/x-python",
   "name": "python",
   "nbconvert_exporter": "python",
   "pygments_lexer": "ipython3",
   "version": "3.7.3"
  }
 },
 "nbformat": 4,
 "nbformat_minor": 2
}
