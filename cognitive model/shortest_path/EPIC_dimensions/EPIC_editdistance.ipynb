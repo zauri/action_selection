{
 "cells": [
  {
   "cell_type": "code",
   "execution_count": 10,
   "metadata": {},
   "outputs": [],
   "source": [
    "from pyxdameraulevenshtein import damerau_levenshtein_distance\n",
    "import pandas as pd"
   ]
  },
  {
   "cell_type": "code",
   "execution_count": 176,
   "metadata": {},
   "outputs": [],
   "source": [
    "df = pd.read_csv('EPIC_modelfit_dimensions_withparameters.csv', header=0, index_col=0)"
   ]
  },
  {
   "cell_type": "code",
   "execution_count": null,
   "metadata": {
    "scrolled": true
   },
   "outputs": [],
   "source": []
  },
  {
   "cell_type": "code",
   "execution_count": 19,
   "metadata": {},
   "outputs": [],
   "source": [
    "videos = ['01_01','01_03','01_05','01_09','10_01','12_01','12_06','21_01','21_03','21_04','22_12','22_16',\n",
    "         '24_02','24_04','24_05','26_11']"
   ]
  },
  {
   "cell_type": "code",
   "execution_count": 35,
   "metadata": {},
   "outputs": [
    {
     "data": {
      "text/plain": [
       "x      pms\n",
       "y      mps\n",
       "z      smp\n",
       "xy     spm\n",
       "xz     pms\n",
       "yz     smp\n",
       "xyz    mps\n",
       "Name: 01_01, dtype: object"
      ]
     },
     "execution_count": 35,
     "metadata": {},
     "output_type": "execute_result"
    }
   ],
   "source": [
    "df.loc['01_01'][1:]"
   ]
  },
  {
   "cell_type": "code",
   "execution_count": 178,
   "metadata": {},
   "outputs": [
    {
     "name": "stdout",
     "output_type": "stream",
     "text": [
      "pms\n",
      "mps\n",
      "smp\n",
      "spm\n",
      "pms\n",
      "smp\n",
      "mps\n",
      "###\n",
      "pms\n",
      "mps\n",
      "smp\n",
      "spm\n",
      "pms\n",
      "smp\n",
      "mps\n",
      "###\n",
      "pms\n",
      "mps\n",
      "smp\n",
      "spm\n",
      "pms\n",
      "smp\n",
      "mps\n",
      "###\n",
      "pms\n",
      "mps\n",
      "smp\n",
      "spm\n",
      "pms\n",
      "smp\n",
      "mps\n",
      "###\n",
      "pms\n",
      "mps\n",
      "smp\n",
      "spm\n",
      "pms\n",
      "smp\n",
      "mps\n",
      "###\n",
      "pms\n",
      "mps\n",
      "smp\n",
      "spm\n",
      "pms\n",
      "smp\n",
      "mps\n",
      "###\n",
      "pms\n",
      "mps\n",
      "smp\n",
      "spm\n",
      "pms\n",
      "smp\n",
      "mps\n",
      "###\n",
      "pms\n",
      "mps\n",
      "smp\n",
      "spm\n",
      "pms\n",
      "smp\n",
      "mps\n",
      "###\n",
      "pms\n",
      "mps\n",
      "smp\n",
      "spm\n",
      "pms\n",
      "smp\n",
      "mps\n",
      "###\n",
      "pms\n",
      "mps\n",
      "smp\n",
      "spm\n",
      "pms\n",
      "smp\n",
      "mps\n",
      "###\n",
      "pms\n",
      "mps\n",
      "smp\n",
      "spm\n",
      "pms\n",
      "smp\n",
      "mps\n",
      "###\n",
      "pms\n",
      "mps\n",
      "smp\n",
      "spm\n",
      "pms\n",
      "smp\n",
      "mps\n",
      "###\n",
      "pms\n",
      "mps\n",
      "smp\n",
      "spm\n",
      "pms\n",
      "smp\n",
      "mps\n",
      "###\n",
      "pms\n",
      "mps\n",
      "smp\n",
      "spm\n",
      "pms\n",
      "smp\n",
      "mps\n",
      "###\n",
      "pms\n",
      "mps\n",
      "smp\n",
      "spm\n",
      "pms\n",
      "smp\n",
      "mps\n",
      "###\n",
      "pms\n",
      "mps\n",
      "smp\n",
      "spm\n",
      "pms\n",
      "smp\n",
      "mps\n",
      "###\n"
     ]
    }
   ],
   "source": [
    "for row in df.index:\n",
    "    if row in videos:\n",
    "        #print(len(df.loc[row]))\n",
    "        #print(row)\n",
    "        for i in range(1, len(df.loc[row])):\n",
    "            #print(df.loc[row][i])\n",
    "            dl = damerau_levenshtein_distance(df.loc[row]['observed'],df.loc[row][i])\n",
    "            rowname = str(row + '_edit')\n",
    "            colname = df.iloc[0][i]\n",
    "            print(colname)\n",
    "        print('###')\n",
    "            \n",
    "           # df.at[rowname,colname]\n",
    "            \n",
    "       # for col in df.loc[row]:\n",
    "        #    print(col)\n",
    "         #   \n",
    "          #  rowname = str(row + '_edit')\n",
    "            #print(rowname)\n",
    "            #print(df.loc[col])\n",
    "            #print(df.at[rowname])\n",
    "            #df.at[rowname,col] = dl\n",
    "        "
   ]
  },
  {
   "cell_type": "code",
   "execution_count": 250,
   "metadata": {},
   "outputs": [
    {
     "data": {
      "text/plain": [
       "4"
      ]
     },
     "execution_count": 250,
     "metadata": {},
     "output_type": "execute_result"
    }
   ],
   "source": [
    "damerau_levenshtein_distance('psgct','gpcst')"
   ]
  },
  {
   "cell_type": "code",
   "execution_count": 167,
   "metadata": {},
   "outputs": [
    {
     "data": {
      "text/plain": [
       "'pms'"
      ]
     },
     "execution_count": 167,
     "metadata": {},
     "output_type": "execute_result"
    }
   ],
   "source": [
    "df.loc['01_01']['x']"
   ]
  },
  {
   "cell_type": "code",
   "execution_count": null,
   "metadata": {},
   "outputs": [],
   "source": []
  },
  {
   "cell_type": "code",
   "execution_count": null,
   "metadata": {},
   "outputs": [],
   "source": []
  }
 ],
 "metadata": {
  "kernelspec": {
   "display_name": "Python 3",
   "language": "python",
   "name": "python3"
  },
  "language_info": {
   "codemirror_mode": {
    "name": "ipython",
    "version": 3
   },
   "file_extension": ".py",
   "mimetype": "text/x-python",
   "name": "python",
   "nbconvert_exporter": "python",
   "pygments_lexer": "ipython3",
   "version": "3.7.3"
  }
 },
 "nbformat": 4,
 "nbformat_minor": 2
}
