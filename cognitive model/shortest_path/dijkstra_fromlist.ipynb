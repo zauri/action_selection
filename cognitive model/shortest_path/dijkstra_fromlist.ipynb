{
 "cells": [
  {
   "cell_type": "code",
   "execution_count": 104,
   "metadata": {},
   "outputs": [],
   "source": [
    "import pandas as pd\n",
    "import numpy as np\n",
    "from scipy.spatial import distance"
   ]
  },
  {
   "cell_type": "markdown",
   "metadata": {},
   "source": [
    "### Prepare data"
   ]
  },
  {
   "cell_type": "code",
   "execution_count": 255,
   "metadata": {},
   "outputs": [],
   "source": [
    "def prepare_data(objects_at_once=2):\n",
    "    \"\"\"Reads data from csv and drops node connections (edges) not meeting the specified constraint\n",
    "    (e.g. taking more than one object at once).\"\"\"\n",
    "\n",
    "    # Read data from csv\n",
    "    raw = pd.read_csv('tum_edges_list_all.csv', header=0, usecols=[0, 1, 2, 3, 4])\n",
    "\n",
    "    # No constraints for how many objects at once\n",
    "    if objects_at_once == 2:\n",
    "        data = raw\n",
    "    elif objects_at_once == 1:\n",
    "        # Add constraint: Only 1 object at once\n",
    "        data = raw.loc[raw['obj_at_once'] == 1]\n",
    "\n",
    "    # Reset index\n",
    "    data = data.reset_index(drop=True)\n",
    "\n",
    "    return data"
   ]
  },
  {
   "cell_type": "code",
   "execution_count": 188,
   "metadata": {},
   "outputs": [],
   "source": [
    "coordinates = {'c': (1,4),\n",
    "              'n': (1,1),\n",
    "              'p': (1,4),\n",
    "              's': (1,2),\n",
    "              't': (1,1),\n",
    "              'start': (2,2),\n",
    "              'table': (4,3)}"
   ]
  },
  {
   "cell_type": "code",
   "execution_count": 272,
   "metadata": {},
   "outputs": [],
   "source": [
    "def calculate_distances(data):\n",
    "    for row in range(0, len(data)):\n",
    "        # Distance = start -> obj 1 -> table\n",
    "        if data['from_node'][row] == 'table_empty' and len(data['to_node'][row]) == 1:\n",
    "            data.loc[row, 'dist'] = (distance.euclidean(\n",
    "                        coordinates['start'], \n",
    "                        coordinates[data['to_node'][row]]) +\n",
    "                    distance.euclidean(\n",
    "                        coordinates[data['to_node'][row]], \n",
    "                        coordinates['table'])\n",
    "                    )\n",
    "    \n",
    "        # Distance = start -> obj 1 -> obj 2 -> table\n",
    "        elif data['from_node'][row] == 'table_empty' and len(data['to_node'][row]) != 1:\n",
    "            data.loc[row, 'dist'] = (distance.euclidean(\n",
    "                        coordinates['start'], \n",
    "                        coordinates[data['to_node'][row][0]]) +\n",
    "                    distance.euclidean(\n",
    "                        coordinates[data['to_node'][row][0]], \n",
    "                        coordinates[data['to_node'][row][1]]) +\n",
    "                    distance.euclidean(\n",
    "                        coordinates[data['to_node'][row][1]], \n",
    "                        coordinates['table'])\n",
    "                    )\n",
    "    # Distance = table -> obj 1 -> (obj 2) -> table\n",
    "        else:\n",
    "            # Get difference between sequences (from_node, to_node)\n",
    "            diff = [x for x in data['to_node'][row] if x not in data['from_node'][row]]\n",
    "        \n",
    "            if len(diff) == 1:\n",
    "                data.loc[row, 'dist'] = distance.euclidean(\n",
    "                        coordinates['table'], \n",
    "                        coordinates[diff[0]]) * 2\n",
    "        \n",
    "            elif len(diff) == 2:\n",
    "                data.loc[row, 'dist'] = (distance.euclidean(\n",
    "                        coordinates['table'], \n",
    "                        coordinates[diff[0]]) +\n",
    "                    distance.euclidean(\n",
    "                        coordinates[diff[0]], \n",
    "                        coordinates[diff[1]]) +\n",
    "                    distance.euclidean(\n",
    "                        coordinates[diff[1]], \n",
    "                        coordinates['table'])\n",
    "                    )\n",
    "    return data"
   ]
  },
  {
   "cell_type": "code",
   "execution_count": null,
   "metadata": {},
   "outputs": [],
   "source": []
  },
  {
   "cell_type": "code",
   "execution_count": 90,
   "metadata": {},
   "outputs": [],
   "source": [
    "alpha = {'c': 1.2,\n",
    "        'n': 1.0,\n",
    "        'p': 1.2,\n",
    "        's': 1.2,\n",
    "        't': 1.0}"
   ]
  },
  {
   "cell_type": "code",
   "execution_count": 226,
   "metadata": {},
   "outputs": [],
   "source": [
    "def calculate_edge_weights(data):\n",
    "    # Reset weights according to weight function\n",
    "    for row in range(0, len(data)):\n",
    "        if 'c' in data['to_node'][row]:\n",
    "            data.loc[row, 'weight_new'] = (data['dist'][row] ** 1.0) * 1.2\n",
    "        elif 'p' in data['to_node'][row]:\n",
    "            data.loc[row, 'weight_new'] = (data['dist'][row] ** 0.9) * 1.2\n",
    "        elif 's' in data['to_node'][row]:\n",
    "            data.loc[row, 'weight_new'] = (data['dist'][row] ** 1.0) * 1.2\n",
    "        elif 'n' in data['to_node'][row]:\n",
    "            data.loc[row, 'weight_new'] = (data['dist'][row] ** 0.95) * 1.0\n",
    "        elif 't' in data['to_node'][row]:\n",
    "            data.loc[row, 'weight_new'] = (data['dist'][row] ** 0.9) * 1.0\n",
    "        else:\n",
    "            data.loc[row, 'weight_new'] = data['dist'][row]\n",
    "            \n",
    "    for row in range(0, len(data)):\n",
    "        data.loc[row, 'weight_rounded'] = round(data['weight_new'][row], 2)\n",
    "    \n",
    "    return data"
   ]
  },
  {
   "cell_type": "code",
   "execution_count": 257,
   "metadata": {},
   "outputs": [],
   "source": [
    "#data.to_csv('tum_edges_list.csv')"
   ]
  },
  {
   "cell_type": "markdown",
   "metadata": {},
   "source": [
    "### Dijkstra + graph classes"
   ]
  },
  {
   "cell_type": "code",
   "execution_count": 12,
   "metadata": {},
   "outputs": [],
   "source": [
    "class Node:\n",
    "    def __init__(self, label):\n",
    "        self.label = label\n",
    "\n",
    "class Edge:\n",
    "    def __init__(self, to_node, length):\n",
    "        self.to_node = to_node\n",
    "        self.length = length\n",
    "\n",
    "\n",
    "class Graph:\n",
    "    def __init__(self):\n",
    "        self.nodes = set()\n",
    "        self.edges = dict()\n",
    "\n",
    "    def add_node(self, node):\n",
    "        self.nodes.add(node)\n",
    "\n",
    "    def add_edge(self, from_node, to_node, length):\n",
    "        edge = Edge(to_node, length)\n",
    "        if from_node.label in self.edges:\n",
    "            from_node_edges = self.edges[from_node.label]\n",
    "        else:\n",
    "            self.edges[from_node.label] = dict()\n",
    "            from_node_edges = self.edges[from_node.label]\n",
    "        from_node_edges[to_node.label] = edge\n",
    "\n",
    "\n",
    "def min_dist(q, dist):\n",
    "    \"\"\"\n",
    "    Returns the node with the smallest distance in q.\n",
    "    Implemented to keep the main algorithm clean.\n",
    "    \"\"\"\n",
    "    min_node = None\n",
    "    for node in q:\n",
    "        if min_node == None:\n",
    "            min_node = node\n",
    "        elif dist[node] < dist[min_node]:\n",
    "            min_node = node\n",
    "\n",
    "    return min_node\n",
    "\n",
    "def dijkstra(graph, source):\n",
    "    q = set()\n",
    "    dist = {}\n",
    "    prev = {}\n",
    "\n",
    "    for v in graph.nodes:           # initialization\n",
    "        dist[v] = float('inf')      # unknown distance from source to v\n",
    "        prev[v] = float('inf')      # previous node in optimal path from source\n",
    "        q.add(v)                    # all nodes initially in q (unvisited nodes)\n",
    "\n",
    "    # distance from source to source\n",
    "    dist[source] = 0\n",
    "\n",
    "    while q:\n",
    "        # node with the least distance selected first\n",
    "        u = min_dist(q, dist)\n",
    "\n",
    "        q.remove(u)\n",
    "\n",
    "        if u.label in graph.edges:\n",
    "            for _, v in graph.edges[u.label].items():\n",
    "                alt = dist[u] + v.length\n",
    "                if alt < dist[v.to_node]:\n",
    "                    # a shorter path to v has been found\n",
    "                    dist[v.to_node] = alt\n",
    "                    prev[v.to_node] = u\n",
    "\n",
    "    return dist, prev\n",
    "\n",
    "\n",
    "def to_array(prev, from_node):\n",
    "    \"\"\"Creates an ordered list of labels as a route.\"\"\"\n",
    "    previous_node = prev[from_node]\n",
    "    route = [from_node.label]\n",
    "    while previous_node != float('inf'):\n",
    "        route.append(previous_node.label)\n",
    "        temp = previous_node\n",
    "        previous_node = prev[temp]\n",
    "\n",
    "    route.reverse()\n",
    "    return route"
   ]
  },
  {
   "cell_type": "markdown",
   "metadata": {},
   "source": [
    "### Create nodes + edges"
   ]
  },
  {
   "cell_type": "code",
   "execution_count": 280,
   "metadata": {},
   "outputs": [],
   "source": [
    "def create_nodes_edges(graph, data):\n",
    "    # Create sorted set of nodes from to_nodes and from_nodes\n",
    "    nodes = sorted(pd.unique(data[['from_node', 'to_node']].values.ravel()))\n",
    "\n",
    "    # Create nodes from set\n",
    "    for x in range(0, len(nodes)):\n",
    "        globals()[nodes[x]] = Node(nodes[x])    # Create node as global variable\n",
    "        graph.add_node(globals()[nodes[x]])     # Add node to graph\n",
    "\n",
    "    # Add edge for row in csv -> from_node, to_node, weight\n",
    "    for row in range(0, len(data)):\n",
    "        to_node = globals()[data['to_node'][row]]\n",
    "        from_node = globals()[data['from_node'][row]]\n",
    "        graph.add_edge(from_node, to_node, data['weight_new'][row])\n",
    "    \n",
    "    return graph"
   ]
  },
  {
   "cell_type": "markdown",
   "metadata": {},
   "source": [
    "### Print function"
   ]
  },
  {
   "cell_type": "code",
   "execution_count": 285,
   "metadata": {},
   "outputs": [],
   "source": [
    "def print_result(dist, prev):\n",
    "    print(\"The quickest path from {} to {} is [{}] with a distance of {}\".format(\n",
    "        table_empty.label,\n",
    "        pcstn.label,\n",
    "        \" -> \".join(to_array(prev, pcstn)),\n",
    "        str(round(dist[pcstn], 2))\n",
    "        )\n",
    "    )"
   ]
  },
  {
   "cell_type": "markdown",
   "metadata": {},
   "source": [
    "### Define main function"
   ]
  },
  {
   "cell_type": "code",
   "execution_count": 292,
   "metadata": {},
   "outputs": [],
   "source": [
    "def main():\n",
    "    graph = Graph()\n",
    "    data = prepare_data(objects_at_once=1)\n",
    "    data = calculate_distances(data)\n",
    "    data = calculate_edge_weights(data)\n",
    "    create_nodes_edges(graph, data)\n",
    "    dist, prev = dijkstra(graph, table_empty)\n",
    "    print_result(dist, prev)"
   ]
  },
  {
   "cell_type": "code",
   "execution_count": 293,
   "metadata": {},
   "outputs": [
    {
     "name": "stdout",
     "output_type": "stream",
     "text": [
      "The quickest path from table_empty to pcstn is [table_empty -> t -> tn -> ptn -> pstn -> pcstn] with a distance of 31.02\n"
     ]
    }
   ],
   "source": [
    "main()"
   ]
  },
  {
   "cell_type": "code",
   "execution_count": null,
   "metadata": {},
   "outputs": [],
   "source": []
  },
  {
   "cell_type": "code",
   "execution_count": null,
   "metadata": {},
   "outputs": [],
   "source": []
  }
 ],
 "metadata": {
  "kernelspec": {
   "display_name": "Python 3",
   "language": "python",
   "name": "python3"
  },
  "language_info": {
   "codemirror_mode": {
    "name": "ipython",
    "version": 3
   },
   "file_extension": ".py",
   "mimetype": "text/x-python",
   "name": "python",
   "nbconvert_exporter": "python",
   "pygments_lexer": "ipython3",
   "version": "3.7.3"
  }
 },
 "nbformat": 4,
 "nbformat_minor": 2
}
