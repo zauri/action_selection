{
 "cells": [
  {
   "cell_type": "code",
   "execution_count": 9,
   "metadata": {},
   "outputs": [],
   "source": [
    "import networkx as nx\n",
    "import matplotlib.pyplot as plt\n",
    "import math\n",
    "import numpy as np"
   ]
  },
  {
   "cell_type": "code",
   "execution_count": 10,
   "metadata": {},
   "outputs": [],
   "source": [
    "# start state\n",
    "root = 'table_empty'\n",
    "\n",
    "# list of possible current states\n",
    "current = ['cup', 'napkin', 'plate', 'silverware', 'tray', 'table_empty',\n",
    "          'cup_napkin', 'cup_plate', 'cup_silverware', 'cup_tray',\n",
    "          'napkin_plate', 'napkin_silverware', 'napkin_tray',\n",
    "          'plate_silverware', 'plate_tray',\n",
    "          'silverware_tray']\n",
    "\n",
    "# list of possible next states for each current state\n",
    "children = {'cup': ['napkin', 'plate', 'silverware', 'tray', 'napkin_plate', \n",
    "                    'napkin_silverware', 'napkin_tray', 'plate_silverware', \n",
    "                    'plate_tray', 'silverware_tray'],\n",
    "           'napkin': ['cup', 'plate', 'silverware', 'tray',\n",
    "                     'cup_plate', 'cup_silverware', 'cup_tray',\n",
    "                     'plate_silverware', 'plate_tray', 'silverware_tray'],\n",
    "           'plate': ['cup', 'napkin', 'silverware', 'tray',\n",
    "                    'cup_napkin', 'cup_silverware', 'cup_tray',\n",
    "                     'napkin_silverware', 'napkin_tray',\n",
    "                    'silverware_tray'],\n",
    "           'silverware': ['cup', 'napkin', 'plate', 'tray',\n",
    "                         'cup_napkin', 'cup_plate', 'cup_tray',\n",
    "                          'napkin_plate', 'napkin_tray',\n",
    "                         'plate_tray'],\n",
    "           'tray': ['cup', 'napkin', 'plate', 'silverware',\n",
    "                   'cup_napkin', 'cup_plate', 'cup_silverware',\n",
    "                   'napkin_plate', 'napkin_silverware',\n",
    "                   'plate_silverware'],\n",
    "           'table_empty': ['cup', 'napkin', 'plate', 'silverware', 'tray',\n",
    "                          'cup_napkin', 'cup_plate', 'cup_silverware', \n",
    "                           'cup_tray',\n",
    "                          'napkin_plate', 'napkin_silverware', \n",
    "                           'napkin_tray',\n",
    "                          'plate_silverware', 'plate_tray',\n",
    "                          'silverware_tray']}\n",
    "\n",
    "# list of objects already on the table\n",
    "objects_on_table = []\n",
    "\n",
    "# coordinates in 2D-grid\n",
    "coordinates = {'cup': (1,4),\n",
    "              'napkin': (1,1),\n",
    "              'plate': (1,4),\n",
    "              'silverware': (1,2),\n",
    "              'tray': (1,1),\n",
    "              'start': (2,2),\n",
    "              'table_c': (4,3)}"
   ]
  },
  {
   "cell_type": "code",
   "execution_count": 20,
   "metadata": {},
   "outputs": [
    {
     "name": "stdout",
     "output_type": "stream",
     "text": [
      "(1, 4)\n",
      "(1, 1)\n",
      "(1, 4)\n",
      "(1, 2)\n",
      "(1, 1)\n",
      "(2, 2)\n",
      "(4, 3)\n"
     ]
    }
   ],
   "source": [
    "# edges: weights of distance for each state\n",
    "edges = {}\n",
    "\n",
    "#for i in coordinates.items():\n",
    "    \n",
    "    "
   ]
  },
  {
   "cell_type": "code",
   "execution_count": null,
   "metadata": {},
   "outputs": [],
   "source": []
  }
 ],
 "metadata": {
  "kernelspec": {
   "display_name": "Python 3",
   "language": "python",
   "name": "python3"
  },
  "language_info": {
   "codemirror_mode": {
    "name": "ipython",
    "version": 3
   },
   "file_extension": ".py",
   "mimetype": "text/x-python",
   "name": "python",
   "nbconvert_exporter": "python",
   "pygments_lexer": "ipython3",
   "version": "3.7.4"
  }
 },
 "nbformat": 4,
 "nbformat_minor": 2
}
