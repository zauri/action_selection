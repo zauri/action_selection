{
 "cells": [
  {
   "cell_type": "code",
   "execution_count": 1,
   "metadata": {},
   "outputs": [
    {
     "name": "stdout",
     "output_type": "stream",
     "text": [
      "Using matplotlib backend: Qt5Agg\n"
     ]
    }
   ],
   "source": [
    "import pandas as pd\n",
    "from sklearn import tree\n",
    "import graphviz\n",
    "import matplotlib.pyplot as plt\n",
    "from matplotlib.ticker import PercentFormatter\n",
    "import numpy as np\n",
    "import re\n",
    "pd.options.display.max_rows = 500\n",
    "\n",
    "%matplotlib"
   ]
  },
  {
   "cell_type": "code",
   "execution_count": 2,
   "metadata": {},
   "outputs": [],
   "source": [
    "df = pd.read_csv('h03_data.csv', header=0)"
   ]
  },
  {
   "cell_type": "code",
   "execution_count": null,
   "metadata": {},
   "outputs": [],
   "source": []
  },
  {
   "cell_type": "markdown",
   "metadata": {},
   "source": [
    "### Create classes for unique target sequences"
   ]
  },
  {
   "cell_type": "code",
   "execution_count": 9,
   "metadata": {},
   "outputs": [],
   "source": [
    "# get set of unique sequences\n",
    "unique_seqs = set(df['sequence'])\n",
    "\n",
    "# create dict for classes based on unique sequences\n",
    "classes = {seq: c for c, seq in enumerate(unique_seqs)}\n",
    "\n",
    "# assign class to new column in df\n",
    "\n",
    "for row in range(0,len(df)):\n",
    "    df.loc[row,'class'] = classes[df.loc[row,'sequence']]"
   ]
  },
  {
   "cell_type": "code",
   "execution_count": 389,
   "metadata": {},
   "outputs": [],
   "source": [
    "#df.to_csv('h03_data.csv', header=True)"
   ]
  },
  {
   "cell_type": "markdown",
   "metadata": {},
   "source": [
    "### Generate decision tree"
   ]
  },
  {
   "cell_type": "code",
   "execution_count": 56,
   "metadata": {},
   "outputs": [],
   "source": [
    "X = df.iloc[:,0:9]"
   ]
  },
  {
   "cell_type": "code",
   "execution_count": 57,
   "metadata": {},
   "outputs": [],
   "source": [
    "y = df['class']"
   ]
  },
  {
   "cell_type": "code",
   "execution_count": 58,
   "metadata": {},
   "outputs": [],
   "source": [
    "clf = tree.DecisionTreeClassifier()\n",
    "\n",
    "one_hot_data = pd.get_dummies(X)\n",
    "\n",
    "clf = clf.fit(one_hot_data,y)"
   ]
  },
  {
   "cell_type": "code",
   "execution_count": 67,
   "metadata": {},
   "outputs": [
    {
     "data": {
      "text/plain": [
       "'tree.pdf'"
      ]
     },
     "execution_count": 67,
     "metadata": {},
     "output_type": "execute_result"
    }
   ],
   "source": [
    "dot_data = tree.export_graphviz(clf, out_file=None,\n",
    "                               feature_names=list(one_hot_data.columns),\n",
    "                               class_names=df['sequence'],\n",
    "                               filled=True, rounded=True,\n",
    "                               special_characters=True)\n",
    "graph = graphviz.Source(dot_data)\n",
    "graph.render('tree')"
   ]
  },
  {
   "cell_type": "code",
   "execution_count": null,
   "metadata": {},
   "outputs": [],
   "source": []
  },
  {
   "cell_type": "code",
   "execution_count": null,
   "metadata": {},
   "outputs": [],
   "source": []
  },
  {
   "cell_type": "markdown",
   "metadata": {},
   "source": [
    "### Get probabilities for items at each table position"
   ]
  },
  {
   "cell_type": "code",
   "execution_count": 3,
   "metadata": {},
   "outputs": [],
   "source": [
    "items = ['bottle','bowl','cup','fork','glass','knife','plate','spoon']\n",
    "columns=['pos1','pos2','pos3','pos4','pos5','pos6','pos7','pos8']\n",
    "\n",
    "probs_on_table = pd.DataFrame(columns=columns, index=items)"
   ]
  },
  {
   "cell_type": "code",
   "execution_count": 4,
   "metadata": {},
   "outputs": [],
   "source": [
    "for col in probs_on_table:\n",
    "    for item in items:\n",
    "        probs_on_table.loc[item,col] = df[col].value_counts()[item] / len(df[col]) * 100"
   ]
  },
  {
   "cell_type": "code",
   "execution_count": 536,
   "metadata": {},
   "outputs": [],
   "source": [
    "#probs.to_csv('h03_probabilities_items_positions.csv',header=True,index=True)"
   ]
  },
  {
   "cell_type": "code",
   "execution_count": 5,
   "metadata": {},
   "outputs": [],
   "source": [
    "probs_on_table.T.plot.bar(subplots=True, grid=False, legend=False, tick_label=columns,\n",
    "                layout=(4,2), sharex=True, sharey=True)\n",
    "\n",
    "[ax.legend(loc=1) for ax in plt.gcf().axes]\n",
    "plt.gca().yaxis.set_major_formatter(PercentFormatter(100))\n",
    "plt.show()"
   ]
  },
  {
   "cell_type": "code",
   "execution_count": null,
   "metadata": {},
   "outputs": [],
   "source": []
  },
  {
   "cell_type": "code",
   "execution_count": 17,
   "metadata": {},
   "outputs": [],
   "source": [
    "#%matplotlib inline\n",
    "fig, axs = plt.subplots(4,2)\n",
    "fig.set_size_inches(8,12)\n",
    "\n",
    "axs[0,0].bar(np.arange(0,8,1), probs_on_table.T['bottle'], color='darkgreen')\n",
    "axs[0,1].bar(np.arange(0,8,1), probs_on_table.T['bowl'], color='olivedrab')\n",
    "axs[1,0].bar(np.arange(0,8,1), probs_on_table.T['cup'], color='darkorange')\n",
    "axs[1,1].bar(np.arange(0,8,1), probs_on_table.T['fork'], color='gold')\n",
    "axs[2,0].bar(np.arange(0,8,1), probs_on_table.T['glass'], color='royalblue')\n",
    "axs[2,1].bar(np.arange(0,8,1), probs_on_table.T['knife'], color='lightskyblue')\n",
    "axs[3,0].bar(np.arange(0,8,1), probs_on_table.T['plate'], color='orchid')\n",
    "axs[3,1].bar(np.arange(0,8,1), probs_on_table.T['spoon'], color='mediumpurple')\n",
    "\n",
    "axs[0,0].set_title('bottle')\n",
    "axs[0,1].set_title('bowl')\n",
    "axs[1,0].set_title('cup')\n",
    "axs[1,1].set_title('fork')\n",
    "axs[2,0].set_title('glass')\n",
    "axs[2,1].set_title('knife')\n",
    "axs[3,0].set_title('plate')\n",
    "axs[3,1].set_title('spoon')\n",
    "    \n",
    "for ax in axs.flat:\n",
    "    ax.label_outer()\n",
    "    ax.set_yticks(np.arange(0,25,5))\n",
    "    ax.set_xticks(range(8))\n",
    "    ax.set_xticklabels(columns, rotation=90)\n",
    "    ax.yaxis.set_major_formatter(PercentFormatter(100))\n",
    "\n",
    "fig.text(0.05, 0.5, 'frequency', va='center', rotation='vertical', fontsize=14)\n",
    "fig.text(0.5, 0.05, 'position on table', ha='center', fontsize=14)\n",
    "\n",
    "fig.suptitle('frequencies for item locations on (start) table', fontsize=16, y=0.95)\n",
    "\n",
    "plt.subplots_adjust(wspace=0.1, hspace=0.25)\n",
    "\n",
    "plt.show()"
   ]
  },
  {
   "cell_type": "code",
   "execution_count": null,
   "metadata": {},
   "outputs": [],
   "source": []
  },
  {
   "cell_type": "markdown",
   "metadata": {},
   "source": [
    "### Get frequency for items in sequence position"
   ]
  },
  {
   "cell_type": "code",
   "execution_count": 3,
   "metadata": {},
   "outputs": [],
   "source": [
    "items = ['bottle','bowl','cup','fork','glass','knife','plate','spoon']\n",
    "columns_seq = ['seq1','seq2','seq3','seq4','seq5','seq6','seq7','seq8']\n",
    "\n",
    "probs_in_seq = pd.DataFrame(columns=columns_seq, index=items)"
   ]
  },
  {
   "cell_type": "code",
   "execution_count": 4,
   "metadata": {},
   "outputs": [],
   "source": [
    "for col in probs_in_seq:\n",
    "    for item in items:\n",
    "        try:\n",
    "            probs_in_seq.loc[item,col] = df[col].value_counts()[item] / len(df[col]) * 100\n",
    "        except:\n",
    "            continue"
   ]
  },
  {
   "cell_type": "code",
   "execution_count": 5,
   "metadata": {
    "scrolled": true
   },
   "outputs": [],
   "source": [
    "#%matplotlib inline\n",
    "fig, axs = plt.subplots(4,2)\n",
    "fig.set_size_inches(8,12)\n",
    "\n",
    "axs[0,0].bar(np.arange(0,8,1), probs_in_seq.T['bottle'], color='darkgreen')\n",
    "axs[0,1].bar(np.arange(0,8,1), probs_in_seq.T['bowl'], color='olivedrab')\n",
    "axs[1,0].bar(np.arange(0,8,1), probs_in_seq.T['cup'], color='darkorange')\n",
    "axs[1,1].bar(np.arange(0,8,1), probs_in_seq.T['fork'], color='gold')\n",
    "axs[2,0].bar(np.arange(0,8,1), probs_in_seq.T['glass'], color='royalblue')\n",
    "axs[2,1].bar(np.arange(0,8,1), probs_in_seq.T['knife'], color='lightskyblue')\n",
    "axs[3,0].bar(np.arange(0,8,1), probs_in_seq.T['plate'], color='orchid')\n",
    "axs[3,1].bar(np.arange(0,8,1), probs_in_seq.T['spoon'], color='mediumpurple')\n",
    "\n",
    "axs[0,0].set_title('bottle')\n",
    "axs[0,1].set_title('bowl')\n",
    "axs[1,0].set_title('cup')\n",
    "axs[1,1].set_title('fork')\n",
    "axs[2,0].set_title('glass')\n",
    "axs[2,1].set_title('knife')\n",
    "axs[3,0].set_title('plate')\n",
    "axs[3,1].set_title('spoon')\n",
    "    \n",
    "for ax in axs.flat:\n",
    "    #ax.label_outer()\n",
    "    #ax.set_yticks(np.arange(0,25,5))\n",
    "    ax.set_xticks(range(8))\n",
    "    ax.set_xticklabels(columns_seq, rotation=90)\n",
    "    ax.yaxis.set_major_formatter(PercentFormatter(100))\n",
    "\n",
    "fig.text(0.05, 0.5, 'frequency', va='center', rotation='vertical', fontsize=14)\n",
    "fig.text(0.5, 0.05, 'position in sequence', ha='center', fontsize=14)\n",
    "\n",
    "plt.subplots_adjust(wspace=0.3, hspace=0.45)\n",
    "fig.suptitle('frequencies for item position in sequence', fontsize=16, y=0.95)\n",
    "\n",
    "plt.show()"
   ]
  },
  {
   "cell_type": "code",
   "execution_count": null,
   "metadata": {},
   "outputs": [],
   "source": []
  },
  {
   "cell_type": "code",
   "execution_count": null,
   "metadata": {},
   "outputs": [],
   "source": []
  },
  {
   "cell_type": "code",
   "execution_count": null,
   "metadata": {},
   "outputs": [],
   "source": []
  },
  {
   "cell_type": "code",
   "execution_count": null,
   "metadata": {},
   "outputs": [],
   "source": []
  }
 ],
 "metadata": {
  "kernelspec": {
   "display_name": "Python 3",
   "language": "python",
   "name": "python3"
  },
  "language_info": {
   "codemirror_mode": {
    "name": "ipython",
    "version": 3
   },
   "file_extension": ".py",
   "mimetype": "text/x-python",
   "name": "python",
   "nbconvert_exporter": "python",
   "pygments_lexer": "ipython3",
   "version": "3.7.7"
  }
 },
 "nbformat": 4,
 "nbformat_minor": 4
}
