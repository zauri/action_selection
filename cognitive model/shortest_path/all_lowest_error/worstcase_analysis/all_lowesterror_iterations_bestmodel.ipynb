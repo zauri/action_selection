{
 "cells": [
  {
   "cell_type": "code",
   "execution_count": 1,
   "metadata": {},
   "outputs": [],
   "source": [
    "import pandas as pd\n",
    "import numpy as np\n",
    "import itertools\n",
    "import random\n",
    "import ast\n",
    "import matplotlib\n",
    "import matplotlib.pyplot as plt\n",
    "from scipy.stats import spearmanr, wilcoxon, friedmanchisquare, kendalltau, pearsonr\n",
    "from matplotlib import animation\n",
    "from mpl_toolkits import mplot3d\n",
    "from scipy.spatial import distance\n",
    "from pyxdameraulevenshtein import damerau_levenshtein_distance\n",
    "\n",
    "pd.set_option('display.max_rows', 500)"
   ]
  },
  {
   "cell_type": "markdown",
   "metadata": {},
   "source": [
    "### Prepare Data"
   ]
  },
  {
   "cell_type": "code",
   "execution_count": 20,
   "metadata": {},
   "outputs": [],
   "source": [
    "# read data\n",
    "\n",
    "df = pd.read_csv('all_task_environments.csv', header=0, skiprows=[1])"
   ]
  },
  {
   "cell_type": "markdown",
   "metadata": {},
   "source": [
    "### Define functions for prediction"
   ]
  },
  {
   "cell_type": "code",
   "execution_count": 22,
   "metadata": {},
   "outputs": [],
   "source": [
    "def predict_sequence(objects, coordinates, start_coordinates, c, k, dimension=[3,]):\n",
    "    ''' Predicts sequence based on required objects, object coordinates, start coordinates of subject,\n",
    "        parameters (c+k) and dimensionality.\n",
    "        Input: Objects, object coordinates, start coordinates, c, k, dimension\n",
    "        Output: Sequence of objects as str\n",
    "    '''\n",
    "    prediction = []\n",
    "    possible_items = dict.fromkeys(objects, 0) # generate dict from object list\n",
    "    coord_index = 0\n",
    "    start_coords = start_coordinates\n",
    "    coords = coordinates\n",
    "    new_coords = {}\n",
    "    new_start_coords = []\n",
    "    \n",
    "    if dimension[0] == 3: # no changes if 3D\n",
    "        new_coords = coords\n",
    "        new_start_coords = start_coords\n",
    "        \n",
    "    elif dimension[0] == 2: # 2D: remove obsolete coordinate\n",
    "        if dimension[1] == 'xy':\n",
    "            new_coords = {key: value[:-1] for key, value in coords.items()}\n",
    "            new_start_coords = [x[:-1] for x in start_coords]\n",
    "                \n",
    "        elif dimension[1] == 'xz':\n",
    "            new_start_coords = [[x[0], x[-1]] for x in start_coords]\n",
    "            \n",
    "            for key, value in coords.items():\n",
    "                new_value = (value[0], value[-1])\n",
    "                new_coords[key] = new_value\n",
    "        \n",
    "        elif dimension[1] == 'yz':\n",
    "            new_coords = {key: value[1:] for key, value in coords.items()}\n",
    "            new_start_coords = [x[1:] for x in start_coords]\n",
    "                \n",
    "    elif dimension[0] == 1: # 1D: choose appropriate coordinate\n",
    "        if dimension[1] == 'x':\n",
    "            new_coords = {key: value[0] for key, value in coords.items()}\n",
    "            new_start_coords = [x[0] for x in start_coords]\n",
    "        \n",
    "        elif dimension[1] == 'y':\n",
    "            new_coords = {key: value[1] for key, value in coords.items()}\n",
    "            new_start_coords = [x[1] for x in start_coords]\n",
    "        \n",
    "        elif dimension[1] == 'z':\n",
    "            new_coords = {key: value[2] for key, value in coords.items()}\n",
    "            new_start_coords = [x[2] for x in start_coords]\n",
    "    \n",
    "    while bool(possible_items) == True: # while dict not empty\n",
    "        for obj in possible_items.keys():\n",
    "            possible_items[obj] = ((distance.euclidean(\n",
    "                                new_start_coords[coord_index], \n",
    "                                new_coords[obj])\n",
    "                                ) ** k[obj]) * c[obj]\n",
    "        #print(possible_items)                      \n",
    "        minval = min(possible_items.values())\n",
    "        minval = [k for k, v in possible_items.items() if v == minval]\n",
    "        minval = random.choice(minval) # choose prediction randomly if multiple items have same cost\n",
    "        prediction.append(minval)\n",
    "        del possible_items[minval]\n",
    "        coord_index += 1\n",
    "        \n",
    "    return prediction"
   ]
  },
  {
   "cell_type": "code",
   "execution_count": 4,
   "metadata": {},
   "outputs": [],
   "source": [
    "def get_average(objects, coordinates, start_coordinates, c, k, dimension, sequence):\n",
    "    ''' Returns average edit distance (Damerau-Levenshtein) for 100 trials of sequence prediction.\n",
    "    '''\n",
    "    edit_list = []\n",
    "    prediction_list = []\n",
    "\n",
    "    for x in range(0,100):\n",
    "        result = ''.join(predict_sequence(objects, coordinates, start_coordinates, c, k, dimension))\n",
    "        dl = damerau_levenshtein_distance(sequence,result) / len(sequence)\n",
    "        edit_list.append(dl)\n",
    "        prediction_list.append(result)\n",
    "    \n",
    "    avg = np.mean(edit_list)\n",
    "    return avg, prediction_list, edit_list"
   ]
  },
  {
   "cell_type": "code",
   "execution_count": 5,
   "metadata": {},
   "outputs": [],
   "source": [
    "def get_avg_editdist(data):\n",
    "    ''' Calculates average edit distance for all combinations of parameters (c, k, dimension).\n",
    "        Input: Dataframe with objects, coordinates, start coordinates, object categories\n",
    "        Output: Dataframe with edit distance results (col name: parameters used)\n",
    "    '''\n",
    "    results = pd.DataFrame()\n",
    "    dimensions = [[3,'xyz']]\n",
    "    predictions = {}\n",
    "    edit_distances = {}\n",
    "        \n",
    "    for row in range(0,len(df)):\n",
    "        objects = list(df.at[row,'objects'].split(','))\n",
    "        strong_k = list(df.at[row,'strong_k'].split(','))\n",
    "        mid_k = list(df.at[row,'mid_k'].split(','))\n",
    "        coordinates = {key: ast.literal_eval(value) for key, value in (elem.split(': ') for elem in df.at[row,'coordinates'].split(';'))}\n",
    "        start_coordinates = list(ast.literal_eval(df.at[row, 'start_coordinates']))\n",
    "        sequence = str(df.at[row,'sequence'])\n",
    "        \n",
    "        for k in np.arange(0.6,0.7,0.1):\n",
    "            k_strong = round(k,2)\n",
    "            k_mid = round(k + 0.1,2)\n",
    "            k1 = {obj: k_strong if obj in strong_k else k_mid if obj in mid_k else 1.0 for obj in objects}\n",
    "                    \n",
    "            for c in np.arange(1.8,1.9,0.1):\n",
    "                c = round(c, 1)\n",
    "                c1 = {obj: c if obj in df.at[row, 'containment'] else 1.0 for obj in objects}\n",
    "                \n",
    "                for dim in dimensions:                \n",
    "                    # get average edit distance\n",
    "                    edit_dist, predictions[sequence], edit_distances[sequence] = get_average(objects, coordinates, start_coordinates, c1, k1, dim, sequence)\n",
    "                    edit_dist = edit_dist / len(sequence)\n",
    "                    \n",
    "                    params = 'c: ' + str(c) + '; k: ' + str(k_strong) + ',' + str(k_mid) + '; ' + str(dim[1])\n",
    "                    results.at[row,params] = edit_dist\n",
    "                    \n",
    "    return results, predictions, edit_distances"
   ]
  },
  {
   "cell_type": "markdown",
   "metadata": {},
   "source": [
    "### Calculate edit distances, create df"
   ]
  },
  {
   "cell_type": "code",
   "execution_count": 23,
   "metadata": {},
   "outputs": [],
   "source": [
    "#%%timeit -n1 -r1\n",
    "results_new, predictions, edit_distances = get_avg_editdist(df)"
   ]
  },
  {
   "cell_type": "code",
   "execution_count": 24,
   "metadata": {},
   "outputs": [
    {
     "data": {
      "text/plain": [
       "1.0"
      ]
     },
     "execution_count": 24,
     "metadata": {},
     "output_type": "execute_result"
    }
   ],
   "source": [
    "np.median(edit_distances['gswap'])"
   ]
  },
  {
   "cell_type": "code",
   "execution_count": 25,
   "metadata": {
    "scrolled": true
   },
   "outputs": [
    {
     "data": {
      "text/plain": [
       "23"
      ]
     },
     "execution_count": 25,
     "metadata": {},
     "output_type": "execute_result"
    }
   ],
   "source": [
    "len(edit_distances.keys())"
   ]
  },
  {
   "cell_type": "markdown",
   "metadata": {},
   "source": [
    "### Boxplot for edit dist. distributions"
   ]
  },
  {
   "cell_type": "code",
   "execution_count": 28,
   "metadata": {},
   "outputs": [],
   "source": [
    "%matplotlib qt\n",
    "\n",
    "fig = plt.figure(figsize=(12,6))\n",
    "ax = fig.add_subplot()\n",
    "\n",
    "for dist in edit_distances.keys():\n",
    "    ax.boxplot(edit_distances.values(), notch=False)\n",
    "    \n",
    "plt.xticks(range(1,24), labels=edit_distances.keys(), rotation=90)\n",
    "plt.yticks(np.arange(0.0,1.1,0.2))\n",
    "plt.margins(0.05)\n",
    "plt.subplots_adjust(bottom=0.15)"
   ]
  },
  {
   "cell_type": "code",
   "execution_count": null,
   "metadata": {},
   "outputs": [],
   "source": []
  },
  {
   "cell_type": "code",
   "execution_count": null,
   "metadata": {},
   "outputs": [],
   "source": []
  },
  {
   "cell_type": "code",
   "execution_count": null,
   "metadata": {},
   "outputs": [],
   "source": []
  }
 ],
 "metadata": {
  "kernelspec": {
   "display_name": "Python 3",
   "language": "python",
   "name": "python3"
  },
  "language_info": {
   "codemirror_mode": {
    "name": "ipython",
    "version": 3
   },
   "file_extension": ".py",
   "mimetype": "text/x-python",
   "name": "python",
   "nbconvert_exporter": "python",
   "pygments_lexer": "ipython3",
   "version": "3.7.7"
  }
 },
 "nbformat": 4,
 "nbformat_minor": 2
}
