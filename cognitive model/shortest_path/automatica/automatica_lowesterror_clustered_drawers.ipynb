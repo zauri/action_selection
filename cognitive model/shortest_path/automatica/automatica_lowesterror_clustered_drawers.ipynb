{
 "cells": [
  {
   "cell_type": "code",
   "execution_count": 1,
   "metadata": {},
   "outputs": [],
   "source": [
    "import pandas as pd\n",
    "import numpy as np\n",
    "import itertools\n",
    "import random\n",
    "import ast\n",
    "import matplotlib\n",
    "import matplotlib.pyplot as plt\n",
    "from scipy.stats import spearmanr, wilcoxon, friedmanchisquare, kendalltau, pearsonr\n",
    "from matplotlib import animation\n",
    "from mpl_toolkits import mplot3d\n",
    "from scipy.spatial import distance\n",
    "from pyxdameraulevenshtein import damerau_levenshtein_distance\n",
    "\n",
    "pd.set_option('display.max_rows', 500)"
   ]
  },
  {
   "cell_type": "markdown",
   "metadata": {},
   "source": [
    "### Prepare Data"
   ]
  },
  {
   "cell_type": "code",
   "execution_count": 2,
   "metadata": {},
   "outputs": [],
   "source": [
    "# read data\n",
    "\n",
    "df = pd.read_csv('automatica_task_environments_clustered_drawers.csv', header=0,\n",
    "                 skiprows=[29,49,57,66], skip_blank_lines=True,\n",
    "                usecols=['ID', 'sequence_clustered_drawers', 'coordinates_clustered_drawers',\n",
    "                        'strong_k', 'mid_k', 'containment', 'error_clustered_drawers',\n",
    "                        'start_coordinates'],\n",
    "                nrows=79)"
   ]
  },
  {
   "cell_type": "code",
   "execution_count": 3,
   "metadata": {},
   "outputs": [],
   "source": [
    "#df"
   ]
  },
  {
   "cell_type": "markdown",
   "metadata": {},
   "source": [
    "### Define functions for prediction"
   ]
  },
  {
   "cell_type": "code",
   "execution_count": 4,
   "metadata": {},
   "outputs": [],
   "source": [
    "def predict_sequence(objects, coordinates, start_coordinates, c, k, dimension=[3,]):\n",
    "    ''' Predicts sequence based on required objects, object coordinates, start coordinates of subject,\n",
    "        parameters (c+k) and dimensionality.\n",
    "        Input: Objects, object coordinates, start coordinates, c, k, dimension\n",
    "        Output: Sequence of objects as str\n",
    "    '''\n",
    "    prediction = []\n",
    "    possible_items = dict.fromkeys(objects, 0) # generate dict from object list\n",
    "    coord_index = 0\n",
    "    start_coords = start_coordinates\n",
    "    coords = coordinates\n",
    "    new_coords = {}\n",
    "    new_start_coords = []\n",
    "    \n",
    "    if dimension[0] == 3: # no changes if 3D\n",
    "        new_coords = coords\n",
    "        new_start_coords = start_coords\n",
    "        \n",
    "    elif dimension[0] == 2: # 2D: remove obsolete coordinate\n",
    "        if dimension[1] == 'xy':\n",
    "            new_coords = {key: value[:-1] for key, value in coords.items()}\n",
    "            new_start_coords = [x[:-1] for x in start_coords]\n",
    "                \n",
    "        elif dimension[1] == 'xz':\n",
    "            new_start_coords = [[x[0], x[-1]] for x in start_coords]\n",
    "            \n",
    "            for key, value in coords.items():\n",
    "                new_value = (value[0], value[-1])\n",
    "                new_coords[key] = new_value\n",
    "        \n",
    "        elif dimension[1] == 'yz':\n",
    "            new_coords = {key: value[1:] for key, value in coords.items()}\n",
    "            new_start_coords = [x[1:] for x in start_coords]\n",
    "                \n",
    "    elif dimension[0] == 1: # 1D: choose appropriate coordinate\n",
    "        if dimension[1] == 'x':\n",
    "            new_coords = {key: value[0] for key, value in coords.items()}\n",
    "            new_start_coords = [x[0] for x in start_coords]\n",
    "        \n",
    "        elif dimension[1] == 'y':\n",
    "            new_coords = {key: value[1] for key, value in coords.items()}\n",
    "            new_start_coords = [x[1] for x in start_coords]\n",
    "        \n",
    "        elif dimension[1] == 'z':\n",
    "            new_coords = {key: value[2] for key, value in coords.items()}\n",
    "            new_start_coords = [x[2] for x in start_coords]\n",
    "    \n",
    "    while bool(possible_items) == True: # while dict not empty\n",
    "        for obj in possible_items.keys():\n",
    "            possible_items[obj] = ((distance.euclidean(\n",
    "                                new_start_coords[coord_index], \n",
    "                                new_coords[obj])\n",
    "                                ) ** k[obj]) * c[obj]\n",
    "        #print(possible_items)                      \n",
    "        minval = min(possible_items.values())\n",
    "        minval = [k for k, v in possible_items.items() if v == minval]\n",
    "        minval = random.choice(minval) # choose prediction randomly if multiple items have same cost\n",
    "        prediction.append(minval)\n",
    "        del possible_items[minval]\n",
    "        coord_index += 1\n",
    "        \n",
    "    return prediction"
   ]
  },
  {
   "cell_type": "code",
   "execution_count": 5,
   "metadata": {},
   "outputs": [],
   "source": [
    "def get_median(objects, coordinates, start_coordinates, c, k, dimension, sequence,n=10):\n",
    "    ''' Returns average edit distance (Damerau-Levenshtein) for 100 trials of sequence prediction.\n",
    "    '''\n",
    "    edit_list = []\n",
    "\n",
    "    for x in range(0,n):\n",
    "        #print(objects)\n",
    "        result = ''.join(predict_sequence(objects, coordinates, start_coordinates, c, k, dimension))\n",
    "        dl = damerau_levenshtein_distance(sequence,result)\n",
    "        edit_list.append(dl)\n",
    "    \n",
    "    #avg = np.mean(edit_list)\n",
    "    median = np.median(edit_list)\n",
    "    return median"
   ]
  },
  {
   "cell_type": "code",
   "execution_count": 6,
   "metadata": {},
   "outputs": [],
   "source": [
    "def get_avg_editdist(data, dimensions=[[1,'x'],[1,'y'],[1,'z'],[2,'xy'],[2,'xz'],[2,'yz'],[3,'xyz']],n=10):\n",
    "    ''' Calculates average edit distance for all combinations of parameters (c, k, dimension).\n",
    "        Input: Dataframe with objects, coordinates, start coordinates, object categories\n",
    "        Output: Dataframe with edit distance results (col name: parameters used)\n",
    "    '''\n",
    "    results = pd.DataFrame()\n",
    "        \n",
    "    for row in range(0,len(data)):\n",
    "        objects = list(data.at[row,'sequence_clustered_drawers'])\n",
    "        strong_k = list(data.at[row,'strong_k'].split(','))\n",
    "        mid_k = list(data.at[row,'mid_k'].split(','))\n",
    "        #food_k = list(data.at[row,'food_k'].split(','))\n",
    "        food_k = []\n",
    "        coordinates = {key: ast.literal_eval(value) for key, value in (elem.split(': ') for elem in data.at[row,'coordinates_clustered_drawers'].split(';'))}\n",
    "        #print(coordinates)\n",
    "        start_coordinates = list(ast.literal_eval(data.at[row, 'start_coordinates']))\n",
    "        sequence = str(data.at[row,'sequence_clustered_drawers'])\n",
    "        c1 = {obj: 1.2 for obj in objects}\n",
    "        k1 = {obj: 1.0 for obj in objects}\n",
    "        \n",
    "        #for k2 in np.arange(1.1,2.0,0.1):\n",
    "            #k_food = round(k2,2)\n",
    "            #k1 = {obj: k_food if obj in food_k else 1.0 for obj in objects}\n",
    "        \n",
    "        for k in np.arange(0,0.9,0.1):\n",
    "            k_strong = round(k,2)\n",
    "            k_mid = round(k + 0.1,2)\n",
    "            k1 = {obj: k_strong if obj in strong_k else k_mid if obj in mid_k else round(k1[obj],2) for obj in objects}\n",
    "            \n",
    "                #for c in np.arange(1.0,2.0,0.1):\n",
    "                #    c = round(c, 1)\n",
    "                #    c1 = {obj: 1.2 for obj in objects}\n",
    "                \n",
    "            for dim in dimensions:                \n",
    "                # get average edit distance\n",
    "                median = get_median(objects, coordinates, start_coordinates, c1, k1, dim, sequence, n)\n",
    "                median = median / len(sequence)\n",
    "                #params = 'c: ' + str(c) + '; k: ' + str(k_strong) + ',' + str(k_mid) + ',' + str(k_food) + '; ' + str(dim[1])\n",
    "                params = 'c: 1.2' + '; k: ' + str(k_strong) + ',' + str(k_mid) + '; ' + str(dim[1])\n",
    "                results.at[row,params] = median\n",
    "                        \n",
    "        results.at[row,'sequence'] = sequence\n",
    "        results.at[row,'error'] = data.at[row,'error_clustered_drawers']\n",
    "        results.at[row,'ID'] = data.at[row,'ID']\n",
    "                    \n",
    "    return results"
   ]
  },
  {
   "cell_type": "markdown",
   "metadata": {},
   "source": [
    "### Calculate edit distances, create df"
   ]
  },
  {
   "cell_type": "code",
   "execution_count": 7,
   "metadata": {},
   "outputs": [
    {
     "name": "stdout",
     "output_type": "stream",
     "text": [
      "CPU times: user 2min 55s, sys: 406 ms, total: 2min 55s\n",
      "Wall time: 2min 56s\n"
     ]
    }
   ],
   "source": [
    "# ~3 min for n=100\n",
    "%time results_new = get_avg_editdist(df,n=100)"
   ]
  },
  {
   "cell_type": "code",
   "execution_count": 23,
   "metadata": {
    "scrolled": true
   },
   "outputs": [],
   "source": [
    "#results_new"
   ]
  },
  {
   "cell_type": "markdown",
   "metadata": {},
   "source": [
    "### Get lowest error, compare edit distances"
   ]
  },
  {
   "cell_type": "code",
   "execution_count": 9,
   "metadata": {},
   "outputs": [],
   "source": [
    "def get_lowest_error(results):\n",
    "    ''' Returns lowest error in dataframe and index of lowest error.\n",
    "    '''\n",
    "    for col in list(results):\n",
    "        if col != 'sequence' and col != 'error' and col != 'ID':\n",
    "            results.loc['mean',col] = results[col].mean()\n",
    "            #results.loc['median',col] = results[col].median()\n",
    "    lowest = min(results.loc['mean'])\n",
    "    mean = list(results.loc['mean'])\n",
    "    \n",
    "    return lowest, results.columns[(results.loc['mean'] == lowest)], mean, results"
   ]
  },
  {
   "cell_type": "code",
   "execution_count": 16,
   "metadata": {},
   "outputs": [
    {
     "data": {
      "text/plain": [
       "(0.6587056754778274,\n",
       " Index(['c: 1.2; k: 0.7,0.8; xz', 'c: 1.2; k: 0.8,0.9; xz'], dtype='object'))"
      ]
     },
     "execution_count": 16,
     "metadata": {},
     "output_type": "execute_result"
    }
   ],
   "source": [
    "lowest, lowest_idx, list_mean, results_mean = get_lowest_error(results_new)\n",
    "lowest, lowest_idx"
   ]
  },
  {
   "cell_type": "code",
   "execution_count": 27,
   "metadata": {},
   "outputs": [
    {
     "data": {
      "text/plain": [
       "0.16638631369539583"
      ]
     },
     "execution_count": 27,
     "metadata": {},
     "output_type": "execute_result"
    }
   ],
   "source": [
    "# stdev for results better than baseline\n",
    "np.std(results_new['c: 1.2; k: 0.7,0.8; xz'].loc[results_new['c: 1.2; k: 0.7,0.8; xz'] <= results_new['error']])"
   ]
  },
  {
   "cell_type": "code",
   "execution_count": 29,
   "metadata": {},
   "outputs": [
    {
     "data": {
      "text/plain": [
       "0.05572470426900803"
      ]
     },
     "execution_count": 29,
     "metadata": {},
     "output_type": "execute_result"
    }
   ],
   "source": [
    "# avg difference between best model and error\n",
    "np.mean(results_new['error'][:-1] - results_new['c: 1.2; k: 0.7,0.8; xz'][:-1])"
   ]
  },
  {
   "cell_type": "code",
   "execution_count": 18,
   "metadata": {},
   "outputs": [
    {
     "data": {
      "text/plain": [
       "(0.7073617205021665, 0.6996800667686743)"
      ]
     },
     "execution_count": 18,
     "metadata": {},
     "output_type": "execute_result"
    }
   ],
   "source": [
    "np.nanmean(list_mean), np.nanmedian(list_mean)"
   ]
  },
  {
   "cell_type": "code",
   "execution_count": 137,
   "metadata": {},
   "outputs": [
    {
     "name": "stdout",
     "output_type": "stream",
     "text": [
      "Average xy: 0.6900369243196247, stdev: 0.011328124693162715, median: 0.6936019676526005\n",
      "Average xyz: 0.6918003897961703, stdev: 0.011819520043020365, median: 0.6964794347705741\n"
     ]
    }
   ],
   "source": [
    "# Compare avg edit distance for xy and xyz\n",
    "list_xy = []\n",
    "list_xyz = []\n",
    "\n",
    "for col in results_mean:\n",
    "    if col != 'sequence' and col != 'error' and col.split(';')[2].strip() == 'xy':\n",
    "        list_xy.append(results_mean.at['mean',col])\n",
    "    elif col != 'sequence' and col != 'error' and col.split(';')[2].strip() == 'xyz':\n",
    "        list_xyz.append(results_mean.at['mean',col])\n",
    "        \n",
    "avg_xy = np.mean(list_xy)\n",
    "med_xy = np.median(list_xy)\n",
    "std_xy = np.std(list_xy)\n",
    "print('Average xy: ' + str(avg_xy)  + ', stdev: ' + str(std_xy) + ', median: ' + str(med_xy))\n",
    "        \n",
    "avg_xyz = np.mean(list_xyz)\n",
    "med_xyz = np.median(list_xyz)\n",
    "std_xyz = np.std(list_xyz)\n",
    "print('Average xyz: ' + str(avg_xyz) + ', stdev: ' + str(std_xyz) + ', median: ' + str(med_xyz))"
   ]
  },
  {
   "cell_type": "code",
   "execution_count": null,
   "metadata": {},
   "outputs": [],
   "source": []
  },
  {
   "cell_type": "code",
   "execution_count": 138,
   "metadata": {},
   "outputs": [
    {
     "name": "stdout",
     "output_type": "stream",
     "text": [
      "Average x: 0.7063103641162712, min: 0.6769747130506624\n",
      "Average y: 0.7121979754891147, min: 0.6737235338501161\n",
      "Average z: 0.7603876862315682, min: 0.7048700771802038\n",
      "Average xz: 0.6801632692982904\n",
      "Average yz: 0.7091010606833392\n"
     ]
    }
   ],
   "source": [
    "# Compare avg edit distances for x, y, z\n",
    "list_x = []\n",
    "list_y = []\n",
    "list_z = []\n",
    "list_xz = []\n",
    "list_yz = []\n",
    "\n",
    "for col in results_mean:\n",
    "    if col != 'sequence' and col != 'error' and col.split(';')[2].strip() == 'x':\n",
    "        list_x.append(results_mean.at['mean',col])\n",
    "    elif col != 'sequence' and col != 'error' and col.split(';')[2].strip() == 'y':\n",
    "        list_y.append(results_mean.at['mean',col])\n",
    "    elif col != 'sequence' and col != 'error' and col.split(';')[2].strip() == 'z':\n",
    "        list_z.append(results_mean.at['mean',col])\n",
    "    elif col != 'sequence' and col != 'error' and col.split(';')[2].strip() == 'xz':\n",
    "        list_xz.append(results_mean.at['mean',col])\n",
    "    elif col != 'sequence' and col != 'error' and col.split(';')[2].strip() == 'yz':\n",
    "        list_yz.append(results_mean.at['mean',col])\n",
    "\n",
    "avg_xz = np.mean(list_xz)\n",
    "avg_yz = np.mean(list_yz)\n",
    "        \n",
    "avg_x = np.mean(list_x)\n",
    "lowest_x = min(list_x)\n",
    "print('Average x: ' + str(avg_x) + ', min: ' + str(lowest_x)) \n",
    "        \n",
    "avg_y = np.mean(list_y)\n",
    "lowest_y = min(list_y)\n",
    "print('Average y: ' + str(avg_y) + ', min: ' + str(lowest_y)) \n",
    "        \n",
    "avg_z = np.mean(list_z)\n",
    "lowest_z = min(list_z)\n",
    "print('Average z: ' + str(avg_z) + ', min: ' + str(lowest_z)) \n",
    "\n",
    "print('Average xz: ' + str(avg_xz)) \n",
    "print('Average yz: ' + str(avg_yz)) "
   ]
  },
  {
   "cell_type": "markdown",
   "metadata": {},
   "source": [
    "### Statistical analysis"
   ]
  },
  {
   "cell_type": "code",
   "execution_count": 139,
   "metadata": {},
   "outputs": [
    {
     "name": "stdout",
     "output_type": "stream",
     "text": [
      "Friedman: stat = 20.784, p =  2.006E-03\n"
     ]
    }
   ],
   "source": [
    "# Compare all error predictions for dimensions\n",
    "stat, p = friedmanchisquare(list_x,list_y,list_z,list_xy,list_xz,list_yz,list_xyz)\n",
    "print('Friedman: stat = %.3f, p = % 10.3E' % (stat, p))"
   ]
  },
  {
   "cell_type": "code",
   "execution_count": 140,
   "metadata": {},
   "outputs": [
    {
     "name": "stdout",
     "output_type": "stream",
     "text": [
      "Wilcoxon: W = 12.000, p = 0.25000\n"
     ]
    }
   ],
   "source": [
    "# 2D vs 3D median\n",
    "stat, p = wilcoxon(list_xz, list_xy, zero_method='wilcox')\n",
    "print('Wilcoxon: W = %.3f, p = %.5f' % (stat, p))"
   ]
  },
  {
   "cell_type": "markdown",
   "metadata": {},
   "source": [
    "### Plots for dataframe"
   ]
  },
  {
   "cell_type": "code",
   "execution_count": null,
   "metadata": {},
   "outputs": [],
   "source": []
  },
  {
   "cell_type": "code",
   "execution_count": 141,
   "metadata": {},
   "outputs": [],
   "source": [
    "# Define input for plots\n",
    "\n",
    "c = [float(x[3:6]) for x in results_new.columns.tolist() if x != 'sequence' and x != 'error']\n",
    "#k = [float(x[11:14]) for x in results_new.columns.tolist() if x != 'sequence']\n",
    "k_strong = [float(x[11:14]) for x in results_new.columns.tolist() if x != 'sequence' and x != 'error']\n",
    "k_mid = [float(x[15:18]) for x in results_new.columns.tolist() if x != 'sequence' and x != 'error']\n",
    "dim = [x.strip() for x in results_new.columns[:-2].str.split(';').str[2]]\n",
    "median = [x for x in results_mean.loc['mean'][:-1].tolist() if pd.notnull(x) and x != 'error']"
   ]
  },
  {
   "cell_type": "code",
   "execution_count": 142,
   "metadata": {},
   "outputs": [
    {
     "name": "stderr",
     "output_type": "stream",
     "text": [
      "/home/zauri/files/anaconda3/lib/python3.7/site-packages/ipykernel_launcher.py:37: UserWarning: FixedFormatter should only be used together with FixedLocator\n"
     ]
    }
   ],
   "source": [
    "%matplotlib qt\n",
    "\n",
    "cm = ['red','blue','green','magenta','cyan','orange','grey']\n",
    "dim_num = [0 if x=='x' else 1 if x=='y' else 2 if x=='z' else 3 if x=='xy' else 4 if x=='xz' else 5 if x=='yz' else 6 for x in dim]\n",
    "\n",
    "cmap = matplotlib.colors.ListedColormap(cm)\n",
    "\n",
    "ticks = ['x', 'y', 'z', 'xy', 'xz', 'yz', 'xyz']\n",
    "norm = matplotlib.colors.BoundaryNorm(ticks, cmap.N)\n",
    "\n",
    "# create figure, 3d grid, set background to white\n",
    "fig2 = plt.figure(figsize=(12,8))\n",
    "ax2 = fig2.add_subplot(111, projection='3d')\n",
    "ax2.w_xaxis.set_pane_color((1.0,1.0,1.0,1.0))\n",
    "ax2.w_yaxis.set_pane_color((1.0,1.0,1.0,1.0))\n",
    "ax2.w_zaxis.set_pane_color((1.0,1.0,1.0,1.0))\n",
    "\n",
    "# create plot w/ median edit distance\n",
    "#img = ax2.scatter(c, k, median, alpha=0.5, s=38, c=dim_num, cmap=cmap)\n",
    "img = ax2.scatter(k_strong, k_mid, median, alpha=0.5, s=38, c=dim_num, cmap=cmap)\n",
    "\n",
    "# plot horizontal plane for baseline\n",
    "#xx, yy = np.meshgrid(np.linspace(1,1.9), np.linspace(0,0.9))\n",
    "xx, yy = np.meshgrid(np.linspace(0,0.9), np.linspace(0,0.9))\n",
    "#yy = np.meshgrid(range(2), range(2))\n",
    "zz = xx * 0 + 0.706\n",
    "ax2.plot_surface(xx, yy, zz, alpha=0.5)\n",
    "\n",
    "# set labels\n",
    "ax2.set_ylabel('strong k', fontsize=20, labelpad=10)\n",
    "ax2.set_xlabel('mid k', fontsize=20, labelpad=10)\n",
    "ax2.set_zlabel('normalized edit distance', fontsize=20, labelpad=7)\n",
    "#plt.title('Average edit distance (1 step)', fontsize=24)\n",
    "\n",
    "# create colorbar\n",
    "cb = plt.colorbar(img, cax = fig2.add_axes([0.9,0.3,0.03,0.4]))\n",
    "cb.ax.set_yticklabels(ticks, fontsize=16)\n",
    "plt.show()"
   ]
  },
  {
   "cell_type": "markdown",
   "metadata": {},
   "source": [
    "### Check for sequences worse than baseline"
   ]
  },
  {
   "cell_type": "code",
   "execution_count": 19,
   "metadata": {},
   "outputs": [
    {
     "name": "stdout",
     "output_type": "stream",
     "text": [
      "Higher than avg. error: 24 of 80 sequences\n"
     ]
    }
   ],
   "source": [
    "# get sequences from best model where performance worse than baseline\n",
    "results_new['c: 1.2; k: 0.7,0.8; xz'].loc[results_new['c: 1.2; k: 0.7,0.8; xz'] >= results_new['error']]\n",
    "\n",
    "print('Higher than avg. error: ' +\n",
    "    str(len(results_new['c: 1.2; k: 0.7,0.8; xz'].loc[results_new['c: 1.2; k: 0.7,0.8; xz'] >= results_new['error']]))\n",
    "    + ' of ' + \\\n",
    "    str(len(results_new['c: 1.2; k: 0.7,0.8; xz'])) + ' sequences')"
   ]
  },
  {
   "cell_type": "code",
   "execution_count": 22,
   "metadata": {},
   "outputs": [
    {
     "data": {
      "text/plain": [
       "6      a19\n",
       "7      a22\n",
       "9      a29\n",
       "10     a31\n",
       "22     a60\n",
       "25     a73\n",
       "26     a76\n",
       "28     a80\n",
       "33     a99\n",
       "34    a100\n",
       "39    a114\n",
       "42    a120\n",
       "44    a131\n",
       "47    a149\n",
       "51    a158\n",
       "56    a177\n",
       "57    a178\n",
       "63    a201\n",
       "64    a205\n",
       "65    a209\n",
       "68    a218\n",
       "73    a229\n",
       "77    a239\n",
       "78    a240\n",
       "Name: ID, dtype: object"
      ]
     },
     "execution_count": 22,
     "metadata": {},
     "output_type": "execute_result"
    }
   ],
   "source": [
    "worse_than_baseline = results_new['ID'].loc[results_new['c: 1.2; k: 0.7,0.8; xz'] >= results_new['error']]\n",
    "\n",
    "worse_than_baseline"
   ]
  },
  {
   "cell_type": "code",
   "execution_count": null,
   "metadata": {},
   "outputs": [],
   "source": []
  },
  {
   "cell_type": "code",
   "execution_count": null,
   "metadata": {},
   "outputs": [],
   "source": []
  },
  {
   "cell_type": "code",
   "execution_count": 152,
   "metadata": {},
   "outputs": [],
   "source": [
    "#%matplotlib inline\n",
    "\n",
    "error_individual = df['error_clustered_drawers']\n",
    "seqs = results_mean['sequence'][:-1].values\n",
    "res = results_new['c: 1.2; k: 0.7,0.8; xz'][:-1].values\n",
    "x = [x for x in range (0,len(seqs))]\n",
    "\n",
    "plt.figure(figsize=(18,6))\n",
    "plt.scatter(x, res, marker='o', label='model-generated sequences')\n",
    "plt.scatter(x, error_individual, c='red', marker='o', linewidth=2, label='baseline for sequence length')\n",
    "plt.plot(x, error_individual, c='red', alpha=0.5)\n",
    "plt.plot((x,x),(error_individual,res), '--', c='black', alpha=0.6)\n",
    "\n",
    "\n",
    "plt.title('silverware clustered for drawers, 0.659, c=1.2; k=0.7, 0.8; xz', fontsize=16)\n",
    "plt.xticks(x, seqs, rotation=90)\n",
    "plt.ylabel('median edit distance', fontsize=14)\n",
    "plt.xlabel('sequence', fontsize=14)\n",
    "plt.legend()\n",
    "\n",
    "#plt.savefig('plot_median_editdist_individualerrors_diff.png', bbox_inches='tight')\n",
    "plt.show()"
   ]
  },
  {
   "cell_type": "code",
   "execution_count": null,
   "metadata": {},
   "outputs": [],
   "source": []
  },
  {
   "cell_type": "code",
   "execution_count": null,
   "metadata": {},
   "outputs": [],
   "source": []
  },
  {
   "cell_type": "code",
   "execution_count": null,
   "metadata": {},
   "outputs": [],
   "source": []
  }
 ],
 "metadata": {
  "kernelspec": {
   "display_name": "Python 3",
   "language": "python",
   "name": "python3"
  },
  "language_info": {
   "codemirror_mode": {
    "name": "ipython",
    "version": 3
   },
   "file_extension": ".py",
   "mimetype": "text/x-python",
   "name": "python",
   "nbconvert_exporter": "python",
   "pygments_lexer": "ipython3",
   "version": "3.7.9"
  }
 },
 "nbformat": 4,
 "nbformat_minor": 2
}
