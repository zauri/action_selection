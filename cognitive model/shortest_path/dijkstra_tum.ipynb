{
 "cells": [
  {
   "cell_type": "code",
   "execution_count": 3,
   "metadata": {},
   "outputs": [],
   "source": [
    "import pandas as pd\n",
    "import numpy as np\n",
    "import itertools\n",
    "from scipy.spatial import distance"
   ]
  },
  {
   "cell_type": "markdown",
   "metadata": {},
   "source": [
    "### Prepare data from csv"
   ]
  },
  {
   "cell_type": "code",
   "execution_count": 4,
   "metadata": {},
   "outputs": [],
   "source": [
    "def prepare_data(objects_at_once=2):\n",
    "    \"\"\"Reads data from csv and drops node connections (edges) not meeting the specified constraint\n",
    "    (e.g. taking more than one object at once).\"\"\"\n",
    "\n",
    "    # Read data from csv\n",
    "    raw = pd.read_csv('tum_edges_list_all.csv', header=0, usecols=[0, 1, 2, 3, 4])\n",
    "\n",
    "    # No constraints for how many objects at once\n",
    "    if objects_at_once == 2:\n",
    "        data = raw\n",
    "    elif objects_at_once == 1:\n",
    "        # Add constraint: Only 1 object at once\n",
    "        data = raw.loc[raw['obj_at_once'] == 1]\n",
    "\n",
    "    # Reset index\n",
    "    data = data.reset_index(drop=True)\n",
    "\n",
    "    return data"
   ]
  },
  {
   "cell_type": "markdown",
   "metadata": {},
   "source": [
    "### Create inputs"
   ]
  },
  {
   "cell_type": "code",
   "execution_count": 5,
   "metadata": {},
   "outputs": [],
   "source": [
    "objects = ['t', 'n', 's', 'p', 'c']"
   ]
  },
  {
   "cell_type": "code",
   "execution_count": null,
   "metadata": {},
   "outputs": [],
   "source": []
  },
  {
   "cell_type": "code",
   "execution_count": 6,
   "metadata": {},
   "outputs": [],
   "source": [
    "coordinates = {'c': (1,4),\n",
    "              'n': (1,1),\n",
    "              'p': (1,4),\n",
    "              's': (1,2),\n",
    "              't': (1,1),\n",
    "              'start': (2,2),\n",
    "              'table': (4,3)}"
   ]
  },
  {
   "cell_type": "markdown",
   "metadata": {},
   "source": [
    "### Populate dataframe"
   ]
  },
  {
   "cell_type": "code",
   "execution_count": 7,
   "metadata": {},
   "outputs": [],
   "source": [
    "def fill_dataframe(objects, objects_at_once=2):\n",
    "    df = pd.DataFrame(columns=['from_node', 'to_node', 'obj_at_once', 'dist', 'weight_new'])\n",
    "    # Generate list of combinations w/o duplicates\n",
    "    nodes = list(itertools.chain(*[itertools.combinations(objects, i+1) for i in range(len(objects))]))\n",
    "    nodes = [''.join(node) for node in nodes]\n",
    "    \n",
    "    node_list = []\n",
    "    for x in range(0, len(nodes)):\n",
    "        if len(nodes[x]) <= 2:\n",
    "            df.loc[x, 'from_node'] = 'table_empty'\n",
    "            df.loc[x, 'to_node'] = nodes[x]\n",
    "            df.loc[x, 'obj_at_once'] = len(nodes[x])\n",
    "    \n",
    "        for y in range(x, len(nodes)):\n",
    "            if 1 <= (len(nodes[y]) - len(nodes[x])) <= 2:\n",
    "                if all(x in nodes[y] for x in nodes[x]):\n",
    "                    node_list.append((nodes[y], nodes[x]))\n",
    "    \n",
    "    for tup in node_list:\n",
    "        df = df.append({'from_node': tup[1], 'to_node': tup[0], 'obj_at_once': len(tup[0]) - len(tup[1])}, ignore_index=True)\n",
    "    \n",
    "    # No constraints for how many objects at once\n",
    "    if objects_at_once == 2:\n",
    "        df = df\n",
    "    elif objects_at_once == 1:\n",
    "        # Add constraint: Only 1 object at once\n",
    "        df = df.loc[df['obj_at_once'] == 1]\n",
    "\n",
    "    # Reset index\n",
    "    df = df.reset_index(drop=True)\n",
    "    \n",
    "    return df"
   ]
  },
  {
   "cell_type": "code",
   "execution_count": 15,
   "metadata": {},
   "outputs": [],
   "source": [
    "data = fill_dataframe(objects, objects_at_once=2)"
   ]
  },
  {
   "cell_type": "markdown",
   "metadata": {},
   "source": [
    "### Calculate distances"
   ]
  },
  {
   "cell_type": "code",
   "execution_count": 8,
   "metadata": {},
   "outputs": [],
   "source": [
    "def calculate_distances(data):\n",
    "    for row in range(0, len(data)):\n",
    "        # Distance = start -> obj 1 -> table\n",
    "        if data['from_node'][row] == 'table_empty' and len(data['to_node'][row]) == 1:\n",
    "            data.loc[row, 'dist'] = (distance.euclidean(\n",
    "                        coordinates['start'], \n",
    "                        coordinates[data['to_node'][row]]) +\n",
    "                    distance.euclidean(\n",
    "                        coordinates[data['to_node'][row]], \n",
    "                        coordinates['table'])\n",
    "                    )\n",
    "    \n",
    "        # Distance = start -> obj 1 -> obj 2 -> table\n",
    "        elif data['from_node'][row] == 'table_empty' and len(data['to_node'][row]) != 1:\n",
    "            data.loc[row, 'dist'] = (distance.euclidean(\n",
    "                        coordinates['start'], \n",
    "                        coordinates[data['to_node'][row][0]]) +\n",
    "                    distance.euclidean(\n",
    "                        coordinates[data['to_node'][row][0]], \n",
    "                        coordinates[data['to_node'][row][1]]) +\n",
    "                    distance.euclidean(\n",
    "                        coordinates[data['to_node'][row][1]], \n",
    "                        coordinates['table'])\n",
    "                    )\n",
    "    # Distance = table -> obj 1 -> (obj 2) -> table\n",
    "        else:\n",
    "            # Get difference between sequences (from_node, to_node)\n",
    "            diff = [x for x in data['to_node'][row] if x not in data['from_node'][row]]\n",
    "        \n",
    "            if len(diff) == 1:\n",
    "                data.loc[row, 'dist'] = distance.euclidean(\n",
    "                        coordinates['table'], \n",
    "                        coordinates[diff[0]]) * 2\n",
    "        \n",
    "            elif len(diff) == 2:\n",
    "                data.loc[row, 'dist'] = (distance.euclidean(\n",
    "                        coordinates['table'], \n",
    "                        coordinates[diff[0]]) +\n",
    "                    distance.euclidean(\n",
    "                        coordinates[diff[0]], \n",
    "                        coordinates[diff[1]]) +\n",
    "                    distance.euclidean(\n",
    "                        coordinates[diff[1]], \n",
    "                        coordinates['table'])\n",
    "                    )\n",
    "    return data"
   ]
  },
  {
   "cell_type": "code",
   "execution_count": 343,
   "metadata": {},
   "outputs": [],
   "source": [
    "#data = calculate_distances(data)\n",
    "#data"
   ]
  },
  {
   "cell_type": "code",
   "execution_count": 9,
   "metadata": {},
   "outputs": [],
   "source": [
    "c = {'c': 1.2,\n",
    "    'n': 1.0,\n",
    "    'p': 1.2,\n",
    "    's': 1.2,\n",
    "    't': 1.0}"
   ]
  },
  {
   "cell_type": "code",
   "execution_count": 10,
   "metadata": {},
   "outputs": [],
   "source": [
    "k = {'c': 1.0,\n",
    "    'n': 0.95,\n",
    "    'p': 0.9,\n",
    "    's': 1.0,\n",
    "    't': 0.9}"
   ]
  },
  {
   "cell_type": "code",
   "execution_count": 13,
   "metadata": {},
   "outputs": [],
   "source": [
    "def calculate_edge_weights(data):\n",
    "    # Reset weights according to weight function\n",
    "    for row in range(0, len(data)):\n",
    "        if 'c' in data['to_node'][row]:\n",
    "            data.loc[row, 'weight_new'] = (data['dist'][row] ** 1.0) * 1.2\n",
    "        elif 'p' in data['to_node'][row]:\n",
    "            data.loc[row, 'weight_new'] = (data['dist'][row] ** 0.9) * 1.2\n",
    "        elif 's' in data['to_node'][row]:\n",
    "            data.loc[row, 'weight_new'] = (data['dist'][row] ** 1.0) * 1.2\n",
    "        elif 'n' in data['to_node'][row]:\n",
    "            data.loc[row, 'weight_new'] = (data['dist'][row] ** 0.95) * 1.0\n",
    "        elif 't' in data['to_node'][row]:\n",
    "            data.loc[row, 'weight_new'] = (data['dist'][row] ** 0.9) * 1.0\n",
    "        else:\n",
    "            data.loc[row, 'weight_new'] = data['dist'][row]\n",
    "    \n",
    "    return data"
   ]
  },
  {
   "cell_type": "code",
   "execution_count": 24,
   "metadata": {},
   "outputs": [],
   "source": [
    "def calculate_edge_weights_params(data, objects, c, k):\n",
    "    # Reset weights according to weight parameters\n",
    "    for row in range(0, len(data)):\n",
    "        for obj in objects:\n",
    "            if obj in data['to_node'][row]:\n",
    "                data.loc[row, 'weight_new'] = (data['dist'][row] ** k[obj]) * c[obj]\n",
    "    return data"
   ]
  },
  {
   "cell_type": "code",
   "execution_count": 17,
   "metadata": {},
   "outputs": [
    {
     "data": {
      "text/html": [
       "<div>\n",
       "<style scoped>\n",
       "    .dataframe tbody tr th:only-of-type {\n",
       "        vertical-align: middle;\n",
       "    }\n",
       "\n",
       "    .dataframe tbody tr th {\n",
       "        vertical-align: top;\n",
       "    }\n",
       "\n",
       "    .dataframe thead th {\n",
       "        text-align: right;\n",
       "    }\n",
       "</style>\n",
       "<table border=\"1\" class=\"dataframe\">\n",
       "  <thead>\n",
       "    <tr style=\"text-align: right;\">\n",
       "      <th></th>\n",
       "      <th>from_node</th>\n",
       "      <th>to_node</th>\n",
       "      <th>obj_at_once</th>\n",
       "      <th>dist</th>\n",
       "      <th>weight_new</th>\n",
       "    </tr>\n",
       "  </thead>\n",
       "  <tbody>\n",
       "    <tr>\n",
       "      <th>0</th>\n",
       "      <td>table_empty</td>\n",
       "      <td>t</td>\n",
       "      <td>1</td>\n",
       "      <td>5.01976</td>\n",
       "      <td>4.27184</td>\n",
       "    </tr>\n",
       "    <tr>\n",
       "      <th>1</th>\n",
       "      <td>table_empty</td>\n",
       "      <td>n</td>\n",
       "      <td>1</td>\n",
       "      <td>5.01976</td>\n",
       "      <td>4.63073</td>\n",
       "    </tr>\n",
       "    <tr>\n",
       "      <th>2</th>\n",
       "      <td>table_empty</td>\n",
       "      <td>s</td>\n",
       "      <td>1</td>\n",
       "      <td>4.16228</td>\n",
       "      <td>4.99473</td>\n",
       "    </tr>\n",
       "    <tr>\n",
       "      <th>3</th>\n",
       "      <td>table_empty</td>\n",
       "      <td>p</td>\n",
       "      <td>1</td>\n",
       "      <td>5.39835</td>\n",
       "      <td>5.47288</td>\n",
       "    </tr>\n",
       "    <tr>\n",
       "      <th>4</th>\n",
       "      <td>table_empty</td>\n",
       "      <td>c</td>\n",
       "      <td>1</td>\n",
       "      <td>5.39835</td>\n",
       "      <td>6.47801</td>\n",
       "    </tr>\n",
       "    <tr>\n",
       "      <th>...</th>\n",
       "      <td>...</td>\n",
       "      <td>...</td>\n",
       "      <td>...</td>\n",
       "      <td>...</td>\n",
       "      <td>...</td>\n",
       "    </tr>\n",
       "    <tr>\n",
       "      <th>155</th>\n",
       "      <td>tnsp</td>\n",
       "      <td>tnspc</td>\n",
       "      <td>1</td>\n",
       "      <td>6.32456</td>\n",
       "      <td>7.58947</td>\n",
       "    </tr>\n",
       "    <tr>\n",
       "      <th>156</th>\n",
       "      <td>tnsc</td>\n",
       "      <td>tnspc</td>\n",
       "      <td>1</td>\n",
       "      <td>6.32456</td>\n",
       "      <td>7.58947</td>\n",
       "    </tr>\n",
       "    <tr>\n",
       "      <th>157</th>\n",
       "      <td>tnpc</td>\n",
       "      <td>tnspc</td>\n",
       "      <td>1</td>\n",
       "      <td>6.32456</td>\n",
       "      <td>7.58947</td>\n",
       "    </tr>\n",
       "    <tr>\n",
       "      <th>158</th>\n",
       "      <td>tspc</td>\n",
       "      <td>tnspc</td>\n",
       "      <td>1</td>\n",
       "      <td>7.2111</td>\n",
       "      <td>8.65332</td>\n",
       "    </tr>\n",
       "    <tr>\n",
       "      <th>159</th>\n",
       "      <td>nspc</td>\n",
       "      <td>tnspc</td>\n",
       "      <td>1</td>\n",
       "      <td>7.2111</td>\n",
       "      <td>8.65332</td>\n",
       "    </tr>\n",
       "  </tbody>\n",
       "</table>\n",
       "<p>160 rows × 5 columns</p>\n",
       "</div>"
      ],
      "text/plain": [
       "       from_node to_node obj_at_once     dist weight_new\n",
       "0    table_empty       t           1  5.01976    4.27184\n",
       "1    table_empty       n           1  5.01976    4.63073\n",
       "2    table_empty       s           1  4.16228    4.99473\n",
       "3    table_empty       p           1  5.39835    5.47288\n",
       "4    table_empty       c           1  5.39835    6.47801\n",
       "..           ...     ...         ...      ...        ...\n",
       "155         tnsp   tnspc           1  6.32456    7.58947\n",
       "156         tnsc   tnspc           1  6.32456    7.58947\n",
       "157         tnpc   tnspc           1  6.32456    7.58947\n",
       "158         tspc   tnspc           1   7.2111    8.65332\n",
       "159         nspc   tnspc           1   7.2111    8.65332\n",
       "\n",
       "[160 rows x 5 columns]"
      ]
     },
     "execution_count": 17,
     "metadata": {},
     "output_type": "execute_result"
    }
   ],
   "source": [
    "#data.to_csv('tum_edges_list.csv')\n",
    "data = calculate_distances(data)\n",
    "data = calculate_edge_weights(data)\n",
    "data"
   ]
  },
  {
   "cell_type": "code",
   "execution_count": 26,
   "metadata": {},
   "outputs": [
    {
     "data": {
      "text/html": [
       "<div>\n",
       "<style scoped>\n",
       "    .dataframe tbody tr th:only-of-type {\n",
       "        vertical-align: middle;\n",
       "    }\n",
       "\n",
       "    .dataframe tbody tr th {\n",
       "        vertical-align: top;\n",
       "    }\n",
       "\n",
       "    .dataframe thead th {\n",
       "        text-align: right;\n",
       "    }\n",
       "</style>\n",
       "<table border=\"1\" class=\"dataframe\">\n",
       "  <thead>\n",
       "    <tr style=\"text-align: right;\">\n",
       "      <th></th>\n",
       "      <th>from_node</th>\n",
       "      <th>to_node</th>\n",
       "      <th>obj_at_once</th>\n",
       "      <th>dist</th>\n",
       "      <th>weight_new</th>\n",
       "    </tr>\n",
       "  </thead>\n",
       "  <tbody>\n",
       "    <tr>\n",
       "      <th>0</th>\n",
       "      <td>table_empty</td>\n",
       "      <td>t</td>\n",
       "      <td>1</td>\n",
       "      <td>5.01976</td>\n",
       "      <td>4.27184</td>\n",
       "    </tr>\n",
       "    <tr>\n",
       "      <th>1</th>\n",
       "      <td>table_empty</td>\n",
       "      <td>n</td>\n",
       "      <td>1</td>\n",
       "      <td>5.01976</td>\n",
       "      <td>4.63073</td>\n",
       "    </tr>\n",
       "    <tr>\n",
       "      <th>2</th>\n",
       "      <td>table_empty</td>\n",
       "      <td>s</td>\n",
       "      <td>1</td>\n",
       "      <td>4.16228</td>\n",
       "      <td>4.99473</td>\n",
       "    </tr>\n",
       "    <tr>\n",
       "      <th>3</th>\n",
       "      <td>table_empty</td>\n",
       "      <td>p</td>\n",
       "      <td>1</td>\n",
       "      <td>5.39835</td>\n",
       "      <td>5.47288</td>\n",
       "    </tr>\n",
       "    <tr>\n",
       "      <th>4</th>\n",
       "      <td>table_empty</td>\n",
       "      <td>c</td>\n",
       "      <td>1</td>\n",
       "      <td>5.39835</td>\n",
       "      <td>6.47801</td>\n",
       "    </tr>\n",
       "    <tr>\n",
       "      <th>...</th>\n",
       "      <td>...</td>\n",
       "      <td>...</td>\n",
       "      <td>...</td>\n",
       "      <td>...</td>\n",
       "      <td>...</td>\n",
       "    </tr>\n",
       "    <tr>\n",
       "      <th>155</th>\n",
       "      <td>tnsp</td>\n",
       "      <td>tnspc</td>\n",
       "      <td>1</td>\n",
       "      <td>6.32456</td>\n",
       "      <td>7.58947</td>\n",
       "    </tr>\n",
       "    <tr>\n",
       "      <th>156</th>\n",
       "      <td>tnsc</td>\n",
       "      <td>tnspc</td>\n",
       "      <td>1</td>\n",
       "      <td>6.32456</td>\n",
       "      <td>7.58947</td>\n",
       "    </tr>\n",
       "    <tr>\n",
       "      <th>157</th>\n",
       "      <td>tnpc</td>\n",
       "      <td>tnspc</td>\n",
       "      <td>1</td>\n",
       "      <td>6.32456</td>\n",
       "      <td>7.58947</td>\n",
       "    </tr>\n",
       "    <tr>\n",
       "      <th>158</th>\n",
       "      <td>tspc</td>\n",
       "      <td>tnspc</td>\n",
       "      <td>1</td>\n",
       "      <td>7.2111</td>\n",
       "      <td>8.65332</td>\n",
       "    </tr>\n",
       "    <tr>\n",
       "      <th>159</th>\n",
       "      <td>nspc</td>\n",
       "      <td>tnspc</td>\n",
       "      <td>1</td>\n",
       "      <td>7.2111</td>\n",
       "      <td>8.65332</td>\n",
       "    </tr>\n",
       "  </tbody>\n",
       "</table>\n",
       "<p>160 rows × 5 columns</p>\n",
       "</div>"
      ],
      "text/plain": [
       "       from_node to_node obj_at_once     dist weight_new\n",
       "0    table_empty       t           1  5.01976    4.27184\n",
       "1    table_empty       n           1  5.01976    4.63073\n",
       "2    table_empty       s           1  4.16228    4.99473\n",
       "3    table_empty       p           1  5.39835    5.47288\n",
       "4    table_empty       c           1  5.39835    6.47801\n",
       "..           ...     ...         ...      ...        ...\n",
       "155         tnsp   tnspc           1  6.32456    7.58947\n",
       "156         tnsc   tnspc           1  6.32456    7.58947\n",
       "157         tnpc   tnspc           1  6.32456    7.58947\n",
       "158         tspc   tnspc           1   7.2111    8.65332\n",
       "159         nspc   tnspc           1   7.2111    8.65332\n",
       "\n",
       "[160 rows x 5 columns]"
      ]
     },
     "execution_count": 26,
     "metadata": {},
     "output_type": "execute_result"
    }
   ],
   "source": [
    "data2 = calculate_distances(data)\n",
    "data2 = calculate_edge_weights_params(data, objects, c, k)\n",
    "data2"
   ]
  },
  {
   "cell_type": "code",
   "execution_count": 28,
   "metadata": {},
   "outputs": [
    {
     "data": {
      "text/plain": [
       "True"
      ]
     },
     "execution_count": 28,
     "metadata": {},
     "output_type": "execute_result"
    }
   ],
   "source": [
    "all(data['weight_new'] == data2['weight_new'])"
   ]
  },
  {
   "cell_type": "markdown",
   "metadata": {},
   "source": [
    "### Dijkstra + graph classes"
   ]
  },
  {
   "cell_type": "code",
   "execution_count": 10,
   "metadata": {},
   "outputs": [],
   "source": [
    "class Node:\n",
    "    def __init__(self, label):\n",
    "        self.label = label\n",
    "\n",
    "class Edge:\n",
    "    def __init__(self, to_node, length):\n",
    "        self.to_node = to_node\n",
    "        self.length = length\n",
    "\n",
    "\n",
    "class Graph:\n",
    "    def __init__(self):\n",
    "        self.nodes = set()\n",
    "        self.edges = dict()\n",
    "\n",
    "    def add_node(self, node):\n",
    "        self.nodes.add(node)\n",
    "\n",
    "    def add_edge(self, from_node, to_node, length):\n",
    "        edge = Edge(to_node, length)\n",
    "        if from_node.label in self.edges:\n",
    "            from_node_edges = self.edges[from_node.label]\n",
    "        else:\n",
    "            self.edges[from_node.label] = dict()\n",
    "            from_node_edges = self.edges[from_node.label]\n",
    "        from_node_edges[to_node.label] = edge\n",
    "\n",
    "\n",
    "def min_dist(q, dist):\n",
    "    \"\"\"\n",
    "    Returns the node with the smallest distance in q.\n",
    "    Implemented to keep the main algorithm clean.\n",
    "    \"\"\"\n",
    "    min_node = None\n",
    "    for node in q:\n",
    "        if min_node == None:\n",
    "            min_node = node\n",
    "        elif dist[node] < dist[min_node]:\n",
    "            min_node = node\n",
    "\n",
    "    return min_node\n",
    "\n",
    "def dijkstra(graph, source):\n",
    "    q = set()\n",
    "    dist = {}\n",
    "    prev = {}\n",
    "\n",
    "    for v in graph.nodes:           # initialization\n",
    "        dist[v] = float('inf')      # unknown distance from source to v\n",
    "        prev[v] = float('inf')      # previous node in optimal path from source\n",
    "        q.add(v)                    # all nodes initially in q (unvisited nodes)\n",
    "\n",
    "    # distance from source to source\n",
    "    dist[source] = 0\n",
    "\n",
    "    while q:\n",
    "        # node with the least distance selected first\n",
    "        u = min_dist(q, dist)\n",
    "\n",
    "        q.remove(u)\n",
    "\n",
    "        if u.label in graph.edges:\n",
    "            for _, v in graph.edges[u.label].items():\n",
    "                alt = dist[u] + v.length\n",
    "                if alt < dist[v.to_node]:\n",
    "                    # a shorter path to v has been found\n",
    "                    dist[v.to_node] = alt\n",
    "                    prev[v.to_node] = u\n",
    "\n",
    "    return dist, prev\n",
    "\n",
    "\n",
    "def to_array(prev, from_node):\n",
    "    \"\"\"Creates an ordered list of labels as a route.\"\"\"\n",
    "    previous_node = prev[from_node]\n",
    "    route = [from_node.label]\n",
    "    while previous_node != float('inf'):\n",
    "        route.append(previous_node.label)\n",
    "        temp = previous_node\n",
    "        previous_node = prev[temp]\n",
    "\n",
    "    route.reverse()\n",
    "    return route"
   ]
  },
  {
   "cell_type": "markdown",
   "metadata": {},
   "source": [
    "### Create nodes + edges"
   ]
  },
  {
   "cell_type": "code",
   "execution_count": 11,
   "metadata": {},
   "outputs": [],
   "source": [
    "def create_nodes_edges(graph, data):\n",
    "    # Create sorted set of nodes from to_nodes and from_nodes\n",
    "    nodes = sorted(pd.unique(data[['from_node', 'to_node']].values.ravel()))\n",
    "\n",
    "    # Create nodes from set\n",
    "    for x in range(0, len(nodes)):\n",
    "        globals()[nodes[x]] = Node(nodes[x])    # Create node as global variable\n",
    "        graph.add_node(globals()[nodes[x]])     # Add node to graph\n",
    "\n",
    "    # Add edge for row in csv -> from_node, to_node, weight\n",
    "    for row in range(0, len(data)):\n",
    "        to_node = globals()[data['to_node'][row]]\n",
    "        from_node = globals()[data['from_node'][row]]\n",
    "        graph.add_edge(from_node, to_node, data['weight_new'][row])\n",
    "    \n",
    "    return graph"
   ]
  },
  {
   "cell_type": "code",
   "execution_count": 341,
   "metadata": {},
   "outputs": [],
   "source": [
    "#create_nodes_edges(graph, data)"
   ]
  },
  {
   "cell_type": "markdown",
   "metadata": {},
   "source": [
    "### Print function"
   ]
  },
  {
   "cell_type": "code",
   "execution_count": 30,
   "metadata": {},
   "outputs": [],
   "source": [
    "def print_result(dist, prev):\n",
    "    print(\"The quickest path from {} to {} is [{}] with a distance of {}\".format(\n",
    "        table_empty.label,\n",
    "        tnspc.label,\n",
    "        \" -> \".join(to_array(prev, tnspc)),\n",
    "        str(round(dist[tnspc], 2))\n",
    "        )\n",
    "    )"
   ]
  },
  {
   "cell_type": "markdown",
   "metadata": {},
   "source": [
    "### Define main function"
   ]
  },
  {
   "cell_type": "code",
   "execution_count": 33,
   "metadata": {},
   "outputs": [],
   "source": [
    "def main():\n",
    "    graph = Graph()\n",
    "    data = fill_dataframe(objects, objects_at_once=2)\n",
    "    data = calculate_distances(data)\n",
    "    data = calculate_edge_weights(data)\n",
    "    create_nodes_edges(graph, data)\n",
    "    dist, prev = dijkstra(graph, table_empty)\n",
    "    print_result(dist, prev)"
   ]
  },
  {
   "cell_type": "code",
   "execution_count": 34,
   "metadata": {},
   "outputs": [
    {
     "name": "stdout",
     "output_type": "stream",
     "text": [
      "The quickest path from table_empty to tnspc is [table_empty -> tn -> tns -> tnspc] with a distance of 19.81\n"
     ]
    }
   ],
   "source": [
    "main()"
   ]
  },
  {
   "cell_type": "code",
   "execution_count": null,
   "metadata": {},
   "outputs": [],
   "source": []
  },
  {
   "cell_type": "code",
   "execution_count": null,
   "metadata": {},
   "outputs": [],
   "source": []
  },
  {
   "cell_type": "code",
   "execution_count": null,
   "metadata": {},
   "outputs": [],
   "source": []
  }
 ],
 "metadata": {
  "kernelspec": {
   "display_name": "Python 3",
   "language": "python",
   "name": "python3"
  },
  "language_info": {
   "codemirror_mode": {
    "name": "ipython",
    "version": 3
   },
   "file_extension": ".py",
   "mimetype": "text/x-python",
   "name": "python",
   "nbconvert_exporter": "python",
   "pygments_lexer": "ipython3",
   "version": "3.7.3"
  }
 },
 "nbformat": 4,
 "nbformat_minor": 2
}
