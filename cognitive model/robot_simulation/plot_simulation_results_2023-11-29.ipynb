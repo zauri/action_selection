{
 "cells": [
  {
   "cell_type": "code",
   "execution_count": 82,
   "id": "a060792c",
   "metadata": {},
   "outputs": [],
   "source": [
    "import pandas as pd\n",
    "import matplotlib.pyplot as plt\n",
    "import numpy as np\n",
    "import seaborn as sns\n",
    "\n",
    "from scipy.stats import wilcoxon\n",
    "from matplotlib.lines import Line2D"
   ]
  },
  {
   "cell_type": "code",
   "execution_count": 68,
   "id": "660fa27f",
   "metadata": {},
   "outputs": [],
   "source": [
    "df = pd.read_csv('simulation_results.csv', header=0)"
   ]
  },
  {
   "cell_type": "code",
   "execution_count": 69,
   "id": "c394bfea",
   "metadata": {},
   "outputs": [
    {
     "data": {
      "text/html": [
       "<div>\n",
       "<style scoped>\n",
       "    .dataframe tbody tr th:only-of-type {\n",
       "        vertical-align: middle;\n",
       "    }\n",
       "\n",
       "    .dataframe tbody tr th {\n",
       "        vertical-align: top;\n",
       "    }\n",
       "\n",
       "    .dataframe thead th {\n",
       "        text-align: right;\n",
       "    }\n",
       "</style>\n",
       "<table border=\"1\" class=\"dataframe\">\n",
       "  <thead>\n",
       "    <tr style=\"text-align: right;\">\n",
       "      <th></th>\n",
       "      <th>simulation</th>\n",
       "      <th>trial</th>\n",
       "      <th>start_time</th>\n",
       "      <th>end_time</th>\n",
       "      <th>duration</th>\n",
       "      <th>duration_seconds</th>\n",
       "      <th>type</th>\n",
       "      <th>sequence</th>\n",
       "    </tr>\n",
       "  </thead>\n",
       "  <tbody>\n",
       "    <tr>\n",
       "      <th>0</th>\n",
       "      <td>1</td>\n",
       "      <td>0</td>\n",
       "      <td>02:20:17 PM</td>\n",
       "      <td>02:26:15 PM</td>\n",
       "      <td>00:05:58</td>\n",
       "      <td>358</td>\n",
       "      <td>opm</td>\n",
       "      <td>bowl, breakfast-cereal, cup, spoon, milk</td>\n",
       "    </tr>\n",
       "    <tr>\n",
       "      <th>1</th>\n",
       "      <td>1</td>\n",
       "      <td>1</td>\n",
       "      <td>02:26:17 PM</td>\n",
       "      <td>02:31:24 PM</td>\n",
       "      <td>00:05:07</td>\n",
       "      <td>307</td>\n",
       "      <td>opm</td>\n",
       "      <td>bowl, breakfast-cereal, cup, spoon, milk</td>\n",
       "    </tr>\n",
       "    <tr>\n",
       "      <th>2</th>\n",
       "      <td>1</td>\n",
       "      <td>2</td>\n",
       "      <td>02:31:26 PM</td>\n",
       "      <td>02:36:32 PM</td>\n",
       "      <td>00:05:06</td>\n",
       "      <td>306</td>\n",
       "      <td>opm</td>\n",
       "      <td>bowl, breakfast-cereal, cup, spoon, milk</td>\n",
       "    </tr>\n",
       "    <tr>\n",
       "      <th>3</th>\n",
       "      <td>1</td>\n",
       "      <td>3</td>\n",
       "      <td>02:36:36 PM</td>\n",
       "      <td>02:41:44 PM</td>\n",
       "      <td>00:05:08</td>\n",
       "      <td>308</td>\n",
       "      <td>opm</td>\n",
       "      <td>bowl, breakfast-cereal, cup, spoon, milk</td>\n",
       "    </tr>\n",
       "    <tr>\n",
       "      <th>4</th>\n",
       "      <td>1</td>\n",
       "      <td>4</td>\n",
       "      <td>02:41:47 PM</td>\n",
       "      <td>02:46:15 PM</td>\n",
       "      <td>00:04:28</td>\n",
       "      <td>268</td>\n",
       "      <td>opm</td>\n",
       "      <td>bowl, breakfast-cereal, cup, spoon, milk</td>\n",
       "    </tr>\n",
       "    <tr>\n",
       "      <th>...</th>\n",
       "      <td>...</td>\n",
       "      <td>...</td>\n",
       "      <td>...</td>\n",
       "      <td>...</td>\n",
       "      <td>...</td>\n",
       "      <td>...</td>\n",
       "      <td>...</td>\n",
       "      <td>...</td>\n",
       "    </tr>\n",
       "    <tr>\n",
       "      <th>95</th>\n",
       "      <td>5</td>\n",
       "      <td>5</td>\n",
       "      <td>01:38:15 PM</td>\n",
       "      <td>01:46:01 PM</td>\n",
       "      <td>00:07:46</td>\n",
       "      <td>466</td>\n",
       "      <td>baseline</td>\n",
       "      <td>breakfast-cereal, cup, bowl, spoon, milk</td>\n",
       "    </tr>\n",
       "    <tr>\n",
       "      <th>96</th>\n",
       "      <td>5</td>\n",
       "      <td>6</td>\n",
       "      <td>01:46:03 PM</td>\n",
       "      <td>01:54:11 PM</td>\n",
       "      <td>00:08:08</td>\n",
       "      <td>488</td>\n",
       "      <td>baseline</td>\n",
       "      <td>breakfast-cereal, cup, bowl, spoon, milk</td>\n",
       "    </tr>\n",
       "    <tr>\n",
       "      <th>97</th>\n",
       "      <td>5</td>\n",
       "      <td>7</td>\n",
       "      <td>01:54:13 PM</td>\n",
       "      <td>02:01:31 PM</td>\n",
       "      <td>00:07:18</td>\n",
       "      <td>438</td>\n",
       "      <td>baseline</td>\n",
       "      <td>breakfast-cereal, cup, bowl, spoon, milk</td>\n",
       "    </tr>\n",
       "    <tr>\n",
       "      <th>98</th>\n",
       "      <td>5</td>\n",
       "      <td>8</td>\n",
       "      <td>02:01:33 PM</td>\n",
       "      <td>02:09:04 PM</td>\n",
       "      <td>00:07:31</td>\n",
       "      <td>451</td>\n",
       "      <td>baseline</td>\n",
       "      <td>breakfast-cereal, cup, bowl, spoon, milk</td>\n",
       "    </tr>\n",
       "    <tr>\n",
       "      <th>99</th>\n",
       "      <td>5</td>\n",
       "      <td>9</td>\n",
       "      <td>02:09:08 PM</td>\n",
       "      <td>02:18:03 PM</td>\n",
       "      <td>00:08:55</td>\n",
       "      <td>535</td>\n",
       "      <td>baseline</td>\n",
       "      <td>breakfast-cereal, cup, bowl, spoon, milk</td>\n",
       "    </tr>\n",
       "  </tbody>\n",
       "</table>\n",
       "<p>100 rows × 8 columns</p>\n",
       "</div>"
      ],
      "text/plain": [
       "    simulation  trial   start_time     end_time  duration  duration_seconds  \\\n",
       "0            1      0  02:20:17 PM  02:26:15 PM  00:05:58               358   \n",
       "1            1      1  02:26:17 PM  02:31:24 PM  00:05:07               307   \n",
       "2            1      2  02:31:26 PM  02:36:32 PM  00:05:06               306   \n",
       "3            1      3  02:36:36 PM  02:41:44 PM  00:05:08               308   \n",
       "4            1      4  02:41:47 PM  02:46:15 PM  00:04:28               268   \n",
       "..         ...    ...          ...          ...       ...               ...   \n",
       "95           5      5  01:38:15 PM  01:46:01 PM  00:07:46               466   \n",
       "96           5      6  01:46:03 PM  01:54:11 PM  00:08:08               488   \n",
       "97           5      7  01:54:13 PM  02:01:31 PM  00:07:18               438   \n",
       "98           5      8  02:01:33 PM  02:09:04 PM  00:07:31               451   \n",
       "99           5      9  02:09:08 PM  02:18:03 PM  00:08:55               535   \n",
       "\n",
       "        type                                  sequence  \n",
       "0        opm  bowl, breakfast-cereal, cup, spoon, milk  \n",
       "1        opm  bowl, breakfast-cereal, cup, spoon, milk  \n",
       "2        opm  bowl, breakfast-cereal, cup, spoon, milk  \n",
       "3        opm  bowl, breakfast-cereal, cup, spoon, milk  \n",
       "4        opm  bowl, breakfast-cereal, cup, spoon, milk  \n",
       "..       ...                                       ...  \n",
       "95  baseline  breakfast-cereal, cup, bowl, spoon, milk  \n",
       "96  baseline  breakfast-cereal, cup, bowl, spoon, milk  \n",
       "97  baseline  breakfast-cereal, cup, bowl, spoon, milk  \n",
       "98  baseline  breakfast-cereal, cup, bowl, spoon, milk  \n",
       "99  baseline  breakfast-cereal, cup, bowl, spoon, milk  \n",
       "\n",
       "[100 rows x 8 columns]"
      ]
     },
     "execution_count": 69,
     "metadata": {},
     "output_type": "execute_result"
    }
   ],
   "source": [
    "df"
   ]
  },
  {
   "cell_type": "code",
   "execution_count": 70,
   "id": "b0743bb4",
   "metadata": {},
   "outputs": [],
   "source": [
    "custom_cmap2 = [\"#46327e\", \"#277f8e\", \"#4ac16d\"]"
   ]
  },
  {
   "cell_type": "code",
   "execution_count": 71,
   "id": "e2d45e0a",
   "metadata": {},
   "outputs": [
    {
     "data": {
      "text/html": [
       "<div>\n",
       "<style scoped>\n",
       "    .dataframe tbody tr th:only-of-type {\n",
       "        vertical-align: middle;\n",
       "    }\n",
       "\n",
       "    .dataframe tbody tr th {\n",
       "        vertical-align: top;\n",
       "    }\n",
       "\n",
       "    .dataframe thead th {\n",
       "        text-align: right;\n",
       "    }\n",
       "</style>\n",
       "<table border=\"1\" class=\"dataframe\">\n",
       "  <thead>\n",
       "    <tr style=\"text-align: right;\">\n",
       "      <th></th>\n",
       "      <th>duration_seconds</th>\n",
       "    </tr>\n",
       "    <tr>\n",
       "      <th>type</th>\n",
       "      <th></th>\n",
       "    </tr>\n",
       "  </thead>\n",
       "  <tbody>\n",
       "    <tr>\n",
       "      <th>baseline</th>\n",
       "      <td>379.64</td>\n",
       "    </tr>\n",
       "    <tr>\n",
       "      <th>opm</th>\n",
       "      <td>374.72</td>\n",
       "    </tr>\n",
       "  </tbody>\n",
       "</table>\n",
       "</div>"
      ],
      "text/plain": [
       "          duration_seconds\n",
       "type                      \n",
       "baseline            379.64\n",
       "opm                 374.72"
      ]
     },
     "execution_count": 71,
     "metadata": {},
     "output_type": "execute_result"
    }
   ],
   "source": [
    "df[['duration_seconds', 'type']].groupby(['type']).mean()"
   ]
  },
  {
   "cell_type": "code",
   "execution_count": 72,
   "id": "81621506",
   "metadata": {},
   "outputs": [],
   "source": [
    "duration_opm = df.loc[df['type'] == 'opm']['duration_seconds'].mean()"
   ]
  },
  {
   "cell_type": "code",
   "execution_count": 73,
   "id": "ade68b14",
   "metadata": {},
   "outputs": [],
   "source": [
    "duration_baseline = df.loc[df['type'] == 'baseline']['duration_seconds'].mean()"
   ]
  },
  {
   "cell_type": "code",
   "execution_count": 74,
   "id": "f802a886",
   "metadata": {},
   "outputs": [],
   "source": [
    "durations = pd.Series([duration_baseline, duration_opm])"
   ]
  },
  {
   "cell_type": "code",
   "execution_count": 75,
   "id": "905999dd",
   "metadata": {},
   "outputs": [
    {
     "data": {
      "text/plain": [
       "0         NaN\n",
       "1   -1.295965\n",
       "dtype: float64"
      ]
     },
     "execution_count": 75,
     "metadata": {},
     "output_type": "execute_result"
    }
   ],
   "source": [
    "durations.pct_change() * 100"
   ]
  },
  {
   "cell_type": "code",
   "execution_count": 76,
   "id": "c1f9dc3a",
   "metadata": {},
   "outputs": [
    {
     "data": {
      "text/plain": [
       "(50, 50)"
      ]
     },
     "execution_count": 76,
     "metadata": {},
     "output_type": "execute_result"
    }
   ],
   "source": [
    "opm = df['duration_seconds'].loc[df['type'] == 'opm'].tolist()\n",
    "baseline = df['duration_seconds'].loc[df['type'] == 'baseline'].tolist()\n",
    "len(opm), len(baseline)"
   ]
  },
  {
   "cell_type": "markdown",
   "id": "e6440584",
   "metadata": {},
   "source": [
    "### stat analysis"
   ]
  },
  {
   "cell_type": "code",
   "execution_count": 81,
   "id": "cae065b4",
   "metadata": {},
   "outputs": [
    {
     "name": "stdout",
     "output_type": "stream",
     "text": [
      "Wilcoxon: W = 498.000, p = 0.35593\n"
     ]
    }
   ],
   "source": [
    "stat, p = wilcoxon(opm, baseline)\n",
    "print('Wilcoxon: W = %.3f, p = %.5f' % (stat, p))"
   ]
  },
  {
   "cell_type": "code",
   "execution_count": null,
   "id": "f7578984",
   "metadata": {},
   "outputs": [],
   "source": []
  },
  {
   "cell_type": "markdown",
   "id": "c8407a3a",
   "metadata": {},
   "source": [
    "### plot results"
   ]
  },
  {
   "cell_type": "code",
   "execution_count": 11,
   "id": "3a224653",
   "metadata": {},
   "outputs": [],
   "source": [
    "results = pd.DataFrame()"
   ]
  },
  {
   "cell_type": "code",
   "execution_count": 84,
   "id": "19f5e20e",
   "metadata": {},
   "outputs": [],
   "source": [
    "custom_cmap2 = [\"#46327e\", \"#277f8e\", \"#4ac16d\"]\n",
    "custom_lines2 = [Line2D([0], [0], color=custom_cmap2[1], lw=8, alpha=0.5),\n",
    "                Line2D([0], [0], color=custom_cmap2[2], lw=8, alpha=0.5)]"
   ]
  },
  {
   "cell_type": "code",
   "execution_count": 12,
   "id": "44e067cb",
   "metadata": {},
   "outputs": [],
   "source": [
    "results['opm'] = opm\n",
    "results['baseline'] = baseline\n",
    "labels = [col for col in results.columns]"
   ]
  },
  {
   "cell_type": "code",
   "execution_count": 14,
   "id": "8eb1fae0",
   "metadata": {},
   "outputs": [],
   "source": [
    "%matplotlib qt\n",
    "\n",
    "ax = sns.violinplot(data=results,\n",
    "                    palette='viridis',\n",
    "                    cut=1,\n",
    "                    inner='quartiles')\n",
    "\n",
    "plt.setp(ax.collections, alpha=0.7)\n",
    "\n",
    "ax.set_xticklabels(ax.get_xticklabels(), rotation=0, fontsize=24)\n",
    "\n",
    "plt.ylabel('duration in seconds', fontsize=24)\n",
    "#plt.tight_layout(pad=0.9)\n",
    "plt.show()"
   ]
  },
  {
   "cell_type": "code",
   "execution_count": 17,
   "id": "37de1633",
   "metadata": {},
   "outputs": [],
   "source": [
    "simulations_opm = df['simulation'].loc[df['type'] == 'opm'].tolist()\n",
    "simulations_baseline = df['simulation'].loc[df['type'] == 'baseline'].tolist()"
   ]
  },
  {
   "cell_type": "code",
   "execution_count": 18,
   "id": "35b65ccd",
   "metadata": {},
   "outputs": [
    {
     "data": {
      "text/plain": [
       "True"
      ]
     },
     "execution_count": 18,
     "metadata": {},
     "output_type": "execute_result"
    }
   ],
   "source": [
    "simulations_opm == simulations_baseline"
   ]
  },
  {
   "cell_type": "code",
   "execution_count": 19,
   "id": "fc82deb6",
   "metadata": {},
   "outputs": [],
   "source": [
    "results['simulation'] = simulations_baseline"
   ]
  },
  {
   "cell_type": "code",
   "execution_count": 20,
   "id": "b552bd0b",
   "metadata": {},
   "outputs": [
    {
     "data": {
      "text/html": [
       "<div>\n",
       "<style scoped>\n",
       "    .dataframe tbody tr th:only-of-type {\n",
       "        vertical-align: middle;\n",
       "    }\n",
       "\n",
       "    .dataframe tbody tr th {\n",
       "        vertical-align: top;\n",
       "    }\n",
       "\n",
       "    .dataframe thead th {\n",
       "        text-align: right;\n",
       "    }\n",
       "</style>\n",
       "<table border=\"1\" class=\"dataframe\">\n",
       "  <thead>\n",
       "    <tr style=\"text-align: right;\">\n",
       "      <th></th>\n",
       "      <th>opm</th>\n",
       "      <th>baseline</th>\n",
       "    </tr>\n",
       "    <tr>\n",
       "      <th>simulation</th>\n",
       "      <th></th>\n",
       "      <th></th>\n",
       "    </tr>\n",
       "  </thead>\n",
       "  <tbody>\n",
       "    <tr>\n",
       "      <th>1</th>\n",
       "      <td>324.6</td>\n",
       "      <td>366.2</td>\n",
       "    </tr>\n",
       "    <tr>\n",
       "      <th>2</th>\n",
       "      <td>340.5</td>\n",
       "      <td>340.4</td>\n",
       "    </tr>\n",
       "    <tr>\n",
       "      <th>3</th>\n",
       "      <td>343.8</td>\n",
       "      <td>329.2</td>\n",
       "    </tr>\n",
       "    <tr>\n",
       "      <th>4</th>\n",
       "      <td>434.0</td>\n",
       "      <td>419.4</td>\n",
       "    </tr>\n",
       "    <tr>\n",
       "      <th>5</th>\n",
       "      <td>430.7</td>\n",
       "      <td>443.0</td>\n",
       "    </tr>\n",
       "  </tbody>\n",
       "</table>\n",
       "</div>"
      ],
      "text/plain": [
       "              opm  baseline\n",
       "simulation                 \n",
       "1           324.6     366.2\n",
       "2           340.5     340.4\n",
       "3           343.8     329.2\n",
       "4           434.0     419.4\n",
       "5           430.7     443.0"
      ]
     },
     "execution_count": 20,
     "metadata": {},
     "output_type": "execute_result"
    }
   ],
   "source": [
    "results.groupby('simulation').mean()"
   ]
  },
  {
   "cell_type": "code",
   "execution_count": 66,
   "id": "dd9f974a",
   "metadata": {},
   "outputs": [],
   "source": [
    "labels = [col for col in results.columns]\n",
    "\n",
    "%matplotlib qt\n",
    "\n",
    "ax2 = sns.violinplot(data=results.groupby('simulation').mean(),\n",
    "                    palette=custom_cmap2[1:],\n",
    "                    cut=2,\n",
    "                    inner='quartiles',\n",
    "                    saturation=.8)\n",
    "\n",
    "plt.setp(ax2.collections, alpha=0.5)\n",
    "\n",
    "ax2.set_xticklabels(ax.get_xticklabels(), rotation=0, fontsize=24)\n",
    "\n",
    "plt.ylabel('duration in seconds', fontsize=24)\n",
    "#plt.tight_layout(pad=0.9)\n",
    "plt.show()"
   ]
  },
  {
   "cell_type": "code",
   "execution_count": 86,
   "id": "70eda984",
   "metadata": {},
   "outputs": [],
   "source": [
    "%matplotlib qt\n",
    "\n",
    "ax2 = sns.violinplot(x='simulation',\n",
    "                     y='duration_seconds',\n",
    "                     hue='type',\n",
    "                     data=df,\n",
    "                     palette=custom_cmap2[1:],\n",
    "                     cut=1,\n",
    "                     inner='quartiles',\n",
    "                     saturation=.8)\n",
    "\n",
    "#ax2.set_xticklabels(ax.get_xticklabels(), rotation=0, fontsize=18)\n",
    "\n",
    "plt.ylabel('duration in seconds', fontsize=24)\n",
    "plt.xlabel('simulation', fontsize=24)\n",
    "\n",
    "plt.setp(ax2.collections, alpha=0.5)\n",
    "ax2.legend(custom_lines2, ['OPM', 'baseline'], loc='upper left', fontsize=24)\n",
    "\n",
    "#ax2 = plt.gca()\n",
    "#leg = ax2.get_legend()\n",
    "#leg.legendHandles[0].set_color(custom_cmap2[1])\n",
    "#leg.legendHandles[1].set_color(custom_cmap2[2])\n",
    "\n",
    "#legend = plt.legend()\n",
    "#for lh in legend.legendHandles:\n",
    "#    lh.set_alpha(0.5)\n",
    "\n",
    "#plt.tight_layout()\n",
    "#plt.margins(0.01)\n",
    "plt.show()"
   ]
  },
  {
   "cell_type": "code",
   "execution_count": null,
   "id": "50f13e85",
   "metadata": {},
   "outputs": [],
   "source": []
  },
  {
   "cell_type": "code",
   "execution_count": null,
   "id": "504d6c05",
   "metadata": {},
   "outputs": [],
   "source": []
  }
 ],
 "metadata": {
  "kernelspec": {
   "display_name": "Python 3 (ipykernel)",
   "language": "python",
   "name": "python3"
  },
  "language_info": {
   "codemirror_mode": {
    "name": "ipython",
    "version": 3
   },
   "file_extension": ".py",
   "mimetype": "text/x-python",
   "name": "python",
   "nbconvert_exporter": "python",
   "pygments_lexer": "ipython3",
   "version": "3.9.16"
  }
 },
 "nbformat": 4,
 "nbformat_minor": 5
}
