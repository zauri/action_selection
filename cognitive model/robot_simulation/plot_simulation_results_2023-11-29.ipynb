{
 "cells": [
  {
   "cell_type": "code",
   "execution_count": 1,
   "id": "a060792c",
   "metadata": {},
   "outputs": [],
   "source": [
    "import pandas as pd\n",
    "import matplotlib.pyplot as plt\n",
    "import numpy as np\n",
    "import seaborn as sns\n",
    "\n",
    "from scipy.stats import wilcoxon\n",
    "from matplotlib.lines import Line2D"
   ]
  },
  {
   "cell_type": "code",
   "execution_count": 2,
   "id": "660fa27f",
   "metadata": {},
   "outputs": [],
   "source": [
    "df = pd.read_csv('simulation_results_with_distances.csv', header=0)"
   ]
  },
  {
   "cell_type": "code",
   "execution_count": 3,
   "id": "c394bfea",
   "metadata": {},
   "outputs": [
    {
     "data": {
      "text/html": [
       "<div>\n",
       "<style scoped>\n",
       "    .dataframe tbody tr th:only-of-type {\n",
       "        vertical-align: middle;\n",
       "    }\n",
       "\n",
       "    .dataframe tbody tr th {\n",
       "        vertical-align: top;\n",
       "    }\n",
       "\n",
       "    .dataframe thead th {\n",
       "        text-align: right;\n",
       "    }\n",
       "</style>\n",
       "<table border=\"1\" class=\"dataframe\">\n",
       "  <thead>\n",
       "    <tr style=\"text-align: right;\">\n",
       "      <th></th>\n",
       "      <th>simulation</th>\n",
       "      <th>trial</th>\n",
       "      <th>start_time</th>\n",
       "      <th>end_time</th>\n",
       "      <th>duration</th>\n",
       "      <th>duration_no_distance</th>\n",
       "      <th>type</th>\n",
       "      <th>sequence</th>\n",
       "      <th>duration_seconds</th>\n",
       "      <th>diff</th>\n",
       "    </tr>\n",
       "  </thead>\n",
       "  <tbody>\n",
       "    <tr>\n",
       "      <th>0</th>\n",
       "      <td>1</td>\n",
       "      <td>0</td>\n",
       "      <td>02:20:17 PM</td>\n",
       "      <td>02:26:15 PM</td>\n",
       "      <td>00:05:58</td>\n",
       "      <td>358</td>\n",
       "      <td>opm</td>\n",
       "      <td>bowl, breakfast-cereal, cup, spoon, milk</td>\n",
       "      <td>362.743217</td>\n",
       "      <td>4.743217</td>\n",
       "    </tr>\n",
       "    <tr>\n",
       "      <th>1</th>\n",
       "      <td>1</td>\n",
       "      <td>1</td>\n",
       "      <td>02:26:17 PM</td>\n",
       "      <td>02:31:24 PM</td>\n",
       "      <td>00:05:07</td>\n",
       "      <td>307</td>\n",
       "      <td>opm</td>\n",
       "      <td>bowl, breakfast-cereal, cup, spoon, milk</td>\n",
       "      <td>311.743217</td>\n",
       "      <td>4.743217</td>\n",
       "    </tr>\n",
       "    <tr>\n",
       "      <th>2</th>\n",
       "      <td>1</td>\n",
       "      <td>2</td>\n",
       "      <td>02:31:26 PM</td>\n",
       "      <td>02:36:32 PM</td>\n",
       "      <td>00:05:06</td>\n",
       "      <td>306</td>\n",
       "      <td>opm</td>\n",
       "      <td>bowl, breakfast-cereal, cup, spoon, milk</td>\n",
       "      <td>310.743217</td>\n",
       "      <td>4.743217</td>\n",
       "    </tr>\n",
       "    <tr>\n",
       "      <th>3</th>\n",
       "      <td>1</td>\n",
       "      <td>3</td>\n",
       "      <td>02:36:36 PM</td>\n",
       "      <td>02:41:44 PM</td>\n",
       "      <td>00:05:08</td>\n",
       "      <td>308</td>\n",
       "      <td>opm</td>\n",
       "      <td>bowl, breakfast-cereal, cup, spoon, milk</td>\n",
       "      <td>312.743217</td>\n",
       "      <td>4.743217</td>\n",
       "    </tr>\n",
       "    <tr>\n",
       "      <th>4</th>\n",
       "      <td>1</td>\n",
       "      <td>4</td>\n",
       "      <td>02:41:47 PM</td>\n",
       "      <td>02:46:15 PM</td>\n",
       "      <td>00:04:28</td>\n",
       "      <td>268</td>\n",
       "      <td>opm</td>\n",
       "      <td>bowl, breakfast-cereal, cup, spoon, milk</td>\n",
       "      <td>272.743217</td>\n",
       "      <td>4.743217</td>\n",
       "    </tr>\n",
       "    <tr>\n",
       "      <th>...</th>\n",
       "      <td>...</td>\n",
       "      <td>...</td>\n",
       "      <td>...</td>\n",
       "      <td>...</td>\n",
       "      <td>...</td>\n",
       "      <td>...</td>\n",
       "      <td>...</td>\n",
       "      <td>...</td>\n",
       "      <td>...</td>\n",
       "      <td>...</td>\n",
       "    </tr>\n",
       "    <tr>\n",
       "      <th>95</th>\n",
       "      <td>5</td>\n",
       "      <td>5</td>\n",
       "      <td>01:38:15 PM</td>\n",
       "      <td>01:46:01 PM</td>\n",
       "      <td>00:07:46</td>\n",
       "      <td>466</td>\n",
       "      <td>baseline</td>\n",
       "      <td>breakfast-cereal, cup, bowl, spoon, milk</td>\n",
       "      <td>471.309578</td>\n",
       "      <td>5.309578</td>\n",
       "    </tr>\n",
       "    <tr>\n",
       "      <th>96</th>\n",
       "      <td>5</td>\n",
       "      <td>6</td>\n",
       "      <td>01:46:03 PM</td>\n",
       "      <td>01:54:11 PM</td>\n",
       "      <td>00:08:08</td>\n",
       "      <td>488</td>\n",
       "      <td>baseline</td>\n",
       "      <td>breakfast-cereal, cup, bowl, spoon, milk</td>\n",
       "      <td>493.309578</td>\n",
       "      <td>5.309578</td>\n",
       "    </tr>\n",
       "    <tr>\n",
       "      <th>97</th>\n",
       "      <td>5</td>\n",
       "      <td>7</td>\n",
       "      <td>01:54:13 PM</td>\n",
       "      <td>02:01:31 PM</td>\n",
       "      <td>00:07:18</td>\n",
       "      <td>438</td>\n",
       "      <td>baseline</td>\n",
       "      <td>breakfast-cereal, cup, bowl, spoon, milk</td>\n",
       "      <td>443.309578</td>\n",
       "      <td>5.309578</td>\n",
       "    </tr>\n",
       "    <tr>\n",
       "      <th>98</th>\n",
       "      <td>5</td>\n",
       "      <td>8</td>\n",
       "      <td>02:01:33 PM</td>\n",
       "      <td>02:09:04 PM</td>\n",
       "      <td>00:07:31</td>\n",
       "      <td>451</td>\n",
       "      <td>baseline</td>\n",
       "      <td>breakfast-cereal, cup, bowl, spoon, milk</td>\n",
       "      <td>456.309578</td>\n",
       "      <td>5.309578</td>\n",
       "    </tr>\n",
       "    <tr>\n",
       "      <th>99</th>\n",
       "      <td>5</td>\n",
       "      <td>9</td>\n",
       "      <td>02:09:08 PM</td>\n",
       "      <td>02:18:03 PM</td>\n",
       "      <td>00:08:55</td>\n",
       "      <td>535</td>\n",
       "      <td>baseline</td>\n",
       "      <td>breakfast-cereal, cup, bowl, spoon, milk</td>\n",
       "      <td>540.309578</td>\n",
       "      <td>5.309578</td>\n",
       "    </tr>\n",
       "  </tbody>\n",
       "</table>\n",
       "<p>100 rows × 10 columns</p>\n",
       "</div>"
      ],
      "text/plain": [
       "    simulation  trial   start_time     end_time  duration  \\\n",
       "0            1      0  02:20:17 PM  02:26:15 PM  00:05:58   \n",
       "1            1      1  02:26:17 PM  02:31:24 PM  00:05:07   \n",
       "2            1      2  02:31:26 PM  02:36:32 PM  00:05:06   \n",
       "3            1      3  02:36:36 PM  02:41:44 PM  00:05:08   \n",
       "4            1      4  02:41:47 PM  02:46:15 PM  00:04:28   \n",
       "..         ...    ...          ...          ...       ...   \n",
       "95           5      5  01:38:15 PM  01:46:01 PM  00:07:46   \n",
       "96           5      6  01:46:03 PM  01:54:11 PM  00:08:08   \n",
       "97           5      7  01:54:13 PM  02:01:31 PM  00:07:18   \n",
       "98           5      8  02:01:33 PM  02:09:04 PM  00:07:31   \n",
       "99           5      9  02:09:08 PM  02:18:03 PM  00:08:55   \n",
       "\n",
       "    duration_no_distance      type                                  sequence  \\\n",
       "0                    358       opm  bowl, breakfast-cereal, cup, spoon, milk   \n",
       "1                    307       opm  bowl, breakfast-cereal, cup, spoon, milk   \n",
       "2                    306       opm  bowl, breakfast-cereal, cup, spoon, milk   \n",
       "3                    308       opm  bowl, breakfast-cereal, cup, spoon, milk   \n",
       "4                    268       opm  bowl, breakfast-cereal, cup, spoon, milk   \n",
       "..                   ...       ...                                       ...   \n",
       "95                   466  baseline  breakfast-cereal, cup, bowl, spoon, milk   \n",
       "96                   488  baseline  breakfast-cereal, cup, bowl, spoon, milk   \n",
       "97                   438  baseline  breakfast-cereal, cup, bowl, spoon, milk   \n",
       "98                   451  baseline  breakfast-cereal, cup, bowl, spoon, milk   \n",
       "99                   535  baseline  breakfast-cereal, cup, bowl, spoon, milk   \n",
       "\n",
       "    duration_seconds      diff  \n",
       "0         362.743217  4.743217  \n",
       "1         311.743217  4.743217  \n",
       "2         310.743217  4.743217  \n",
       "3         312.743217  4.743217  \n",
       "4         272.743217  4.743217  \n",
       "..               ...       ...  \n",
       "95        471.309578  5.309578  \n",
       "96        493.309578  5.309578  \n",
       "97        443.309578  5.309578  \n",
       "98        456.309578  5.309578  \n",
       "99        540.309578  5.309578  \n",
       "\n",
       "[100 rows x 10 columns]"
      ]
     },
     "execution_count": 3,
     "metadata": {},
     "output_type": "execute_result"
    }
   ],
   "source": [
    "df"
   ]
  },
  {
   "cell_type": "code",
   "execution_count": 4,
   "id": "b0743bb4",
   "metadata": {},
   "outputs": [],
   "source": [
    "custom_cmap2 = [\"#46327e\", \"#277f8e\", \"#4ac16d\"]"
   ]
  },
  {
   "cell_type": "code",
   "execution_count": 5,
   "id": "e2d45e0a",
   "metadata": {},
   "outputs": [
    {
     "data": {
      "text/html": [
       "<div>\n",
       "<style scoped>\n",
       "    .dataframe tbody tr th:only-of-type {\n",
       "        vertical-align: middle;\n",
       "    }\n",
       "\n",
       "    .dataframe tbody tr th {\n",
       "        vertical-align: top;\n",
       "    }\n",
       "\n",
       "    .dataframe thead th {\n",
       "        text-align: right;\n",
       "    }\n",
       "</style>\n",
       "<table border=\"1\" class=\"dataframe\">\n",
       "  <thead>\n",
       "    <tr style=\"text-align: right;\">\n",
       "      <th></th>\n",
       "      <th>duration_seconds</th>\n",
       "    </tr>\n",
       "    <tr>\n",
       "      <th>type</th>\n",
       "      <th></th>\n",
       "    </tr>\n",
       "  </thead>\n",
       "  <tbody>\n",
       "    <tr>\n",
       "      <th>baseline</th>\n",
       "      <td>385.034155</td>\n",
       "    </tr>\n",
       "    <tr>\n",
       "      <th>opm</th>\n",
       "      <td>379.692473</td>\n",
       "    </tr>\n",
       "  </tbody>\n",
       "</table>\n",
       "</div>"
      ],
      "text/plain": [
       "          duration_seconds\n",
       "type                      \n",
       "baseline        385.034155\n",
       "opm             379.692473"
      ]
     },
     "execution_count": 5,
     "metadata": {},
     "output_type": "execute_result"
    }
   ],
   "source": [
    "df[['duration_seconds', 'type']].groupby(['type']).mean()"
   ]
  },
  {
   "cell_type": "code",
   "execution_count": 6,
   "id": "81621506",
   "metadata": {},
   "outputs": [],
   "source": [
    "duration_opm = df.loc[df['type'] == 'opm']['duration_seconds'].mean()"
   ]
  },
  {
   "cell_type": "code",
   "execution_count": 7,
   "id": "ade68b14",
   "metadata": {},
   "outputs": [],
   "source": [
    "duration_baseline = df.loc[df['type'] == 'baseline']['duration_seconds'].mean()"
   ]
  },
  {
   "cell_type": "code",
   "execution_count": 8,
   "id": "f802a886",
   "metadata": {},
   "outputs": [],
   "source": [
    "durations = pd.Series([duration_baseline, duration_opm])"
   ]
  },
  {
   "cell_type": "code",
   "execution_count": 9,
   "id": "905999dd",
   "metadata": {},
   "outputs": [
    {
     "data": {
      "text/plain": [
       "0         NaN\n",
       "1   -1.387327\n",
       "dtype: float64"
      ]
     },
     "execution_count": 9,
     "metadata": {},
     "output_type": "execute_result"
    }
   ],
   "source": [
    "durations.pct_change() * 100"
   ]
  },
  {
   "cell_type": "code",
   "execution_count": 10,
   "id": "c1f9dc3a",
   "metadata": {},
   "outputs": [
    {
     "data": {
      "text/plain": [
       "(50, 50)"
      ]
     },
     "execution_count": 10,
     "metadata": {},
     "output_type": "execute_result"
    }
   ],
   "source": [
    "opm = df['duration_seconds'].loc[df['type'] == 'opm'].tolist()\n",
    "baseline = df['duration_seconds'].loc[df['type'] == 'baseline'].tolist()\n",
    "len(opm), len(baseline)"
   ]
  },
  {
   "cell_type": "markdown",
   "id": "e6440584",
   "metadata": {},
   "source": [
    "### stat analysis"
   ]
  },
  {
   "cell_type": "code",
   "execution_count": 11,
   "id": "cae065b4",
   "metadata": {},
   "outputs": [
    {
     "name": "stdout",
     "output_type": "stream",
     "text": [
      "Wilcoxon: W = 533.000, p = 0.31832\n"
     ]
    }
   ],
   "source": [
    "stat, p = wilcoxon(opm, baseline)\n",
    "print('Wilcoxon: W = %.3f, p = %.5f' % (stat, p))"
   ]
  },
  {
   "cell_type": "code",
   "execution_count": null,
   "id": "f7578984",
   "metadata": {},
   "outputs": [],
   "source": []
  },
  {
   "cell_type": "markdown",
   "id": "c8407a3a",
   "metadata": {},
   "source": [
    "### plot results"
   ]
  },
  {
   "cell_type": "code",
   "execution_count": 12,
   "id": "3a224653",
   "metadata": {},
   "outputs": [],
   "source": [
    "results = pd.DataFrame()"
   ]
  },
  {
   "cell_type": "code",
   "execution_count": 13,
   "id": "19f5e20e",
   "metadata": {},
   "outputs": [],
   "source": [
    "custom_cmap2 = [\"#46327e\", \"#277f8e\", \"#4ac16d\"]\n",
    "custom_lines2 = [Line2D([0], [0], color=custom_cmap2[1], lw=8, alpha=0.5),\n",
    "                Line2D([0], [0], color=custom_cmap2[2], lw=8, alpha=0.5)]"
   ]
  },
  {
   "cell_type": "code",
   "execution_count": 14,
   "id": "44e067cb",
   "metadata": {},
   "outputs": [],
   "source": [
    "results['opm'] = opm\n",
    "results['baseline'] = baseline\n",
    "labels = [col for col in results.columns]"
   ]
  },
  {
   "cell_type": "code",
   "execution_count": 15,
   "id": "8eb1fae0",
   "metadata": {},
   "outputs": [
    {
     "name": "stderr",
     "output_type": "stream",
     "text": [
      "/tmp/ipykernel_83168/3611828104.py:10: UserWarning: FixedFormatter should only be used together with FixedLocator\n",
      "  ax.set_xticklabels(ax.get_xticklabels(), rotation=0, fontsize=24)\n"
     ]
    }
   ],
   "source": [
    "%matplotlib qt\n",
    "\n",
    "ax = sns.violinplot(data=results,\n",
    "                    palette='viridis',\n",
    "                    cut=1,\n",
    "                    inner='quartiles')\n",
    "\n",
    "plt.setp(ax.collections, alpha=0.7)\n",
    "\n",
    "ax.set_xticklabels(ax.get_xticklabels(), rotation=0, fontsize=24)\n",
    "\n",
    "plt.ylabel('duration in seconds', fontsize=24)\n",
    "#plt.tight_layout(pad=0.9)\n",
    "plt.show()"
   ]
  },
  {
   "cell_type": "code",
   "execution_count": 16,
   "id": "37de1633",
   "metadata": {},
   "outputs": [],
   "source": [
    "simulations_opm = df['simulation'].loc[df['type'] == 'opm'].tolist()\n",
    "simulations_baseline = df['simulation'].loc[df['type'] == 'baseline'].tolist()"
   ]
  },
  {
   "cell_type": "code",
   "execution_count": 17,
   "id": "35b65ccd",
   "metadata": {},
   "outputs": [
    {
     "data": {
      "text/plain": [
       "True"
      ]
     },
     "execution_count": 17,
     "metadata": {},
     "output_type": "execute_result"
    }
   ],
   "source": [
    "simulations_opm == simulations_baseline"
   ]
  },
  {
   "cell_type": "code",
   "execution_count": 18,
   "id": "fc82deb6",
   "metadata": {},
   "outputs": [],
   "source": [
    "results['simulation'] = simulations_baseline"
   ]
  },
  {
   "cell_type": "code",
   "execution_count": 19,
   "id": "b552bd0b",
   "metadata": {},
   "outputs": [
    {
     "data": {
      "text/html": [
       "<div>\n",
       "<style scoped>\n",
       "    .dataframe tbody tr th:only-of-type {\n",
       "        vertical-align: middle;\n",
       "    }\n",
       "\n",
       "    .dataframe tbody tr th {\n",
       "        vertical-align: top;\n",
       "    }\n",
       "\n",
       "    .dataframe thead th {\n",
       "        text-align: right;\n",
       "    }\n",
       "</style>\n",
       "<table border=\"1\" class=\"dataframe\">\n",
       "  <thead>\n",
       "    <tr style=\"text-align: right;\">\n",
       "      <th></th>\n",
       "      <th>opm</th>\n",
       "      <th>baseline</th>\n",
       "    </tr>\n",
       "    <tr>\n",
       "      <th>simulation</th>\n",
       "      <th></th>\n",
       "      <th></th>\n",
       "    </tr>\n",
       "  </thead>\n",
       "  <tbody>\n",
       "    <tr>\n",
       "      <th>1</th>\n",
       "      <td>329.343217</td>\n",
       "      <td>371.561170</td>\n",
       "    </tr>\n",
       "    <tr>\n",
       "      <th>2</th>\n",
       "      <td>345.562443</td>\n",
       "      <td>345.348254</td>\n",
       "    </tr>\n",
       "    <tr>\n",
       "      <th>3</th>\n",
       "      <td>348.475510</td>\n",
       "      <td>335.270628</td>\n",
       "    </tr>\n",
       "    <tr>\n",
       "      <th>4</th>\n",
       "      <td>439.020027</td>\n",
       "      <td>424.681144</td>\n",
       "    </tr>\n",
       "    <tr>\n",
       "      <th>5</th>\n",
       "      <td>436.061170</td>\n",
       "      <td>448.309578</td>\n",
       "    </tr>\n",
       "  </tbody>\n",
       "</table>\n",
       "</div>"
      ],
      "text/plain": [
       "                   opm    baseline\n",
       "simulation                        \n",
       "1           329.343217  371.561170\n",
       "2           345.562443  345.348254\n",
       "3           348.475510  335.270628\n",
       "4           439.020027  424.681144\n",
       "5           436.061170  448.309578"
      ]
     },
     "execution_count": 19,
     "metadata": {},
     "output_type": "execute_result"
    }
   ],
   "source": [
    "results.groupby('simulation').mean()"
   ]
  },
  {
   "cell_type": "code",
   "execution_count": 20,
   "id": "dd9f974a",
   "metadata": {},
   "outputs": [
    {
     "name": "stderr",
     "output_type": "stream",
     "text": [
      "/tmp/ipykernel_83168/3441829991.py:13: UserWarning: FixedFormatter should only be used together with FixedLocator\n",
      "  ax2.set_xticklabels(ax.get_xticklabels(), rotation=0, fontsize=24)\n"
     ]
    }
   ],
   "source": [
    "labels = [col for col in results.columns]\n",
    "\n",
    "%matplotlib qt\n",
    "\n",
    "ax2 = sns.violinplot(data=results.groupby('simulation').mean(),\n",
    "                    palette=custom_cmap2[1:],\n",
    "                    cut=2,\n",
    "                    inner='quartiles',\n",
    "                    saturation=.8)\n",
    "\n",
    "plt.setp(ax2.collections, alpha=0.5)\n",
    "\n",
    "ax2.set_xticklabels(ax.get_xticklabels(), rotation=0, fontsize=24)\n",
    "\n",
    "plt.ylabel('duration in seconds', fontsize=24)\n",
    "#plt.tight_layout(pad=0.9)\n",
    "plt.show()"
   ]
  },
  {
   "cell_type": "code",
   "execution_count": 27,
   "id": "70eda984",
   "metadata": {},
   "outputs": [
    {
     "name": "stderr",
     "output_type": "stream",
     "text": [
      "\n",
      "(python3:83168): Gtk-WARNING **: 11:23:56.960: Theme directory emmoltes/symbolic of theme Suru++-Ubuntu has no size field\n",
      "\n"
     ]
    }
   ],
   "source": [
    "%matplotlib qt\n",
    "\n",
    "ax2 = plt.figure(figsize=(12,8))\n",
    "\n",
    "ax2 = sns.violinplot(x='simulation',\n",
    "                     y='duration_seconds',\n",
    "                     hue='type',\n",
    "                     data=df,\n",
    "                     palette=custom_cmap2[1:],\n",
    "                     cut=0,\n",
    "                     inner='quartiles',\n",
    "                     saturation=.8)\n",
    "\n",
    "#ax2.set_xticklabels(ax.get_xticklabels(), rotation=0, fontsize=18)\n",
    "\n",
    "plt.ylabel('duration in seconds', fontsize=26)\n",
    "plt.xlabel('simulation', fontsize=24)\n",
    "\n",
    "plt.setp(ax2.collections, alpha=0.5)\n",
    "ax2.legend(custom_lines2, ['OPM', 'baseline'], loc='upper left', fontsize=24)\n",
    "ax2.tick_params(axis='both', which='major', labelsize=20)\n",
    "\n",
    "#ax2 = plt.gca()\n",
    "#leg = ax2.get_legend()\n",
    "#leg.legendHandles[0].set_color(custom_cmap2[1])\n",
    "#leg.legendHandles[1].set_color(custom_cmap2[2])\n",
    "\n",
    "#legend = plt.legend()\n",
    "#for lh in legend.legendHandles:\n",
    "#    lh.set_alpha(0.5)\n",
    "\n",
    "plt.tight_layout()\n",
    "plt.margins(0.01)\n",
    "plt.show()"
   ]
  },
  {
   "cell_type": "code",
   "execution_count": null,
   "id": "50f13e85",
   "metadata": {},
   "outputs": [],
   "source": []
  },
  {
   "cell_type": "code",
   "execution_count": null,
   "id": "504d6c05",
   "metadata": {},
   "outputs": [],
   "source": []
  }
 ],
 "metadata": {
  "kernelspec": {
   "display_name": "Python 3 (ipykernel)",
   "language": "python",
   "name": "python3"
  },
  "language_info": {
   "codemirror_mode": {
    "name": "ipython",
    "version": 3
   },
   "file_extension": ".py",
   "mimetype": "text/x-python",
   "name": "python",
   "nbconvert_exporter": "python",
   "pygments_lexer": "ipython3",
   "version": "3.9.16"
  }
 },
 "nbformat": 4,
 "nbformat_minor": 5
}
