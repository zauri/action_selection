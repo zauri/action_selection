{
 "cells": [
  {
   "cell_type": "code",
   "execution_count": 54,
   "id": "a060792c",
   "metadata": {},
   "outputs": [],
   "source": [
    "import pandas as pd\n",
    "import matplotlib.pyplot as plt\n",
    "import numpy as np\n",
    "import seaborn as sns"
   ]
  },
  {
   "cell_type": "code",
   "execution_count": 55,
   "id": "660fa27f",
   "metadata": {},
   "outputs": [],
   "source": [
    "df = pd.read_csv('simulation_results.csv', header=0)"
   ]
  },
  {
   "cell_type": "code",
   "execution_count": 56,
   "id": "c394bfea",
   "metadata": {},
   "outputs": [
    {
     "data": {
      "text/html": [
       "<div>\n",
       "<style scoped>\n",
       "    .dataframe tbody tr th:only-of-type {\n",
       "        vertical-align: middle;\n",
       "    }\n",
       "\n",
       "    .dataframe tbody tr th {\n",
       "        vertical-align: top;\n",
       "    }\n",
       "\n",
       "    .dataframe thead th {\n",
       "        text-align: right;\n",
       "    }\n",
       "</style>\n",
       "<table border=\"1\" class=\"dataframe\">\n",
       "  <thead>\n",
       "    <tr style=\"text-align: right;\">\n",
       "      <th></th>\n",
       "      <th>simulation</th>\n",
       "      <th>trial</th>\n",
       "      <th>start_time</th>\n",
       "      <th>end_time</th>\n",
       "      <th>duration</th>\n",
       "      <th>duration_seconds</th>\n",
       "      <th>type</th>\n",
       "      <th>sequence</th>\n",
       "    </tr>\n",
       "  </thead>\n",
       "  <tbody>\n",
       "    <tr>\n",
       "      <th>0</th>\n",
       "      <td>1</td>\n",
       "      <td>0</td>\n",
       "      <td>02:20:17 PM</td>\n",
       "      <td>02:26:15 PM</td>\n",
       "      <td>00:05:58</td>\n",
       "      <td>358</td>\n",
       "      <td>opm</td>\n",
       "      <td>bowl, breakfast-cereal, cup, spoon, milk</td>\n",
       "    </tr>\n",
       "    <tr>\n",
       "      <th>1</th>\n",
       "      <td>1</td>\n",
       "      <td>1</td>\n",
       "      <td>02:26:17 PM</td>\n",
       "      <td>02:31:24 PM</td>\n",
       "      <td>00:05:07</td>\n",
       "      <td>307</td>\n",
       "      <td>opm</td>\n",
       "      <td>bowl, breakfast-cereal, cup, spoon, milk</td>\n",
       "    </tr>\n",
       "    <tr>\n",
       "      <th>2</th>\n",
       "      <td>1</td>\n",
       "      <td>2</td>\n",
       "      <td>02:31:26 PM</td>\n",
       "      <td>02:36:32 PM</td>\n",
       "      <td>00:05:06</td>\n",
       "      <td>306</td>\n",
       "      <td>opm</td>\n",
       "      <td>bowl, breakfast-cereal, cup, spoon, milk</td>\n",
       "    </tr>\n",
       "    <tr>\n",
       "      <th>3</th>\n",
       "      <td>1</td>\n",
       "      <td>3</td>\n",
       "      <td>02:36:36 PM</td>\n",
       "      <td>02:41:44 PM</td>\n",
       "      <td>00:05:08</td>\n",
       "      <td>308</td>\n",
       "      <td>opm</td>\n",
       "      <td>bowl, breakfast-cereal, cup, spoon, milk</td>\n",
       "    </tr>\n",
       "    <tr>\n",
       "      <th>4</th>\n",
       "      <td>1</td>\n",
       "      <td>4</td>\n",
       "      <td>02:41:47 PM</td>\n",
       "      <td>02:46:15 PM</td>\n",
       "      <td>00:04:28</td>\n",
       "      <td>268</td>\n",
       "      <td>opm</td>\n",
       "      <td>bowl, breakfast-cereal, cup, spoon, milk</td>\n",
       "    </tr>\n",
       "    <tr>\n",
       "      <th>...</th>\n",
       "      <td>...</td>\n",
       "      <td>...</td>\n",
       "      <td>...</td>\n",
       "      <td>...</td>\n",
       "      <td>...</td>\n",
       "      <td>...</td>\n",
       "      <td>...</td>\n",
       "      <td>...</td>\n",
       "    </tr>\n",
       "    <tr>\n",
       "      <th>95</th>\n",
       "      <td>5</td>\n",
       "      <td>5</td>\n",
       "      <td>01:38:15 PM</td>\n",
       "      <td>01:46:01 PM</td>\n",
       "      <td>00:07:46</td>\n",
       "      <td>466</td>\n",
       "      <td>baseline</td>\n",
       "      <td>breakfast-cereal, cup, bowl, spoon, milk</td>\n",
       "    </tr>\n",
       "    <tr>\n",
       "      <th>96</th>\n",
       "      <td>5</td>\n",
       "      <td>6</td>\n",
       "      <td>01:46:03 PM</td>\n",
       "      <td>01:54:11 PM</td>\n",
       "      <td>00:08:08</td>\n",
       "      <td>488</td>\n",
       "      <td>baseline</td>\n",
       "      <td>breakfast-cereal, cup, bowl, spoon, milk</td>\n",
       "    </tr>\n",
       "    <tr>\n",
       "      <th>97</th>\n",
       "      <td>5</td>\n",
       "      <td>7</td>\n",
       "      <td>01:54:13 PM</td>\n",
       "      <td>02:01:31 PM</td>\n",
       "      <td>00:07:18</td>\n",
       "      <td>438</td>\n",
       "      <td>baseline</td>\n",
       "      <td>breakfast-cereal, cup, bowl, spoon, milk</td>\n",
       "    </tr>\n",
       "    <tr>\n",
       "      <th>98</th>\n",
       "      <td>5</td>\n",
       "      <td>8</td>\n",
       "      <td>02:01:33 PM</td>\n",
       "      <td>02:09:04 PM</td>\n",
       "      <td>00:07:31</td>\n",
       "      <td>451</td>\n",
       "      <td>baseline</td>\n",
       "      <td>breakfast-cereal, cup, bowl, spoon, milk</td>\n",
       "    </tr>\n",
       "    <tr>\n",
       "      <th>99</th>\n",
       "      <td>5</td>\n",
       "      <td>9</td>\n",
       "      <td>02:09:08 PM</td>\n",
       "      <td>02:18:03 PM</td>\n",
       "      <td>00:08:55</td>\n",
       "      <td>535</td>\n",
       "      <td>baseline</td>\n",
       "      <td>breakfast-cereal, cup, bowl, spoon, milk</td>\n",
       "    </tr>\n",
       "  </tbody>\n",
       "</table>\n",
       "<p>100 rows × 8 columns</p>\n",
       "</div>"
      ],
      "text/plain": [
       "    simulation  trial   start_time     end_time  duration  duration_seconds  \\\n",
       "0            1      0  02:20:17 PM  02:26:15 PM  00:05:58               358   \n",
       "1            1      1  02:26:17 PM  02:31:24 PM  00:05:07               307   \n",
       "2            1      2  02:31:26 PM  02:36:32 PM  00:05:06               306   \n",
       "3            1      3  02:36:36 PM  02:41:44 PM  00:05:08               308   \n",
       "4            1      4  02:41:47 PM  02:46:15 PM  00:04:28               268   \n",
       "..         ...    ...          ...          ...       ...               ...   \n",
       "95           5      5  01:38:15 PM  01:46:01 PM  00:07:46               466   \n",
       "96           5      6  01:46:03 PM  01:54:11 PM  00:08:08               488   \n",
       "97           5      7  01:54:13 PM  02:01:31 PM  00:07:18               438   \n",
       "98           5      8  02:01:33 PM  02:09:04 PM  00:07:31               451   \n",
       "99           5      9  02:09:08 PM  02:18:03 PM  00:08:55               535   \n",
       "\n",
       "        type                                  sequence  \n",
       "0        opm  bowl, breakfast-cereal, cup, spoon, milk  \n",
       "1        opm  bowl, breakfast-cereal, cup, spoon, milk  \n",
       "2        opm  bowl, breakfast-cereal, cup, spoon, milk  \n",
       "3        opm  bowl, breakfast-cereal, cup, spoon, milk  \n",
       "4        opm  bowl, breakfast-cereal, cup, spoon, milk  \n",
       "..       ...                                       ...  \n",
       "95  baseline  breakfast-cereal, cup, bowl, spoon, milk  \n",
       "96  baseline  breakfast-cereal, cup, bowl, spoon, milk  \n",
       "97  baseline  breakfast-cereal, cup, bowl, spoon, milk  \n",
       "98  baseline  breakfast-cereal, cup, bowl, spoon, milk  \n",
       "99  baseline  breakfast-cereal, cup, bowl, spoon, milk  \n",
       "\n",
       "[100 rows x 8 columns]"
      ]
     },
     "execution_count": 56,
     "metadata": {},
     "output_type": "execute_result"
    }
   ],
   "source": [
    "df"
   ]
  },
  {
   "cell_type": "code",
   "execution_count": 57,
   "id": "b0743bb4",
   "metadata": {},
   "outputs": [],
   "source": [
    "custom_cmap2 = [\"#46327e\", \"#277f8e\", \"#4ac16d\"]"
   ]
  },
  {
   "cell_type": "code",
   "execution_count": 58,
   "id": "e2d45e0a",
   "metadata": {},
   "outputs": [
    {
     "data": {
      "text/html": [
       "<div>\n",
       "<style scoped>\n",
       "    .dataframe tbody tr th:only-of-type {\n",
       "        vertical-align: middle;\n",
       "    }\n",
       "\n",
       "    .dataframe tbody tr th {\n",
       "        vertical-align: top;\n",
       "    }\n",
       "\n",
       "    .dataframe thead th {\n",
       "        text-align: right;\n",
       "    }\n",
       "</style>\n",
       "<table border=\"1\" class=\"dataframe\">\n",
       "  <thead>\n",
       "    <tr style=\"text-align: right;\">\n",
       "      <th></th>\n",
       "      <th>duration_seconds</th>\n",
       "    </tr>\n",
       "    <tr>\n",
       "      <th>type</th>\n",
       "      <th></th>\n",
       "    </tr>\n",
       "  </thead>\n",
       "  <tbody>\n",
       "    <tr>\n",
       "      <th>baseline</th>\n",
       "      <td>379.64</td>\n",
       "    </tr>\n",
       "    <tr>\n",
       "      <th>opm</th>\n",
       "      <td>374.72</td>\n",
       "    </tr>\n",
       "  </tbody>\n",
       "</table>\n",
       "</div>"
      ],
      "text/plain": [
       "          duration_seconds\n",
       "type                      \n",
       "baseline            379.64\n",
       "opm                 374.72"
      ]
     },
     "execution_count": 58,
     "metadata": {},
     "output_type": "execute_result"
    }
   ],
   "source": [
    "df[['duration_seconds', 'type']].groupby(['type']).mean()"
   ]
  },
  {
   "cell_type": "code",
   "execution_count": 59,
   "id": "81621506",
   "metadata": {},
   "outputs": [],
   "source": [
    "duration_opm = df.loc[df['type'] == 'opm']['duration_seconds'].mean()"
   ]
  },
  {
   "cell_type": "code",
   "execution_count": 60,
   "id": "ade68b14",
   "metadata": {},
   "outputs": [],
   "source": [
    "duration_baseline = df.loc[df['type'] == 'baseline']['duration_seconds'].mean()"
   ]
  },
  {
   "cell_type": "code",
   "execution_count": 61,
   "id": "f802a886",
   "metadata": {},
   "outputs": [],
   "source": [
    "durations = pd.Series([duration_baseline, duration_opm])"
   ]
  },
  {
   "cell_type": "code",
   "execution_count": 62,
   "id": "905999dd",
   "metadata": {},
   "outputs": [
    {
     "data": {
      "text/plain": [
       "0         NaN\n",
       "1   -1.295965\n",
       "dtype: float64"
      ]
     },
     "execution_count": 62,
     "metadata": {},
     "output_type": "execute_result"
    }
   ],
   "source": [
    "durations.pct_change() * 100"
   ]
  },
  {
   "cell_type": "code",
   "execution_count": 91,
   "id": "c1f9dc3a",
   "metadata": {},
   "outputs": [
    {
     "data": {
      "text/plain": [
       "(50, 50)"
      ]
     },
     "execution_count": 91,
     "metadata": {},
     "output_type": "execute_result"
    }
   ],
   "source": [
    "opm = df['duration_seconds'].loc[df['type'] == 'opm'].tolist()\n",
    "baseline = df['duration_seconds'].loc[df['type'] == 'baseline'].tolist()\n",
    "len(opm), len(baseline)"
   ]
  },
  {
   "cell_type": "code",
   "execution_count": 93,
   "id": "3a224653",
   "metadata": {},
   "outputs": [],
   "source": [
    "results = pd.DataFrame()"
   ]
  },
  {
   "cell_type": "code",
   "execution_count": 101,
   "id": "44e067cb",
   "metadata": {},
   "outputs": [],
   "source": [
    "results['opm'] = opm\n",
    "results['baseline'] = baseline\n",
    "labels = [col for col in results.columns]"
   ]
  },
  {
   "cell_type": "code",
   "execution_count": 114,
   "id": "8eb1fae0",
   "metadata": {},
   "outputs": [],
   "source": [
    "%matplotlib qt\n",
    "\n",
    "ax = sns.violinplot(data=results,\n",
    "                    palette='viridis',\n",
    "                    cut=1,\n",
    "                    inner='quartiles')\n",
    "\n",
    "plt.setp(ax.collections, alpha=0.7)\n",
    "\n",
    "ax.set_xticklabels(ax.get_xticklabels(), rotation=0, fontsize=18)\n",
    "\n",
    "plt.ylabel('duration in seconds', fontsize=18)\n",
    "#plt.tight_layout(pad=0.9)\n",
    "plt.show()"
   ]
  },
  {
   "cell_type": "code",
   "execution_count": null,
   "id": "37de1633",
   "metadata": {},
   "outputs": [],
   "source": []
  }
 ],
 "metadata": {
  "kernelspec": {
   "display_name": "Python 3 (ipykernel)",
   "language": "python",
   "name": "python3"
  },
  "language_info": {
   "codemirror_mode": {
    "name": "ipython",
    "version": 3
   },
   "file_extension": ".py",
   "mimetype": "text/x-python",
   "name": "python",
   "nbconvert_exporter": "python",
   "pygments_lexer": "ipython3",
   "version": "3.9.16"
  }
 },
 "nbformat": 4,
 "nbformat_minor": 5
}
