{
 "cells": [
  {
   "cell_type": "code",
   "execution_count": 114,
   "id": "669c0ee4",
   "metadata": {},
   "outputs": [],
   "source": [
    "import ast\n",
    "import matplotlib.pyplot as plt\n",
    "import numpy as np\n",
    "import pandas as pd\n",
    "import seaborn as sns"
   ]
  },
  {
   "cell_type": "code",
   "execution_count": 76,
   "id": "f5e29a2c",
   "metadata": {},
   "outputs": [],
   "source": [
    "v1_seq = ['bowl','breakfast-cereal','cup','spoon','milk']\n",
    "v2_seq = ['bowl','cup','milk','breakfast-cereal','spoon']\n",
    "v3_seq = ['bowl','spoon','breakfast-cereal','cup','milk']\n",
    "v4_seq = ['bowl','spoon','milk','cup','breakfast-cereal']\n",
    "v5_seq = ['bowl','milk','breakfast-cereal','spoon','cup']"
   ]
  },
  {
   "cell_type": "code",
   "execution_count": 10,
   "id": "d068664e",
   "metadata": {},
   "outputs": [],
   "source": [
    "distances = pd.read_csv('locations_objects.csv', header=0, index_col='demo')"
   ]
  },
  {
   "cell_type": "markdown",
   "id": "463a3051",
   "metadata": {},
   "source": [
    "### Calculate distances for OPM sequences"
   ]
  },
  {
   "cell_type": "code",
   "execution_count": 62,
   "id": "17748bfa",
   "metadata": {},
   "outputs": [],
   "source": [
    "d1 = []\n",
    "for i in range(0, len(v1_seq)):\n",
    "    loc1 = v1_seq[i]\n",
    "    loc2 = 'placing_' + loc1\n",
    "    dist = np.linalg.norm(np.array(ast.literal_eval(distances.at['v1', loc2])) -\n",
    "                                np.array(ast.literal_eval(distances.at['v1', loc1])))\n",
    "    try:\n",
    "        loc3 = v1_seq[i+1]\n",
    "        dist2 = np.linalg.norm(np.array(ast.literal_eval(distances.at['v1', loc2])) -\n",
    "                                np.array(ast.literal_eval(distances.at['v1', loc3])))\n",
    "        d1.append(dist2)\n",
    "    except:\n",
    "        continue\n",
    "    d1.append(dist)"
   ]
  },
  {
   "cell_type": "code",
   "execution_count": 63,
   "id": "0b2a57a5",
   "metadata": {},
   "outputs": [
    {
     "data": {
      "text/plain": [
       "4.743217010403397"
      ]
     },
     "execution_count": 63,
     "metadata": {},
     "output_type": "execute_result"
    }
   ],
   "source": [
    "sum(d1)"
   ]
  },
  {
   "cell_type": "code",
   "execution_count": 64,
   "id": "03c792e0",
   "metadata": {},
   "outputs": [],
   "source": [
    "d2 = []\n",
    "for i in range(0, len(v2_seq)):\n",
    "    loc1 = v2_seq[i]\n",
    "    loc2 = 'placing_' + loc1\n",
    "    dist = np.linalg.norm(np.array(ast.literal_eval(distances.at['v2', loc2])) -\n",
    "                                np.array(ast.literal_eval(distances.at['v2', loc1])))\n",
    "    try:\n",
    "        loc3 = v2_seq[i+1]\n",
    "        dist2 = np.linalg.norm(np.array(ast.literal_eval(distances.at['v2', loc2])) -\n",
    "                                np.array(ast.literal_eval(distances.at['v2', loc3])))\n",
    "        d2.append(dist2)\n",
    "    except:\n",
    "        continue\n",
    "    d2.append(dist)"
   ]
  },
  {
   "cell_type": "code",
   "execution_count": 65,
   "id": "bcb46625",
   "metadata": {},
   "outputs": [
    {
     "data": {
      "text/plain": [
       "5.062442509429448"
      ]
     },
     "execution_count": 65,
     "metadata": {},
     "output_type": "execute_result"
    }
   ],
   "source": [
    "sum(d2)"
   ]
  },
  {
   "cell_type": "code",
   "execution_count": 68,
   "id": "485a2162",
   "metadata": {},
   "outputs": [],
   "source": [
    "d3 = []\n",
    "for i in range(0, len(v3_seq)):\n",
    "    loc1 = v3_seq[i]\n",
    "    loc2 = 'placing_' + loc1\n",
    "    dist = np.linalg.norm(np.array(ast.literal_eval(distances.at['v3', loc1])) -\n",
    "                                np.array(ast.literal_eval(distances.at['v3', loc2])))\n",
    "    try:\n",
    "        loc3 = v3_seq[i+1]\n",
    "        dist2 = np.linalg.norm(np.array(ast.literal_eval(distances.at['v3', loc2])) -\n",
    "                                np.array(ast.literal_eval(distances.at['v3', loc3])))\n",
    "        d3.append(dist2)\n",
    "    except:\n",
    "        continue\n",
    "    d3.append(dist)"
   ]
  },
  {
   "cell_type": "code",
   "execution_count": 69,
   "id": "b34a15b0",
   "metadata": {},
   "outputs": [
    {
     "data": {
      "text/plain": [
       "4.675510246358996"
      ]
     },
     "execution_count": 69,
     "metadata": {},
     "output_type": "execute_result"
    }
   ],
   "source": [
    "sum(d3)"
   ]
  },
  {
   "cell_type": "code",
   "execution_count": 66,
   "id": "3fa4a0ba",
   "metadata": {},
   "outputs": [],
   "source": [
    "d4 = []\n",
    "for i in range(0, len(v4_seq)):\n",
    "    loc1 = v4_seq[i]\n",
    "    loc2 = 'placing_' + loc1\n",
    "    dist = np.linalg.norm(np.array(ast.literal_eval(distances.at['v4', loc2])) -\n",
    "                                np.array(ast.literal_eval(distances.at['v4', loc1])))\n",
    "    try:\n",
    "        loc3 = v4_seq[i+1]\n",
    "        dist2 = np.linalg.norm(np.array(ast.literal_eval(distances.at['v4', loc2])) -\n",
    "                                np.array(ast.literal_eval(distances.at['v4', loc3])))\n",
    "        d4.append(dist2)\n",
    "    except:\n",
    "        continue\n",
    "    d4.append(dist)"
   ]
  },
  {
   "cell_type": "code",
   "execution_count": 67,
   "id": "960c9a13",
   "metadata": {},
   "outputs": [
    {
     "data": {
      "text/plain": [
       "5.392777958840495"
      ]
     },
     "execution_count": 67,
     "metadata": {},
     "output_type": "execute_result"
    }
   ],
   "source": [
    "sum(d4)"
   ]
  },
  {
   "cell_type": "code",
   "execution_count": 70,
   "id": "42878ac4",
   "metadata": {},
   "outputs": [],
   "source": [
    "d5 = []\n",
    "for i in range(0, len(v5_seq)):\n",
    "    loc1 = v5_seq[i]\n",
    "    loc2 = 'placing_' + loc1\n",
    "    dist = np.linalg.norm(np.array(ast.literal_eval(distances.at['v5', loc2])) -\n",
    "                                np.array(ast.literal_eval(distances.at['v5', loc1])))\n",
    "    try:\n",
    "        loc3 = v5_seq[i+1]\n",
    "        dist2 = np.linalg.norm(np.array(ast.literal_eval(distances.at['v5', loc2])) -\n",
    "                                np.array(ast.literal_eval(distances.at['v5', loc3])))\n",
    "        d5.append(dist2)\n",
    "    except:\n",
    "        continue\n",
    "    d5.append(dist)"
   ]
  },
  {
   "cell_type": "code",
   "execution_count": 71,
   "id": "a2ef9036",
   "metadata": {},
   "outputs": [
    {
     "data": {
      "text/plain": [
       "5.020026659716588"
      ]
     },
     "execution_count": 71,
     "metadata": {},
     "output_type": "execute_result"
    }
   ],
   "source": [
    "sum(d5)"
   ]
  },
  {
   "cell_type": "code",
   "execution_count": 72,
   "id": "77eeb4c6",
   "metadata": {},
   "outputs": [],
   "source": [
    "distances_opm = {}\n",
    "distances_opm['v1'] = sum(d1)\n",
    "distances_opm['v2'] = sum(d2)\n",
    "distances_opm['v3'] = sum(d3)\n",
    "distances_opm['v4'] = sum(d4)\n",
    "distances_opm['v5'] = sum(d5)"
   ]
  },
  {
   "cell_type": "code",
   "execution_count": 73,
   "id": "ba20d064",
   "metadata": {},
   "outputs": [
    {
     "data": {
      "text/plain": [
       "{'v1': 4.743217010403397,\n",
       " 'v2': 5.062442509429448,\n",
       " 'v3': 4.675510246358996,\n",
       " 'v4': 5.392777958840495,\n",
       " 'v5': 5.020026659716588}"
      ]
     },
     "execution_count": 73,
     "metadata": {},
     "output_type": "execute_result"
    }
   ],
   "source": [
    "distances_opm"
   ]
  },
  {
   "cell_type": "markdown",
   "id": "6d3308dd",
   "metadata": {},
   "source": [
    "### Calculate distances for baseline sequences"
   ]
  },
  {
   "cell_type": "code",
   "execution_count": 75,
   "id": "267d819b",
   "metadata": {},
   "outputs": [],
   "source": [
    "v1_seq2 = ['breakfast-cereal','cup','bowl','spoon','milk']\n",
    "v2_seq2 = ['spoon','breakfast-cereal','milk','cup','bowl']\n",
    "v3_seq2 = ['cup','milk','breakfast-cereal','bowl','spoon']\n",
    "v4_seq2 = ['bowl','milk','cup','spoon','breakfast-cereal']\n",
    "v5_seq2 = ['bowl','cup','breakfast-cereal','spoon','milk']"
   ]
  },
  {
   "cell_type": "code",
   "execution_count": 92,
   "id": "c71de8f1",
   "metadata": {},
   "outputs": [],
   "source": [
    "d1_2 = []\n",
    "for i in range(0, len(v1_seq2)):\n",
    "    loc1 = v1_seq2[i]\n",
    "    loc2 = 'placing_' + loc1\n",
    "    dist = np.linalg.norm(np.array(ast.literal_eval(distances.at['v1', loc2])) -\n",
    "                                np.array(ast.literal_eval(distances.at['v1', loc1])))\n",
    "    try:\n",
    "        loc3 = v1_seq2[i+1]\n",
    "        dist2 = np.linalg.norm(np.array(ast.literal_eval(distances.at['v1', loc2])) -\n",
    "                                np.array(ast.literal_eval(distances.at['v1', loc3])))\n",
    "        d1_2.append(dist2)\n",
    "    except:\n",
    "        continue\n",
    "    d1_2.append(dist)"
   ]
  },
  {
   "cell_type": "code",
   "execution_count": 93,
   "id": "03058436",
   "metadata": {},
   "outputs": [
    {
     "data": {
      "text/plain": [
       "5.3611702254174105"
      ]
     },
     "execution_count": 93,
     "metadata": {},
     "output_type": "execute_result"
    }
   ],
   "source": [
    "sum(d1_2)"
   ]
  },
  {
   "cell_type": "code",
   "execution_count": 83,
   "id": "bdfc81e4",
   "metadata": {},
   "outputs": [],
   "source": [
    "d2_2 = []\n",
    "for i in range(0, len(v2_seq2)):\n",
    "    loc1 = v2_seq2[i]\n",
    "    loc2 = 'placing_' + loc1\n",
    "    dist = np.linalg.norm(np.array(ast.literal_eval(distances.at['v2', loc2])) -\n",
    "                                np.array(ast.literal_eval(distances.at['v2', loc1])))\n",
    "    try:\n",
    "        loc3 = v2_seq2[i+1]\n",
    "        dist2 = np.linalg.norm(np.array(ast.literal_eval(distances.at['v2', loc2])) -\n",
    "                                np.array(ast.literal_eval(distances.at['v2', loc3])))\n",
    "        d2_2.append(dist2)\n",
    "    except:\n",
    "        continue\n",
    "    d2_2.append(dist)"
   ]
  },
  {
   "cell_type": "code",
   "execution_count": 84,
   "id": "e2f99824",
   "metadata": {},
   "outputs": [
    {
     "data": {
      "text/plain": [
       "4.948253687350284"
      ]
     },
     "execution_count": 84,
     "metadata": {},
     "output_type": "execute_result"
    }
   ],
   "source": [
    "sum(d2_2)"
   ]
  },
  {
   "cell_type": "code",
   "execution_count": 86,
   "id": "af1b1b4c",
   "metadata": {},
   "outputs": [],
   "source": [
    "d3_2 = []\n",
    "for i in range(0, len(v3_seq2)):\n",
    "    loc1 = v3_seq2[i]\n",
    "    loc2 = 'placing_' + loc1\n",
    "    dist = np.linalg.norm(np.array(ast.literal_eval(distances.at['v3', loc1])) -\n",
    "                                np.array(ast.literal_eval(distances.at['v3', loc2])))\n",
    "    try:\n",
    "        loc3 = v3_seq2[i+1]\n",
    "        dist2 = np.linalg.norm(np.array(ast.literal_eval(distances.at['v3', loc2])) -\n",
    "                                np.array(ast.literal_eval(distances.at['v3', loc3])))\n",
    "        d3_2.append(dist2)\n",
    "    except:\n",
    "        continue\n",
    "    d3_2.append(dist)"
   ]
  },
  {
   "cell_type": "code",
   "execution_count": 87,
   "id": "14681599",
   "metadata": {},
   "outputs": [
    {
     "data": {
      "text/plain": [
       "6.070628153169264"
      ]
     },
     "execution_count": 87,
     "metadata": {},
     "output_type": "execute_result"
    }
   ],
   "source": [
    "sum(d3_2)"
   ]
  },
  {
   "cell_type": "code",
   "execution_count": 88,
   "id": "61d13e66",
   "metadata": {},
   "outputs": [],
   "source": [
    "d4_2 = []\n",
    "for i in range(0, len(v4_seq2)):\n",
    "    loc1 = v4_seq2[i]\n",
    "    loc2 = 'placing_' + loc1\n",
    "    dist = np.linalg.norm(np.array(ast.literal_eval(distances.at['v4', loc2])) -\n",
    "                                np.array(ast.literal_eval(distances.at['v4', loc1])))\n",
    "    try:\n",
    "        loc3 = v4_seq2[i+1]\n",
    "        dist2 = np.linalg.norm(np.array(ast.literal_eval(distances.at['v4', loc2])) -\n",
    "                                np.array(ast.literal_eval(distances.at['v4', loc3])))\n",
    "        d4_2.append(dist2)\n",
    "    except:\n",
    "        continue\n",
    "    d4_2.append(dist)"
   ]
  },
  {
   "cell_type": "code",
   "execution_count": 89,
   "id": "f413542f",
   "metadata": {},
   "outputs": [
    {
     "data": {
      "text/plain": [
       "5.281143905145709"
      ]
     },
     "execution_count": 89,
     "metadata": {},
     "output_type": "execute_result"
    }
   ],
   "source": [
    "sum(d4_2)"
   ]
  },
  {
   "cell_type": "code",
   "execution_count": 90,
   "id": "7f88fa6f",
   "metadata": {},
   "outputs": [],
   "source": [
    "d5_2 = []\n",
    "for i in range(0, len(v5_seq2)):\n",
    "    loc1 = v5_seq2[i]\n",
    "    loc2 = 'placing_' + loc1\n",
    "    dist = np.linalg.norm(np.array(ast.literal_eval(distances.at['v5', loc2])) -\n",
    "                                np.array(ast.literal_eval(distances.at['v5', loc1])))\n",
    "    try:\n",
    "        loc3 = v5_seq[i+1]\n",
    "        dist2 = np.linalg.norm(np.array(ast.literal_eval(distances.at['v5', loc2])) -\n",
    "                                np.array(ast.literal_eval(distances.at['v5', loc3])))\n",
    "        d5_2.append(dist2)\n",
    "    except:\n",
    "        continue\n",
    "    d5_2.append(dist)"
   ]
  },
  {
   "cell_type": "code",
   "execution_count": 91,
   "id": "dd1af3da",
   "metadata": {},
   "outputs": [
    {
     "data": {
      "text/plain": [
       "5.309578287398773"
      ]
     },
     "execution_count": 91,
     "metadata": {},
     "output_type": "execute_result"
    }
   ],
   "source": [
    "sum(d5_2)"
   ]
  },
  {
   "cell_type": "code",
   "execution_count": 94,
   "id": "be6ce8a5",
   "metadata": {},
   "outputs": [],
   "source": [
    "distances_baseline = {}\n",
    "distances_baseline['v1'] = sum(d1_2)\n",
    "distances_baseline['v2'] = sum(d2_2)\n",
    "distances_baseline['v3'] = sum(d3_2)\n",
    "distances_baseline['v4'] = sum(d4_2)\n",
    "distances_baseline['v5'] = sum(d5_2)"
   ]
  },
  {
   "cell_type": "code",
   "execution_count": 95,
   "id": "79c9e332",
   "metadata": {},
   "outputs": [
    {
     "data": {
      "text/plain": [
       "{'v1': 4.743217010403397,\n",
       " 'v2': 5.062442509429448,\n",
       " 'v3': 4.675510246358996,\n",
       " 'v4': 5.392777958840495,\n",
       " 'v5': 5.020026659716588}"
      ]
     },
     "execution_count": 95,
     "metadata": {},
     "output_type": "execute_result"
    }
   ],
   "source": [
    "distances_opm"
   ]
  },
  {
   "cell_type": "code",
   "execution_count": 96,
   "id": "ce4ea467",
   "metadata": {},
   "outputs": [
    {
     "data": {
      "text/plain": [
       "{'v1': 5.3611702254174105,\n",
       " 'v2': 4.948253687350284,\n",
       " 'v3': 6.070628153169264,\n",
       " 'v4': 5.281143905145709,\n",
       " 'v5': 5.309578287398773}"
      ]
     },
     "execution_count": 96,
     "metadata": {},
     "output_type": "execute_result"
    }
   ],
   "source": [
    "distances_baseline"
   ]
  },
  {
   "cell_type": "code",
   "execution_count": 112,
   "id": "8de02091",
   "metadata": {},
   "outputs": [],
   "source": [
    "distances = pd.DataFrame()\n",
    "distances['distance'] = [x for x in distances_opm.values()] + [x for x in distances_baseline.values()]\n",
    "distances['type'] = ['opm'] * 5 + ['baseline'] * 5\n",
    "distances['simulation'] = [x for x in distances_baseline.keys()] * 2"
   ]
  },
  {
   "cell_type": "code",
   "execution_count": 113,
   "id": "c56226b3",
   "metadata": {},
   "outputs": [
    {
     "data": {
      "text/html": [
       "<div>\n",
       "<style scoped>\n",
       "    .dataframe tbody tr th:only-of-type {\n",
       "        vertical-align: middle;\n",
       "    }\n",
       "\n",
       "    .dataframe tbody tr th {\n",
       "        vertical-align: top;\n",
       "    }\n",
       "\n",
       "    .dataframe thead th {\n",
       "        text-align: right;\n",
       "    }\n",
       "</style>\n",
       "<table border=\"1\" class=\"dataframe\">\n",
       "  <thead>\n",
       "    <tr style=\"text-align: right;\">\n",
       "      <th></th>\n",
       "      <th>distance</th>\n",
       "      <th>type</th>\n",
       "      <th>simulation</th>\n",
       "    </tr>\n",
       "  </thead>\n",
       "  <tbody>\n",
       "    <tr>\n",
       "      <th>0</th>\n",
       "      <td>4.743217</td>\n",
       "      <td>opm</td>\n",
       "      <td>v1</td>\n",
       "    </tr>\n",
       "    <tr>\n",
       "      <th>1</th>\n",
       "      <td>5.062443</td>\n",
       "      <td>opm</td>\n",
       "      <td>v2</td>\n",
       "    </tr>\n",
       "    <tr>\n",
       "      <th>2</th>\n",
       "      <td>4.675510</td>\n",
       "      <td>opm</td>\n",
       "      <td>v3</td>\n",
       "    </tr>\n",
       "    <tr>\n",
       "      <th>3</th>\n",
       "      <td>5.392778</td>\n",
       "      <td>opm</td>\n",
       "      <td>v4</td>\n",
       "    </tr>\n",
       "    <tr>\n",
       "      <th>4</th>\n",
       "      <td>5.020027</td>\n",
       "      <td>opm</td>\n",
       "      <td>v5</td>\n",
       "    </tr>\n",
       "    <tr>\n",
       "      <th>5</th>\n",
       "      <td>5.361170</td>\n",
       "      <td>baseline</td>\n",
       "      <td>v1</td>\n",
       "    </tr>\n",
       "    <tr>\n",
       "      <th>6</th>\n",
       "      <td>4.948254</td>\n",
       "      <td>baseline</td>\n",
       "      <td>v2</td>\n",
       "    </tr>\n",
       "    <tr>\n",
       "      <th>7</th>\n",
       "      <td>6.070628</td>\n",
       "      <td>baseline</td>\n",
       "      <td>v3</td>\n",
       "    </tr>\n",
       "    <tr>\n",
       "      <th>8</th>\n",
       "      <td>5.281144</td>\n",
       "      <td>baseline</td>\n",
       "      <td>v4</td>\n",
       "    </tr>\n",
       "    <tr>\n",
       "      <th>9</th>\n",
       "      <td>5.309578</td>\n",
       "      <td>baseline</td>\n",
       "      <td>v5</td>\n",
       "    </tr>\n",
       "  </tbody>\n",
       "</table>\n",
       "</div>"
      ],
      "text/plain": [
       "   distance      type simulation\n",
       "0  4.743217       opm         v1\n",
       "1  5.062443       opm         v2\n",
       "2  4.675510       opm         v3\n",
       "3  5.392778       opm         v4\n",
       "4  5.020027       opm         v5\n",
       "5  5.361170  baseline         v1\n",
       "6  4.948254  baseline         v2\n",
       "7  6.070628  baseline         v3\n",
       "8  5.281144  baseline         v4\n",
       "9  5.309578  baseline         v5"
      ]
     },
     "execution_count": 113,
     "metadata": {},
     "output_type": "execute_result"
    }
   ],
   "source": [
    "distances"
   ]
  },
  {
   "cell_type": "markdown",
   "id": "086f54f2",
   "metadata": {},
   "source": [
    "### Plot distance stats"
   ]
  },
  {
   "cell_type": "code",
   "execution_count": 144,
   "id": "47e60a6e",
   "metadata": {},
   "outputs": [],
   "source": [
    "%matplotlib qt\n",
    "\n",
    "ax = sns.barplot(y='distance',\n",
    "                 x='simulation',\n",
    "                 data=distances,\n",
    "                 hue='type',\n",
    "                 palette='viridis',\n",
    "                 alpha=0.7,\n",
    "                 width=0.7)\n",
    "\n",
    "#plt.setp(ax.collections, alpha=0.7)\n",
    "\n",
    "plt.ylabel('distance in meters', fontsize=18)\n",
    "plt.xlabel('simulation', fontsize=18)\n",
    "plt.legend(loc='upper left', fontsize=18)\n",
    "\n",
    "plt.show()"
   ]
  },
  {
   "cell_type": "code",
   "execution_count": null,
   "id": "d3eeae57",
   "metadata": {},
   "outputs": [],
   "source": []
  }
 ],
 "metadata": {
  "kernelspec": {
   "display_name": "Python 3 (ipykernel)",
   "language": "python",
   "name": "python3"
  },
  "language_info": {
   "codemirror_mode": {
    "name": "ipython",
    "version": 3
   },
   "file_extension": ".py",
   "mimetype": "text/x-python",
   "name": "python",
   "nbconvert_exporter": "python",
   "pygments_lexer": "ipython3",
   "version": "3.9.16"
  }
 },
 "nbformat": 4,
 "nbformat_minor": 5
}
