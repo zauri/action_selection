{
 "cells": [
  {
   "cell_type": "code",
   "execution_count": 20,
   "id": "7034c72d",
   "metadata": {},
   "outputs": [],
   "source": [
    "import ast\n",
    "import numpy as np\n",
    "import pandas as pd"
   ]
  },
  {
   "cell_type": "code",
   "execution_count": 3,
   "id": "7dd5dcec",
   "metadata": {},
   "outputs": [],
   "source": [
    "v1_seq = ['bowl','breakfast-cereal','cup','spoon','milk']\n",
    "v2_seq = ['bowl','cup','milk','breakfast-cereal','spoon']\n",
    "v3_seq = ['bowl','spoon','breakfast-cereal','cup','milk']\n",
    "v4_seq = ['bowl','spoon','milk','cup','breakfast-cereal']\n",
    "v5_seq = ['bowl','milk','breakfast-cereal','spoon','cup']"
   ]
  },
  {
   "cell_type": "code",
   "execution_count": 10,
   "id": "fbd5cbec",
   "metadata": {},
   "outputs": [],
   "source": [
    "distances = pd.read_csv('locations_objects.csv', header=0, index_col='demo')"
   ]
  },
  {
   "cell_type": "code",
   "execution_count": 62,
   "id": "fca44455",
   "metadata": {},
   "outputs": [],
   "source": [
    "d1 = []\n",
    "for i in range(0, len(v1_seq)):\n",
    "    loc1 = v1_seq[i]\n",
    "    loc2 = 'placing_' + loc1\n",
    "    dist = np.linalg.norm(np.array(ast.literal_eval(distances.at['v1', loc2])) -\n",
    "                                np.array(ast.literal_eval(distances.at['v1', loc1])))\n",
    "    try:\n",
    "        loc3 = v1_seq[i+1]\n",
    "        dist2 = np.linalg.norm(np.array(ast.literal_eval(distances.at['v1', loc2])) -\n",
    "                                np.array(ast.literal_eval(distances.at['v1', loc3])))\n",
    "        d1.append(dist2)\n",
    "    except:\n",
    "        continue\n",
    "    d1.append(dist)"
   ]
  },
  {
   "cell_type": "code",
   "execution_count": 63,
   "id": "596b7ac3",
   "metadata": {},
   "outputs": [
    {
     "data": {
      "text/plain": [
       "4.743217010403397"
      ]
     },
     "execution_count": 63,
     "metadata": {},
     "output_type": "execute_result"
    }
   ],
   "source": [
    "sum(d1)"
   ]
  },
  {
   "cell_type": "code",
   "execution_count": 64,
   "id": "52b46d28",
   "metadata": {},
   "outputs": [],
   "source": [
    "d2 = []\n",
    "for i in range(0, len(v2_seq)):\n",
    "    loc1 = v2_seq[i]\n",
    "    loc2 = 'placing_' + loc1\n",
    "    dist = np.linalg.norm(np.array(ast.literal_eval(distances.at['v2', loc2])) -\n",
    "                                np.array(ast.literal_eval(distances.at['v2', loc1])))\n",
    "    try:\n",
    "        loc3 = v2_seq[i+1]\n",
    "        dist2 = np.linalg.norm(np.array(ast.literal_eval(distances.at['v2', loc2])) -\n",
    "                                np.array(ast.literal_eval(distances.at['v2', loc3])))\n",
    "        d2.append(dist2)\n",
    "    except:\n",
    "        continue\n",
    "    d2.append(dist)"
   ]
  },
  {
   "cell_type": "code",
   "execution_count": 65,
   "id": "6136f146",
   "metadata": {},
   "outputs": [
    {
     "data": {
      "text/plain": [
       "5.062442509429448"
      ]
     },
     "execution_count": 65,
     "metadata": {},
     "output_type": "execute_result"
    }
   ],
   "source": [
    "sum(d2)"
   ]
  },
  {
   "cell_type": "code",
   "execution_count": 68,
   "id": "95ed688a",
   "metadata": {},
   "outputs": [],
   "source": [
    "d3 = []\n",
    "for i in range(0, len(v3_seq)):\n",
    "    loc1 = v3_seq[i]\n",
    "    loc2 = 'placing_' + loc1\n",
    "    dist = np.linalg.norm(np.array(ast.literal_eval(distances.at['v3', loc1])) -\n",
    "                                np.array(ast.literal_eval(distances.at['v3', loc2])))\n",
    "    try:\n",
    "        loc3 = v3_seq[i+1]\n",
    "        dist2 = np.linalg.norm(np.array(ast.literal_eval(distances.at['v3', loc2])) -\n",
    "                                np.array(ast.literal_eval(distances.at['v3', loc3])))\n",
    "        d3.append(dist2)\n",
    "    except:\n",
    "        continue\n",
    "    d3.append(dist)"
   ]
  },
  {
   "cell_type": "code",
   "execution_count": 69,
   "id": "3f2cd7d1",
   "metadata": {},
   "outputs": [
    {
     "data": {
      "text/plain": [
       "4.675510246358996"
      ]
     },
     "execution_count": 69,
     "metadata": {},
     "output_type": "execute_result"
    }
   ],
   "source": [
    "sum(d3)"
   ]
  },
  {
   "cell_type": "code",
   "execution_count": 66,
   "id": "6d6ac820",
   "metadata": {},
   "outputs": [],
   "source": [
    "d4 = []\n",
    "for i in range(0, len(v4_seq)):\n",
    "    loc1 = v4_seq[i]\n",
    "    loc2 = 'placing_' + loc1\n",
    "    dist = np.linalg.norm(np.array(ast.literal_eval(distances.at['v4', loc2])) -\n",
    "                                np.array(ast.literal_eval(distances.at['v4', loc1])))\n",
    "    try:\n",
    "        loc3 = v4_seq[i+1]\n",
    "        dist2 = np.linalg.norm(np.array(ast.literal_eval(distances.at['v4', loc2])) -\n",
    "                                np.array(ast.literal_eval(distances.at['v4', loc3])))\n",
    "        d4.append(dist2)\n",
    "    except:\n",
    "        continue\n",
    "    d4.append(dist)"
   ]
  },
  {
   "cell_type": "code",
   "execution_count": 67,
   "id": "0c4893a1",
   "metadata": {},
   "outputs": [
    {
     "data": {
      "text/plain": [
       "5.392777958840495"
      ]
     },
     "execution_count": 67,
     "metadata": {},
     "output_type": "execute_result"
    }
   ],
   "source": [
    "sum(d4)"
   ]
  },
  {
   "cell_type": "code",
   "execution_count": 70,
   "id": "09e63651",
   "metadata": {},
   "outputs": [],
   "source": [
    "d5 = []\n",
    "for i in range(0, len(v5_seq)):\n",
    "    loc1 = v5_seq[i]\n",
    "    loc2 = 'placing_' + loc1\n",
    "    dist = np.linalg.norm(np.array(ast.literal_eval(distances.at['v5', loc2])) -\n",
    "                                np.array(ast.literal_eval(distances.at['v5', loc1])))\n",
    "    try:\n",
    "        loc3 = v5_seq[i+1]\n",
    "        dist2 = np.linalg.norm(np.array(ast.literal_eval(distances.at['v5', loc2])) -\n",
    "                                np.array(ast.literal_eval(distances.at['v5', loc3])))\n",
    "        d5.append(dist2)\n",
    "    except:\n",
    "        continue\n",
    "    d5.append(dist)"
   ]
  },
  {
   "cell_type": "code",
   "execution_count": 71,
   "id": "2ee3b224",
   "metadata": {},
   "outputs": [
    {
     "data": {
      "text/plain": [
       "5.020026659716588"
      ]
     },
     "execution_count": 71,
     "metadata": {},
     "output_type": "execute_result"
    }
   ],
   "source": [
    "sum(d5)"
   ]
  },
  {
   "cell_type": "code",
   "execution_count": 72,
   "id": "939eb087",
   "metadata": {},
   "outputs": [],
   "source": [
    "distances_opm = {}\n",
    "distances_opm['v1'] = sum(d1)\n",
    "distances_opm['v2'] = sum(d2)\n",
    "distances_opm['v3'] = sum(d3)\n",
    "distances_opm['v4'] = sum(d4)\n",
    "distances_opm['v5'] = sum(d5)"
   ]
  },
  {
   "cell_type": "code",
   "execution_count": 73,
   "id": "6e65ee07",
   "metadata": {},
   "outputs": [
    {
     "data": {
      "text/plain": [
       "{'v1': 4.743217010403397,\n",
       " 'v2': 5.062442509429448,\n",
       " 'v3': 4.675510246358996,\n",
       " 'v4': 5.392777958840495,\n",
       " 'v5': 5.020026659716588}"
      ]
     },
     "execution_count": 73,
     "metadata": {},
     "output_type": "execute_result"
    }
   ],
   "source": [
    "distances_opm"
   ]
  },
  {
   "cell_type": "code",
   "execution_count": null,
   "id": "026a9f8c",
   "metadata": {},
   "outputs": [],
   "source": []
  }
 ],
 "metadata": {
  "kernelspec": {
   "display_name": "Python 3 (ipykernel)",
   "language": "python",
   "name": "python3"
  },
  "language_info": {
   "codemirror_mode": {
    "name": "ipython",
    "version": 3
   },
   "file_extension": ".py",
   "mimetype": "text/x-python",
   "name": "python",
   "nbconvert_exporter": "python",
   "pygments_lexer": "ipython3",
   "version": "3.9.16"
  }
 },
 "nbformat": 4,
 "nbformat_minor": 5
}
