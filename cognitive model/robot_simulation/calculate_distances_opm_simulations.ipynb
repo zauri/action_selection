{
 "cells": [
  {
   "cell_type": "code",
   "execution_count": 20,
   "id": "e4d09af0",
   "metadata": {},
   "outputs": [],
   "source": [
    "import ast\n",
    "import numpy as np\n",
    "import pandas as pd"
   ]
  },
  {
   "cell_type": "code",
   "execution_count": 76,
   "id": "556e9006",
   "metadata": {},
   "outputs": [],
   "source": [
    "v1_seq = ['bowl','breakfast-cereal','cup','spoon','milk']\n",
    "v2_seq = ['bowl','cup','milk','breakfast-cereal','spoon']\n",
    "v3_seq = ['bowl','spoon','breakfast-cereal','cup','milk']\n",
    "v4_seq = ['bowl','spoon','milk','cup','breakfast-cereal']\n",
    "v5_seq = ['bowl','milk','breakfast-cereal','spoon','cup']"
   ]
  },
  {
   "cell_type": "code",
   "execution_count": 10,
   "id": "97dc9785",
   "metadata": {},
   "outputs": [],
   "source": [
    "distances = pd.read_csv('locations_objects.csv', header=0, index_col='demo')"
   ]
  },
  {
   "cell_type": "markdown",
   "id": "d1732c26",
   "metadata": {},
   "source": [
    "### Calculate distances for OPM sequences"
   ]
  },
  {
   "cell_type": "code",
   "execution_count": 62,
   "id": "c3fac51f",
   "metadata": {},
   "outputs": [],
   "source": [
    "d1 = []\n",
    "for i in range(0, len(v1_seq)):\n",
    "    loc1 = v1_seq[i]\n",
    "    loc2 = 'placing_' + loc1\n",
    "    dist = np.linalg.norm(np.array(ast.literal_eval(distances.at['v1', loc2])) -\n",
    "                                np.array(ast.literal_eval(distances.at['v1', loc1])))\n",
    "    try:\n",
    "        loc3 = v1_seq[i+1]\n",
    "        dist2 = np.linalg.norm(np.array(ast.literal_eval(distances.at['v1', loc2])) -\n",
    "                                np.array(ast.literal_eval(distances.at['v1', loc3])))\n",
    "        d1.append(dist2)\n",
    "    except:\n",
    "        continue\n",
    "    d1.append(dist)"
   ]
  },
  {
   "cell_type": "code",
   "execution_count": 63,
   "id": "5b25c89c",
   "metadata": {},
   "outputs": [
    {
     "data": {
      "text/plain": [
       "4.743217010403397"
      ]
     },
     "execution_count": 63,
     "metadata": {},
     "output_type": "execute_result"
    }
   ],
   "source": [
    "sum(d1)"
   ]
  },
  {
   "cell_type": "code",
   "execution_count": 64,
   "id": "da29f398",
   "metadata": {},
   "outputs": [],
   "source": [
    "d2 = []\n",
    "for i in range(0, len(v2_seq)):\n",
    "    loc1 = v2_seq[i]\n",
    "    loc2 = 'placing_' + loc1\n",
    "    dist = np.linalg.norm(np.array(ast.literal_eval(distances.at['v2', loc2])) -\n",
    "                                np.array(ast.literal_eval(distances.at['v2', loc1])))\n",
    "    try:\n",
    "        loc3 = v2_seq[i+1]\n",
    "        dist2 = np.linalg.norm(np.array(ast.literal_eval(distances.at['v2', loc2])) -\n",
    "                                np.array(ast.literal_eval(distances.at['v2', loc3])))\n",
    "        d2.append(dist2)\n",
    "    except:\n",
    "        continue\n",
    "    d2.append(dist)"
   ]
  },
  {
   "cell_type": "code",
   "execution_count": 65,
   "id": "698f9cac",
   "metadata": {},
   "outputs": [
    {
     "data": {
      "text/plain": [
       "5.062442509429448"
      ]
     },
     "execution_count": 65,
     "metadata": {},
     "output_type": "execute_result"
    }
   ],
   "source": [
    "sum(d2)"
   ]
  },
  {
   "cell_type": "code",
   "execution_count": 68,
   "id": "c7a7d3c4",
   "metadata": {},
   "outputs": [],
   "source": [
    "d3 = []\n",
    "for i in range(0, len(v3_seq)):\n",
    "    loc1 = v3_seq[i]\n",
    "    loc2 = 'placing_' + loc1\n",
    "    dist = np.linalg.norm(np.array(ast.literal_eval(distances.at['v3', loc1])) -\n",
    "                                np.array(ast.literal_eval(distances.at['v3', loc2])))\n",
    "    try:\n",
    "        loc3 = v3_seq[i+1]\n",
    "        dist2 = np.linalg.norm(np.array(ast.literal_eval(distances.at['v3', loc2])) -\n",
    "                                np.array(ast.literal_eval(distances.at['v3', loc3])))\n",
    "        d3.append(dist2)\n",
    "    except:\n",
    "        continue\n",
    "    d3.append(dist)"
   ]
  },
  {
   "cell_type": "code",
   "execution_count": 69,
   "id": "9a58ff40",
   "metadata": {},
   "outputs": [
    {
     "data": {
      "text/plain": [
       "4.675510246358996"
      ]
     },
     "execution_count": 69,
     "metadata": {},
     "output_type": "execute_result"
    }
   ],
   "source": [
    "sum(d3)"
   ]
  },
  {
   "cell_type": "code",
   "execution_count": 66,
   "id": "9124933b",
   "metadata": {},
   "outputs": [],
   "source": [
    "d4 = []\n",
    "for i in range(0, len(v4_seq)):\n",
    "    loc1 = v4_seq[i]\n",
    "    loc2 = 'placing_' + loc1\n",
    "    dist = np.linalg.norm(np.array(ast.literal_eval(distances.at['v4', loc2])) -\n",
    "                                np.array(ast.literal_eval(distances.at['v4', loc1])))\n",
    "    try:\n",
    "        loc3 = v4_seq[i+1]\n",
    "        dist2 = np.linalg.norm(np.array(ast.literal_eval(distances.at['v4', loc2])) -\n",
    "                                np.array(ast.literal_eval(distances.at['v4', loc3])))\n",
    "        d4.append(dist2)\n",
    "    except:\n",
    "        continue\n",
    "    d4.append(dist)"
   ]
  },
  {
   "cell_type": "code",
   "execution_count": 67,
   "id": "5a1b9165",
   "metadata": {},
   "outputs": [
    {
     "data": {
      "text/plain": [
       "5.392777958840495"
      ]
     },
     "execution_count": 67,
     "metadata": {},
     "output_type": "execute_result"
    }
   ],
   "source": [
    "sum(d4)"
   ]
  },
  {
   "cell_type": "code",
   "execution_count": 70,
   "id": "b72e4475",
   "metadata": {},
   "outputs": [],
   "source": [
    "d5 = []\n",
    "for i in range(0, len(v5_seq)):\n",
    "    loc1 = v5_seq[i]\n",
    "    loc2 = 'placing_' + loc1\n",
    "    dist = np.linalg.norm(np.array(ast.literal_eval(distances.at['v5', loc2])) -\n",
    "                                np.array(ast.literal_eval(distances.at['v5', loc1])))\n",
    "    try:\n",
    "        loc3 = v5_seq[i+1]\n",
    "        dist2 = np.linalg.norm(np.array(ast.literal_eval(distances.at['v5', loc2])) -\n",
    "                                np.array(ast.literal_eval(distances.at['v5', loc3])))\n",
    "        d5.append(dist2)\n",
    "    except:\n",
    "        continue\n",
    "    d5.append(dist)"
   ]
  },
  {
   "cell_type": "code",
   "execution_count": 71,
   "id": "95d2e238",
   "metadata": {},
   "outputs": [
    {
     "data": {
      "text/plain": [
       "5.020026659716588"
      ]
     },
     "execution_count": 71,
     "metadata": {},
     "output_type": "execute_result"
    }
   ],
   "source": [
    "sum(d5)"
   ]
  },
  {
   "cell_type": "code",
   "execution_count": 72,
   "id": "4dae61a6",
   "metadata": {},
   "outputs": [],
   "source": [
    "distances_opm = {}\n",
    "distances_opm['v1'] = sum(d1)\n",
    "distances_opm['v2'] = sum(d2)\n",
    "distances_opm['v3'] = sum(d3)\n",
    "distances_opm['v4'] = sum(d4)\n",
    "distances_opm['v5'] = sum(d5)"
   ]
  },
  {
   "cell_type": "code",
   "execution_count": 73,
   "id": "227d1e0d",
   "metadata": {},
   "outputs": [
    {
     "data": {
      "text/plain": [
       "{'v1': 4.743217010403397,\n",
       " 'v2': 5.062442509429448,\n",
       " 'v3': 4.675510246358996,\n",
       " 'v4': 5.392777958840495,\n",
       " 'v5': 5.020026659716588}"
      ]
     },
     "execution_count": 73,
     "metadata": {},
     "output_type": "execute_result"
    }
   ],
   "source": [
    "distances_opm"
   ]
  },
  {
   "cell_type": "markdown",
   "id": "14743da2",
   "metadata": {},
   "source": [
    "### Calculate distances for baseline sequences"
   ]
  },
  {
   "cell_type": "code",
   "execution_count": 75,
   "id": "eebf50fb",
   "metadata": {},
   "outputs": [],
   "source": [
    "v1_seq2 = ['breakfast-cereal','cup','bowl','spoon','milk']\n",
    "v2_seq2 = ['spoon','breakfast-cereal','milk','cup','bowl']\n",
    "v3_seq2 = ['cup','milk','breakfast-cereal','bowl','spoon']\n",
    "v4_seq2 = ['bowl','milk','cup','spoon','breakfast-cereal']\n",
    "v5_seq2 = ['bowl','cup','breakfast-cereal','spoon','milk']"
   ]
  },
  {
   "cell_type": "code",
   "execution_count": 92,
   "id": "29d7e941",
   "metadata": {},
   "outputs": [],
   "source": [
    "d1_2 = []\n",
    "for i in range(0, len(v1_seq2)):\n",
    "    loc1 = v1_seq2[i]\n",
    "    loc2 = 'placing_' + loc1\n",
    "    dist = np.linalg.norm(np.array(ast.literal_eval(distances.at['v1', loc2])) -\n",
    "                                np.array(ast.literal_eval(distances.at['v1', loc1])))\n",
    "    try:\n",
    "        loc3 = v1_seq2[i+1]\n",
    "        dist2 = np.linalg.norm(np.array(ast.literal_eval(distances.at['v1', loc2])) -\n",
    "                                np.array(ast.literal_eval(distances.at['v1', loc3])))\n",
    "        d1_2.append(dist2)\n",
    "    except:\n",
    "        continue\n",
    "    d1_2.append(dist)"
   ]
  },
  {
   "cell_type": "code",
   "execution_count": 93,
   "id": "0017fb77",
   "metadata": {},
   "outputs": [
    {
     "data": {
      "text/plain": [
       "5.3611702254174105"
      ]
     },
     "execution_count": 93,
     "metadata": {},
     "output_type": "execute_result"
    }
   ],
   "source": [
    "sum(d1_2)"
   ]
  },
  {
   "cell_type": "code",
   "execution_count": 83,
   "id": "6e2d86b2",
   "metadata": {},
   "outputs": [],
   "source": [
    "d2_2 = []\n",
    "for i in range(0, len(v2_seq2)):\n",
    "    loc1 = v2_seq2[i]\n",
    "    loc2 = 'placing_' + loc1\n",
    "    dist = np.linalg.norm(np.array(ast.literal_eval(distances.at['v2', loc2])) -\n",
    "                                np.array(ast.literal_eval(distances.at['v2', loc1])))\n",
    "    try:\n",
    "        loc3 = v2_seq2[i+1]\n",
    "        dist2 = np.linalg.norm(np.array(ast.literal_eval(distances.at['v2', loc2])) -\n",
    "                                np.array(ast.literal_eval(distances.at['v2', loc3])))\n",
    "        d2_2.append(dist2)\n",
    "    except:\n",
    "        continue\n",
    "    d2_2.append(dist)"
   ]
  },
  {
   "cell_type": "code",
   "execution_count": 84,
   "id": "1f352015",
   "metadata": {},
   "outputs": [
    {
     "data": {
      "text/plain": [
       "4.948253687350284"
      ]
     },
     "execution_count": 84,
     "metadata": {},
     "output_type": "execute_result"
    }
   ],
   "source": [
    "sum(d2_2)"
   ]
  },
  {
   "cell_type": "code",
   "execution_count": 86,
   "id": "971b5f36",
   "metadata": {},
   "outputs": [],
   "source": [
    "d3_2 = []\n",
    "for i in range(0, len(v3_seq2)):\n",
    "    loc1 = v3_seq2[i]\n",
    "    loc2 = 'placing_' + loc1\n",
    "    dist = np.linalg.norm(np.array(ast.literal_eval(distances.at['v3', loc1])) -\n",
    "                                np.array(ast.literal_eval(distances.at['v3', loc2])))\n",
    "    try:\n",
    "        loc3 = v3_seq2[i+1]\n",
    "        dist2 = np.linalg.norm(np.array(ast.literal_eval(distances.at['v3', loc2])) -\n",
    "                                np.array(ast.literal_eval(distances.at['v3', loc3])))\n",
    "        d3_2.append(dist2)\n",
    "    except:\n",
    "        continue\n",
    "    d3_2.append(dist)"
   ]
  },
  {
   "cell_type": "code",
   "execution_count": 87,
   "id": "bb6a550f",
   "metadata": {},
   "outputs": [
    {
     "data": {
      "text/plain": [
       "6.070628153169264"
      ]
     },
     "execution_count": 87,
     "metadata": {},
     "output_type": "execute_result"
    }
   ],
   "source": [
    "sum(d3_2)"
   ]
  },
  {
   "cell_type": "code",
   "execution_count": 88,
   "id": "56aeb32d",
   "metadata": {},
   "outputs": [],
   "source": [
    "d4_2 = []\n",
    "for i in range(0, len(v4_seq2)):\n",
    "    loc1 = v4_seq2[i]\n",
    "    loc2 = 'placing_' + loc1\n",
    "    dist = np.linalg.norm(np.array(ast.literal_eval(distances.at['v4', loc2])) -\n",
    "                                np.array(ast.literal_eval(distances.at['v4', loc1])))\n",
    "    try:\n",
    "        loc3 = v4_seq2[i+1]\n",
    "        dist2 = np.linalg.norm(np.array(ast.literal_eval(distances.at['v4', loc2])) -\n",
    "                                np.array(ast.literal_eval(distances.at['v4', loc3])))\n",
    "        d4_2.append(dist2)\n",
    "    except:\n",
    "        continue\n",
    "    d4_2.append(dist)"
   ]
  },
  {
   "cell_type": "code",
   "execution_count": 89,
   "id": "7254d1b8",
   "metadata": {},
   "outputs": [
    {
     "data": {
      "text/plain": [
       "5.281143905145709"
      ]
     },
     "execution_count": 89,
     "metadata": {},
     "output_type": "execute_result"
    }
   ],
   "source": [
    "sum(d4_2)"
   ]
  },
  {
   "cell_type": "code",
   "execution_count": 90,
   "id": "3709eb24",
   "metadata": {},
   "outputs": [],
   "source": [
    "d5_2 = []\n",
    "for i in range(0, len(v5_seq2)):\n",
    "    loc1 = v5_seq2[i]\n",
    "    loc2 = 'placing_' + loc1\n",
    "    dist = np.linalg.norm(np.array(ast.literal_eval(distances.at['v5', loc2])) -\n",
    "                                np.array(ast.literal_eval(distances.at['v5', loc1])))\n",
    "    try:\n",
    "        loc3 = v5_seq[i+1]\n",
    "        dist2 = np.linalg.norm(np.array(ast.literal_eval(distances.at['v5', loc2])) -\n",
    "                                np.array(ast.literal_eval(distances.at['v5', loc3])))\n",
    "        d5_2.append(dist2)\n",
    "    except:\n",
    "        continue\n",
    "    d5_2.append(dist)"
   ]
  },
  {
   "cell_type": "code",
   "execution_count": 91,
   "id": "6c92b0c7",
   "metadata": {},
   "outputs": [
    {
     "data": {
      "text/plain": [
       "5.309578287398773"
      ]
     },
     "execution_count": 91,
     "metadata": {},
     "output_type": "execute_result"
    }
   ],
   "source": [
    "sum(d5_2)"
   ]
  },
  {
   "cell_type": "code",
   "execution_count": 94,
   "id": "c4777dec",
   "metadata": {},
   "outputs": [],
   "source": [
    "distances_baseline = {}\n",
    "distances_baseline['v1'] = sum(d1_2)\n",
    "distances_baseline['v2'] = sum(d2_2)\n",
    "distances_baseline['v3'] = sum(d3_2)\n",
    "distances_baseline['v4'] = sum(d4_2)\n",
    "distances_baseline['v5'] = sum(d5_2)"
   ]
  },
  {
   "cell_type": "code",
   "execution_count": 95,
   "id": "0259944c",
   "metadata": {},
   "outputs": [
    {
     "data": {
      "text/plain": [
       "{'v1': 4.743217010403397,\n",
       " 'v2': 5.062442509429448,\n",
       " 'v3': 4.675510246358996,\n",
       " 'v4': 5.392777958840495,\n",
       " 'v5': 5.020026659716588}"
      ]
     },
     "execution_count": 95,
     "metadata": {},
     "output_type": "execute_result"
    }
   ],
   "source": [
    "distances_opm"
   ]
  },
  {
   "cell_type": "code",
   "execution_count": 96,
   "id": "9ecbd1d5",
   "metadata": {},
   "outputs": [
    {
     "data": {
      "text/plain": [
       "{'v1': 5.3611702254174105,\n",
       " 'v2': 4.948253687350284,\n",
       " 'v3': 6.070628153169264,\n",
       " 'v4': 5.281143905145709,\n",
       " 'v5': 5.309578287398773}"
      ]
     },
     "execution_count": 96,
     "metadata": {},
     "output_type": "execute_result"
    }
   ],
   "source": [
    "distances_baseline"
   ]
  },
  {
   "cell_type": "code",
   "execution_count": null,
   "id": "e407a4cb",
   "metadata": {},
   "outputs": [],
   "source": []
  }
 ],
 "metadata": {
  "kernelspec": {
   "display_name": "Python 3 (ipykernel)",
   "language": "python",
   "name": "python3"
  },
  "language_info": {
   "codemirror_mode": {
    "name": "ipython",
    "version": 3
   },
   "file_extension": ".py",
   "mimetype": "text/x-python",
   "name": "python",
   "nbconvert_exporter": "python",
   "pygments_lexer": "ipython3",
   "version": "3.9.16"
  }
 },
 "nbformat": 4,
 "nbformat_minor": 5
}
