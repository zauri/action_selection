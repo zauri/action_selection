{
 "cells": [
  {
   "cell_type": "code",
   "execution_count": 1,
   "id": "a060792c",
   "metadata": {},
   "outputs": [],
   "source": [
    "import pandas as pd\n",
    "import matplotlib.pyplot as plt\n",
    "import numpy as np\n",
    "import seaborn as sns\n",
    "\n",
    "from scipy.stats import wilcoxon\n",
    "from matplotlib.lines import Line2D"
   ]
  },
  {
   "cell_type": "code",
   "execution_count": 41,
   "id": "660fa27f",
   "metadata": {},
   "outputs": [],
   "source": [
    "df = pd.read_csv('simulation_results_with_distances_2024-09-13.csv', header=0)"
   ]
  },
  {
   "cell_type": "code",
   "execution_count": 42,
   "id": "c394bfea",
   "metadata": {},
   "outputs": [
    {
     "data": {
      "text/html": [
       "<div>\n",
       "<style scoped>\n",
       "    .dataframe tbody tr th:only-of-type {\n",
       "        vertical-align: middle;\n",
       "    }\n",
       "\n",
       "    .dataframe tbody tr th {\n",
       "        vertical-align: top;\n",
       "    }\n",
       "\n",
       "    .dataframe thead th {\n",
       "        text-align: right;\n",
       "    }\n",
       "</style>\n",
       "<table border=\"1\" class=\"dataframe\">\n",
       "  <thead>\n",
       "    <tr style=\"text-align: right;\">\n",
       "      <th></th>\n",
       "      <th>simulation</th>\n",
       "      <th>trial</th>\n",
       "      <th>start_time</th>\n",
       "      <th>end_time</th>\n",
       "      <th>duration</th>\n",
       "      <th>duration_no_distance</th>\n",
       "      <th>sequence</th>\n",
       "      <th>type</th>\n",
       "      <th>duration_seconds</th>\n",
       "      <th>diff</th>\n",
       "    </tr>\n",
       "  </thead>\n",
       "  <tbody>\n",
       "    <tr>\n",
       "      <th>0</th>\n",
       "      <td>1</td>\n",
       "      <td>0</td>\n",
       "      <td>14:37:35</td>\n",
       "      <td>14:37:47</td>\n",
       "      <td>00:00:12</td>\n",
       "      <td>12</td>\n",
       "      <td>bowl, milk, cup, spoon, breakfast-cereal</td>\n",
       "      <td>opm</td>\n",
       "      <td>31.57</td>\n",
       "      <td>19.57</td>\n",
       "    </tr>\n",
       "    <tr>\n",
       "      <th>1</th>\n",
       "      <td>1</td>\n",
       "      <td>1</td>\n",
       "      <td>14:37:50</td>\n",
       "      <td>14:38:01</td>\n",
       "      <td>00:00:11</td>\n",
       "      <td>11</td>\n",
       "      <td>bowl, milk, cup, spoon, breakfast-cereal</td>\n",
       "      <td>opm</td>\n",
       "      <td>30.57</td>\n",
       "      <td>19.57</td>\n",
       "    </tr>\n",
       "    <tr>\n",
       "      <th>2</th>\n",
       "      <td>1</td>\n",
       "      <td>2</td>\n",
       "      <td>14:38:04</td>\n",
       "      <td>14:38:16</td>\n",
       "      <td>00:00:12</td>\n",
       "      <td>12</td>\n",
       "      <td>bowl, milk, cup, spoon, breakfast-cereal</td>\n",
       "      <td>opm</td>\n",
       "      <td>31.57</td>\n",
       "      <td>19.57</td>\n",
       "    </tr>\n",
       "    <tr>\n",
       "      <th>3</th>\n",
       "      <td>1</td>\n",
       "      <td>3</td>\n",
       "      <td>14:38:19</td>\n",
       "      <td>14:38:31</td>\n",
       "      <td>00:00:12</td>\n",
       "      <td>12</td>\n",
       "      <td>bowl, milk, cup, spoon, breakfast-cereal</td>\n",
       "      <td>opm</td>\n",
       "      <td>31.57</td>\n",
       "      <td>19.57</td>\n",
       "    </tr>\n",
       "    <tr>\n",
       "      <th>4</th>\n",
       "      <td>1</td>\n",
       "      <td>4</td>\n",
       "      <td>14:38:33</td>\n",
       "      <td>14:38:46</td>\n",
       "      <td>00:00:13</td>\n",
       "      <td>13</td>\n",
       "      <td>bowl, milk, cup, spoon, breakfast-cereal</td>\n",
       "      <td>opm</td>\n",
       "      <td>32.57</td>\n",
       "      <td>19.57</td>\n",
       "    </tr>\n",
       "    <tr>\n",
       "      <th>...</th>\n",
       "      <td>...</td>\n",
       "      <td>...</td>\n",
       "      <td>...</td>\n",
       "      <td>...</td>\n",
       "      <td>...</td>\n",
       "      <td>...</td>\n",
       "      <td>...</td>\n",
       "      <td>...</td>\n",
       "      <td>...</td>\n",
       "      <td>...</td>\n",
       "    </tr>\n",
       "    <tr>\n",
       "      <th>95</th>\n",
       "      <td>5</td>\n",
       "      <td>5</td>\n",
       "      <td>15:26:20</td>\n",
       "      <td>15:26:58</td>\n",
       "      <td>00:00:38</td>\n",
       "      <td>38</td>\n",
       "      <td>breakfast-cereal, cup, bowl, spoon, milk</td>\n",
       "      <td>baseline</td>\n",
       "      <td>56.02</td>\n",
       "      <td>18.02</td>\n",
       "    </tr>\n",
       "    <tr>\n",
       "      <th>96</th>\n",
       "      <td>5</td>\n",
       "      <td>6</td>\n",
       "      <td>15:27:01</td>\n",
       "      <td>15:27:37</td>\n",
       "      <td>00:00:36</td>\n",
       "      <td>36</td>\n",
       "      <td>breakfast-cereal, cup, bowl, spoon, milk</td>\n",
       "      <td>baseline</td>\n",
       "      <td>54.02</td>\n",
       "      <td>18.02</td>\n",
       "    </tr>\n",
       "    <tr>\n",
       "      <th>97</th>\n",
       "      <td>5</td>\n",
       "      <td>7</td>\n",
       "      <td>15:27:41</td>\n",
       "      <td>15:28:20</td>\n",
       "      <td>00:00:39</td>\n",
       "      <td>39</td>\n",
       "      <td>breakfast-cereal, cup, bowl, spoon, milk</td>\n",
       "      <td>baseline</td>\n",
       "      <td>57.02</td>\n",
       "      <td>18.02</td>\n",
       "    </tr>\n",
       "    <tr>\n",
       "      <th>98</th>\n",
       "      <td>5</td>\n",
       "      <td>8</td>\n",
       "      <td>15:28:24</td>\n",
       "      <td>15:29:01</td>\n",
       "      <td>00:00:37</td>\n",
       "      <td>37</td>\n",
       "      <td>breakfast-cereal, cup, bowl, spoon, milk</td>\n",
       "      <td>baseline</td>\n",
       "      <td>55.02</td>\n",
       "      <td>18.02</td>\n",
       "    </tr>\n",
       "    <tr>\n",
       "      <th>99</th>\n",
       "      <td>5</td>\n",
       "      <td>9</td>\n",
       "      <td>15:29:04</td>\n",
       "      <td>15:29:41</td>\n",
       "      <td>00:00:37</td>\n",
       "      <td>37</td>\n",
       "      <td>breakfast-cereal, cup, bowl, spoon, milk</td>\n",
       "      <td>baseline</td>\n",
       "      <td>55.02</td>\n",
       "      <td>18.02</td>\n",
       "    </tr>\n",
       "  </tbody>\n",
       "</table>\n",
       "<p>100 rows × 10 columns</p>\n",
       "</div>"
      ],
      "text/plain": [
       "    simulation  trial start_time  end_time  duration  duration_no_distance  \\\n",
       "0            1      0   14:37:35  14:37:47  00:00:12                    12   \n",
       "1            1      1   14:37:50  14:38:01  00:00:11                    11   \n",
       "2            1      2   14:38:04  14:38:16  00:00:12                    12   \n",
       "3            1      3   14:38:19  14:38:31  00:00:12                    12   \n",
       "4            1      4   14:38:33  14:38:46  00:00:13                    13   \n",
       "..         ...    ...        ...       ...       ...                   ...   \n",
       "95           5      5   15:26:20  15:26:58  00:00:38                    38   \n",
       "96           5      6   15:27:01  15:27:37  00:00:36                    36   \n",
       "97           5      7   15:27:41  15:28:20  00:00:39                    39   \n",
       "98           5      8   15:28:24  15:29:01  00:00:37                    37   \n",
       "99           5      9   15:29:04  15:29:41  00:00:37                    37   \n",
       "\n",
       "                                    sequence      type  duration_seconds  \\\n",
       "0   bowl, milk, cup, spoon, breakfast-cereal       opm             31.57   \n",
       "1   bowl, milk, cup, spoon, breakfast-cereal       opm             30.57   \n",
       "2   bowl, milk, cup, spoon, breakfast-cereal       opm             31.57   \n",
       "3   bowl, milk, cup, spoon, breakfast-cereal       opm             31.57   \n",
       "4   bowl, milk, cup, spoon, breakfast-cereal       opm             32.57   \n",
       "..                                       ...       ...               ...   \n",
       "95  breakfast-cereal, cup, bowl, spoon, milk  baseline             56.02   \n",
       "96  breakfast-cereal, cup, bowl, spoon, milk  baseline             54.02   \n",
       "97  breakfast-cereal, cup, bowl, spoon, milk  baseline             57.02   \n",
       "98  breakfast-cereal, cup, bowl, spoon, milk  baseline             55.02   \n",
       "99  breakfast-cereal, cup, bowl, spoon, milk  baseline             55.02   \n",
       "\n",
       "     diff  \n",
       "0   19.57  \n",
       "1   19.57  \n",
       "2   19.57  \n",
       "3   19.57  \n",
       "4   19.57  \n",
       "..    ...  \n",
       "95  18.02  \n",
       "96  18.02  \n",
       "97  18.02  \n",
       "98  18.02  \n",
       "99  18.02  \n",
       "\n",
       "[100 rows x 10 columns]"
      ]
     },
     "execution_count": 42,
     "metadata": {},
     "output_type": "execute_result"
    }
   ],
   "source": [
    "df"
   ]
  },
  {
   "cell_type": "code",
   "execution_count": 43,
   "id": "b0743bb4",
   "metadata": {},
   "outputs": [],
   "source": [
    "custom_cmap2 = [\"#46327e\", \"#277f8e\", \"#4ac16d\"]"
   ]
  },
  {
   "cell_type": "code",
   "execution_count": 44,
   "id": "e2d45e0a",
   "metadata": {},
   "outputs": [
    {
     "data": {
      "text/html": [
       "<div>\n",
       "<style scoped>\n",
       "    .dataframe tbody tr th:only-of-type {\n",
       "        vertical-align: middle;\n",
       "    }\n",
       "\n",
       "    .dataframe tbody tr th {\n",
       "        vertical-align: top;\n",
       "    }\n",
       "\n",
       "    .dataframe thead th {\n",
       "        text-align: right;\n",
       "    }\n",
       "</style>\n",
       "<table border=\"1\" class=\"dataframe\">\n",
       "  <thead>\n",
       "    <tr style=\"text-align: right;\">\n",
       "      <th></th>\n",
       "      <th>duration_seconds</th>\n",
       "    </tr>\n",
       "    <tr>\n",
       "      <th>type</th>\n",
       "      <th></th>\n",
       "    </tr>\n",
       "  </thead>\n",
       "  <tbody>\n",
       "    <tr>\n",
       "      <th>baseline</th>\n",
       "      <td>48.37</td>\n",
       "    </tr>\n",
       "    <tr>\n",
       "      <th>opm</th>\n",
       "      <td>46.63</td>\n",
       "    </tr>\n",
       "  </tbody>\n",
       "</table>\n",
       "</div>"
      ],
      "text/plain": [
       "          duration_seconds\n",
       "type                      \n",
       "baseline             48.37\n",
       "opm                  46.63"
      ]
     },
     "execution_count": 44,
     "metadata": {},
     "output_type": "execute_result"
    }
   ],
   "source": [
    "df[['duration_seconds', 'type']].groupby(['type']).mean()"
   ]
  },
  {
   "cell_type": "code",
   "execution_count": 45,
   "id": "81621506",
   "metadata": {},
   "outputs": [],
   "source": [
    "duration_opm = df.loc[df['type'] == 'opm']['duration_seconds'].mean()"
   ]
  },
  {
   "cell_type": "code",
   "execution_count": 46,
   "id": "ade68b14",
   "metadata": {},
   "outputs": [],
   "source": [
    "duration_baseline = df.loc[df['type'] == 'baseline']['duration_seconds'].mean()"
   ]
  },
  {
   "cell_type": "code",
   "execution_count": 47,
   "id": "f802a886",
   "metadata": {},
   "outputs": [],
   "source": [
    "durations = pd.Series([duration_baseline, duration_opm])"
   ]
  },
  {
   "cell_type": "code",
   "execution_count": 48,
   "id": "905999dd",
   "metadata": {},
   "outputs": [
    {
     "data": {
      "text/plain": [
       "0         NaN\n",
       "1   -3.597271\n",
       "dtype: float64"
      ]
     },
     "execution_count": 48,
     "metadata": {},
     "output_type": "execute_result"
    }
   ],
   "source": [
    "durations.pct_change() * 100"
   ]
  },
  {
   "cell_type": "code",
   "execution_count": 49,
   "id": "c1f9dc3a",
   "metadata": {},
   "outputs": [
    {
     "data": {
      "text/plain": [
       "(50, 50)"
      ]
     },
     "execution_count": 49,
     "metadata": {},
     "output_type": "execute_result"
    }
   ],
   "source": [
    "opm = df['duration_seconds'].loc[df['type'] == 'opm'].tolist()\n",
    "baseline = df['duration_seconds'].loc[df['type'] == 'baseline'].tolist()\n",
    "len(opm), len(baseline)"
   ]
  },
  {
   "cell_type": "markdown",
   "id": "e6440584",
   "metadata": {},
   "source": [
    "### stat analysis"
   ]
  },
  {
   "cell_type": "code",
   "execution_count": 50,
   "id": "cae065b4",
   "metadata": {},
   "outputs": [
    {
     "name": "stdout",
     "output_type": "stream",
     "text": [
      "Wilcoxon: W = 241.000, p = 0.00007\n"
     ]
    }
   ],
   "source": [
    "stat, p = wilcoxon(opm, baseline)\n",
    "print('Wilcoxon: W = %.3f, p = %.5f' % (stat, p))"
   ]
  },
  {
   "cell_type": "code",
   "execution_count": null,
   "id": "f7578984",
   "metadata": {},
   "outputs": [],
   "source": []
  },
  {
   "cell_type": "markdown",
   "id": "c8407a3a",
   "metadata": {},
   "source": [
    "### plot results"
   ]
  },
  {
   "cell_type": "code",
   "execution_count": 51,
   "id": "3a224653",
   "metadata": {},
   "outputs": [],
   "source": [
    "results = pd.DataFrame()"
   ]
  },
  {
   "cell_type": "code",
   "execution_count": 52,
   "id": "19f5e20e",
   "metadata": {},
   "outputs": [],
   "source": [
    "custom_cmap2 = [\"#46327e\", \"#277f8e\", \"#4ac16d\"]\n",
    "custom_lines2 = [Line2D([0], [0], color=custom_cmap2[1], lw=8, alpha=0.5),\n",
    "                Line2D([0], [0], color=custom_cmap2[2], lw=8, alpha=0.5)]"
   ]
  },
  {
   "cell_type": "code",
   "execution_count": 53,
   "id": "44e067cb",
   "metadata": {},
   "outputs": [],
   "source": [
    "results['opm'] = opm\n",
    "results['baseline'] = baseline\n",
    "labels = [col for col in results.columns]"
   ]
  },
  {
   "cell_type": "code",
   "execution_count": 54,
   "id": "8eb1fae0",
   "metadata": {},
   "outputs": [
    {
     "name": "stderr",
     "output_type": "stream",
     "text": [
      "/tmp/ipykernel_58526/3156388523.py:10: UserWarning: FixedFormatter should only be used together with FixedLocator\n",
      "  ax.set_xticklabels(ax.get_xticklabels(), rotation=0, fontsize=24)\n"
     ]
    }
   ],
   "source": [
    "%matplotlib qt\n",
    "\n",
    "ax = sns.violinplot(data=results,\n",
    "                    palette='viridis',\n",
    "                    cut=0,\n",
    "                    inner='quartiles')\n",
    "\n",
    "plt.setp(ax.collections, alpha=0.7)\n",
    "\n",
    "ax.set_xticklabels(ax.get_xticklabels(), rotation=0, fontsize=24)\n",
    "\n",
    "plt.ylabel('duration in seconds', fontsize=24)\n",
    "#plt.tight_layout(pad=0.9)\n",
    "plt.show()"
   ]
  },
  {
   "cell_type": "code",
   "execution_count": 55,
   "id": "37de1633",
   "metadata": {},
   "outputs": [],
   "source": [
    "simulations_opm = df['simulation'].loc[df['type'] == 'opm'].tolist()\n",
    "simulations_baseline = df['simulation'].loc[df['type'] == 'baseline'].tolist()"
   ]
  },
  {
   "cell_type": "code",
   "execution_count": 56,
   "id": "35b65ccd",
   "metadata": {},
   "outputs": [
    {
     "data": {
      "text/plain": [
       "True"
      ]
     },
     "execution_count": 56,
     "metadata": {},
     "output_type": "execute_result"
    }
   ],
   "source": [
    "simulations_opm == simulations_baseline"
   ]
  },
  {
   "cell_type": "code",
   "execution_count": 57,
   "id": "fc82deb6",
   "metadata": {},
   "outputs": [],
   "source": [
    "results['simulation'] = simulations_baseline"
   ]
  },
  {
   "cell_type": "code",
   "execution_count": 58,
   "id": "b552bd0b",
   "metadata": {},
   "outputs": [
    {
     "data": {
      "text/html": [
       "<div>\n",
       "<style scoped>\n",
       "    .dataframe tbody tr th:only-of-type {\n",
       "        vertical-align: middle;\n",
       "    }\n",
       "\n",
       "    .dataframe tbody tr th {\n",
       "        vertical-align: top;\n",
       "    }\n",
       "\n",
       "    .dataframe thead th {\n",
       "        text-align: right;\n",
       "    }\n",
       "</style>\n",
       "<table border=\"1\" class=\"dataframe\">\n",
       "  <thead>\n",
       "    <tr style=\"text-align: right;\">\n",
       "      <th></th>\n",
       "      <th>opm</th>\n",
       "      <th>baseline</th>\n",
       "    </tr>\n",
       "    <tr>\n",
       "      <th>simulation</th>\n",
       "      <th></th>\n",
       "      <th></th>\n",
       "    </tr>\n",
       "  </thead>\n",
       "  <tbody>\n",
       "    <tr>\n",
       "      <th>1</th>\n",
       "      <td>34.87</td>\n",
       "      <td>40.17</td>\n",
       "    </tr>\n",
       "    <tr>\n",
       "      <th>2</th>\n",
       "      <td>42.69</td>\n",
       "      <td>42.77</td>\n",
       "    </tr>\n",
       "    <tr>\n",
       "      <th>3</th>\n",
       "      <td>48.37</td>\n",
       "      <td>50.29</td>\n",
       "    </tr>\n",
       "    <tr>\n",
       "      <th>4</th>\n",
       "      <td>51.81</td>\n",
       "      <td>53.10</td>\n",
       "    </tr>\n",
       "    <tr>\n",
       "      <th>5</th>\n",
       "      <td>55.41</td>\n",
       "      <td>55.52</td>\n",
       "    </tr>\n",
       "  </tbody>\n",
       "</table>\n",
       "</div>"
      ],
      "text/plain": [
       "              opm  baseline\n",
       "simulation                 \n",
       "1           34.87     40.17\n",
       "2           42.69     42.77\n",
       "3           48.37     50.29\n",
       "4           51.81     53.10\n",
       "5           55.41     55.52"
      ]
     },
     "execution_count": 58,
     "metadata": {},
     "output_type": "execute_result"
    }
   ],
   "source": [
    "results.groupby('simulation').mean()"
   ]
  },
  {
   "cell_type": "code",
   "execution_count": 59,
   "id": "dd9f974a",
   "metadata": {},
   "outputs": [],
   "source": [
    "labels = [col for col in results.columns]\n",
    "\n",
    "%matplotlib qt\n",
    "\n",
    "ax2 = sns.violinplot(data=results.groupby('simulation').mean(),\n",
    "                    palette=custom_cmap2[1:],\n",
    "                    cut=1,\n",
    "                    inner='quartiles',\n",
    "                    saturation=.8)\n",
    "\n",
    "plt.setp(ax2.collections, alpha=0.5)\n",
    "\n",
    "#ax2.set_xticklabels(ax.get_xticklabels(), rotation=0, fontsize=20)\n",
    "#ax2.set_yticklabels(ax.get_yticklabels(), rotation=0, fontsize=20)\n",
    "ax2.tick_params(axis='both', which='major', labelsize=20)\n",
    "\n",
    "plt.ylabel('duration in seconds', fontsize=24)\n",
    "plt.xlabel('simulation type', fontsize=24)\n",
    "\n",
    "ax2.legend(custom_lines2, ['OPM', 'baseline'], loc='upper left', fontsize=24)\n",
    "\n",
    "plt.show()"
   ]
  },
  {
   "cell_type": "code",
   "execution_count": 61,
   "id": "70eda984",
   "metadata": {},
   "outputs": [],
   "source": [
    "%matplotlib qt\n",
    "\n",
    "ax2 = plt.figure(figsize=(12,8))\n",
    "\n",
    "ax2 = sns.violinplot(x='simulation',\n",
    "                     y='duration_seconds',\n",
    "                     hue='type',\n",
    "                     data=df,\n",
    "                     palette=custom_cmap2[1:],\n",
    "                     cut=0,\n",
    "                     inner='quartiles',\n",
    "                     saturation=.8)\n",
    "\n",
    "#ax2.set_xticklabels(ax.get_xticklabels(), rotation=0, fontsize=18)\n",
    "\n",
    "plt.ylabel('duration in seconds', fontsize=26)\n",
    "plt.xlabel('simulation', fontsize=24)\n",
    "\n",
    "plt.setp(ax2.collections, alpha=0.5)\n",
    "ax2.legend(custom_lines2, ['OPM', 'baseline'], loc='upper left', fontsize=24)\n",
    "ax2.tick_params(axis='both', which='major', labelsize=20)\n",
    "\n",
    "#ax2 = plt.gca()\n",
    "#leg = ax2.get_legend()\n",
    "#leg.legendHandles[0].set_color(custom_cmap2[1])\n",
    "#leg.legendHandles[1].set_color(custom_cmap2[2])\n",
    "\n",
    "#legend = plt.legend()\n",
    "#for lh in legend.legendHandles:\n",
    "#    lh.set_alpha(0.5)\n",
    "\n",
    "plt.tight_layout()\n",
    "plt.margins(0.01)\n",
    "plt.show()"
   ]
  },
  {
   "cell_type": "code",
   "execution_count": null,
   "id": "50f13e85",
   "metadata": {},
   "outputs": [],
   "source": []
  },
  {
   "cell_type": "code",
   "execution_count": null,
   "id": "504d6c05",
   "metadata": {},
   "outputs": [],
   "source": []
  }
 ],
 "metadata": {
  "kernelspec": {
   "display_name": "Python 3 (ipykernel)",
   "language": "python",
   "name": "python3"
  },
  "language_info": {
   "codemirror_mode": {
    "name": "ipython",
    "version": 3
   },
   "file_extension": ".py",
   "mimetype": "text/x-python",
   "name": "python",
   "nbconvert_exporter": "python",
   "pygments_lexer": "ipython3",
   "version": "3.8.10"
  }
 },
 "nbformat": 4,
 "nbformat_minor": 5
}
