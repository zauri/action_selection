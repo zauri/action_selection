{
 "cells": [
  {
   "cell_type": "code",
   "execution_count": 125,
   "id": "669c0ee4",
   "metadata": {},
   "outputs": [],
   "source": [
    "import ast\n",
    "import matplotlib.pyplot as plt\n",
    "import numpy as np\n",
    "import pandas as pd\n",
    "import seaborn as sns\n",
    "\n",
    "from scipy.stats import wilcoxon\n",
    "from matplotlib.lines import Line2D"
   ]
  },
  {
   "cell_type": "code",
   "execution_count": 126,
   "id": "f5e29a2c",
   "metadata": {},
   "outputs": [],
   "source": [
    "v1_seq = ['bowl','milk','cup','spoon','breakfast-cereal']\n",
    "v2_seq = ['bowl','milk','cup','spoon','breakfast-cereal']\n",
    "v3_seq = ['bowl','spoon','breakfast-cereal','cup','milk']\n",
    "v4_seq = ['bowl','spoon','milk','cup','breakfast-cereal']\n",
    "v5_seq = ['bowl','milk','breakfast-cereal','spoon','cup']"
   ]
  },
  {
   "cell_type": "code",
   "execution_count": 127,
   "id": "d068664e",
   "metadata": {},
   "outputs": [],
   "source": [
    "distances = pd.read_csv('locations_objects_2024-09-13.csv', header=0, index_col='demo')"
   ]
  },
  {
   "cell_type": "markdown",
   "id": "463a3051",
   "metadata": {},
   "source": [
    "### Calculate distances for baseline sequences"
   ]
  },
  {
   "cell_type": "code",
   "execution_count": 128,
   "id": "17748bfa",
   "metadata": {},
   "outputs": [],
   "source": [
    "d1 = []\n",
    "for i in range(0, len(v1_seq)):\n",
    "    loc1 = v1_seq[i]\n",
    "    loc2 = 'placing_' + loc1\n",
    "    dist = np.linalg.norm(np.array(ast.literal_eval(distances.at['v1', loc2])) -\n",
    "                                np.array(ast.literal_eval(distances.at['v1', loc1])))\n",
    "    try:\n",
    "        loc3 = v1_seq[i+1]\n",
    "        dist2 = np.linalg.norm(np.array(ast.literal_eval(distances.at['v1', loc2])) -\n",
    "                                np.array(ast.literal_eval(distances.at['v1', loc3])))\n",
    "        d1.append(dist2)\n",
    "    except:\n",
    "        continue\n",
    "    d1.append(dist)"
   ]
  },
  {
   "cell_type": "code",
   "execution_count": 129,
   "id": "0b2a57a5",
   "metadata": {},
   "outputs": [
    {
     "data": {
      "text/plain": [
       "20.31897939730835"
      ]
     },
     "execution_count": 129,
     "metadata": {},
     "output_type": "execute_result"
    }
   ],
   "source": [
    "sum(d1)"
   ]
  },
  {
   "cell_type": "code",
   "execution_count": 130,
   "id": "03c792e0",
   "metadata": {},
   "outputs": [],
   "source": [
    "d2 = []\n",
    "for i in range(0, len(v2_seq)):\n",
    "    loc1 = v2_seq[i]\n",
    "    loc2 = 'placing_' + loc1\n",
    "    dist = np.linalg.norm(np.array(ast.literal_eval(distances.at['v2', loc2])) -\n",
    "                                np.array(ast.literal_eval(distances.at['v2', loc1])))\n",
    "    try:\n",
    "        loc3 = v2_seq[i+1]\n",
    "        dist2 = np.linalg.norm(np.array(ast.literal_eval(distances.at['v2', loc2])) -\n",
    "                                np.array(ast.literal_eval(distances.at['v2', loc3])))\n",
    "        d2.append(dist2)\n",
    "    except:\n",
    "        continue\n",
    "    d2.append(dist)"
   ]
  },
  {
   "cell_type": "code",
   "execution_count": 131,
   "id": "bcb46625",
   "metadata": {},
   "outputs": [
    {
     "data": {
      "text/plain": [
       "20.31897939730835"
      ]
     },
     "execution_count": 131,
     "metadata": {},
     "output_type": "execute_result"
    }
   ],
   "source": [
    "sum(d2)"
   ]
  },
  {
   "cell_type": "code",
   "execution_count": 132,
   "id": "485a2162",
   "metadata": {},
   "outputs": [],
   "source": [
    "d3 = []\n",
    "for i in range(0, len(v3_seq)):\n",
    "    loc1 = v3_seq[i]\n",
    "    loc2 = 'placing_' + loc1\n",
    "    dist = np.linalg.norm(np.array(ast.literal_eval(distances.at['v3', loc1])) -\n",
    "                                np.array(ast.literal_eval(distances.at['v3', loc2])))\n",
    "    try:\n",
    "        loc3 = v3_seq[i+1]\n",
    "        dist2 = np.linalg.norm(np.array(ast.literal_eval(distances.at['v3', loc2])) -\n",
    "                                np.array(ast.literal_eval(distances.at['v3', loc3])))\n",
    "        d3.append(dist2)\n",
    "    except:\n",
    "        continue\n",
    "    d3.append(dist)"
   ]
  },
  {
   "cell_type": "code",
   "execution_count": 133,
   "id": "b34a15b0",
   "metadata": {},
   "outputs": [
    {
     "data": {
      "text/plain": [
       "19.6694619043898"
      ]
     },
     "execution_count": 133,
     "metadata": {},
     "output_type": "execute_result"
    }
   ],
   "source": [
    "sum(d3)"
   ]
  },
  {
   "cell_type": "code",
   "execution_count": 134,
   "id": "3fa4a0ba",
   "metadata": {},
   "outputs": [],
   "source": [
    "d4 = []\n",
    "for i in range(0, len(v4_seq)):\n",
    "    loc1 = v4_seq[i]\n",
    "    loc2 = 'placing_' + loc1\n",
    "    dist = np.linalg.norm(np.array(ast.literal_eval(distances.at['v4', loc2])) -\n",
    "                                np.array(ast.literal_eval(distances.at['v4', loc1])))\n",
    "    try:\n",
    "        loc3 = v4_seq[i+1]\n",
    "        dist2 = np.linalg.norm(np.array(ast.literal_eval(distances.at['v4', loc2])) -\n",
    "                                np.array(ast.literal_eval(distances.at['v4', loc3])))\n",
    "        d4.append(dist2)\n",
    "    except:\n",
    "        continue\n",
    "    d4.append(dist)"
   ]
  },
  {
   "cell_type": "code",
   "execution_count": 135,
   "id": "960c9a13",
   "metadata": {},
   "outputs": [
    {
     "data": {
      "text/plain": [
       "20.288946647903803"
      ]
     },
     "execution_count": 135,
     "metadata": {},
     "output_type": "execute_result"
    }
   ],
   "source": [
    "sum(d4)"
   ]
  },
  {
   "cell_type": "code",
   "execution_count": 136,
   "id": "42878ac4",
   "metadata": {},
   "outputs": [],
   "source": [
    "d5 = []\n",
    "for i in range(0, len(v5_seq)):\n",
    "    loc1 = v5_seq[i]\n",
    "    loc2 = 'placing_' + loc1\n",
    "    dist = np.linalg.norm(np.array(ast.literal_eval(distances.at['v5', loc2])) -\n",
    "                                np.array(ast.literal_eval(distances.at['v5', loc1])))\n",
    "    try:\n",
    "        loc3 = v5_seq[i+1]\n",
    "        dist2 = np.linalg.norm(np.array(ast.literal_eval(distances.at['v5', loc2])) -\n",
    "                                np.array(ast.literal_eval(distances.at['v5', loc3])))\n",
    "        d5.append(dist2)\n",
    "    except:\n",
    "        continue\n",
    "    d5.append(dist)"
   ]
  },
  {
   "cell_type": "code",
   "execution_count": 137,
   "id": "a2ef9036",
   "metadata": {},
   "outputs": [
    {
     "data": {
      "text/plain": [
       "19.56561293881805"
      ]
     },
     "execution_count": 137,
     "metadata": {},
     "output_type": "execute_result"
    }
   ],
   "source": [
    "sum(d5)"
   ]
  },
  {
   "cell_type": "code",
   "execution_count": 138,
   "id": "77eeb4c6",
   "metadata": {},
   "outputs": [],
   "source": [
    "distances_baseline = {}\n",
    "distances_baseline['v1'] = sum(d1)\n",
    "distances_baseline['v2'] = sum(d2)\n",
    "distances_baseline['v3'] = sum(d3)\n",
    "distances_baseline['v4'] = sum(d4)\n",
    "distances_baseline['v5'] = sum(d5)"
   ]
  },
  {
   "cell_type": "code",
   "execution_count": 139,
   "id": "ba20d064",
   "metadata": {},
   "outputs": [
    {
     "data": {
      "text/plain": [
       "{'v1': 20.31897939730835,\n",
       " 'v2': 20.31897939730835,\n",
       " 'v3': 19.6694619043898,\n",
       " 'v4': 20.288946647903803,\n",
       " 'v5': 19.56561293881805}"
      ]
     },
     "execution_count": 139,
     "metadata": {},
     "output_type": "execute_result"
    }
   ],
   "source": [
    "distances_baseline"
   ]
  },
  {
   "cell_type": "markdown",
   "id": "6d3308dd",
   "metadata": {},
   "source": [
    "### Calculate distances for baseline sequences"
   ]
  },
  {
   "cell_type": "code",
   "execution_count": 140,
   "id": "267d819b",
   "metadata": {},
   "outputs": [],
   "source": [
    "v1_seq2 = ['breakfast-cereal','cup','bowl','spoon','milk']\n",
    "v2_seq2 = ['breakfast-cereal','cup','bowl','spoon','milk']\n",
    "v3_seq2 = ['breakfast-cereal','cup','bowl','spoon','milk']\n",
    "v4_seq2 = ['breakfast-cereal','cup','bowl','spoon','milk']\n",
    "v5_seq2 = ['breakfast-cereal','cup','bowl','spoon','milk']"
   ]
  },
  {
   "cell_type": "code",
   "execution_count": 141,
   "id": "c71de8f1",
   "metadata": {},
   "outputs": [],
   "source": [
    "d1_2 = []\n",
    "for i in range(0, len(v1_seq2)):\n",
    "    loc1 = v1_seq2[i]\n",
    "    loc2 = 'placing_' + loc1\n",
    "    dist = np.linalg.norm(np.array(ast.literal_eval(distances.at['v1', loc2])) -\n",
    "                                np.array(ast.literal_eval(distances.at['v1', loc1])))\n",
    "    try:\n",
    "        loc3 = v1_seq2[i+1]\n",
    "        dist2 = np.linalg.norm(np.array(ast.literal_eval(distances.at['v1', loc2])) -\n",
    "                                np.array(ast.literal_eval(distances.at['v1', loc3])))\n",
    "        d1_2.append(dist2)\n",
    "    except:\n",
    "        continue\n",
    "    d1_2.append(dist)"
   ]
  },
  {
   "cell_type": "code",
   "execution_count": 142,
   "id": "03058436",
   "metadata": {},
   "outputs": [
    {
     "data": {
      "text/plain": [
       "18.165446011566623"
      ]
     },
     "execution_count": 142,
     "metadata": {},
     "output_type": "execute_result"
    }
   ],
   "source": [
    "sum(d1_2)"
   ]
  },
  {
   "cell_type": "code",
   "execution_count": 143,
   "id": "bdfc81e4",
   "metadata": {},
   "outputs": [],
   "source": [
    "d2_2 = []\n",
    "for i in range(0, len(v2_seq2)):\n",
    "    loc1 = v2_seq2[i]\n",
    "    loc2 = 'placing_' + loc1\n",
    "    dist = np.linalg.norm(np.array(ast.literal_eval(distances.at['v2', loc2])) -\n",
    "                                np.array(ast.literal_eval(distances.at['v2', loc1])))\n",
    "    try:\n",
    "        loc3 = v2_seq2[i+1]\n",
    "        dist2 = np.linalg.norm(np.array(ast.literal_eval(distances.at['v2', loc2])) -\n",
    "                                np.array(ast.literal_eval(distances.at['v2', loc3])))\n",
    "        d2_2.append(dist2)\n",
    "    except:\n",
    "        continue\n",
    "    d2_2.append(dist)"
   ]
  },
  {
   "cell_type": "code",
   "execution_count": 144,
   "id": "e2f99824",
   "metadata": {},
   "outputs": [
    {
     "data": {
      "text/plain": [
       "18.165446011566623"
      ]
     },
     "execution_count": 144,
     "metadata": {},
     "output_type": "execute_result"
    }
   ],
   "source": [
    "sum(d2_2)"
   ]
  },
  {
   "cell_type": "code",
   "execution_count": 145,
   "id": "af1b1b4c",
   "metadata": {},
   "outputs": [],
   "source": [
    "d3_2 = []\n",
    "for i in range(0, len(v3_seq2)):\n",
    "    loc1 = v3_seq2[i]\n",
    "    loc2 = 'placing_' + loc1\n",
    "    dist = np.linalg.norm(np.array(ast.literal_eval(distances.at['v3', loc1])) -\n",
    "                                np.array(ast.literal_eval(distances.at['v3', loc2])))\n",
    "    try:\n",
    "        loc3 = v3_seq2[i+1]\n",
    "        dist2 = np.linalg.norm(np.array(ast.literal_eval(distances.at['v3', loc2])) -\n",
    "                                np.array(ast.literal_eval(distances.at['v3', loc3])))\n",
    "        d3_2.append(dist2)\n",
    "    except:\n",
    "        continue\n",
    "    d3_2.append(dist)"
   ]
  },
  {
   "cell_type": "code",
   "execution_count": 146,
   "id": "14681599",
   "metadata": {},
   "outputs": [
    {
     "data": {
      "text/plain": [
       "19.19800620518399"
      ]
     },
     "execution_count": 146,
     "metadata": {},
     "output_type": "execute_result"
    }
   ],
   "source": [
    "sum(d3_2)"
   ]
  },
  {
   "cell_type": "code",
   "execution_count": 147,
   "id": "61d13e66",
   "metadata": {},
   "outputs": [],
   "source": [
    "d4_2 = []\n",
    "for i in range(0, len(v4_seq2)):\n",
    "    loc1 = v4_seq2[i]\n",
    "    loc2 = 'placing_' + loc1\n",
    "    dist = np.linalg.norm(np.array(ast.literal_eval(distances.at['v4', loc2])) -\n",
    "                                np.array(ast.literal_eval(distances.at['v4', loc1])))\n",
    "    try:\n",
    "        loc3 = v4_seq2[i+1]\n",
    "        dist2 = np.linalg.norm(np.array(ast.literal_eval(distances.at['v4', loc2])) -\n",
    "                                np.array(ast.literal_eval(distances.at['v4', loc3])))\n",
    "        d4_2.append(dist2)\n",
    "    except:\n",
    "        continue\n",
    "    d4_2.append(dist)"
   ]
  },
  {
   "cell_type": "code",
   "execution_count": 148,
   "id": "f413542f",
   "metadata": {},
   "outputs": [
    {
     "data": {
      "text/plain": [
       "19.30603075208358"
      ]
     },
     "execution_count": 148,
     "metadata": {},
     "output_type": "execute_result"
    }
   ],
   "source": [
    "sum(d4_2)"
   ]
  },
  {
   "cell_type": "code",
   "execution_count": 149,
   "id": "7f88fa6f",
   "metadata": {},
   "outputs": [],
   "source": [
    "d5_2 = []\n",
    "for i in range(0, len(v5_seq2)):\n",
    "    loc1 = v5_seq2[i]\n",
    "    loc2 = 'placing_' + loc1\n",
    "    dist = np.linalg.norm(np.array(ast.literal_eval(distances.at['v5', loc2])) -\n",
    "                                np.array(ast.literal_eval(distances.at['v5', loc1])))\n",
    "    try:\n",
    "        loc3 = v5_seq[i+1]\n",
    "        dist2 = np.linalg.norm(np.array(ast.literal_eval(distances.at['v5', loc2])) -\n",
    "                                np.array(ast.literal_eval(distances.at['v5', loc3])))\n",
    "        d5_2.append(dist2)\n",
    "    except:\n",
    "        continue\n",
    "    d5_2.append(dist)"
   ]
  },
  {
   "cell_type": "code",
   "execution_count": 150,
   "id": "dd1af3da",
   "metadata": {},
   "outputs": [
    {
     "data": {
      "text/plain": [
       "18.019509221710827"
      ]
     },
     "execution_count": 150,
     "metadata": {},
     "output_type": "execute_result"
    }
   ],
   "source": [
    "sum(d5_2)"
   ]
  },
  {
   "cell_type": "code",
   "execution_count": 151,
   "id": "be6ce8a5",
   "metadata": {},
   "outputs": [],
   "source": [
    "distances_opm = {}\n",
    "distances_opm['v1'] = sum(d1_2)\n",
    "distances_opm['v2'] = sum(d2_2)\n",
    "distances_opm['v3'] = sum(d3_2)\n",
    "distances_opm['v4'] = sum(d4_2)\n",
    "distances_opm['v5'] = sum(d5_2)"
   ]
  },
  {
   "cell_type": "code",
   "execution_count": 152,
   "id": "79c9e332",
   "metadata": {},
   "outputs": [
    {
     "data": {
      "text/plain": [
       "{'v1': 18.165446011566623,\n",
       " 'v2': 18.165446011566623,\n",
       " 'v3': 19.19800620518399,\n",
       " 'v4': 19.30603075208358,\n",
       " 'v5': 18.019509221710827}"
      ]
     },
     "execution_count": 152,
     "metadata": {},
     "output_type": "execute_result"
    }
   ],
   "source": [
    "distances_opm"
   ]
  },
  {
   "cell_type": "code",
   "execution_count": 153,
   "id": "ce4ea467",
   "metadata": {},
   "outputs": [
    {
     "data": {
      "text/plain": [
       "{'v1': 20.31897939730835,\n",
       " 'v2': 20.31897939730835,\n",
       " 'v3': 19.6694619043898,\n",
       " 'v4': 20.288946647903803,\n",
       " 'v5': 19.56561293881805}"
      ]
     },
     "execution_count": 153,
     "metadata": {},
     "output_type": "execute_result"
    }
   ],
   "source": [
    "distances_baseline"
   ]
  },
  {
   "cell_type": "code",
   "execution_count": 154,
   "id": "8de02091",
   "metadata": {},
   "outputs": [],
   "source": [
    "distances = pd.DataFrame()\n",
    "distances['distance'] = [x for x in distances_opm.values()] + [x for x in distances_baseline.values()]\n",
    "distances['type'] = ['opm'] * 5 + ['baseline'] * 5\n",
    "distances['simulation'] = [x for x in distances_baseline.keys()] * 2"
   ]
  },
  {
   "cell_type": "code",
   "execution_count": 155,
   "id": "c56226b3",
   "metadata": {},
   "outputs": [
    {
     "data": {
      "text/html": [
       "<div>\n",
       "<style scoped>\n",
       "    .dataframe tbody tr th:only-of-type {\n",
       "        vertical-align: middle;\n",
       "    }\n",
       "\n",
       "    .dataframe tbody tr th {\n",
       "        vertical-align: top;\n",
       "    }\n",
       "\n",
       "    .dataframe thead th {\n",
       "        text-align: right;\n",
       "    }\n",
       "</style>\n",
       "<table border=\"1\" class=\"dataframe\">\n",
       "  <thead>\n",
       "    <tr style=\"text-align: right;\">\n",
       "      <th></th>\n",
       "      <th>distance</th>\n",
       "      <th>type</th>\n",
       "      <th>simulation</th>\n",
       "    </tr>\n",
       "  </thead>\n",
       "  <tbody>\n",
       "    <tr>\n",
       "      <th>0</th>\n",
       "      <td>18.165446</td>\n",
       "      <td>opm</td>\n",
       "      <td>v1</td>\n",
       "    </tr>\n",
       "    <tr>\n",
       "      <th>1</th>\n",
       "      <td>18.165446</td>\n",
       "      <td>opm</td>\n",
       "      <td>v2</td>\n",
       "    </tr>\n",
       "    <tr>\n",
       "      <th>2</th>\n",
       "      <td>19.198006</td>\n",
       "      <td>opm</td>\n",
       "      <td>v3</td>\n",
       "    </tr>\n",
       "    <tr>\n",
       "      <th>3</th>\n",
       "      <td>19.306031</td>\n",
       "      <td>opm</td>\n",
       "      <td>v4</td>\n",
       "    </tr>\n",
       "    <tr>\n",
       "      <th>4</th>\n",
       "      <td>18.019509</td>\n",
       "      <td>opm</td>\n",
       "      <td>v5</td>\n",
       "    </tr>\n",
       "    <tr>\n",
       "      <th>5</th>\n",
       "      <td>20.318979</td>\n",
       "      <td>baseline</td>\n",
       "      <td>v1</td>\n",
       "    </tr>\n",
       "    <tr>\n",
       "      <th>6</th>\n",
       "      <td>20.318979</td>\n",
       "      <td>baseline</td>\n",
       "      <td>v2</td>\n",
       "    </tr>\n",
       "    <tr>\n",
       "      <th>7</th>\n",
       "      <td>19.669462</td>\n",
       "      <td>baseline</td>\n",
       "      <td>v3</td>\n",
       "    </tr>\n",
       "    <tr>\n",
       "      <th>8</th>\n",
       "      <td>20.288947</td>\n",
       "      <td>baseline</td>\n",
       "      <td>v4</td>\n",
       "    </tr>\n",
       "    <tr>\n",
       "      <th>9</th>\n",
       "      <td>19.565613</td>\n",
       "      <td>baseline</td>\n",
       "      <td>v5</td>\n",
       "    </tr>\n",
       "  </tbody>\n",
       "</table>\n",
       "</div>"
      ],
      "text/plain": [
       "    distance      type simulation\n",
       "0  18.165446       opm         v1\n",
       "1  18.165446       opm         v2\n",
       "2  19.198006       opm         v3\n",
       "3  19.306031       opm         v4\n",
       "4  18.019509       opm         v5\n",
       "5  20.318979  baseline         v1\n",
       "6  20.318979  baseline         v2\n",
       "7  19.669462  baseline         v3\n",
       "8  20.288947  baseline         v4\n",
       "9  19.565613  baseline         v5"
      ]
     },
     "execution_count": 155,
     "metadata": {},
     "output_type": "execute_result"
    }
   ],
   "source": [
    "distances"
   ]
  },
  {
   "cell_type": "markdown",
   "id": "086f54f2",
   "metadata": {},
   "source": [
    "### Plot distances: Barplot"
   ]
  },
  {
   "cell_type": "code",
   "execution_count": 156,
   "id": "47e60a6e",
   "metadata": {},
   "outputs": [],
   "source": [
    "%matplotlib qt\n",
    "\n",
    "ax = sns.barplot(y='distance',\n",
    "                 x='simulation',\n",
    "                 data=distances,\n",
    "                 hue='type',\n",
    "                 palette='viridis',\n",
    "                 saturation=0.8,\n",
    "                 alpha=0.7,\n",
    "                 width=0.7)\n",
    "\n",
    "plt.setp(ax.collections, alpha=0.5)\n",
    "\n",
    "for container in ax.containers:\n",
    "    ax.bar_label(container, fmt='{:,.2f}', fontsize=16)\n",
    "    \n",
    "ax.tick_params(axis='both', which='major', labelsize=20)\n",
    "\n",
    "plt.ylabel('distance in meters', fontsize=24)\n",
    "plt.xlabel('simulation', fontsize=24)\n",
    "ax.legend(custom_lines2, ['OPM', 'baseline'], loc='upper right', fontsize=24)\n",
    "\n",
    "plt.show()"
   ]
  },
  {
   "cell_type": "markdown",
   "id": "78ecefcb",
   "metadata": {},
   "source": [
    "### Plot distances: Violin"
   ]
  },
  {
   "cell_type": "code",
   "execution_count": 161,
   "id": "98594a53",
   "metadata": {},
   "outputs": [],
   "source": [
    "%matplotlib qt\n",
    "\n",
    "ax2 = sns.violinplot(y='distance',\n",
    "                     x='type',\n",
    "                     hue='type',\n",
    "                     data=distances,\n",
    "                     palette='viridis',\n",
    "                     cut=0,\n",
    "                     inner='quartiles',\n",
    "                     saturation=.8)\n",
    "\n",
    "plt.setp(ax2.collections, alpha=0.5)\n",
    "\n",
    "#ax2.set_xticklabels(ax.get_xticklabels(), rotation=0, fontsize=24)\n",
    "ax2.tick_params(axis='both', which='major', labelsize=20)\n",
    "\n",
    "plt.ylabel('distance in meters', fontsize=24)\n",
    "plt.xlabel('simulation type', fontsize=24)\n",
    "#plt.legend(loc='upper right', fontsize=24)\n",
    "\n",
    "ax2.legend(custom_lines2, ['OPM', 'baseline'], loc='upper left', fontsize=24)\n",
    "\n",
    "#plt.tight_layout(pad=0.9)\n",
    "plt.show()"
   ]
  },
  {
   "cell_type": "markdown",
   "id": "b8f9d481",
   "metadata": {},
   "source": [
    "### Combine plots"
   ]
  },
  {
   "cell_type": "code",
   "execution_count": 162,
   "id": "86bc3509",
   "metadata": {},
   "outputs": [],
   "source": [
    "custom_cmap2 = [\"#46327e\", \"#277f8e\", \"#4ac16d\"]\n",
    "custom_lines2 = [Line2D([0], [0], color=custom_cmap2[1], lw=8, alpha=0.5),\n",
    "                Line2D([0], [0], color=custom_cmap2[2], lw=8, alpha=0.5)]"
   ]
  },
  {
   "cell_type": "code",
   "execution_count": 166,
   "id": "c46d9269",
   "metadata": {},
   "outputs": [],
   "source": [
    "%matplotlib qt\n",
    "\n",
    "fig2, (ax3, ax4) = plt.subplots(1,2, sharey=True, figsize=(12,8))\n",
    "\n",
    "sns.barplot(y='distance',\n",
    "            x='simulation',\n",
    "            data=distances,\n",
    "            hue='type',\n",
    "            palette='viridis',\n",
    "            saturation=0.7,\n",
    "            alpha=0.7,\n",
    "            width=0.7,\n",
    "            ax=ax3,\n",
    "            legend=False)\n",
    "\n",
    "ax3.set_xlabel('simulation', fontsize=26)\n",
    "ax3.tick_params(axis='both', which='major', labelsize=20)\n",
    "#ax3.set_ylabel('', fontsize=24)\n",
    "ax3.set_ylim(0,30)\n",
    "\n",
    "for line in ax3.lines:\n",
    "    line.set_color('black')\n",
    "    \n",
    "plt.setp(ax3.collections, alpha=0.4)\n",
    "\n",
    "sns.violinplot(y='distance',\n",
    "               x='type',\n",
    "               hue='type',\n",
    "               data=distances,\n",
    "               palette='viridis',\n",
    "               cut=0,\n",
    "               inner='quartiles',\n",
    "               saturation=0.8, \n",
    "               ax=ax4,\n",
    "               legend=False)\n",
    "\n",
    "plt.setp(ax4.collections, alpha=0.5)\n",
    "ax4.tick_params(axis='x', which='major', labelsize=20)\n",
    "\n",
    "ax3.set_ylabel('distance in meters', fontsize=26)\n",
    "ax4.set_xlabel('simulation type', fontsize=26)\n",
    "\n",
    "for line in ax4.lines:\n",
    "    line.set_color('black')\n",
    "\n",
    "plt.subplots_adjust(hspace=0.01)\n",
    "\n",
    "ax3.legend(custom_lines2, ['OPM', 'baseline'], loc='upper right', fontsize=24)\n",
    "ax4.legend(custom_lines2, ['OPM', 'baseline'], loc='upper right', fontsize=24)\n",
    "plt.tight_layout(pad=0.3)\n",
    "plt.show()"
   ]
  },
  {
   "cell_type": "markdown",
   "id": "a4daa3e8",
   "metadata": {},
   "source": [
    "### Stat analysis"
   ]
  },
  {
   "cell_type": "code",
   "execution_count": 117,
   "id": "bd806984",
   "metadata": {},
   "outputs": [],
   "source": [
    "opm = [x for x in distances_opm.values()]"
   ]
  },
  {
   "cell_type": "code",
   "execution_count": 118,
   "id": "3ebbaa07",
   "metadata": {},
   "outputs": [],
   "source": [
    "baseline = [x for x in distances_baseline.values()]"
   ]
  },
  {
   "cell_type": "code",
   "execution_count": 119,
   "id": "da012676",
   "metadata": {},
   "outputs": [
    {
     "name": "stdout",
     "output_type": "stream",
     "text": [
      "Wilcoxon: W = 0.000, p = 0.06250\n"
     ]
    }
   ],
   "source": [
    "stat, p = wilcoxon(opm, baseline)\n",
    "print('Wilcoxon: W = %.3f, p = %.5f' % (stat, p))"
   ]
  },
  {
   "cell_type": "code",
   "execution_count": 120,
   "id": "dbdc516c",
   "metadata": {},
   "outputs": [
    {
     "data": {
      "text/plain": [
       "(18.570887640422324, 20.032396057145668)"
      ]
     },
     "execution_count": 120,
     "metadata": {},
     "output_type": "execute_result"
    }
   ],
   "source": [
    "np.average(opm), np.average(baseline)"
   ]
  },
  {
   "cell_type": "code",
   "execution_count": null,
   "id": "9e3b8e92",
   "metadata": {},
   "outputs": [],
   "source": []
  }
 ],
 "metadata": {
  "kernelspec": {
   "display_name": "Python 3 (ipykernel)",
   "language": "python",
   "name": "python3"
  },
  "language_info": {
   "codemirror_mode": {
    "name": "ipython",
    "version": 3
   },
   "file_extension": ".py",
   "mimetype": "text/x-python",
   "name": "python",
   "nbconvert_exporter": "python",
   "pygments_lexer": "ipython3",
   "version": "3.8.10"
  }
 },
 "nbformat": 4,
 "nbformat_minor": 5
}
