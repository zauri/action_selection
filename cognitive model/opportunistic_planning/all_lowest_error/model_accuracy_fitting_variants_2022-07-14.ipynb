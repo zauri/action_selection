{
 "cells": [
  {
   "cell_type": "code",
   "execution_count": 1,
   "id": "a7979b39",
   "metadata": {},
   "outputs": [],
   "source": [
    "import numpy as np\n",
    "import pandas as pd"
   ]
  },
  {
   "cell_type": "code",
   "execution_count": 2,
   "id": "2cf026dd",
   "metadata": {},
   "outputs": [],
   "source": [
    "task_envs = pd.read_csv('all_task_environments_list_2022-06-02_unique_sequences.csv', header=0)"
   ]
  },
  {
   "cell_type": "code",
   "execution_count": 26,
   "id": "4611b760",
   "metadata": {},
   "outputs": [],
   "source": [
    "sum_lengths_ts = 0\n",
    "\n",
    "for row in range(0, len(task_envs[:186])):\n",
    "    sequence = task_envs.loc[row, 'sequence'].split(',')\n",
    "    sum_lengths_ts = sum_lengths_ts + len(sequence)"
   ]
  },
  {
   "cell_type": "code",
   "execution_count": 27,
   "id": "3f9c1aa9",
   "metadata": {},
   "outputs": [],
   "source": [
    "sum_lengths_c = 0\n",
    "\n",
    "for row in range(0, len(task_envs[187:])):\n",
    "    sequence = task_envs.loc[row, 'sequence'].split(',')\n",
    "    sum_lengths_c = sum_lengths_c + len(sequence)"
   ]
  },
  {
   "cell_type": "code",
   "execution_count": 28,
   "id": "815a5770",
   "metadata": {},
   "outputs": [
    {
     "data": {
      "text/plain": [
       "(1437, 941)"
      ]
     },
     "execution_count": 28,
     "metadata": {},
     "output_type": "execute_result"
    }
   ],
   "source": [
    "sum_lengths_ts, sum_lengths_c"
   ]
  },
  {
   "cell_type": "code",
   "execution_count": 5,
   "id": "be1271a9",
   "metadata": {},
   "outputs": [],
   "source": [
    "model_ts = pd.read_csv('results/results_tablesetting_cooking_2D_n100_fitted_to_ts_on_2022-06-03.csv', header=0)"
   ]
  },
  {
   "cell_type": "code",
   "execution_count": 6,
   "id": "1993a19b",
   "metadata": {},
   "outputs": [],
   "source": [
    "model_c = pd.read_csv('results/results_tablesetting_cooking_2D_n100_fitted_to_cooking_on_2022-06-03.csv', header=0)"
   ]
  },
  {
   "cell_type": "code",
   "execution_count": 29,
   "id": "fe9d7043",
   "metadata": {},
   "outputs": [],
   "source": [
    "sum_errors_ts = 0\n",
    "for row in range(0, len(model_ts[:186])):\n",
    "    error = model_ts.loc[row, 'median']\n",
    "    sum_errors_ts = sum_errors_ts + error"
   ]
  },
  {
   "cell_type": "code",
   "execution_count": 30,
   "id": "a428d328",
   "metadata": {},
   "outputs": [
    {
     "data": {
      "text/plain": [
       "764.0"
      ]
     },
     "execution_count": 30,
     "metadata": {},
     "output_type": "execute_result"
    }
   ],
   "source": [
    "sum_errors_ts"
   ]
  },
  {
   "cell_type": "code",
   "execution_count": 31,
   "id": "903ac1fe",
   "metadata": {},
   "outputs": [],
   "source": [
    "sum_errors_c = 0\n",
    "for row in range(0, len(model_c[187:])):\n",
    "    error = model_c.loc[row, 'median']\n",
    "    sum_errors_c = sum_errors_c + error"
   ]
  },
  {
   "cell_type": "code",
   "execution_count": 32,
   "id": "57dd76c3",
   "metadata": {},
   "outputs": [
    {
     "data": {
      "text/plain": [
       "525.5"
      ]
     },
     "execution_count": 32,
     "metadata": {},
     "output_type": "execute_result"
    }
   ],
   "source": [
    "sum_errors_c"
   ]
  },
  {
   "cell_type": "code",
   "execution_count": 33,
   "id": "905accf6",
   "metadata": {},
   "outputs": [
    {
     "data": {
      "text/plain": [
       "0.4683368128044537"
      ]
     },
     "execution_count": 33,
     "metadata": {},
     "output_type": "execute_result"
    }
   ],
   "source": [
    "acc_ts = (sum_lengths_ts - sum_errors_ts) / sum_lengths_ts\n",
    "acc_ts"
   ]
  },
  {
   "cell_type": "code",
   "execution_count": 34,
   "id": "faabe8da",
   "metadata": {},
   "outputs": [
    {
     "data": {
      "text/plain": [
       "0.44155154091392135"
      ]
     },
     "execution_count": 34,
     "metadata": {},
     "output_type": "execute_result"
    }
   ],
   "source": [
    "acc_c = (sum_lengths_c - sum_errors_c) / sum_lengths_c\n",
    "acc_c"
   ]
  },
  {
   "cell_type": "code",
   "execution_count": null,
   "id": "734f35dc",
   "metadata": {},
   "outputs": [],
   "source": []
  },
  {
   "cell_type": "code",
   "execution_count": null,
   "id": "1374a032",
   "metadata": {},
   "outputs": [],
   "source": []
  }
 ],
 "metadata": {
  "kernelspec": {
   "display_name": "Python 3 (ipykernel)",
   "language": "python",
   "name": "python3"
  },
  "language_info": {
   "codemirror_mode": {
    "name": "ipython",
    "version": 3
   },
   "file_extension": ".py",
   "mimetype": "text/x-python",
   "name": "python",
   "nbconvert_exporter": "python",
   "pygments_lexer": "ipython3",
   "version": "3.9.13"
  }
 },
 "nbformat": 4,
 "nbformat_minor": 5
}
