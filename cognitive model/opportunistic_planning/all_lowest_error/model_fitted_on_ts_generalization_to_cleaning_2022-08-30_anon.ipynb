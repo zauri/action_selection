{
 "cells": [
  {
   "cell_type": "code",
   "execution_count": null,
   "id": "e1f24240",
   "metadata": {},
   "outputs": [],
   "source": [
    "import ast\n",
    "import numpy as np\n",
    "import pandas as pd\n",
    "\n",
    "from opportunistic_planning import prediction, processing"
   ]
  },
  {
   "cell_type": "code",
   "execution_count": null,
   "id": "882260bf",
   "metadata": {},
   "outputs": [],
   "source": [
    "data_ts = pd.read_csv('all_task_environments_list_2022-06-02_unique_sequences.csv', header=0)"
   ]
  },
  {
   "cell_type": "code",
   "execution_count": null,
   "id": "9f912b58",
   "metadata": {},
   "outputs": [],
   "source": [
    "data = pd.read_csv('kit_task_envs_2022-08-30.csv', header=0)"
   ]
  },
  {
   "cell_type": "code",
   "execution_count": null,
   "id": "e0354f58",
   "metadata": {},
   "outputs": [],
   "source": [
    "distances_dict_kit = processing.generate_distances_dict(data, use_string_for_seq=False,\n",
    "                                                   dimensions=[[2, 'xy']])"
   ]
  },
  {
   "cell_type": "markdown",
   "id": "89035db5",
   "metadata": {},
   "source": [
    "### fit model on tablesetting"
   ]
  },
  {
   "cell_type": "code",
   "execution_count": null,
   "id": "ab34e8a8",
   "metadata": {},
   "outputs": [],
   "source": [
    "tablesetting_data = data[:186]\n",
    "tablesetting_data.reset_index(inplace=True)"
   ]
  },
  {
   "cell_type": "code",
   "execution_count": null,
   "id": "6e0b9598",
   "metadata": {},
   "outputs": [],
   "source": [
    "distances_dict = processing.generate_distances_dict(data, use_string_for_seq=False,\n",
    "                                                   dimensions=[[2, 'xy']])"
   ]
  },
  {
   "cell_type": "code",
   "execution_count": null,
   "id": "3a81064c",
   "metadata": {},
   "outputs": [],
   "source": [
    "results_sum = processing.calculate_prediction_error(tablesetting_data, distances_dict, error_function='prequential', n=100, dimensions=[[2, 'xy']])"
   ]
  },
  {
   "cell_type": "code",
   "execution_count": null,
   "id": "cbab82d0",
   "metadata": {},
   "outputs": [],
   "source": [
    "lowest_mean, lowest_mean_idx, lowest_median, results_median = processing.get_lowest_error(results_sum)"
   ]
  },
  {
   "cell_type": "code",
   "execution_count": null,
   "id": "d503211f",
   "metadata": {},
   "outputs": [],
   "source": [
    "lowest_mean_idx"
   ]
  },
  {
   "cell_type": "markdown",
   "id": "4c351fa8",
   "metadata": {},
   "source": [
    "### test on kit cleaning data"
   ]
  },
  {
   "cell_type": "code",
   "execution_count": null,
   "id": "81fd569e",
   "metadata": {},
   "outputs": [],
   "source": [
    "results = pd.DataFrame()\n",
    "\n",
    "for row in range(0, len(data)):\n",
    "        use_string_for_seq = False\n",
    "        coordinates = {key: ast.literal_eval(value) for key, value in\n",
    "                       (elem.split(': ') for elem in data.at[row, 'coordinates'].split(';'))}\n",
    "\n",
    "        start_coordinates = list(ast.literal_eval(data.at[row, 'start_coordinates']))\n",
    "        ID = str(data.at[row,'ID'])\n",
    "        \n",
    "        if use_string_for_seq == True:\n",
    "            seq = str(data.at[row, 'sequence'])\n",
    "            objects = list(data.at[row, 'sequence'])\n",
    "        else:\n",
    "            seq = [elem for elem in data.at[row, 'sequence'].split(',')]\n",
    "            objects = [elem for elem in data.at[row, 'sequence'].split(',')]\n",
    "\n",
    "        # get list of objects that have relational dependencies, if any (else set to empty list)\n",
    "        try:\n",
    "            strong_k = list(data.at[row, 'strong_k'].split(','))\n",
    "        except AttributeError:\n",
    "            strong_k = []\n",
    "\n",
    "        try:\n",
    "            mid_k = list(data.at[row, 'mid_k'].split(','))\n",
    "        except AttributeError:\n",
    "            mid_k = []\n",
    "\n",
    "        try:\n",
    "            food_k = list(data.at[row, 'food_k'].split(','))\n",
    "        except AttributeError:\n",
    "            food_k = []\n",
    "            \n",
    "        k1 = {obj: 1.7 if obj in food_k else 0.2 if obj in strong_k \\\n",
    "              else 0.3 if obj in mid_k else 1.0 for obj in objects}\n",
    "        try:\n",
    "            c1 = {obj: 1.8 if obj in data.at[row, 'containment'] else 1.0 for obj in objects}\n",
    "        except:\n",
    "            c1 = {obj: 1.0 for obj in objects}\n",
    "            \n",
    "        dim = [2, 'xy']\n",
    "        \n",
    "        median = processing.get_median_error('prequential', \n",
    "                                             row, ID, objects, coordinates, start_coordinates,\n",
    "                                             c1, k1, dim, seq, distances_dict_kit, n=100)\n",
    "        \n",
    "        results.at[row, 'median'] = median\n",
    "        results.at[row, 'median_normalized'] = median / len(seq)\n",
    "        results.at[row, 'ID'] = ID"
   ]
  },
  {
   "cell_type": "code",
   "execution_count": null,
   "id": "769666de",
   "metadata": {},
   "outputs": [],
   "source": [
    "results"
   ]
  },
  {
   "cell_type": "code",
   "execution_count": null,
   "id": "718facea",
   "metadata": {},
   "outputs": [],
   "source": [
    "np.median(results['median'])"
   ]
  },
  {
   "cell_type": "code",
   "execution_count": null,
   "id": "5a4b5c55",
   "metadata": {},
   "outputs": [],
   "source": [
    "results.to_csv('results/results_cleaning_2D_n100_fitted_to_ts_2023-01-20.csv', header=True, index=False)"
   ]
  },
  {
   "cell_type": "code",
   "execution_count": null,
   "id": "ea73dfef",
   "metadata": {},
   "outputs": [],
   "source": []
  },
  {
   "cell_type": "code",
   "execution_count": null,
   "id": "cc1babb9",
   "metadata": {},
   "outputs": [],
   "source": []
  },
  {
   "cell_type": "code",
   "execution_count": null,
   "id": "e8ccea7b",
   "metadata": {},
   "outputs": [],
   "source": []
  }
 ],
 "metadata": {
  "kernelspec": {
   "display_name": "Python 3 (ipykernel)",
   "language": "python",
   "name": "python3"
  },
  "language_info": {
   "codemirror_mode": {
    "name": "ipython",
    "version": 3
   },
   "file_extension": ".py",
   "mimetype": "text/x-python",
   "name": "python",
   "nbconvert_exporter": "python",
   "pygments_lexer": "ipython3",
   "version": "3.9.16"
  }
 },
 "nbformat": 4,
 "nbformat_minor": 5
}
