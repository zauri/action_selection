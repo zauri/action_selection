{
 "cells": [
  {
   "cell_type": "code",
   "execution_count": 1,
   "id": "8a77aa3b",
   "metadata": {},
   "outputs": [],
   "source": [
    "import pandas as pd"
   ]
  },
  {
   "cell_type": "code",
   "execution_count": 2,
   "id": "88273c06",
   "metadata": {},
   "outputs": [],
   "source": [
    "df = pd.read_csv('all_task_environments_list_2022-04-01.csv', header=0)"
   ]
  },
  {
   "cell_type": "code",
   "execution_count": null,
   "id": "1d09c732",
   "metadata": {},
   "outputs": [],
   "source": []
  },
  {
   "cell_type": "code",
   "execution_count": 9,
   "id": "988be288",
   "metadata": {},
   "outputs": [],
   "source": [
    "items = df['sequence']"
   ]
  },
  {
   "cell_type": "code",
   "execution_count": 14,
   "id": "361ab0e6",
   "metadata": {},
   "outputs": [],
   "source": [
    "items = set([item for lst in items for item in lst.split(',')])"
   ]
  },
  {
   "cell_type": "code",
   "execution_count": 15,
   "id": "d1714b77",
   "metadata": {
    "scrolled": true
   },
   "outputs": [
    {
     "data": {
      "text/plain": [
       "{'apricots',\n",
       " 'avocado',\n",
       " 'bananas',\n",
       " 'beans',\n",
       " 'beer',\n",
       " 'blueberries',\n",
       " 'bottle',\n",
       " 'bowl',\n",
       " 'bowl2',\n",
       " 'bread',\n",
       " 'broccoli',\n",
       " 'butter',\n",
       " 'can',\n",
       " 'carrot',\n",
       " 'carrots',\n",
       " 'cauliflower',\n",
       " 'cereal',\n",
       " 'cheese',\n",
       " 'chef_knife',\n",
       " 'chilli',\n",
       " 'colander',\n",
       " 'container',\n",
       " 'cucumber',\n",
       " 'cup',\n",
       " 'cutting_board',\n",
       " 'drink',\n",
       " 'egg',\n",
       " 'egg_cup',\n",
       " 'fig',\n",
       " 'figs',\n",
       " 'flat_grater',\n",
       " 'flour',\n",
       " 'food',\n",
       " 'fork',\n",
       " 'fork_small',\n",
       " 'garlic',\n",
       " 'garlic_press',\n",
       " 'ginger',\n",
       " 'glass',\n",
       " 'grapes',\n",
       " 'herbs',\n",
       " 'jar',\n",
       " 'ketchup',\n",
       " 'kiwi',\n",
       " 'knife',\n",
       " 'ladle',\n",
       " 'leek',\n",
       " 'lemon_juice_container',\n",
       " 'lid',\n",
       " 'lime',\n",
       " 'mango',\n",
       " 'measuring_pitcher',\n",
       " 'milk',\n",
       " 'mug',\n",
       " 'napkin',\n",
       " 'oil',\n",
       " 'onion',\n",
       " 'orange',\n",
       " 'oranges',\n",
       " 'pan',\n",
       " 'paper_bag',\n",
       " 'peeler',\n",
       " 'pepper',\n",
       " 'pineapple',\n",
       " 'placemat',\n",
       " 'plastic_box',\n",
       " 'plate',\n",
       " 'plate2',\n",
       " 'plate_small',\n",
       " 'plum',\n",
       " 'pomegranate',\n",
       " 'pot',\n",
       " 'pot2',\n",
       " 'potato',\n",
       " 'salad',\n",
       " 'salt',\n",
       " 'silverware',\n",
       " 'spatula',\n",
       " 'spice',\n",
       " 'spice_shaker',\n",
       " 'spoon',\n",
       " 'spoon_small',\n",
       " 'squeezer',\n",
       " 'sugar',\n",
       " 'table_cloth',\n",
       " 'teaspoon',\n",
       " 'tomato_plate',\n",
       " 'tray',\n",
       " 'tupperware',\n",
       " 'water',\n",
       " 'wineglass',\n",
       " 'wire_whisk',\n",
       " 'yoghurt'}"
      ]
     },
     "execution_count": 15,
     "metadata": {},
     "output_type": "execute_result"
    }
   ],
   "source": [
    "items"
   ]
  },
  {
   "cell_type": "code",
   "execution_count": 16,
   "id": "9ba28499",
   "metadata": {},
   "outputs": [],
   "source": [
    "food_items = ['apricots', 'avocado', 'bananas', 'beans', 'blueberries', 'bread',\n",
    "             'broccoli', 'butter', 'carrot', 'carrots', 'cauliflower', 'cereal',\n",
    "             'cheese', 'chilli', 'cucumber', 'egg', 'fig', 'figs', 'flour', 'garlic',\n",
    "             'ginger', 'grapes', 'kiwi', 'leek', 'mango', 'onion', 'orange', 'oranges',\n",
    "             'pepper', 'pineapple', 'plum', 'pomegranate', 'potato', 'salad', 'tomato_plate',\n",
    "             'yoghurt', 'jar']"
   ]
  },
  {
   "cell_type": "code",
   "execution_count": 17,
   "id": "57c36610",
   "metadata": {},
   "outputs": [],
   "source": [
    "seasoning = ['herbs', 'lemon_juice_container', 'lime', 'ketchup', 'salt', 'spice',\n",
    "            'spice_shaker', 'sugar']"
   ]
  },
  {
   "cell_type": "code",
   "execution_count": 18,
   "id": "14a16c62",
   "metadata": {},
   "outputs": [],
   "source": [
    "drink_items = ['beer', 'can', 'drink', 'milk', 'water']"
   ]
  },
  {
   "cell_type": "code",
   "execution_count": 19,
   "id": "877eecbc",
   "metadata": {},
   "outputs": [],
   "source": [
    "kitchen_utensils = ['flat_grater', 'garlic_press', 'ladle', 'measuring_pitcher', 'peeler',\n",
    "                   'spatula', 'squeezer', 'whire_wisk']"
   ]
  },
  {
   "cell_type": "code",
   "execution_count": 20,
   "id": "dd0944c5",
   "metadata": {},
   "outputs": [],
   "source": [
    "containers = ['container', 'paper_bag', 'plastic_box', 'tupperware']"
   ]
  },
  {
   "cell_type": "code",
   "execution_count": null,
   "id": "9b0e73a5",
   "metadata": {},
   "outputs": [],
   "source": []
  }
 ],
 "metadata": {
  "kernelspec": {
   "display_name": "Python 3 (ipykernel)",
   "language": "python",
   "name": "python3"
  },
  "language_info": {
   "codemirror_mode": {
    "name": "ipython",
    "version": 3
   },
   "file_extension": ".py",
   "mimetype": "text/x-python",
   "name": "python",
   "nbconvert_exporter": "python",
   "pygments_lexer": "ipython3",
   "version": "3.7.7"
  }
 },
 "nbformat": 4,
 "nbformat_minor": 5
}
