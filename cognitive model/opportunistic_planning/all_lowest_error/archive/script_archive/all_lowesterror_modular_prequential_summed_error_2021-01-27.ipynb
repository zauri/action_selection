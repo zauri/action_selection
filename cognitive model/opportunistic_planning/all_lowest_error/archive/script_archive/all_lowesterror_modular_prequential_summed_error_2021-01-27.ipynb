{
 "cells": [
  {
   "cell_type": "code",
   "execution_count": 111,
   "metadata": {},
   "outputs": [],
   "source": [
    "import pandas as pd\n",
    "import numpy as np\n",
    "import matplotlib\n",
    "import matplotlib.pyplot as plt\n",
    "import ast\n",
    "\n",
    "from fastDamerauLevenshtein import damerauLevenshtein\n",
    "from opportunistic_planning import data, sequence\n",
    "from imp import reload\n",
    "from scipy.stats import friedmanchisquare, wilcoxon\n",
    "reload(data)\n",
    "reload(sequence)\n",
    "pd.set_option('display.max_rows', 500)"
   ]
  },
  {
   "cell_type": "code",
   "execution_count": null,
   "metadata": {},
   "outputs": [],
   "source": []
  },
  {
   "cell_type": "code",
   "execution_count": 40,
   "metadata": {},
   "outputs": [],
   "source": [
    "# read data\n",
    "\n",
    "df = pd.read_csv('all_task_environments_2021-01-26.csv', header=0)"
   ]
  },
  {
   "cell_type": "code",
   "execution_count": 44,
   "metadata": {},
   "outputs": [
    {
     "name": "stdout",
     "output_type": "stream",
     "text": [
      "CPU times: user 973 ms, sys: 12.1 ms, total: 985 ms\n",
      "Wall time: 963 ms\n"
     ]
    }
   ],
   "source": [
    "# dict generation ~1 sec\n",
    "\n",
    "%time distances_dict = data.generate_distances_dict(df)"
   ]
  },
  {
   "cell_type": "code",
   "execution_count": 88,
   "metadata": {},
   "outputs": [
    {
     "name": "stderr",
     "output_type": "stream",
     "text": [
      "/home/zauri/files/anaconda3/lib/python3.7/site-packages/numpy/core/fromnumeric.py:3335: RuntimeWarning: Mean of empty slice.\n",
      "  out=out, **kwargs)\n",
      "/home/zauri/files/anaconda3/lib/python3.7/site-packages/numpy/core/_methods.py:161: RuntimeWarning: invalid value encountered in double_scalars\n",
      "  ret = ret.dtype.type(ret / rcount)\n"
     ]
    },
    {
     "name": "stdout",
     "output_type": "stream",
     "text": [
      "CPU times: user 1h 34min 24s, sys: 3.82 s, total: 1h 34min 27s\n",
      "Wall time: 1h 34min 27s\n"
     ]
    }
   ],
   "source": [
    "# n=1: ~4min\n",
    "# n=10: ~15min\n",
    "# n=50: ~1h\n",
    "# n=100: 2h 4min\n",
    "%time results_new, results_sum = data.calculate_edit_distances_prequential(df, distances_dict=distances_dict, n=50)"
   ]
  },
  {
   "cell_type": "code",
   "execution_count": 89,
   "metadata": {},
   "outputs": [
    {
     "data": {
      "text/html": [
       "<div>\n",
       "<style scoped>\n",
       "    .dataframe tbody tr th:only-of-type {\n",
       "        vertical-align: middle;\n",
       "    }\n",
       "\n",
       "    .dataframe tbody tr th {\n",
       "        vertical-align: top;\n",
       "    }\n",
       "\n",
       "    .dataframe thead th {\n",
       "        text-align: right;\n",
       "    }\n",
       "</style>\n",
       "<table border=\"1\" class=\"dataframe\">\n",
       "  <thead>\n",
       "    <tr style=\"text-align: right;\">\n",
       "      <th></th>\n",
       "      <th>c: 1.0; k: 0.0,0.1,1.1; x</th>\n",
       "      <th>c: 1.0; k: 0.0,0.1,1.1; y</th>\n",
       "      <th>c: 1.0; k: 0.0,0.1,1.1; z</th>\n",
       "      <th>c: 1.0; k: 0.0,0.1,1.1; xy</th>\n",
       "      <th>c: 1.0; k: 0.0,0.1,1.1; xz</th>\n",
       "      <th>c: 1.0; k: 0.0,0.1,1.1; yz</th>\n",
       "      <th>c: 1.0; k: 0.0,0.1,1.1; xyz</th>\n",
       "      <th>c: 1.1; k: 0.0,0.1,1.1; x</th>\n",
       "      <th>c: 1.1; k: 0.0,0.1,1.1; y</th>\n",
       "      <th>c: 1.1; k: 0.0,0.1,1.1; z</th>\n",
       "      <th>...</th>\n",
       "      <th>c: 1.9; k: 0.8,0.9,1.9; x</th>\n",
       "      <th>c: 1.9; k: 0.8,0.9,1.9; y</th>\n",
       "      <th>c: 1.9; k: 0.8,0.9,1.9; z</th>\n",
       "      <th>c: 1.9; k: 0.8,0.9,1.9; xy</th>\n",
       "      <th>c: 1.9; k: 0.8,0.9,1.9; xz</th>\n",
       "      <th>c: 1.9; k: 0.8,0.9,1.9; yz</th>\n",
       "      <th>c: 1.9; k: 0.8,0.9,1.9; xyz</th>\n",
       "      <th>sequence</th>\n",
       "      <th>error</th>\n",
       "      <th>ID</th>\n",
       "    </tr>\n",
       "  </thead>\n",
       "  <tbody>\n",
       "    <tr>\n",
       "      <th>0</th>\n",
       "      <td>0.291667</td>\n",
       "      <td>0.125000</td>\n",
       "      <td>0.291667</td>\n",
       "      <td>0.125000</td>\n",
       "      <td>0.291667</td>\n",
       "      <td>0.125000</td>\n",
       "      <td>0.125000</td>\n",
       "      <td>0.291667</td>\n",
       "      <td>0.125000</td>\n",
       "      <td>0.291667</td>\n",
       "      <td>...</td>\n",
       "      <td>0.291667</td>\n",
       "      <td>0.291667</td>\n",
       "      <td>0.291667</td>\n",
       "      <td>0.291667</td>\n",
       "      <td>0.291667</td>\n",
       "      <td>0.291667</td>\n",
       "      <td>0.291667</td>\n",
       "      <td>pocgkr</td>\n",
       "      <td>0.723</td>\n",
       "      <td>a1</td>\n",
       "    </tr>\n",
       "    <tr>\n",
       "      <th>1</th>\n",
       "      <td>0.225000</td>\n",
       "      <td>0.183333</td>\n",
       "      <td>0.225000</td>\n",
       "      <td>0.183333</td>\n",
       "      <td>0.225000</td>\n",
       "      <td>0.183333</td>\n",
       "      <td>0.183333</td>\n",
       "      <td>0.225000</td>\n",
       "      <td>0.183333</td>\n",
       "      <td>0.225000</td>\n",
       "      <td>...</td>\n",
       "      <td>0.225000</td>\n",
       "      <td>0.225000</td>\n",
       "      <td>0.100000</td>\n",
       "      <td>0.225000</td>\n",
       "      <td>0.225000</td>\n",
       "      <td>0.225000</td>\n",
       "      <td>0.225000</td>\n",
       "      <td>cgwpcfks</td>\n",
       "      <td>0.785</td>\n",
       "      <td>a3</td>\n",
       "    </tr>\n",
       "    <tr>\n",
       "      <th>2</th>\n",
       "      <td>0.142857</td>\n",
       "      <td>0.200000</td>\n",
       "      <td>0.000000</td>\n",
       "      <td>0.200000</td>\n",
       "      <td>0.142857</td>\n",
       "      <td>0.200000</td>\n",
       "      <td>0.200000</td>\n",
       "      <td>0.142857</td>\n",
       "      <td>0.200000</td>\n",
       "      <td>0.000000</td>\n",
       "      <td>...</td>\n",
       "      <td>0.000000</td>\n",
       "      <td>0.125000</td>\n",
       "      <td>0.200000</td>\n",
       "      <td>0.000000</td>\n",
       "      <td>0.000000</td>\n",
       "      <td>0.125000</td>\n",
       "      <td>0.000000</td>\n",
       "      <td>kfsfkspwg</td>\n",
       "      <td>0.806</td>\n",
       "      <td>a5</td>\n",
       "    </tr>\n",
       "    <tr>\n",
       "      <th>3</th>\n",
       "      <td>0.100000</td>\n",
       "      <td>0.142857</td>\n",
       "      <td>0.100000</td>\n",
       "      <td>0.142857</td>\n",
       "      <td>0.100000</td>\n",
       "      <td>0.142857</td>\n",
       "      <td>0.142857</td>\n",
       "      <td>0.100000</td>\n",
       "      <td>0.142857</td>\n",
       "      <td>0.100000</td>\n",
       "      <td>...</td>\n",
       "      <td>0.100000</td>\n",
       "      <td>0.000000</td>\n",
       "      <td>0.100000</td>\n",
       "      <td>0.100000</td>\n",
       "      <td>0.100000</td>\n",
       "      <td>0.000000</td>\n",
       "      <td>0.100000</td>\n",
       "      <td>pfkswkfsococg</td>\n",
       "      <td>0.862</td>\n",
       "      <td>a11</td>\n",
       "    </tr>\n",
       "    <tr>\n",
       "      <th>4</th>\n",
       "      <td>0.200000</td>\n",
       "      <td>0.166667</td>\n",
       "      <td>0.200000</td>\n",
       "      <td>0.166667</td>\n",
       "      <td>0.200000</td>\n",
       "      <td>0.166667</td>\n",
       "      <td>0.166667</td>\n",
       "      <td>0.200000</td>\n",
       "      <td>0.166667</td>\n",
       "      <td>0.200000</td>\n",
       "      <td>...</td>\n",
       "      <td>0.200000</td>\n",
       "      <td>0.000000</td>\n",
       "      <td>0.000000</td>\n",
       "      <td>0.200000</td>\n",
       "      <td>0.200000</td>\n",
       "      <td>0.000000</td>\n",
       "      <td>0.200000</td>\n",
       "      <td>wptgkfsoc</td>\n",
       "      <td>0.806</td>\n",
       "      <td>a13</td>\n",
       "    </tr>\n",
       "    <tr>\n",
       "      <th>...</th>\n",
       "      <td>...</td>\n",
       "      <td>...</td>\n",
       "      <td>...</td>\n",
       "      <td>...</td>\n",
       "      <td>...</td>\n",
       "      <td>...</td>\n",
       "      <td>...</td>\n",
       "      <td>...</td>\n",
       "      <td>...</td>\n",
       "      <td>...</td>\n",
       "      <td>...</td>\n",
       "      <td>...</td>\n",
       "      <td>...</td>\n",
       "      <td>...</td>\n",
       "      <td>...</td>\n",
       "      <td>...</td>\n",
       "      <td>...</td>\n",
       "      <td>...</td>\n",
       "      <td>...</td>\n",
       "      <td>...</td>\n",
       "      <td>...</td>\n",
       "    </tr>\n",
       "    <tr>\n",
       "      <th>175</th>\n",
       "      <td>0.245833</td>\n",
       "      <td>0.225000</td>\n",
       "      <td>0.225000</td>\n",
       "      <td>0.225000</td>\n",
       "      <td>0.162500</td>\n",
       "      <td>0.225000</td>\n",
       "      <td>0.100000</td>\n",
       "      <td>0.225000</td>\n",
       "      <td>0.225000</td>\n",
       "      <td>0.125000</td>\n",
       "      <td>...</td>\n",
       "      <td>0.266667</td>\n",
       "      <td>0.225000</td>\n",
       "      <td>0.125000</td>\n",
       "      <td>0.225000</td>\n",
       "      <td>0.100000</td>\n",
       "      <td>0.225000</td>\n",
       "      <td>0.100000</td>\n",
       "      <td>hhsdbg</td>\n",
       "      <td>0.723</td>\n",
       "      <td>v8</td>\n",
       "    </tr>\n",
       "    <tr>\n",
       "      <th>176</th>\n",
       "      <td>0.166667</td>\n",
       "      <td>0.125000</td>\n",
       "      <td>0.125000</td>\n",
       "      <td>0.000000</td>\n",
       "      <td>0.125000</td>\n",
       "      <td>0.125000</td>\n",
       "      <td>0.000000</td>\n",
       "      <td>0.125000</td>\n",
       "      <td>0.125000</td>\n",
       "      <td>0.125000</td>\n",
       "      <td>...</td>\n",
       "      <td>0.125000</td>\n",
       "      <td>0.125000</td>\n",
       "      <td>0.125000</td>\n",
       "      <td>0.000000</td>\n",
       "      <td>0.125000</td>\n",
       "      <td>0.125000</td>\n",
       "      <td>0.125000</td>\n",
       "      <td>hhsdgb</td>\n",
       "      <td>0.723</td>\n",
       "      <td>v9</td>\n",
       "    </tr>\n",
       "    <tr>\n",
       "      <th>177</th>\n",
       "      <td>0.125000</td>\n",
       "      <td>0.100000</td>\n",
       "      <td>0.100000</td>\n",
       "      <td>0.000000</td>\n",
       "      <td>0.000000</td>\n",
       "      <td>0.100000</td>\n",
       "      <td>0.000000</td>\n",
       "      <td>0.125000</td>\n",
       "      <td>0.000000</td>\n",
       "      <td>0.100000</td>\n",
       "      <td>...</td>\n",
       "      <td>0.125000</td>\n",
       "      <td>0.000000</td>\n",
       "      <td>0.100000</td>\n",
       "      <td>0.000000</td>\n",
       "      <td>0.000000</td>\n",
       "      <td>0.100000</td>\n",
       "      <td>0.000000</td>\n",
       "      <td>hhsgdb</td>\n",
       "      <td>0.723</td>\n",
       "      <td>v10</td>\n",
       "    </tr>\n",
       "    <tr>\n",
       "      <th>178</th>\n",
       "      <td>0.166667</td>\n",
       "      <td>0.000000</td>\n",
       "      <td>0.100000</td>\n",
       "      <td>0.000000</td>\n",
       "      <td>0.000000</td>\n",
       "      <td>0.100000</td>\n",
       "      <td>0.000000</td>\n",
       "      <td>0.166667</td>\n",
       "      <td>0.100000</td>\n",
       "      <td>0.100000</td>\n",
       "      <td>...</td>\n",
       "      <td>0.166667</td>\n",
       "      <td>0.000000</td>\n",
       "      <td>0.100000</td>\n",
       "      <td>0.000000</td>\n",
       "      <td>0.000000</td>\n",
       "      <td>0.100000</td>\n",
       "      <td>0.000000</td>\n",
       "      <td>hhsgdb</td>\n",
       "      <td>0.723</td>\n",
       "      <td>v11</td>\n",
       "    </tr>\n",
       "    <tr>\n",
       "      <th>179</th>\n",
       "      <td>0.125000</td>\n",
       "      <td>0.125000</td>\n",
       "      <td>0.125000</td>\n",
       "      <td>0.125000</td>\n",
       "      <td>0.125000</td>\n",
       "      <td>0.125000</td>\n",
       "      <td>0.125000</td>\n",
       "      <td>0.125000</td>\n",
       "      <td>0.125000</td>\n",
       "      <td>0.125000</td>\n",
       "      <td>...</td>\n",
       "      <td>0.166667</td>\n",
       "      <td>0.125000</td>\n",
       "      <td>0.125000</td>\n",
       "      <td>0.125000</td>\n",
       "      <td>0.000000</td>\n",
       "      <td>0.125000</td>\n",
       "      <td>0.000000</td>\n",
       "      <td>hhsdgb</td>\n",
       "      <td>0.723</td>\n",
       "      <td>v12</td>\n",
       "    </tr>\n",
       "  </tbody>\n",
       "</table>\n",
       "<p>180 rows × 5673 columns</p>\n",
       "</div>"
      ],
      "text/plain": [
       "     c: 1.0; k: 0.0,0.1,1.1; x  c: 1.0; k: 0.0,0.1,1.1; y  \\\n",
       "0                     0.291667                   0.125000   \n",
       "1                     0.225000                   0.183333   \n",
       "2                     0.142857                   0.200000   \n",
       "3                     0.100000                   0.142857   \n",
       "4                     0.200000                   0.166667   \n",
       "..                         ...                        ...   \n",
       "175                   0.245833                   0.225000   \n",
       "176                   0.166667                   0.125000   \n",
       "177                   0.125000                   0.100000   \n",
       "178                   0.166667                   0.000000   \n",
       "179                   0.125000                   0.125000   \n",
       "\n",
       "     c: 1.0; k: 0.0,0.1,1.1; z  c: 1.0; k: 0.0,0.1,1.1; xy  \\\n",
       "0                     0.291667                    0.125000   \n",
       "1                     0.225000                    0.183333   \n",
       "2                     0.000000                    0.200000   \n",
       "3                     0.100000                    0.142857   \n",
       "4                     0.200000                    0.166667   \n",
       "..                         ...                         ...   \n",
       "175                   0.225000                    0.225000   \n",
       "176                   0.125000                    0.000000   \n",
       "177                   0.100000                    0.000000   \n",
       "178                   0.100000                    0.000000   \n",
       "179                   0.125000                    0.125000   \n",
       "\n",
       "     c: 1.0; k: 0.0,0.1,1.1; xz  c: 1.0; k: 0.0,0.1,1.1; yz  \\\n",
       "0                      0.291667                    0.125000   \n",
       "1                      0.225000                    0.183333   \n",
       "2                      0.142857                    0.200000   \n",
       "3                      0.100000                    0.142857   \n",
       "4                      0.200000                    0.166667   \n",
       "..                          ...                         ...   \n",
       "175                    0.162500                    0.225000   \n",
       "176                    0.125000                    0.125000   \n",
       "177                    0.000000                    0.100000   \n",
       "178                    0.000000                    0.100000   \n",
       "179                    0.125000                    0.125000   \n",
       "\n",
       "     c: 1.0; k: 0.0,0.1,1.1; xyz  c: 1.1; k: 0.0,0.1,1.1; x  \\\n",
       "0                       0.125000                   0.291667   \n",
       "1                       0.183333                   0.225000   \n",
       "2                       0.200000                   0.142857   \n",
       "3                       0.142857                   0.100000   \n",
       "4                       0.166667                   0.200000   \n",
       "..                           ...                        ...   \n",
       "175                     0.100000                   0.225000   \n",
       "176                     0.000000                   0.125000   \n",
       "177                     0.000000                   0.125000   \n",
       "178                     0.000000                   0.166667   \n",
       "179                     0.125000                   0.125000   \n",
       "\n",
       "     c: 1.1; k: 0.0,0.1,1.1; y  c: 1.1; k: 0.0,0.1,1.1; z  ...  \\\n",
       "0                     0.125000                   0.291667  ...   \n",
       "1                     0.183333                   0.225000  ...   \n",
       "2                     0.200000                   0.000000  ...   \n",
       "3                     0.142857                   0.100000  ...   \n",
       "4                     0.166667                   0.200000  ...   \n",
       "..                         ...                        ...  ...   \n",
       "175                   0.225000                   0.125000  ...   \n",
       "176                   0.125000                   0.125000  ...   \n",
       "177                   0.000000                   0.100000  ...   \n",
       "178                   0.100000                   0.100000  ...   \n",
       "179                   0.125000                   0.125000  ...   \n",
       "\n",
       "     c: 1.9; k: 0.8,0.9,1.9; x  c: 1.9; k: 0.8,0.9,1.9; y  \\\n",
       "0                     0.291667                   0.291667   \n",
       "1                     0.225000                   0.225000   \n",
       "2                     0.000000                   0.125000   \n",
       "3                     0.100000                   0.000000   \n",
       "4                     0.200000                   0.000000   \n",
       "..                         ...                        ...   \n",
       "175                   0.266667                   0.225000   \n",
       "176                   0.125000                   0.125000   \n",
       "177                   0.125000                   0.000000   \n",
       "178                   0.166667                   0.000000   \n",
       "179                   0.166667                   0.125000   \n",
       "\n",
       "     c: 1.9; k: 0.8,0.9,1.9; z  c: 1.9; k: 0.8,0.9,1.9; xy  \\\n",
       "0                     0.291667                    0.291667   \n",
       "1                     0.100000                    0.225000   \n",
       "2                     0.200000                    0.000000   \n",
       "3                     0.100000                    0.100000   \n",
       "4                     0.000000                    0.200000   \n",
       "..                         ...                         ...   \n",
       "175                   0.125000                    0.225000   \n",
       "176                   0.125000                    0.000000   \n",
       "177                   0.100000                    0.000000   \n",
       "178                   0.100000                    0.000000   \n",
       "179                   0.125000                    0.125000   \n",
       "\n",
       "     c: 1.9; k: 0.8,0.9,1.9; xz  c: 1.9; k: 0.8,0.9,1.9; yz  \\\n",
       "0                      0.291667                    0.291667   \n",
       "1                      0.225000                    0.225000   \n",
       "2                      0.000000                    0.125000   \n",
       "3                      0.100000                    0.000000   \n",
       "4                      0.200000                    0.000000   \n",
       "..                          ...                         ...   \n",
       "175                    0.100000                    0.225000   \n",
       "176                    0.125000                    0.125000   \n",
       "177                    0.000000                    0.100000   \n",
       "178                    0.000000                    0.100000   \n",
       "179                    0.000000                    0.125000   \n",
       "\n",
       "     c: 1.9; k: 0.8,0.9,1.9; xyz       sequence  error   ID  \n",
       "0                       0.291667         pocgkr  0.723   a1  \n",
       "1                       0.225000       cgwpcfks  0.785   a3  \n",
       "2                       0.000000      kfsfkspwg  0.806   a5  \n",
       "3                       0.100000  pfkswkfsococg  0.862  a11  \n",
       "4                       0.200000      wptgkfsoc  0.806  a13  \n",
       "..                           ...            ...    ...  ...  \n",
       "175                     0.100000         hhsdbg  0.723   v8  \n",
       "176                     0.125000         hhsdgb  0.723   v9  \n",
       "177                     0.000000         hhsgdb  0.723  v10  \n",
       "178                     0.000000         hhsgdb  0.723  v11  \n",
       "179                     0.000000         hhsdgb  0.723  v12  \n",
       "\n",
       "[180 rows x 5673 columns]"
      ]
     },
     "execution_count": 89,
     "metadata": {},
     "output_type": "execute_result"
    }
   ],
   "source": [
    "results_new"
   ]
  },
  {
   "cell_type": "code",
   "execution_count": null,
   "metadata": {},
   "outputs": [],
   "source": []
  },
  {
   "cell_type": "code",
   "execution_count": 103,
   "metadata": {},
   "outputs": [],
   "source": [
    "#results_new.T.to_csv('results/results_all_n50_2021-01-27.csv', header=True, index=True)"
   ]
  },
  {
   "cell_type": "code",
   "execution_count": 47,
   "metadata": {},
   "outputs": [
    {
     "data": {
      "text/plain": [
       "(0.9511580348663674,\n",
       " Index(['c: 1.0; k: 0.3,0.4,1.8; xyz'], dtype='object'),\n",
       " 0.9499999999999998)"
      ]
     },
     "execution_count": 47,
     "metadata": {},
     "output_type": "execute_result"
    }
   ],
   "source": [
    "lowest_sum, lowest_idx_sum, lowest_median_sum, list_mean_sum, results_mean_sum = data.get_lowest_error(results_sum)\n",
    "lowest_sum, lowest_idx_sum, lowest_median_sum"
   ]
  },
  {
   "cell_type": "code",
   "execution_count": 90,
   "metadata": {},
   "outputs": [
    {
     "data": {
      "text/plain": [
       "(0.13038085509995637,\n",
       " Index(['c: 1.2; k: 0.1,0.2,1.7; xyz'], dtype='object'),\n",
       " 0.125)"
      ]
     },
     "execution_count": 90,
     "metadata": {},
     "output_type": "execute_result"
    }
   ],
   "source": [
    "lowest, lowest_idx, lowest_median, list_mean, results_mean = data.get_lowest_error(results_new)\n",
    "lowest, lowest_idx, lowest_median"
   ]
  },
  {
   "cell_type": "code",
   "execution_count": 91,
   "metadata": {},
   "outputs": [
    {
     "data": {
      "text/plain": [
       "'c: 1.2; k: 0.1,0.2,1.7; xyz'"
      ]
     },
     "execution_count": 91,
     "metadata": {},
     "output_type": "execute_result"
    }
   ],
   "source": [
    "lowest_idx[0]"
   ]
  },
  {
   "cell_type": "code",
   "execution_count": 84,
   "metadata": {},
   "outputs": [],
   "source": [
    "def get_list_sorted(results):\n",
    "    \n",
    "    for col in list(results):\n",
    "        if col != 'sequence' and col != 'error' and col != 'ID':\n",
    "            results.loc['mean', col] = results[col].mean()\n",
    "            results.loc['median', col] = results[col].median()\n",
    "    lowest = sorted(results.loc['mean'])\n",
    "    lowest_median = sorted(results.loc['median'])\n",
    "    \n",
    "    idx_list = []\n",
    "                \n",
    "    for i in lowest_median:\n",
    "        idx = results.columns[(results.loc['median'] == i)]\n",
    "        idx_list.append(idx)\n",
    "\n",
    "    return lowest, results.columns[(results.loc['mean'] == lowest[0])], lowest_median, idx_list"
   ]
  },
  {
   "cell_type": "code",
   "execution_count": 112,
   "metadata": {},
   "outputs": [
    {
     "data": {
      "text/plain": [
       "[(0.125,\n",
       "  Index(['c: 1.2; k: 0.0,0.1,1.1; xy', 'c: 1.3; k: 0.0,0.1,1.1; xy',\n",
       "         'c: 1.8; k: 0.0,0.1,1.1; xy', 'c: 1.1; k: 0.1,0.2,1.1; xyz',\n",
       "         'c: 1.0; k: 0.2,0.3,1.1; xy', 'c: 1.2; k: 0.2,0.3,1.1; xy',\n",
       "         'c: 1.3; k: 0.2,0.3,1.1; xyz', 'c: 1.6; k: 0.2,0.3,1.1; xy',\n",
       "         'c: 1.6; k: 0.2,0.3,1.1; xyz', 'c: 1.2; k: 0.3,0.4,1.1; xyz',\n",
       "         ...\n",
       "         'c: 1.9; k: 0.3,0.4,1.9; xy', 'c: 1.1; k: 0.4,0.5,1.9; xy',\n",
       "         'c: 1.2; k: 0.4,0.5,1.9; xy', 'c: 1.2; k: 0.4,0.5,1.9; xyz',\n",
       "         'c: 1.4; k: 0.4,0.5,1.9; xy', 'c: 1.5; k: 0.4,0.5,1.9; xy',\n",
       "         'c: 1.7; k: 0.4,0.5,1.9; xyz', 'c: 1.1; k: 0.5,0.6,1.9; xyz',\n",
       "         'c: 1.2; k: 0.5,0.6,1.9; xyz', 'c: 1.7; k: 0.5,0.6,1.9; xyz'],\n",
       "        dtype='object', length=249))]"
      ]
     },
     "execution_count": 112,
     "metadata": {},
     "output_type": "execute_result"
    }
   ],
   "source": [
    "low, idx, low_median, idx_list = get_list_sorted(results_new)\n",
    "[(val, i) for val, i in zip(low_median[:1],idx_list[:1])]"
   ]
  },
  {
   "cell_type": "markdown",
   "metadata": {},
   "source": [
    "### Plot dimensions"
   ]
  },
  {
   "cell_type": "code",
   "execution_count": 100,
   "metadata": {},
   "outputs": [],
   "source": [
    "# Define input for plots\n",
    "\n",
    "c = [float(x[3:6]) for x in results_new.columns.tolist() if x != 'sequence' and x != 'ID' and x != 'error']\n",
    "k = [float(x[11:14]) for x in results_new.columns.tolist() if x != 'sequence' and x != 'ID' and x != 'error']\n",
    "dim = [x.strip() for x in results_new.columns[:-3].str.split(';').str[2]]\n",
    "median_dims = [x for x in results_mean.loc['mean'].tolist() if pd.notnull(x)]"
   ]
  },
  {
   "cell_type": "code",
   "execution_count": 101,
   "metadata": {},
   "outputs": [
    {
     "name": "stderr",
     "output_type": "stream",
     "text": [
      "/home/zauri/files/anaconda3/lib/python3.7/site-packages/ipykernel_launcher.py:38: UserWarning: FixedFormatter should only be used together with FixedLocator\n"
     ]
    }
   ],
   "source": [
    "%matplotlib qt\n",
    "\n",
    "#cm = ['red','blue','green','magenta','cyan','orange','grey']\n",
    "cm = ['#e74c3c', '#0064a3', '#70b85d', '#287d78', '#54d0ff', '#f1e664', '#fd8f00']\n",
    "dim_num = [0 if x=='x' else 1 if x=='y' else 2 if x=='z' else 3 if x=='xy' else 4 if x=='xz' else 5 if x=='yz' else 6 for x in dim]\n",
    "\n",
    "cmap = matplotlib.colors.ListedColormap(cm)\n",
    "\n",
    "ticks = ['x', 'y', 'z', 'xy', 'xz', 'yz', 'xyz']\n",
    "norm = matplotlib.colors.BoundaryNorm(ticks, cmap.N)\n",
    "\n",
    "# create figure, 3d grid, set background to white\n",
    "fig2 = plt.figure(figsize=(12,8))\n",
    "ax2 = fig2.add_subplot(111, projection='3d')\n",
    "ax2.w_xaxis.set_pane_color((1.0,1.0,1.0,1.0))\n",
    "ax2.w_yaxis.set_pane_color((1.0,1.0,1.0,1.0))\n",
    "ax2.w_zaxis.set_pane_color((1.0,1.0,1.0,1.0))\n",
    "\n",
    "# create plot w/ median edit distance\n",
    "img = ax2.scatter(c, k, median_dims, alpha=0.5, s=38, c=dim_num, cmap=cmap)\n",
    "\n",
    "# plot horizontal plane for baseline\n",
    "xx, yy = np.meshgrid(np.linspace(1,1.9), np.linspace(0,0.9))\n",
    "#yy = np.meshgrid(range(2), range(2))\n",
    "zz = xx * 0 + np.mean(rnn)\n",
    "ax2.plot_surface(xx, yy, zz, alpha=0.5)\n",
    "\n",
    "# set labels\n",
    "ax2.set_ylabel('parameter k', fontsize=20, labelpad=10)\n",
    "ax2.set_xlabel('parameter c', fontsize=20, labelpad=10)\n",
    "ax2.set_zlabel('normalized edit distance', fontsize=20, labelpad=7)\n",
    "#plt.title('Average edit distance (1 step)', fontsize=24)\n",
    "\n",
    "# create colorbar\n",
    "cb = plt.colorbar(img, cax = fig2.add_axes([0.82,0.3,0.03,0.4]))\n",
    "cb.set_alpha(0.8)\n",
    "cb.draw_all()\n",
    "cb.ax.set_yticklabels(ticks, fontsize=16)\n",
    "plt.show()\n",
    "\n",
    "#plt.gca().xaxis.set_major_locator(plt.NullLocator())\n",
    "#plt.gca().yaxis.set_major_locator(plt.NullLocator())\n",
    "#plt.savefig('figures/test.svg', format='svg', bbox_inches='tight', pad_inches = 0)"
   ]
  },
  {
   "cell_type": "code",
   "execution_count": 51,
   "metadata": {},
   "outputs": [],
   "source": [
    "cpt = [0.25, 0.16666666666666663, 0.13392857142857145, 0.10555555555555557, 0.15476190476190477, 0.26666666666666666, 0.25, 0.22499999999999998, 0.125, 0.1833333333333333, 0.1428571428571429, 0.1428571428571429, 0.11805555555555558, 0.25, 0.25, 0.25, 0.15476190476190477, 0.25, 0.11111111111111116, 0.09545454545454546, 0.13392857142857145, 0.19999999999999996, 0.11249999999999999, 0.09545454545454546, 0.19999999999999996, 0.16666666666666663, 0.11111111111111116, 0.1833333333333333, 0.22499999999999998, 0.26666666666666666, 0.1428571428571429, 0.10555555555555557, 0.14583333333333331, 0.16666666666666663, 0.22499999999999998, 0.1428571428571429, 0.14583333333333331, 0.19999999999999996, 0.14583333333333331, 0.25, 0.16666666666666663, 0.2916666666666667, 0.1428571428571429, 0.20833333333333331, 0.16666666666666663, 0.25, 0.26666666666666666, 0.15476190476190477, 0.19999999999999996, 0.16666666666666663, 0.25, 0.22499999999999998, 0.10555555555555557, 0.22499999999999998, 0.19999999999999996, 0.14583333333333331, 0.1833333333333333, 0.22499999999999998, 0.1428571428571429, 0.2916666666666667, 0.33333333333333337, 0.13392857142857145, 0.5, 0.22499999999999998, 0.19999999999999996, 0.26666666666666666, 0.10555555555555557, 0.13392857142857145, 0.19999999999999996, 0.15476190476190477, 0.19999999999999996, 0.25, 0.1428571428571429, 0.16666666666666663, 0.14583333333333331, 0.13392857142857145, 0.13392857142857145, 0.22499999999999998, 0.12698412698412703, 0.16666666666666663, 0.2916666666666667, 0.2916666666666667, 0.2916666666666667, 0.2916666666666667, 0.4166666666666667, 0.2916666666666667, 0.33333333333333337, 0.25, 0.4166666666666667, 0.4166666666666667, 0.2916666666666667, 0.25, 0.33333333333333337, 0.1833333333333333, 0.25, 0.1428571428571429, 0.2916666666666667, 0.5, 0.19999999999999996, 0.2916666666666667, 0.16666666666666663, 0.16666666666666663, 0.19999999999999996, 0.16666666666666663, 0.16666666666666663, 0.16666666666666663, 0.16666666666666663, 0.16666666666666663, 0.16666666666666663, 0.16666666666666663, 0.16666666666666663, 0.16666666666666663, 0.16666666666666663, 0.16666666666666663, 0.19999999999999996, 0.16666666666666663, 0.16666666666666663, 0.19999999999999996, 0.16666666666666663, 0.19999999999999996, 0.19999999999999996, 0.16666666666666663, 0.16666666666666663, 0.16666666666666663, 0.16666666666666663, 0.16666666666666663, 0.16666666666666663, 0.16666666666666663, 0.16666666666666663, 0.16666666666666663, 0.16666666666666663, 0.19999999999999996, 0.19999999999999996, 0.19999999999999996, 0.16666666666666663, 0.19999999999999996, 0.16666666666666663, 0.16666666666666663, 0.16666666666666663, 0.19999999999999996, 0.16666666666666663, 0.19999999999999996, 0.19999999999999996, 0.16666666666666663, 0.19999999999999996, 0.16666666666666663, 0.16666666666666663, 0.16666666666666663, 0.19999999999999996, 0.16666666666666663, 0.16666666666666663, 0.16666666666666663, 0.16666666666666663, 0.16666666666666663, 0.16666666666666663, 0.16666666666666663, 0.16666666666666663, 0.16666666666666663, 0.16666666666666663, 0.16666666666666663, 0.16666666666666663, 0.16666666666666663, 0.16666666666666663, 0.16666666666666663, 0.16666666666666663, 0.16666666666666663, 0.16666666666666663, 0.16666666666666663, 0.22499999999999998, 0.20833333333333331, 0.19999999999999996, 0.19999999999999996, 0.19999999999999996, 0.19999999999999996, 0.19999999999999996, 0.19999999999999996, 0.19999999999999996, 0.19999999999999996, 0.19999999999999996, 0.19999999999999996]"
   ]
  },
  {
   "cell_type": "code",
   "execution_count": 52,
   "metadata": {},
   "outputs": [],
   "source": [
    "rnn = [0.19999999999999996, 0.16666666666666663, 0.13392857142857145, 0.10101010101010105, 0.13392857142857145, 0.09999999999999998, 0.0, 0.125, 0.125, 0.11805555555555558, 0.09999999999999998, 0.1428571428571429, 0.09545454545454546, 0.19999999999999996, 0.25, 0.19999999999999996, 0.10101010101010105, 0.0, 0.09999999999999998, 0.08712121212121215, 0.11805555555555558, 0.19999999999999996, 0.08712121212121215, 0.0839160839160839, 0.1428571428571429, 0.16666666666666663, 0.0, 0.15476190476190477, 0.22499999999999998, 0.09999999999999998, 0.1428571428571429, 0.10555555555555557, 0.15476190476190477, 0.16666666666666663, 0.09999999999999998, 0.125, 0.12698412698412703, 0.16666666666666663, 0.10555555555555557, 0.0, 0.25, 0.2916666666666667, 0.125, 0.20833333333333331, 0.11111111111111116, 0.33333333333333337, 0.26666666666666666, 0.13392857142857145, 0.16666666666666663, 0.16666666666666663, 0.19999999999999996, 0.26666666666666666, 0.10101010101010105, 0.0, 0.16666666666666663, 0.1388888888888889, 0.0, 0.15476190476190477, 0.09999999999999998, 0.2916666666666667, 0.33333333333333337, 0.08012820512820512, 0.5, 0.22499999999999998, 0.0, 0.22499999999999998, 0.08712121212121215, 0.11805555555555558, 0.1428571428571429, 0.1833333333333333, 0.125, 0.33333333333333337, 0.125, 0.1428571428571429, 0.11805555555555558, 0.08012820512820512, 0.13392857142857145, 0.22499999999999998, 0.0, 0.1428571428571429, 0.09999999999999998, 0.22499999999999998, 0.09999999999999998, 0.2916666666666667, 0.4166666666666667, 0.09999999999999998, 0.33333333333333337, 0.25, 0.4166666666666667, 0.4166666666666667, 0.2916666666666667, 0.25, 0.33333333333333337, 0.1833333333333333, 0.25, 0.1428571428571429, 0.2916666666666667, 0.5, 0.25, 0.2916666666666667, 0.19999999999999996, 0.19999999999999996, 0.19999999999999996, 0.19999999999999996, 0.1428571428571429, 0.0, 0.19999999999999996, 0.0, 0.125, 0.125, 0.19999999999999996, 0.16666666666666663, 0.0, 0.0, 0.1428571428571429, 0.16666666666666663, 0.16666666666666663, 0.19999999999999996, 0.1428571428571429, 0.1428571428571429, 0.16666666666666663, 0.16666666666666663, 0.0, 0.16666666666666663, 0.19999999999999996, 0.16666666666666663, 0.19999999999999996, 0.16666666666666663, 0.19999999999999996, 0.125, 0.16666666666666663, 0.16666666666666663, 0.16666666666666663, 0.19999999999999996, 0.1428571428571429, 0.19999999999999996, 0.125, 0.19999999999999996, 0.125, 0.0, 0.16666666666666663, 0.1428571428571429, 0.0, 0.19999999999999996, 0.16666666666666663, 0.19999999999999996, 0.0, 0.16666666666666663, 0.1428571428571429, 0.125, 0.16666666666666663, 0.1428571428571429, 0.0, 0.0, 0.0, 0.0, 0.0, 0.0, 0.16666666666666663, 0.16666666666666663, 0.0, 0.0, 0.0, 0.16666666666666663, 0.0, 0.16666666666666663, 0.16666666666666663, 0.1428571428571429, 0.2916666666666667, 0.08333333333333331, 0.25, 0.0, 0.25, 0.19999999999999996, 0.25, 0.0, 0.25, 0.19999999999999996, 0.0, 0.25]"
   ]
  },
  {
   "cell_type": "code",
   "execution_count": 149,
   "metadata": {},
   "outputs": [
    {
     "data": {
      "text/plain": [
       "(180, 180)"
      ]
     },
     "execution_count": 149,
     "metadata": {},
     "output_type": "execute_result"
    }
   ],
   "source": [
    "len(cpt), len(rnn)"
   ]
  },
  {
   "cell_type": "code",
   "execution_count": 114,
   "metadata": {},
   "outputs": [
    {
     "data": {
      "text/plain": [
       "(76,)"
      ]
     },
     "execution_count": 114,
     "metadata": {},
     "output_type": "execute_result"
    }
   ],
   "source": [
    "results_new[lowest_idx[0]].loc[results_new[lowest_idx[0]] > 0.149].shape"
   ]
  },
  {
   "cell_type": "markdown",
   "metadata": {},
   "source": [
    "### Plot best model with baselines"
   ]
  },
  {
   "cell_type": "code",
   "execution_count": 126,
   "metadata": {},
   "outputs": [],
   "source": [
    "#%matplotlib inline\n",
    "%matplotlib qt\n",
    "\n",
    "IDs = df['ID']\n",
    "\n",
    "error = df['error']\n",
    "\n",
    "seqs= results_new['sequence'][:-2].values\n",
    "\n",
    "res = results_new[lowest_idx[0]][:-2].values\n",
    "median = [np.nanmedian(res)] * len(res)\n",
    "\n",
    "x = [x for x in range (0,len(seqs))]\n",
    "\n",
    "# plot CPT baseline\n",
    "plt.scatter(x, cpt, marker='o', s=20, c='dodgerblue', alpha=0.3, \n",
    "            label=str('CPT baseline median: ') + str(round(np.median(cpt),3)))\n",
    "plt.plot(x, [np.median(cpt)] * len(x), '-', c='dodgerblue', alpha=0.9, linewidth=2)\n",
    "#plt.plot((x_original,x_original),(res_original,distances), '--', c='darkgreen', alpha=0.6)\n",
    "plt.fill_between(x, cpt, alpha=0.3, color='dodgerblue')\n",
    "\n",
    "\n",
    "# plot RNN baseline\n",
    "plt.scatter(x, rnn, marker='o', s=20, c='limegreen', alpha=0.5, \n",
    "            label=str('RNN baseline median: ') + str(round(np.median(rnn),3)))\n",
    "plt.plot(x, [np.median(rnn)] * len(x), '-', c='green', alpha=0.9, linewidth=2)\n",
    "#plt.plot((x_original,x_original),(res_original,distances), '--', c='darkgreen', alpha=0.6)\n",
    "plt.fill_between(x, rnn, alpha=0.3, color='limegreen')\n",
    "\n",
    "# plot random baseline\n",
    "#plt.scatter(x, error, c='red', s=20, marker='o', alpha=0.3, \n",
    "#            label=str('guessing baseline median: ') + str(round(np.nanmedian(results_new['error']),3)))\n",
    "#plt.plot(x, [np.median(error)] * len(x), c='red', alpha=0.8)#, \n",
    "         #label=str('guessing baseline avg.: ' + str(round(np.mean(results_original['error']),2))))\n",
    "#plt.fill_between(x, error, [1.0 * len(error)], color='red', alpha=0.2)\n",
    "\n",
    "# plot scatter + lines for simulations\n",
    "plt.scatter(x, res, marker='o', s=26, c='darkviolet', alpha=0.8, \n",
    "            label=str('model-generated median: ') + str(round(lowest_median,3)))\n",
    "#plt.plot(x, res, c='blue', alpha=0.6)\n",
    "plt.plot(x, median, c='darkviolet', alpha=0.95, linewidth=2)\n",
    "\n",
    "\n",
    "plt.xticks(x, labels=IDs, rotation=90, fontsize=5)\n",
    "#plt.xticklabels(IDs, rotation=90, fontsize=6)\n",
    "\n",
    "plt.ylabel('normalized edit distance', fontsize=24)\n",
    "plt.xlabel('sequence', fontsize=24)\n",
    "plt.ylim(0.0, 0.51)\n",
    "plt.title('best model (all), ' + str(lowest_idx[0]), fontsize=28)\n",
    "plt.margins(0.01)\n",
    "\n",
    "plt.legend(fontsize=22, framealpha=0.8, loc='upper right', markerscale=2.5)\n",
    "\n",
    "#plt.savefig('plot_median_editdist_individualerrors_diff.png', bbox_inches='tight')\n",
    "plt.show()"
   ]
  },
  {
   "cell_type": "markdown",
   "metadata": {},
   "source": [
    "### Prep data for stat analysis"
   ]
  },
  {
   "cell_type": "code",
   "execution_count": 96,
   "metadata": {},
   "outputs": [
    {
     "name": "stdout",
     "output_type": "stream",
     "text": [
      "Average xy: 0.14312470045129033, stdev: 0.00865354436835479, median: 0.13852185776752732\n",
      "Average xyz: 0.14298582294479512, stdev: 0.009043192742680442, median: 0.13811518126241923\n"
     ]
    }
   ],
   "source": [
    "# Compare avg edit distance for xy and xyz\n",
    "list_xy = []\n",
    "list_xyz = []\n",
    "\n",
    "for col in results_mean:\n",
    "    if col != 'sequence' and col != 'ID' and col != 'error' and col.split(';')[2].strip() == 'xy':\n",
    "        list_xy.append(results_mean.at['mean',col])\n",
    "    elif col != 'sequence' and col != 'ID' and col != 'error' and col.split(';')[2].strip() == 'xyz':\n",
    "        list_xyz.append(results_mean.at['mean',col])\n",
    "        \n",
    "avg_xy = np.mean(list_xy)\n",
    "med_xy = np.median(list_xy)\n",
    "std_xy = np.std(list_xy)\n",
    "print('Average xy: ' + str(avg_xy)  + ', stdev: ' + str(std_xy) + ', median: ' + str(med_xy))\n",
    "        \n",
    "avg_xyz = np.mean(list_xyz)\n",
    "med_xyz = np.median(list_xyz)\n",
    "std_xyz = np.std(list_xyz)\n",
    "print('Average xyz: ' + str(avg_xyz) + ', stdev: ' + str(std_xyz) + ', median: ' + str(med_xyz))"
   ]
  },
  {
   "cell_type": "code",
   "execution_count": 97,
   "metadata": {},
   "outputs": [
    {
     "name": "stdout",
     "output_type": "stream",
     "text": [
      "Average x: 0.16667166265688388, min: 0.15707494228444624\n",
      "Average y: 0.17176083194784644, min: 0.15944567396814585\n",
      "Average z: 0.18307489005693356, min: 0.17189678688976445\n",
      "Average xz: 0.15888312930596032\n",
      "Average yz: 0.17127203706825533\n"
     ]
    }
   ],
   "source": [
    "# Compare avg edit distances for x, y, z\n",
    "list_x = []\n",
    "list_y = []\n",
    "list_z = []\n",
    "list_xz = []\n",
    "list_yz = []\n",
    "\n",
    "for col in results_mean:\n",
    "    if col != 'sequence' and col != 'ID' and col != 'error' and col.split(';')[2].strip() == 'x':\n",
    "        list_x.append(results_mean.at['mean',col])\n",
    "    elif col != 'sequence' and col != 'ID' and col != 'error' and col.split(';')[2].strip() == 'y':\n",
    "        list_y.append(results_mean.at['mean',col])\n",
    "    elif col != 'sequence' and col != 'ID' and col != 'error' and col.split(';')[2].strip() == 'z':\n",
    "        list_z.append(results_mean.at['mean',col])\n",
    "    elif col != 'sequence' and col != 'ID' and col != 'error' and col.split(';')[2].strip() == 'xz':\n",
    "        list_xz.append(results_mean.at['mean',col])\n",
    "    elif col != 'sequence' and col != 'ID' and col != 'error' and col.split(';')[2].strip() == 'yz':\n",
    "        list_yz.append(results_mean.at['mean',col])\n",
    "\n",
    "avg_xz = np.mean(list_xz)\n",
    "avg_yz = np.mean(list_yz)\n",
    "        \n",
    "avg_x = np.mean(list_x)\n",
    "lowest_x = min(list_x)\n",
    "print('Average x: ' + str(avg_x) + ', min: ' + str(lowest_x)) \n",
    "        \n",
    "avg_y = np.mean(list_y)\n",
    "lowest_y = min(list_y)\n",
    "print('Average y: ' + str(avg_y) + ', min: ' + str(lowest_y)) \n",
    "        \n",
    "avg_z = np.mean(list_z)\n",
    "lowest_z = min(list_z)\n",
    "print('Average z: ' + str(avg_z) + ', min: ' + str(lowest_z)) \n",
    "\n",
    "print('Average xz: ' + str(avg_xz)) \n",
    "print('Average yz: ' + str(avg_yz)) "
   ]
  },
  {
   "cell_type": "code",
   "execution_count": 98,
   "metadata": {},
   "outputs": [
    {
     "name": "stdout",
     "output_type": "stream",
     "text": [
      "Friedman: stat = 3940.950, p =  0.000E+00\n"
     ]
    }
   ],
   "source": [
    "# Compare all error predictions for dimensions\n",
    "stat, p = friedmanchisquare(list_x,list_y,list_z,list_xy,list_xz,list_yz,list_xyz)\n",
    "print('Friedman: stat = %.3f, p = % 10.3E' % (stat, p))"
   ]
  },
  {
   "cell_type": "code",
   "execution_count": 99,
   "metadata": {},
   "outputs": [
    {
     "name": "stdout",
     "output_type": "stream",
     "text": [
      "Wilcoxon: W = 152971.000, p = 0.09104\n"
     ]
    }
   ],
   "source": [
    "# 2D vs 3D median\n",
    "stat, p = wilcoxon(list_xy, list_xyz, zero_method='wilcox')\n",
    "print('Wilcoxon: W = %.3f, p = %.5f' % (stat, p))"
   ]
  },
  {
   "cell_type": "code",
   "execution_count": null,
   "metadata": {},
   "outputs": [],
   "source": []
  }
 ],
 "metadata": {
  "kernelspec": {
   "display_name": "Python 3",
   "language": "python",
   "name": "python3"
  },
  "language_info": {
   "codemirror_mode": {
    "name": "ipython",
    "version": 3
   },
   "file_extension": ".py",
   "mimetype": "text/x-python",
   "name": "python",
   "nbconvert_exporter": "python",
   "pygments_lexer": "ipython3",
   "version": "3.7.7"
  }
 },
 "nbformat": 4,
 "nbformat_minor": 4
}
