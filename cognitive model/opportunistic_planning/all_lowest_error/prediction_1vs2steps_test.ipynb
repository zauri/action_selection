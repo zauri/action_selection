{
 "cells": [
  {
   "cell_type": "code",
   "execution_count": 1,
   "metadata": {},
   "outputs": [],
   "source": [
    "import pandas as pd\n",
    "import numpy as np\n",
    "import itertools\n",
    "import random\n",
    "import ast\n",
    "import matplotlib\n",
    "import matplotlib.pyplot as plt\n",
    "from scipy.stats import spearmanr, wilcoxon, friedmanchisquare, kendalltau\n",
    "from matplotlib import animation\n",
    "from mpl_toolkits import mplot3d\n",
    "from scipy.spatial import distance\n",
    "from pyxdameraulevenshtein import damerau_levenshtein_distance\n",
    "\n",
    "pd.set_option('display.max_rows', 500)"
   ]
  },
  {
   "cell_type": "code",
   "execution_count": 3,
   "metadata": {},
   "outputs": [],
   "source": [
    "objects = ['r','h','c','s','e']\n",
    "\n",
    "coordinates = {'r': (0,5,2),\n",
    "              'h': (4,4,1),\n",
    "              'c': (2,0,0),\n",
    "              's': (4,3,2),\n",
    "              'e': (4,1,1)}\n",
    "\n",
    "c1 = {'r': 1.5,\n",
    "    'h': 1.0,\n",
    "    'c': 1.5,\n",
    "    's': 1.5,\n",
    "    'e': 1.5}\n",
    "\n",
    "k1 = {'r': 1.0,\n",
    "    'h': 0.3,\n",
    "    'c': 0.4,\n",
    "    's': 1.0,\n",
    "    'e': 1.0}\n",
    "\n",
    "start_coordinates = [[4,5,2],[2,2,2],[2,2,2],[0,5,2],[2,2,2]]"
   ]
  },
  {
   "cell_type": "code",
   "execution_count": 4,
   "metadata": {},
   "outputs": [],
   "source": [
    "def predict_sequence(objects, coordinates, start_coordinates, c, k, dimension=[3,], steps=1):\n",
    "    prediction = []\n",
    "    possible_items = dict.fromkeys(objects, 0) # generate dict from object list\n",
    "    coord_index = 0\n",
    "    start_coords = start_coordinates\n",
    "    coords = coordinates\n",
    "    new_coords = {}\n",
    "    new_start_coords = []\n",
    "    \n",
    "    if dimension[0] == 3: # no changes if 3D\n",
    "        new_coords = coords\n",
    "        new_start_coords = start_coords\n",
    "        \n",
    "    elif dimension[0] == 2: # 2D: remove obsolete coordinate\n",
    "        if dimension[1] == 'xy':\n",
    "            new_coords = {key: value[:-1] for key, value in coords.items()}\n",
    "            new_start_coords = [x[:-1] for x in start_coords]\n",
    "                \n",
    "        elif dimension[1] == 'xz':\n",
    "            new_start_coords = [[x[0], x[-1]] for x in start_coords]\n",
    "            \n",
    "            for key, value in coords.items():\n",
    "                new_value = (value[0], value[-1])\n",
    "                new_coords[key] = new_value\n",
    "        \n",
    "        elif dimension[1] == 'yz':\n",
    "            new_coords = {key: value[1:] for key, value in coords.items()}\n",
    "            new_start_coords = [x[1:] for x in start_coords]\n",
    "                \n",
    "    elif dimension[0] == 1: # 1D: choose appropriate coordinate\n",
    "        if dimension[1] == 'x':\n",
    "            new_coords = {key: value[0] for key, value in coords.items()}\n",
    "            new_start_coords = [x[0] for x in start_coords]\n",
    "        \n",
    "        elif dimension[1] == 'y':\n",
    "            new_coords = {key: value[1] for key, value in coords.items()}\n",
    "            new_start_coords = [x[1] for x in start_coords]\n",
    "        \n",
    "        elif dimension[1] == 'z':\n",
    "            new_coords = {key: value[2] for key, value in coords.items()}\n",
    "            new_start_coords = [x[2] for x in start_coords]\n",
    "    \n",
    "    while bool(possible_items) == True: # while dict not empty\n",
    "        for obj in possible_items.keys():\n",
    "            possible_items[obj] = ((distance.euclidean(\n",
    "                                new_start_coords[coord_index], \n",
    "                                new_coords[obj])\n",
    "                                ) ** k[obj]) * c[obj]\n",
    "        \n",
    "        #print(possible_items)                      \n",
    "        minval = min(possible_items.values())\n",
    "        minval = [k for k, v in possible_items.items() if v == minval]\n",
    "        minval = random.choice(minval) # choose prediction randomly if multiple items have same cost\n",
    "        #print(minval)\n",
    "        del possible_items[minval]\n",
    "        \n",
    "        if steps == 2 and bool(possible_items) == True:\n",
    "            for obj in possible_items.keys():\n",
    "                possible_items[obj] = ((distance.euclidean(\n",
    "                                    new_coords[minval],\n",
    "                                    new_coords[obj])\n",
    "                                    )\n",
    "                                    ** k[obj]) * c[obj]\n",
    "            #print(possible_items)\n",
    "            minval_step2 = min(possible_items.values())\n",
    "            minval_step2 = [k for k, v in possible_items.items() if v == minval_step2]\n",
    "            minval_step2 = random.choice(minval_step2) # choose prediction randomly if multiple items have same cost\n",
    "            #print(minval_step2 + '____')\n",
    "            del possible_items[minval_step2]\n",
    "            prediction.append(''.join([minval, minval_step2]))\n",
    "            coord_index += 1\n",
    "            \n",
    "        else:\n",
    "            prediction.append(minval)\n",
    "          \n",
    "        coord_index += 1\n",
    "        \n",
    "    return prediction"
   ]
  },
  {
   "cell_type": "code",
   "execution_count": 5,
   "metadata": {},
   "outputs": [
    {
     "data": {
      "text/plain": [
       "['p', 'c']"
      ]
     },
     "execution_count": 5,
     "metadata": {},
     "output_type": "execute_result"
    }
   ],
   "source": [
    "predict_sequence(objects, coordinates, start_coordinates, c1, k1, [2,'xy'], steps=1)"
   ]
  },
  {
   "cell_type": "code",
   "execution_count": 6,
   "metadata": {},
   "outputs": [
    {
     "data": {
      "text/plain": [
       "['pc']"
      ]
     },
     "execution_count": 6,
     "metadata": {},
     "output_type": "execute_result"
    }
   ],
   "source": [
    "predict_sequence(objects, coordinates, start_coordinates, c1, k1, [2,'xy'], steps=2)"
   ]
  },
  {
   "cell_type": "code",
   "execution_count": 8,
   "metadata": {},
   "outputs": [
    {
     "data": {
      "text/plain": [
       "0"
      ]
     },
     "execution_count": 8,
     "metadata": {},
     "output_type": "execute_result"
    }
   ],
   "source": [
    "result = ''.join(predict_sequence(objects, coordinates, start_coordinates, c1, k1, [2,'xy'], steps=1))\n",
    "dl = damerau_levenshtein_distance('rhcse',result)\n",
    "dl"
   ]
  },
  {
   "cell_type": "code",
   "execution_count": 9,
   "metadata": {},
   "outputs": [
    {
     "data": {
      "text/plain": [
       "0"
      ]
     },
     "execution_count": 9,
     "metadata": {},
     "output_type": "execute_result"
    }
   ],
   "source": [
    "result = ''.join(predict_sequence(objects, coordinates, start_coordinates, c1, k1, [2,'xy'], steps=2))\n",
    "dl = damerau_levenshtein_distance('rhcse',result)\n",
    "dl"
   ]
  },
  {
   "cell_type": "code",
   "execution_count": null,
   "metadata": {},
   "outputs": [],
   "source": []
  }
 ],
 "metadata": {
  "kernelspec": {
   "display_name": "Python 3",
   "language": "python",
   "name": "python3"
  },
  "language_info": {
   "codemirror_mode": {
    "name": "ipython",
    "version": 3
   },
   "file_extension": ".py",
   "mimetype": "text/x-python",
   "name": "python",
   "nbconvert_exporter": "python",
   "pygments_lexer": "ipython3",
   "version": "3.7.7"
  }
 },
 "nbformat": 4,
 "nbformat_minor": 4
}
