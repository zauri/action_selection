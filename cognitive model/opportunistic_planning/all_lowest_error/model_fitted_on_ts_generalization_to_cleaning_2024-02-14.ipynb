{
 "cells": [
  {
   "cell_type": "code",
   "execution_count": 1,
   "id": "e1f24240",
   "metadata": {},
   "outputs": [],
   "source": [
    "import ast\n",
    "import numpy as np\n",
    "import pandas as pd\n",
    "\n",
    "from opportunistic_planning import prediction, processing"
   ]
  },
  {
   "cell_type": "code",
   "execution_count": 2,
   "id": "882260bf",
   "metadata": {},
   "outputs": [],
   "source": [
    "data_ts = pd.read_csv('all_task_environments_list_2022-06-02_unique_sequences.csv', header=0)"
   ]
  },
  {
   "cell_type": "code",
   "execution_count": 3,
   "id": "9f912b58",
   "metadata": {},
   "outputs": [],
   "source": [
    "data = pd.read_csv('kit_task_envs_2022-08-30.csv', header=0)"
   ]
  },
  {
   "cell_type": "code",
   "execution_count": 4,
   "id": "e0354f58",
   "metadata": {},
   "outputs": [],
   "source": [
    "distances_dict_kit = processing.generate_distances_dict(data, use_string_for_seq=False,\n",
    "                                                   dimensions=[[2, 'xy']])"
   ]
  },
  {
   "cell_type": "markdown",
   "id": "89035db5",
   "metadata": {},
   "source": [
    "### fit model on tablesetting"
   ]
  },
  {
   "cell_type": "code",
   "execution_count": 5,
   "id": "ab34e8a8",
   "metadata": {},
   "outputs": [],
   "source": [
    "tablesetting_data = data[:186]\n",
    "tablesetting_data.reset_index(inplace=True)"
   ]
  },
  {
   "cell_type": "code",
   "execution_count": 6,
   "id": "6e0b9598",
   "metadata": {},
   "outputs": [],
   "source": [
    "distances_dict = processing.generate_distances_dict(data, use_string_for_seq=False,\n",
    "                                                   dimensions=[[2, 'xy']])"
   ]
  },
  {
   "cell_type": "code",
   "execution_count": 8,
   "id": "3a81064c",
   "metadata": {},
   "outputs": [
    {
     "ename": "TypeError",
     "evalue": "argument of type 'numpy.int64' is not iterable",
     "output_type": "error",
     "traceback": [
      "\u001b[0;31m---------------------------------------------------------------------------\u001b[0m",
      "\u001b[0;31mTypeError\u001b[0m                                 Traceback (most recent call last)",
      "\u001b[0;32m/tmp/ipykernel_119607/1133393487.py\u001b[0m in \u001b[0;36m<cell line: 1>\u001b[0;34m()\u001b[0m\n\u001b[0;32m----> 1\u001b[0;31m \u001b[0mresults_sum\u001b[0m \u001b[0;34m=\u001b[0m \u001b[0mprocessing\u001b[0m\u001b[0;34m.\u001b[0m\u001b[0mcalculate_prediction_error\u001b[0m\u001b[0;34m(\u001b[0m\u001b[0mtablesetting_data\u001b[0m\u001b[0;34m,\u001b[0m \u001b[0mdistances_dict\u001b[0m\u001b[0;34m,\u001b[0m \u001b[0merror_function\u001b[0m\u001b[0;34m=\u001b[0m\u001b[0;34m'prequential'\u001b[0m\u001b[0;34m,\u001b[0m \u001b[0mn\u001b[0m\u001b[0;34m=\u001b[0m\u001b[0;36m100\u001b[0m\u001b[0;34m,\u001b[0m \u001b[0mdimensions\u001b[0m\u001b[0;34m=\u001b[0m\u001b[0;34m[\u001b[0m\u001b[0;34m[\u001b[0m\u001b[0;36m2\u001b[0m\u001b[0;34m,\u001b[0m \u001b[0;34m'xy'\u001b[0m\u001b[0;34m]\u001b[0m\u001b[0;34m]\u001b[0m\u001b[0;34m)\u001b[0m\u001b[0;34m\u001b[0m\u001b[0;34m\u001b[0m\u001b[0m\n\u001b[0m",
      "\u001b[0;32m~/personal/projects/phd thesis/cognitive model/model_package/opportunistic_planning/processing.py\u001b[0m in \u001b[0;36mcalculate_prediction_error\u001b[0;34m(data, distances_dict, error_function, n, dimensions, seqcol, coords, error, use_string_for_seq)\u001b[0m\n\u001b[1;32m     97\u001b[0m                     \u001b[0mc\u001b[0m \u001b[0;34m=\u001b[0m \u001b[0mround\u001b[0m\u001b[0;34m(\u001b[0m\u001b[0mc\u001b[0m\u001b[0;34m,\u001b[0m \u001b[0;36m1\u001b[0m\u001b[0;34m)\u001b[0m\u001b[0;34m\u001b[0m\u001b[0;34m\u001b[0m\u001b[0m\n\u001b[1;32m     98\u001b[0m                     \u001b[0;31m# set c to current param if object contained, else 1.0\u001b[0m\u001b[0;34m\u001b[0m\u001b[0;34m\u001b[0m\u001b[0m\n\u001b[0;32m---> 99\u001b[0;31m                     \u001b[0mc1\u001b[0m \u001b[0;34m=\u001b[0m \u001b[0;34m{\u001b[0m\u001b[0mobj\u001b[0m\u001b[0;34m:\u001b[0m \u001b[0mc\u001b[0m \u001b[0;32mif\u001b[0m \u001b[0mobj\u001b[0m \u001b[0;32min\u001b[0m \u001b[0mdata\u001b[0m\u001b[0;34m.\u001b[0m\u001b[0mat\u001b[0m\u001b[0;34m[\u001b[0m\u001b[0mrow\u001b[0m\u001b[0;34m,\u001b[0m \u001b[0;34m'containment'\u001b[0m\u001b[0;34m]\u001b[0m \u001b[0;32melse\u001b[0m \u001b[0;36m1.0\u001b[0m \u001b[0;32mfor\u001b[0m \u001b[0mobj\u001b[0m \u001b[0;32min\u001b[0m \u001b[0mobjects\u001b[0m\u001b[0;34m}\u001b[0m\u001b[0;34m\u001b[0m\u001b[0;34m\u001b[0m\u001b[0m\n\u001b[0m\u001b[1;32m    100\u001b[0m \u001b[0;34m\u001b[0m\u001b[0m\n\u001b[1;32m    101\u001b[0m                     \u001b[0;32mfor\u001b[0m \u001b[0mdim\u001b[0m \u001b[0;32min\u001b[0m \u001b[0mdimensions\u001b[0m\u001b[0;34m:\u001b[0m\u001b[0;34m\u001b[0m\u001b[0;34m\u001b[0m\u001b[0m\n",
      "\u001b[0;32m~/personal/projects/phd thesis/cognitive model/model_package/opportunistic_planning/processing.py\u001b[0m in \u001b[0;36m<dictcomp>\u001b[0;34m(.0)\u001b[0m\n\u001b[1;32m     97\u001b[0m                     \u001b[0mc\u001b[0m \u001b[0;34m=\u001b[0m \u001b[0mround\u001b[0m\u001b[0;34m(\u001b[0m\u001b[0mc\u001b[0m\u001b[0;34m,\u001b[0m \u001b[0;36m1\u001b[0m\u001b[0;34m)\u001b[0m\u001b[0;34m\u001b[0m\u001b[0;34m\u001b[0m\u001b[0m\n\u001b[1;32m     98\u001b[0m                     \u001b[0;31m# set c to current param if object contained, else 1.0\u001b[0m\u001b[0;34m\u001b[0m\u001b[0;34m\u001b[0m\u001b[0m\n\u001b[0;32m---> 99\u001b[0;31m                     \u001b[0mc1\u001b[0m \u001b[0;34m=\u001b[0m \u001b[0;34m{\u001b[0m\u001b[0mobj\u001b[0m\u001b[0;34m:\u001b[0m \u001b[0mc\u001b[0m \u001b[0;32mif\u001b[0m \u001b[0mobj\u001b[0m \u001b[0;32min\u001b[0m \u001b[0mdata\u001b[0m\u001b[0;34m.\u001b[0m\u001b[0mat\u001b[0m\u001b[0;34m[\u001b[0m\u001b[0mrow\u001b[0m\u001b[0;34m,\u001b[0m \u001b[0;34m'containment'\u001b[0m\u001b[0;34m]\u001b[0m \u001b[0;32melse\u001b[0m \u001b[0;36m1.0\u001b[0m \u001b[0;32mfor\u001b[0m \u001b[0mobj\u001b[0m \u001b[0;32min\u001b[0m \u001b[0mobjects\u001b[0m\u001b[0;34m}\u001b[0m\u001b[0;34m\u001b[0m\u001b[0;34m\u001b[0m\u001b[0m\n\u001b[0m\u001b[1;32m    100\u001b[0m \u001b[0;34m\u001b[0m\u001b[0m\n\u001b[1;32m    101\u001b[0m                     \u001b[0;32mfor\u001b[0m \u001b[0mdim\u001b[0m \u001b[0;32min\u001b[0m \u001b[0mdimensions\u001b[0m\u001b[0;34m:\u001b[0m\u001b[0;34m\u001b[0m\u001b[0;34m\u001b[0m\u001b[0m\n",
      "\u001b[0;31mTypeError\u001b[0m: argument of type 'numpy.int64' is not iterable"
     ]
    }
   ],
   "source": [
    "results_sum = processing.calculate_prediction_error(tablesetting_data, distances_dict, error_function='prequential', n=100, dimensions=[[2, 'xy']])"
   ]
  },
  {
   "cell_type": "code",
   "execution_count": 6,
   "id": "cbab82d0",
   "metadata": {},
   "outputs": [],
   "source": [
    "lowest_mean, lowest_mean_idx, lowest_median, results_median = processing.get_lowest_error(results_sum)"
   ]
  },
  {
   "cell_type": "code",
   "execution_count": 7,
   "id": "d503211f",
   "metadata": {},
   "outputs": [
    {
     "data": {
      "text/plain": [
       "Index(['c: 1.7; k: 0.2,0.3,1.7; xy'], dtype='object')"
      ]
     },
     "execution_count": 7,
     "metadata": {},
     "output_type": "execute_result"
    }
   ],
   "source": [
    "lowest_mean_idx"
   ]
  },
  {
   "cell_type": "markdown",
   "id": "4c351fa8",
   "metadata": {},
   "source": [
    "### test on kit cleaning data"
   ]
  },
  {
   "cell_type": "code",
   "execution_count": 9,
   "id": "81fd569e",
   "metadata": {},
   "outputs": [],
   "source": [
    "results = pd.DataFrame()\n",
    "\n",
    "for row in range(0, len(data)):\n",
    "        use_string_for_seq = False\n",
    "        coordinates = {key: ast.literal_eval(value) for key, value in\n",
    "                       (elem.split(': ') for elem in data.at[row, 'coordinates'].split(';'))}\n",
    "\n",
    "        start_coordinates = list(ast.literal_eval(data.at[row, 'start_coordinates']))\n",
    "        ID = str(data.at[row,'ID'])\n",
    "        \n",
    "        if use_string_for_seq == True:\n",
    "            seq = str(data.at[row, 'sequence'])\n",
    "            objects = list(data.at[row, 'sequence'])\n",
    "        else:\n",
    "            seq = [elem for elem in data.at[row, 'sequence'].split(',')]\n",
    "            objects = [elem for elem in data.at[row, 'sequence'].split(',')]\n",
    "\n",
    "        # get list of objects that have relational dependencies, if any (else set to empty list)\n",
    "        try:\n",
    "            strong_k = list(data.at[row, 'strong_k'].split(','))\n",
    "        except AttributeError:\n",
    "            strong_k = []\n",
    "\n",
    "        try:\n",
    "            mid_k = list(data.at[row, 'mid_k'].split(','))\n",
    "        except AttributeError:\n",
    "            mid_k = []\n",
    "\n",
    "        try:\n",
    "            food_k = list(data.at[row, 'food_k'].split(','))\n",
    "        except AttributeError:\n",
    "            food_k = []\n",
    "            \n",
    "        k1 = {obj: 1.7 if obj in food_k else 0.2 if obj in strong_k \\\n",
    "              else 0.3 if obj in mid_k else 1.0 for obj in objects}\n",
    "        try:\n",
    "            c1 = {obj: 1.8 if obj in data.at[row, 'containment'] else 1.0 for obj in objects}\n",
    "        except:\n",
    "            c1 = {obj: 1.0 for obj in objects}\n",
    "            \n",
    "        dim = [2, 'xy']\n",
    "        \n",
    "        median = processing.get_median_error('prequential', \n",
    "                                             row, ID, objects, coordinates, start_coordinates,\n",
    "                                             c1, k1, dim, seq, distances_dict_kit, n=100)\n",
    "        \n",
    "        results.at[row, 'median'] = median\n",
    "        results.at[row, 'median_normalized'] = median / len(seq)\n",
    "        results.at[row, 'ID'] = ID"
   ]
  },
  {
   "cell_type": "code",
   "execution_count": 10,
   "id": "769666de",
   "metadata": {},
   "outputs": [
    {
     "data": {
      "text/html": [
       "<div>\n",
       "<style scoped>\n",
       "    .dataframe tbody tr th:only-of-type {\n",
       "        vertical-align: middle;\n",
       "    }\n",
       "\n",
       "    .dataframe tbody tr th {\n",
       "        vertical-align: top;\n",
       "    }\n",
       "\n",
       "    .dataframe thead th {\n",
       "        text-align: right;\n",
       "    }\n",
       "</style>\n",
       "<table border=\"1\" class=\"dataframe\">\n",
       "  <thead>\n",
       "    <tr style=\"text-align: right;\">\n",
       "      <th></th>\n",
       "      <th>median</th>\n",
       "      <th>median_normalized</th>\n",
       "      <th>ID</th>\n",
       "    </tr>\n",
       "  </thead>\n",
       "  <tbody>\n",
       "    <tr>\n",
       "      <th>0</th>\n",
       "      <td>3.0</td>\n",
       "      <td>0.500000</td>\n",
       "      <td>k01</td>\n",
       "    </tr>\n",
       "    <tr>\n",
       "      <th>1</th>\n",
       "      <td>2.0</td>\n",
       "      <td>0.400000</td>\n",
       "      <td>k04</td>\n",
       "    </tr>\n",
       "    <tr>\n",
       "      <th>2</th>\n",
       "      <td>1.0</td>\n",
       "      <td>0.200000</td>\n",
       "      <td>k06</td>\n",
       "    </tr>\n",
       "    <tr>\n",
       "      <th>3</th>\n",
       "      <td>6.0</td>\n",
       "      <td>0.750000</td>\n",
       "      <td>k08</td>\n",
       "    </tr>\n",
       "    <tr>\n",
       "      <th>4</th>\n",
       "      <td>3.0</td>\n",
       "      <td>0.333333</td>\n",
       "      <td>k11</td>\n",
       "    </tr>\n",
       "    <tr>\n",
       "      <th>5</th>\n",
       "      <td>3.0</td>\n",
       "      <td>0.375000</td>\n",
       "      <td>k12</td>\n",
       "    </tr>\n",
       "    <tr>\n",
       "      <th>6</th>\n",
       "      <td>4.0</td>\n",
       "      <td>0.400000</td>\n",
       "      <td>k14</td>\n",
       "    </tr>\n",
       "    <tr>\n",
       "      <th>7</th>\n",
       "      <td>5.0</td>\n",
       "      <td>0.555556</td>\n",
       "      <td>k16</td>\n",
       "    </tr>\n",
       "    <tr>\n",
       "      <th>8</th>\n",
       "      <td>5.0</td>\n",
       "      <td>0.625000</td>\n",
       "      <td>k17</td>\n",
       "    </tr>\n",
       "    <tr>\n",
       "      <th>9</th>\n",
       "      <td>4.0</td>\n",
       "      <td>0.666667</td>\n",
       "      <td>k18</td>\n",
       "    </tr>\n",
       "    <tr>\n",
       "      <th>10</th>\n",
       "      <td>6.0</td>\n",
       "      <td>0.600000</td>\n",
       "      <td>k19</td>\n",
       "    </tr>\n",
       "    <tr>\n",
       "      <th>11</th>\n",
       "      <td>3.0</td>\n",
       "      <td>0.375000</td>\n",
       "      <td>k20</td>\n",
       "    </tr>\n",
       "    <tr>\n",
       "      <th>12</th>\n",
       "      <td>3.0</td>\n",
       "      <td>0.428571</td>\n",
       "      <td>k21</td>\n",
       "    </tr>\n",
       "    <tr>\n",
       "      <th>13</th>\n",
       "      <td>5.0</td>\n",
       "      <td>0.625000</td>\n",
       "      <td>k22</td>\n",
       "    </tr>\n",
       "    <tr>\n",
       "      <th>14</th>\n",
       "      <td>4.0</td>\n",
       "      <td>0.800000</td>\n",
       "      <td>k23</td>\n",
       "    </tr>\n",
       "    <tr>\n",
       "      <th>15</th>\n",
       "      <td>4.0</td>\n",
       "      <td>0.444444</td>\n",
       "      <td>k24</td>\n",
       "    </tr>\n",
       "    <tr>\n",
       "      <th>16</th>\n",
       "      <td>4.0</td>\n",
       "      <td>0.500000</td>\n",
       "      <td>k25</td>\n",
       "    </tr>\n",
       "  </tbody>\n",
       "</table>\n",
       "</div>"
      ],
      "text/plain": [
       "    median  median_normalized   ID\n",
       "0      3.0           0.500000  k01\n",
       "1      2.0           0.400000  k04\n",
       "2      1.0           0.200000  k06\n",
       "3      6.0           0.750000  k08\n",
       "4      3.0           0.333333  k11\n",
       "5      3.0           0.375000  k12\n",
       "6      4.0           0.400000  k14\n",
       "7      5.0           0.555556  k16\n",
       "8      5.0           0.625000  k17\n",
       "9      4.0           0.666667  k18\n",
       "10     6.0           0.600000  k19\n",
       "11     3.0           0.375000  k20\n",
       "12     3.0           0.428571  k21\n",
       "13     5.0           0.625000  k22\n",
       "14     4.0           0.800000  k23\n",
       "15     4.0           0.444444  k24\n",
       "16     4.0           0.500000  k25"
      ]
     },
     "execution_count": 10,
     "metadata": {},
     "output_type": "execute_result"
    }
   ],
   "source": [
    "results"
   ]
  },
  {
   "cell_type": "code",
   "execution_count": 11,
   "id": "718facea",
   "metadata": {},
   "outputs": [
    {
     "data": {
      "text/plain": [
       "4.0"
      ]
     },
     "execution_count": 11,
     "metadata": {},
     "output_type": "execute_result"
    }
   ],
   "source": [
    "np.median(results['median'])"
   ]
  },
  {
   "cell_type": "code",
   "execution_count": 12,
   "id": "5a4b5c55",
   "metadata": {},
   "outputs": [],
   "source": [
    "results.to_csv('results/results_cleaning_2D_n100_fitted_to_ts_2023-01-20.csv', header=True, index=False)"
   ]
  },
  {
   "cell_type": "code",
   "execution_count": 19,
   "id": "ea73dfef",
   "metadata": {},
   "outputs": [],
   "source": []
  },
  {
   "cell_type": "code",
   "execution_count": null,
   "id": "cc1babb9",
   "metadata": {},
   "outputs": [],
   "source": []
  },
  {
   "cell_type": "code",
   "execution_count": null,
   "id": "e8ccea7b",
   "metadata": {},
   "outputs": [],
   "source": []
  }
 ],
 "metadata": {
  "kernelspec": {
   "display_name": "Python 3 (ipykernel)",
   "language": "python",
   "name": "python3"
  },
  "language_info": {
   "codemirror_mode": {
    "name": "ipython",
    "version": 3
   },
   "file_extension": ".py",
   "mimetype": "text/x-python",
   "name": "python",
   "nbconvert_exporter": "python",
   "pygments_lexer": "ipython3",
   "version": "3.9.16"
  }
 },
 "nbformat": 4,
 "nbformat_minor": 5
}
