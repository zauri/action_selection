{
 "cells": [
  {
   "cell_type": "code",
   "execution_count": 29,
   "id": "e1f24240",
   "metadata": {},
   "outputs": [],
   "source": [
    "import ast\n",
    "import numpy as np\n",
    "import pandas as pd\n",
    "\n",
    "from opportunistic_planning import prediction, processing"
   ]
  },
  {
   "cell_type": "code",
   "execution_count": 13,
   "id": "882260bf",
   "metadata": {},
   "outputs": [],
   "source": [
    "data = pd.read_csv('task_environments_cooking_list_2022-05-10.csv', header=0)"
   ]
  },
  {
   "cell_type": "code",
   "execution_count": 14,
   "id": "6e0b9598",
   "metadata": {},
   "outputs": [],
   "source": [
    "distances_dict = processing.generate_distances_dict(data, use_string_for_seq=False,\n",
    "                                                   dimensions=[[2, 'xy']])"
   ]
  },
  {
   "cell_type": "code",
   "execution_count": 27,
   "id": "81fd569e",
   "metadata": {},
   "outputs": [],
   "source": [
    "results = pd.DataFrame()\n",
    "\n",
    "for row in range(0, len(data)):\n",
    "        use_string_for_seq = False\n",
    "        coordinates = {key: ast.literal_eval(value) for key, value in\n",
    "                       (elem.split(': ') for elem in data.at[row, 'coordinates'].split(';'))}\n",
    "\n",
    "        start_coordinates = list(ast.literal_eval(data.at[row, 'start_coordinates']))\n",
    "        ID = str(data.at[row,'ID'])\n",
    "        \n",
    "        if use_string_for_seq == True:\n",
    "            seq = str(data.at[row, 'sequence'])\n",
    "            objects = list(data.at[row, 'sequence'])\n",
    "        else:\n",
    "            seq = [elem for elem in data.at[row, 'sequence'].split(',')]\n",
    "            objects = [elem for elem in data.at[row, 'sequence'].split(',')]\n",
    "\n",
    "        # get list of objects that have relational dependencies, if any (else set to empty list)\n",
    "        try:\n",
    "            strong_k = list(data.at[row, 'strong_k'].split(','))\n",
    "        except AttributeError:\n",
    "            strong_k = []\n",
    "\n",
    "        try:\n",
    "            mid_k = list(data.at[row, 'mid_k'].split(','))\n",
    "        except AttributeError:\n",
    "            mid_k = []\n",
    "\n",
    "        try:\n",
    "            food_k = list(data.at[row, 'food_k'].split(','))\n",
    "        except AttributeError:\n",
    "            food_k = []\n",
    "            \n",
    "        k1 = {obj: 1.9 if obj in food_k else 0.2 if obj in strong_k \\\n",
    "              else 0.3 if obj in mid_k else 1.0 for obj in objects}\n",
    "        c1 = {obj: 1.6 if obj in data.at[row, 'containment'] else 1.0 for obj in objects}\n",
    "        dim = [2, 'xy']\n",
    "        \n",
    "        median = processing.get_median_error('prequential', \n",
    "                                             row, ID, objects, coordinates, start_coordinates,\n",
    "                                             c1, k1, dim, seq, distances_dict, n=100)\n",
    "        \n",
    "        results.at[row, 'median'] = median\n",
    "        results.at[row, 'ID'] = ID"
   ]
  },
  {
   "cell_type": "code",
   "execution_count": 28,
   "id": "769666de",
   "metadata": {},
   "outputs": [
    {
     "data": {
      "text/html": [
       "<div>\n",
       "<style scoped>\n",
       "    .dataframe tbody tr th:only-of-type {\n",
       "        vertical-align: middle;\n",
       "    }\n",
       "\n",
       "    .dataframe tbody tr th {\n",
       "        vertical-align: top;\n",
       "    }\n",
       "\n",
       "    .dataframe thead th {\n",
       "        text-align: right;\n",
       "    }\n",
       "</style>\n",
       "<table border=\"1\" class=\"dataframe\">\n",
       "  <thead>\n",
       "    <tr style=\"text-align: right;\">\n",
       "      <th></th>\n",
       "      <th>median</th>\n",
       "      <th>ID</th>\n",
       "    </tr>\n",
       "  </thead>\n",
       "  <tbody>\n",
       "    <tr>\n",
       "      <th>0</th>\n",
       "      <td>0.0</td>\n",
       "      <td>s13-d21</td>\n",
       "    </tr>\n",
       "    <tr>\n",
       "      <th>1</th>\n",
       "      <td>2.0</td>\n",
       "      <td>s13-d25</td>\n",
       "    </tr>\n",
       "    <tr>\n",
       "      <th>2</th>\n",
       "      <td>1.0</td>\n",
       "      <td>s13-d28</td>\n",
       "    </tr>\n",
       "    <tr>\n",
       "      <th>3</th>\n",
       "      <td>3.0</td>\n",
       "      <td>s13-d31</td>\n",
       "    </tr>\n",
       "    <tr>\n",
       "      <th>4</th>\n",
       "      <td>2.0</td>\n",
       "      <td>s13-d40</td>\n",
       "    </tr>\n",
       "    <tr>\n",
       "      <th>...</th>\n",
       "      <td>...</td>\n",
       "      <td>...</td>\n",
       "    </tr>\n",
       "    <tr>\n",
       "      <th>119</th>\n",
       "      <td>3.0</td>\n",
       "      <td>s37-d21</td>\n",
       "    </tr>\n",
       "    <tr>\n",
       "      <th>120</th>\n",
       "      <td>2.0</td>\n",
       "      <td>s37-d25</td>\n",
       "    </tr>\n",
       "    <tr>\n",
       "      <th>121</th>\n",
       "      <td>1.0</td>\n",
       "      <td>s37-d29</td>\n",
       "    </tr>\n",
       "    <tr>\n",
       "      <th>122</th>\n",
       "      <td>4.0</td>\n",
       "      <td>s37-d39</td>\n",
       "    </tr>\n",
       "    <tr>\n",
       "      <th>123</th>\n",
       "      <td>2.0</td>\n",
       "      <td>s37-d46</td>\n",
       "    </tr>\n",
       "  </tbody>\n",
       "</table>\n",
       "<p>124 rows × 2 columns</p>\n",
       "</div>"
      ],
      "text/plain": [
       "     median       ID\n",
       "0       0.0  s13-d21\n",
       "1       2.0  s13-d25\n",
       "2       1.0  s13-d28\n",
       "3       3.0  s13-d31\n",
       "4       2.0  s13-d40\n",
       "..      ...      ...\n",
       "119     3.0  s37-d21\n",
       "120     2.0  s37-d25\n",
       "121     1.0  s37-d29\n",
       "122     4.0  s37-d39\n",
       "123     2.0  s37-d46\n",
       "\n",
       "[124 rows x 2 columns]"
      ]
     },
     "execution_count": 28,
     "metadata": {},
     "output_type": "execute_result"
    }
   ],
   "source": [
    "results"
   ]
  },
  {
   "cell_type": "code",
   "execution_count": 30,
   "id": "718facea",
   "metadata": {},
   "outputs": [
    {
     "data": {
      "text/plain": [
       "2.0"
      ]
     },
     "execution_count": 30,
     "metadata": {},
     "output_type": "execute_result"
    }
   ],
   "source": [
    "np.median(results['median'])"
   ]
  },
  {
   "cell_type": "code",
   "execution_count": 32,
   "id": "5a4b5c55",
   "metadata": {},
   "outputs": [],
   "source": [
    "results.to_csv('results/results_cooking_2D_n100_fitted_to_ts_on_2022-05-16.csv', header=True, index=False)"
   ]
  },
  {
   "cell_type": "code",
   "execution_count": null,
   "id": "ea73dfef",
   "metadata": {},
   "outputs": [],
   "source": []
  }
 ],
 "metadata": {
  "kernelspec": {
   "display_name": "Python 3 (ipykernel)",
   "language": "python",
   "name": "python3"
  },
  "language_info": {
   "codemirror_mode": {
    "name": "ipython",
    "version": 3
   },
   "file_extension": ".py",
   "mimetype": "text/x-python",
   "name": "python",
   "nbconvert_exporter": "python",
   "pygments_lexer": "ipython3",
   "version": "3.9.12"
  }
 },
 "nbformat": 4,
 "nbformat_minor": 5
}
