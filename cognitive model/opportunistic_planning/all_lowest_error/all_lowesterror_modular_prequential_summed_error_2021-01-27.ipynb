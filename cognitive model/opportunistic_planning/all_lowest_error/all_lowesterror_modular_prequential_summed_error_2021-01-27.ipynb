{
 "cells": [
  {
   "cell_type": "code",
   "execution_count": 43,
   "metadata": {},
   "outputs": [
    {
     "data": {
      "text/plain": [
       "<module 'opportunistic_planning.sequence' from '/home/zauri/files/anaconda3/lib/python3.7/site-packages/opportunistic_planning/sequence.py'>"
      ]
     },
     "execution_count": 43,
     "metadata": {},
     "output_type": "execute_result"
    }
   ],
   "source": [
    "import pandas as pd\n",
    "import numpy as np\n",
    "import matplotlib\n",
    "import matplotlib.pyplot as plt\n",
    "import ast\n",
    "\n",
    "from fastDamerauLevenshtein import damerauLevenshtein\n",
    "from opportunistic_planning import data, sequence\n",
    "from imp import reload\n",
    "from scipy.stats import friedmanchisquare, wilcoxon\n",
    "reload(data)\n",
    "reload(sequence)"
   ]
  },
  {
   "cell_type": "code",
   "execution_count": null,
   "metadata": {},
   "outputs": [],
   "source": []
  },
  {
   "cell_type": "code",
   "execution_count": 40,
   "metadata": {},
   "outputs": [],
   "source": [
    "# read data\n",
    "\n",
    "df = pd.read_csv('all_task_environments_2021-01-26.csv', header=0)"
   ]
  },
  {
   "cell_type": "code",
   "execution_count": 44,
   "metadata": {},
   "outputs": [
    {
     "name": "stdout",
     "output_type": "stream",
     "text": [
      "CPU times: user 973 ms, sys: 12.1 ms, total: 985 ms\n",
      "Wall time: 963 ms\n"
     ]
    }
   ],
   "source": [
    "# dict generation ~1 sec\n",
    "\n",
    "%time distances_dict = data.generate_distances_dict(df)"
   ]
  },
  {
   "cell_type": "code",
   "execution_count": null,
   "metadata": {},
   "outputs": [],
   "source": [
    "# n=1: ~4min\n",
    "# n=10: ~15min\n",
    "# n050: ~1h\n",
    "# n=100: 2h 4min\n",
    "%time results_new, results_sum = data.calculate_edit_distances_prequential(df, distances_dict=distances_dict, n=10)"
   ]
  },
  {
   "cell_type": "code",
   "execution_count": null,
   "metadata": {},
   "outputs": [],
   "source": [
    "results_new"
   ]
  },
  {
   "cell_type": "code",
   "execution_count": null,
   "metadata": {},
   "outputs": [],
   "source": []
  },
  {
   "cell_type": "code",
   "execution_count": 172,
   "metadata": {},
   "outputs": [],
   "source": [
    "#results_new.T.to_csv('results/results_all_n50_2021-01-26.csv', header=True, index=True)"
   ]
  },
  {
   "cell_type": "code",
   "execution_count": 16,
   "metadata": {},
   "outputs": [
    {
     "data": {
      "text/plain": [
       "(0.9500310507393838,\n",
       " Index(['c: 1.8; k: 0.3,0.4,1.5; xyz'], dtype='object'),\n",
       " 0.9500000000000002)"
      ]
     },
     "execution_count": 16,
     "metadata": {},
     "output_type": "execute_result"
    }
   ],
   "source": [
    "lowest_sum, lowest_idx_sum, lowest_median_sum, list_mean_sum, results_mean_sum = data.get_lowest_error(results_sum)\n",
    "lowest_sum, lowest_idx_sum, lowest_median_sum"
   ]
  },
  {
   "cell_type": "code",
   "execution_count": 6,
   "metadata": {},
   "outputs": [
    {
     "data": {
      "text/plain": [
       "(0.12962064464873463,\n",
       " Index(['c: 1.1; k: 0.0,0.1,1.8; xyz'], dtype='object'),\n",
       " 0.125)"
      ]
     },
     "execution_count": 6,
     "metadata": {},
     "output_type": "execute_result"
    }
   ],
   "source": [
    "lowest, lowest_idx, lowest_median, list_mean, results_mean = data.get_lowest_error(results_new)\n",
    "lowest, lowest_idx, lowest_median"
   ]
  },
  {
   "cell_type": "markdown",
   "metadata": {},
   "source": [
    "### Plot dimensions"
   ]
  },
  {
   "cell_type": "code",
   "execution_count": 13,
   "metadata": {},
   "outputs": [],
   "source": [
    "# Define input for plots\n",
    "\n",
    "c = [float(x[3:6]) for x in results_new.columns.tolist() if x != 'sequence' and x != 'ID' and x != 'error']\n",
    "k = [float(x[11:14]) for x in results_new.columns.tolist() if x != 'sequence' and x != 'ID' and x != 'error']\n",
    "dim = [x.strip() for x in results_new.columns[:-3].str.split(';').str[2]]\n",
    "median = [x for x in results_mean.loc['mean'].tolist() if pd.notnull(x)]"
   ]
  },
  {
   "cell_type": "code",
   "execution_count": 14,
   "metadata": {},
   "outputs": [
    {
     "name": "stderr",
     "output_type": "stream",
     "text": [
      "/home/zauri/files/anaconda3/lib/python3.7/site-packages/ipykernel_launcher.py:38: UserWarning: FixedFormatter should only be used together with FixedLocator\n"
     ]
    }
   ],
   "source": [
    "%matplotlib qt\n",
    "\n",
    "#cm = ['red','blue','green','magenta','cyan','orange','grey']\n",
    "cm = ['#e74c3c', '#0064a3', '#70b85d', '#287d78', '#54d0ff', '#f1e664', '#fd8f00']\n",
    "dim_num = [0 if x=='x' else 1 if x=='y' else 2 if x=='z' else 3 if x=='xy' else 4 if x=='xz' else 5 if x=='yz' else 6 for x in dim]\n",
    "\n",
    "cmap = matplotlib.colors.ListedColormap(cm)\n",
    "\n",
    "ticks = ['x', 'y', 'z', 'xy', 'xz', 'yz', 'xyz']\n",
    "norm = matplotlib.colors.BoundaryNorm(ticks, cmap.N)\n",
    "\n",
    "# create figure, 3d grid, set background to white\n",
    "fig2 = plt.figure(figsize=(12,8))\n",
    "ax2 = fig2.add_subplot(111, projection='3d')\n",
    "ax2.w_xaxis.set_pane_color((1.0,1.0,1.0,1.0))\n",
    "ax2.w_yaxis.set_pane_color((1.0,1.0,1.0,1.0))\n",
    "ax2.w_zaxis.set_pane_color((1.0,1.0,1.0,1.0))\n",
    "\n",
    "# create plot w/ median edit distance\n",
    "img = ax2.scatter(c, k, median, alpha=0.5, s=38, c=dim_num, cmap=cmap)\n",
    "\n",
    "# plot horizontal plane for baseline\n",
    "xx, yy = np.meshgrid(np.linspace(1,1.9), np.linspace(0,0.9))\n",
    "#yy = np.meshgrid(range(2), range(2))\n",
    "zz = xx * 0 + np.mean(rnn)\n",
    "ax2.plot_surface(xx, yy, zz, alpha=0.5)\n",
    "\n",
    "# set labels\n",
    "ax2.set_ylabel('parameter k', fontsize=20, labelpad=10)\n",
    "ax2.set_xlabel('parameter c', fontsize=20, labelpad=10)\n",
    "ax2.set_zlabel('normalized edit distance', fontsize=20, labelpad=7)\n",
    "#plt.title('Average edit distance (1 step)', fontsize=24)\n",
    "\n",
    "# create colorbar\n",
    "cb = plt.colorbar(img, cax = fig2.add_axes([0.82,0.3,0.03,0.4]))\n",
    "cb.set_alpha(0.8)\n",
    "cb.draw_all()\n",
    "cb.ax.set_yticklabels(ticks, fontsize=16)\n",
    "plt.show()\n",
    "\n",
    "#plt.gca().xaxis.set_major_locator(plt.NullLocator())\n",
    "#plt.gca().yaxis.set_major_locator(plt.NullLocator())\n",
    "#plt.savefig('figures/test.svg', format='svg', bbox_inches='tight', pad_inches = 0)"
   ]
  },
  {
   "cell_type": "code",
   "execution_count": 18,
   "metadata": {},
   "outputs": [],
   "source": [
    "cpt = [0.25, 0.16666666666666663, 0.13392857142857145, 0.10555555555555557, 0.15476190476190477, 0.26666666666666666, 0.25, 0.22499999999999998, 0.125, 0.1833333333333333, 0.1428571428571429, 0.1428571428571429, 0.11805555555555558, 0.25, 0.25, 0.25, 0.15476190476190477, 0.25, 0.11111111111111116, 0.09545454545454546, 0.13392857142857145, 0.19999999999999996, 0.11249999999999999, 0.09545454545454546, 0.19999999999999996, 0.16666666666666663, 0.11111111111111116, 0.1833333333333333, 0.22499999999999998, 0.26666666666666666, 0.1428571428571429, 0.10555555555555557, 0.14583333333333331, 0.16666666666666663, 0.22499999999999998, 0.1428571428571429, 0.14583333333333331, 0.19999999999999996, 0.14583333333333331, 0.25, 0.16666666666666663, 0.2916666666666667, 0.1428571428571429, 0.20833333333333331, 0.16666666666666663, 0.25, 0.26666666666666666, 0.15476190476190477, 0.19999999999999996, 0.16666666666666663, 0.25, 0.22499999999999998, 0.10555555555555557, 0.22499999999999998, 0.19999999999999996, 0.14583333333333331, 0.1833333333333333, 0.22499999999999998, 0.1428571428571429, 0.2916666666666667, 0.33333333333333337, 0.13392857142857145, 0.5, 0.22499999999999998, 0.19999999999999996, 0.26666666666666666, 0.10555555555555557, 0.13392857142857145, 0.19999999999999996, 0.15476190476190477, 0.19999999999999996, 0.25, 0.1428571428571429, 0.16666666666666663, 0.14583333333333331, 0.13392857142857145, 0.13392857142857145, 0.22499999999999998, 0.12698412698412703, 0.16666666666666663, 0.2916666666666667, 0.2916666666666667, 0.2916666666666667, 0.2916666666666667, 0.4166666666666667, 0.2916666666666667, 0.33333333333333337, 0.25, 0.4166666666666667, 0.4166666666666667, 0.2916666666666667, 0.25, 0.33333333333333337, 0.1833333333333333, 0.25, 0.1428571428571429, 0.2916666666666667, 0.5, 0.19999999999999996, 0.2916666666666667, 0.16666666666666663, 0.16666666666666663, 0.19999999999999996, 0.16666666666666663, 0.16666666666666663, 0.16666666666666663, 0.16666666666666663, 0.16666666666666663, 0.16666666666666663, 0.16666666666666663, 0.16666666666666663, 0.16666666666666663, 0.16666666666666663, 0.16666666666666663, 0.19999999999999996, 0.16666666666666663, 0.16666666666666663, 0.19999999999999996, 0.16666666666666663, 0.19999999999999996, 0.19999999999999996, 0.16666666666666663, 0.16666666666666663, 0.16666666666666663, 0.16666666666666663, 0.16666666666666663, 0.16666666666666663, 0.16666666666666663, 0.16666666666666663, 0.16666666666666663, 0.16666666666666663, 0.19999999999999996, 0.19999999999999996, 0.19999999999999996, 0.16666666666666663, 0.19999999999999996, 0.16666666666666663, 0.16666666666666663, 0.16666666666666663, 0.19999999999999996, 0.16666666666666663, 0.19999999999999996, 0.19999999999999996, 0.16666666666666663, 0.19999999999999996, 0.16666666666666663, 0.16666666666666663, 0.16666666666666663, 0.19999999999999996, 0.16666666666666663, 0.16666666666666663, 0.16666666666666663, 0.16666666666666663, 0.16666666666666663, 0.16666666666666663, 0.16666666666666663, 0.16666666666666663, 0.16666666666666663, 0.16666666666666663, 0.16666666666666663, 0.16666666666666663, 0.16666666666666663, 0.16666666666666663, 0.16666666666666663, 0.16666666666666663, 0.16666666666666663, 0.16666666666666663, 0.16666666666666663, 0.22499999999999998, 0.20833333333333331, 0.19999999999999996, 0.19999999999999996, 0.19999999999999996, 0.19999999999999996, 0.19999999999999996, 0.19999999999999996, 0.19999999999999996, 0.19999999999999996, 0.19999999999999996, 0.19999999999999996]"
   ]
  },
  {
   "cell_type": "code",
   "execution_count": 17,
   "metadata": {},
   "outputs": [],
   "source": [
    "rnn = [0.19999999999999996, 0.16666666666666663, 0.13392857142857145, 0.10101010101010105, 0.13392857142857145, 0.09999999999999998, 0.0, 0.125, 0.125, 0.11805555555555558, 0.09999999999999998, 0.1428571428571429, 0.09545454545454546, 0.19999999999999996, 0.25, 0.19999999999999996, 0.10101010101010105, 0.0, 0.09999999999999998, 0.08712121212121215, 0.11805555555555558, 0.19999999999999996, 0.08712121212121215, 0.0839160839160839, 0.1428571428571429, 0.16666666666666663, 0.0, 0.15476190476190477, 0.22499999999999998, 0.09999999999999998, 0.1428571428571429, 0.10555555555555557, 0.15476190476190477, 0.16666666666666663, 0.09999999999999998, 0.125, 0.12698412698412703, 0.16666666666666663, 0.10555555555555557, 0.0, 0.25, 0.2916666666666667, 0.125, 0.20833333333333331, 0.11111111111111116, 0.33333333333333337, 0.26666666666666666, 0.13392857142857145, 0.16666666666666663, 0.16666666666666663, 0.19999999999999996, 0.26666666666666666, 0.10101010101010105, 0.0, 0.16666666666666663, 0.1388888888888889, 0.0, 0.15476190476190477, 0.09999999999999998, 0.2916666666666667, 0.33333333333333337, 0.08012820512820512, 0.5, 0.22499999999999998, 0.0, 0.22499999999999998, 0.08712121212121215, 0.11805555555555558, 0.1428571428571429, 0.1833333333333333, 0.125, 0.33333333333333337, 0.125, 0.1428571428571429, 0.11805555555555558, 0.08012820512820512, 0.13392857142857145, 0.22499999999999998, 0.0, 0.1428571428571429, 0.09999999999999998, 0.22499999999999998, 0.09999999999999998, 0.2916666666666667, 0.4166666666666667, 0.09999999999999998, 0.33333333333333337, 0.25, 0.4166666666666667, 0.4166666666666667, 0.2916666666666667, 0.25, 0.33333333333333337, 0.1833333333333333, 0.25, 0.1428571428571429, 0.2916666666666667, 0.5, 0.25, 0.2916666666666667, 0.19999999999999996, 0.19999999999999996, 0.19999999999999996, 0.19999999999999996, 0.1428571428571429, 0.0, 0.19999999999999996, 0.0, 0.125, 0.125, 0.19999999999999996, 0.16666666666666663, 0.0, 0.0, 0.1428571428571429, 0.16666666666666663, 0.16666666666666663, 0.19999999999999996, 0.1428571428571429, 0.1428571428571429, 0.16666666666666663, 0.16666666666666663, 0.0, 0.16666666666666663, 0.19999999999999996, 0.16666666666666663, 0.19999999999999996, 0.16666666666666663, 0.19999999999999996, 0.125, 0.16666666666666663, 0.16666666666666663, 0.16666666666666663, 0.19999999999999996, 0.1428571428571429, 0.19999999999999996, 0.125, 0.19999999999999996, 0.125, 0.0, 0.16666666666666663, 0.1428571428571429, 0.0, 0.19999999999999996, 0.16666666666666663, 0.19999999999999996, 0.0, 0.16666666666666663, 0.1428571428571429, 0.125, 0.16666666666666663, 0.1428571428571429, 0.0, 0.0, 0.0, 0.0, 0.0, 0.0, 0.16666666666666663, 0.16666666666666663, 0.0, 0.0, 0.0, 0.16666666666666663, 0.0, 0.16666666666666663, 0.16666666666666663, 0.1428571428571429, 0.2916666666666667, 0.08333333333333331, 0.25, 0.0, 0.25, 0.19999999999999996, 0.25, 0.0, 0.25, 0.19999999999999996, 0.0, 0.25]"
   ]
  },
  {
   "cell_type": "code",
   "execution_count": 149,
   "metadata": {},
   "outputs": [
    {
     "data": {
      "text/plain": [
       "(180, 180)"
      ]
     },
     "execution_count": 149,
     "metadata": {},
     "output_type": "execute_result"
    }
   ],
   "source": [
    "len(cpt), len(rnn)"
   ]
  },
  {
   "cell_type": "code",
   "execution_count": null,
   "metadata": {},
   "outputs": [],
   "source": []
  },
  {
   "cell_type": "markdown",
   "metadata": {},
   "source": [
    "### Plot best model with baselines"
   ]
  },
  {
   "cell_type": "code",
   "execution_count": 39,
   "metadata": {},
   "outputs": [],
   "source": [
    "#%matplotlib inline\n",
    "%matplotlib qt\n",
    "\n",
    "IDs = df['ID']\n",
    "\n",
    "error = df['error']\n",
    "\n",
    "seqs= results_new['sequence'][:-2].values\n",
    "\n",
    "res = results_new['c: 1.8; k: 0.3,0.4,1.6; xyz'][:-2].values\n",
    "median = [np.nanmedian(res)] * len(res)\n",
    "\n",
    "x = [x for x in range (0,len(seqs))]\n",
    "\n",
    "# plot CPT baseline\n",
    "plt.scatter(x, cpt, marker='o', s=20, c='dodgerblue', alpha=0.3, \n",
    "            label=str('CPT baseline median: ') + str(round(np.median(cpt),3)))\n",
    "plt.plot(x, [np.median(cpt)] * len(x), '-', c='dodgerblue', alpha=0.8)\n",
    "#plt.plot((x_original,x_original),(res_original,distances), '--', c='darkgreen', alpha=0.6)\n",
    "plt.fill_between(x, cpt, alpha=0.3, color='dodgerblue')\n",
    "\n",
    "\n",
    "# plot RNN baseline\n",
    "plt.scatter(x, rnn, marker='o', s=20, c='limegreen', alpha=0.5, \n",
    "            label=str('RNN baseline median: ') + str(round(np.median(rnn),3)))\n",
    "plt.plot(x, [np.median(rnn)] * len(x), '-', c='green', alpha=0.8)\n",
    "#plt.plot((x_original,x_original),(res_original,distances), '--', c='darkgreen', alpha=0.6)\n",
    "plt.fill_between(x, rnn, alpha=0.3, color='limegreen')\n",
    "\n",
    "# plot random baseline\n",
    "#plt.scatter(x, error, c='red', s=20, marker='o', alpha=0.3, \n",
    "#            label=str('guessing baseline median: ') + str(round(np.nanmedian(results_new['error']),3)))\n",
    "#plt.plot(x, [np.median(error)] * len(x), c='red', alpha=0.8)#, \n",
    "         #label=str('guessing baseline avg.: ' + str(round(np.mean(results_original['error']),2))))\n",
    "#plt.fill_between(x, error, [1.0 * len(error)], color='red', alpha=0.2)\n",
    "\n",
    "# plot scatter + lines for simulations\n",
    "plt.plot(x, median, c='navy', alpha=0.8)\n",
    "plt.scatter(x, res, marker='o', s=20, c='navy', alpha=0.6, \n",
    "            label=str('model-generated median: ') + str(round(lowest_median,3)))\n",
    "#plt.plot(x, res, c='blue', alpha=0.6)\n",
    "\n",
    "\n",
    "\n",
    "plt.xticks(x, labels=IDs, rotation=90, fontsize=5)\n",
    "#plt.xticklabels(IDs, rotation=90, fontsize=6)\n",
    "\n",
    "plt.ylabel('normalized edit distance', fontsize=22)\n",
    "plt.xlabel('sequence', fontsize=22)\n",
    "plt.ylim(0.0, 0.9)\n",
    "plt.title('best model (all), c:1.8; k: 0.3,0.4,1.6; xyz', fontsize=26)\n",
    "\n",
    "plt.legend(fontsize=20, framealpha=0.8, loc='upper right')\n",
    "\n",
    "#plt.savefig('plot_median_editdist_individualerrors_diff.png', bbox_inches='tight')\n",
    "plt.show()"
   ]
  },
  {
   "cell_type": "markdown",
   "metadata": {},
   "source": [
    "### Prep data for stat analysis"
   ]
  },
  {
   "cell_type": "code",
   "execution_count": 10,
   "metadata": {},
   "outputs": [
    {
     "name": "stdout",
     "output_type": "stream",
     "text": [
      "Average xy: 0.1433286186578947, stdev: 0.008542730502710965, median: 0.13875989023460944\n",
      "Average xyz: 0.1432381004174077, stdev: 0.009093404384248481, median: 0.13829071209689198\n"
     ]
    }
   ],
   "source": [
    "# Compare avg edit distance for xy and xyz\n",
    "list_xy = []\n",
    "list_xyz = []\n",
    "\n",
    "for col in results_mean:\n",
    "    if col != 'sequence' and col != 'ID' and col != 'error' and col.split(';')[2].strip() == 'xy':\n",
    "        list_xy.append(results_mean.at['mean',col])\n",
    "    elif col != 'sequence' and col != 'ID' and col != 'error' and col.split(';')[2].strip() == 'xyz':\n",
    "        list_xyz.append(results_mean.at['mean',col])\n",
    "        \n",
    "avg_xy = np.mean(list_xy)\n",
    "med_xy = np.median(list_xy)\n",
    "std_xy = np.std(list_xy)\n",
    "print('Average xy: ' + str(avg_xy)  + ', stdev: ' + str(std_xy) + ', median: ' + str(med_xy))\n",
    "        \n",
    "avg_xyz = np.mean(list_xyz)\n",
    "med_xyz = np.median(list_xyz)\n",
    "std_xyz = np.std(list_xyz)\n",
    "print('Average xyz: ' + str(avg_xyz) + ', stdev: ' + str(std_xyz) + ', median: ' + str(med_xyz))"
   ]
  },
  {
   "cell_type": "code",
   "execution_count": 152,
   "metadata": {},
   "outputs": [
    {
     "name": "stdout",
     "output_type": "stream",
     "text": [
      "Average x: 0.16380723404694258, min: 0.1584050345414325\n",
      "Average y: 0.15687516172294916, min: 0.1487791892136648\n",
      "Average z: 0.16623977810070703, min: 0.15877037964128035\n",
      "Average xz: 0.1563376829690196\n",
      "Average yz: 0.1555665467817485\n"
     ]
    }
   ],
   "source": [
    "# Compare avg edit distances for x, y, z\n",
    "list_x = []\n",
    "list_y = []\n",
    "list_z = []\n",
    "list_xz = []\n",
    "list_yz = []\n",
    "\n",
    "for col in results_mean:\n",
    "    if col != 'sequence' and col != 'ID' and col != 'error' and col.split(';')[2].strip() == 'x':\n",
    "        list_x.append(results_mean.at['mean',col])\n",
    "    elif col != 'sequence' and col != 'ID' and col != 'error' and col.split(';')[2].strip() == 'y':\n",
    "        list_y.append(results_mean.at['mean',col])\n",
    "    elif col != 'sequence' and col != 'ID' and col != 'error' and col.split(';')[2].strip() == 'z':\n",
    "        list_z.append(results_mean.at['mean',col])\n",
    "    elif col != 'sequence' and col != 'ID' and col != 'error' and col.split(';')[2].strip() == 'xz':\n",
    "        list_xz.append(results_mean.at['mean',col])\n",
    "    elif col != 'sequence' and col != 'ID' and col != 'error' and col.split(';')[2].strip() == 'yz':\n",
    "        list_yz.append(results_mean.at['mean',col])\n",
    "\n",
    "avg_xz = np.mean(list_xz)\n",
    "avg_yz = np.mean(list_yz)\n",
    "        \n",
    "avg_x = np.mean(list_x)\n",
    "lowest_x = min(list_x)\n",
    "print('Average x: ' + str(avg_x) + ', min: ' + str(lowest_x)) \n",
    "        \n",
    "avg_y = np.mean(list_y)\n",
    "lowest_y = min(list_y)\n",
    "print('Average y: ' + str(avg_y) + ', min: ' + str(lowest_y)) \n",
    "        \n",
    "avg_z = np.mean(list_z)\n",
    "lowest_z = min(list_z)\n",
    "print('Average z: ' + str(avg_z) + ', min: ' + str(lowest_z)) \n",
    "\n",
    "print('Average xz: ' + str(avg_xz)) \n",
    "print('Average yz: ' + str(avg_yz)) "
   ]
  },
  {
   "cell_type": "code",
   "execution_count": 153,
   "metadata": {},
   "outputs": [
    {
     "name": "stdout",
     "output_type": "stream",
     "text": [
      "Friedman: stat = 3493.810, p =  0.000E+00\n"
     ]
    }
   ],
   "source": [
    "# Compare all error predictions for dimensions\n",
    "stat, p = friedmanchisquare(list_x,list_y,list_z,list_xy,list_xz,list_yz,list_xyz)\n",
    "print('Friedman: stat = %.3f, p = % 10.3E' % (stat, p))"
   ]
  },
  {
   "cell_type": "code",
   "execution_count": 154,
   "metadata": {},
   "outputs": [
    {
     "name": "stdout",
     "output_type": "stream",
     "text": [
      "Wilcoxon: W = 82197.000, p = 0.00000\n"
     ]
    }
   ],
   "source": [
    "# 2D vs 3D median\n",
    "stat, p = wilcoxon(list_xy, list_xyz, zero_method='wilcox')\n",
    "print('Wilcoxon: W = %.3f, p = %.5f' % (stat, p))"
   ]
  },
  {
   "cell_type": "code",
   "execution_count": null,
   "metadata": {},
   "outputs": [],
   "source": []
  }
 ],
 "metadata": {
  "kernelspec": {
   "display_name": "Python 3",
   "language": "python",
   "name": "python3"
  },
  "language_info": {
   "codemirror_mode": {
    "name": "ipython",
    "version": 3
   },
   "file_extension": ".py",
   "mimetype": "text/x-python",
   "name": "python",
   "nbconvert_exporter": "python",
   "pygments_lexer": "ipython3",
   "version": "3.7.7"
  }
 },
 "nbformat": 4,
 "nbformat_minor": 4
}
