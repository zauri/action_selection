{
 "cells": [
  {
   "cell_type": "code",
   "execution_count": 19,
   "id": "b1855b6e",
   "metadata": {},
   "outputs": [],
   "source": [
    "import ast\n",
    "import pandas as pd\n",
    "import matplotlib.pyplot as plt\n",
    "import seaborn as sns"
   ]
  },
  {
   "cell_type": "markdown",
   "id": "e0f10bae",
   "metadata": {},
   "source": [
    "### read in results"
   ]
  },
  {
   "cell_type": "code",
   "execution_count": 113,
   "id": "7bcad957",
   "metadata": {},
   "outputs": [],
   "source": [
    "model_cleaning = pd.read_csv('../results/results_cleaning_2D_n100_fitted_to_ts_2023-01-20.csv', header=0)\n",
    "model_cooking = pd.read_csv('../results/results_tablesetting_cooking_2D_n100_fitted_to_ts_on_2023-01-20.csv')\n",
    "model_ts = pd.read_csv('../results/results_tablesetting_2D_n100_fitted_to_ts_2023-06-22.csv')"
   ]
  },
  {
   "cell_type": "code",
   "execution_count": 114,
   "id": "c62623b8",
   "metadata": {},
   "outputs": [],
   "source": [
    "with open ('../../../model_evaluation/neural_net/results/nn_spatialinfo_prequential_summed_fitted_on_ts_results_cleaning_2022-10-11.txt', 'r') as file:\n",
    "    nn_results_cleaning = ast.literal_eval(file.read())\n",
    "with open ('../../../model_evaluation/neural_net/results/nn_spatialinfo_prequential_summed_fitted_on_ts_results_cooking_2022-05-10.txt', 'r') as file:\n",
    "    nn_results_cooking = ast.literal_eval(file.read())\n",
    "with open ('../../../model_evaluation/neural_net/results/nn_spatialinfo_prequential_summed_fitted_on_ts_results_all_2022-06-07.txt', 'r') as file:\n",
    "    nn_results_ts = ast.literal_eval(file.read())"
   ]
  },
  {
   "cell_type": "code",
   "execution_count": 115,
   "id": "19e1c527",
   "metadata": {},
   "outputs": [],
   "source": [
    "with open ('../../../model_evaluation/neural_net/results/pytorch_rnn_prequential_summed_fitted_ts_cleaning_2022-10-11.txt', 'r') as file:\n",
    "    rnn_results_cleaning = ast.literal_eval(file.read())\n",
    "with open ('../../../model_evaluation/neural_net/results/pytorch_rnn_prequential_summed_fitted_on_ts_results_cooking_2022-06-09.txt', 'r') as file:\n",
    "    rnn_results_cooking = ast.literal_eval(file.read())\n",
    "with open ('../../../model_evaluation/neural_net/results/pytorch_rnn_prequential_summed_fitted_on_ts_all_2022-06-29.txt', 'r') as file:\n",
    "    rnn_results_ts = ast.literal_eval(file.read())"
   ]
  },
  {
   "cell_type": "markdown",
   "id": "a614f9d5",
   "metadata": {},
   "source": [
    "### check lengths of files"
   ]
  },
  {
   "cell_type": "code",
   "execution_count": 116,
   "id": "01d8cf44",
   "metadata": {},
   "outputs": [
    {
     "data": {
      "text/plain": [
       "(309, 314, 123)"
      ]
     },
     "execution_count": 116,
     "metadata": {},
     "output_type": "execute_result"
    }
   ],
   "source": [
    "len(model_cooking), len(nn_results_cooking), len(rnn_results_cooking)"
   ]
  },
  {
   "cell_type": "code",
   "execution_count": 117,
   "id": "706eb622",
   "metadata": {},
   "outputs": [
    {
     "data": {
      "text/plain": [
       "(17, 17, 17)"
      ]
     },
     "execution_count": 117,
     "metadata": {},
     "output_type": "execute_result"
    }
   ],
   "source": [
    "len(model_cleaning), len(nn_results_cleaning), len(rnn_results_cleaning)"
   ]
  },
  {
   "cell_type": "code",
   "execution_count": 118,
   "id": "e2202cbe",
   "metadata": {},
   "outputs": [
    {
     "data": {
      "text/plain": [
       "(188, 309, 309)"
      ]
     },
     "execution_count": 118,
     "metadata": {},
     "output_type": "execute_result"
    }
   ],
   "source": [
    "len(model_ts), len(nn_results_ts), len(rnn_results_ts)"
   ]
  },
  {
   "cell_type": "markdown",
   "id": "476baf8f",
   "metadata": {},
   "source": [
    "### data wrangling to throw away unnecessary stuff"
   ]
  },
  {
   "cell_type": "code",
   "execution_count": 125,
   "id": "468bc6b2",
   "metadata": {},
   "outputs": [],
   "source": [
    "model_cooking = model_cooking[186:]"
   ]
  },
  {
   "cell_type": "code",
   "execution_count": 127,
   "id": "cd0bb2f1",
   "metadata": {},
   "outputs": [
    {
     "data": {
      "text/plain": [
       "123"
      ]
     },
     "execution_count": 127,
     "metadata": {},
     "output_type": "execute_result"
    }
   ],
   "source": [
    "len(model_cooking)"
   ]
  },
  {
   "cell_type": "code",
   "execution_count": 131,
   "id": "cfee4675",
   "metadata": {},
   "outputs": [
    {
     "data": {
      "text/html": [
       "<div>\n",
       "<style scoped>\n",
       "    .dataframe tbody tr th:only-of-type {\n",
       "        vertical-align: middle;\n",
       "    }\n",
       "\n",
       "    .dataframe tbody tr th {\n",
       "        vertical-align: top;\n",
       "    }\n",
       "\n",
       "    .dataframe thead th {\n",
       "        text-align: right;\n",
       "    }\n",
       "</style>\n",
       "<table border=\"1\" class=\"dataframe\">\n",
       "  <thead>\n",
       "    <tr style=\"text-align: right;\">\n",
       "      <th></th>\n",
       "      <th>c: 1.0; k: 0.0,0.1,1.1; xy</th>\n",
       "      <th>c: 1.1; k: 0.0,0.1,1.1; xy</th>\n",
       "      <th>c: 1.2; k: 0.0,0.1,1.1; xy</th>\n",
       "      <th>c: 1.3; k: 0.0,0.1,1.1; xy</th>\n",
       "      <th>c: 1.4; k: 0.0,0.1,1.1; xy</th>\n",
       "      <th>c: 1.5; k: 0.0,0.1,1.1; xy</th>\n",
       "      <th>c: 1.6; k: 0.0,0.1,1.1; xy</th>\n",
       "      <th>c: 1.7; k: 0.0,0.1,1.1; xy</th>\n",
       "      <th>c: 1.8; k: 0.0,0.1,1.1; xy</th>\n",
       "      <th>c: 1.9; k: 0.0,0.1,1.1; xy</th>\n",
       "      <th>...</th>\n",
       "      <th>c: 1.2; k: 0.8,0.9,1.9; xy</th>\n",
       "      <th>c: 1.3; k: 0.8,0.9,1.9; xy</th>\n",
       "      <th>c: 1.4; k: 0.8,0.9,1.9; xy</th>\n",
       "      <th>c: 1.5; k: 0.8,0.9,1.9; xy</th>\n",
       "      <th>c: 1.6; k: 0.8,0.9,1.9; xy</th>\n",
       "      <th>c: 1.7; k: 0.8,0.9,1.9; xy</th>\n",
       "      <th>c: 1.8; k: 0.8,0.9,1.9; xy</th>\n",
       "      <th>c: 1.9; k: 0.8,0.9,1.9; xy</th>\n",
       "      <th>error</th>\n",
       "      <th>ID</th>\n",
       "    </tr>\n",
       "  </thead>\n",
       "  <tbody>\n",
       "    <tr>\n",
       "      <th>0</th>\n",
       "      <td>3.000000</td>\n",
       "      <td>3.000000</td>\n",
       "      <td>3.000000</td>\n",
       "      <td>3.000000</td>\n",
       "      <td>3.000000</td>\n",
       "      <td>3.000000</td>\n",
       "      <td>3.000000</td>\n",
       "      <td>3.000000</td>\n",
       "      <td>3.000000</td>\n",
       "      <td>3.000000</td>\n",
       "      <td>...</td>\n",
       "      <td>4.00000</td>\n",
       "      <td>4.000000</td>\n",
       "      <td>4.00000</td>\n",
       "      <td>4.000000</td>\n",
       "      <td>4.00000</td>\n",
       "      <td>4.000000</td>\n",
       "      <td>4.000000</td>\n",
       "      <td>4.000000</td>\n",
       "      <td>0.723</td>\n",
       "      <td>a1</td>\n",
       "    </tr>\n",
       "    <tr>\n",
       "      <th>1</th>\n",
       "      <td>6.000000</td>\n",
       "      <td>6.000000</td>\n",
       "      <td>6.000000</td>\n",
       "      <td>6.000000</td>\n",
       "      <td>6.000000</td>\n",
       "      <td>6.000000</td>\n",
       "      <td>6.000000</td>\n",
       "      <td>6.000000</td>\n",
       "      <td>6.000000</td>\n",
       "      <td>6.000000</td>\n",
       "      <td>...</td>\n",
       "      <td>7.00000</td>\n",
       "      <td>7.000000</td>\n",
       "      <td>7.00000</td>\n",
       "      <td>7.000000</td>\n",
       "      <td>7.00000</td>\n",
       "      <td>7.000000</td>\n",
       "      <td>7.000000</td>\n",
       "      <td>7.000000</td>\n",
       "      <td>0.785</td>\n",
       "      <td>a3</td>\n",
       "    </tr>\n",
       "    <tr>\n",
       "      <th>2</th>\n",
       "      <td>6.000000</td>\n",
       "      <td>6.000000</td>\n",
       "      <td>6.000000</td>\n",
       "      <td>6.000000</td>\n",
       "      <td>6.000000</td>\n",
       "      <td>6.000000</td>\n",
       "      <td>6.000000</td>\n",
       "      <td>6.000000</td>\n",
       "      <td>6.000000</td>\n",
       "      <td>6.000000</td>\n",
       "      <td>...</td>\n",
       "      <td>4.00000</td>\n",
       "      <td>4.000000</td>\n",
       "      <td>4.00000</td>\n",
       "      <td>4.000000</td>\n",
       "      <td>4.00000</td>\n",
       "      <td>4.000000</td>\n",
       "      <td>4.000000</td>\n",
       "      <td>4.000000</td>\n",
       "      <td>0.806</td>\n",
       "      <td>a5</td>\n",
       "    </tr>\n",
       "    <tr>\n",
       "      <th>3</th>\n",
       "      <td>9.000000</td>\n",
       "      <td>9.000000</td>\n",
       "      <td>9.000000</td>\n",
       "      <td>9.000000</td>\n",
       "      <td>9.000000</td>\n",
       "      <td>9.000000</td>\n",
       "      <td>9.000000</td>\n",
       "      <td>9.000000</td>\n",
       "      <td>9.000000</td>\n",
       "      <td>9.000000</td>\n",
       "      <td>...</td>\n",
       "      <td>7.00000</td>\n",
       "      <td>7.000000</td>\n",
       "      <td>7.00000</td>\n",
       "      <td>7.000000</td>\n",
       "      <td>7.00000</td>\n",
       "      <td>7.000000</td>\n",
       "      <td>7.000000</td>\n",
       "      <td>7.000000</td>\n",
       "      <td>0.862</td>\n",
       "      <td>a11</td>\n",
       "    </tr>\n",
       "    <tr>\n",
       "      <th>4</th>\n",
       "      <td>6.000000</td>\n",
       "      <td>6.000000</td>\n",
       "      <td>6.000000</td>\n",
       "      <td>6.000000</td>\n",
       "      <td>6.000000</td>\n",
       "      <td>6.000000</td>\n",
       "      <td>6.000000</td>\n",
       "      <td>6.000000</td>\n",
       "      <td>6.000000</td>\n",
       "      <td>6.000000</td>\n",
       "      <td>...</td>\n",
       "      <td>6.00000</td>\n",
       "      <td>6.000000</td>\n",
       "      <td>6.00000</td>\n",
       "      <td>6.000000</td>\n",
       "      <td>6.00000</td>\n",
       "      <td>6.000000</td>\n",
       "      <td>6.000000</td>\n",
       "      <td>6.000000</td>\n",
       "      <td>0.806</td>\n",
       "      <td>a13</td>\n",
       "    </tr>\n",
       "    <tr>\n",
       "      <th>...</th>\n",
       "      <td>...</td>\n",
       "      <td>...</td>\n",
       "      <td>...</td>\n",
       "      <td>...</td>\n",
       "      <td>...</td>\n",
       "      <td>...</td>\n",
       "      <td>...</td>\n",
       "      <td>...</td>\n",
       "      <td>...</td>\n",
       "      <td>...</td>\n",
       "      <td>...</td>\n",
       "      <td>...</td>\n",
       "      <td>...</td>\n",
       "      <td>...</td>\n",
       "      <td>...</td>\n",
       "      <td>...</td>\n",
       "      <td>...</td>\n",
       "      <td>...</td>\n",
       "      <td>...</td>\n",
       "      <td>...</td>\n",
       "      <td>...</td>\n",
       "    </tr>\n",
       "    <tr>\n",
       "      <th>183</th>\n",
       "      <td>2.000000</td>\n",
       "      <td>2.000000</td>\n",
       "      <td>3.000000</td>\n",
       "      <td>3.000000</td>\n",
       "      <td>2.000000</td>\n",
       "      <td>2.000000</td>\n",
       "      <td>3.000000</td>\n",
       "      <td>3.000000</td>\n",
       "      <td>2.000000</td>\n",
       "      <td>2.000000</td>\n",
       "      <td>...</td>\n",
       "      <td>2.00000</td>\n",
       "      <td>3.000000</td>\n",
       "      <td>2.50000</td>\n",
       "      <td>2.000000</td>\n",
       "      <td>2.00000</td>\n",
       "      <td>2.000000</td>\n",
       "      <td>2.500000</td>\n",
       "      <td>2.000000</td>\n",
       "      <td>0.723</td>\n",
       "      <td>v7</td>\n",
       "    </tr>\n",
       "    <tr>\n",
       "      <th>184</th>\n",
       "      <td>3.500000</td>\n",
       "      <td>4.000000</td>\n",
       "      <td>3.500000</td>\n",
       "      <td>3.000000</td>\n",
       "      <td>3.000000</td>\n",
       "      <td>3.000000</td>\n",
       "      <td>3.000000</td>\n",
       "      <td>3.000000</td>\n",
       "      <td>3.000000</td>\n",
       "      <td>4.000000</td>\n",
       "      <td>...</td>\n",
       "      <td>4.00000</td>\n",
       "      <td>4.000000</td>\n",
       "      <td>3.00000</td>\n",
       "      <td>4.000000</td>\n",
       "      <td>3.00000</td>\n",
       "      <td>4.000000</td>\n",
       "      <td>4.000000</td>\n",
       "      <td>3.000000</td>\n",
       "      <td>0.723</td>\n",
       "      <td>v8</td>\n",
       "    </tr>\n",
       "    <tr>\n",
       "      <th>185</th>\n",
       "      <td>2.000000</td>\n",
       "      <td>2.000000</td>\n",
       "      <td>2.000000</td>\n",
       "      <td>3.000000</td>\n",
       "      <td>2.000000</td>\n",
       "      <td>2.000000</td>\n",
       "      <td>2.000000</td>\n",
       "      <td>2.000000</td>\n",
       "      <td>3.000000</td>\n",
       "      <td>3.000000</td>\n",
       "      <td>...</td>\n",
       "      <td>2.00000</td>\n",
       "      <td>2.000000</td>\n",
       "      <td>3.00000</td>\n",
       "      <td>3.000000</td>\n",
       "      <td>2.00000</td>\n",
       "      <td>2.000000</td>\n",
       "      <td>3.000000</td>\n",
       "      <td>3.000000</td>\n",
       "      <td>0.723</td>\n",
       "      <td>v9</td>\n",
       "    </tr>\n",
       "    <tr>\n",
       "      <th>186</th>\n",
       "      <td>4.180108</td>\n",
       "      <td>4.139785</td>\n",
       "      <td>4.137097</td>\n",
       "      <td>4.137097</td>\n",
       "      <td>4.096774</td>\n",
       "      <td>4.142473</td>\n",
       "      <td>4.147849</td>\n",
       "      <td>4.150538</td>\n",
       "      <td>4.123656</td>\n",
       "      <td>4.155914</td>\n",
       "      <td>...</td>\n",
       "      <td>4.63172</td>\n",
       "      <td>4.615591</td>\n",
       "      <td>4.66129</td>\n",
       "      <td>4.602151</td>\n",
       "      <td>4.61828</td>\n",
       "      <td>4.642473</td>\n",
       "      <td>4.629032</td>\n",
       "      <td>4.634409</td>\n",
       "      <td>NaN</td>\n",
       "      <td>NaN</td>\n",
       "    </tr>\n",
       "    <tr>\n",
       "      <th>187</th>\n",
       "      <td>4.000000</td>\n",
       "      <td>4.000000</td>\n",
       "      <td>4.000000</td>\n",
       "      <td>4.000000</td>\n",
       "      <td>4.000000</td>\n",
       "      <td>4.000000</td>\n",
       "      <td>4.000000</td>\n",
       "      <td>4.000000</td>\n",
       "      <td>4.000000</td>\n",
       "      <td>4.000000</td>\n",
       "      <td>...</td>\n",
       "      <td>4.00000</td>\n",
       "      <td>4.000000</td>\n",
       "      <td>4.00000</td>\n",
       "      <td>4.000000</td>\n",
       "      <td>4.00000</td>\n",
       "      <td>4.000000</td>\n",
       "      <td>4.000000</td>\n",
       "      <td>4.000000</td>\n",
       "      <td>NaN</td>\n",
       "      <td>NaN</td>\n",
       "    </tr>\n",
       "  </tbody>\n",
       "</table>\n",
       "<p>188 rows × 812 columns</p>\n",
       "</div>"
      ],
      "text/plain": [
       "     c: 1.0; k: 0.0,0.1,1.1; xy  c: 1.1; k: 0.0,0.1,1.1; xy   \n",
       "0                      3.000000                    3.000000  \\\n",
       "1                      6.000000                    6.000000   \n",
       "2                      6.000000                    6.000000   \n",
       "3                      9.000000                    9.000000   \n",
       "4                      6.000000                    6.000000   \n",
       "..                          ...                         ...   \n",
       "183                    2.000000                    2.000000   \n",
       "184                    3.500000                    4.000000   \n",
       "185                    2.000000                    2.000000   \n",
       "186                    4.180108                    4.139785   \n",
       "187                    4.000000                    4.000000   \n",
       "\n",
       "     c: 1.2; k: 0.0,0.1,1.1; xy  c: 1.3; k: 0.0,0.1,1.1; xy   \n",
       "0                      3.000000                    3.000000  \\\n",
       "1                      6.000000                    6.000000   \n",
       "2                      6.000000                    6.000000   \n",
       "3                      9.000000                    9.000000   \n",
       "4                      6.000000                    6.000000   \n",
       "..                          ...                         ...   \n",
       "183                    3.000000                    3.000000   \n",
       "184                    3.500000                    3.000000   \n",
       "185                    2.000000                    3.000000   \n",
       "186                    4.137097                    4.137097   \n",
       "187                    4.000000                    4.000000   \n",
       "\n",
       "     c: 1.4; k: 0.0,0.1,1.1; xy  c: 1.5; k: 0.0,0.1,1.1; xy   \n",
       "0                      3.000000                    3.000000  \\\n",
       "1                      6.000000                    6.000000   \n",
       "2                      6.000000                    6.000000   \n",
       "3                      9.000000                    9.000000   \n",
       "4                      6.000000                    6.000000   \n",
       "..                          ...                         ...   \n",
       "183                    2.000000                    2.000000   \n",
       "184                    3.000000                    3.000000   \n",
       "185                    2.000000                    2.000000   \n",
       "186                    4.096774                    4.142473   \n",
       "187                    4.000000                    4.000000   \n",
       "\n",
       "     c: 1.6; k: 0.0,0.1,1.1; xy  c: 1.7; k: 0.0,0.1,1.1; xy   \n",
       "0                      3.000000                    3.000000  \\\n",
       "1                      6.000000                    6.000000   \n",
       "2                      6.000000                    6.000000   \n",
       "3                      9.000000                    9.000000   \n",
       "4                      6.000000                    6.000000   \n",
       "..                          ...                         ...   \n",
       "183                    3.000000                    3.000000   \n",
       "184                    3.000000                    3.000000   \n",
       "185                    2.000000                    2.000000   \n",
       "186                    4.147849                    4.150538   \n",
       "187                    4.000000                    4.000000   \n",
       "\n",
       "     c: 1.8; k: 0.0,0.1,1.1; xy  c: 1.9; k: 0.0,0.1,1.1; xy  ...   \n",
       "0                      3.000000                    3.000000  ...  \\\n",
       "1                      6.000000                    6.000000  ...   \n",
       "2                      6.000000                    6.000000  ...   \n",
       "3                      9.000000                    9.000000  ...   \n",
       "4                      6.000000                    6.000000  ...   \n",
       "..                          ...                         ...  ...   \n",
       "183                    2.000000                    2.000000  ...   \n",
       "184                    3.000000                    4.000000  ...   \n",
       "185                    3.000000                    3.000000  ...   \n",
       "186                    4.123656                    4.155914  ...   \n",
       "187                    4.000000                    4.000000  ...   \n",
       "\n",
       "     c: 1.2; k: 0.8,0.9,1.9; xy  c: 1.3; k: 0.8,0.9,1.9; xy   \n",
       "0                       4.00000                    4.000000  \\\n",
       "1                       7.00000                    7.000000   \n",
       "2                       4.00000                    4.000000   \n",
       "3                       7.00000                    7.000000   \n",
       "4                       6.00000                    6.000000   \n",
       "..                          ...                         ...   \n",
       "183                     2.00000                    3.000000   \n",
       "184                     4.00000                    4.000000   \n",
       "185                     2.00000                    2.000000   \n",
       "186                     4.63172                    4.615591   \n",
       "187                     4.00000                    4.000000   \n",
       "\n",
       "     c: 1.4; k: 0.8,0.9,1.9; xy  c: 1.5; k: 0.8,0.9,1.9; xy   \n",
       "0                       4.00000                    4.000000  \\\n",
       "1                       7.00000                    7.000000   \n",
       "2                       4.00000                    4.000000   \n",
       "3                       7.00000                    7.000000   \n",
       "4                       6.00000                    6.000000   \n",
       "..                          ...                         ...   \n",
       "183                     2.50000                    2.000000   \n",
       "184                     3.00000                    4.000000   \n",
       "185                     3.00000                    3.000000   \n",
       "186                     4.66129                    4.602151   \n",
       "187                     4.00000                    4.000000   \n",
       "\n",
       "     c: 1.6; k: 0.8,0.9,1.9; xy  c: 1.7; k: 0.8,0.9,1.9; xy   \n",
       "0                       4.00000                    4.000000  \\\n",
       "1                       7.00000                    7.000000   \n",
       "2                       4.00000                    4.000000   \n",
       "3                       7.00000                    7.000000   \n",
       "4                       6.00000                    6.000000   \n",
       "..                          ...                         ...   \n",
       "183                     2.00000                    2.000000   \n",
       "184                     3.00000                    4.000000   \n",
       "185                     2.00000                    2.000000   \n",
       "186                     4.61828                    4.642473   \n",
       "187                     4.00000                    4.000000   \n",
       "\n",
       "     c: 1.8; k: 0.8,0.9,1.9; xy  c: 1.9; k: 0.8,0.9,1.9; xy  error   ID  \n",
       "0                      4.000000                    4.000000  0.723   a1  \n",
       "1                      7.000000                    7.000000  0.785   a3  \n",
       "2                      4.000000                    4.000000  0.806   a5  \n",
       "3                      7.000000                    7.000000  0.862  a11  \n",
       "4                      6.000000                    6.000000  0.806  a13  \n",
       "..                          ...                         ...    ...  ...  \n",
       "183                    2.500000                    2.000000  0.723   v7  \n",
       "184                    4.000000                    3.000000  0.723   v8  \n",
       "185                    3.000000                    3.000000  0.723   v9  \n",
       "186                    4.629032                    4.634409    NaN  NaN  \n",
       "187                    4.000000                    4.000000    NaN  NaN  \n",
       "\n",
       "[188 rows x 812 columns]"
      ]
     },
     "execution_count": 131,
     "metadata": {},
     "output_type": "execute_result"
    }
   ],
   "source": [
    "model_ts"
   ]
  },
  {
   "cell_type": "code",
   "execution_count": null,
   "id": "f027164c",
   "metadata": {},
   "outputs": [],
   "source": []
  },
  {
   "cell_type": "markdown",
   "id": "11deb5fb",
   "metadata": {},
   "source": [
    "### build dataframes for plotting"
   ]
  },
  {
   "cell_type": "code",
   "execution_count": 95,
   "id": "0cd14038",
   "metadata": {},
   "outputs": [],
   "source": [
    "model_results_cooking = model_cooking['median'].values"
   ]
  },
  {
   "cell_type": "code",
   "execution_count": 97,
   "id": "1fb0618c",
   "metadata": {},
   "outputs": [],
   "source": [
    "data_cooking = pd.DataFrame()\n",
    "data_cooking['model'] = model_results_cooking\n",
    "data_cooking['RNN text prediction'] = rnn_results_cooking\n",
    "data_cooking['NN w/ spatial info'] = nn_results_cooking"
   ]
  },
  {
   "cell_type": "code",
   "execution_count": 98,
   "id": "64476bbe",
   "metadata": {},
   "outputs": [],
   "source": [
    "labels = [col for col in data_cooking.columns]"
   ]
  },
  {
   "cell_type": "code",
   "execution_count": 100,
   "id": "9e962cd1",
   "metadata": {},
   "outputs": [
    {
     "data": {
      "image/png": "[encoded data removed]",
      "text/plain": [
       "<Figure size 640x480 with 1 Axes>"
      ]
     },
     "metadata": {},
     "output_type": "display_data"
    }
   ],
   "source": [
    "fig = plt.plot(figsize=(12,8))\n",
    "fig = plt.boxplot(data_cooking, patch_artist=True, labels=labels)"
   ]
  },
  {
   "cell_type": "code",
   "execution_count": 44,
   "id": "32786e65",
   "metadata": {},
   "outputs": [],
   "source": [
    "sns.set(style=\"white\")"
   ]
  },
  {
   "cell_type": "code",
   "execution_count": 101,
   "id": "59866cf5",
   "metadata": {},
   "outputs": [
    {
     "data": {
      "image/png": "[encoded data removed]",
      "text/plain": [
       "<Figure size 640x480 with 1 Axes>"
      ]
     },
     "metadata": {},
     "output_type": "display_data"
    }
   ],
   "source": [
    "ax = sns.boxplot(data=data_cooking, palette=\"colorblind\").set(title=\"Generalization to cooking\")\n",
    "ax = sns.swarmplot(data=data_cooking, palette=\"dark\")"
   ]
  },
  {
   "cell_type": "code",
   "execution_count": 102,
   "id": "f34e109c",
   "metadata": {},
   "outputs": [
    {
     "data": {
      "text/plain": [
       "Text(0.5, 1.0, 'Generalization to cooking')"
      ]
     },
     "execution_count": 102,
     "metadata": {},
     "output_type": "execute_result"
    },
    {
     "data": {
      "image/png": "[encoded data removed]",
      "text/plain": [
       "<Figure size 640x480 with 1 Axes>"
      ]
     },
     "metadata": {},
     "output_type": "display_data"
    }
   ],
   "source": [
    "ax = sns.violinplot(data=data_cooking, \n",
    "                    palette=\"colorblind\", \n",
    "                    saturation=0.5)\n",
    "\n",
    "plt.ylabel(\"accumulated prediction error\", fontsize=14)\n",
    "plt.title(\"Generalization to cooking\", fontsize=18)"
   ]
  },
  {
   "cell_type": "code",
   "execution_count": null,
   "id": "c56c395b",
   "metadata": {},
   "outputs": [],
   "source": []
  }
 ],
 "metadata": {
  "kernelspec": {
   "display_name": "Python 3 (ipykernel)",
   "language": "python",
   "name": "python3"
  },
  "language_info": {
   "codemirror_mode": {
    "name": "ipython",
    "version": 3
   },
   "file_extension": ".py",
   "mimetype": "text/x-python",
   "name": "python",
   "nbconvert_exporter": "python",
   "pygments_lexer": "ipython3",
   "version": "3.9.16"
  }
 },
 "nbformat": 4,
 "nbformat_minor": 5
}
