{
 "cells": [
  {
   "cell_type": "code",
   "execution_count": 4,
   "id": "9009fd91",
   "metadata": {},
   "outputs": [
    {
     "data": {
      "text/plain": [
       "<module 'opportunistic_planning.processing' from '/home/zauri/files/anaconda3/lib/python3.7/site-packages/opportunistic_planning/processing.py'>"
      ]
     },
     "execution_count": 4,
     "metadata": {},
     "output_type": "execute_result"
    }
   ],
   "source": [
    "import ast\n",
    "import matplotlib.pyplot as plt\n",
    "import numpy as np\n",
    "import pandas as pd\n",
    "import importlib\n",
    "\n",
    "from opportunistic_planning import processing, visualization\n",
    "from scipy.stats import friedmanchisquare, wilcoxon\n",
    "importlib.reload(processing)"
   ]
  },
  {
   "cell_type": "code",
   "execution_count": 11,
   "id": "272e9f79",
   "metadata": {},
   "outputs": [],
   "source": [
    "df = processing.read_data('all_task_environments_list_2022-04-01.csv', use_string_for_seq=False)"
   ]
  },
  {
   "cell_type": "code",
   "execution_count": null,
   "id": "9956b975",
   "metadata": {},
   "outputs": [],
   "source": []
  },
  {
   "cell_type": "code",
   "execution_count": 3,
   "id": "d890777b",
   "metadata": {},
   "outputs": [],
   "source": [
    "with open ('../../model_evaluation/rnn/results/nn_spatialinfo_prequential_summed_2022-03-15.txt',\n",
    "          'r') as file:\n",
    "    nn_results = ast.literal_eval(file.read())"
   ]
  },
  {
   "cell_type": "code",
   "execution_count": 4,
   "id": "ed236946",
   "metadata": {},
   "outputs": [
    {
     "data": {
      "text/plain": [
       "190"
      ]
     },
     "execution_count": 4,
     "metadata": {},
     "output_type": "execute_result"
    }
   ],
   "source": [
    "len(nn_results)"
   ]
  },
  {
   "cell_type": "code",
   "execution_count": 12,
   "id": "16901d71",
   "metadata": {},
   "outputs": [
    {
     "name": "stdout",
     "output_type": "stream",
     "text": [
      "CPU times: user 1.5 s, sys: 78.3 ms, total: 1.58 s\n",
      "Wall time: 1.49 s\n"
     ]
    }
   ],
   "source": [
    "%time distances_dict = processing.generate_distances_dict(df)"
   ]
  },
  {
   "cell_type": "code",
   "execution_count": null,
   "id": "ca2a3aff",
   "metadata": {},
   "outputs": [
    {
     "name": "stderr",
     "output_type": "stream",
     "text": [
      "/home/zauri/files/anaconda3/lib/python3.7/site-packages/pandas/core/indexing.py:1684: PerformanceWarning: DataFrame is highly fragmented.  This is usually the result of calling `frame.insert` many times, which has poor performance.  Consider joining all columns at once using pd.concat(axis=1) instead.  To get a de-fragmented frame, use `newframe = frame.copy()`\n",
      "  self.obj[key] = infer_fill_value(value)\n"
     ]
    }
   ],
   "source": [
    "# n=50: 11min 49\n",
    "# n=100: 21min 51\n",
    "\n",
    "%time results_sum = processing.calculate_prediction_error(df, distances_dict, error_function='prequential', n=100, dimensions=[[2, 'xy']])"
   ]
  },
  {
   "cell_type": "code",
   "execution_count": null,
   "id": "033817f4",
   "metadata": {},
   "outputs": [],
   "source": [
    "results_sum"
   ]
  },
  {
   "cell_type": "code",
   "execution_count": 21,
   "id": "809fcd11",
   "metadata": {},
   "outputs": [],
   "source": [
    "lowest_mean, lowest_mean_idx, lowest_median, results_median = processing.get_lowest_error(results_sum)"
   ]
  },
  {
   "cell_type": "code",
   "execution_count": 10,
   "id": "8fde3df0",
   "metadata": {},
   "outputs": [],
   "source": [
    "%matplotlib qt\n",
    "\n",
    "visualization.plot_comparison_to_baselines(results_median, lowest_mean_idx, lowest_median,\n",
    "                                          save=False, cpt=None, rnn=nn_results)"
   ]
  },
  {
   "cell_type": "code",
   "execution_count": 22,
   "id": "e3025b36",
   "metadata": {},
   "outputs": [],
   "source": [
    "#processing.save_results(results_sum, 'results/results_2D_n100_2022-03-15.csv')"
   ]
  },
  {
   "cell_type": "markdown",
   "id": "7093c8ed",
   "metadata": {},
   "source": [
    "### Plot best model with baselines"
   ]
  },
  {
   "cell_type": "code",
   "execution_count": 24,
   "id": "548506df",
   "metadata": {},
   "outputs": [],
   "source": [
    "#%matplotlib inline\n",
    "%matplotlib qt\n",
    "\n",
    "IDs = df['ID']\n",
    "\n",
    "error = df['error']\n",
    "\n",
    "seqs= results_sum['sequence'][:-2].values\n",
    "\n",
    "res = results_sum[lowest_mean_idx[0]][:-2].values\n",
    "median = [np.nanmedian(res)] * len(res)\n",
    "\n",
    "x = [x for x in range (0,len(seqs))]\n",
    "\n",
    "# plot CPT baseline\n",
    "#plt.scatter(x, cpt, marker='o', s=20, c='dodgerblue', alpha=0.3, \n",
    "#            label=str('CPT baseline median: ') + str(round(np.median(cpt),3)))\n",
    "#plt.plot(x, [np.median(cpt)] * len(x), '-', c='dodgerblue', alpha=0.9, linewidth=2)\n",
    "#plt.plot((x_original,x_original),(res_original,distances), '--', c='darkgreen', alpha=0.6)\n",
    "#plt.fill_between(x, cpt, alpha=0.3, color='dodgerblue')\n",
    "\n",
    "\n",
    "# plot NN baseline\n",
    "plt.scatter(x, nn_results, marker='o', s=20, c='navy', alpha=0.8, \n",
    "            label=str('NN baseline median: ') + str(round(np.median(nn_results),3)))\n",
    "plt.plot(x, [np.median(nn_results)] * len(x), '-', c='dodgerblue', alpha=0.9, linewidth=2)\n",
    "#plt.plot((x_original,x_original),(res_original,distances), '--', c='darkgreen', alpha=0.6)\n",
    "plt.fill_between(x, nn_results, alpha=0.3, color='dodgerblue')\n",
    "\n",
    "\n",
    "# plot scatter + lines for simulations\n",
    "plt.scatter(x, res, marker='o', s=26, c='darkred', alpha=0.8, \n",
    "            label=str('model-generated median: ') + str(round(lowest_median,3)))\n",
    "#plt.plot(x, res, c='blue', alpha=0.6)\n",
    "plt.plot(x, median, c='darkred', alpha=0.95, linewidth=2)\n",
    "#plt.fill_between(x, res, alpha=0.3, color='darkviolet')\n",
    "\n",
    "\n",
    "plt.xticks(x, labels=IDs, rotation=90, fontsize=5)\n",
    "#plt.xticklabels(IDs, rotation=90, fontsize=6)\n",
    "\n",
    "plt.ylabel('accumulated prediction error', fontsize=22)\n",
    "plt.xlabel('sequence', fontsize=22)\n",
    "#plt.ylim(0.0, 0.51)\n",
    "plt.title('best model: ' + str(lowest_mean_idx[0]), fontsize=24, pad=20)\n",
    "plt.margins(0.01)\n",
    "\n",
    "plt.legend(fontsize=20, framealpha=0.8, loc='upper right', markerscale=2.5)\n",
    "\n",
    "#plt.savefig('plot_median_editdist_individualerrors_diff.png', bbox_inches='tight')\n",
    "plt.show()"
   ]
  },
  {
   "cell_type": "markdown",
   "id": "96796a46",
   "metadata": {},
   "source": [
    "### Prep data for stat analysis"
   ]
  },
  {
   "cell_type": "code",
   "execution_count": 25,
   "id": "4a0fe58f",
   "metadata": {},
   "outputs": [
    {
     "name": "stdout",
     "output_type": "stream",
     "text": [
      "Average xy: 4.271179337231969, stdev: 0.20150529419847138, median: 4.213157894736842\n"
     ]
    }
   ],
   "source": [
    "# Get errors for model\n",
    "list_xy = []\n",
    "\n",
    "for col in results_sum:\n",
    "    if col != 'sequence' and col != 'ID' and col != 'error' and col.split(';')[2].strip() == 'xy':\n",
    "        list_xy.append(results_sum.at['mean',col])\n",
    "        \n",
    "avg_xy = np.mean(list_xy)\n",
    "med_xy = np.median(list_xy)\n",
    "std_xy = np.std(list_xy)\n",
    "print('Average xy: ' + str(avg_xy)  + ', stdev: ' + str(std_xy) + ', median: ' + str(med_xy))"
   ]
  },
  {
   "cell_type": "code",
   "execution_count": 26,
   "id": "7e131086",
   "metadata": {},
   "outputs": [
    {
     "name": "stdout",
     "output_type": "stream",
     "text": [
      "Wilcoxon: W = 1544.500, p = 0.00000\n"
     ]
    }
   ],
   "source": [
    "# model vs NN\n",
    "stat, p = wilcoxon(res, nn_results, zero_method='wilcox')\n",
    "print('Wilcoxon: W = %.3f, p = %.5f' % (stat, p))"
   ]
  },
  {
   "cell_type": "code",
   "execution_count": 27,
   "id": "74ff600c",
   "metadata": {},
   "outputs": [
    {
     "data": {
      "text/plain": [
       "105"
      ]
     },
     "execution_count": 27,
     "metadata": {},
     "output_type": "execute_result"
    }
   ],
   "source": [
    "# get sequences where OPM performs worse than baseline\n",
    "\n",
    "worse_than_nn = results_sum[lowest_mean_idx[0]].loc[results_sum[lowest_mean_idx[0]] >= 4.0]\n",
    "worse_than_nn_sequences = [results_sum.at[x, 'sequence'] for x in worse_than_nn.index]\n",
    "\n",
    "len(worse_than_nn_sequences)"
   ]
  },
  {
   "cell_type": "code",
   "execution_count": 28,
   "id": "048cc2a7",
   "metadata": {},
   "outputs": [
    {
     "data": {
      "text/plain": [
       "18"
      ]
     },
     "execution_count": 28,
     "metadata": {},
     "output_type": "execute_result"
    }
   ],
   "source": [
    "# get sequences where NN performs worse than baseline\n",
    "\n",
    "worse_than_opm = [i for i in nn_results if i > 4.0]\n",
    "\n",
    "len(worse_than_opm)"
   ]
  },
  {
   "cell_type": "code",
   "execution_count": null,
   "id": "cf66d1ef",
   "metadata": {},
   "outputs": [],
   "source": []
  }
 ],
 "metadata": {
  "kernelspec": {
   "display_name": "Python 3 (ipykernel)",
   "language": "python",
   "name": "python3"
  },
  "language_info": {
   "codemirror_mode": {
    "name": "ipython",
    "version": 3
   },
   "file_extension": ".py",
   "mimetype": "text/x-python",
   "name": "python",
   "nbconvert_exporter": "python",
   "pygments_lexer": "ipython3",
   "version": "3.7.7"
  }
 },
 "nbformat": 4,
 "nbformat_minor": 5
}
