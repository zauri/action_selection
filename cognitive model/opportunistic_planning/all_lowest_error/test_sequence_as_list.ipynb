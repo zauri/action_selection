{
 "cells": [
  {
   "cell_type": "code",
   "execution_count": 111,
   "id": "377347b6",
   "metadata": {},
   "outputs": [
    {
     "data": {
      "text/plain": [
       "<module 'opportunistic_planning.prediction' from '/home/zauri/files/anaconda3/lib/python3.7/site-packages/opportunistic_planning/prediction.py'>"
      ]
     },
     "execution_count": 111,
     "metadata": {},
     "output_type": "execute_result"
    }
   ],
   "source": [
    "import ast\n",
    "import numpy as np\n",
    "import pandas as pd\n",
    "\n",
    "from opportunistic_planning import processing, prediction\n",
    "\n",
    "import importlib\n",
    "importlib.reload(prediction)"
   ]
  },
  {
   "cell_type": "code",
   "execution_count": 112,
   "id": "115129c8",
   "metadata": {},
   "outputs": [],
   "source": [
    "df = pd.read_csv('all_task_environments_test_2022-03-28.csv', header=0)"
   ]
  },
  {
   "cell_type": "code",
   "execution_count": 113,
   "id": "ce7bb7ce",
   "metadata": {},
   "outputs": [],
   "source": [
    "df = df[:1]"
   ]
  },
  {
   "cell_type": "code",
   "execution_count": null,
   "id": "3ec13114",
   "metadata": {},
   "outputs": [],
   "source": []
  },
  {
   "cell_type": "code",
   "execution_count": 114,
   "id": "5fd4a708",
   "metadata": {},
   "outputs": [],
   "source": [
    "distances_dict = processing.generate_distances_dict(df)"
   ]
  },
  {
   "cell_type": "code",
   "execution_count": 115,
   "id": "f375c30e",
   "metadata": {},
   "outputs": [
    {
     "name": "stderr",
     "output_type": "stream",
     "text": [
      "/home/zauri/files/anaconda3/lib/python3.7/site-packages/pandas/core/indexing.py:1684: PerformanceWarning: DataFrame is highly fragmented.  This is usually the result of calling `frame.insert` many times, which has poor performance.  Consider joining all columns at once using pd.concat(axis=1) instead.  To get a de-fragmented frame, use `newframe = frame.copy()`\n",
      "  self.obj[key] = infer_fill_value(value)\n"
     ]
    }
   ],
   "source": [
    "results_sum = processing.calculate_prediction_error(df, distances_dict, \n",
    "                                                    error_function='prequential',\n",
    "                                                   n=10, dimensions=[[2, 'xy']])"
   ]
  },
  {
   "cell_type": "code",
   "execution_count": 116,
   "id": "15c59b92",
   "metadata": {},
   "outputs": [
    {
     "data": {
      "text/html": [
       "<div>\n",
       "<style scoped>\n",
       "    .dataframe tbody tr th:only-of-type {\n",
       "        vertical-align: middle;\n",
       "    }\n",
       "\n",
       "    .dataframe tbody tr th {\n",
       "        vertical-align: top;\n",
       "    }\n",
       "\n",
       "    .dataframe thead th {\n",
       "        text-align: right;\n",
       "    }\n",
       "</style>\n",
       "<table border=\"1\" class=\"dataframe\">\n",
       "  <thead>\n",
       "    <tr style=\"text-align: right;\">\n",
       "      <th></th>\n",
       "      <th>c: 1.0; k: 0.0,0.1,1.1; xy</th>\n",
       "      <th>c: 1.1; k: 0.0,0.1,1.1; xy</th>\n",
       "      <th>c: 1.2; k: 0.0,0.1,1.1; xy</th>\n",
       "      <th>c: 1.3; k: 0.0,0.1,1.1; xy</th>\n",
       "      <th>c: 1.4; k: 0.0,0.1,1.1; xy</th>\n",
       "      <th>c: 1.5; k: 0.0,0.1,1.1; xy</th>\n",
       "      <th>c: 1.6; k: 0.0,0.1,1.1; xy</th>\n",
       "      <th>c: 1.7; k: 0.0,0.1,1.1; xy</th>\n",
       "      <th>c: 1.8; k: 0.0,0.1,1.1; xy</th>\n",
       "      <th>c: 1.9; k: 0.0,0.1,1.1; xy</th>\n",
       "      <th>...</th>\n",
       "      <th>c: 1.2; k: 0.8,0.9,1.9; xy</th>\n",
       "      <th>c: 1.3; k: 0.8,0.9,1.9; xy</th>\n",
       "      <th>c: 1.4; k: 0.8,0.9,1.9; xy</th>\n",
       "      <th>c: 1.5; k: 0.8,0.9,1.9; xy</th>\n",
       "      <th>c: 1.6; k: 0.8,0.9,1.9; xy</th>\n",
       "      <th>c: 1.7; k: 0.8,0.9,1.9; xy</th>\n",
       "      <th>c: 1.8; k: 0.8,0.9,1.9; xy</th>\n",
       "      <th>c: 1.9; k: 0.8,0.9,1.9; xy</th>\n",
       "      <th>error</th>\n",
       "      <th>ID</th>\n",
       "    </tr>\n",
       "  </thead>\n",
       "  <tbody>\n",
       "    <tr>\n",
       "      <th>0</th>\n",
       "      <td>3.0</td>\n",
       "      <td>3.0</td>\n",
       "      <td>3.0</td>\n",
       "      <td>3.0</td>\n",
       "      <td>3.0</td>\n",
       "      <td>3.0</td>\n",
       "      <td>3.0</td>\n",
       "      <td>3.0</td>\n",
       "      <td>3.0</td>\n",
       "      <td>3.0</td>\n",
       "      <td>...</td>\n",
       "      <td>4.0</td>\n",
       "      <td>4.0</td>\n",
       "      <td>4.0</td>\n",
       "      <td>4.0</td>\n",
       "      <td>4.0</td>\n",
       "      <td>4.0</td>\n",
       "      <td>4.0</td>\n",
       "      <td>4.0</td>\n",
       "      <td>0.723</td>\n",
       "      <td>a1</td>\n",
       "    </tr>\n",
       "  </tbody>\n",
       "</table>\n",
       "<p>1 rows × 812 columns</p>\n",
       "</div>"
      ],
      "text/plain": [
       "   c: 1.0; k: 0.0,0.1,1.1; xy  c: 1.1; k: 0.0,0.1,1.1; xy  \\\n",
       "0                         3.0                         3.0   \n",
       "\n",
       "   c: 1.2; k: 0.0,0.1,1.1; xy  c: 1.3; k: 0.0,0.1,1.1; xy  \\\n",
       "0                         3.0                         3.0   \n",
       "\n",
       "   c: 1.4; k: 0.0,0.1,1.1; xy  c: 1.5; k: 0.0,0.1,1.1; xy  \\\n",
       "0                         3.0                         3.0   \n",
       "\n",
       "   c: 1.6; k: 0.0,0.1,1.1; xy  c: 1.7; k: 0.0,0.1,1.1; xy  \\\n",
       "0                         3.0                         3.0   \n",
       "\n",
       "   c: 1.8; k: 0.0,0.1,1.1; xy  c: 1.9; k: 0.0,0.1,1.1; xy  ...  \\\n",
       "0                         3.0                         3.0  ...   \n",
       "\n",
       "   c: 1.2; k: 0.8,0.9,1.9; xy  c: 1.3; k: 0.8,0.9,1.9; xy  \\\n",
       "0                         4.0                         4.0   \n",
       "\n",
       "   c: 1.4; k: 0.8,0.9,1.9; xy  c: 1.5; k: 0.8,0.9,1.9; xy  \\\n",
       "0                         4.0                         4.0   \n",
       "\n",
       "   c: 1.6; k: 0.8,0.9,1.9; xy  c: 1.7; k: 0.8,0.9,1.9; xy  \\\n",
       "0                         4.0                         4.0   \n",
       "\n",
       "   c: 1.8; k: 0.8,0.9,1.9; xy  c: 1.9; k: 0.8,0.9,1.9; xy  error  ID  \n",
       "0                         4.0                         4.0  0.723  a1  \n",
       "\n",
       "[1 rows x 812 columns]"
      ]
     },
     "execution_count": 116,
     "metadata": {},
     "output_type": "execute_result"
    }
   ],
   "source": [
    "results_sum"
   ]
  },
  {
   "cell_type": "code",
   "execution_count": 107,
   "id": "a1ade468",
   "metadata": {},
   "outputs": [],
   "source": [
    "lowest_mean, lowest_mean_idx, lowest_median, results_median = processing.get_lowest_error(results_sum)"
   ]
  },
  {
   "cell_type": "code",
   "execution_count": 109,
   "id": "59eb7892",
   "metadata": {},
   "outputs": [
    {
     "data": {
      "text/plain": [
       "Index(['c: 1.0; k: 0.0,0.1,1.1; xy', 'c: 1.1; k: 0.0,0.1,1.1; xy',\n",
       "       'c: 1.2; k: 0.0,0.1,1.1; xy', 'c: 1.3; k: 0.0,0.1,1.1; xy',\n",
       "       'c: 1.4; k: 0.0,0.1,1.1; xy', 'c: 1.5; k: 0.0,0.1,1.1; xy',\n",
       "       'c: 1.6; k: 0.0,0.1,1.1; xy', 'c: 1.7; k: 0.0,0.1,1.1; xy',\n",
       "       'c: 1.8; k: 0.0,0.1,1.1; xy', 'c: 1.9; k: 0.0,0.1,1.1; xy',\n",
       "       ...\n",
       "       'c: 1.0; k: 0.3,0.4,1.9; xy', 'c: 1.1; k: 0.3,0.4,1.9; xy',\n",
       "       'c: 1.2; k: 0.3,0.4,1.9; xy', 'c: 1.3; k: 0.3,0.4,1.9; xy',\n",
       "       'c: 1.4; k: 0.3,0.4,1.9; xy', 'c: 1.5; k: 0.3,0.4,1.9; xy',\n",
       "       'c: 1.6; k: 0.3,0.4,1.9; xy', 'c: 1.7; k: 0.3,0.4,1.9; xy',\n",
       "       'c: 1.8; k: 0.3,0.4,1.9; xy', 'c: 1.9; k: 0.3,0.4,1.9; xy'],\n",
       "      dtype='object', length=360)"
      ]
     },
     "execution_count": 109,
     "metadata": {},
     "output_type": "execute_result"
    }
   ],
   "source": [
    "lowest_mean_idx"
   ]
  },
  {
   "cell_type": "code",
   "execution_count": null,
   "id": "48b2dcee",
   "metadata": {},
   "outputs": [],
   "source": []
  }
 ],
 "metadata": {
  "kernelspec": {
   "display_name": "Python 3 (ipykernel)",
   "language": "python",
   "name": "python3"
  },
  "language_info": {
   "codemirror_mode": {
    "name": "ipython",
    "version": 3
   },
   "file_extension": ".py",
   "mimetype": "text/x-python",
   "name": "python",
   "nbconvert_exporter": "python",
   "pygments_lexer": "ipython3",
   "version": "3.7.7"
  }
 },
 "nbformat": 4,
 "nbformat_minor": 5
}
