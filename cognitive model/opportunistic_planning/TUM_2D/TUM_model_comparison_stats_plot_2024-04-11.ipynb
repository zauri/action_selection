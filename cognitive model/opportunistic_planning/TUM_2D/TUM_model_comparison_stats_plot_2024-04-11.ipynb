{
 "cells": [
  {
   "cell_type": "code",
   "execution_count": 1,
   "id": "9007fedf",
   "metadata": {},
   "outputs": [],
   "source": [
    "import matplotlib.pyplot as plt\n",
    "import pandas as pd\n",
    "import seaborn as sns\n",
    "\n",
    "from scipy.stats import wilcoxon"
   ]
  },
  {
   "cell_type": "code",
   "execution_count": 2,
   "id": "a02cbd98",
   "metadata": {},
   "outputs": [],
   "source": [
    "model_ck = [0,0,0,0,0,0,0,0,0,0,0,0,0,0.17,0.17,0,0,0.17,0.17]\n",
    "k_set = [0.8,0.8,0,0.8,0.8,0.8,0.8,0.8,0.8,0.8,0.8,0,0.8,0.8,0.8,0.8,0.8,0.8,0.8]\n",
    "c_set = [0.4,0.4,0,0.4,0.4,0.4,0.4,0.4,0.4,0.4,0.4,0,0.4,0.4,0.4,0.4,0.4,0.4,0.4]\n",
    "no_params = [1,1,0.67,1,1,1,1,1,1,1,1,0.67,1,0.8,0.8,1,1,0.8,0.8]\n",
    "globally_optimal = [0.4,0.4,0.67,0.4,0.4,0.4,0.4,0.4,0.4,0.4,0.4,0.67,0.4,0.33,0.33,0.4,0.4,0.33,0.33]"
   ]
  },
  {
   "cell_type": "code",
   "execution_count": 3,
   "id": "77cfa500",
   "metadata": {},
   "outputs": [],
   "source": [
    "data = pd.DataFrame()"
   ]
  },
  {
   "cell_type": "code",
   "execution_count": 4,
   "id": "b47c597d",
   "metadata": {},
   "outputs": [],
   "source": [
    "data['with c+k'] = model_ck\n",
    "data['with k'] = k_set\n",
    "data['with c'] = c_set\n",
    "data['c+k set to 1'] = no_params\n",
    "#data['globally optimal'] = globally_optimal"
   ]
  },
  {
   "cell_type": "code",
   "execution_count": 6,
   "id": "588e121d",
   "metadata": {},
   "outputs": [],
   "source": [
    "labels = [col for col in data.columns]"
   ]
  },
  {
   "cell_type": "code",
   "execution_count": 7,
   "id": "40583439",
   "metadata": {},
   "outputs": [],
   "source": [
    "#custom_cmap2 = ['#277f8e', '#1fa187', '#4ac16d', '#a0da39', '#46327e']\n",
    "custom_cmap2 = ['#277f8e', '#1fa187', '#4ac16d', '#a0da39']"
   ]
  },
  {
   "cell_type": "code",
   "execution_count": 8,
   "id": "5e4552e8",
   "metadata": {},
   "outputs": [],
   "source": [
    "%matplotlib qt\n",
    "\n",
    "ax = sns.violinplot(data=data,\n",
    "                    palette=custom_cmap2,\n",
    "                    cut=0,\n",
    "                    inner=\"quartiles\",\n",
    "                    saturation=0.8)\n",
    "\n",
    "xmin, xmax = ax.get_xlim()\n",
    "\n",
    "ax.hlines(y=0.66, xmin=xmin, xmax=xmax, linewidth=2, color='black')\n",
    "\n",
    "for line in ax.lines:\n",
    "    line.set_color('black')\n",
    "plt.setp(ax.collections, alpha=0.5)\n",
    "\n",
    "ax.set_xticklabels(ax.get_xticklabels(), rotation=45, horizontalalignment='right',\n",
    "                   fontsize=24)\n",
    "plt.ylabel(\"normalized edit distance\", fontsize=24)\n",
    "plt.tight_layout(pad=0.1)\n",
    "plt.show()"
   ]
  },
  {
   "cell_type": "markdown",
   "id": "bdd4fc4e",
   "metadata": {},
   "source": [
    "### Wilcoxon stats"
   ]
  },
  {
   "cell_type": "code",
   "execution_count": 9,
   "id": "83ada12d",
   "metadata": {},
   "outputs": [
    {
     "name": "stdout",
     "output_type": "stream",
     "text": [
      "Wilcoxon: W = 0.000, p = 0.00000\n"
     ]
    }
   ],
   "source": [
    "stat, p = wilcoxon(model_ck, globally_optimal, zero_method='wilcox')\n",
    "print('Wilcoxon: W = %.3f, p = %.5f' % (stat, p))"
   ]
  },
  {
   "cell_type": "code",
   "execution_count": null,
   "id": "679d7c06",
   "metadata": {},
   "outputs": [],
   "source": []
  }
 ],
 "metadata": {
  "kernelspec": {
   "display_name": "Python 3 (ipykernel)",
   "language": "python",
   "name": "python3"
  },
  "language_info": {
   "codemirror_mode": {
    "name": "ipython",
    "version": 3
   },
   "file_extension": ".py",
   "mimetype": "text/x-python",
   "name": "python",
   "nbconvert_exporter": "python",
   "pygments_lexer": "ipython3",
   "version": "3.9.16"
  }
 },
 "nbformat": 4,
 "nbformat_minor": 5
}
