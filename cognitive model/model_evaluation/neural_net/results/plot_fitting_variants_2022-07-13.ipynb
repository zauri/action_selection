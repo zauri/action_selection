{
 "cells": [
  {
   "cell_type": "code",
   "execution_count": 32,
   "id": "696dd71f",
   "metadata": {},
   "outputs": [],
   "source": [
    "import matplotlib.pyplot as plt\n",
    "import numpy as np\n",
    "import pandas as pd"
   ]
  },
  {
   "cell_type": "code",
   "execution_count": 2,
   "id": "b0ce4983",
   "metadata": {},
   "outputs": [],
   "source": [
    "df = pd.read_csv('nn_spatialinfo_prequential_fitting_variants_2022-06-23.csv', header=0)"
   ]
  },
  {
   "cell_type": "code",
   "execution_count": 41,
   "id": "f4b1417e",
   "metadata": {},
   "outputs": [
    {
     "data": {
      "text/html": [
       "<div>\n",
       "<style scoped>\n",
       "    .dataframe tbody tr th:only-of-type {\n",
       "        vertical-align: middle;\n",
       "    }\n",
       "\n",
       "    .dataframe tbody tr th {\n",
       "        vertical-align: top;\n",
       "    }\n",
       "\n",
       "    .dataframe thead th {\n",
       "        text-align: right;\n",
       "    }\n",
       "</style>\n",
       "<table border=\"1\" class=\"dataframe\">\n",
       "  <thead>\n",
       "    <tr style=\"text-align: right;\">\n",
       "      <th></th>\n",
       "      <th>fitted_on_ts_all</th>\n",
       "      <th>fitted_on_all_all</th>\n",
       "      <th>ID</th>\n",
       "      <th>fitted_on_cooking_all</th>\n",
       "    </tr>\n",
       "  </thead>\n",
       "  <tbody>\n",
       "    <tr>\n",
       "      <th>309</th>\n",
       "      <td>3.000000</td>\n",
       "      <td>3.000000</td>\n",
       "      <td>median</td>\n",
       "      <td>3.000000</td>\n",
       "    </tr>\n",
       "    <tr>\n",
       "      <th>310</th>\n",
       "      <td>3.608414</td>\n",
       "      <td>3.165049</td>\n",
       "      <td>mean</td>\n",
       "      <td>3.411003</td>\n",
       "    </tr>\n",
       "    <tr>\n",
       "      <th>311</th>\n",
       "      <td>2.000000</td>\n",
       "      <td>2.000000</td>\n",
       "      <td>median_ts</td>\n",
       "      <td>3.000000</td>\n",
       "    </tr>\n",
       "    <tr>\n",
       "      <th>312</th>\n",
       "      <td>2.677419</td>\n",
       "      <td>2.612903</td>\n",
       "      <td>mean_ts</td>\n",
       "      <td>3.005376</td>\n",
       "    </tr>\n",
       "    <tr>\n",
       "      <th>313</th>\n",
       "      <td>4.000000</td>\n",
       "      <td>3.000000</td>\n",
       "      <td>median_cooking</td>\n",
       "      <td>3.000000</td>\n",
       "    </tr>\n",
       "    <tr>\n",
       "      <th>314</th>\n",
       "      <td>5.008065</td>\n",
       "      <td>4.000000</td>\n",
       "      <td>mean_cooking</td>\n",
       "      <td>4.032258</td>\n",
       "    </tr>\n",
       "  </tbody>\n",
       "</table>\n",
       "</div>"
      ],
      "text/plain": [
       "     fitted_on_ts_all  fitted_on_all_all              ID  \\\n",
       "309          3.000000           3.000000          median   \n",
       "310          3.608414           3.165049            mean   \n",
       "311          2.000000           2.000000       median_ts   \n",
       "312          2.677419           2.612903         mean_ts   \n",
       "313          4.000000           3.000000  median_cooking   \n",
       "314          5.008065           4.000000    mean_cooking   \n",
       "\n",
       "     fitted_on_cooking_all  \n",
       "309               3.000000  \n",
       "310               3.411003  \n",
       "311               3.000000  \n",
       "312               3.005376  \n",
       "313               3.000000  \n",
       "314               4.032258  "
      ]
     },
     "execution_count": 41,
     "metadata": {},
     "output_type": "execute_result"
    }
   ],
   "source": [
    "df[-6:]"
   ]
  },
  {
   "cell_type": "code",
   "execution_count": 12,
   "id": "9f62b811",
   "metadata": {},
   "outputs": [
    {
     "data": {
      "text/plain": [
       "<AxesSubplot:xlabel='ID'>"
      ]
     },
     "execution_count": 12,
     "metadata": {},
     "output_type": "execute_result"
    },
    {
     "data": {
      "image/png": "[encoded data removed]",
      "text/plain": [
       "<Figure size 432x288 with 1 Axes>"
      ]
     },
     "metadata": {
      "needs_background": "light"
     },
     "output_type": "display_data"
    }
   ],
   "source": [
    "df[-6:].plot(x='ID', y=['fitted_on_ts_all', 'fitted_on_all_all', 'fitted_on_cooking_all'],\n",
    "            kind='bar')"
   ]
  },
  {
   "cell_type": "code",
   "execution_count": 67,
   "id": "7ec735af",
   "metadata": {},
   "outputs": [],
   "source": [
    "%matplotlib qt\n",
    "fig, ax = plt.subplots(constrained_layout=False)\n",
    "\n",
    "ax.scatter(df['ID'][:-7], df['fitted_on_ts_all'][:-7], label='fitted on tablesetting',\n",
    "          alpha=0.5, c='blue')\n",
    "ax.scatter(df['ID'][:-7], df['fitted_on_all_all'][:-7], label='fitted on all seqs',\n",
    "          zorder=3, marker='D', alpha=0.5, c='orange')\n",
    "ax.scatter(df['ID'][:-7], df['fitted_on_cooking_all'][:-7], label='fitted on cooking',\n",
    "          alpha=0.5, c='green')\n",
    "\n",
    "ax.plot(df['ID'][:-7][:189], [df['fitted_on_ts_all'].loc[df['ID'] == 'mean_ts'] for x in range(189)], \n",
    "        label='mean: fitted on tablesetting',\n",
    "        alpha=1.0, c='blue', linewidth=2, zorder=4)\n",
    "ax.plot(df['ID'][:-7][190:], [df['fitted_on_ts_all'].loc[df['ID'] == 'mean_cooking'] for x in range(118)],\n",
    "        alpha=1.0, c='blue', linewidth=2, zorder=4)\n",
    "\n",
    "ax.plot(df['ID'][:-7], [np.mean(df['fitted_on_all_all'][:-7]) for x in range(len(df['ID'][:-7]))], \n",
    "        label='mean: fitted on all',\n",
    "        alpha=1.0, c='orange', linewidth=2, zorder=5, linestyle='-')\n",
    "\n",
    "ax.plot(df['ID'][:-7][:189], [df['fitted_on_cooking_all'].loc[df['ID'] == 'mean_ts'] for x in range(189)], \n",
    "        label='mean: fitted on cooking',\n",
    "        alpha=1.0, c='green', linewidth=2, zorder=5)\n",
    "ax.plot(df['ID'][:-7][190:], [df['fitted_on_cooking_all'].loc[df['ID'] == 'mean_cooking'] for x in range(118)],\n",
    "        alpha=1.0, c='green', linewidth=2, linestyle='-', zorder=5)\n",
    "\n",
    "\n",
    "ax.set_ylabel('accumulated prediction error', fontsize=22)\n",
    "ax.set_xlabel('sequence', fontsize=22)\n",
    "\n",
    "ax.set_title('NN w/ spatial info: fit comparison', fontsize=24, pad=20)\n",
    "plt.xticks(df['ID'][:-7], labels=df['ID'][:-7], rotation=90, fontsize=5)\n",
    "plt.margins(0.01)\n",
    "lgnd = plt.legend(fontsize=16, framealpha=0.8, loc='upper right', markerscale=2)\n",
    "\n",
    "plt.show()"
   ]
  },
  {
   "cell_type": "code",
   "execution_count": null,
   "id": "e9576d15",
   "metadata": {},
   "outputs": [],
   "source": []
  }
 ],
 "metadata": {
  "kernelspec": {
   "display_name": "Python 3 (ipykernel)",
   "language": "python",
   "name": "python3"
  },
  "language_info": {
   "codemirror_mode": {
    "name": "ipython",
    "version": 3
   },
   "file_extension": ".py",
   "mimetype": "text/x-python",
   "name": "python",
   "nbconvert_exporter": "python",
   "pygments_lexer": "ipython3",
   "version": "3.9.13"
  }
 },
 "nbformat": 4,
 "nbformat_minor": 5
}
