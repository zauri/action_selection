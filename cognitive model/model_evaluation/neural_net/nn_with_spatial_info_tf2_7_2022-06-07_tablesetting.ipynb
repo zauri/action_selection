{
 "cells": [
  {
   "cell_type": "code",
   "execution_count": 2,
   "id": "8da2a4b2",
   "metadata": {
    "scrolled": true
   },
   "outputs": [],
   "source": [
    "import numpy as np\n",
    "import pandas as pd\n",
    "\n",
    "import tensorflow as tf\n",
    "\n",
    "from fastDamerauLevenshtein import damerauLevenshtein\n",
    "from sklearn.preprocessing import MultiLabelBinarizer\n",
    "from sklearn.model_selection import StratifiedShuffleSplit, train_test_split\n",
    "from tensorflow.keras import layers"
   ]
  },
  {
   "cell_type": "code",
   "execution_count": null,
   "id": "a36834bf",
   "metadata": {},
   "outputs": [],
   "source": []
  },
  {
   "cell_type": "code",
   "execution_count": 3,
   "id": "49e7518e",
   "metadata": {},
   "outputs": [],
   "source": [
    "df = pd.read_csv('data/single_step_df_ints_2022-06-03_encoded.csv', header=0)"
   ]
  },
  {
   "cell_type": "code",
   "execution_count": 33,
   "id": "99988333",
   "metadata": {},
   "outputs": [
    {
     "data": {
      "text/html": [
       "<div>\n",
       "<style scoped>\n",
       "    .dataframe tbody tr th:only-of-type {\n",
       "        vertical-align: middle;\n",
       "    }\n",
       "\n",
       "    .dataframe tbody tr th {\n",
       "        vertical-align: top;\n",
       "    }\n",
       "\n",
       "    .dataframe thead th {\n",
       "        text-align: right;\n",
       "    }\n",
       "</style>\n",
       "<table border=\"1\" class=\"dataframe\">\n",
       "  <thead>\n",
       "    <tr style=\"text-align: right;\">\n",
       "      <th></th>\n",
       "      <th>input</th>\n",
       "      <th>target</th>\n",
       "      <th>start_coords.x</th>\n",
       "      <th>start_coords.y</th>\n",
       "      <th>start_coords.z</th>\n",
       "      <th>p.already_seen</th>\n",
       "      <th>n.already_seen</th>\n",
       "      <th>w.already_seen</th>\n",
       "      <th>t.already_seen</th>\n",
       "      <th>g.already_seen</th>\n",
       "      <th>...</th>\n",
       "      <th>v.food_k</th>\n",
       "      <th>v.strong_k</th>\n",
       "      <th>v.mid_k</th>\n",
       "      <th>coordinates_y.x</th>\n",
       "      <th>coordinates_y.y</th>\n",
       "      <th>coordinates_y.z</th>\n",
       "      <th>y.containment</th>\n",
       "      <th>y.food_k</th>\n",
       "      <th>y.strong_k</th>\n",
       "      <th>y.mid_k</th>\n",
       "    </tr>\n",
       "  </thead>\n",
       "  <tbody>\n",
       "    <tr>\n",
       "      <th>0</th>\n",
       "      <td>&lt;start&gt;</td>\n",
       "      <td>p</td>\n",
       "      <td>-0.451354</td>\n",
       "      <td>-0.413918</td>\n",
       "      <td>0.156247</td>\n",
       "      <td>0.0</td>\n",
       "      <td>0.0</td>\n",
       "      <td>0.0</td>\n",
       "      <td>0.0</td>\n",
       "      <td>0.0</td>\n",
       "      <td>...</td>\n",
       "      <td>-99.0</td>\n",
       "      <td>-99.0</td>\n",
       "      <td>-99.0</td>\n",
       "      <td>-99.0</td>\n",
       "      <td>-99.0</td>\n",
       "      <td>-99.0</td>\n",
       "      <td>-99.0</td>\n",
       "      <td>-99.0</td>\n",
       "      <td>-99.0</td>\n",
       "      <td>-99.0</td>\n",
       "    </tr>\n",
       "    <tr>\n",
       "      <th>1</th>\n",
       "      <td>p</td>\n",
       "      <td>o</td>\n",
       "      <td>0.513000</td>\n",
       "      <td>-0.531000</td>\n",
       "      <td>0.740000</td>\n",
       "      <td>1.0</td>\n",
       "      <td>0.0</td>\n",
       "      <td>0.0</td>\n",
       "      <td>0.0</td>\n",
       "      <td>0.0</td>\n",
       "      <td>...</td>\n",
       "      <td>-99.0</td>\n",
       "      <td>-99.0</td>\n",
       "      <td>-99.0</td>\n",
       "      <td>-99.0</td>\n",
       "      <td>-99.0</td>\n",
       "      <td>-99.0</td>\n",
       "      <td>-99.0</td>\n",
       "      <td>-99.0</td>\n",
       "      <td>-99.0</td>\n",
       "      <td>-99.0</td>\n",
       "    </tr>\n",
       "    <tr>\n",
       "      <th>2</th>\n",
       "      <td>o</td>\n",
       "      <td>c</td>\n",
       "      <td>0.513000</td>\n",
       "      <td>-0.531000</td>\n",
       "      <td>0.740000</td>\n",
       "      <td>1.0</td>\n",
       "      <td>0.0</td>\n",
       "      <td>0.0</td>\n",
       "      <td>0.0</td>\n",
       "      <td>0.0</td>\n",
       "      <td>...</td>\n",
       "      <td>-99.0</td>\n",
       "      <td>-99.0</td>\n",
       "      <td>-99.0</td>\n",
       "      <td>-99.0</td>\n",
       "      <td>-99.0</td>\n",
       "      <td>-99.0</td>\n",
       "      <td>-99.0</td>\n",
       "      <td>-99.0</td>\n",
       "      <td>-99.0</td>\n",
       "      <td>-99.0</td>\n",
       "    </tr>\n",
       "    <tr>\n",
       "      <th>3</th>\n",
       "      <td>c</td>\n",
       "      <td>g</td>\n",
       "      <td>0.513000</td>\n",
       "      <td>-0.531000</td>\n",
       "      <td>0.740000</td>\n",
       "      <td>1.0</td>\n",
       "      <td>0.0</td>\n",
       "      <td>0.0</td>\n",
       "      <td>0.0</td>\n",
       "      <td>0.0</td>\n",
       "      <td>...</td>\n",
       "      <td>-99.0</td>\n",
       "      <td>-99.0</td>\n",
       "      <td>-99.0</td>\n",
       "      <td>-99.0</td>\n",
       "      <td>-99.0</td>\n",
       "      <td>-99.0</td>\n",
       "      <td>-99.0</td>\n",
       "      <td>-99.0</td>\n",
       "      <td>-99.0</td>\n",
       "      <td>-99.0</td>\n",
       "    </tr>\n",
       "    <tr>\n",
       "      <th>4</th>\n",
       "      <td>g</td>\n",
       "      <td>k</td>\n",
       "      <td>0.513000</td>\n",
       "      <td>-0.531000</td>\n",
       "      <td>0.740000</td>\n",
       "      <td>1.0</td>\n",
       "      <td>0.0</td>\n",
       "      <td>0.0</td>\n",
       "      <td>0.0</td>\n",
       "      <td>1.0</td>\n",
       "      <td>...</td>\n",
       "      <td>-99.0</td>\n",
       "      <td>-99.0</td>\n",
       "      <td>-99.0</td>\n",
       "      <td>-99.0</td>\n",
       "      <td>-99.0</td>\n",
       "      <td>-99.0</td>\n",
       "      <td>-99.0</td>\n",
       "      <td>-99.0</td>\n",
       "      <td>-99.0</td>\n",
       "      <td>-99.0</td>\n",
       "    </tr>\n",
       "    <tr>\n",
       "      <th>...</th>\n",
       "      <td>...</td>\n",
       "      <td>...</td>\n",
       "      <td>...</td>\n",
       "      <td>...</td>\n",
       "      <td>...</td>\n",
       "      <td>...</td>\n",
       "      <td>...</td>\n",
       "      <td>...</td>\n",
       "      <td>...</td>\n",
       "      <td>...</td>\n",
       "      <td>...</td>\n",
       "      <td>...</td>\n",
       "      <td>...</td>\n",
       "      <td>...</td>\n",
       "      <td>...</td>\n",
       "      <td>...</td>\n",
       "      <td>...</td>\n",
       "      <td>...</td>\n",
       "      <td>...</td>\n",
       "      <td>...</td>\n",
       "      <td>...</td>\n",
       "    </tr>\n",
       "    <tr>\n",
       "      <th>1430</th>\n",
       "      <td>&lt;start&gt;</td>\n",
       "      <td>h</td>\n",
       "      <td>1.000000</td>\n",
       "      <td>3.000000</td>\n",
       "      <td>2.000000</td>\n",
       "      <td>0.0</td>\n",
       "      <td>0.0</td>\n",
       "      <td>0.0</td>\n",
       "      <td>0.0</td>\n",
       "      <td>0.0</td>\n",
       "      <td>...</td>\n",
       "      <td>-99.0</td>\n",
       "      <td>-99.0</td>\n",
       "      <td>-99.0</td>\n",
       "      <td>-99.0</td>\n",
       "      <td>-99.0</td>\n",
       "      <td>-99.0</td>\n",
       "      <td>-99.0</td>\n",
       "      <td>-99.0</td>\n",
       "      <td>-99.0</td>\n",
       "      <td>-99.0</td>\n",
       "    </tr>\n",
       "    <tr>\n",
       "      <th>1431</th>\n",
       "      <td>h</td>\n",
       "      <td>h</td>\n",
       "      <td>0.000000</td>\n",
       "      <td>4.000000</td>\n",
       "      <td>1.000000</td>\n",
       "      <td>0.0</td>\n",
       "      <td>0.0</td>\n",
       "      <td>0.0</td>\n",
       "      <td>0.0</td>\n",
       "      <td>0.0</td>\n",
       "      <td>...</td>\n",
       "      <td>-99.0</td>\n",
       "      <td>-99.0</td>\n",
       "      <td>-99.0</td>\n",
       "      <td>-99.0</td>\n",
       "      <td>-99.0</td>\n",
       "      <td>-99.0</td>\n",
       "      <td>-99.0</td>\n",
       "      <td>-99.0</td>\n",
       "      <td>-99.0</td>\n",
       "      <td>-99.0</td>\n",
       "    </tr>\n",
       "    <tr>\n",
       "      <th>1432</th>\n",
       "      <td>h</td>\n",
       "      <td>s</td>\n",
       "      <td>0.000000</td>\n",
       "      <td>4.000000</td>\n",
       "      <td>1.000000</td>\n",
       "      <td>0.0</td>\n",
       "      <td>0.0</td>\n",
       "      <td>0.0</td>\n",
       "      <td>0.0</td>\n",
       "      <td>0.0</td>\n",
       "      <td>...</td>\n",
       "      <td>-99.0</td>\n",
       "      <td>-99.0</td>\n",
       "      <td>-99.0</td>\n",
       "      <td>-99.0</td>\n",
       "      <td>-99.0</td>\n",
       "      <td>-99.0</td>\n",
       "      <td>-99.0</td>\n",
       "      <td>-99.0</td>\n",
       "      <td>-99.0</td>\n",
       "      <td>-99.0</td>\n",
       "    </tr>\n",
       "    <tr>\n",
       "      <th>1433</th>\n",
       "      <td>s</td>\n",
       "      <td>d</td>\n",
       "      <td>0.000000</td>\n",
       "      <td>2.000000</td>\n",
       "      <td>2.000000</td>\n",
       "      <td>0.0</td>\n",
       "      <td>0.0</td>\n",
       "      <td>0.0</td>\n",
       "      <td>0.0</td>\n",
       "      <td>0.0</td>\n",
       "      <td>...</td>\n",
       "      <td>-99.0</td>\n",
       "      <td>-99.0</td>\n",
       "      <td>-99.0</td>\n",
       "      <td>-99.0</td>\n",
       "      <td>-99.0</td>\n",
       "      <td>-99.0</td>\n",
       "      <td>-99.0</td>\n",
       "      <td>-99.0</td>\n",
       "      <td>-99.0</td>\n",
       "      <td>-99.0</td>\n",
       "    </tr>\n",
       "    <tr>\n",
       "      <th>1434</th>\n",
       "      <td>d</td>\n",
       "      <td>g</td>\n",
       "      <td>0.000000</td>\n",
       "      <td>1.000000</td>\n",
       "      <td>3.000000</td>\n",
       "      <td>0.0</td>\n",
       "      <td>0.0</td>\n",
       "      <td>0.0</td>\n",
       "      <td>0.0</td>\n",
       "      <td>0.0</td>\n",
       "      <td>...</td>\n",
       "      <td>-99.0</td>\n",
       "      <td>-99.0</td>\n",
       "      <td>-99.0</td>\n",
       "      <td>-99.0</td>\n",
       "      <td>-99.0</td>\n",
       "      <td>-99.0</td>\n",
       "      <td>-99.0</td>\n",
       "      <td>-99.0</td>\n",
       "      <td>-99.0</td>\n",
       "      <td>-99.0</td>\n",
       "    </tr>\n",
       "  </tbody>\n",
       "</table>\n",
       "<p>1435 rows × 197 columns</p>\n",
       "</div>"
      ],
      "text/plain": [
       "        input target  start_coords.x  start_coords.y  start_coords.z  \\\n",
       "0     <start>      p       -0.451354       -0.413918        0.156247   \n",
       "1           p      o        0.513000       -0.531000        0.740000   \n",
       "2           o      c        0.513000       -0.531000        0.740000   \n",
       "3           c      g        0.513000       -0.531000        0.740000   \n",
       "4           g      k        0.513000       -0.531000        0.740000   \n",
       "...       ...    ...             ...             ...             ...   \n",
       "1430  <start>      h        1.000000        3.000000        2.000000   \n",
       "1431        h      h        0.000000        4.000000        1.000000   \n",
       "1432        h      s        0.000000        4.000000        1.000000   \n",
       "1433        s      d        0.000000        2.000000        2.000000   \n",
       "1434        d      g        0.000000        1.000000        3.000000   \n",
       "\n",
       "      p.already_seen  n.already_seen  w.already_seen  t.already_seen  \\\n",
       "0                0.0             0.0             0.0             0.0   \n",
       "1                1.0             0.0             0.0             0.0   \n",
       "2                1.0             0.0             0.0             0.0   \n",
       "3                1.0             0.0             0.0             0.0   \n",
       "4                1.0             0.0             0.0             0.0   \n",
       "...              ...             ...             ...             ...   \n",
       "1430             0.0             0.0             0.0             0.0   \n",
       "1431             0.0             0.0             0.0             0.0   \n",
       "1432             0.0             0.0             0.0             0.0   \n",
       "1433             0.0             0.0             0.0             0.0   \n",
       "1434             0.0             0.0             0.0             0.0   \n",
       "\n",
       "      g.already_seen  ...  v.food_k  v.strong_k  v.mid_k  coordinates_y.x  \\\n",
       "0                0.0  ...     -99.0       -99.0    -99.0            -99.0   \n",
       "1                0.0  ...     -99.0       -99.0    -99.0            -99.0   \n",
       "2                0.0  ...     -99.0       -99.0    -99.0            -99.0   \n",
       "3                0.0  ...     -99.0       -99.0    -99.0            -99.0   \n",
       "4                1.0  ...     -99.0       -99.0    -99.0            -99.0   \n",
       "...              ...  ...       ...         ...      ...              ...   \n",
       "1430             0.0  ...     -99.0       -99.0    -99.0            -99.0   \n",
       "1431             0.0  ...     -99.0       -99.0    -99.0            -99.0   \n",
       "1432             0.0  ...     -99.0       -99.0    -99.0            -99.0   \n",
       "1433             0.0  ...     -99.0       -99.0    -99.0            -99.0   \n",
       "1434             0.0  ...     -99.0       -99.0    -99.0            -99.0   \n",
       "\n",
       "      coordinates_y.y  coordinates_y.z  y.containment  y.food_k  y.strong_k  \\\n",
       "0               -99.0            -99.0          -99.0     -99.0       -99.0   \n",
       "1               -99.0            -99.0          -99.0     -99.0       -99.0   \n",
       "2               -99.0            -99.0          -99.0     -99.0       -99.0   \n",
       "3               -99.0            -99.0          -99.0     -99.0       -99.0   \n",
       "4               -99.0            -99.0          -99.0     -99.0       -99.0   \n",
       "...               ...              ...            ...       ...         ...   \n",
       "1430            -99.0            -99.0          -99.0     -99.0       -99.0   \n",
       "1431            -99.0            -99.0          -99.0     -99.0       -99.0   \n",
       "1432            -99.0            -99.0          -99.0     -99.0       -99.0   \n",
       "1433            -99.0            -99.0          -99.0     -99.0       -99.0   \n",
       "1434            -99.0            -99.0          -99.0     -99.0       -99.0   \n",
       "\n",
       "      y.mid_k  \n",
       "0       -99.0  \n",
       "1       -99.0  \n",
       "2       -99.0  \n",
       "3       -99.0  \n",
       "4       -99.0  \n",
       "...       ...  \n",
       "1430    -99.0  \n",
       "1431    -99.0  \n",
       "1432    -99.0  \n",
       "1433    -99.0  \n",
       "1434    -99.0  \n",
       "\n",
       "[1435 rows x 197 columns]"
      ]
     },
     "execution_count": 33,
     "metadata": {},
     "output_type": "execute_result"
    }
   ],
   "source": [
    "df_new[:1435]"
   ]
  },
  {
   "cell_type": "code",
   "execution_count": 15,
   "id": "52fca39b",
   "metadata": {},
   "outputs": [],
   "source": [
    "float_cols = df.select_dtypes(include=['float64']).columns\n",
    "df.loc[:, float_cols] = df.loc[:, float_cols].fillna(-99)"
   ]
  },
  {
   "cell_type": "code",
   "execution_count": 32,
   "id": "f8e9acc0",
   "metadata": {},
   "outputs": [
    {
     "data": {
      "text/plain": [
       "p    188\n",
       "k    162\n",
       "g    160\n",
       "f    157\n",
       "c    148\n",
       "s    134\n",
       "b     77\n",
       "w     74\n",
       "o     73\n",
       "a     72\n",
       "r     47\n",
       "d     27\n",
       "h     27\n",
       "e     22\n",
       "t     22\n",
       "z     21\n",
       "m     13\n",
       "n      9\n",
       "x      2\n",
       "Name: target, dtype: int64"
      ]
     },
     "execution_count": 32,
     "metadata": {},
     "output_type": "execute_result"
    }
   ],
   "source": [
    "df['target'].unique()\n",
    "df_new[:1435]['target'].value_counts()\n",
    "#df[:1437]['target'].loc[df[:1437]['target'] == 'i'].index[0]"
   ]
  },
  {
   "cell_type": "code",
   "execution_count": 17,
   "id": "af2bd3d1",
   "metadata": {},
   "outputs": [
    {
     "data": {
      "text/plain": [
       "1945"
      ]
     },
     "execution_count": 17,
     "metadata": {},
     "output_type": "execute_result"
    }
   ],
   "source": [
    "index_to_drop = df['target'].loc[df['target'] == 'y'].index[0]\n",
    "index_to_drop"
   ]
  },
  {
   "cell_type": "code",
   "execution_count": 18,
   "id": "d3401a72",
   "metadata": {},
   "outputs": [],
   "source": [
    "nr_of_sequences = len(df[df['input'] == '<start>'])"
   ]
  },
  {
   "cell_type": "code",
   "execution_count": 28,
   "id": "16af1823",
   "metadata": {},
   "outputs": [],
   "source": [
    "# remove row with target that only occurs once\n",
    "\n",
    "df_new = df.drop(index=[index_to_drop, 727], axis=0)\n",
    "df_new.reset_index(inplace=True, drop=True)"
   ]
  },
  {
   "cell_type": "code",
   "execution_count": 34,
   "id": "5491f1a4",
   "metadata": {},
   "outputs": [],
   "source": [
    "# generate stratified split\n",
    "\n",
    "split = StratifiedShuffleSplit(n_splits=10, test_size=0.3, random_state=42)\n",
    "\n",
    "for train_index, test_index in split.split(df_new[:1435], df_new[:1435]['target']):\n",
    "    strat_train = df_new.loc[train_index]\n",
    "    strat_test_val = df_new.loc[test_index]"
   ]
  },
  {
   "cell_type": "code",
   "execution_count": null,
   "id": "a3b13b3c",
   "metadata": {},
   "outputs": [],
   "source": []
  },
  {
   "cell_type": "code",
   "execution_count": 35,
   "id": "11eba3ad",
   "metadata": {},
   "outputs": [],
   "source": [
    "# split test_val into test and val\n",
    "\n",
    "split_test_val = len(strat_test_val)//2\n",
    "\n",
    "strat_test = strat_test_val[:split_test_val]\n",
    "strat_val = strat_test_val[split_test_val:]"
   ]
  },
  {
   "cell_type": "code",
   "execution_count": 36,
   "id": "ead4a95d",
   "metadata": {},
   "outputs": [],
   "source": [
    "# generate list of labels to pass to MultiLabelBinarizer so there's the same number of\n",
    "# classes for all datasets\n",
    "\n",
    "labels = df_new['target'].unique()"
   ]
  },
  {
   "cell_type": "code",
   "execution_count": 37,
   "id": "ce71230e",
   "metadata": {},
   "outputs": [
    {
     "data": {
      "text/plain": [
       "23"
      ]
     },
     "execution_count": 37,
     "metadata": {},
     "output_type": "execute_result"
    }
   ],
   "source": [
    "len(labels)"
   ]
  },
  {
   "cell_type": "code",
   "execution_count": 38,
   "id": "2e8da447",
   "metadata": {},
   "outputs": [],
   "source": [
    "def create_dataset(dataframe, labels, shuffle=True, batch_size=32):\n",
    "    df = dataframe.copy()\n",
    "    labels_ds = df.pop('target')\n",
    "    encoder = MultiLabelBinarizer(classes=labels)\n",
    "    encoded_labels = encoder.fit_transform(labels_ds)\n",
    "    \n",
    "    df = {key: value[:, tf.newaxis] for key, value in df.items()}\n",
    "    dataset = tf.data.Dataset.from_tensor_slices((dict(df), encoded_labels))\n",
    "    if shuffle:\n",
    "        dataset = dataset.shuffle(buffer_size=len(dataframe))\n",
    "    \n",
    "    dataset = dataset.batch(batch_size)\n",
    "    dataset = dataset.prefetch(batch_size)\n",
    "    \n",
    "    return dataset"
   ]
  },
  {
   "cell_type": "code",
   "execution_count": 39,
   "id": "9e6e6001",
   "metadata": {},
   "outputs": [],
   "source": [
    "batch_size = 128"
   ]
  },
  {
   "cell_type": "code",
   "execution_count": 40,
   "id": "416e6d06",
   "metadata": {
    "collapsed": true
   },
   "outputs": [
    {
     "name": "stderr",
     "output_type": "stream",
     "text": [
      "/tmp/ipykernel_10257/1510453973.py:7: FutureWarning: Support for multi-dimensional indexing (e.g. `obj[:, None]`) is deprecated and will be removed in a future version.  Convert to a numpy array before indexing instead.\n",
      "  df = {key: value[:, tf.newaxis] for key, value in df.items()}\n",
      "2022-06-07 10:01:33.321333: I tensorflow/stream_executor/cuda/cuda_gpu_executor.cc:939] successful NUMA node read from SysFS had negative value (-1), but there must be at least one NUMA node, so returning NUMA node zero\n",
      "2022-06-07 10:01:33.477273: I tensorflow/stream_executor/cuda/cuda_gpu_executor.cc:939] successful NUMA node read from SysFS had negative value (-1), but there must be at least one NUMA node, so returning NUMA node zero\n",
      "2022-06-07 10:01:33.477866: I tensorflow/stream_executor/cuda/cuda_gpu_executor.cc:939] successful NUMA node read from SysFS had negative value (-1), but there must be at least one NUMA node, so returning NUMA node zero\n",
      "2022-06-07 10:01:33.481808: I tensorflow/core/platform/cpu_feature_guard.cc:151] This TensorFlow binary is optimized with oneAPI Deep Neural Network Library (oneDNN) to use the following CPU instructions in performance-critical operations:  SSE4.1 SSE4.2 AVX AVX2 FMA\n",
      "To enable them in other operations, rebuild TensorFlow with the appropriate compiler flags.\n",
      "2022-06-07 10:01:33.484338: I tensorflow/stream_executor/cuda/cuda_gpu_executor.cc:939] successful NUMA node read from SysFS had negative value (-1), but there must be at least one NUMA node, so returning NUMA node zero\n",
      "2022-06-07 10:01:33.485009: I tensorflow/stream_executor/cuda/cuda_gpu_executor.cc:939] successful NUMA node read from SysFS had negative value (-1), but there must be at least one NUMA node, so returning NUMA node zero\n",
      "2022-06-07 10:01:33.485608: I tensorflow/stream_executor/cuda/cuda_gpu_executor.cc:939] successful NUMA node read from SysFS had negative value (-1), but there must be at least one NUMA node, so returning NUMA node zero\n",
      "2022-06-07 10:01:34.757956: I tensorflow/stream_executor/cuda/cuda_gpu_executor.cc:939] successful NUMA node read from SysFS had negative value (-1), but there must be at least one NUMA node, so returning NUMA node zero\n",
      "2022-06-07 10:01:34.758545: I tensorflow/stream_executor/cuda/cuda_gpu_executor.cc:939] successful NUMA node read from SysFS had negative value (-1), but there must be at least one NUMA node, so returning NUMA node zero\n",
      "2022-06-07 10:01:34.759046: I tensorflow/stream_executor/cuda/cuda_gpu_executor.cc:939] successful NUMA node read from SysFS had negative value (-1), but there must be at least one NUMA node, so returning NUMA node zero\n",
      "2022-06-07 10:01:34.759799: I tensorflow/core/common_runtime/gpu/gpu_device.cc:1525] Created device /job:localhost/replica:0/task:0/device:GPU:0 with 6510 MB memory:  -> device: 0, name: NVIDIA GeForce GTX 1070 Ti, pci bus id: 0000:01:00.0, compute capability: 6.1\n"
     ]
    }
   ],
   "source": [
    "train_ds = create_dataset(strat_train, labels, batch_size=batch_size)\n",
    "val_ds = create_dataset(strat_val, labels, shuffle=False, batch_size=batch_size)\n",
    "test_ds = create_dataset(strat_test, labels, shuffle=False, batch_size=batch_size)"
   ]
  },
  {
   "cell_type": "code",
   "execution_count": null,
   "id": "ceb42795",
   "metadata": {},
   "outputs": [],
   "source": []
  },
  {
   "cell_type": "code",
   "execution_count": 41,
   "id": "06f4db47",
   "metadata": {},
   "outputs": [],
   "source": [
    "def get_normalization_layer(name, dataset):\n",
    "  # Create a Normalization layer for the feature.\n",
    "    normalizer = layers.Normalization(axis=None)\n",
    "\n",
    "  # Prepare a Dataset that only yields the feature.\n",
    "    feature_ds = dataset.map(lambda x, y: x[name])\n",
    "\n",
    "  # Learn the statistics of the data.\n",
    "    normalizer.adapt(feature_ds)\n",
    "    \n",
    "    return normalizer"
   ]
  },
  {
   "cell_type": "code",
   "execution_count": 42,
   "id": "597f7ff6",
   "metadata": {},
   "outputs": [],
   "source": [
    "def get_category_encoding_layer(name, dataset, dtype, max_tokens=None):\n",
    "    if dtype == 'string':\n",
    "        index = layers.StringLookup(max_tokens=max_tokens)\n",
    "    else:\n",
    "        index = layers.IntegerLookup(max_tokens=max_tokens)\n",
    "        \n",
    "    # prepare tf.data.Dataset that only yields the feature    \n",
    "    feature_ds = dataset.map(lambda x, y: x[name])\n",
    "    \n",
    "    # learn set of possible values and assign fixed int index\n",
    "    index.adapt(feature_ds)\n",
    "    \n",
    "    # encode int indices\n",
    "    encoder = layers.CategoryEncoding(num_tokens=index.vocabulary_size())\n",
    "    \n",
    "    # apply multi-hot encoding to indices\n",
    "    # lambda function captures the layer to include them in Keras functional models later\n",
    "    return lambda feature: encoder(index(feature))"
   ]
  },
  {
   "cell_type": "code",
   "execution_count": 43,
   "id": "9ce78468",
   "metadata": {},
   "outputs": [],
   "source": [
    "def create_input_data(dataframe):\n",
    "    all_inputs = []\n",
    "    encoded_features = []\n",
    "    \n",
    "    for header in dataframe.columns:\n",
    "        # numerical features\n",
    "        if 'coord' in header or 'already' in header:\n",
    "            numeric_col = tf.keras.Input(shape=(1,), name=header)\n",
    "            normalization_layer = get_normalization_layer(header, train_ds)\n",
    "            encoded_numeric_col = normalization_layer(numeric_col)\n",
    "            all_inputs.append(numeric_col)\n",
    "            encoded_features.append(encoded_numeric_col)\n",
    "        \n",
    "        # categorical features\n",
    "        elif 'containment' in header or 'food' in header or 'mid' in header or \\\n",
    "        'strong' in header:\n",
    "            categorical_col = tf.keras.Input(shape=(1,), name=header, dtype='int64')\n",
    "            encoding_layer = get_category_encoding_layer(name=header,\n",
    "                                                        dataset=train_ds,\n",
    "                                                        dtype='int64')\n",
    "            encoded_categorical_col = encoding_layer(categorical_col)\n",
    "            all_inputs.append(categorical_col)\n",
    "            encoded_features.append(encoded_categorical_col)\n",
    "            \n",
    "        elif header == 'input':\n",
    "            categorical_col = tf.keras.Input(shape=(1,), name='input', dtype='string')\n",
    "            encoding_layer = get_category_encoding_layer(name='input',\n",
    "                                                        dataset=train_ds,\n",
    "                                                        dtype='string')\n",
    "            encoded_categorical_col = encoding_layer(categorical_col)\n",
    "            all_inputs.append(categorical_col)\n",
    "            encoded_features.append(encoded_categorical_col)\n",
    "            \n",
    "    return all_inputs, encoded_features"
   ]
  },
  {
   "cell_type": "code",
   "execution_count": 44,
   "id": "8d333498",
   "metadata": {},
   "outputs": [],
   "source": [
    "all_inputs, encoded_features = create_input_data(df)"
   ]
  },
  {
   "cell_type": "code",
   "execution_count": 45,
   "id": "2de5cf76",
   "metadata": {},
   "outputs": [],
   "source": [
    "callback = tf.keras.callbacks.EarlyStopping(monitor='loss', patience=5)"
   ]
  },
  {
   "cell_type": "code",
   "execution_count": 46,
   "id": "5caa2ed3",
   "metadata": {},
   "outputs": [],
   "source": [
    "# use model from tutorial with dense layers\n",
    "\n",
    "all_features = tf.keras.layers.concatenate(encoded_features)\n",
    "x = tf.keras.layers.Dense(512, activation=\"relu\")(all_features)\n",
    "x = tf.keras.layers.Dropout(0.5)(x)\n",
    "x = tf.keras.layers.Dense(256, activation=\"relu\")(all_features)\n",
    "x = tf.keras.layers.Dropout(0.5)(x)\n",
    "output = tf.keras.layers.Dense(len(labels))(x)\n",
    "\n",
    "model = tf.keras.Model(all_inputs, output)"
   ]
  },
  {
   "cell_type": "code",
   "execution_count": 47,
   "id": "c1736d3d",
   "metadata": {},
   "outputs": [],
   "source": [
    "model.compile(optimizer='adam',\n",
    "             loss=tf.keras.losses.CategoricalCrossentropy(from_logits=True),\n",
    "             metrics=[\"accuracy\"])"
   ]
  },
  {
   "cell_type": "code",
   "execution_count": 81,
   "id": "5f1f8941",
   "metadata": {},
   "outputs": [],
   "source": [
    "#tf.keras.utils.plot_model(model, show_shapes=True, rankdir='LR')"
   ]
  },
  {
   "cell_type": "code",
   "execution_count": 48,
   "id": "9dee9ed0",
   "metadata": {
    "scrolled": true
   },
   "outputs": [
    {
     "name": "stdout",
     "output_type": "stream",
     "text": [
      "Epoch 1/100\n",
      "8/8 [==============================] - 7s 304ms/step - loss: 3.0609 - accuracy: 0.1016 - val_loss: 10951.2148 - val_accuracy: 0.1620\n",
      "Epoch 2/100\n",
      "8/8 [==============================] - 0s 35ms/step - loss: 2.4901 - accuracy: 0.1763 - val_loss: 10627.0107 - val_accuracy: 0.2639\n",
      "Epoch 3/100\n",
      "8/8 [==============================] - 0s 35ms/step - loss: 2.2458 - accuracy: 0.2301 - val_loss: 11148.8018 - val_accuracy: 0.3056\n",
      "Epoch 4/100\n",
      "8/8 [==============================] - 0s 35ms/step - loss: 2.1061 - accuracy: 0.2560 - val_loss: 11253.6377 - val_accuracy: 0.3704\n",
      "Epoch 5/100\n",
      "8/8 [==============================] - 0s 35ms/step - loss: 2.0322 - accuracy: 0.2799 - val_loss: 11714.4424 - val_accuracy: 0.4074\n",
      "Epoch 6/100\n",
      "8/8 [==============================] - 0s 35ms/step - loss: 1.9708 - accuracy: 0.2928 - val_loss: 12037.5859 - val_accuracy: 0.3889\n",
      "Epoch 7/100\n",
      "8/8 [==============================] - 0s 36ms/step - loss: 1.8996 - accuracy: 0.3287 - val_loss: 13421.5254 - val_accuracy: 0.3843\n",
      "Epoch 8/100\n",
      "8/8 [==============================] - 0s 35ms/step - loss: 1.8351 - accuracy: 0.3526 - val_loss: 13883.0586 - val_accuracy: 0.4491\n",
      "Epoch 9/100\n",
      "8/8 [==============================] - 0s 36ms/step - loss: 1.7607 - accuracy: 0.3715 - val_loss: 14645.7129 - val_accuracy: 0.4398\n",
      "Epoch 10/100\n",
      "8/8 [==============================] - 0s 35ms/step - loss: 1.7180 - accuracy: 0.3964 - val_loss: 14557.0391 - val_accuracy: 0.5000\n",
      "Epoch 11/100\n",
      "8/8 [==============================] - 0s 38ms/step - loss: 1.6656 - accuracy: 0.4124 - val_loss: 16359.3164 - val_accuracy: 0.4769\n",
      "Epoch 12/100\n",
      "8/8 [==============================] - 0s 35ms/step - loss: 1.6337 - accuracy: 0.4064 - val_loss: 16548.3184 - val_accuracy: 0.5093\n",
      "Epoch 13/100\n",
      "8/8 [==============================] - 0s 35ms/step - loss: 1.5878 - accuracy: 0.4432 - val_loss: 17101.3086 - val_accuracy: 0.5324\n",
      "Epoch 14/100\n",
      "8/8 [==============================] - 0s 36ms/step - loss: 1.5695 - accuracy: 0.4313 - val_loss: 17259.7910 - val_accuracy: 0.5139\n",
      "Epoch 15/100\n",
      "8/8 [==============================] - 0s 36ms/step - loss: 1.5317 - accuracy: 0.4542 - val_loss: 17637.6426 - val_accuracy: 0.5000\n",
      "Epoch 16/100\n",
      "8/8 [==============================] - 0s 36ms/step - loss: 1.4969 - accuracy: 0.4761 - val_loss: 18650.4414 - val_accuracy: 0.5185\n",
      "Epoch 17/100\n",
      "8/8 [==============================] - 0s 36ms/step - loss: 1.4798 - accuracy: 0.4651 - val_loss: 18005.2891 - val_accuracy: 0.5278\n",
      "Epoch 18/100\n",
      "8/8 [==============================] - 0s 36ms/step - loss: 1.4419 - accuracy: 0.4801 - val_loss: 18577.6602 - val_accuracy: 0.5509\n",
      "Epoch 19/100\n",
      "8/8 [==============================] - 0s 37ms/step - loss: 1.4190 - accuracy: 0.4990 - val_loss: 19178.3203 - val_accuracy: 0.5324\n",
      "Epoch 20/100\n",
      "8/8 [==============================] - 0s 37ms/step - loss: 1.4102 - accuracy: 0.5010 - val_loss: 18720.3906 - val_accuracy: 0.5046\n",
      "Epoch 21/100\n",
      "8/8 [==============================] - 0s 38ms/step - loss: 1.3989 - accuracy: 0.5040 - val_loss: 19591.2988 - val_accuracy: 0.5417\n",
      "Epoch 22/100\n",
      "8/8 [==============================] - 0s 35ms/step - loss: 1.3495 - accuracy: 0.5239 - val_loss: 19415.3164 - val_accuracy: 0.5231\n",
      "Epoch 23/100\n",
      "8/8 [==============================] - 0s 36ms/step - loss: 1.3416 - accuracy: 0.5279 - val_loss: 20739.4961 - val_accuracy: 0.5278\n",
      "Epoch 24/100\n",
      "8/8 [==============================] - 0s 37ms/step - loss: 1.3256 - accuracy: 0.5189 - val_loss: 19804.1406 - val_accuracy: 0.5463\n",
      "Epoch 25/100\n",
      "8/8 [==============================] - 0s 36ms/step - loss: 1.2841 - accuracy: 0.5458 - val_loss: 20361.5547 - val_accuracy: 0.5324\n",
      "Epoch 26/100\n",
      "8/8 [==============================] - 0s 35ms/step - loss: 1.2406 - accuracy: 0.5608 - val_loss: 20388.1777 - val_accuracy: 0.5509\n",
      "Epoch 27/100\n",
      "8/8 [==============================] - 0s 35ms/step - loss: 1.2874 - accuracy: 0.5528 - val_loss: 20478.9844 - val_accuracy: 0.5185\n",
      "Epoch 28/100\n",
      "8/8 [==============================] - 0s 36ms/step - loss: 1.2436 - accuracy: 0.5428 - val_loss: 20726.1953 - val_accuracy: 0.5509\n",
      "Epoch 29/100\n",
      "8/8 [==============================] - 0s 35ms/step - loss: 1.2282 - accuracy: 0.5797 - val_loss: 19912.2773 - val_accuracy: 0.5370\n",
      "Epoch 30/100\n",
      "8/8 [==============================] - 0s 35ms/step - loss: 1.2107 - accuracy: 0.5807 - val_loss: 20351.5527 - val_accuracy: 0.5417\n",
      "Epoch 31/100\n",
      "8/8 [==============================] - 0s 36ms/step - loss: 1.2133 - accuracy: 0.5707 - val_loss: 20906.6172 - val_accuracy: 0.5602\n",
      "Epoch 32/100\n",
      "8/8 [==============================] - 0s 36ms/step - loss: 1.1735 - accuracy: 0.5807 - val_loss: 20372.6367 - val_accuracy: 0.5509\n",
      "Epoch 33/100\n",
      "8/8 [==============================] - 0s 36ms/step - loss: 1.1628 - accuracy: 0.5886 - val_loss: 20794.3047 - val_accuracy: 0.5602\n",
      "Epoch 34/100\n",
      "8/8 [==============================] - 0s 36ms/step - loss: 1.1829 - accuracy: 0.5857 - val_loss: 20769.8535 - val_accuracy: 0.5463\n",
      "Epoch 35/100\n",
      "8/8 [==============================] - 0s 35ms/step - loss: 1.1624 - accuracy: 0.5936 - val_loss: 21292.0664 - val_accuracy: 0.5370\n",
      "Epoch 36/100\n",
      "8/8 [==============================] - 0s 36ms/step - loss: 1.1796 - accuracy: 0.5787 - val_loss: 21988.2129 - val_accuracy: 0.5694\n",
      "Epoch 37/100\n",
      "8/8 [==============================] - 0s 36ms/step - loss: 1.1715 - accuracy: 0.5777 - val_loss: 21662.7734 - val_accuracy: 0.5417\n",
      "Epoch 38/100\n",
      "8/8 [==============================] - 0s 37ms/step - loss: 1.1415 - accuracy: 0.6006 - val_loss: 21766.0742 - val_accuracy: 0.5509\n",
      "Epoch 39/100\n",
      "8/8 [==============================] - 0s 36ms/step - loss: 1.1156 - accuracy: 0.6026 - val_loss: 21502.0391 - val_accuracy: 0.5648\n",
      "Epoch 40/100\n",
      "8/8 [==============================] - 0s 36ms/step - loss: 1.1062 - accuracy: 0.6145 - val_loss: 22194.0391 - val_accuracy: 0.5463\n",
      "Epoch 41/100\n",
      "8/8 [==============================] - 0s 38ms/step - loss: 1.1066 - accuracy: 0.6165 - val_loss: 21586.1133 - val_accuracy: 0.5556\n",
      "Epoch 42/100\n",
      "8/8 [==============================] - 0s 37ms/step - loss: 1.1220 - accuracy: 0.5986 - val_loss: 21768.2422 - val_accuracy: 0.5741\n",
      "Epoch 43/100\n",
      "8/8 [==============================] - 0s 36ms/step - loss: 1.0958 - accuracy: 0.6285 - val_loss: 21959.4902 - val_accuracy: 0.5509\n",
      "Epoch 44/100\n",
      "8/8 [==============================] - 0s 36ms/step - loss: 1.0657 - accuracy: 0.6225 - val_loss: 21586.8965 - val_accuracy: 0.5694\n",
      "Epoch 45/100\n",
      "8/8 [==============================] - 0s 35ms/step - loss: 1.0659 - accuracy: 0.6305 - val_loss: 22819.4531 - val_accuracy: 0.5509\n",
      "Epoch 46/100\n",
      "8/8 [==============================] - 0s 36ms/step - loss: 1.0807 - accuracy: 0.6056 - val_loss: 21847.0586 - val_accuracy: 0.5741\n",
      "Epoch 47/100\n",
      "8/8 [==============================] - 0s 37ms/step - loss: 1.0641 - accuracy: 0.6365 - val_loss: 22111.5293 - val_accuracy: 0.5741\n",
      "Epoch 48/100\n",
      "8/8 [==============================] - 0s 36ms/step - loss: 1.0742 - accuracy: 0.6205 - val_loss: 22141.6875 - val_accuracy: 0.5648\n",
      "Epoch 49/100\n",
      "8/8 [==============================] - 0s 36ms/step - loss: 1.0497 - accuracy: 0.6255 - val_loss: 22095.2363 - val_accuracy: 0.5370\n",
      "Epoch 50/100\n",
      "8/8 [==============================] - 0s 36ms/step - loss: 1.0139 - accuracy: 0.6424 - val_loss: 22268.9531 - val_accuracy: 0.5787\n",
      "Epoch 51/100\n",
      "8/8 [==============================] - 0s 35ms/step - loss: 1.0388 - accuracy: 0.6295 - val_loss: 22603.8457 - val_accuracy: 0.5556\n",
      "Epoch 52/100\n",
      "8/8 [==============================] - 0s 38ms/step - loss: 1.0073 - accuracy: 0.6275 - val_loss: 23685.7852 - val_accuracy: 0.5556\n",
      "Epoch 53/100\n",
      "8/8 [==============================] - 0s 37ms/step - loss: 1.0122 - accuracy: 0.6335 - val_loss: 23218.7461 - val_accuracy: 0.5694\n",
      "Epoch 54/100\n",
      "8/8 [==============================] - 0s 37ms/step - loss: 1.0205 - accuracy: 0.6394 - val_loss: 22935.0645 - val_accuracy: 0.5926\n",
      "Epoch 55/100\n",
      "8/8 [==============================] - 0s 36ms/step - loss: 1.0038 - accuracy: 0.6355 - val_loss: 22855.6348 - val_accuracy: 0.5648\n",
      "Epoch 56/100\n",
      "8/8 [==============================] - 0s 37ms/step - loss: 1.0154 - accuracy: 0.6295 - val_loss: 23170.5996 - val_accuracy: 0.5833\n",
      "Epoch 57/100\n"
     ]
    },
    {
     "name": "stdout",
     "output_type": "stream",
     "text": [
      "8/8 [==============================] - 0s 35ms/step - loss: 1.0107 - accuracy: 0.6404 - val_loss: 23849.1699 - val_accuracy: 0.5602\n",
      "Epoch 58/100\n",
      "8/8 [==============================] - 0s 35ms/step - loss: 0.9961 - accuracy: 0.6584 - val_loss: 23373.7656 - val_accuracy: 0.5741\n",
      "Epoch 59/100\n",
      "8/8 [==============================] - 0s 36ms/step - loss: 0.9546 - accuracy: 0.6763 - val_loss: 23932.2129 - val_accuracy: 0.5648\n",
      "Epoch 60/100\n",
      "8/8 [==============================] - 0s 36ms/step - loss: 0.9838 - accuracy: 0.6624 - val_loss: 23806.2637 - val_accuracy: 0.5648\n",
      "Epoch 61/100\n",
      "8/8 [==============================] - 0s 36ms/step - loss: 0.9636 - accuracy: 0.6624 - val_loss: 23935.3633 - val_accuracy: 0.5463\n",
      "Epoch 62/100\n",
      "8/8 [==============================] - 0s 36ms/step - loss: 0.9698 - accuracy: 0.6504 - val_loss: 23981.5293 - val_accuracy: 0.5602\n",
      "Epoch 63/100\n",
      "8/8 [==============================] - 0s 36ms/step - loss: 0.9475 - accuracy: 0.6534 - val_loss: 22846.0176 - val_accuracy: 0.5694\n",
      "Epoch 64/100\n",
      "8/8 [==============================] - 0s 35ms/step - loss: 0.9578 - accuracy: 0.6534 - val_loss: 24309.8594 - val_accuracy: 0.5648\n",
      "Epoch 65/100\n",
      "8/8 [==============================] - 0s 36ms/step - loss: 0.9308 - accuracy: 0.6813 - val_loss: 24615.1543 - val_accuracy: 0.5787\n",
      "Epoch 66/100\n",
      "8/8 [==============================] - 0s 35ms/step - loss: 0.9564 - accuracy: 0.6614 - val_loss: 24309.7715 - val_accuracy: 0.5880\n",
      "Epoch 67/100\n",
      "8/8 [==============================] - 0s 36ms/step - loss: 0.9549 - accuracy: 0.6713 - val_loss: 24904.4531 - val_accuracy: 0.5787\n",
      "Epoch 68/100\n",
      "8/8 [==============================] - 0s 35ms/step - loss: 0.9400 - accuracy: 0.6693 - val_loss: 24440.2734 - val_accuracy: 0.5694\n",
      "Epoch 69/100\n",
      "8/8 [==============================] - 0s 37ms/step - loss: 0.9506 - accuracy: 0.6574 - val_loss: 24984.6328 - val_accuracy: 0.5602\n",
      "Epoch 70/100\n",
      "8/8 [==============================] - 0s 35ms/step - loss: 0.9423 - accuracy: 0.6643 - val_loss: 25385.8965 - val_accuracy: 0.5741\n"
     ]
    },
    {
     "data": {
      "text/plain": [
       "<keras.callbacks.History at 0x7f1570738100>"
      ]
     },
     "execution_count": 48,
     "metadata": {},
     "output_type": "execute_result"
    }
   ],
   "source": [
    "model.fit(train_ds, epochs=100, validation_data=val_ds, callbacks=[callback])"
   ]
  },
  {
   "cell_type": "code",
   "execution_count": 49,
   "id": "08a2e3b4",
   "metadata": {},
   "outputs": [
    {
     "name": "stdout",
     "output_type": "stream",
     "text": [
      "2/2 [==============================] - 0s 23ms/step - loss: 26811.5742 - accuracy: 0.5070\n",
      "Accuracy 0.5069767236709595\n"
     ]
    }
   ],
   "source": [
    "loss, accuracy = model.evaluate(test_ds)\n",
    "print(\"Accuracy\", accuracy)"
   ]
  },
  {
   "cell_type": "code",
   "execution_count": 50,
   "id": "b58dd68b",
   "metadata": {
    "collapsed": true
   },
   "outputs": [
    {
     "name": "stderr",
     "output_type": "stream",
     "text": [
      "2022-06-07 10:03:41.886830: W tensorflow/python/util/util.cc:368] Sets are not currently considered sequences, but this may change in the future, so consider avoiding using them.\n",
      "WARNING:absl:Function `_wrapped_model` contains input name(s) start_coords.x, start_coords.y, start_coords.z, p.already_seen, n.already_seen, w.already_seen, t.already_seen, g.already_seen, b.already_seen, q.already_seen, d.already_seen, h.already_seen, y.already_seen, i.already_seen, e.already_seen, a.already_seen, x.already_seen, z.already_seen, s.already_seen, o.already_seen, u.already_seen, m.already_seen, c.already_seen, f.already_seen, r.already_seen, k.already_seen, v.already_seen, coordinates_p.x, coordinates_p.y, coordinates_p.z, p.containment, p.food_k, p.strong_k, p.mid_k, coordinates_o.x, coordinates_o.y, coordinates_o.z, o.containment, o.food_k, o.strong_k, o.mid_k, coordinates_c.x, coordinates_c.y, coordinates_c.z, c.containment, c.food_k, c.strong_k, c.mid_k, coordinates_g.x, coordinates_g.y, coordinates_g.z, g.containment, g.food_k, g.strong_k, g.mid_k, coordinates_k.x, coordinates_k.y, coordinates_k.z, k.containment, k.food_k, k.strong_k, k.mid_k, coordinates_r.x, coordinates_r.y, coordinates_r.z, r.containment, r.food_k, r.strong_k, r.mid_k, coordinates_w.x, coordinates_w.y, coordinates_w.z, w.containment, w.food_k, w.strong_k, w.mid_k, coordinates_f.x, coordinates_f.y, coordinates_f.z, f.containment, f.food_k, f.strong_k, f.mid_k, coordinates_s.x, coordinates_s.y, coordinates_s.z, s.containment, s.food_k, s.strong_k, s.mid_k, coordinates_t.x, coordinates_t.y, coordinates_t.z, t.containment, t.food_k, t.strong_k, t.mid_k, coordinates_e.x, coordinates_e.y, coordinates_e.z, e.containment, e.food_k, e.strong_k, e.mid_k, coordinates_n.x, coordinates_n.y, coordinates_n.z, n.containment, n.food_k, n.strong_k, n.mid_k, coordinates_z.x, coordinates_z.y, coordinates_z.z, z.containment, z.food_k, z.strong_k, z.mid_k, coordinates_m.x, coordinates_m.y, coordinates_m.z, m.containment, m.food_k, m.strong_k, m.mid_k, coordinates_x.x, coordinates_x.y, coordinates_x.z, x.containment, x.food_k, x.strong_k, x.mid_k, coordinates_i.x, coordinates_i.y, coordinates_i.z, i.containment, i.food_k, i.strong_k, i.mid_k, coordinates_h.x, coordinates_h.y, coordinates_h.z, h.containment, h.food_k, h.strong_k, h.mid_k, coordinates_b.x, coordinates_b.y, coordinates_b.z, b.containment, b.food_k, b.strong_k, b.mid_k, coordinates_a.x, coordinates_a.y, coordinates_a.z, a.containment, a.food_k, a.strong_k, a.mid_k, coordinates_d.x, coordinates_d.y, coordinates_d.z, d.containment, d.food_k, d.strong_k, d.mid_k, coordinates_u.x, coordinates_u.y, coordinates_u.z, u.containment, u.food_k, u.strong_k, u.mid_k, coordinates_q.x, coordinates_q.y, coordinates_q.z, q.containment, q.food_k, q.strong_k, q.mid_k, coordinates_v.x, coordinates_v.y, coordinates_v.z, v.containment, v.food_k, v.strong_k, v.mid_k, coordinates_y.x, coordinates_y.y, coordinates_y.z, y.containment, y.food_k, y.strong_k, y.mid_k with unsupported characters which will be renamed to start_coords_x, start_coords_y, start_coords_z, p_already_seen, n_already_seen, w_already_seen, t_already_seen, g_already_seen, b_already_seen, q_already_seen, d_already_seen, h_already_seen, y_already_seen, i_already_seen, e_already_seen, a_already_seen, x_already_seen, z_already_seen, s_already_seen, o_already_seen, u_already_seen, m_already_seen, c_already_seen, f_already_seen, r_already_seen, k_already_seen, v_already_seen, coordinates_p_x, coordinates_p_y, coordinates_p_z, p_containment, p_food_k, p_strong_k, p_mid_k, coordinates_o_x, coordinates_o_y, coordinates_o_z, o_containment, o_food_k, o_strong_k, o_mid_k, coordinates_c_x, coordinates_c_y, coordinates_c_z, c_containment, c_food_k, c_strong_k, c_mid_k, coordinates_g_x, coordinates_g_y, coordinates_g_z, g_containment, g_food_k, g_strong_k, g_mid_k, coordinates_k_x, coordinates_k_y, coordinates_k_z, k_containment, k_food_k, k_strong_k, k_mid_k, coordinates_r_x, coordinates_r_y, coordinates_r_z, r_containment, r_food_k, r_strong_k, r_mid_k, coordinates_w_x, coordinates_w_y, coordinates_w_z, w_containment, w_food_k, w_strong_k, w_mid_k, coordinates_f_x, coordinates_f_y, coordinates_f_z, f_containment, f_food_k, f_strong_k, f_mid_k, coordinates_s_x, coordinates_s_y, coordinates_s_z, s_containment, s_food_k, s_strong_k, s_mid_k, coordinates_t_x, coordinates_t_y, coordinates_t_z, t_containment, t_food_k, t_strong_k, t_mid_k, coordinates_e_x, coordinates_e_y, coordinates_e_z, e_containment, e_food_k, e_strong_k, e_mid_k, coordinates_n_x, coordinates_n_y, coordinates_n_z, n_containment, n_food_k, n_strong_k, n_mid_k, coordinates_z_x, coordinates_z_y, coordinates_z_z, z_containment, z_food_k, z_strong_k, z_mid_k, coordinates_m_x, coordinates_m_y, coordinates_m_z, m_containment, m_food_k, m_strong_k, m_mid_k, coordinates_x_x, coordinates_x_y, coordinates_x_z, x_containment, x_food_k, x_strong_k, x_mid_k, coordinates_i_x, coordinates_i_y, coordinates_i_z, i_containment, i_food_k, i_strong_k, i_mid_k, coordinates_h_x, coordinates_h_y, coordinates_h_z, h_containment, h_food_k, h_strong_k, h_mid_k, coordinates_b_x, coordinates_b_y, coordinates_b_z, b_containment, b_food_k, b_strong_k, b_mid_k, coordinates_a_x, coordinates_a_y, coordinates_a_z, a_containment, a_food_k, a_strong_k, a_mid_k, coordinates_d_x, coordinates_d_y, coordinates_d_z, d_containment, d_food_k, d_strong_k, d_mid_k, coordinates_u_x, coordinates_u_y, coordinates_u_z, u_containment, u_food_k, u_strong_k, u_mid_k, coordinates_q_x, coordinates_q_y, coordinates_q_z, q_containment, q_food_k, q_strong_k, q_mid_k, coordinates_v_x, coordinates_v_y, coordinates_v_z, v_containment, v_food_k, v_strong_k, v_mid_k, coordinates_y_x, coordinates_y_y, coordinates_y_z, y_containment, y_food_k, y_strong_k, y_mid_k in the SavedModel.\n"
     ]
    },
    {
     "name": "stdout",
     "output_type": "stream",
     "text": [
      "INFO:tensorflow:Assets written to: models/next_obj_classifier_tablesetting_2022-06-07/assets\n"
     ]
    },
    {
     "name": "stderr",
     "output_type": "stream",
     "text": [
      "INFO:tensorflow:Assets written to: models/next_obj_classifier_tablesetting_2022-06-07/assets\n"
     ]
    }
   ],
   "source": [
    "model.save('models/next_obj_classifier_tablesetting_2022-06-07')"
   ]
  },
  {
   "cell_type": "code",
   "execution_count": 51,
   "id": "e33c5a49",
   "metadata": {},
   "outputs": [],
   "source": [
    "reloaded_model = tf.keras.models.load_model('models/next_obj_classifier_tablesetting_2022-06-07/')"
   ]
  },
  {
   "cell_type": "code",
   "execution_count": null,
   "id": "29a6bfd0",
   "metadata": {},
   "outputs": [],
   "source": [
    "# test prediction for one sample"
   ]
  },
  {
   "cell_type": "code",
   "execution_count": 27,
   "id": "b50493d0",
   "metadata": {},
   "outputs": [],
   "source": [
    "sample = df.loc[0].drop('target').to_dict()"
   ]
  },
  {
   "cell_type": "code",
   "execution_count": 28,
   "id": "63d9fe3f",
   "metadata": {},
   "outputs": [],
   "source": [
    "input_dict = {name: tf.convert_to_tensor([value]) for name, value in sample.items()}"
   ]
  },
  {
   "cell_type": "code",
   "execution_count": 29,
   "id": "2e68164e",
   "metadata": {},
   "outputs": [],
   "source": [
    "prediction = reloaded_model.predict(input_dict)\n",
    "prediction = tf.nn.sigmoid(prediction[0])"
   ]
  },
  {
   "cell_type": "code",
   "execution_count": null,
   "id": "ad905aed",
   "metadata": {},
   "outputs": [],
   "source": []
  },
  {
   "cell_type": "code",
   "execution_count": 30,
   "id": "27161320",
   "metadata": {},
   "outputs": [
    {
     "data": {
      "text/plain": [
       "'p'"
      ]
     },
     "execution_count": 30,
     "metadata": {},
     "output_type": "execute_result"
    }
   ],
   "source": [
    "# get label for prediction\n",
    "\n",
    "pred_label = labels[np.argmax(prediction)]\n",
    "pred_label"
   ]
  },
  {
   "cell_type": "code",
   "execution_count": 52,
   "id": "ae9f505d",
   "metadata": {},
   "outputs": [],
   "source": [
    "def get_prequential_error(dataframe, model, labels, nr_of_sequences):\n",
    "    errors = [[] for seq in range(0, nr_of_sequences + 1)]\n",
    "    start_token_count = 0\n",
    "    sequence_nr = 0\n",
    "    \n",
    "    for row in range(dataframe.index[0], dataframe.index[-1]): \n",
    "        observed_target = dataframe.loc[row, 'target']\n",
    "        sample = dataframe.loc[row].drop('target').to_dict()\n",
    "        input_dict = {name: tf.convert_to_tensor([value]) for name, value in \n",
    "                          sample.items()}\n",
    "        predicted_target = model.predict(input_dict)\n",
    "        predicted_target = tf.nn.sigmoid(predicted_target[0])\n",
    "            \n",
    "        pred_label = labels[np.argmax(predicted_target)]\n",
    "        error = 1 - damerauLevenshtein(pred_label, observed_target)\n",
    "        errors[sequence_nr].append(error)\n",
    "        \n",
    "        if row != 0 and dataframe.loc[row, 'input'] == '<start>':\n",
    "            start_token_count += 1\n",
    "        \n",
    "        if start_token_count > 0:\n",
    "            sequence_nr += 1\n",
    "            start_token_count = 0\n",
    "            \n",
    "    return errors"
   ]
  },
  {
   "cell_type": "code",
   "execution_count": null,
   "id": "02a4e023",
   "metadata": {},
   "outputs": [],
   "source": []
  },
  {
   "cell_type": "code",
   "execution_count": 53,
   "id": "d1703362",
   "metadata": {},
   "outputs": [
    {
     "data": {
      "text/plain": [
       "2073"
      ]
     },
     "execution_count": 53,
     "metadata": {},
     "output_type": "execute_result"
    }
   ],
   "source": [
    "df[1438:].index[-1]"
   ]
  },
  {
   "cell_type": "code",
   "execution_count": 54,
   "id": "d7ae2385",
   "metadata": {},
   "outputs": [],
   "source": [
    "errors = get_prequential_error(df, reloaded_model, labels, nr_of_sequences)"
   ]
  },
  {
   "cell_type": "code",
   "execution_count": 55,
   "id": "c3eacff0",
   "metadata": {},
   "outputs": [],
   "source": [
    "summed_error = [sum(error) for error in errors[:-1]]"
   ]
  },
  {
   "cell_type": "code",
   "execution_count": 56,
   "id": "28e4a79e",
   "metadata": {},
   "outputs": [
    {
     "data": {
      "text/plain": [
       "3.0"
      ]
     },
     "execution_count": 56,
     "metadata": {},
     "output_type": "execute_result"
    }
   ],
   "source": [
    "np.median(summed_error)"
   ]
  },
  {
   "cell_type": "code",
   "execution_count": 57,
   "id": "9edef143",
   "metadata": {},
   "outputs": [],
   "source": [
    "with open('results/nn_spatialinfo_prequential_summed_fitted_on_ts_results_all_2022-06-07.txt', 'w') as file:\n",
    "    file.write(str(summed_error))"
   ]
  },
  {
   "cell_type": "code",
   "execution_count": 58,
   "id": "56cf9a2b",
   "metadata": {},
   "outputs": [
    {
     "data": {
      "text/plain": [
       "3.466019417475728"
      ]
     },
     "execution_count": 58,
     "metadata": {},
     "output_type": "execute_result"
    }
   ],
   "source": [
    "np.mean(summed_error)"
   ]
  },
  {
   "cell_type": "code",
   "execution_count": null,
   "id": "2d578e29",
   "metadata": {},
   "outputs": [],
   "source": []
  }
 ],
 "metadata": {
  "kernelspec": {
   "display_name": "tf2.7",
   "language": "python",
   "name": "tf2.7"
  },
  "language_info": {
   "codemirror_mode": {
    "name": "ipython",
    "version": 3
   },
   "file_extension": ".py",
   "mimetype": "text/x-python",
   "name": "python",
   "nbconvert_exporter": "python",
   "pygments_lexer": "ipython3",
   "version": "3.10.4"
  }
 },
 "nbformat": 4,
 "nbformat_minor": 5
}
