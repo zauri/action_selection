{
 "cells": [
  {
   "cell_type": "code",
   "execution_count": 19,
   "id": "interested-destruction",
   "metadata": {},
   "outputs": [],
   "source": [
    "import unidecode\n",
    "import string\n",
    "import random\n",
    "import re\n",
    "import time\n",
    "import math\n",
    "import matplotlib.pyplot as plt\n",
    "import matplotlib.ticker as ticker\n",
    "import numpy as np\n",
    "\n",
    "import torch\n",
    "import torch.nn as nn\n",
    "from torch.autograd import Variable\n",
    "from fastDamerauLevenshtein import damerauLevenshtein\n",
    "from tqdm import trange"
   ]
  },
  {
   "cell_type": "code",
   "execution_count": 3,
   "id": "genetic-jonathan",
   "metadata": {},
   "outputs": [],
   "source": [
    "sequences = unidecode.unidecode(open('data/text_prediction_data_2022-06-09.txt').read())\n",
    "#file_len = len(sequences)"
   ]
  },
  {
   "cell_type": "code",
   "execution_count": 4,
   "id": "a3107d37",
   "metadata": {},
   "outputs": [],
   "source": [
    "cutoff = 'ikdp\\n'\n",
    "cutoff_idx = sequences.find(cutoff)"
   ]
  },
  {
   "cell_type": "code",
   "execution_count": 5,
   "id": "8e60e847",
   "metadata": {},
   "outputs": [],
   "source": [
    "sequences_tablesetting = sequences[:cutoff_idx]\n",
    "sequences_cooking = sequences[cutoff_idx:]\n",
    "file_len = len(sequences)"
   ]
  },
  {
   "cell_type": "code",
   "execution_count": 6,
   "id": "welsh-warner",
   "metadata": {},
   "outputs": [],
   "source": [
    "data_split = sequences_tablesetting.splitlines()\n",
    "data_split_cooking = sequences_cooking.splitlines()"
   ]
  },
  {
   "cell_type": "code",
   "execution_count": null,
   "id": "329aadde",
   "metadata": {},
   "outputs": [],
   "source": []
  },
  {
   "cell_type": "code",
   "execution_count": 7,
   "id": "blocked-absence",
   "metadata": {},
   "outputs": [],
   "source": [
    "all_chars = string.printable\n",
    "n_characters = len(all_chars)"
   ]
  },
  {
   "cell_type": "code",
   "execution_count": 8,
   "id": "peaceful-moses",
   "metadata": {},
   "outputs": [
    {
     "data": {
      "text/plain": [
       "'rabwomfgdhxteqp\\ncnsykvziu'"
      ]
     },
     "execution_count": 8,
     "metadata": {},
     "output_type": "execute_result"
    }
   ],
   "source": [
    "all_chars = ''.join(set(sorted(sequences)))\n",
    "all_chars"
   ]
  },
  {
   "cell_type": "code",
   "execution_count": 9,
   "id": "loving-validity",
   "metadata": {},
   "outputs": [],
   "source": [
    "chunk_len = 500"
   ]
  },
  {
   "cell_type": "code",
   "execution_count": 29,
   "id": "excited-tenant",
   "metadata": {},
   "outputs": [],
   "source": [
    "def generate_random_chunk(sequences, chunk_len):\n",
    "    file_len = len(sequences)\n",
    "    start_index = random.randint(0, file_len - chunk_len)\n",
    "    end_index = start_index + chunk_len + 1\n",
    "    return sequences[start_index:end_index]"
   ]
  },
  {
   "cell_type": "code",
   "execution_count": null,
   "id": "prescription-scroll",
   "metadata": {},
   "outputs": [],
   "source": []
  },
  {
   "cell_type": "code",
   "execution_count": 11,
   "id": "eleven-resolution",
   "metadata": {},
   "outputs": [],
   "source": [
    "class RNN(nn.Module):\n",
    "    def __init__(self, input_size, hidden_size, output_size, n_layers=1):\n",
    "        super(RNN, self).__init__()\n",
    "        self.input_size = input_size\n",
    "        self.hidden_size = hidden_size\n",
    "        self.output_size = output_size\n",
    "        self.n_layers = n_layers\n",
    "        \n",
    "        self.encoder = nn.Embedding(input_size, hidden_size)\n",
    "        self.gru = nn.GRU(hidden_size, hidden_size, n_layers)\n",
    "        self.decoder = nn.Linear(hidden_size, output_size)\n",
    "        \n",
    "    def forward(self, input, hidden):\n",
    "        input = self.encoder(input.view(1, -1))\n",
    "        output, hidden = self.gru(input.view(1, 1, -1), hidden)\n",
    "        output = self.decoder(output.view(1, -1))\n",
    "        return output, hidden\n",
    "    \n",
    "    def init_hidden(self):\n",
    "        return Variable(torch.zeros(self.n_layers, 1, self.hidden_size))"
   ]
  },
  {
   "cell_type": "code",
   "execution_count": 12,
   "id": "engaged-midwest",
   "metadata": {},
   "outputs": [],
   "source": [
    "def convert_char_to_tensor(string):\n",
    "    tensor = torch.zeros(len(string)).long()\n",
    "    for c in range(len(string)):\n",
    "        tensor[c] = all_chars.index(string[c])\n",
    "    return Variable(tensor)"
   ]
  },
  {
   "cell_type": "code",
   "execution_count": 30,
   "id": "spare-saver",
   "metadata": {},
   "outputs": [],
   "source": [
    "def generate_random_training_set(sequences):    \n",
    "    chunk = generate_random_chunk(sequences, chunk_len=500)\n",
    "    inp = convert_char_to_tensor(chunk[:-1])\n",
    "    target = convert_char_to_tensor(chunk[1:])\n",
    "    return inp, target"
   ]
  },
  {
   "cell_type": "code",
   "execution_count": 37,
   "id": "greatest-agency",
   "metadata": {},
   "outputs": [],
   "source": [
    "def evaluate_prediction(prime_str='\\n', predict_len=100, temperature=0.8):\n",
    "    hidden = decoder.init_hidden()\n",
    "    prime_input = convert_char_to_tensor(prime_str)\n",
    "    #print(prime_input)\n",
    "    predicted = prime_str\n",
    "\n",
    "    # Use priming string to \"build up\" hidden state\n",
    "    for p in range(len(prime_str) - 1):\n",
    "        _, hidden = decoder(prime_input[p], hidden)\n",
    "    inp = prime_input[-1]\n",
    "    \n",
    "    for p in range(predict_len):\n",
    "        output, hidden = decoder(inp, hidden)\n",
    "        \n",
    "        # Sample from the network as a multinomial distribution\n",
    "        output_dist = output.data.view(-1).div(temperature).exp()\n",
    "        top_i = torch.multinomial(output_dist, 1)[0]\n",
    "        #print(top_i)\n",
    "        \n",
    "        # Add predicted character to string and use as next input\n",
    "        #print(len(all_chars))\n",
    "        try:\n",
    "            predicted_char = all_chars[top_i]\n",
    "        except:\n",
    "            predicted_char = ''\n",
    "        #print(predicted_char)\n",
    "        predicted += predicted_char\n",
    "        inp = convert_char_to_tensor(predicted_char)\n",
    "        #print(inp)\n",
    "\n",
    "    return predicted"
   ]
  },
  {
   "cell_type": "code",
   "execution_count": 15,
   "id": "paperback-ballet",
   "metadata": {},
   "outputs": [],
   "source": [
    "def time_elapsed_since(start_time):\n",
    "    seconds = time.time() - start_time\n",
    "    minutes = math.floor(seconds / 60)\n",
    "    seconds -= minutes * 60\n",
    "    return '%dm %ds' % (minutes, seconds)"
   ]
  },
  {
   "cell_type": "code",
   "execution_count": 16,
   "id": "activated-grass",
   "metadata": {},
   "outputs": [],
   "source": [
    "def train_model(inp, target):\n",
    "    hidden = decoder.init_hidden()\n",
    "    decoder.zero_grad()\n",
    "    loss = 0\n",
    "\n",
    "    for c in range(chunk_len - 1):\n",
    "        output, hidden = decoder(inp[c], hidden)\n",
    "        loss += criterion(output, torch.LongTensor([target[c]]))\n",
    "\n",
    "    loss.backward()\n",
    "    decoder_optimizer.step()\n",
    "\n",
    "    return loss.data / chunk_len"
   ]
  },
  {
   "cell_type": "code",
   "execution_count": null,
   "id": "occupied-certificate",
   "metadata": {
    "scrolled": true
   },
   "outputs": [],
   "source": []
  },
  {
   "cell_type": "code",
   "execution_count": 23,
   "id": "outdoor-gibson",
   "metadata": {},
   "outputs": [
    {
     "data": {
      "text/plain": [
       "'pocwg\\npo'"
      ]
     },
     "execution_count": 23,
     "metadata": {},
     "output_type": "execute_result"
    }
   ],
   "source": [
    "evaluate_prediction('po', 6, temperature=0.4)"
   ]
  },
  {
   "cell_type": "markdown",
   "id": "acceptable-variance",
   "metadata": {},
   "source": [
    "### Train model + evaluate loss"
   ]
  },
  {
   "cell_type": "code",
   "execution_count": 31,
   "id": "piano-cooking",
   "metadata": {},
   "outputs": [
    {
     "name": "stdout",
     "output_type": "stream",
     "text": [
      "[0m 26s (150 50%) 0.6313]\n",
      "pocwg\n",
      "pwgkfk \n",
      "\n",
      "[0m 53s (300 100%) 0.0943]\n",
      "pocsfk\n",
      "wtpco \n",
      "\n"
     ]
    }
   ],
   "source": [
    "n_epochs = 300\n",
    "print_every = 150\n",
    "plot_every = 10\n",
    "hidden_size = 100\n",
    "n_layers = 1\n",
    "lr = 0.005\n",
    "\n",
    "decoder = RNN(n_characters, hidden_size, n_characters, n_layers=n_layers)\n",
    "decoder_optimizer = torch.optim.Adam(decoder.parameters(), lr=lr)\n",
    "criterion = nn.CrossEntropyLoss()\n",
    "\n",
    "start = time.time()\n",
    "all_losses = []\n",
    "loss_avg = 0\n",
    "\n",
    "for epoch in range(1, n_epochs + 1):\n",
    "    loss = train_model(*generate_random_training_set(sequences_tablesetting))       \n",
    "    loss_avg += loss\n",
    "\n",
    "    if epoch % print_every == 0:\n",
    "        print('[%s (%d %d%%) %.4f]' % (time_elapsed_since(start), epoch, epoch / n_epochs * 100, loss))\n",
    "        print(evaluate_prediction('po', 10), '\\n')\n",
    "\n",
    "    if epoch % plot_every == 0:\n",
    "        all_losses.append(loss_avg / plot_every)\n",
    "        loss_avg = 0"
   ]
  },
  {
   "cell_type": "code",
   "execution_count": 32,
   "id": "presidential-colon",
   "metadata": {},
   "outputs": [
    {
     "data": {
      "text/plain": [
       "[<matplotlib.lines.Line2D at 0x7f30f490c4c0>]"
      ]
     },
     "execution_count": 32,
     "metadata": {},
     "output_type": "execute_result"
    },
    {
     "data": {
      "image/png": "[encoded data removed]",
      "text/plain": [
       "<Figure size 432x288 with 1 Axes>"
      ]
     },
     "metadata": {
      "needs_background": "light"
     },
     "output_type": "display_data"
    }
   ],
   "source": [
    "plt.figure()\n",
    "plt.plot(all_losses)"
   ]
  },
  {
   "cell_type": "code",
   "execution_count": 39,
   "id": "undefined-denver",
   "metadata": {},
   "outputs": [],
   "source": [
    "def get_prequential_error(data_split):\n",
    "\n",
    "    results = [[] for line in data_split]\n",
    "    errors = [[] for x in data_split]\n",
    "\n",
    "    for line in trange(0, len(data_split)):\n",
    "        i = 0\n",
    "    \n",
    "        while i < len(data_split[line]) - 1:\n",
    "        #print(data_split[line])\n",
    "            if i == 0:\n",
    "                # generate prediction for first char (input: newline character)\n",
    "                first_char = evaluate_prediction('\\n', 1, temperature=0.4)\n",
    "                predicted = first_char[1]\n",
    "                observed = data_split[line][i]\n",
    "                #print(predicted, observed)\n",
    "                error = 1 - damerauLevenshtein(predicted, observed)\n",
    "                errors[line].append(error)\n",
    "                i += 1\n",
    "            \n",
    "            else:    \n",
    "                # generate prediction for next char (input: current char)\n",
    "                next_char = evaluate_prediction(data_split[line][i-1], 1, temperature=0.4)\n",
    "                try:\n",
    "                    predicted = next_char[1]\n",
    "                except:\n",
    "                    predicted = '0'\n",
    "                observed = data_split[line][i]\n",
    "                #print(predicted, observed)\n",
    "                error = 1 - damerauLevenshtein(predicted, observed)\n",
    "                errors[line].append(error)\n",
    "                i += 1\n",
    "    \n",
    "    return errors"
   ]
  },
  {
   "cell_type": "code",
   "execution_count": 40,
   "id": "broad-bidding",
   "metadata": {},
   "outputs": [
    {
     "name": "stderr",
     "output_type": "stream",
     "text": [
      "100%|█████████████████████████████████████████████████████████████| 123/123 [00:00<00:00, 897.41it/s]\n"
     ]
    }
   ],
   "source": [
    "errors = get_prequential_error(data_split_cooking)"
   ]
  },
  {
   "cell_type": "code",
   "execution_count": 41,
   "id": "returning-celtic",
   "metadata": {},
   "outputs": [
    {
     "data": {
      "text/plain": [
       "3.0"
      ]
     },
     "execution_count": 41,
     "metadata": {},
     "output_type": "execute_result"
    }
   ],
   "source": [
    "summed_error = [sum(error) for error in errors]\n",
    "np.median(summed_error)"
   ]
  },
  {
   "cell_type": "code",
   "execution_count": 28,
   "id": "greek-belly",
   "metadata": {},
   "outputs": [],
   "source": [
    "with open('results/pytorch_rnn_prequential_summed_2022-06-09.txt', 'w') as f:\n",
    "    f.write(str(summed_error))"
   ]
  },
  {
   "cell_type": "code",
   "execution_count": 44,
   "id": "palestinian-aside",
   "metadata": {},
   "outputs": [
    {
     "data": {
      "text/plain": [
       "4.146341463414634"
      ]
     },
     "execution_count": 44,
     "metadata": {},
     "output_type": "execute_result"
    }
   ],
   "source": [
    "np.mean(summed_error)"
   ]
  },
  {
   "cell_type": "code",
   "execution_count": null,
   "id": "c60c3b7e",
   "metadata": {},
   "outputs": [],
   "source": []
  }
 ],
 "metadata": {
  "kernelspec": {
   "display_name": "Python 3 (ipykernel)",
   "language": "python",
   "name": "python3"
  },
  "language_info": {
   "codemirror_mode": {
    "name": "ipython",
    "version": 3
   },
   "file_extension": ".py",
   "mimetype": "text/x-python",
   "name": "python",
   "nbconvert_exporter": "python",
   "pygments_lexer": "ipython3",
   "version": "3.9.13"
  }
 },
 "nbformat": 4,
 "nbformat_minor": 5
}
