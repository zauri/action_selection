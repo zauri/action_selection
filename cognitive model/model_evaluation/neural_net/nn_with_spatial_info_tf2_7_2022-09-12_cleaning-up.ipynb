{
 "cells": [
  {
   "cell_type": "code",
   "execution_count": 1,
   "id": "8da2a4b2",
   "metadata": {
    "scrolled": true
   },
   "outputs": [],
   "source": [
    "import numpy as np\n",
    "import pandas as pd\n",
    "\n",
    "import tensorflow as tf\n",
    "\n",
    "from fastDamerauLevenshtein import damerauLevenshtein\n",
    "from sklearn.preprocessing import MultiLabelBinarizer\n",
    "from sklearn.model_selection import StratifiedShuffleSplit, train_test_split\n",
    "from tensorflow.keras import layers\n",
    "from tqdm import trange"
   ]
  },
  {
   "cell_type": "code",
   "execution_count": null,
   "id": "a36834bf",
   "metadata": {},
   "outputs": [],
   "source": []
  },
  {
   "cell_type": "code",
   "execution_count": 17,
   "id": "49e7518e",
   "metadata": {},
   "outputs": [],
   "source": [
    "df = pd.read_csv('data/single_step_df_ints_2022-10-11_encoded.csv', header=0)"
   ]
  },
  {
   "cell_type": "code",
   "execution_count": 18,
   "id": "99988333",
   "metadata": {},
   "outputs": [
    {
     "data": {
      "text/html": [
       "<div>\n",
       "<style scoped>\n",
       "    .dataframe tbody tr th:only-of-type {\n",
       "        vertical-align: middle;\n",
       "    }\n",
       "\n",
       "    .dataframe tbody tr th {\n",
       "        vertical-align: top;\n",
       "    }\n",
       "\n",
       "    .dataframe thead th {\n",
       "        text-align: right;\n",
       "    }\n",
       "</style>\n",
       "<table border=\"1\" class=\"dataframe\">\n",
       "  <thead>\n",
       "    <tr style=\"text-align: right;\">\n",
       "      <th></th>\n",
       "      <th>input</th>\n",
       "      <th>target</th>\n",
       "      <th>start_coords.x</th>\n",
       "      <th>start_coords.y</th>\n",
       "      <th>start_coords.z</th>\n",
       "      <th>4.already_seen</th>\n",
       "      <th>bowl_1.already_seen</th>\n",
       "      <th>k.already_seen</th>\n",
       "      <th>dish_3.already_seen</th>\n",
       "      <th>c.already_seen</th>\n",
       "      <th>...</th>\n",
       "      <th>dish_3.food_k</th>\n",
       "      <th>dish_3.strong_k</th>\n",
       "      <th>dish_3.mid_k</th>\n",
       "      <th>coordinates_9.x</th>\n",
       "      <th>coordinates_9.y</th>\n",
       "      <th>coordinates_9.z</th>\n",
       "      <th>9.containment</th>\n",
       "      <th>9.food_k</th>\n",
       "      <th>9.strong_k</th>\n",
       "      <th>9.mid_k</th>\n",
       "    </tr>\n",
       "  </thead>\n",
       "  <tbody>\n",
       "    <tr>\n",
       "      <th>0</th>\n",
       "      <td>&lt;start&gt;</td>\n",
       "      <td>p</td>\n",
       "      <td>-0.451354</td>\n",
       "      <td>-0.413918</td>\n",
       "      <td>0.156247</td>\n",
       "      <td>0.0</td>\n",
       "      <td>0.0</td>\n",
       "      <td>0.0</td>\n",
       "      <td>0.0</td>\n",
       "      <td>0.0</td>\n",
       "      <td>...</td>\n",
       "      <td>NaN</td>\n",
       "      <td>NaN</td>\n",
       "      <td>NaN</td>\n",
       "      <td>NaN</td>\n",
       "      <td>NaN</td>\n",
       "      <td>NaN</td>\n",
       "      <td>NaN</td>\n",
       "      <td>NaN</td>\n",
       "      <td>NaN</td>\n",
       "      <td>NaN</td>\n",
       "    </tr>\n",
       "    <tr>\n",
       "      <th>1</th>\n",
       "      <td>p</td>\n",
       "      <td>o</td>\n",
       "      <td>0.513000</td>\n",
       "      <td>-0.531000</td>\n",
       "      <td>0.740000</td>\n",
       "      <td>0.0</td>\n",
       "      <td>0.0</td>\n",
       "      <td>0.0</td>\n",
       "      <td>0.0</td>\n",
       "      <td>0.0</td>\n",
       "      <td>...</td>\n",
       "      <td>NaN</td>\n",
       "      <td>NaN</td>\n",
       "      <td>NaN</td>\n",
       "      <td>NaN</td>\n",
       "      <td>NaN</td>\n",
       "      <td>NaN</td>\n",
       "      <td>NaN</td>\n",
       "      <td>NaN</td>\n",
       "      <td>NaN</td>\n",
       "      <td>NaN</td>\n",
       "    </tr>\n",
       "    <tr>\n",
       "      <th>2</th>\n",
       "      <td>o</td>\n",
       "      <td>c</td>\n",
       "      <td>0.513000</td>\n",
       "      <td>-0.531000</td>\n",
       "      <td>0.740000</td>\n",
       "      <td>0.0</td>\n",
       "      <td>0.0</td>\n",
       "      <td>0.0</td>\n",
       "      <td>0.0</td>\n",
       "      <td>0.0</td>\n",
       "      <td>...</td>\n",
       "      <td>NaN</td>\n",
       "      <td>NaN</td>\n",
       "      <td>NaN</td>\n",
       "      <td>NaN</td>\n",
       "      <td>NaN</td>\n",
       "      <td>NaN</td>\n",
       "      <td>NaN</td>\n",
       "      <td>NaN</td>\n",
       "      <td>NaN</td>\n",
       "      <td>NaN</td>\n",
       "    </tr>\n",
       "    <tr>\n",
       "      <th>3</th>\n",
       "      <td>c</td>\n",
       "      <td>g</td>\n",
       "      <td>0.513000</td>\n",
       "      <td>-0.531000</td>\n",
       "      <td>0.740000</td>\n",
       "      <td>0.0</td>\n",
       "      <td>0.0</td>\n",
       "      <td>0.0</td>\n",
       "      <td>0.0</td>\n",
       "      <td>1.0</td>\n",
       "      <td>...</td>\n",
       "      <td>NaN</td>\n",
       "      <td>NaN</td>\n",
       "      <td>NaN</td>\n",
       "      <td>NaN</td>\n",
       "      <td>NaN</td>\n",
       "      <td>NaN</td>\n",
       "      <td>NaN</td>\n",
       "      <td>NaN</td>\n",
       "      <td>NaN</td>\n",
       "      <td>NaN</td>\n",
       "    </tr>\n",
       "    <tr>\n",
       "      <th>4</th>\n",
       "      <td>g</td>\n",
       "      <td>k</td>\n",
       "      <td>0.513000</td>\n",
       "      <td>-0.531000</td>\n",
       "      <td>0.740000</td>\n",
       "      <td>0.0</td>\n",
       "      <td>0.0</td>\n",
       "      <td>0.0</td>\n",
       "      <td>0.0</td>\n",
       "      <td>1.0</td>\n",
       "      <td>...</td>\n",
       "      <td>NaN</td>\n",
       "      <td>NaN</td>\n",
       "      <td>NaN</td>\n",
       "      <td>NaN</td>\n",
       "      <td>NaN</td>\n",
       "      <td>NaN</td>\n",
       "      <td>NaN</td>\n",
       "      <td>NaN</td>\n",
       "      <td>NaN</td>\n",
       "      <td>NaN</td>\n",
       "    </tr>\n",
       "    <tr>\n",
       "      <th>...</th>\n",
       "      <td>...</td>\n",
       "      <td>...</td>\n",
       "      <td>...</td>\n",
       "      <td>...</td>\n",
       "      <td>...</td>\n",
       "      <td>...</td>\n",
       "      <td>...</td>\n",
       "      <td>...</td>\n",
       "      <td>...</td>\n",
       "      <td>...</td>\n",
       "      <td>...</td>\n",
       "      <td>...</td>\n",
       "      <td>...</td>\n",
       "      <td>...</td>\n",
       "      <td>...</td>\n",
       "      <td>...</td>\n",
       "      <td>...</td>\n",
       "      <td>...</td>\n",
       "      <td>...</td>\n",
       "      <td>...</td>\n",
       "      <td>...</td>\n",
       "    </tr>\n",
       "    <tr>\n",
       "      <th>2198</th>\n",
       "      <td>2</td>\n",
       "      <td>3</td>\n",
       "      <td>2.500000</td>\n",
       "      <td>4.500000</td>\n",
       "      <td>2.000000</td>\n",
       "      <td>0.0</td>\n",
       "      <td>0.0</td>\n",
       "      <td>0.0</td>\n",
       "      <td>0.0</td>\n",
       "      <td>0.0</td>\n",
       "      <td>...</td>\n",
       "      <td>NaN</td>\n",
       "      <td>NaN</td>\n",
       "      <td>NaN</td>\n",
       "      <td>NaN</td>\n",
       "      <td>NaN</td>\n",
       "      <td>NaN</td>\n",
       "      <td>NaN</td>\n",
       "      <td>NaN</td>\n",
       "      <td>NaN</td>\n",
       "      <td>NaN</td>\n",
       "    </tr>\n",
       "    <tr>\n",
       "      <th>2199</th>\n",
       "      <td>3</td>\n",
       "      <td>4</td>\n",
       "      <td>2.500000</td>\n",
       "      <td>4.500000</td>\n",
       "      <td>2.000000</td>\n",
       "      <td>0.0</td>\n",
       "      <td>0.0</td>\n",
       "      <td>0.0</td>\n",
       "      <td>0.0</td>\n",
       "      <td>0.0</td>\n",
       "      <td>...</td>\n",
       "      <td>NaN</td>\n",
       "      <td>NaN</td>\n",
       "      <td>NaN</td>\n",
       "      <td>NaN</td>\n",
       "      <td>NaN</td>\n",
       "      <td>NaN</td>\n",
       "      <td>NaN</td>\n",
       "      <td>NaN</td>\n",
       "      <td>NaN</td>\n",
       "      <td>NaN</td>\n",
       "    </tr>\n",
       "    <tr>\n",
       "      <th>2200</th>\n",
       "      <td>4</td>\n",
       "      <td>5</td>\n",
       "      <td>2.500000</td>\n",
       "      <td>4.500000</td>\n",
       "      <td>2.000000</td>\n",
       "      <td>1.0</td>\n",
       "      <td>0.0</td>\n",
       "      <td>0.0</td>\n",
       "      <td>0.0</td>\n",
       "      <td>0.0</td>\n",
       "      <td>...</td>\n",
       "      <td>NaN</td>\n",
       "      <td>NaN</td>\n",
       "      <td>NaN</td>\n",
       "      <td>NaN</td>\n",
       "      <td>NaN</td>\n",
       "      <td>NaN</td>\n",
       "      <td>NaN</td>\n",
       "      <td>NaN</td>\n",
       "      <td>NaN</td>\n",
       "      <td>NaN</td>\n",
       "    </tr>\n",
       "    <tr>\n",
       "      <th>2201</th>\n",
       "      <td>5</td>\n",
       "      <td>6</td>\n",
       "      <td>2.500000</td>\n",
       "      <td>4.500000</td>\n",
       "      <td>2.000000</td>\n",
       "      <td>1.0</td>\n",
       "      <td>0.0</td>\n",
       "      <td>0.0</td>\n",
       "      <td>0.0</td>\n",
       "      <td>0.0</td>\n",
       "      <td>...</td>\n",
       "      <td>NaN</td>\n",
       "      <td>NaN</td>\n",
       "      <td>NaN</td>\n",
       "      <td>NaN</td>\n",
       "      <td>NaN</td>\n",
       "      <td>NaN</td>\n",
       "      <td>NaN</td>\n",
       "      <td>NaN</td>\n",
       "      <td>NaN</td>\n",
       "      <td>NaN</td>\n",
       "    </tr>\n",
       "    <tr>\n",
       "      <th>2202</th>\n",
       "      <td>6</td>\n",
       "      <td>7</td>\n",
       "      <td>2.500000</td>\n",
       "      <td>4.500000</td>\n",
       "      <td>2.000000</td>\n",
       "      <td>1.0</td>\n",
       "      <td>0.0</td>\n",
       "      <td>0.0</td>\n",
       "      <td>0.0</td>\n",
       "      <td>0.0</td>\n",
       "      <td>...</td>\n",
       "      <td>NaN</td>\n",
       "      <td>NaN</td>\n",
       "      <td>NaN</td>\n",
       "      <td>NaN</td>\n",
       "      <td>NaN</td>\n",
       "      <td>NaN</td>\n",
       "      <td>NaN</td>\n",
       "      <td>NaN</td>\n",
       "      <td>NaN</td>\n",
       "      <td>NaN</td>\n",
       "    </tr>\n",
       "  </tbody>\n",
       "</table>\n",
       "<p>2203 rows × 357 columns</p>\n",
       "</div>"
      ],
      "text/plain": [
       "        input target  start_coords.x  start_coords.y  start_coords.z  \\\n",
       "0     <start>      p       -0.451354       -0.413918        0.156247   \n",
       "1           p      o        0.513000       -0.531000        0.740000   \n",
       "2           o      c        0.513000       -0.531000        0.740000   \n",
       "3           c      g        0.513000       -0.531000        0.740000   \n",
       "4           g      k        0.513000       -0.531000        0.740000   \n",
       "...       ...    ...             ...             ...             ...   \n",
       "2198        2      3        2.500000        4.500000        2.000000   \n",
       "2199        3      4        2.500000        4.500000        2.000000   \n",
       "2200        4      5        2.500000        4.500000        2.000000   \n",
       "2201        5      6        2.500000        4.500000        2.000000   \n",
       "2202        6      7        2.500000        4.500000        2.000000   \n",
       "\n",
       "      4.already_seen  bowl_1.already_seen  k.already_seen  \\\n",
       "0                0.0                  0.0             0.0   \n",
       "1                0.0                  0.0             0.0   \n",
       "2                0.0                  0.0             0.0   \n",
       "3                0.0                  0.0             0.0   \n",
       "4                0.0                  0.0             0.0   \n",
       "...              ...                  ...             ...   \n",
       "2198             0.0                  0.0             0.0   \n",
       "2199             0.0                  0.0             0.0   \n",
       "2200             1.0                  0.0             0.0   \n",
       "2201             1.0                  0.0             0.0   \n",
       "2202             1.0                  0.0             0.0   \n",
       "\n",
       "      dish_3.already_seen  c.already_seen  ...  dish_3.food_k  \\\n",
       "0                     0.0             0.0  ...            NaN   \n",
       "1                     0.0             0.0  ...            NaN   \n",
       "2                     0.0             0.0  ...            NaN   \n",
       "3                     0.0             1.0  ...            NaN   \n",
       "4                     0.0             1.0  ...            NaN   \n",
       "...                   ...             ...  ...            ...   \n",
       "2198                  0.0             0.0  ...            NaN   \n",
       "2199                  0.0             0.0  ...            NaN   \n",
       "2200                  0.0             0.0  ...            NaN   \n",
       "2201                  0.0             0.0  ...            NaN   \n",
       "2202                  0.0             0.0  ...            NaN   \n",
       "\n",
       "      dish_3.strong_k  dish_3.mid_k  coordinates_9.x  coordinates_9.y  \\\n",
       "0                 NaN           NaN              NaN              NaN   \n",
       "1                 NaN           NaN              NaN              NaN   \n",
       "2                 NaN           NaN              NaN              NaN   \n",
       "3                 NaN           NaN              NaN              NaN   \n",
       "4                 NaN           NaN              NaN              NaN   \n",
       "...               ...           ...              ...              ...   \n",
       "2198              NaN           NaN              NaN              NaN   \n",
       "2199              NaN           NaN              NaN              NaN   \n",
       "2200              NaN           NaN              NaN              NaN   \n",
       "2201              NaN           NaN              NaN              NaN   \n",
       "2202              NaN           NaN              NaN              NaN   \n",
       "\n",
       "      coordinates_9.z  9.containment  9.food_k  9.strong_k  9.mid_k  \n",
       "0                 NaN            NaN       NaN         NaN      NaN  \n",
       "1                 NaN            NaN       NaN         NaN      NaN  \n",
       "2                 NaN            NaN       NaN         NaN      NaN  \n",
       "3                 NaN            NaN       NaN         NaN      NaN  \n",
       "4                 NaN            NaN       NaN         NaN      NaN  \n",
       "...               ...            ...       ...         ...      ...  \n",
       "2198              NaN            NaN       NaN         NaN      NaN  \n",
       "2199              NaN            NaN       NaN         NaN      NaN  \n",
       "2200              NaN            NaN       NaN         NaN      NaN  \n",
       "2201              NaN            NaN       NaN         NaN      NaN  \n",
       "2202              NaN            NaN       NaN         NaN      NaN  \n",
       "\n",
       "[2203 rows x 357 columns]"
      ]
     },
     "execution_count": 18,
     "metadata": {},
     "output_type": "execute_result"
    }
   ],
   "source": [
    "df"
   ]
  },
  {
   "cell_type": "code",
   "execution_count": 19,
   "id": "52fca39b",
   "metadata": {},
   "outputs": [],
   "source": [
    "float_cols = df.select_dtypes(include=['float64']).columns\n",
    "df.loc[:, float_cols] = df.loc[:, float_cols].fillna(-99)"
   ]
  },
  {
   "cell_type": "code",
   "execution_count": 20,
   "id": "51c3d424",
   "metadata": {},
   "outputs": [],
   "source": [
    "cols = df.select_dtypes(include=['object'])\n",
    "for col in cols.columns.values:\n",
    "    df[col] = df[col].fillna('')"
   ]
  },
  {
   "cell_type": "code",
   "execution_count": 21,
   "id": "f8e9acc0",
   "metadata": {},
   "outputs": [
    {
     "data": {
      "text/plain": [
       "p    188\n",
       "k    162\n",
       "g    160\n",
       "f    157\n",
       "c    148\n",
       "s    134\n",
       "b     78\n",
       "w     74\n",
       "o     73\n",
       "a     72\n",
       "r     47\n",
       "d     27\n",
       "h     27\n",
       "t     22\n",
       "e     22\n",
       "z     21\n",
       "m     13\n",
       "n      9\n",
       "x      2\n",
       "i      1\n",
       "Name: target, dtype: int64"
      ]
     },
     "execution_count": 21,
     "metadata": {},
     "output_type": "execute_result"
    }
   ],
   "source": [
    "df['target'].value_counts()\n",
    "df[:1437]['target'].value_counts()\n",
    "#df[:1437]['target'].loc[df[:1437]['target'] == 'i'].index[0]\n",
    "#df_new[1436:]['target'].value_counts()"
   ]
  },
  {
   "cell_type": "code",
   "execution_count": 22,
   "id": "af2bd3d1",
   "metadata": {},
   "outputs": [
    {
     "data": {
      "text/plain": [
       "727"
      ]
     },
     "execution_count": 22,
     "metadata": {},
     "output_type": "execute_result"
    }
   ],
   "source": [
    "#index_to_drop = df[1436:]['target'].loc[df[1436:]['target'] == 'y'].index[0]\n",
    "#index_to_drop2 = df[1436:]['target'].loc[df[1436:]['target'] == 'h'].index[0]\n",
    "index_to_drop = df['target'].loc[df['target'] == 'i'].index[0]\n",
    "index_to_drop"
   ]
  },
  {
   "cell_type": "code",
   "execution_count": 12,
   "id": "3eebbfab",
   "metadata": {},
   "outputs": [
    {
     "data": {
      "text/plain": [
       "727"
      ]
     },
     "execution_count": 12,
     "metadata": {},
     "output_type": "execute_result"
    }
   ],
   "source": [
    "index_to_drop2 = df_new[:1437]['target'].loc[df_new[:1437]['target'] == 'i'].index[0]\n",
    "index_to_drop2"
   ]
  },
  {
   "cell_type": "code",
   "execution_count": 23,
   "id": "d3401a72",
   "metadata": {},
   "outputs": [],
   "source": [
    "nr_of_sequences = len(df[df['input'] == '<start>'])"
   ]
  },
  {
   "cell_type": "code",
   "execution_count": 24,
   "id": "16af1823",
   "metadata": {},
   "outputs": [],
   "source": [
    "# remove row with target that only occurs once\n",
    "\n",
    "df_new = df.drop(index=[index_to_drop], axis=0)\n",
    "#df_new = df.drop(index=[index_to_drop2], axis=0)\n",
    "df_new.reset_index(inplace=True, drop=True)"
   ]
  },
  {
   "cell_type": "code",
   "execution_count": 25,
   "id": "5491f1a4",
   "metadata": {},
   "outputs": [],
   "source": [
    "# generate stratified split\n",
    "\n",
    "split = StratifiedShuffleSplit(n_splits=10, test_size=0.3, random_state=42)\n",
    "\n",
    "for train_index, test_index in split.split(df_new[:1436], df_new[:1436]['target']):\n",
    "#for train_index, test_index in split.split(df_new, df_new['target']):\n",
    "#for train_index, test_index in split.split(df_new[1436:], df_new[1436:]['target']):\n",
    "    strat_train = df_new.loc[train_index]\n",
    "    strat_test_val = df_new.loc[test_index]"
   ]
  },
  {
   "cell_type": "code",
   "execution_count": null,
   "id": "a3b13b3c",
   "metadata": {},
   "outputs": [],
   "source": []
  },
  {
   "cell_type": "code",
   "execution_count": 26,
   "id": "11eba3ad",
   "metadata": {},
   "outputs": [],
   "source": [
    "# split test_val into test and val\n",
    "\n",
    "split_test_val = len(strat_test_val)//2\n",
    "\n",
    "strat_test = strat_test_val[:split_test_val]\n",
    "strat_val = strat_test_val[split_test_val:]"
   ]
  },
  {
   "cell_type": "code",
   "execution_count": 27,
   "id": "ead4a95d",
   "metadata": {},
   "outputs": [],
   "source": [
    "# generate list of labels to pass to MultiLabelBinarizer so there's the same number of\n",
    "# classes for all datasets\n",
    "\n",
    "labels = df_new['target'].unique()"
   ]
  },
  {
   "cell_type": "code",
   "execution_count": 28,
   "id": "ce71230e",
   "metadata": {},
   "outputs": [
    {
     "data": {
      "text/plain": [
       "35"
      ]
     },
     "execution_count": 28,
     "metadata": {},
     "output_type": "execute_result"
    }
   ],
   "source": [
    "len(labels)"
   ]
  },
  {
   "cell_type": "code",
   "execution_count": 29,
   "id": "2e8da447",
   "metadata": {},
   "outputs": [],
   "source": [
    "def create_dataset(dataframe, labels, shuffle=True, batch_size=32):\n",
    "    df = dataframe.copy()\n",
    "    labels_ds = df.pop('target')\n",
    "    encoder = MultiLabelBinarizer(classes=labels)\n",
    "    encoded_labels = encoder.fit_transform(labels_ds)\n",
    "    \n",
    "    df = {key: value[:, tf.newaxis] for key, value in df.items()}\n",
    "    dataset = tf.data.Dataset.from_tensor_slices((dict(df), encoded_labels))\n",
    "    if shuffle:\n",
    "        dataset = dataset.shuffle(buffer_size=len(dataframe))\n",
    "    \n",
    "    dataset = dataset.batch(batch_size)\n",
    "    dataset = dataset.prefetch(batch_size)\n",
    "    \n",
    "    return dataset"
   ]
  },
  {
   "cell_type": "code",
   "execution_count": 30,
   "id": "9e6e6001",
   "metadata": {},
   "outputs": [],
   "source": [
    "batch_size = 128"
   ]
  },
  {
   "cell_type": "code",
   "execution_count": 31,
   "id": "416e6d06",
   "metadata": {},
   "outputs": [
    {
     "name": "stderr",
     "output_type": "stream",
     "text": [
      "/tmp/ipykernel_30526/1510453973.py:7: FutureWarning: Support for multi-dimensional indexing (e.g. `obj[:, None]`) is deprecated and will be removed in a future version.  Convert to a numpy array before indexing instead.\n",
      "  df = {key: value[:, tf.newaxis] for key, value in df.items()}\n"
     ]
    }
   ],
   "source": [
    "train_ds = create_dataset(strat_train, labels, batch_size=batch_size)\n",
    "val_ds = create_dataset(strat_val, labels, shuffle=False, batch_size=batch_size)\n",
    "test_ds = create_dataset(strat_test, labels, shuffle=False, batch_size=batch_size)"
   ]
  },
  {
   "cell_type": "code",
   "execution_count": null,
   "id": "ceb42795",
   "metadata": {},
   "outputs": [],
   "source": []
  },
  {
   "cell_type": "code",
   "execution_count": 32,
   "id": "06f4db47",
   "metadata": {},
   "outputs": [],
   "source": [
    "def get_normalization_layer(name, dataset):\n",
    "  # Create a Normalization layer for the feature.\n",
    "    normalizer = layers.Normalization(axis=None)\n",
    "\n",
    "  # Prepare a Dataset that only yields the feature.\n",
    "    feature_ds = dataset.map(lambda x, y: x[name])\n",
    "\n",
    "  # Learn the statistics of the data.\n",
    "    normalizer.adapt(feature_ds)\n",
    "    \n",
    "    return normalizer"
   ]
  },
  {
   "cell_type": "code",
   "execution_count": 33,
   "id": "597f7ff6",
   "metadata": {},
   "outputs": [],
   "source": [
    "def get_category_encoding_layer(name, dataset, dtype, max_tokens=None):\n",
    "    if dtype == 'string':\n",
    "        index = layers.StringLookup(max_tokens=max_tokens)\n",
    "    else:\n",
    "        index = layers.IntegerLookup(max_tokens=max_tokens)\n",
    "        \n",
    "    # prepare tf.data.Dataset that only yields the feature    \n",
    "    feature_ds = dataset.map(lambda x, y: x[name])\n",
    "    \n",
    "    # learn set of possible values and assign fixed int index\n",
    "    index.adapt(feature_ds)\n",
    "    \n",
    "    # encode int indices\n",
    "    encoder = layers.CategoryEncoding(num_tokens=index.vocabulary_size())\n",
    "    \n",
    "    # apply multi-hot encoding to indices\n",
    "    # lambda function captures the layer to include them in Keras functional models later\n",
    "    return lambda feature: encoder(index(feature))"
   ]
  },
  {
   "cell_type": "code",
   "execution_count": 34,
   "id": "9ce78468",
   "metadata": {},
   "outputs": [],
   "source": [
    "def create_input_data(dataframe):\n",
    "    all_inputs = []\n",
    "    encoded_features = []\n",
    "    \n",
    "    for header in dataframe.columns:\n",
    "        # numerical features\n",
    "        if 'coord' in header or 'already' in header:\n",
    "            numeric_col = tf.keras.Input(shape=(1,), name=header)\n",
    "            normalization_layer = get_normalization_layer(header, train_ds)\n",
    "            encoded_numeric_col = normalization_layer(numeric_col)\n",
    "            all_inputs.append(numeric_col)\n",
    "            encoded_features.append(encoded_numeric_col)\n",
    "        \n",
    "        # categorical features\n",
    "        elif 'containment' in header or 'food' in header or 'mid' in header or \\\n",
    "        'strong' in header:\n",
    "            categorical_col = tf.keras.Input(shape=(1,), name=header, dtype='int64')\n",
    "            encoding_layer = get_category_encoding_layer(name=header,\n",
    "                                                        dataset=train_ds,\n",
    "                                                        dtype='int64')\n",
    "            encoded_categorical_col = encoding_layer(categorical_col)\n",
    "            all_inputs.append(categorical_col)\n",
    "            encoded_features.append(encoded_categorical_col)\n",
    "            \n",
    "        elif header == 'input':\n",
    "            categorical_col = tf.keras.Input(shape=(1,), name='input', dtype='string')\n",
    "            encoding_layer = get_category_encoding_layer(name='input',\n",
    "                                                        dataset=train_ds,\n",
    "                                                        dtype='string')\n",
    "            encoded_categorical_col = encoding_layer(categorical_col)\n",
    "            all_inputs.append(categorical_col)\n",
    "            encoded_features.append(encoded_categorical_col)\n",
    "            \n",
    "    return all_inputs, encoded_features"
   ]
  },
  {
   "cell_type": "code",
   "execution_count": 35,
   "id": "8d333498",
   "metadata": {},
   "outputs": [],
   "source": [
    "all_inputs, encoded_features = create_input_data(df)"
   ]
  },
  {
   "cell_type": "code",
   "execution_count": 36,
   "id": "2de5cf76",
   "metadata": {},
   "outputs": [],
   "source": [
    "callback = tf.keras.callbacks.EarlyStopping(monitor='loss', patience=5)"
   ]
  },
  {
   "cell_type": "code",
   "execution_count": 37,
   "id": "5caa2ed3",
   "metadata": {},
   "outputs": [],
   "source": [
    "# use model from tutorial with dense layers\n",
    "\n",
    "all_features = tf.keras.layers.concatenate(encoded_features)\n",
    "x = tf.keras.layers.Dense(512, activation=\"relu\")(all_features)\n",
    "x = tf.keras.layers.Dropout(0.5)(x)\n",
    "x = tf.keras.layers.Dense(256, activation=\"relu\")(all_features)\n",
    "x = tf.keras.layers.Dropout(0.5)(x)\n",
    "output = tf.keras.layers.Dense(len(labels))(x)\n",
    "\n",
    "model = tf.keras.Model(all_inputs, output)"
   ]
  },
  {
   "cell_type": "code",
   "execution_count": 38,
   "id": "c1736d3d",
   "metadata": {},
   "outputs": [],
   "source": [
    "model.compile(optimizer='adam',\n",
    "             loss=tf.keras.losses.CategoricalCrossentropy(from_logits=True),\n",
    "             metrics=[\"accuracy\"])"
   ]
  },
  {
   "cell_type": "code",
   "execution_count": 81,
   "id": "5f1f8941",
   "metadata": {},
   "outputs": [],
   "source": [
    "#tf.keras.utils.plot_model(model, show_shapes=True, rankdir='LR')"
   ]
  },
  {
   "cell_type": "code",
   "execution_count": 39,
   "id": "9dee9ed0",
   "metadata": {
    "scrolled": true
   },
   "outputs": [
    {
     "name": "stdout",
     "output_type": "stream",
     "text": [
      "Epoch 1/100\n",
      "8/8 [==============================] - 11s 558ms/step - loss: 3.1875 - accuracy: 0.0915 - val_loss: 17141.4863 - val_accuracy: 0.1528\n",
      "Epoch 2/100\n",
      "8/8 [==============================] - 1s 63ms/step - loss: 2.5416 - accuracy: 0.1592 - val_loss: 16945.8516 - val_accuracy: 0.2361\n",
      "Epoch 3/100\n",
      "8/8 [==============================] - 1s 62ms/step - loss: 2.3791 - accuracy: 0.1970 - val_loss: 18061.8516 - val_accuracy: 0.2222\n",
      "Epoch 4/100\n",
      "8/8 [==============================] - 1s 62ms/step - loss: 2.2160 - accuracy: 0.2488 - val_loss: 18882.6973 - val_accuracy: 0.2963\n",
      "Epoch 5/100\n",
      "8/8 [==============================] - 1s 62ms/step - loss: 2.1158 - accuracy: 0.2547 - val_loss: 19869.2285 - val_accuracy: 0.3611\n",
      "Epoch 6/100\n",
      "8/8 [==============================] - 1s 64ms/step - loss: 2.0273 - accuracy: 0.2796 - val_loss: 20364.4219 - val_accuracy: 0.3472\n",
      "Epoch 7/100\n",
      "8/8 [==============================] - 1s 65ms/step - loss: 1.9392 - accuracy: 0.3025 - val_loss: 20009.3281 - val_accuracy: 0.4074\n",
      "Epoch 8/100\n",
      "8/8 [==============================] - 1s 62ms/step - loss: 1.8998 - accuracy: 0.3085 - val_loss: 21013.8281 - val_accuracy: 0.4120\n",
      "Epoch 9/100\n",
      "8/8 [==============================] - 1s 66ms/step - loss: 1.8471 - accuracy: 0.3174 - val_loss: 21702.3926 - val_accuracy: 0.4213\n",
      "Epoch 10/100\n",
      "8/8 [==============================] - 1s 63ms/step - loss: 1.8005 - accuracy: 0.3612 - val_loss: 22912.0605 - val_accuracy: 0.4352\n",
      "Epoch 11/100\n",
      "8/8 [==============================] - 1s 63ms/step - loss: 1.7649 - accuracy: 0.3572 - val_loss: 23229.7012 - val_accuracy: 0.4352\n",
      "Epoch 12/100\n",
      "8/8 [==============================] - 1s 62ms/step - loss: 1.7721 - accuracy: 0.3721 - val_loss: 23850.5273 - val_accuracy: 0.4259\n",
      "Epoch 13/100\n",
      "8/8 [==============================] - 1s 62ms/step - loss: 1.6864 - accuracy: 0.4020 - val_loss: 23085.2773 - val_accuracy: 0.5093\n",
      "Epoch 14/100\n",
      "8/8 [==============================] - 1s 63ms/step - loss: 1.6661 - accuracy: 0.4139 - val_loss: 23984.4824 - val_accuracy: 0.4583\n",
      "Epoch 15/100\n",
      "8/8 [==============================] - 1s 63ms/step - loss: 1.6219 - accuracy: 0.4169 - val_loss: 24118.8164 - val_accuracy: 0.4769\n",
      "Epoch 16/100\n",
      "8/8 [==============================] - 1s 62ms/step - loss: 1.5881 - accuracy: 0.4468 - val_loss: 25363.0156 - val_accuracy: 0.5278\n",
      "Epoch 17/100\n",
      "8/8 [==============================] - 1s 62ms/step - loss: 1.5584 - accuracy: 0.4338 - val_loss: 24865.3145 - val_accuracy: 0.5139\n",
      "Epoch 18/100\n",
      "8/8 [==============================] - 1s 63ms/step - loss: 1.5409 - accuracy: 0.4358 - val_loss: 25454.9102 - val_accuracy: 0.5093\n",
      "Epoch 19/100\n",
      "8/8 [==============================] - 1s 62ms/step - loss: 1.5301 - accuracy: 0.4418 - val_loss: 25194.7793 - val_accuracy: 0.5231\n",
      "Epoch 20/100\n",
      "8/8 [==============================] - 1s 62ms/step - loss: 1.4686 - accuracy: 0.4786 - val_loss: 26240.9219 - val_accuracy: 0.5139\n",
      "Epoch 21/100\n",
      "8/8 [==============================] - 1s 65ms/step - loss: 1.4392 - accuracy: 0.4667 - val_loss: 25866.1348 - val_accuracy: 0.5046\n",
      "Epoch 22/100\n",
      "8/8 [==============================] - 1s 62ms/step - loss: 1.4658 - accuracy: 0.4796 - val_loss: 26170.2051 - val_accuracy: 0.5417\n",
      "Epoch 23/100\n",
      "8/8 [==============================] - 1s 62ms/step - loss: 1.4126 - accuracy: 0.4975 - val_loss: 26647.1348 - val_accuracy: 0.4907\n",
      "Epoch 24/100\n",
      "8/8 [==============================] - 1s 62ms/step - loss: 1.4283 - accuracy: 0.5015 - val_loss: 26751.4961 - val_accuracy: 0.5463\n",
      "Epoch 25/100\n",
      "8/8 [==============================] - 1s 62ms/step - loss: 1.4052 - accuracy: 0.4905 - val_loss: 27741.9883 - val_accuracy: 0.5046\n",
      "Epoch 26/100\n",
      "8/8 [==============================] - 1s 62ms/step - loss: 1.3896 - accuracy: 0.5124 - val_loss: 27307.6250 - val_accuracy: 0.5139\n",
      "Epoch 27/100\n",
      "8/8 [==============================] - 1s 62ms/step - loss: 1.3496 - accuracy: 0.5224 - val_loss: 27217.2383 - val_accuracy: 0.5093\n",
      "Epoch 28/100\n",
      "8/8 [==============================] - 1s 63ms/step - loss: 1.3857 - accuracy: 0.5104 - val_loss: 27433.5332 - val_accuracy: 0.5278\n",
      "Epoch 29/100\n",
      "8/8 [==============================] - 1s 63ms/step - loss: 1.3344 - accuracy: 0.5244 - val_loss: 28041.8340 - val_accuracy: 0.5602\n",
      "Epoch 30/100\n",
      "8/8 [==============================] - 1s 62ms/step - loss: 1.3070 - accuracy: 0.5493 - val_loss: 28601.8457 - val_accuracy: 0.5278\n",
      "Epoch 31/100\n",
      "8/8 [==============================] - 1s 62ms/step - loss: 1.3000 - accuracy: 0.5373 - val_loss: 28299.1582 - val_accuracy: 0.5417\n",
      "Epoch 32/100\n",
      "8/8 [==============================] - 1s 63ms/step - loss: 1.3022 - accuracy: 0.5373 - val_loss: 28295.4082 - val_accuracy: 0.5556\n",
      "Epoch 33/100\n",
      "8/8 [==============================] - 1s 63ms/step - loss: 1.3144 - accuracy: 0.5264 - val_loss: 28742.9414 - val_accuracy: 0.5648\n",
      "Epoch 34/100\n",
      "8/8 [==============================] - 1s 62ms/step - loss: 1.3032 - accuracy: 0.5512 - val_loss: 28932.3477 - val_accuracy: 0.5648\n",
      "Epoch 35/100\n",
      "8/8 [==============================] - 1s 64ms/step - loss: 1.2511 - accuracy: 0.5582 - val_loss: 29503.7227 - val_accuracy: 0.5417\n",
      "Epoch 36/100\n",
      "8/8 [==============================] - 1s 63ms/step - loss: 1.2710 - accuracy: 0.5512 - val_loss: 29573.4902 - val_accuracy: 0.5417\n",
      "Epoch 37/100\n",
      "8/8 [==============================] - 1s 63ms/step - loss: 1.2410 - accuracy: 0.5781 - val_loss: 30209.2324 - val_accuracy: 0.5602\n",
      "Epoch 38/100\n",
      "8/8 [==============================] - 1s 62ms/step - loss: 1.2684 - accuracy: 0.5502 - val_loss: 29716.9023 - val_accuracy: 0.5880\n",
      "Epoch 39/100\n",
      "8/8 [==============================] - 1s 62ms/step - loss: 1.2193 - accuracy: 0.5632 - val_loss: 30286.5137 - val_accuracy: 0.5602\n",
      "Epoch 40/100\n",
      "8/8 [==============================] - 1s 63ms/step - loss: 1.2301 - accuracy: 0.5662 - val_loss: 30320.6719 - val_accuracy: 0.5741\n",
      "Epoch 41/100\n",
      "8/8 [==============================] - 1s 63ms/step - loss: 1.1997 - accuracy: 0.5701 - val_loss: 30908.0234 - val_accuracy: 0.5880\n",
      "Epoch 42/100\n",
      "8/8 [==============================] - 1s 62ms/step - loss: 1.1815 - accuracy: 0.5920 - val_loss: 31293.5859 - val_accuracy: 0.5648\n",
      "Epoch 43/100\n",
      "8/8 [==============================] - 1s 63ms/step - loss: 1.1565 - accuracy: 0.5771 - val_loss: 31257.6270 - val_accuracy: 0.5787\n",
      "Epoch 44/100\n",
      "8/8 [==============================] - 1s 63ms/step - loss: 1.1541 - accuracy: 0.5960 - val_loss: 31436.7656 - val_accuracy: 0.5694\n",
      "Epoch 45/100\n",
      "8/8 [==============================] - 1s 63ms/step - loss: 1.1713 - accuracy: 0.5801 - val_loss: 31678.8906 - val_accuracy: 0.5880\n",
      "Epoch 46/100\n",
      "8/8 [==============================] - 1s 63ms/step - loss: 1.1648 - accuracy: 0.5811 - val_loss: 32046.5703 - val_accuracy: 0.5648\n",
      "Epoch 47/100\n",
      "8/8 [==============================] - 1s 65ms/step - loss: 1.1410 - accuracy: 0.5920 - val_loss: 32444.1641 - val_accuracy: 0.5787\n",
      "Epoch 48/100\n",
      "8/8 [==============================] - 1s 65ms/step - loss: 1.1520 - accuracy: 0.6000 - val_loss: 32717.8164 - val_accuracy: 0.5787\n",
      "Epoch 49/100\n",
      "8/8 [==============================] - 1s 63ms/step - loss: 1.1133 - accuracy: 0.5990 - val_loss: 32415.3516 - val_accuracy: 0.5556\n",
      "Epoch 50/100\n",
      "8/8 [==============================] - 1s 63ms/step - loss: 1.1075 - accuracy: 0.6070 - val_loss: 32729.1504 - val_accuracy: 0.5509\n",
      "Epoch 51/100\n",
      "8/8 [==============================] - 1s 63ms/step - loss: 1.1262 - accuracy: 0.5940 - val_loss: 32056.2598 - val_accuracy: 0.5694\n",
      "Epoch 52/100\n",
      "8/8 [==============================] - 1s 63ms/step - loss: 1.1333 - accuracy: 0.5881 - val_loss: 32868.8906 - val_accuracy: 0.5602\n",
      "Epoch 53/100\n",
      "8/8 [==============================] - 1s 62ms/step - loss: 1.1150 - accuracy: 0.6129 - val_loss: 32858.4648 - val_accuracy: 0.5741\n",
      "Epoch 54/100\n",
      "8/8 [==============================] - 1s 63ms/step - loss: 1.0932 - accuracy: 0.6010 - val_loss: 32422.7520 - val_accuracy: 0.5648\n",
      "Epoch 55/100\n",
      "8/8 [==============================] - 1s 62ms/step - loss: 1.1223 - accuracy: 0.5811 - val_loss: 33157.0352 - val_accuracy: 0.5509\n",
      "Epoch 56/100\n",
      "8/8 [==============================] - 1s 63ms/step - loss: 1.1153 - accuracy: 0.6070 - val_loss: 33052.4102 - val_accuracy: 0.5648\n",
      "Epoch 57/100\n"
     ]
    },
    {
     "name": "stdout",
     "output_type": "stream",
     "text": [
      "8/8 [==============================] - 1s 63ms/step - loss: 1.0991 - accuracy: 0.6169 - val_loss: 33542.1406 - val_accuracy: 0.5648\n",
      "Epoch 58/100\n",
      "8/8 [==============================] - 1s 62ms/step - loss: 1.1091 - accuracy: 0.6010 - val_loss: 33457.2070 - val_accuracy: 0.5787\n",
      "Epoch 59/100\n",
      "8/8 [==============================] - 1s 62ms/step - loss: 1.0741 - accuracy: 0.6100 - val_loss: 34200.4688 - val_accuracy: 0.5648\n",
      "Epoch 60/100\n",
      "8/8 [==============================] - 1s 65ms/step - loss: 1.1028 - accuracy: 0.5910 - val_loss: 33996.2461 - val_accuracy: 0.5787\n",
      "Epoch 61/100\n",
      "8/8 [==============================] - 1s 64ms/step - loss: 1.0740 - accuracy: 0.6070 - val_loss: 33872.3281 - val_accuracy: 0.5787\n",
      "Epoch 62/100\n",
      "8/8 [==============================] - 1s 63ms/step - loss: 1.0794 - accuracy: 0.6149 - val_loss: 33880.6328 - val_accuracy: 0.5741\n",
      "Epoch 63/100\n",
      "8/8 [==============================] - 1s 64ms/step - loss: 1.0877 - accuracy: 0.6179 - val_loss: 34134.4336 - val_accuracy: 0.5880\n",
      "Epoch 64/100\n",
      "8/8 [==============================] - 1s 67ms/step - loss: 1.0501 - accuracy: 0.6229 - val_loss: 34361.3711 - val_accuracy: 0.5602\n",
      "Epoch 65/100\n",
      "8/8 [==============================] - 1s 64ms/step - loss: 1.0429 - accuracy: 0.6100 - val_loss: 34467.9805 - val_accuracy: 0.5787\n",
      "Epoch 66/100\n",
      "8/8 [==============================] - 1s 62ms/step - loss: 1.0546 - accuracy: 0.6109 - val_loss: 35378.6367 - val_accuracy: 0.5556\n",
      "Epoch 67/100\n",
      "8/8 [==============================] - 1s 63ms/step - loss: 1.0486 - accuracy: 0.6139 - val_loss: 34820.7773 - val_accuracy: 0.5602\n",
      "Epoch 68/100\n",
      "8/8 [==============================] - 1s 63ms/step - loss: 1.0164 - accuracy: 0.6299 - val_loss: 34834.1289 - val_accuracy: 0.5648\n",
      "Epoch 69/100\n",
      "8/8 [==============================] - 1s 63ms/step - loss: 0.9797 - accuracy: 0.6537 - val_loss: 34967.0000 - val_accuracy: 0.5417\n",
      "Epoch 70/100\n",
      "8/8 [==============================] - 1s 63ms/step - loss: 1.0365 - accuracy: 0.6199 - val_loss: 34793.7148 - val_accuracy: 0.5556\n",
      "Epoch 71/100\n",
      "8/8 [==============================] - 1s 62ms/step - loss: 0.9993 - accuracy: 0.6677 - val_loss: 35203.8281 - val_accuracy: 0.5741\n",
      "Epoch 72/100\n",
      "8/8 [==============================] - 1s 62ms/step - loss: 1.0235 - accuracy: 0.6159 - val_loss: 35892.8320 - val_accuracy: 0.5556\n",
      "Epoch 73/100\n",
      "8/8 [==============================] - 1s 62ms/step - loss: 1.0129 - accuracy: 0.6328 - val_loss: 35775.7305 - val_accuracy: 0.5602\n",
      "Epoch 74/100\n",
      "8/8 [==============================] - 1s 63ms/step - loss: 1.0036 - accuracy: 0.6328 - val_loss: 35146.5312 - val_accuracy: 0.5694\n"
     ]
    },
    {
     "data": {
      "text/plain": [
       "<keras.callbacks.History at 0x7f03ef8f9fc0>"
      ]
     },
     "execution_count": 39,
     "metadata": {},
     "output_type": "execute_result"
    }
   ],
   "source": [
    "model.fit(train_ds, epochs=100, validation_data=val_ds, callbacks=[callback])"
   ]
  },
  {
   "cell_type": "code",
   "execution_count": 40,
   "id": "08a2e3b4",
   "metadata": {},
   "outputs": [
    {
     "name": "stdout",
     "output_type": "stream",
     "text": [
      "2/2 [==============================] - 0s 40ms/step - loss: 18047.9258 - accuracy: 0.5070\n",
      "Accuracy 0.5069767236709595\n"
     ]
    }
   ],
   "source": [
    "loss, accuracy = model.evaluate(test_ds)\n",
    "print(\"Accuracy\", accuracy)"
   ]
  },
  {
   "cell_type": "code",
   "execution_count": 41,
   "id": "b58dd68b",
   "metadata": {
    "collapsed": true
   },
   "outputs": [
    {
     "name": "stderr",
     "output_type": "stream",
     "text": [
      "2022-10-11 10:48:07.300508: W tensorflow/python/util/util.cc:368] Sets are not currently considered sequences, but this may change in the future, so consider avoiding using them.\n",
      "WARNING:absl:Function `_wrapped_model` contains input name(s) start_coords.x, start_coords.y, start_coords.z, 4.already_seen, bowl_1.already_seen, k.already_seen, dish_3.already_seen, c.already_seen, 2.already_seen, d.already_seen, dish_2.already_seen, t.already_seen, 8.already_seen, r.already_seen, i.already_seen, glass_3.already_seen, g.already_seen, 9.already_seen, n.already_seen, silverware_2.already_seen, 7.already_seen, w.already_seen, z.already_seen, silverware_3.already_seen, bowl_3.already_seen, x.already_seen, o.already_seen, a.already_seen, q.already_seen, silverware_1.already_seen, j.already_seen, b.already_seen, plate_1.already_seen, 1.already_seen, v.already_seen, 0.already_seen, 3.already_seen, 5.already_seen, y.already_seen, s.already_seen, p.already_seen, h.already_seen, e.already_seen, m.already_seen, f.already_seen, u.already_seen, 6.already_seen, coordinates_p.x, coordinates_p.y, coordinates_p.z, p.containment, p.food_k, p.strong_k, p.mid_k, coordinates_o.x, coordinates_o.y, coordinates_o.z, o.containment, o.food_k, o.strong_k, o.mid_k, coordinates_c.x, coordinates_c.y, coordinates_c.z, c.containment, c.food_k, c.strong_k, c.mid_k, coordinates_g.x, coordinates_g.y, coordinates_g.z, g.containment, g.food_k, g.strong_k, g.mid_k, coordinates_k.x, coordinates_k.y, coordinates_k.z, k.containment, k.food_k, k.strong_k, k.mid_k, coordinates_r.x, coordinates_r.y, coordinates_r.z, r.containment, r.food_k, r.strong_k, r.mid_k, coordinates_w.x, coordinates_w.y, coordinates_w.z, w.containment, w.food_k, w.strong_k, w.mid_k, coordinates_f.x, coordinates_f.y, coordinates_f.z, f.containment, f.food_k, f.strong_k, f.mid_k, coordinates_s.x, coordinates_s.y, coordinates_s.z, s.containment, s.food_k, s.strong_k, s.mid_k, coordinates_t.x, coordinates_t.y, coordinates_t.z, t.containment, t.food_k, t.strong_k, t.mid_k, coordinates_e.x, coordinates_e.y, coordinates_e.z, e.containment, e.food_k, e.strong_k, e.mid_k, coordinates_n.x, coordinates_n.y, coordinates_n.z, n.containment, n.food_k, n.strong_k, n.mid_k, coordinates_z.x, coordinates_z.y, coordinates_z.z, z.containment, z.food_k, z.strong_k, z.mid_k, coordinates_m.x, coordinates_m.y, coordinates_m.z, m.containment, m.food_k, m.strong_k, m.mid_k, coordinates_x.x, coordinates_x.y, coordinates_x.z, x.containment, x.food_k, x.strong_k, x.mid_k, coordinates_i.x, coordinates_i.y, coordinates_i.z, i.containment, i.food_k, i.strong_k, i.mid_k, coordinates_h.x, coordinates_h.y, coordinates_h.z, h.containment, h.food_k, h.strong_k, h.mid_k, coordinates_b.x, coordinates_b.y, coordinates_b.z, b.containment, b.food_k, b.strong_k, b.mid_k, coordinates_a.x, coordinates_a.y, coordinates_a.z, a.containment, a.food_k, a.strong_k, a.mid_k, coordinates_d.x, coordinates_d.y, coordinates_d.z, d.containment, d.food_k, d.strong_k, d.mid_k, coordinates_u.x, coordinates_u.y, coordinates_u.z, u.containment, u.food_k, u.strong_k, u.mid_k, coordinates_q.x, coordinates_q.y, coordinates_q.z, q.containment, q.food_k, q.strong_k, q.mid_k, coordinates_v.x, coordinates_v.y, coordinates_v.z, v.containment, v.food_k, v.strong_k, v.mid_k, coordinates_y.x, coordinates_y.y, coordinates_y.z, y.containment, y.food_k, y.strong_k, y.mid_k, coordinates_0.x, coordinates_0.y, coordinates_0.z, 0.containment, 0.food_k, 0.strong_k, 0.mid_k, coordinates_silverware_3.x, coordinates_silverware_3.y, coordinates_silverware_3.z, silverware_3.containment, silverware_3.food_k, silverware_3.strong_k, silverware_3.mid_k, coordinates_2.x, coordinates_2.y, coordinates_2.z, 2.containment, 2.food_k, 2.strong_k, 2.mid_k, coordinates_3.x, coordinates_3.y, coordinates_3.z, 3.containment, 3.food_k, 3.strong_k, 3.mid_k, coordinates_4.x, coordinates_4.y, coordinates_4.z, 4.containment, 4.food_k, 4.strong_k, 4.mid_k, coordinates_5.x, coordinates_5.y, coordinates_5.z, 5.containment, 5.food_k, 5.strong_k, 5.mid_k, coordinates_1.x, coordinates_1.y, coordinates_1.z, 1.containment, 1.food_k, 1.strong_k, 1.mid_k, coordinates_plate_1.x, coordinates_plate_1.y, coordinates_plate_1.z, plate_1.containment, plate_1.food_k, plate_1.strong_k, plate_1.mid_k, coordinates_6.x, coordinates_6.y, coordinates_6.z, 6.containment, 6.food_k, 6.strong_k, 6.mid_k, coordinates_glass_3.x, coordinates_glass_3.y, coordinates_glass_3.z, glass_3.containment, glass_3.food_k, glass_3.strong_k, glass_3.mid_k, coordinates_7.x, coordinates_7.y, coordinates_7.z, 7.containment, 7.food_k, 7.strong_k, 7.mid_k, coordinates_8.x, coordinates_8.y, coordinates_8.z, 8.containment, 8.food_k, 8.strong_k, 8.mid_k, coordinates_silverware_2.x, coordinates_silverware_2.y, coordinates_silverware_2.z, silverware_2.containment, silverware_2.food_k, silverware_2.strong_k, silverware_2.mid_k, coordinates_silverware_1.x, coordinates_silverware_1.y, coordinates_silverware_1.z, silverware_1.containment, silverware_1.food_k, silverware_1.strong_k, silverware_1.mid_k, coordinates_bowl_1.x, coordinates_bowl_1.y, coordinates_bowl_1.z, bowl_1.containment, bowl_1.food_k, bowl_1.strong_k, bowl_1.mid_k, coordinates_j.x, coordinates_j.y, coordinates_j.z, j.containment, j.food_k, j.strong_k, j.mid_k, coordinates_dish_2.x, coordinates_dish_2.y, coordinates_dish_2.z, dish_2.containment, dish_2.food_k, dish_2.strong_k, dish_2.mid_k, coordinates_bowl_3.x, coordinates_bowl_3.y, coordinates_bowl_3.z, bowl_3.containment, bowl_3.food_k, bowl_3.strong_k, bowl_3.mid_k, coordinates_dish_3.x, coordinates_dish_3.y, coordinates_dish_3.z, dish_3.containment, dish_3.food_k, dish_3.strong_k, dish_3.mid_k, coordinates_9.x, coordinates_9.y, coordinates_9.z, 9.containment, 9.food_k, 9.strong_k, 9.mid_k with unsupported characters which will be renamed to start_coords_x, start_coords_y, start_coords_z, already_seen, bowl_1_already_seen, k_already_seen, dish_3_already_seen, c_already_seen, already_seen_0, d_already_seen, dish_2_already_seen, t_already_seen, already_seen_1, r_already_seen, i_already_seen, glass_3_already_seen, g_already_seen, already_seen_2, n_already_seen, silverware_2_already_seen, already_seen_3, w_already_seen, z_already_seen, silverware_3_already_seen, bowl_3_already_seen, x_already_seen, o_already_seen, a_already_seen, q_already_seen, silverware_1_already_seen, j_already_seen, b_already_seen, plate_1_already_seen, already_seen_4, v_already_seen, already_seen_5, already_seen_6, already_seen_7, y_already_seen, s_already_seen, p_already_seen, h_already_seen, e_already_seen, m_already_seen, f_already_seen, u_already_seen, already_seen_8, coordinates_p_x, coordinates_p_y, coordinates_p_z, p_containment, p_food_k, p_strong_k, p_mid_k, coordinates_o_x, coordinates_o_y, coordinates_o_z, o_containment, o_food_k, o_strong_k, o_mid_k, coordinates_c_x, coordinates_c_y, coordinates_c_z, c_containment, c_food_k, c_strong_k, c_mid_k, coordinates_g_x, coordinates_g_y, coordinates_g_z, g_containment, g_food_k, g_strong_k, g_mid_k, coordinates_k_x, coordinates_k_y, coordinates_k_z, k_containment, k_food_k, k_strong_k, k_mid_k, coordinates_r_x, coordinates_r_y, coordinates_r_z, r_containment, r_food_k, r_strong_k, r_mid_k, coordinates_w_x, coordinates_w_y, coordinates_w_z, w_containment, w_food_k, w_strong_k, w_mid_k, coordinates_f_x, coordinates_f_y, coordinates_f_z, f_containment, f_food_k, f_strong_k, f_mid_k, coordinates_s_x, coordinates_s_y, coordinates_s_z, s_containment, s_food_k, s_strong_k, s_mid_k, coordinates_t_x, coordinates_t_y, coordinates_t_z, t_containment, t_food_k, t_strong_k, t_mid_k, coordinates_e_x, coordinates_e_y, coordinates_e_z, e_containment, e_food_k, e_strong_k, e_mid_k, coordinates_n_x, coordinates_n_y, coordinates_n_z, n_containment, n_food_k, n_strong_k, n_mid_k, coordinates_z_x, coordinates_z_y, coordinates_z_z, z_containment, z_food_k, z_strong_k, z_mid_k, coordinates_m_x, coordinates_m_y, coordinates_m_z, m_containment, m_food_k, m_strong_k, m_mid_k, coordinates_x_x, coordinates_x_y, coordinates_x_z, x_containment, x_food_k, x_strong_k, x_mid_k, coordinates_i_x, coordinates_i_y, coordinates_i_z, i_containment, i_food_k, i_strong_k, i_mid_k, coordinates_h_x, coordinates_h_y, coordinates_h_z, h_containment, h_food_k, h_strong_k, h_mid_k, coordinates_b_x, coordinates_b_y, coordinates_b_z, b_containment, b_food_k, b_strong_k, b_mid_k, coordinates_a_x, coordinates_a_y, coordinates_a_z, a_containment, a_food_k, a_strong_k, a_mid_k, coordinates_d_x, coordinates_d_y, coordinates_d_z, d_containment, d_food_k, d_strong_k, d_mid_k, coordinates_u_x, coordinates_u_y, coordinates_u_z, u_containment, u_food_k, u_strong_k, u_mid_k, coordinates_q_x, coordinates_q_y, coordinates_q_z, q_containment, q_food_k, q_strong_k, q_mid_k, coordinates_v_x, coordinates_v_y, coordinates_v_z, v_containment, v_food_k, v_strong_k, v_mid_k, coordinates_y_x, coordinates_y_y, coordinates_y_z, y_containment, y_food_k, y_strong_k, y_mid_k, coordinates_0_x, coordinates_0_y, coordinates_0_z, containment, food_k, strong_k, mid_k, coordinates_silverware_3_x, coordinates_silverware_3_y, coordinates_silverware_3_z, silverware_3_containment, silverware_3_food_k, silverware_3_strong_k, silverware_3_mid_k, coordinates_2_x, coordinates_2_y, coordinates_2_z, containment_0, food_k_0, strong_k_0, mid_k_0, coordinates_3_x, coordinates_3_y, coordinates_3_z, containment_1, food_k_1, strong_k_1, mid_k_1, coordinates_4_x, coordinates_4_y, coordinates_4_z, containment_2, food_k_2, strong_k_2, mid_k_2, coordinates_5_x, coordinates_5_y, coordinates_5_z, containment_3, food_k_3, strong_k_3, mid_k_3, coordinates_1_x, coordinates_1_y, coordinates_1_z, containment_4, food_k_4, strong_k_4, mid_k_4, coordinates_plate_1_x, coordinates_plate_1_y, coordinates_plate_1_z, plate_1_containment, plate_1_food_k, plate_1_strong_k, plate_1_mid_k, coordinates_6_x, coordinates_6_y, coordinates_6_z, containment_5, food_k_5, strong_k_5, mid_k_5, coordinates_glass_3_x, coordinates_glass_3_y, coordinates_glass_3_z, glass_3_containment, glass_3_food_k, glass_3_strong_k, glass_3_mid_k, coordinates_7_x, coordinates_7_y, coordinates_7_z, containment_6, food_k_6, strong_k_6, mid_k_6, coordinates_8_x, coordinates_8_y, coordinates_8_z, containment_7, food_k_7, strong_k_7, mid_k_7, coordinates_silverware_2_x, coordinates_silverware_2_y, coordinates_silverware_2_z, silverware_2_containment, silverware_2_food_k, silverware_2_strong_k, silverware_2_mid_k, coordinates_silverware_1_x, coordinates_silverware_1_y, coordinates_silverware_1_z, silverware_1_containment, silverware_1_food_k, silverware_1_strong_k, silverware_1_mid_k, coordinates_bowl_1_x, coordinates_bowl_1_y, coordinates_bowl_1_z, bowl_1_containment, bowl_1_food_k, bowl_1_strong_k, bowl_1_mid_k, coordinates_j_x, coordinates_j_y, coordinates_j_z, j_containment, j_food_k, j_strong_k, j_mid_k, coordinates_dish_2_x, coordinates_dish_2_y, coordinates_dish_2_z, dish_2_containment, dish_2_food_k, dish_2_strong_k, dish_2_mid_k, coordinates_bowl_3_x, coordinates_bowl_3_y, coordinates_bowl_3_z, bowl_3_containment, bowl_3_food_k, bowl_3_strong_k, bowl_3_mid_k, coordinates_dish_3_x, coordinates_dish_3_y, coordinates_dish_3_z, dish_3_containment, dish_3_food_k, dish_3_strong_k, dish_3_mid_k, coordinates_9_x, coordinates_9_y, coordinates_9_z, containment_8, food_k_8, strong_k_8, mid_k_8 in the SavedModel.\n"
     ]
    },
    {
     "name": "stdout",
     "output_type": "stream",
     "text": [
      "INFO:tensorflow:Assets written to: models/next_obj_classifier_tablesetting_2022-10-11/assets\n"
     ]
    },
    {
     "name": "stderr",
     "output_type": "stream",
     "text": [
      "INFO:tensorflow:Assets written to: models/next_obj_classifier_tablesetting_2022-10-11/assets\n"
     ]
    }
   ],
   "source": [
    "model.save('models/next_obj_classifier_tablesetting_2022-10-11')"
   ]
  },
  {
   "cell_type": "code",
   "execution_count": 42,
   "id": "e33c5a49",
   "metadata": {},
   "outputs": [],
   "source": [
    "reloaded_model = tf.keras.models.load_model('models/next_obj_classifier_tablesetting_2022-10-11/')"
   ]
  },
  {
   "cell_type": "code",
   "execution_count": null,
   "id": "29a6bfd0",
   "metadata": {},
   "outputs": [],
   "source": [
    "# test prediction for one sample"
   ]
  },
  {
   "cell_type": "code",
   "execution_count": 43,
   "id": "b50493d0",
   "metadata": {},
   "outputs": [],
   "source": [
    "sample = df.loc[0].drop('target').to_dict()"
   ]
  },
  {
   "cell_type": "code",
   "execution_count": 44,
   "id": "63d9fe3f",
   "metadata": {},
   "outputs": [],
   "source": [
    "input_dict = {name: tf.convert_to_tensor([value]) for name, value in sample.items()}"
   ]
  },
  {
   "cell_type": "code",
   "execution_count": 45,
   "id": "2e68164e",
   "metadata": {},
   "outputs": [],
   "source": [
    "prediction = reloaded_model.predict(input_dict)\n",
    "prediction = tf.nn.sigmoid(prediction[0])"
   ]
  },
  {
   "cell_type": "code",
   "execution_count": null,
   "id": "ad905aed",
   "metadata": {},
   "outputs": [],
   "source": []
  },
  {
   "cell_type": "code",
   "execution_count": 46,
   "id": "27161320",
   "metadata": {},
   "outputs": [
    {
     "data": {
      "text/plain": [
       "'p'"
      ]
     },
     "execution_count": 46,
     "metadata": {},
     "output_type": "execute_result"
    }
   ],
   "source": [
    "# get label for prediction\n",
    "\n",
    "pred_label = labels[np.argmax(prediction)]\n",
    "pred_label"
   ]
  },
  {
   "cell_type": "code",
   "execution_count": 59,
   "id": "ae9f505d",
   "metadata": {},
   "outputs": [],
   "source": [
    "def get_prequential_error(dataframe, model, labels, nr_of_sequences):\n",
    "    errors = [[] for seq in range(0, nr_of_sequences + 1)]\n",
    "    predictions = [[] for seq in range(0, nr_of_sequences + 1)]\n",
    "    start_token_count = 0\n",
    "    sequence_nr = 0\n",
    "    \n",
    "    for row in trange(dataframe.index[0], dataframe.index[-1]): \n",
    "        observed_target = dataframe.loc[row, 'target']\n",
    "        sample = dataframe.loc[row].drop('target').to_dict()\n",
    "        input_dict = {name: tf.convert_to_tensor([value]) for name, value in \n",
    "                          sample.items()}\n",
    "        predicted_target = model.predict(input_dict)\n",
    "        predicted_target = tf.nn.sigmoid(predicted_target[0])\n",
    "            \n",
    "        pred_label = labels[np.argmax(predicted_target)]\n",
    "        error = 1 - damerauLevenshtein(pred_label, observed_target)\n",
    "        errors[sequence_nr].append(error)\n",
    "        predictions[sequence_nr].append(pred_label)\n",
    "        \n",
    "        if row != 0 and dataframe.loc[row, 'input'] == '<start>':\n",
    "            start_token_count += 1\n",
    "        \n",
    "        if start_token_count > 0:\n",
    "            sequence_nr += 1\n",
    "            start_token_count = 0\n",
    "            \n",
    "    return errors, predictions"
   ]
  },
  {
   "cell_type": "code",
   "execution_count": 57,
   "id": "02a4e023",
   "metadata": {},
   "outputs": [
    {
     "data": {
      "text/plain": [
       "16"
      ]
     },
     "execution_count": 57,
     "metadata": {},
     "output_type": "execute_result"
    }
   ],
   "source": [
    "nr_of_sequences_preds = len(df[2075:][df[2075:]['input'] == '<start>'])\n",
    "nr_of_sequences_preds"
   ]
  },
  {
   "cell_type": "code",
   "execution_count": 48,
   "id": "d1703362",
   "metadata": {},
   "outputs": [
    {
     "data": {
      "text/plain": [
       "2202"
      ]
     },
     "execution_count": 48,
     "metadata": {},
     "output_type": "execute_result"
    }
   ],
   "source": [
    "df[2075:].index[-1]"
   ]
  },
  {
   "cell_type": "code",
   "execution_count": 60,
   "id": "d7ae2385",
   "metadata": {},
   "outputs": [
    {
     "name": "stderr",
     "output_type": "stream",
     "text": [
      "100%|██████████████████████████████████████████████████████████████| 127/127 [01:17<00:00,  1.65it/s]\n"
     ]
    }
   ],
   "source": [
    "errors, predictions = get_prequential_error(df[2075:], reloaded_model, labels, nr_of_sequences_preds)"
   ]
  },
  {
   "cell_type": "code",
   "execution_count": 67,
   "id": "c3eacff0",
   "metadata": {},
   "outputs": [],
   "source": [
    "summed_error = [sum(error) for error in errors]"
   ]
  },
  {
   "cell_type": "code",
   "execution_count": 68,
   "id": "28e4a79e",
   "metadata": {},
   "outputs": [
    {
     "data": {
      "text/plain": [
       "8.0"
      ]
     },
     "execution_count": 68,
     "metadata": {},
     "output_type": "execute_result"
    }
   ],
   "source": [
    "np.median(summed_error)"
   ]
  },
  {
   "cell_type": "code",
   "execution_count": 70,
   "id": "9edef143",
   "metadata": {},
   "outputs": [],
   "source": [
    "with open('results/nn_spatialinfo_prequential_summed_fitted_on_ts_results_cleaning_2022-10-11.txt', 'w') as file:\n",
    "    file.write(str(summed_error))"
   ]
  },
  {
   "cell_type": "code",
   "execution_count": 69,
   "id": "56cf9a2b",
   "metadata": {},
   "outputs": [
    {
     "data": {
      "text/plain": [
       "17"
      ]
     },
     "execution_count": 69,
     "metadata": {},
     "output_type": "execute_result"
    }
   ],
   "source": [
    "len(summed_error)"
   ]
  },
  {
   "cell_type": "code",
   "execution_count": null,
   "id": "c60cd561",
   "metadata": {},
   "outputs": [],
   "source": []
  },
  {
   "cell_type": "code",
   "execution_count": null,
   "id": "650148de",
   "metadata": {},
   "outputs": [],
   "source": []
  },
  {
   "cell_type": "code",
   "execution_count": null,
   "id": "cb8dbf6e",
   "metadata": {},
   "outputs": [],
   "source": []
  }
 ],
 "metadata": {
  "kernelspec": {
   "display_name": "tf2.7",
   "language": "python",
   "name": "tf2.7"
  },
  "language_info": {
   "codemirror_mode": {
    "name": "ipython",
    "version": 3
   },
   "file_extension": ".py",
   "mimetype": "text/x-python",
   "name": "python",
   "nbconvert_exporter": "python",
   "pygments_lexer": "ipython3",
   "version": "3.10.4"
  }
 },
 "nbformat": 4,
 "nbformat_minor": 5
}
