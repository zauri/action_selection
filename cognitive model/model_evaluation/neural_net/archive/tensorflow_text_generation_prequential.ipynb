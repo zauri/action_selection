{
 "cells": [
  {
   "cell_type": "code",
   "execution_count": 1,
   "metadata": {},
   "outputs": [],
   "source": [
    "import numpy as np\n",
    "import tensorflow as tf\n",
    "from tensorflow.keras.layers.experimental import preprocessing\n",
    "from fastDamerauLevenshtein import damerauLevenshtein"
   ]
  },
  {
   "cell_type": "markdown",
   "metadata": {},
   "source": [
    "### read data"
   ]
  },
  {
   "cell_type": "code",
   "execution_count": 2,
   "metadata": {},
   "outputs": [],
   "source": [
    "data = open('data.txt', 'rb').read().decode(encoding='utf-8')"
   ]
  },
  {
   "cell_type": "code",
   "execution_count": 3,
   "metadata": {},
   "outputs": [
    {
     "data": {
      "text/plain": [
       "'pocgkr\\ncgwpcfks\\nkfsfkspwg\\npfkswkfsococg\\nwptgkfsoc\\npwfkg\\npowcer\\ncoprerk\\nwopofkkskf\\nopwpwgcoc\\npocrfksfks\\ncgpogpoc\\npwocgfkfsrere\\nocwgrk\\nwpgsfk\\npwofsg\\npocpocwgkfs\\npocgwg\\npwgockfsfksret\\nocpwgfkskfsrere\\ncopwgwpresk\\npwterfkf\\npocwggpfkfksrer\\nwpofcgkrpwgfksocr\\ncwpfksor\\npwfksorc\\npocgwkfkfser\\npowctgcog\\npowgcpo\\npwfkt\\npwokfkrg\\ncopcogpgwfksr\\npgsfkskfg\\nwgptocopwg\\npowcgre\\nperkscwgtf\\npcgworkfkfs\\npopocgkr\\npwtgcfkfksr\\npocwkf\\npgkfkf\\ncwopg\\npowcgkfkfr\\nwpgfksk\\npocwcpoere\\npwkf\\ncptgo\\npocfkswgr\\npowcfkfk\\npwgfksfk\\ngpwfks\\ncgwpw\\ncwopgtrekfksksf\\npocsfkw\\nocpwgfkf\\npwgterkfsoc\\npocgwrkfs\\ntgcwpro\\npocgkfskfr\\npgcow\\nopwg\\nwpgcowpcfksre\\nre\\nptwgfks\\npocrfkfk\\npockr\\npockfskfswgre\\ntgpcowpgpwcog\\ngwpfrkst\\npfkfksg\\npwogsfkg\\npwkf\\ngwpocoskfsfk\\nwtpcockfkf\\nwpgfkfkre\\npococwtrfkfkg\\npwocfksfksr\\npwgerks\\npoctfkfkrwg\\npwfksocr\\ntnpzc\\ntnpcz\\ntnpzc\\ntnzpc\\npmz\\nxmbzd\\npImz\\nmzxp\\npbz\\npgz\\npnzga\\ndnzgdp\\npndz\\nnzpdgds\\nmcddxp\\npcfkdddaag\\ndagpk\\npc\\ngkfadp\\npfgds\\nbcsfgkap\\npbsfkcga\\npbgafkcs\\ngpbcksfa\\npbfkscga\\npbsgkafc\\npbcskfga\\npsfkagcb\\npfkscagb\\npfskagcb\\npskfcagb\\npfkscagb\\npsfkgacb\\npfkbscga\\npcgafkbs\\ngpabkfsc\\npabkgcfs\\ngcpabkfs\\npasbkfgc\\npabcgksf\\nsfkpcgab\\nspgbkfca\\nspakgfcb\\ncgbkpasf\\nfkspcbag\\npkfsbgca\\ncpkfgsba\\ncbgsfapk\\ncgpsakfb\\npfksgcab\\npcskfbga\\nsbkpfcag\\nfpkgbsac\\npabfgsck\\ncpgfksab\\ngfcspkob\\npkfsbagc\\npkfsbgac\\npbfkscga\\nbpksfcga\\npagbkfsc\\npcgafksb\\npcsbfkga\\npbskfgca\\npscgfbak\\npfkcbgsa\\npkfsgcba\\npcfksagb\\npbcfskga\\npbfkcsga\\npcsfkbga\\npkfsabgc\\npkfsgcba\\npkfsgcba\\npkfsgcab\\npkfbscag\\npkbsfgca\\npkfbscga\\npkfsbgac\\npkfsagbc\\npkfsgcab\\npkfsgcba\\npkfsgcab\\npkfsacgb\\npkfsbcga\\npfskbcga\\npbkfscga\\npfskbgca\\nhhsdb\\nhhhdsgb\\nhhsgdb\\nhhdsbg\\nhhsgdb\\nhhdsgb\\ndsgbhh\\nhhsdbg\\nhhsdgb\\nhhsgdb\\nhhsgdb\\nhhsdgb\\n'"
      ]
     },
     "execution_count": 3,
     "metadata": {},
     "output_type": "execute_result"
    }
   ],
   "source": [
    "data"
   ]
  },
  {
   "cell_type": "markdown",
   "metadata": {},
   "source": [
    "### generate list of sequences"
   ]
  },
  {
   "cell_type": "code",
   "execution_count": 4,
   "metadata": {},
   "outputs": [],
   "source": [
    "data_split = data.splitlines()"
   ]
  },
  {
   "cell_type": "markdown",
   "metadata": {},
   "source": [
    "### remove newline chars"
   ]
  },
  {
   "cell_type": "code",
   "execution_count": 5,
   "metadata": {},
   "outputs": [
    {
     "data": {
      "text/plain": [
       "'pocgkrcgwpcfkskfsfkspwgpfkswkfsococgwptgkfsocpwfkgpowcercoprerkwopofkkskfopwpwgcocpocrfksfkscgpogpocpwocgfkfsrereocwgrkwpgsfkpwofsgpocpocwgkfspocgwgpwgockfsfksretocpwgfkskfsrerecopwgwpreskpwterfkfpocwggpfkfksrerwpofcgkrpwgfksocrcwpfksorpwfksorcpocgwkfkfserpowctgcogpowgcpopwfktpwokfkrgcopcogpgwfksrpgsfkskfgwgptocopwgpowcgreperkscwgtfpcgworkfkfspopocgkrpwtgcfkfksrpocwkfpgkfkfcwopgpowcgkfkfrwpgfkskpocwcpoerepwkfcptgopocfkswgrpowcfkfkpwgfksfkgpwfkscgwpwcwopgtrekfksksfpocsfkwocpwgfkfpwgterkfsocpocgwrkfstgcwpropocgkfskfrpgcowopwgwpgcowpcfksrereptwgfkspocrfkfkpockrpockfskfswgretgpcowpgpwcoggwpfrkstpfkfksgpwogsfkgpwkfgwpocoskfsfkwtpcockfkfwpgfkfkrepococwtrfkfkgpwocfksfksrpwgerkspoctfkfkrwgpwfksocrtnpzctnpcztnpzctnzpcpmzxmbzdpImzmzxppbzpgzpnzgadnzgdppndznzpdgdsmcddxppcfkdddaagdagpkpcgkfadppfgdsbcsfgkappbsfkcgapbgafkcsgpbcksfapbfkscgapbsgkafcpbcskfgapsfkagcbpfkscagbpfskagcbpskfcagbpfkscagbpsfkgacbpfkbscgapcgafkbsgpabkfscpabkgcfsgcpabkfspasbkfgcpabcgksfsfkpcgabspgbkfcaspakgfcbcgbkpasffkspcbagpkfsbgcacpkfgsbacbgsfapkcgpsakfbpfksgcabpcskfbgasbkpfcagfpkgbsacpabfgsckcpgfksabgfcspkobpkfsbagcpkfsbgacpbfkscgabpksfcgapagbkfscpcgafksbpcsbfkgapbskfgcapscgfbakpfkcbgsapkfsgcbapcfksagbpbcfskgapbfkcsgapcsfkbgapkfsabgcpkfsgcbapkfsgcbapkfsgcabpkfbscagpkbsfgcapkfbscgapkfsbgacpkfsagbcpkfsgcabpkfsgcbapkfsgcabpkfsacgbpkfsbcgapfskbcgapbkfscgapfskbgcahhsdbhhhdsgbhhsgdbhhdsbghhsgdbhhdsgbdsgbhhhhsdbghhsdgbhhsgdbhhsgdbhhsdgb'"
      ]
     },
     "execution_count": 5,
     "metadata": {},
     "output_type": "execute_result"
    }
   ],
   "source": [
    "data2 = data.replace('\\n','')\n",
    "data2"
   ]
  },
  {
   "cell_type": "code",
   "execution_count": 6,
   "metadata": {},
   "outputs": [
    {
     "data": {
      "text/plain": [
       "20"
      ]
     },
     "execution_count": 6,
     "metadata": {},
     "output_type": "execute_result"
    }
   ],
   "source": [
    "vocabulary = sorted(set(data2))\n",
    "#vocabulary.remove('\\n')\n",
    "len(vocabulary)"
   ]
  },
  {
   "cell_type": "markdown",
   "metadata": {},
   "source": [
    "### Vectorize text"
   ]
  },
  {
   "cell_type": "code",
   "execution_count": 7,
   "metadata": {},
   "outputs": [
    {
     "data": {
      "text/plain": [
       "<tf.RaggedTensor [[b'a', b'b', b'c', b'd', b'e', b'f', b'g'], [b'x', b'h', b'z']]>"
      ]
     },
     "execution_count": 7,
     "metadata": {},
     "output_type": "execute_result"
    }
   ],
   "source": [
    "example_texts = ['abcdefg', 'xhz']\n",
    "\n",
    "chars = tf.strings.unicode_split(example_texts, input_encoding='UTF-8')\n",
    "chars"
   ]
  },
  {
   "cell_type": "code",
   "execution_count": 8,
   "metadata": {},
   "outputs": [],
   "source": [
    "ids_from_chars = preprocessing.StringLookup(\n",
    "    vocabulary=list(vocabulary))"
   ]
  },
  {
   "cell_type": "code",
   "execution_count": 9,
   "metadata": {},
   "outputs": [
    {
     "data": {
      "text/plain": [
       "<tf.RaggedTensor [[3, 4, 5, 6, 7, 8, 9], [20, 10, 21]]>"
      ]
     },
     "execution_count": 9,
     "metadata": {},
     "output_type": "execute_result"
    }
   ],
   "source": [
    "ids = ids_from_chars(chars)\n",
    "ids"
   ]
  },
  {
   "cell_type": "code",
   "execution_count": 10,
   "metadata": {},
   "outputs": [],
   "source": [
    "chars_from_ids = tf.keras.layers.experimental.preprocessing.StringLookup(\n",
    "    vocabulary=ids_from_chars.get_vocabulary(), invert=True)"
   ]
  },
  {
   "cell_type": "code",
   "execution_count": null,
   "metadata": {},
   "outputs": [],
   "source": []
  },
  {
   "cell_type": "code",
   "execution_count": 11,
   "metadata": {},
   "outputs": [
    {
     "data": {
      "text/plain": [
       "<tf.RaggedTensor [[b'a', b'b', b'c', b'd', b'e', b'f', b'g'], [b'x', b'h', b'z']]>"
      ]
     },
     "execution_count": 11,
     "metadata": {},
     "output_type": "execute_result"
    }
   ],
   "source": [
    "chars = chars_from_ids(ids)\n",
    "chars"
   ]
  },
  {
   "cell_type": "code",
   "execution_count": 13,
   "metadata": {},
   "outputs": [
    {
     "data": {
      "text/plain": [
       "array([b'abcdefg', b'xhz'], dtype=object)"
      ]
     },
     "execution_count": 13,
     "metadata": {},
     "output_type": "execute_result"
    }
   ],
   "source": [
    "tf.strings.reduce_join(chars, axis=-1).numpy()"
   ]
  },
  {
   "cell_type": "code",
   "execution_count": 12,
   "metadata": {},
   "outputs": [],
   "source": [
    "def text_from_ids(ids):\n",
    "    return tf.strings.reduce_join(chars_from_ids(ids), axis=-1)"
   ]
  },
  {
   "cell_type": "markdown",
   "metadata": {},
   "source": [
    "### Create training samples + targets"
   ]
  },
  {
   "cell_type": "code",
   "execution_count": 13,
   "metadata": {},
   "outputs": [
    {
     "data": {
      "text/plain": [
       "<tf.Tensor: shape=(1412,), dtype=int64, numpy=array([15, 14,  5, ...,  6,  9,  4])>"
      ]
     },
     "execution_count": 13,
     "metadata": {},
     "output_type": "execute_result"
    }
   ],
   "source": [
    "all_ids = ids_from_chars(tf.strings.unicode_split(data2, 'UTF-8'))\n",
    "all_ids"
   ]
  },
  {
   "cell_type": "code",
   "execution_count": 14,
   "metadata": {},
   "outputs": [],
   "source": [
    "ids_dataset = tf.data.Dataset.from_tensor_slices(all_ids)"
   ]
  },
  {
   "cell_type": "code",
   "execution_count": 15,
   "metadata": {},
   "outputs": [
    {
     "name": "stdout",
     "output_type": "stream",
     "text": [
      "p\n",
      "o\n",
      "c\n",
      "g\n",
      "k\n",
      "r\n",
      "c\n",
      "g\n",
      "w\n",
      "p\n"
     ]
    }
   ],
   "source": [
    "for ids in ids_dataset.take(10):\n",
    "    print(chars_from_ids(ids).numpy().decode('utf-8'))"
   ]
  },
  {
   "cell_type": "code",
   "execution_count": 16,
   "metadata": {},
   "outputs": [],
   "source": [
    "seq_length = 8\n",
    "examples_per_epoch = len(data)//(seq_length+1)"
   ]
  },
  {
   "cell_type": "code",
   "execution_count": 17,
   "metadata": {},
   "outputs": [
    {
     "name": "stdout",
     "output_type": "stream",
     "text": [
      "tf.Tensor([b'p' b'o' b'c' b'g' b'k' b'r' b'c' b'g' b'w'], shape=(9,), dtype=string)\n"
     ]
    }
   ],
   "source": [
    "sequences = ids_dataset.batch(seq_length+1, drop_remainder=True)\n",
    "\n",
    "for seq in sequences.take(1):\n",
    "    print(chars_from_ids(seq))"
   ]
  },
  {
   "cell_type": "code",
   "execution_count": 18,
   "metadata": {},
   "outputs": [
    {
     "name": "stdout",
     "output_type": "stream",
     "text": [
      "b'pocgkrcgw'\n",
      "b'pcfkskfsf'\n",
      "b'kspwgpfks'\n",
      "b'wkfsococg'\n",
      "b'wptgkfsoc'\n"
     ]
    }
   ],
   "source": [
    "for seq in sequences.take(5):\n",
    "    print(text_from_ids(seq).numpy())"
   ]
  },
  {
   "cell_type": "code",
   "execution_count": 19,
   "metadata": {},
   "outputs": [],
   "source": [
    "def split_input_target(sequence):\n",
    "    input_text = sequence[:-1]\n",
    "    target_text = sequence[1:]\n",
    "    return input_text, target_text"
   ]
  },
  {
   "cell_type": "code",
   "execution_count": 20,
   "metadata": {},
   "outputs": [],
   "source": [
    "dataset = sequences.map(split_input_target)"
   ]
  },
  {
   "cell_type": "code",
   "execution_count": 21,
   "metadata": {},
   "outputs": [
    {
     "name": "stdout",
     "output_type": "stream",
     "text": [
      "Input : b'pocgkrcg'\n",
      "Target: b'ocgkrcgw'\n"
     ]
    }
   ],
   "source": [
    "for input_example, target_example in  dataset.take(1):\n",
    "    print(\"Input :\", text_from_ids(input_example).numpy())\n",
    "    print(\"Target:\", text_from_ids(target_example).numpy())"
   ]
  },
  {
   "cell_type": "markdown",
   "metadata": {},
   "source": [
    "### Create training batches"
   ]
  },
  {
   "cell_type": "code",
   "execution_count": 22,
   "metadata": {},
   "outputs": [
    {
     "data": {
      "text/plain": [
       "<PrefetchDataset shapes: ((64, 8), (64, 8)), types: (tf.int64, tf.int64)>"
      ]
     },
     "execution_count": 22,
     "metadata": {},
     "output_type": "execute_result"
    }
   ],
   "source": [
    "# Batch size\n",
    "BATCH_SIZE = 64\n",
    "\n",
    "# Buffer size to shuffle the dataset\n",
    "# (TF data is designed to work with possibly infinite sequences,\n",
    "# so it doesn't attempt to shuffle the entire sequence in memory. Instead,\n",
    "# it maintains a buffer in which it shuffles elements).\n",
    "BUFFER_SIZE = 10000\n",
    "\n",
    "dataset = (\n",
    "    dataset\n",
    "    .shuffle(BUFFER_SIZE)\n",
    "    .batch(BATCH_SIZE, drop_remainder=True)\n",
    "    .prefetch(tf.data.experimental.AUTOTUNE))\n",
    "\n",
    "dataset"
   ]
  },
  {
   "cell_type": "markdown",
   "metadata": {},
   "source": [
    "### Build model"
   ]
  },
  {
   "cell_type": "code",
   "execution_count": 23,
   "metadata": {},
   "outputs": [],
   "source": [
    "# Length of the vocabulary in chars\n",
    "vocab_size = len(vocabulary)\n",
    "\n",
    "# The embedding dimension\n",
    "embedding_dim = 256\n",
    "\n",
    "# Number of RNN units\n",
    "rnn_units = 1024"
   ]
  },
  {
   "cell_type": "code",
   "execution_count": 24,
   "metadata": {},
   "outputs": [],
   "source": [
    "class MyModel(tf.keras.Model):\n",
    "    def __init__(self, vocab_size, embedding_dim, rnn_units):\n",
    "        super().__init__(self)\n",
    "        self.embedding = tf.keras.layers.Embedding(vocab_size, embedding_dim)\n",
    "        self.gru = tf.keras.layers.GRU(rnn_units,\n",
    "                                   return_sequences=True, \n",
    "                                   return_state=True)\n",
    "        self.dense = tf.keras.layers.Dense(vocab_size)\n",
    "\n",
    "    def call(self, inputs, states=None, return_state=False, training=False):\n",
    "        x = inputs\n",
    "        x = self.embedding(x, training=training)\n",
    "        if states is None:\n",
    "            states = self.gru.get_initial_state(x)\n",
    "        x, states = self.gru(x, initial_state=states, training=training)\n",
    "        x = self.dense(x, training=training)\n",
    "\n",
    "        if return_state:\n",
    "            return x, states\n",
    "        else: \n",
    "            return x"
   ]
  },
  {
   "cell_type": "code",
   "execution_count": 25,
   "metadata": {},
   "outputs": [],
   "source": [
    "model = MyModel(\n",
    "    # Be sure the vocabulary size matches the `StringLookup` layers.\n",
    "    vocab_size=len(ids_from_chars.get_vocabulary()),\n",
    "    embedding_dim=embedding_dim,\n",
    "    rnn_units=rnn_units)"
   ]
  },
  {
   "cell_type": "markdown",
   "metadata": {},
   "source": [
    "### Try out model"
   ]
  },
  {
   "cell_type": "code",
   "execution_count": 26,
   "metadata": {},
   "outputs": [
    {
     "name": "stdout",
     "output_type": "stream",
     "text": [
      "(64, 8, 22) # (batch_size, sequence_length, vocab_size)\n"
     ]
    }
   ],
   "source": [
    "for input_example_batch, target_example_batch in dataset.take(1):\n",
    "    example_batch_predictions = model(input_example_batch)\n",
    "    print(example_batch_predictions.shape, \"# (batch_size, sequence_length, vocab_size)\")"
   ]
  },
  {
   "cell_type": "code",
   "execution_count": 27,
   "metadata": {},
   "outputs": [
    {
     "name": "stdout",
     "output_type": "stream",
     "text": [
      "Model: \"my_model\"\n",
      "_________________________________________________________________\n",
      "Layer (type)                 Output Shape              Param #   \n",
      "=================================================================\n",
      "embedding (Embedding)        multiple                  5632      \n",
      "_________________________________________________________________\n",
      "gru (GRU)                    multiple                  3938304   \n",
      "_________________________________________________________________\n",
      "dense (Dense)                multiple                  22550     \n",
      "=================================================================\n",
      "Total params: 3,966,486\n",
      "Trainable params: 3,966,486\n",
      "Non-trainable params: 0\n",
      "_________________________________________________________________\n"
     ]
    }
   ],
   "source": [
    "model.summary()"
   ]
  },
  {
   "cell_type": "code",
   "execution_count": 28,
   "metadata": {},
   "outputs": [],
   "source": [
    "sampled_indices = tf.random.categorical(example_batch_predictions[0], num_samples=1)\n",
    "sampled_indices = tf.squeeze(sampled_indices,axis=-1).numpy()"
   ]
  },
  {
   "cell_type": "code",
   "execution_count": 29,
   "metadata": {},
   "outputs": [
    {
     "name": "stdout",
     "output_type": "stream",
     "text": [
      "Input:\n",
      " b'fbakpfkc'\n",
      "\n",
      "Next Char Predictions:\n",
      " b'csIowaod'\n"
     ]
    }
   ],
   "source": [
    "print(\"Input:\\n\", text_from_ids(input_example_batch[0]).numpy())\n",
    "print()\n",
    "print(\"Next Char Predictions:\\n\", text_from_ids(sampled_indices).numpy())"
   ]
  },
  {
   "cell_type": "markdown",
   "metadata": {},
   "source": [
    "### Train model"
   ]
  },
  {
   "cell_type": "code",
   "execution_count": 30,
   "metadata": {},
   "outputs": [],
   "source": [
    "loss = tf.losses.SparseCategoricalCrossentropy(from_logits=True)"
   ]
  },
  {
   "cell_type": "code",
   "execution_count": 31,
   "metadata": {},
   "outputs": [
    {
     "name": "stdout",
     "output_type": "stream",
     "text": [
      "Prediction shape:  (64, 8, 22)  # (batch_size, sequence_length, vocab_size)\n",
      "Mean loss:         3.090815\n"
     ]
    }
   ],
   "source": [
    "example_batch_loss = loss(target_example_batch, example_batch_predictions)\n",
    "mean_loss = example_batch_loss.numpy().mean()\n",
    "print(\"Prediction shape: \", example_batch_predictions.shape, \" # (batch_size, sequence_length, vocab_size)\")\n",
    "print(\"Mean loss:        \", mean_loss)"
   ]
  },
  {
   "cell_type": "code",
   "execution_count": 32,
   "metadata": {},
   "outputs": [
    {
     "data": {
      "text/plain": [
       "21.994999"
      ]
     },
     "execution_count": 32,
     "metadata": {},
     "output_type": "execute_result"
    }
   ],
   "source": [
    "tf.exp(mean_loss).numpy()"
   ]
  },
  {
   "cell_type": "code",
   "execution_count": 33,
   "metadata": {},
   "outputs": [],
   "source": [
    "model.compile(optimizer='adam', loss=loss)"
   ]
  },
  {
   "cell_type": "code",
   "execution_count": 34,
   "metadata": {},
   "outputs": [],
   "source": [
    "epochs = 300"
   ]
  },
  {
   "cell_type": "code",
   "execution_count": 35,
   "metadata": {},
   "outputs": [
    {
     "name": "stdout",
     "output_type": "stream",
     "text": [
      "Epoch 1/300\n",
      "2/2 [==============================] - 0s 60ms/step - loss: 3.0731\n",
      "Epoch 2/300\n",
      "2/2 [==============================] - 0s 61ms/step - loss: 2.9765\n",
      "Epoch 3/300\n",
      "2/2 [==============================] - 0s 56ms/step - loss: 2.7828\n",
      "Epoch 4/300\n",
      "2/2 [==============================] - 0s 56ms/step - loss: 2.7024\n",
      "Epoch 5/300\n",
      "2/2 [==============================] - 0s 60ms/step - loss: 2.6310\n",
      "Epoch 6/300\n",
      "2/2 [==============================] - 0s 61ms/step - loss: 2.5805\n",
      "Epoch 7/300\n",
      "2/2 [==============================] - 0s 59ms/step - loss: 2.5478\n",
      "Epoch 8/300\n",
      "2/2 [==============================] - 0s 59ms/step - loss: 2.4671\n",
      "Epoch 9/300\n",
      "2/2 [==============================] - 0s 57ms/step - loss: 2.3919\n",
      "Epoch 10/300\n",
      "2/2 [==============================] - 0s 62ms/step - loss: 2.3450\n",
      "Epoch 11/300\n",
      "2/2 [==============================] - 0s 56ms/step - loss: 2.3157\n",
      "Epoch 12/300\n",
      "2/2 [==============================] - 0s 57ms/step - loss: 2.2143\n",
      "Epoch 13/300\n",
      "2/2 [==============================] - 0s 58ms/step - loss: 2.1507\n",
      "Epoch 14/300\n",
      "2/2 [==============================] - 0s 56ms/step - loss: 2.1112\n",
      "Epoch 15/300\n",
      "2/2 [==============================] - 0s 58ms/step - loss: 2.0657\n",
      "Epoch 16/300\n",
      "2/2 [==============================] - 0s 61ms/step - loss: 2.0389\n",
      "Epoch 17/300\n",
      "2/2 [==============================] - 0s 60ms/step - loss: 2.0018\n",
      "Epoch 18/300\n",
      "2/2 [==============================] - 0s 55ms/step - loss: 1.9763\n",
      "Epoch 19/300\n",
      "2/2 [==============================] - 0s 64ms/step - loss: 1.9360\n",
      "Epoch 20/300\n",
      "2/2 [==============================] - 0s 55ms/step - loss: 1.9247\n",
      "Epoch 21/300\n",
      "2/2 [==============================] - 0s 61ms/step - loss: 1.8601\n",
      "Epoch 22/300\n",
      "2/2 [==============================] - 0s 62ms/step - loss: 1.8177\n",
      "Epoch 23/300\n",
      "2/2 [==============================] - 0s 54ms/step - loss: 1.8146\n",
      "Epoch 24/300\n",
      "2/2 [==============================] - 0s 61ms/step - loss: 1.7883\n",
      "Epoch 25/300\n",
      "2/2 [==============================] - 0s 62ms/step - loss: 1.7695\n",
      "Epoch 26/300\n",
      "2/2 [==============================] - 0s 56ms/step - loss: 1.7567\n",
      "Epoch 27/300\n",
      "2/2 [==============================] - 0s 56ms/step - loss: 1.6991\n",
      "Epoch 28/300\n",
      "2/2 [==============================] - 0s 62ms/step - loss: 1.6793\n",
      "Epoch 29/300\n",
      "2/2 [==============================] - 0s 56ms/step - loss: 1.6816\n",
      "Epoch 30/300\n",
      "2/2 [==============================] - 0s 57ms/step - loss: 1.6719\n",
      "Epoch 31/300\n",
      "2/2 [==============================] - 0s 60ms/step - loss: 1.6357\n",
      "Epoch 32/300\n",
      "2/2 [==============================] - 0s 59ms/step - loss: 1.6177\n",
      "Epoch 33/300\n",
      "2/2 [==============================] - 0s 57ms/step - loss: 1.5771\n",
      "Epoch 34/300\n",
      "2/2 [==============================] - 0s 55ms/step - loss: 1.5752\n",
      "Epoch 35/300\n",
      "2/2 [==============================] - 0s 56ms/step - loss: 1.5346\n",
      "Epoch 36/300\n",
      "2/2 [==============================] - 0s 56ms/step - loss: 1.5316\n",
      "Epoch 37/300\n",
      "2/2 [==============================] - 0s 59ms/step - loss: 1.5127\n",
      "Epoch 38/300\n",
      "2/2 [==============================] - 0s 60ms/step - loss: 1.4744\n",
      "Epoch 39/300\n",
      "2/2 [==============================] - 0s 57ms/step - loss: 1.5006\n",
      "Epoch 40/300\n",
      "2/2 [==============================] - 0s 57ms/step - loss: 1.4781\n",
      "Epoch 41/300\n",
      "2/2 [==============================] - 0s 60ms/step - loss: 1.4537\n",
      "Epoch 42/300\n",
      "2/2 [==============================] - 0s 58ms/step - loss: 1.3892\n",
      "Epoch 43/300\n",
      "2/2 [==============================] - 0s 59ms/step - loss: 1.3829\n",
      "Epoch 44/300\n",
      "2/2 [==============================] - 0s 58ms/step - loss: 1.3474\n",
      "Epoch 45/300\n",
      "2/2 [==============================] - 0s 56ms/step - loss: 1.3418\n",
      "Epoch 46/300\n",
      "2/2 [==============================] - 0s 57ms/step - loss: 1.3061\n",
      "Epoch 47/300\n",
      "2/2 [==============================] - 0s 58ms/step - loss: 1.2936\n",
      "Epoch 48/300\n",
      "2/2 [==============================] - 0s 55ms/step - loss: 1.2613\n",
      "Epoch 49/300\n",
      "2/2 [==============================] - 0s 57ms/step - loss: 1.2458\n",
      "Epoch 50/300\n",
      "2/2 [==============================] - 0s 58ms/step - loss: 1.2584\n",
      "Epoch 51/300\n",
      "2/2 [==============================] - 0s 60ms/step - loss: 1.1990\n",
      "Epoch 52/300\n",
      "2/2 [==============================] - 0s 54ms/step - loss: 1.1639\n",
      "Epoch 53/300\n",
      "2/2 [==============================] - 0s 62ms/step - loss: 1.1384\n",
      "Epoch 54/300\n",
      "2/2 [==============================] - 0s 54ms/step - loss: 1.1393\n",
      "Epoch 55/300\n",
      "2/2 [==============================] - 0s 56ms/step - loss: 1.0882\n",
      "Epoch 56/300\n",
      "2/2 [==============================] - 0s 54ms/step - loss: 1.0546\n",
      "Epoch 57/300\n",
      "2/2 [==============================] - 0s 53ms/step - loss: 1.0259\n",
      "Epoch 58/300\n",
      "2/2 [==============================] - 0s 52ms/step - loss: 1.0058\n",
      "Epoch 59/300\n",
      "2/2 [==============================] - 0s 53ms/step - loss: 0.9721\n",
      "Epoch 60/300\n",
      "2/2 [==============================] - 0s 56ms/step - loss: 0.9542\n",
      "Epoch 61/300\n",
      "2/2 [==============================] - 0s 57ms/step - loss: 0.9130\n",
      "Epoch 62/300\n",
      "2/2 [==============================] - 0s 60ms/step - loss: 0.8729\n",
      "Epoch 63/300\n",
      "2/2 [==============================] - 0s 58ms/step - loss: 0.8657\n",
      "Epoch 64/300\n",
      "2/2 [==============================] - 0s 58ms/step - loss: 0.8224\n",
      "Epoch 65/300\n",
      "2/2 [==============================] - 0s 53ms/step - loss: 0.8081\n",
      "Epoch 66/300\n",
      "2/2 [==============================] - 0s 55ms/step - loss: 0.7914\n",
      "Epoch 67/300\n",
      "2/2 [==============================] - 0s 66ms/step - loss: 0.7607\n",
      "Epoch 68/300\n",
      "2/2 [==============================] - 0s 54ms/step - loss: 0.7436\n",
      "Epoch 69/300\n",
      "2/2 [==============================] - 0s 57ms/step - loss: 0.7247\n",
      "Epoch 70/300\n",
      "2/2 [==============================] - 0s 53ms/step - loss: 0.7040\n",
      "Epoch 71/300\n",
      "2/2 [==============================] - 0s 56ms/step - loss: 0.6692\n",
      "Epoch 72/300\n",
      "2/2 [==============================] - 0s 54ms/step - loss: 0.6449\n",
      "Epoch 73/300\n",
      "2/2 [==============================] - 0s 60ms/step - loss: 0.6517\n",
      "Epoch 74/300\n",
      "2/2 [==============================] - 0s 60ms/step - loss: 0.6329\n",
      "Epoch 75/300\n",
      "2/2 [==============================] - 0s 61ms/step - loss: 0.5956\n",
      "Epoch 76/300\n",
      "2/2 [==============================] - 0s 59ms/step - loss: 0.6047\n",
      "Epoch 77/300\n",
      "2/2 [==============================] - 0s 55ms/step - loss: 0.5767\n",
      "Epoch 78/300\n",
      "2/2 [==============================] - 0s 57ms/step - loss: 0.5692\n",
      "Epoch 79/300\n",
      "2/2 [==============================] - 0s 55ms/step - loss: 0.5789\n",
      "Epoch 80/300\n",
      "2/2 [==============================] - 0s 60ms/step - loss: 0.5572\n",
      "Epoch 81/300\n",
      "2/2 [==============================] - 0s 64ms/step - loss: 0.5458\n",
      "Epoch 82/300\n",
      "2/2 [==============================] - 0s 58ms/step - loss: 0.5322\n",
      "Epoch 83/300\n",
      "2/2 [==============================] - 0s 53ms/step - loss: 0.5266\n",
      "Epoch 84/300\n",
      "2/2 [==============================] - 0s 56ms/step - loss: 0.5110\n",
      "Epoch 85/300\n",
      "2/2 [==============================] - 0s 59ms/step - loss: 0.5096\n",
      "Epoch 86/300\n",
      "2/2 [==============================] - 0s 57ms/step - loss: 0.4897\n",
      "Epoch 87/300\n",
      "2/2 [==============================] - 0s 58ms/step - loss: 0.4884\n",
      "Epoch 88/300\n",
      "2/2 [==============================] - 0s 58ms/step - loss: 0.4813\n",
      "Epoch 89/300\n",
      "2/2 [==============================] - 0s 60ms/step - loss: 0.4648\n",
      "Epoch 90/300\n",
      "2/2 [==============================] - 0s 55ms/step - loss: 0.4653\n",
      "Epoch 91/300\n",
      "2/2 [==============================] - 0s 62ms/step - loss: 0.4700\n",
      "Epoch 92/300\n",
      "2/2 [==============================] - 0s 58ms/step - loss: 0.4542\n",
      "Epoch 93/300\n",
      "2/2 [==============================] - 0s 57ms/step - loss: 0.4488\n",
      "Epoch 94/300\n",
      "2/2 [==============================] - 0s 53ms/step - loss: 0.4435\n",
      "Epoch 95/300\n",
      "2/2 [==============================] - 0s 53ms/step - loss: 0.4358\n",
      "Epoch 96/300\n",
      "2/2 [==============================] - 0s 56ms/step - loss: 0.4396\n",
      "Epoch 97/300\n",
      "2/2 [==============================] - 0s 60ms/step - loss: 0.4317\n",
      "Epoch 98/300\n",
      "2/2 [==============================] - 0s 54ms/step - loss: 0.4235\n",
      "Epoch 99/300\n",
      "2/2 [==============================] - 0s 56ms/step - loss: 0.4261\n",
      "Epoch 100/300\n",
      "2/2 [==============================] - 0s 57ms/step - loss: 0.4074\n",
      "Epoch 101/300\n",
      "2/2 [==============================] - 0s 54ms/step - loss: 0.4113\n",
      "Epoch 102/300\n",
      "2/2 [==============================] - 0s 58ms/step - loss: 0.4178\n",
      "Epoch 103/300\n"
     ]
    },
    {
     "name": "stdout",
     "output_type": "stream",
     "text": [
      "2/2 [==============================] - 0s 58ms/step - loss: 0.4038\n",
      "Epoch 104/300\n",
      "2/2 [==============================] - 0s 60ms/step - loss: 0.3909\n",
      "Epoch 105/300\n",
      "2/2 [==============================] - 0s 55ms/step - loss: 0.3941\n",
      "Epoch 106/300\n",
      "2/2 [==============================] - 0s 57ms/step - loss: 0.3925\n",
      "Epoch 107/300\n",
      "2/2 [==============================] - 0s 59ms/step - loss: 0.3948\n",
      "Epoch 108/300\n",
      "2/2 [==============================] - 0s 53ms/step - loss: 0.3920\n",
      "Epoch 109/300\n",
      "2/2 [==============================] - 0s 54ms/step - loss: 0.3874\n",
      "Epoch 110/300\n",
      "2/2 [==============================] - 0s 56ms/step - loss: 0.3808\n",
      "Epoch 111/300\n",
      "2/2 [==============================] - 0s 57ms/step - loss: 0.3808\n",
      "Epoch 112/300\n",
      "2/2 [==============================] - 0s 55ms/step - loss: 0.3752\n",
      "Epoch 113/300\n",
      "2/2 [==============================] - 0s 62ms/step - loss: 0.3831\n",
      "Epoch 114/300\n",
      "2/2 [==============================] - 0s 53ms/step - loss: 0.3763\n",
      "Epoch 115/300\n",
      "2/2 [==============================] - 0s 54ms/step - loss: 0.3653\n",
      "Epoch 116/300\n",
      "2/2 [==============================] - 0s 57ms/step - loss: 0.3709\n",
      "Epoch 117/300\n",
      "2/2 [==============================] - 0s 63ms/step - loss: 0.3625\n",
      "Epoch 118/300\n",
      "2/2 [==============================] - 0s 58ms/step - loss: 0.3666\n",
      "Epoch 119/300\n",
      "2/2 [==============================] - 0s 53ms/step - loss: 0.3696\n",
      "Epoch 120/300\n",
      "2/2 [==============================] - 0s 56ms/step - loss: 0.3609\n",
      "Epoch 121/300\n",
      "2/2 [==============================] - 0s 58ms/step - loss: 0.3618\n",
      "Epoch 122/300\n",
      "2/2 [==============================] - 0s 53ms/step - loss: 0.3537\n",
      "Epoch 123/300\n",
      "2/2 [==============================] - 0s 54ms/step - loss: 0.3580\n",
      "Epoch 124/300\n",
      "2/2 [==============================] - 0s 55ms/step - loss: 0.3615\n",
      "Epoch 125/300\n",
      "2/2 [==============================] - 0s 57ms/step - loss: 0.3488\n",
      "Epoch 126/300\n",
      "2/2 [==============================] - 0s 55ms/step - loss: 0.3481\n",
      "Epoch 127/300\n",
      "2/2 [==============================] - 0s 61ms/step - loss: 0.3533\n",
      "Epoch 128/300\n",
      "2/2 [==============================] - 0s 55ms/step - loss: 0.3497\n",
      "Epoch 129/300\n",
      "2/2 [==============================] - 0s 60ms/step - loss: 0.3451\n",
      "Epoch 130/300\n",
      "2/2 [==============================] - 0s 60ms/step - loss: 0.3462\n",
      "Epoch 131/300\n",
      "2/2 [==============================] - 0s 63ms/step - loss: 0.3496\n",
      "Epoch 132/300\n",
      "2/2 [==============================] - 0s 56ms/step - loss: 0.3491\n",
      "Epoch 133/300\n",
      "2/2 [==============================] - 0s 58ms/step - loss: 0.3448\n",
      "Epoch 134/300\n",
      "2/2 [==============================] - 0s 54ms/step - loss: 0.3492\n",
      "Epoch 135/300\n",
      "2/2 [==============================] - 0s 62ms/step - loss: 0.3452\n",
      "Epoch 136/300\n",
      "2/2 [==============================] - 0s 60ms/step - loss: 0.3427\n",
      "Epoch 137/300\n",
      "2/2 [==============================] - 0s 55ms/step - loss: 0.3427\n",
      "Epoch 138/300\n",
      "2/2 [==============================] - 0s 54ms/step - loss: 0.3393\n",
      "Epoch 139/300\n",
      "2/2 [==============================] - 0s 56ms/step - loss: 0.3398\n",
      "Epoch 140/300\n",
      "2/2 [==============================] - 0s 58ms/step - loss: 0.3358\n",
      "Epoch 141/300\n",
      "2/2 [==============================] - 0s 55ms/step - loss: 0.3354\n",
      "Epoch 142/300\n",
      "2/2 [==============================] - 0s 58ms/step - loss: 0.3340\n",
      "Epoch 143/300\n",
      "2/2 [==============================] - 0s 57ms/step - loss: 0.3390\n",
      "Epoch 144/300\n",
      "2/2 [==============================] - 0s 57ms/step - loss: 0.3382\n",
      "Epoch 145/300\n",
      "2/2 [==============================] - 0s 57ms/step - loss: 0.3371\n",
      "Epoch 146/300\n",
      "2/2 [==============================] - 0s 58ms/step - loss: 0.3345\n",
      "Epoch 147/300\n",
      "2/2 [==============================] - 0s 55ms/step - loss: 0.3370\n",
      "Epoch 148/300\n",
      "2/2 [==============================] - 0s 58ms/step - loss: 0.3338\n",
      "Epoch 149/300\n",
      "2/2 [==============================] - 0s 57ms/step - loss: 0.3387\n",
      "Epoch 150/300\n",
      "2/2 [==============================] - 0s 58ms/step - loss: 0.3387\n",
      "Epoch 151/300\n",
      "2/2 [==============================] - 0s 55ms/step - loss: 0.3321\n",
      "Epoch 152/300\n",
      "2/2 [==============================] - 0s 55ms/step - loss: 0.3304\n",
      "Epoch 153/300\n",
      "2/2 [==============================] - 0s 60ms/step - loss: 0.3325\n",
      "Epoch 154/300\n",
      "2/2 [==============================] - 0s 55ms/step - loss: 0.3278\n",
      "Epoch 155/300\n",
      "2/2 [==============================] - 0s 55ms/step - loss: 0.3361\n",
      "Epoch 156/300\n",
      "2/2 [==============================] - 0s 54ms/step - loss: 0.3359\n",
      "Epoch 157/300\n",
      "2/2 [==============================] - 0s 56ms/step - loss: 0.3286\n",
      "Epoch 158/300\n",
      "2/2 [==============================] - 0s 55ms/step - loss: 0.3281\n",
      "Epoch 159/300\n",
      "2/2 [==============================] - 0s 55ms/step - loss: 0.3329\n",
      "Epoch 160/300\n",
      "2/2 [==============================] - 0s 55ms/step - loss: 0.3324\n",
      "Epoch 161/300\n",
      "2/2 [==============================] - 0s 53ms/step - loss: 0.3336\n",
      "Epoch 162/300\n",
      "2/2 [==============================] - 0s 53ms/step - loss: 0.3312\n",
      "Epoch 163/300\n",
      "2/2 [==============================] - 0s 54ms/step - loss: 0.3364\n",
      "Epoch 164/300\n",
      "2/2 [==============================] - 0s 53ms/step - loss: 0.3298\n",
      "Epoch 165/300\n",
      "2/2 [==============================] - 0s 52ms/step - loss: 0.3316\n",
      "Epoch 166/300\n",
      "2/2 [==============================] - 0s 58ms/step - loss: 0.3347\n",
      "Epoch 167/300\n",
      "2/2 [==============================] - 0s 53ms/step - loss: 0.3294\n",
      "Epoch 168/300\n",
      "2/2 [==============================] - 0s 56ms/step - loss: 0.3258\n",
      "Epoch 169/300\n",
      "2/2 [==============================] - 0s 55ms/step - loss: 0.3289\n",
      "Epoch 170/300\n",
      "2/2 [==============================] - 0s 57ms/step - loss: 0.3287\n",
      "Epoch 171/300\n",
      "2/2 [==============================] - 0s 54ms/step - loss: 0.3295\n",
      "Epoch 172/300\n",
      "2/2 [==============================] - 0s 55ms/step - loss: 0.3295\n",
      "Epoch 173/300\n",
      "2/2 [==============================] - 0s 52ms/step - loss: 0.3247\n",
      "Epoch 174/300\n",
      "2/2 [==============================] - 0s 57ms/step - loss: 0.3212\n",
      "Epoch 175/300\n",
      "2/2 [==============================] - 0s 53ms/step - loss: 0.3289\n",
      "Epoch 176/300\n",
      "2/2 [==============================] - 0s 56ms/step - loss: 0.3302\n",
      "Epoch 177/300\n",
      "2/2 [==============================] - 0s 62ms/step - loss: 0.3330\n",
      "Epoch 178/300\n",
      "2/2 [==============================] - 0s 55ms/step - loss: 0.3259\n",
      "Epoch 179/300\n",
      "2/2 [==============================] - 0s 54ms/step - loss: 0.3275\n",
      "Epoch 180/300\n",
      "2/2 [==============================] - 0s 57ms/step - loss: 0.3293\n",
      "Epoch 181/300\n",
      "2/2 [==============================] - 0s 53ms/step - loss: 0.3259\n",
      "Epoch 182/300\n",
      "2/2 [==============================] - 0s 56ms/step - loss: 0.3262\n",
      "Epoch 183/300\n",
      "2/2 [==============================] - 0s 58ms/step - loss: 0.3182\n",
      "Epoch 184/300\n",
      "2/2 [==============================] - 0s 54ms/step - loss: 0.3281\n",
      "Epoch 185/300\n",
      "2/2 [==============================] - 0s 55ms/step - loss: 0.3254\n",
      "Epoch 186/300\n",
      "2/2 [==============================] - 0s 53ms/step - loss: 0.3292\n",
      "Epoch 187/300\n",
      "2/2 [==============================] - 0s 52ms/step - loss: 0.3281\n",
      "Epoch 188/300\n",
      "2/2 [==============================] - 0s 55ms/step - loss: 0.3269\n",
      "Epoch 189/300\n",
      "2/2 [==============================] - 0s 56ms/step - loss: 0.3262\n",
      "Epoch 190/300\n",
      "2/2 [==============================] - 0s 55ms/step - loss: 0.3253\n",
      "Epoch 191/300\n",
      "2/2 [==============================] - 0s 56ms/step - loss: 0.3276\n",
      "Epoch 192/300\n",
      "2/2 [==============================] - 0s 58ms/step - loss: 0.3244\n",
      "Epoch 193/300\n",
      "2/2 [==============================] - 0s 55ms/step - loss: 0.3260\n",
      "Epoch 194/300\n",
      "2/2 [==============================] - 0s 55ms/step - loss: 0.3257\n",
      "Epoch 195/300\n",
      "2/2 [==============================] - 0s 55ms/step - loss: 0.3258\n",
      "Epoch 196/300\n",
      "2/2 [==============================] - 0s 56ms/step - loss: 0.3253\n",
      "Epoch 197/300\n",
      "2/2 [==============================] - 0s 56ms/step - loss: 0.3258\n",
      "Epoch 198/300\n",
      "2/2 [==============================] - 0s 55ms/step - loss: 0.3288\n",
      "Epoch 199/300\n",
      "2/2 [==============================] - 0s 55ms/step - loss: 0.3307\n",
      "Epoch 200/300\n",
      "2/2 [==============================] - 0s 54ms/step - loss: 0.3248\n",
      "Epoch 201/300\n",
      "2/2 [==============================] - 0s 56ms/step - loss: 0.3208\n",
      "Epoch 202/300\n",
      "2/2 [==============================] - 0s 56ms/step - loss: 0.3249\n",
      "Epoch 203/300\n",
      "2/2 [==============================] - 0s 53ms/step - loss: 0.3159\n",
      "Epoch 204/300\n"
     ]
    },
    {
     "name": "stdout",
     "output_type": "stream",
     "text": [
      "2/2 [==============================] - 0s 54ms/step - loss: 0.3245\n",
      "Epoch 205/300\n",
      "2/2 [==============================] - 0s 52ms/step - loss: 0.3235\n",
      "Epoch 206/300\n",
      "2/2 [==============================] - 0s 55ms/step - loss: 0.3233\n",
      "Epoch 207/300\n",
      "2/2 [==============================] - 0s 55ms/step - loss: 0.3243\n",
      "Epoch 208/300\n",
      "2/2 [==============================] - 0s 53ms/step - loss: 0.3283\n",
      "Epoch 209/300\n",
      "2/2 [==============================] - 0s 56ms/step - loss: 0.3192\n",
      "Epoch 210/300\n",
      "2/2 [==============================] - 0s 53ms/step - loss: 0.3159\n",
      "Epoch 211/300\n",
      "2/2 [==============================] - 0s 57ms/step - loss: 0.3222\n",
      "Epoch 212/300\n",
      "2/2 [==============================] - 0s 58ms/step - loss: 0.3172\n",
      "Epoch 213/300\n",
      "2/2 [==============================] - 0s 52ms/step - loss: 0.3235\n",
      "Epoch 214/300\n",
      "2/2 [==============================] - 0s 56ms/step - loss: 0.3244\n",
      "Epoch 215/300\n",
      "2/2 [==============================] - 0s 55ms/step - loss: 0.3237\n",
      "Epoch 216/300\n",
      "2/2 [==============================] - 0s 54ms/step - loss: 0.3176\n",
      "Epoch 217/300\n",
      "2/2 [==============================] - 0s 54ms/step - loss: 0.3256\n",
      "Epoch 218/300\n",
      "2/2 [==============================] - 0s 57ms/step - loss: 0.3255\n",
      "Epoch 219/300\n",
      "2/2 [==============================] - 0s 54ms/step - loss: 0.3204\n",
      "Epoch 220/300\n",
      "2/2 [==============================] - 0s 55ms/step - loss: 0.3218\n",
      "Epoch 221/300\n",
      "2/2 [==============================] - 0s 53ms/step - loss: 0.3211\n",
      "Epoch 222/300\n",
      "2/2 [==============================] - 0s 55ms/step - loss: 0.3208\n",
      "Epoch 223/300\n",
      "2/2 [==============================] - 0s 55ms/step - loss: 0.3152\n",
      "Epoch 224/300\n",
      "2/2 [==============================] - 0s 55ms/step - loss: 0.3206\n",
      "Epoch 225/300\n",
      "2/2 [==============================] - 0s 55ms/step - loss: 0.3217\n",
      "Epoch 226/300\n",
      "2/2 [==============================] - 0s 53ms/step - loss: 0.3178\n",
      "Epoch 227/300\n",
      "2/2 [==============================] - 0s 53ms/step - loss: 0.3253\n",
      "Epoch 228/300\n",
      "2/2 [==============================] - 0s 52ms/step - loss: 0.3242\n",
      "Epoch 229/300\n",
      "2/2 [==============================] - 0s 54ms/step - loss: 0.3193\n",
      "Epoch 230/300\n",
      "2/2 [==============================] - 0s 53ms/step - loss: 0.3189\n",
      "Epoch 231/300\n",
      "2/2 [==============================] - 0s 55ms/step - loss: 0.3180\n",
      "Epoch 232/300\n",
      "2/2 [==============================] - 0s 59ms/step - loss: 0.3197\n",
      "Epoch 233/300\n",
      "2/2 [==============================] - 0s 55ms/step - loss: 0.3262\n",
      "Epoch 234/300\n",
      "2/2 [==============================] - 0s 57ms/step - loss: 0.3223\n",
      "Epoch 235/300\n",
      "2/2 [==============================] - 0s 59ms/step - loss: 0.3234\n",
      "Epoch 236/300\n",
      "2/2 [==============================] - 0s 55ms/step - loss: 0.3161\n",
      "Epoch 237/300\n",
      "2/2 [==============================] - 0s 57ms/step - loss: 0.3140\n",
      "Epoch 238/300\n",
      "2/2 [==============================] - 0s 59ms/step - loss: 0.3280\n",
      "Epoch 239/300\n",
      "2/2 [==============================] - 0s 57ms/step - loss: 0.3239\n",
      "Epoch 240/300\n",
      "2/2 [==============================] - 0s 54ms/step - loss: 0.3190\n",
      "Epoch 241/300\n",
      "2/2 [==============================] - 0s 53ms/step - loss: 0.3207\n",
      "Epoch 242/300\n",
      "2/2 [==============================] - 0s 55ms/step - loss: 0.3184\n",
      "Epoch 243/300\n",
      "2/2 [==============================] - 0s 53ms/step - loss: 0.3170\n",
      "Epoch 244/300\n",
      "2/2 [==============================] - 0s 53ms/step - loss: 0.3221\n",
      "Epoch 245/300\n",
      "2/2 [==============================] - 0s 56ms/step - loss: 0.3180\n",
      "Epoch 246/300\n",
      "2/2 [==============================] - 0s 54ms/step - loss: 0.3231\n",
      "Epoch 247/300\n",
      "2/2 [==============================] - 0s 56ms/step - loss: 0.3198\n",
      "Epoch 248/300\n",
      "2/2 [==============================] - 0s 52ms/step - loss: 0.3259\n",
      "Epoch 249/300\n",
      "2/2 [==============================] - 0s 57ms/step - loss: 0.3139\n",
      "Epoch 250/300\n",
      "2/2 [==============================] - 0s 52ms/step - loss: 0.3239\n",
      "Epoch 251/300\n",
      "2/2 [==============================] - 0s 55ms/step - loss: 0.3179\n",
      "Epoch 252/300\n",
      "2/2 [==============================] - 0s 55ms/step - loss: 0.3213\n",
      "Epoch 253/300\n",
      "2/2 [==============================] - 0s 55ms/step - loss: 0.3276\n",
      "Epoch 254/300\n",
      "2/2 [==============================] - 0s 53ms/step - loss: 0.3200\n",
      "Epoch 255/300\n",
      "2/2 [==============================] - 0s 53ms/step - loss: 0.3240\n",
      "Epoch 256/300\n",
      "2/2 [==============================] - 0s 55ms/step - loss: 0.3160\n",
      "Epoch 257/300\n",
      "2/2 [==============================] - 0s 55ms/step - loss: 0.3232\n",
      "Epoch 258/300\n",
      "2/2 [==============================] - 0s 58ms/step - loss: 0.3255\n",
      "Epoch 259/300\n",
      "2/2 [==============================] - 0s 51ms/step - loss: 0.3205\n",
      "Epoch 260/300\n",
      "2/2 [==============================] - 0s 59ms/step - loss: 0.3117\n",
      "Epoch 261/300\n",
      "2/2 [==============================] - 0s 57ms/step - loss: 0.3165\n",
      "Epoch 262/300\n",
      "2/2 [==============================] - 0s 56ms/step - loss: 0.3178\n",
      "Epoch 263/300\n",
      "2/2 [==============================] - 0s 54ms/step - loss: 0.3178\n",
      "Epoch 264/300\n",
      "2/2 [==============================] - 0s 54ms/step - loss: 0.3208\n",
      "Epoch 265/300\n",
      "2/2 [==============================] - 0s 55ms/step - loss: 0.3214\n",
      "Epoch 266/300\n",
      "2/2 [==============================] - 0s 59ms/step - loss: 0.3182\n",
      "Epoch 267/300\n",
      "2/2 [==============================] - 0s 55ms/step - loss: 0.3213\n",
      "Epoch 268/300\n",
      "2/2 [==============================] - 0s 56ms/step - loss: 0.3206\n",
      "Epoch 269/300\n",
      "2/2 [==============================] - 0s 55ms/step - loss: 0.3130\n",
      "Epoch 270/300\n",
      "2/2 [==============================] - 0s 63ms/step - loss: 0.3203\n",
      "Epoch 271/300\n",
      "2/2 [==============================] - 0s 53ms/step - loss: 0.3163\n",
      "Epoch 272/300\n",
      "2/2 [==============================] - 0s 58ms/step - loss: 0.3167\n",
      "Epoch 273/300\n",
      "2/2 [==============================] - 0s 58ms/step - loss: 0.3219\n",
      "Epoch 274/300\n",
      "2/2 [==============================] - 0s 56ms/step - loss: 0.3156\n",
      "Epoch 275/300\n",
      "2/2 [==============================] - 0s 56ms/step - loss: 0.3156\n",
      "Epoch 276/300\n",
      "2/2 [==============================] - 0s 54ms/step - loss: 0.3205\n",
      "Epoch 277/300\n",
      "2/2 [==============================] - 0s 54ms/step - loss: 0.3213\n",
      "Epoch 278/300\n",
      "2/2 [==============================] - 0s 56ms/step - loss: 0.3215\n",
      "Epoch 279/300\n",
      "2/2 [==============================] - 0s 55ms/step - loss: 0.3245\n",
      "Epoch 280/300\n",
      "2/2 [==============================] - 0s 58ms/step - loss: 0.3153\n",
      "Epoch 281/300\n",
      "2/2 [==============================] - 0s 59ms/step - loss: 0.3161\n",
      "Epoch 282/300\n",
      "2/2 [==============================] - 0s 56ms/step - loss: 0.3166\n",
      "Epoch 283/300\n",
      "2/2 [==============================] - 0s 62ms/step - loss: 0.3210\n",
      "Epoch 284/300\n",
      "2/2 [==============================] - 0s 54ms/step - loss: 0.3192\n",
      "Epoch 285/300\n",
      "2/2 [==============================] - 0s 58ms/step - loss: 0.3148\n",
      "Epoch 286/300\n",
      "2/2 [==============================] - 0s 59ms/step - loss: 0.3224\n",
      "Epoch 287/300\n",
      "2/2 [==============================] - 0s 57ms/step - loss: 0.3170\n",
      "Epoch 288/300\n",
      "2/2 [==============================] - 0s 63ms/step - loss: 0.3162\n",
      "Epoch 289/300\n",
      "2/2 [==============================] - 0s 55ms/step - loss: 0.3220\n",
      "Epoch 290/300\n",
      "2/2 [==============================] - 0s 58ms/step - loss: 0.3221\n",
      "Epoch 291/300\n",
      "2/2 [==============================] - 0s 53ms/step - loss: 0.3226\n",
      "Epoch 292/300\n",
      "2/2 [==============================] - 0s 58ms/step - loss: 0.3157\n",
      "Epoch 293/300\n",
      "2/2 [==============================] - 0s 53ms/step - loss: 0.3295\n",
      "Epoch 294/300\n",
      "2/2 [==============================] - 0s 59ms/step - loss: 0.3162\n",
      "Epoch 295/300\n",
      "2/2 [==============================] - 0s 54ms/step - loss: 0.3242\n",
      "Epoch 296/300\n",
      "2/2 [==============================] - 0s 59ms/step - loss: 0.3178\n",
      "Epoch 297/300\n",
      "2/2 [==============================] - 0s 61ms/step - loss: 0.3138\n",
      "Epoch 298/300\n",
      "2/2 [==============================] - 0s 58ms/step - loss: 0.3179\n",
      "Epoch 299/300\n",
      "2/2 [==============================] - 0s 55ms/step - loss: 0.3127\n",
      "Epoch 300/300\n",
      "2/2 [==============================] - 0s 53ms/step - loss: 0.3169\n"
     ]
    }
   ],
   "source": [
    "history = model.fit(dataset, epochs=epochs)"
   ]
  },
  {
   "cell_type": "markdown",
   "metadata": {},
   "source": [
    "### Generate prediction"
   ]
  },
  {
   "cell_type": "code",
   "execution_count": 36,
   "metadata": {},
   "outputs": [],
   "source": [
    "class OneStep(tf.keras.Model):\n",
    "    def __init__(self, model, chars_from_ids, ids_from_chars, temperature=1.0):\n",
    "        super().__init__()\n",
    "        self.temperature=temperature\n",
    "        self.model = model\n",
    "        self.chars_from_ids = chars_from_ids\n",
    "        self.ids_from_chars = ids_from_chars\n",
    "\n",
    "        # Create a mask to prevent \"\" or \"[UNK]\" from being generated.\n",
    "        skip_ids = self.ids_from_chars(['','[UNK]'])[:, None]\n",
    "        sparse_mask = tf.SparseTensor(\n",
    "            # Put a -inf at each bad index.\n",
    "            values=[-float('inf')]*len(skip_ids),\n",
    "            indices = skip_ids,\n",
    "            # Match the shape to the vocabulary\n",
    "            dense_shape=[len(ids_from_chars.get_vocabulary())]) \n",
    "        self.prediction_mask = tf.sparse.to_dense(sparse_mask)\n",
    "\n",
    "    @tf.function\n",
    "    def generate_one_step(self, inputs, states=None):\n",
    "        # Convert strings to token IDs.\n",
    "        input_chars = tf.strings.unicode_split(inputs, 'UTF-8')\n",
    "        input_ids = self.ids_from_chars(input_chars).to_tensor()\n",
    "\n",
    "        # Run the model.\n",
    "        # predicted_logits.shape is [batch, char, next_char_logits] \n",
    "        predicted_logits, states =  self.model(inputs=input_ids, states=states, \n",
    "                                          return_state=True)\n",
    "        # Only use the last prediction.\n",
    "        predicted_logits = predicted_logits[:, -1, :]\n",
    "        predicted_logits = predicted_logits/self.temperature\n",
    "        # Apply the prediction mask: prevent \"\" or \"[UNK]\" from being generated.\n",
    "        predicted_logits = predicted_logits + self.prediction_mask\n",
    "\n",
    "        # Sample the output logits to generate token IDs.\n",
    "        predicted_ids = tf.random.categorical(predicted_logits, num_samples=1)\n",
    "        predicted_ids = tf.squeeze(predicted_ids, axis=-1)\n",
    "\n",
    "        # Convert from token ids to characters\n",
    "        predicted_chars = self.chars_from_ids(predicted_ids)\n",
    "\n",
    "        # Return the characters and model state.\n",
    "        return predicted_chars, states"
   ]
  },
  {
   "cell_type": "code",
   "execution_count": 37,
   "metadata": {},
   "outputs": [],
   "source": [
    "one_step_model = OneStep(model, chars_from_ids, ids_from_chars)"
   ]
  },
  {
   "cell_type": "code",
   "execution_count": 38,
   "metadata": {},
   "outputs": [
    {
     "name": "stdout",
     "output_type": "stream",
     "text": [
      "pococwtrf\n"
     ]
    }
   ],
   "source": [
    "states = None\n",
    "next_char = tf.constant(['p'])\n",
    "result = [next_char]\n",
    "\n",
    "for n in range(8):\n",
    "    next_char, states = one_step_model.generate_one_step(next_char, states=states)\n",
    "    result.append(next_char)\n",
    "\n",
    "result = tf.strings.join(result)\n",
    "\n",
    "print(result[0].numpy().decode('utf-8'))"
   ]
  },
  {
   "cell_type": "markdown",
   "metadata": {},
   "source": [
    "### Prequential method"
   ]
  },
  {
   "cell_type": "code",
   "execution_count": 39,
   "metadata": {},
   "outputs": [],
   "source": [
    "# test generation of predictions in loop for all first chars in list\n",
    "\n",
    "results = [[] for line in data_split]\n",
    "\n",
    "for line in range(0, len(data_split)):\n",
    "    states = None\n",
    "    next_char = tf.constant([data_split[line][0]])\n",
    "    results[line] = [next_char]\n",
    "    \n",
    "    for n in range(0, len(data_split[line]) - 1):\n",
    "        next_char, states = one_step_model.generate_one_step(next_char, states=states)\n",
    "        results[line].append(next_char)\n",
    "    results[line] = tf.strings.join(results[line])\n",
    "    results[line] = results[line][0].numpy().decode('utf-8')"
   ]
  },
  {
   "cell_type": "code",
   "execution_count": 40,
   "metadata": {},
   "outputs": [
    {
     "data": {
      "text/plain": [
       "True"
      ]
     },
     "execution_count": 40,
     "metadata": {},
     "output_type": "execute_result"
    }
   ],
   "source": [
    "# check if predicted length = observed length\n",
    "[len(line) for line in results] == [len(line) for line in data_split]"
   ]
  },
  {
   "cell_type": "markdown",
   "metadata": {},
   "source": [
    "### Prequential approach"
   ]
  },
  {
   "cell_type": "code",
   "execution_count": 41,
   "metadata": {},
   "outputs": [],
   "source": [
    "# generate prediction for next char, compare to observed, determine error - until length of observed is reached\n",
    "\n",
    "results = [[] for line in data_split]\n",
    "errors = [[] for x in data_split]\n",
    "\n",
    "for line in range(0, len(data_split)):\n",
    "    i = 1\n",
    "    states = None\n",
    "    \n",
    "    while i < len(data_split[line]):\n",
    "        next_char = tf.constant([data_split[line][:i]])\n",
    "        results[line] = [next_char]\n",
    "        next_char, states = one_step_model.generate_one_step(next_char, states=states)\n",
    "        results[line].append(next_char)\n",
    "        predicted = tf.strings.join(results[line])\n",
    "        predicted = predicted[0].numpy().decode('utf-8')\n",
    "        observed = data_split[line][:i+1]\n",
    "        error = 1 - damerauLevenshtein(predicted, observed)\n",
    "        #print(predicted, observed, error)\n",
    "        \n",
    "        errors[line].append(error)\n",
    "        i +=1\n",
    "        \n",
    "    results[line] = tf.strings.join(results[line])\n",
    "    results[line] = results[line][0].numpy().decode('utf-8')"
   ]
  },
  {
   "cell_type": "code",
   "execution_count": 42,
   "metadata": {},
   "outputs": [],
   "source": [
    "error_list = [np.median(error) for error in errors]"
   ]
  },
  {
   "cell_type": "code",
   "execution_count": 48,
   "metadata": {},
   "outputs": [
    {
     "data": {
      "text/plain": [
       "1.1753496834501735"
      ]
     },
     "execution_count": 48,
     "metadata": {},
     "output_type": "execute_result"
    }
   ],
   "source": [
    "summed_error = [sum(error) for error in errors]\n",
    "np.mean(summed_error)"
   ]
  },
  {
   "cell_type": "code",
   "execution_count": 43,
   "metadata": {},
   "outputs": [
    {
     "data": {
      "text/plain": [
       "0.15319473736140402"
      ]
     },
     "execution_count": 43,
     "metadata": {},
     "output_type": "execute_result"
    }
   ],
   "source": [
    "np.mean([np.median(error) for error in errors])"
   ]
  },
  {
   "cell_type": "code",
   "execution_count": 44,
   "metadata": {},
   "outputs": [
    {
     "data": {
      "text/plain": [
       "0.1773809523809524"
      ]
     },
     "execution_count": 44,
     "metadata": {},
     "output_type": "execute_result"
    }
   ],
   "source": [
    "np.median([np.mean(error) for error in errors])"
   ]
  },
  {
   "cell_type": "code",
   "execution_count": 46,
   "metadata": {},
   "outputs": [],
   "source": [
    "with open('results/rnn_prequential.txt', 'w') as f:\n",
    "    f.write(str(error_list))"
   ]
  },
  {
   "cell_type": "markdown",
   "metadata": {},
   "source": [
    "### Binary evaluation of errors in each step"
   ]
  },
  {
   "cell_type": "code",
   "execution_count": 60,
   "metadata": {},
   "outputs": [],
   "source": [
    "# generate prediction for next char, compare to observed, determine error - until length of observed is reached\n",
    "\n",
    "results = [[] for line in data_split]\n",
    "errors = [[] for x in data_split]\n",
    "\n",
    "for line in range(0, len(data_split)):\n",
    "    i = 1\n",
    "    states = None\n",
    "    \n",
    "    while i < len(data_split[line]):\n",
    "        next_char = tf.constant([data_split[line][:i]])\n",
    "        #results[line] = [next_char]\n",
    "        next_char, states = one_step_model.generate_one_step(next_char, states=states)\n",
    "        #results[line].append(next_char)\n",
    "        #predicted = tf.strings.join(results[line])\n",
    "        predicted = next_char[0].numpy().decode('utf-8')\n",
    "        observed = data_split[line][i]\n",
    "        error = 1 - damerauLevenshtein(predicted, observed)\n",
    "        #print(predicted, observed, error)\n",
    "        \n",
    "        errors[line].append(error)\n",
    "        i +=1\n",
    "        \n",
    "    #results[line] = tf.strings.join(results[line])\n",
    "    #results[line] = results[line][0].numpy().decode('utf-8')"
   ]
  },
  {
   "cell_type": "code",
   "execution_count": 61,
   "metadata": {},
   "outputs": [
    {
     "data": {
      "text/plain": [
       "[[1.0, 0.0, 0.0, 1.0, 0.0],\n",
       " [1.0, 0.0, 1.0, 1.0, 1.0, 1.0, 1.0],\n",
       " [1.0, 1.0, 1.0, 0.0, 0.0, 1.0, 1.0, 1.0],\n",
       " [1.0, 1.0, 1.0, 1.0, 1.0, 1.0, 1.0, 0.0, 0.0, 1.0, 0.0, 1.0],\n",
       " [1.0, 1.0, 1.0, 0.0, 0.0, 1.0, 1.0, 1.0],\n",
       " [1.0, 0.0, 0.0, 1.0],\n",
       " [0.0, 1.0, 0.0, 1.0, 0.0],\n",
       " [0.0, 1.0, 1.0, 1.0, 0.0, 1.0],\n",
       " [0.0, 1.0, 1.0, 1.0, 1.0, 1.0, 1.0, 1.0, 0.0],\n",
       " [1.0, 0.0, 1.0, 0.0, 1.0, 1.0, 0.0, 1.0],\n",
       " [1.0, 0.0, 1.0, 1.0, 0.0, 1.0, 1.0, 1.0, 1.0],\n",
       " [1.0, 1.0, 0.0, 1.0, 1.0, 1.0, 0.0],\n",
       " [1.0, 1.0, 1.0, 1.0, 0.0, 1.0, 1.0, 1.0, 1.0, 1.0, 1.0, 1.0],\n",
       " [1.0, 1.0, 1.0, 1.0, 1.0],\n",
       " [1.0, 1.0, 1.0, 0.0, 0.0],\n",
       " [1.0, 1.0, 1.0, 1.0, 1.0],\n",
       " [1.0, 0.0, 1.0, 1.0, 1.0, 0.0, 1.0, 1.0, 0.0, 1.0],\n",
       " [1.0, 0.0, 0.0, 0.0, 1.0],\n",
       " [1.0, 1.0, 1.0, 0.0, 1.0, 0.0, 1.0, 1.0, 1.0, 1.0, 1.0, 1.0, 0.0],\n",
       " [1.0, 1.0, 0.0, 1.0, 0.0, 0.0, 1.0, 1.0, 1.0, 1.0, 1.0, 1.0, 0.0, 1.0],\n",
       " [1.0, 1.0, 0.0, 0.0, 1.0, 0.0, 1.0, 1.0, 1.0, 1.0],\n",
       " [1.0, 1.0, 0.0, 1.0, 0.0, 0.0, 0.0],\n",
       " [1.0, 1.0, 0.0, 1.0, 1.0, 0.0, 1.0, 1.0, 0.0, 1.0, 1.0, 1.0, 1.0, 1.0],\n",
       " [1.0,\n",
       "  1.0,\n",
       "  1.0,\n",
       "  1.0,\n",
       "  1.0,\n",
       "  1.0,\n",
       "  0.0,\n",
       "  0.0,\n",
       "  1.0,\n",
       "  1.0,\n",
       "  0.0,\n",
       "  1.0,\n",
       "  1.0,\n",
       "  1.0,\n",
       "  1.0,\n",
       "  1.0],\n",
       " [1.0, 1.0, 0.0, 0.0, 1.0, 1.0, 1.0],\n",
       " [1.0, 0.0, 1.0, 1.0, 1.0, 1.0, 1.0],\n",
       " [1.0, 0.0, 1.0, 1.0, 0.0, 0.0, 0.0, 0.0, 1.0, 1.0, 1.0],\n",
       " [0.0, 1.0, 0.0, 1.0, 1.0, 1.0, 1.0, 1.0],\n",
       " [0.0, 1.0, 1.0, 0.0, 1.0, 1.0],\n",
       " [1.0, 0.0, 0.0, 1.0],\n",
       " [1.0, 1.0, 1.0, 0.0, 0.0, 1.0, 1.0],\n",
       " [1.0, 1.0, 1.0, 1.0, 1.0, 0.0, 1.0, 1.0, 1.0, 1.0, 1.0, 1.0],\n",
       " [1.0, 1.0, 1.0, 0.0, 1.0, 1.0, 1.0, 0.0],\n",
       " [1.0, 1.0, 1.0, 1.0, 1.0, 1.0, 0.0, 1.0, 1.0],\n",
       " [1.0, 1.0, 0.0, 1.0, 0.0, 0.0],\n",
       " [1.0, 1.0, 0.0, 1.0, 0.0, 1.0, 1.0, 1.0, 1.0],\n",
       " [1.0, 1.0, 1.0, 1.0, 1.0, 1.0, 0.0, 1.0, 1.0, 1.0],\n",
       " [1.0, 1.0, 1.0, 0.0, 1.0, 0.0, 0.0],\n",
       " [1.0, 1.0, 1.0, 1.0, 0.0, 0.0, 0.0, 1.0, 1.0, 1.0],\n",
       " [1.0, 0.0, 0.0, 1.0, 0.0],\n",
       " [1.0, 1.0, 1.0, 1.0, 1.0],\n",
       " [1.0, 1.0, 1.0, 1.0],\n",
       " [0.0, 1.0, 0.0, 1.0, 1.0, 0.0, 1.0, 1.0, 1.0],\n",
       " [1.0, 0.0, 1.0, 0.0, 1.0, 1.0],\n",
       " [0.0, 0.0, 0.0, 1.0, 1.0, 1.0, 1.0, 1.0, 1.0],\n",
       " [1.0, 1.0, 1.0],\n",
       " [1.0, 1.0, 0.0, 1.0],\n",
       " [1.0, 0.0, 1.0, 0.0, 1.0, 1.0, 1.0, 1.0],\n",
       " [0.0, 1.0, 0.0, 1.0, 0.0, 0.0, 1.0],\n",
       " [1.0, 1.0, 1.0, 0.0, 1.0, 1.0, 1.0],\n",
       " [1.0, 0.0, 1.0, 0.0, 0.0],\n",
       " [1.0, 1.0, 1.0, 1.0],\n",
       " [1.0, 1.0, 0.0, 1.0, 1.0, 1.0, 1.0, 1.0, 0.0, 1.0, 1.0, 1.0, 1.0, 1.0],\n",
       " [1.0, 0.0, 1.0, 0.0, 0.0, 1.0],\n",
       " [0.0, 0.0, 0.0, 1.0, 1.0, 0.0, 1.0],\n",
       " [1.0, 1.0, 1.0, 0.0, 1.0, 0.0, 0.0, 1.0, 1.0, 1.0],\n",
       " [1.0, 0.0, 1.0, 1.0, 1.0, 1.0, 0.0, 1.0],\n",
       " [1.0, 1.0, 1.0, 0.0, 1.0, 1.0],\n",
       " [1.0, 0.0, 1.0, 0.0, 0.0, 1.0, 1.0, 1.0, 1.0],\n",
       " [1.0, 1.0, 1.0, 1.0],\n",
       " [1.0, 0.0, 0.0],\n",
       " [1.0, 1.0, 1.0, 1.0, 1.0, 0.0, 1.0, 0.0, 0.0, 1.0, 1.0, 0.0],\n",
       " [1.0],\n",
       " [1.0, 1.0, 1.0, 1.0, 0.0, 1.0],\n",
       " [1.0, 0.0, 1.0, 1.0, 0.0, 0.0, 1.0],\n",
       " [1.0, 0.0, 1.0, 1.0],\n",
       " [1.0, 0.0, 1.0, 0.0, 1.0, 0.0, 0.0, 1.0, 1.0, 0.0, 1.0, 1.0],\n",
       " [1.0, 1.0, 1.0, 0.0, 1.0, 1.0, 1.0, 1.0, 1.0, 1.0, 0.0, 1.0],\n",
       " [1.0, 0.0, 1.0, 1.0, 0.0, 0.0, 1.0],\n",
       " [1.0, 0.0, 1.0, 1.0, 1.0, 1.0],\n",
       " [1.0, 1.0, 1.0, 1.0, 0.0, 0.0, 1.0],\n",
       " [1.0, 1.0, 0.0],\n",
       " [1.0, 0.0, 0.0, 1.0, 1.0, 1.0, 1.0, 1.0, 1.0, 1.0, 1.0],\n",
       " [1.0, 1.0, 1.0, 1.0, 1.0, 1.0, 1.0, 1.0, 0.0],\n",
       " [0.0, 1.0, 1.0, 0.0, 0.0, 1.0, 0.0, 1.0],\n",
       " [1.0, 0.0, 1.0, 0.0, 0.0, 1.0, 0.0, 1.0, 1.0, 0.0, 1.0, 1.0],\n",
       " [1.0, 1.0, 1.0, 1.0, 0.0, 1.0, 1.0, 1.0, 1.0, 1.0],\n",
       " [1.0, 1.0, 1.0, 1.0, 1.0, 1.0],\n",
       " [1.0, 0.0, 0.0, 0.0, 0.0, 0.0, 1.0, 1.0, 1.0, 0.0],\n",
       " [1.0, 0.0, 0.0, 1.0, 1.0, 1.0, 1.0],\n",
       " [1.0, 0.0, 0.0, 1.0],\n",
       " [1.0, 0.0, 1.0, 1.0],\n",
       " [1.0, 0.0, 0.0, 1.0],\n",
       " [1.0, 1.0, 1.0, 1.0],\n",
       " [1.0, 1.0],\n",
       " [1.0, 1.0, 0.0, 1.0],\n",
       " [1.0, 1.0, 1.0],\n",
       " [1.0, 0.0, 1.0],\n",
       " [1.0, 1.0],\n",
       " [1.0, 1.0],\n",
       " [1.0, 1.0, 1.0, 1.0],\n",
       " [1.0, 1.0, 1.0, 1.0, 1.0],\n",
       " [1.0, 1.0, 1.0],\n",
       " [1.0, 0.0, 1.0, 1.0, 1.0, 1.0],\n",
       " [1.0, 1.0, 1.0, 1.0, 1.0],\n",
       " [1.0, 0.0, 0.0, 1.0, 1.0, 1.0, 1.0, 1.0, 1.0],\n",
       " [0.0, 1.0, 1.0, 1.0],\n",
       " [1.0],\n",
       " [1.0, 0.0, 1.0, 1.0, 0.0],\n",
       " [1.0, 1.0, 1.0, 1.0],\n",
       " [1.0, 0.0, 1.0, 1.0, 0.0, 0.0, 1.0],\n",
       " [1.0, 1.0, 1.0, 1.0, 1.0, 1.0, 0.0],\n",
       " [1.0, 1.0, 1.0, 1.0, 1.0, 0.0, 1.0],\n",
       " [1.0, 1.0, 1.0, 1.0, 0.0, 0.0, 1.0],\n",
       " [1.0, 0.0, 0.0, 1.0, 1.0, 0.0, 1.0],\n",
       " [0.0, 1.0, 1.0, 0.0, 0.0, 0.0, 0.0],\n",
       " [1.0, 1.0, 1.0, 1.0, 1.0, 1.0, 0.0],\n",
       " [1.0, 0.0, 0.0, 1.0, 1.0, 0.0, 0.0],\n",
       " [1.0, 0.0, 1.0, 1.0, 1.0, 0.0, 1.0],\n",
       " [1.0, 1.0, 0.0, 1.0, 0.0, 0.0, 1.0],\n",
       " [1.0, 1.0, 1.0, 1.0, 1.0, 0.0, 1.0],\n",
       " [1.0, 1.0, 1.0, 1.0, 1.0, 0.0, 1.0],\n",
       " [1.0, 0.0, 0.0, 0.0, 0.0, 0.0, 0.0],\n",
       " [1.0, 0.0, 0.0, 1.0, 0.0, 1.0, 0.0],\n",
       " [1.0, 0.0, 1.0, 0.0, 0.0, 1.0, 0.0],\n",
       " [1.0, 1.0, 1.0, 0.0, 0.0, 0.0, 0.0],\n",
       " [1.0, 1.0, 0.0, 1.0, 1.0, 1.0, 1.0],\n",
       " [0.0, 1.0, 1.0, 1.0, 0.0, 0.0, 0.0],\n",
       " [1.0, 1.0, 1.0, 0.0, 1.0, 1.0, 0.0],\n",
       " [1.0, 1.0, 1.0, 0.0, 0.0, 1.0, 0.0],\n",
       " [1.0, 0.0, 0.0, 1.0, 1.0, 1.0, 1.0],\n",
       " [1.0, 1.0, 1.0, 0.0, 1.0, 1.0, 1.0],\n",
       " [1.0, 1.0, 1.0, 0.0, 0.0, 0.0, 1.0],\n",
       " [1.0, 1.0, 1.0, 0.0, 1.0, 1.0, 1.0],\n",
       " [1.0, 1.0, 0.0, 1.0, 1.0, 1.0, 1.0],\n",
       " [1.0, 0.0, 0.0, 1.0, 0.0, 0.0, 0.0],\n",
       " [1.0, 1.0, 0.0, 1.0, 1.0, 1.0, 1.0],\n",
       " [1.0, 0.0, 1.0, 1.0, 1.0, 0.0, 1.0],\n",
       " [1.0, 1.0, 1.0, 1.0, 0.0, 1.0, 1.0],\n",
       " [1.0, 1.0, 1.0, 1.0, 1.0, 0.0, 1.0],\n",
       " [1.0, 1.0, 0.0, 1.0, 1.0, 1.0, 0.0],\n",
       " [0.0, 0.0, 1.0, 1.0, 1.0, 0.0, 0.0],\n",
       " [1.0, 1.0, 0.0, 1.0, 1.0, 1.0, 1.0],\n",
       " [1.0, 1.0, 1.0, 1.0, 1.0, 0.0, 1.0],\n",
       " [1.0, 1.0, 1.0, 0.0, 1.0, 1.0, 1.0],\n",
       " [1.0, 1.0, 0.0, 1.0, 1.0, 1.0, 1.0],\n",
       " [1.0, 0.0, 1.0, 1.0, 1.0, 0.0, 0.0],\n",
       " [1.0, 0.0, 1.0, 1.0, 1.0, 1.0, 1.0],\n",
       " [1.0, 0.0, 1.0, 1.0, 1.0, 0.0, 1.0],\n",
       " [1.0, 1.0, 1.0, 0.0, 1.0, 1.0, 0.0],\n",
       " [1.0, 0.0, 1.0, 0.0, 1.0, 0.0, 0.0],\n",
       " [1.0, 1.0, 1.0, 1.0, 0.0, 0.0, 1.0],\n",
       " [1.0, 1.0, 1.0, 1.0, 1.0, 0.0, 0.0],\n",
       " [1.0, 1.0, 0.0, 1.0, 1.0, 0.0, 0.0],\n",
       " [1.0, 1.0, 0.0, 1.0, 1.0, 1.0, 0.0],\n",
       " [1.0, 0.0, 1.0, 1.0, 1.0, 1.0, 1.0],\n",
       " [1.0, 1.0, 1.0, 0.0, 0.0, 1.0, 0.0],\n",
       " [1.0, 0.0, 0.0, 1.0, 1.0, 1.0, 1.0],\n",
       " [1.0, 1.0, 1.0, 1.0, 0.0, 1.0, 0.0],\n",
       " [1.0, 0.0, 1.0, 1.0, 0.0, 1.0, 1.0],\n",
       " [1.0, 1.0, 1.0, 0.0, 1.0, 1.0, 0.0],\n",
       " [1.0, 0.0, 1.0, 1.0, 1.0, 1.0, 1.0],\n",
       " [1.0, 0.0, 1.0, 0.0, 0.0, 0.0, 0.0],\n",
       " [1.0, 0.0, 1.0, 0.0, 0.0, 0.0, 0.0],\n",
       " [1.0, 0.0, 1.0, 0.0, 0.0, 1.0, 0.0],\n",
       " [1.0, 0.0, 0.0, 1.0, 0.0, 1.0, 0.0],\n",
       " [0.0, 1.0, 1.0, 0.0, 0.0, 1.0, 0.0],\n",
       " [1.0, 0.0, 0.0, 1.0, 0.0, 0.0, 0.0],\n",
       " [1.0, 0.0, 1.0, 1.0, 0.0, 1.0, 1.0],\n",
       " [1.0, 0.0, 0.0, 1.0, 1.0, 1.0, 0.0],\n",
       " [0.0, 0.0, 1.0, 0.0, 0.0, 0.0, 0.0],\n",
       " [1.0, 0.0, 1.0, 0.0, 0.0, 1.0, 0.0],\n",
       " [1.0, 1.0, 0.0, 0.0, 0.0, 0.0, 0.0],\n",
       " [1.0, 0.0, 1.0, 1.0, 0.0, 0.0, 0.0],\n",
       " [0.0, 0.0, 1.0, 1.0, 1.0, 0.0, 0.0],\n",
       " [1.0, 1.0, 0.0, 1.0, 1.0, 0.0, 0.0],\n",
       " [1.0, 1.0, 1.0, 1.0, 1.0, 1.0, 0.0],\n",
       " [1.0, 0.0, 0.0, 1.0, 0.0, 1.0, 0.0],\n",
       " [1.0, 1.0, 1.0, 0.0],\n",
       " [1.0, 1.0, 0.0, 0.0, 1.0, 0.0],\n",
       " [1.0, 1.0, 1.0, 0.0, 0.0],\n",
       " [1.0, 1.0, 0.0, 0.0, 0.0],\n",
       " [1.0, 1.0, 1.0, 0.0, 0.0],\n",
       " [1.0, 0.0, 0.0, 1.0, 0.0],\n",
       " [1.0, 1.0, 1.0, 1.0, 1.0],\n",
       " [1.0, 1.0, 1.0, 0.0, 0.0],\n",
       " [1.0, 1.0, 0.0, 1.0, 0.0],\n",
       " [1.0, 1.0, 1.0, 0.0, 0.0],\n",
       " [1.0, 1.0, 1.0, 0.0, 0.0],\n",
       " [1.0, 0.0, 1.0, 1.0, 0.0]]"
      ]
     },
     "execution_count": 61,
     "metadata": {},
     "output_type": "execute_result"
    }
   ],
   "source": [
    "errors"
   ]
  },
  {
   "cell_type": "code",
   "execution_count": 66,
   "metadata": {},
   "outputs": [
    {
     "data": {
      "text/plain": [
       "5.0"
      ]
     },
     "execution_count": 66,
     "metadata": {},
     "output_type": "execute_result"
    }
   ],
   "source": [
    "summed_error = [sum(error) for error in errors]\n",
    "np.median(summed_error)"
   ]
  },
  {
   "cell_type": "code",
   "execution_count": 65,
   "metadata": {},
   "outputs": [],
   "source": [
    "with open('results/rnn_prequential_summed.txt', 'w') as f:\n",
    "    f.write(str(summed_error))"
   ]
  },
  {
   "cell_type": "code",
   "execution_count": null,
   "metadata": {},
   "outputs": [],
   "source": []
  }
 ],
 "metadata": {
  "kernelspec": {
   "display_name": "tf",
   "language": "python",
   "name": "tf"
  },
  "language_info": {
   "codemirror_mode": {
    "name": "ipython",
    "version": 3
   },
   "file_extension": ".py",
   "mimetype": "text/x-python",
   "name": "python",
   "nbconvert_exporter": "python",
   "pygments_lexer": "ipython3",
   "version": "3.7.9"
  }
 },
 "nbformat": 4,
 "nbformat_minor": 4
}
