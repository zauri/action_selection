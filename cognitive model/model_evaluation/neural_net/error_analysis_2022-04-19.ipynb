{
 "cells": [
  {
   "cell_type": "code",
   "execution_count": 1,
   "id": "5609c0b7",
   "metadata": {},
   "outputs": [],
   "source": [
    "import ast\n",
    "import matplotlib.pyplot as plt\n",
    "import pandas as pd"
   ]
  },
  {
   "cell_type": "code",
   "execution_count": 2,
   "id": "6bf8df28",
   "metadata": {},
   "outputs": [],
   "source": [
    "with open('results/pytorch_rnn_prequential_summed_2022-04-19.txt', 'r') as file:\n",
    "    text_pred = ast.literal_eval(file.read())"
   ]
  },
  {
   "cell_type": "code",
   "execution_count": 3,
   "id": "e84984df",
   "metadata": {},
   "outputs": [],
   "source": [
    "with open('results/nn_spatialinfo_prequential_summed_2022-04-14.txt', 'r') as file:\n",
    "    spatial_info = ast.literal_eval(file.read())"
   ]
  },
  {
   "cell_type": "code",
   "execution_count": 4,
   "id": "f6962749",
   "metadata": {},
   "outputs": [],
   "source": [
    "model_results = pd.read_csv('../../opportunistic_planning/all_lowest_error/results/results_mean_2D_n100_2022-04-19.csv')"
   ]
  },
  {
   "cell_type": "code",
   "execution_count": 5,
   "id": "acda6059",
   "metadata": {},
   "outputs": [],
   "source": [
    "model_results = model_results.T\n",
    "new_header = model_results.iloc[0]\n",
    "model_results = model_results[1:]\n",
    "model_results.columns = new_header"
   ]
  },
  {
   "cell_type": "code",
   "execution_count": 6,
   "id": "4ad38fde",
   "metadata": {},
   "outputs": [],
   "source": [
    "lowest_mean = min(model_results.loc['mean'])\n",
    "lowest_mean_idx = model_results.columns[(model_results.loc['mean'] == lowest_mean)]"
   ]
  },
  {
   "cell_type": "code",
   "execution_count": 7,
   "id": "13239458",
   "metadata": {},
   "outputs": [
    {
     "data": {
      "text/plain": [
       "Index(['c: 1.5; k: 0.2,0.3,1.3; xy'], dtype='object', name='Unnamed: 0')"
      ]
     },
     "execution_count": 7,
     "metadata": {},
     "output_type": "execute_result"
    }
   ],
   "source": [
    "lowest_mean_idx"
   ]
  },
  {
   "cell_type": "code",
   "execution_count": 8,
   "id": "14d104b8",
   "metadata": {},
   "outputs": [],
   "source": [
    "results = model_results[lowest_mean_idx[0]][:-2].values"
   ]
  },
  {
   "cell_type": "code",
   "execution_count": 9,
   "id": "d68bb4d1",
   "metadata": {},
   "outputs": [
    {
     "data": {
      "text/plain": [
       "True"
      ]
     },
     "execution_count": 9,
     "metadata": {},
     "output_type": "execute_result"
    }
   ],
   "source": [
    "len(results) == len(text_pred) == len(spatial_info)"
   ]
  },
  {
   "cell_type": "code",
   "execution_count": 10,
   "id": "816b2c31",
   "metadata": {},
   "outputs": [],
   "source": [
    "df = pd.read_csv('../../opportunistic_planning/all_lowest_error/all_task_environments_list_2022-04-01.csv', header=0)"
   ]
  },
  {
   "cell_type": "code",
   "execution_count": 26,
   "id": "57ba9275",
   "metadata": {},
   "outputs": [],
   "source": [
    "prediction_errors = pd.DataFrame()\n",
    "prediction_errors['ID'] = model_results['ID'][:-2]\n",
    "prediction_errors['text_pred'] = text_pred\n",
    "prediction_errors['spatial_info'] = spatial_info\n",
    "prediction_errors['model'] = [float(x) for x in results]\n",
    "prediction_errors['sequence'] = list(df['sequence'])"
   ]
  },
  {
   "cell_type": "code",
   "execution_count": 88,
   "id": "5c40e30e",
   "metadata": {},
   "outputs": [],
   "source": [
    "#prediction_errors['model'].value_counts(sort=True)"
   ]
  },
  {
   "cell_type": "code",
   "execution_count": 83,
   "id": "ad5bcaae",
   "metadata": {},
   "outputs": [],
   "source": [
    "value_counts = pd.DataFrame(prediction_errors['model'].value_counts(sort=True))\n",
    "value_counts['spatial_info'] = prediction_errors['spatial_info'].value_counts()\n",
    "value_counts['text_pred'] = prediction_errors['text_pred'].value_counts()\n",
    "\n",
    "value_counts.index.name = 'error'\n",
    "value_counts = value_counts.sort_values('error', axis=0)\n",
    "value_counts.reset_index(inplace=True)\n",
    "#value_counts"
   ]
  },
  {
   "cell_type": "code",
   "execution_count": 82,
   "id": "7152eb19",
   "metadata": {},
   "outputs": [],
   "source": [
    "#value_counts.to_csv('results/value_counts.csv', header=True, index=False)"
   ]
  },
  {
   "cell_type": "code",
   "execution_count": 145,
   "id": "48834a33",
   "metadata": {},
   "outputs": [],
   "source": [
    "%matplotlib qt\n",
    "\n",
    "# frequencies in subplots\n",
    "\n",
    "fig = plt.figure(facecolor=\"w\")\n",
    "\n",
    "ax1 = plt.subplot(131)\n",
    "prediction_errors['spatial_info'].value_counts().sort_values().plot(kind = 'barh',\n",
    "                                                                    color='dodgerblue',\n",
    "                                                                    alpha=0.9)\n",
    "ax1.set_xlabel('NN with spatial info', fontsize=16)\n",
    "\n",
    "ax2 = plt.subplot(132)\n",
    "prediction_errors['text_pred'].value_counts().sort_values().plot(kind = 'barh',\n",
    "                                                                 color='darkgreen', \n",
    "                                                                 alpha=0.9)\n",
    "ax2.set_xlabel('NN text prediction', fontsize=16)\n",
    "\n",
    "ax3 = plt.subplot(133)\n",
    "prediction_errors['model'].value_counts().sort_values().plot(kind = 'barh',\n",
    "                                                             color='darkred', \n",
    "                                                             alpha=0.9)\n",
    "ax3.set_xlabel('model', fontsize=16)\n",
    "\n",
    "ax1.set_ylabel('accumulated prediction error', fontsize=18)\n",
    "plt.suptitle('error frequencies', fontsize=18)\n",
    "plt.show()"
   ]
  },
  {
   "cell_type": "code",
   "execution_count": 110,
   "id": "340ab26c",
   "metadata": {},
   "outputs": [],
   "source": [
    "# hist bar chart\n",
    "%matplotlib qt\n",
    "\n",
    "fig = plt.figure(facecolor=\"w\")\n",
    "#value_counts['spatial_info'].plot(kind = 'bar', color='dodgerblue', alpha=0.9,)\n",
    "#value_counts['text_pred'].plot(kind = 'bar', color='darkgreen', alpha=0.9)\n",
    "#value_counts['model'].plot(kind = 'bar', color='darkred', alpha=0.9)\n",
    "\n",
    "ax = value_counts.plot(x=\"error\", y=['spatial_info', 'text_pred', 'model'], kind='bar')\n",
    "plt.ylabel('number of occurrences', fontsize=18)\n",
    "plt.xlabel('error', fontsize=18)\n",
    "\n",
    "for container in ax.containers:\n",
    "    ax.bar_label(container)\n",
    "\n",
    "plt.legend(fontsize=14)\n",
    "plt.show()"
   ]
  },
  {
   "cell_type": "code",
   "execution_count": 101,
   "id": "33038016",
   "metadata": {},
   "outputs": [],
   "source": [
    "# separate bar charts\n",
    "%matplotlib qt\n",
    "\n",
    "fig = plt.figure(facecolor=\"w\", figsize=(16,12))\n",
    "prediction_errors.plot(x=\"ID\", y=['spatial_info', 'text_pred', 'model'], kind='bar')\n",
    "plt.show()"
   ]
  },
  {
   "cell_type": "code",
   "execution_count": 54,
   "id": "0744b7fe",
   "metadata": {},
   "outputs": [
    {
     "data": {
      "text/html": [
       "<div>\n",
       "<style scoped>\n",
       "    .dataframe tbody tr th:only-of-type {\n",
       "        vertical-align: middle;\n",
       "    }\n",
       "\n",
       "    .dataframe tbody tr th {\n",
       "        vertical-align: top;\n",
       "    }\n",
       "\n",
       "    .dataframe thead th {\n",
       "        text-align: right;\n",
       "    }\n",
       "</style>\n",
       "<table border=\"1\" class=\"dataframe\">\n",
       "  <thead>\n",
       "    <tr style=\"text-align: right;\">\n",
       "      <th></th>\n",
       "      <th>text_pred</th>\n",
       "      <th>spatial_info</th>\n",
       "      <th>model</th>\n",
       "    </tr>\n",
       "  </thead>\n",
       "  <tbody>\n",
       "    <tr>\n",
       "      <th>count</th>\n",
       "      <td>314.00</td>\n",
       "      <td>314.00</td>\n",
       "      <td>314.00</td>\n",
       "    </tr>\n",
       "    <tr>\n",
       "      <th>mean</th>\n",
       "      <td>4.47</td>\n",
       "      <td>2.14</td>\n",
       "      <td>3.48</td>\n",
       "    </tr>\n",
       "    <tr>\n",
       "      <th>std</th>\n",
       "      <td>2.20</td>\n",
       "      <td>1.69</td>\n",
       "      <td>2.40</td>\n",
       "    </tr>\n",
       "    <tr>\n",
       "      <th>min</th>\n",
       "      <td>1.00</td>\n",
       "      <td>0.00</td>\n",
       "      <td>0.00</td>\n",
       "    </tr>\n",
       "    <tr>\n",
       "      <th>25%</th>\n",
       "      <td>3.00</td>\n",
       "      <td>1.00</td>\n",
       "      <td>2.00</td>\n",
       "    </tr>\n",
       "    <tr>\n",
       "      <th>50%</th>\n",
       "      <td>5.00</td>\n",
       "      <td>2.00</td>\n",
       "      <td>3.00</td>\n",
       "    </tr>\n",
       "    <tr>\n",
       "      <th>75%</th>\n",
       "      <td>6.00</td>\n",
       "      <td>3.00</td>\n",
       "      <td>5.00</td>\n",
       "    </tr>\n",
       "    <tr>\n",
       "      <th>max</th>\n",
       "      <td>14.00</td>\n",
       "      <td>11.00</td>\n",
       "      <td>13.00</td>\n",
       "    </tr>\n",
       "  </tbody>\n",
       "</table>\n",
       "</div>"
      ],
      "text/plain": [
       "       text_pred  spatial_info   model\n",
       "count     314.00        314.00  314.00\n",
       "mean        4.47          2.14    3.48\n",
       "std         2.20          1.69    2.40\n",
       "min         1.00          0.00    0.00\n",
       "25%         3.00          1.00    2.00\n",
       "50%         5.00          2.00    3.00\n",
       "75%         6.00          3.00    5.00\n",
       "max        14.00         11.00   13.00"
      ]
     },
     "execution_count": 54,
     "metadata": {},
     "output_type": "execute_result"
    }
   ],
   "source": [
    "prediction_errors.describe().round(2)"
   ]
  },
  {
   "cell_type": "code",
   "execution_count": 117,
   "id": "10f28586",
   "metadata": {},
   "outputs": [
    {
     "data": {
      "text/plain": [
       "(51,\n",
       " ['a120',\n",
       "  'a187',\n",
       "  'a195',\n",
       "  'a223',\n",
       "  'T18',\n",
       "  'E01_01',\n",
       "  'E01_05',\n",
       "  'E24_04',\n",
       "  'E24_05',\n",
       "  'h2',\n",
       "  'h3',\n",
       "  'h10',\n",
       "  'h16',\n",
       "  'h19',\n",
       "  'h22',\n",
       "  'h23',\n",
       "  'h26',\n",
       "  'h28',\n",
       "  'h30',\n",
       "  'h31',\n",
       "  'h32',\n",
       "  'h33',\n",
       "  'h34',\n",
       "  'h42',\n",
       "  'h44',\n",
       "  'h45',\n",
       "  'h47',\n",
       "  'h48',\n",
       "  'h50',\n",
       "  'h65',\n",
       "  'v10',\n",
       "  'v12',\n",
       "  's13-d21',\n",
       "  's13-d25',\n",
       "  's13-d48',\n",
       "  's13-d52',\n",
       "  's13-d54',\n",
       "  's17-d53',\n",
       "  's21-d39',\n",
       "  's23-d34',\n",
       "  's23-d42',\n",
       "  's23-d51',\n",
       "  's23-d54',\n",
       "  's24-d53',\n",
       "  's25-d35',\n",
       "  's26-d23',\n",
       "  's27-d50',\n",
       "  's28-d25',\n",
       "  's29-d31',\n",
       "  's29-d50',\n",
       "  's29-d52'])"
      ]
     },
     "execution_count": 117,
     "metadata": {},
     "output_type": "execute_result"
    }
   ],
   "source": [
    "len(list(prediction_errors['ID'].loc[prediction_errors['spatial_info'] > prediction_errors['model']])), list(prediction_errors['ID'].loc[prediction_errors['spatial_info'] > prediction_errors['model']])"
   ]
  },
  {
   "cell_type": "code",
   "execution_count": null,
   "id": "2ae0d359",
   "metadata": {},
   "outputs": [],
   "source": []
  },
  {
   "cell_type": "code",
   "execution_count": null,
   "id": "59d2c80c",
   "metadata": {},
   "outputs": [],
   "source": []
  }
 ],
 "metadata": {
  "kernelspec": {
   "display_name": "anaconda",
   "language": "python",
   "name": "anaconda"
  },
  "language_info": {
   "codemirror_mode": {
    "name": "ipython",
    "version": 3
   },
   "file_extension": ".py",
   "mimetype": "text/x-python",
   "name": "python",
   "nbconvert_exporter": "python",
   "pygments_lexer": "ipython3",
   "version": "3.9.12"
  }
 },
 "nbformat": 4,
 "nbformat_minor": 5
}
