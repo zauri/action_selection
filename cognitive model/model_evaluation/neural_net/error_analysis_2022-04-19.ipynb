{
 "cells": [
  {
   "cell_type": "code",
   "execution_count": 58,
   "id": "5609c0b7",
   "metadata": {},
   "outputs": [],
   "source": [
    "import ast\n",
    "import matplotlib.pyplot as plt\n",
    "import pandas as pd"
   ]
  },
  {
   "cell_type": "code",
   "execution_count": 3,
   "id": "6bf8df28",
   "metadata": {},
   "outputs": [],
   "source": [
    "with open('results/pytorch_rnn_prequential_summed_2022-04-19.txt', 'r') as file:\n",
    "    text_pred = ast.literal_eval(file.read())"
   ]
  },
  {
   "cell_type": "code",
   "execution_count": 5,
   "id": "e84984df",
   "metadata": {},
   "outputs": [],
   "source": [
    "with open('results/nn_spatialinfo_prequential_summed_2022-04-14.txt', 'r') as file:\n",
    "    spatial_info = ast.literal_eval(file.read())"
   ]
  },
  {
   "cell_type": "code",
   "execution_count": 20,
   "id": "f6962749",
   "metadata": {},
   "outputs": [],
   "source": [
    "model_results = pd.read_csv('../../opportunistic_planning/all_lowest_error/results/results_mean_2D_n100_2022-04-19.csv')"
   ]
  },
  {
   "cell_type": "code",
   "execution_count": 21,
   "id": "acda6059",
   "metadata": {},
   "outputs": [],
   "source": [
    "model_results = model_results.T\n",
    "new_header = model_results.iloc[0]\n",
    "model_results = model_results[1:]\n",
    "model_results.columns = new_header"
   ]
  },
  {
   "cell_type": "code",
   "execution_count": 25,
   "id": "4ad38fde",
   "metadata": {},
   "outputs": [],
   "source": [
    "lowest_mean = min(model_results.loc['mean'])\n",
    "lowest_mean_idx = model_results.columns[(model_results.loc['mean'] == lowest_mean)]"
   ]
  },
  {
   "cell_type": "code",
   "execution_count": 26,
   "id": "13239458",
   "metadata": {},
   "outputs": [
    {
     "data": {
      "text/plain": [
       "Index(['c: 1.5; k: 0.2,0.3,1.3; xy'], dtype='object', name='Unnamed: 0')"
      ]
     },
     "execution_count": 26,
     "metadata": {},
     "output_type": "execute_result"
    }
   ],
   "source": [
    "lowest_mean_idx"
   ]
  },
  {
   "cell_type": "code",
   "execution_count": 27,
   "id": "14d104b8",
   "metadata": {},
   "outputs": [],
   "source": [
    "results = model_results[lowest_mean_idx[0]][:-2].values"
   ]
  },
  {
   "cell_type": "code",
   "execution_count": 31,
   "id": "d68bb4d1",
   "metadata": {},
   "outputs": [
    {
     "data": {
      "text/plain": [
       "True"
      ]
     },
     "execution_count": 31,
     "metadata": {},
     "output_type": "execute_result"
    }
   ],
   "source": [
    "len(results) == len(text_pred) == len(spatial_info)"
   ]
  },
  {
   "cell_type": "code",
   "execution_count": 49,
   "id": "816b2c31",
   "metadata": {},
   "outputs": [],
   "source": [
    "df = pd.read_csv('../../opportunistic_planning/all_lowest_error/all_task_environments_list_2022-04-01.csv', header=0)"
   ]
  },
  {
   "cell_type": "code",
   "execution_count": 54,
   "id": "57ba9275",
   "metadata": {},
   "outputs": [],
   "source": [
    "prediction_errors = pd.DataFrame()\n",
    "prediction_errors['ID'] = model_results['ID'][:-2]\n",
    "prediction_errors['text_pred'] = text_pred\n",
    "prediction_errors['spatial_info'] = spatial_info\n",
    "prediction_errors['model'] = results\n",
    "prediction_errors['sequence'] = list(df['sequence'])"
   ]
  },
  {
   "cell_type": "code",
   "execution_count": 144,
   "id": "5c40e30e",
   "metadata": {},
   "outputs": [
    {
     "data": {
      "text/plain": [
       "Index(['2.0', '3.0', '4.0', '1.0', '5.0', '6.0', '0.0', '7.0', '8.0', '9.0',\n",
       "       '3.5', '1.5', '11.0', '10.0', '12.0', '13.0', '5.5', '0.5'],\n",
       "      dtype='object')"
      ]
     },
     "execution_count": 144,
     "metadata": {},
     "output_type": "execute_result"
    }
   ],
   "source": [
    "prediction_errors['model'].value_counts().index"
   ]
  },
  {
   "cell_type": "code",
   "execution_count": 140,
   "id": "ad5bcaae",
   "metadata": {},
   "outputs": [
    {
     "data": {
      "text/html": [
       "<div>\n",
       "<style scoped>\n",
       "    .dataframe tbody tr th:only-of-type {\n",
       "        vertical-align: middle;\n",
       "    }\n",
       "\n",
       "    .dataframe tbody tr th {\n",
       "        vertical-align: top;\n",
       "    }\n",
       "\n",
       "    .dataframe thead th {\n",
       "        text-align: right;\n",
       "    }\n",
       "</style>\n",
       "<table border=\"1\" class=\"dataframe\">\n",
       "  <thead>\n",
       "    <tr style=\"text-align: right;\">\n",
       "      <th></th>\n",
       "      <th>spatial_info</th>\n",
       "      <th>text_pred</th>\n",
       "      <th>model</th>\n",
       "    </tr>\n",
       "  </thead>\n",
       "  <tbody>\n",
       "    <tr>\n",
       "      <th>0</th>\n",
       "      <td>36.0</td>\n",
       "      <td>NaN</td>\n",
       "      <td>NaN</td>\n",
       "    </tr>\n",
       "    <tr>\n",
       "      <th>1</th>\n",
       "      <td>96.0</td>\n",
       "      <td>17.0</td>\n",
       "      <td>NaN</td>\n",
       "    </tr>\n",
       "    <tr>\n",
       "      <th>2</th>\n",
       "      <td>83.0</td>\n",
       "      <td>54.0</td>\n",
       "      <td>NaN</td>\n",
       "    </tr>\n",
       "    <tr>\n",
       "      <th>3</th>\n",
       "      <td>44.0</td>\n",
       "      <td>45.0</td>\n",
       "      <td>NaN</td>\n",
       "    </tr>\n",
       "    <tr>\n",
       "      <th>4</th>\n",
       "      <td>25.0</td>\n",
       "      <td>38.0</td>\n",
       "      <td>NaN</td>\n",
       "    </tr>\n",
       "    <tr>\n",
       "      <th>5</th>\n",
       "      <td>14.0</td>\n",
       "      <td>58.0</td>\n",
       "      <td>NaN</td>\n",
       "    </tr>\n",
       "    <tr>\n",
       "      <th>6</th>\n",
       "      <td>8.0</td>\n",
       "      <td>64.0</td>\n",
       "      <td>NaN</td>\n",
       "    </tr>\n",
       "    <tr>\n",
       "      <th>7</th>\n",
       "      <td>6.0</td>\n",
       "      <td>19.0</td>\n",
       "      <td>NaN</td>\n",
       "    </tr>\n",
       "    <tr>\n",
       "      <th>8</th>\n",
       "      <td>1.0</td>\n",
       "      <td>9.0</td>\n",
       "      <td>NaN</td>\n",
       "    </tr>\n",
       "    <tr>\n",
       "      <th>9</th>\n",
       "      <td>NaN</td>\n",
       "      <td>1.0</td>\n",
       "      <td>NaN</td>\n",
       "    </tr>\n",
       "    <tr>\n",
       "      <th>10</th>\n",
       "      <td>NaN</td>\n",
       "      <td>4.0</td>\n",
       "      <td>NaN</td>\n",
       "    </tr>\n",
       "    <tr>\n",
       "      <th>11</th>\n",
       "      <td>1.0</td>\n",
       "      <td>1.0</td>\n",
       "      <td>NaN</td>\n",
       "    </tr>\n",
       "    <tr>\n",
       "      <th>12</th>\n",
       "      <td>NaN</td>\n",
       "      <td>2.0</td>\n",
       "      <td>NaN</td>\n",
       "    </tr>\n",
       "    <tr>\n",
       "      <th>13</th>\n",
       "      <td>NaN</td>\n",
       "      <td>NaN</td>\n",
       "      <td>NaN</td>\n",
       "    </tr>\n",
       "  </tbody>\n",
       "</table>\n",
       "</div>"
      ],
      "text/plain": [
       "    spatial_info  text_pred  model\n",
       "0           36.0        NaN    NaN\n",
       "1           96.0       17.0    NaN\n",
       "2           83.0       54.0    NaN\n",
       "3           44.0       45.0    NaN\n",
       "4           25.0       38.0    NaN\n",
       "5           14.0       58.0    NaN\n",
       "6            8.0       64.0    NaN\n",
       "7            6.0       19.0    NaN\n",
       "8            1.0        9.0    NaN\n",
       "9            NaN        1.0    NaN\n",
       "10           NaN        4.0    NaN\n",
       "11           1.0        1.0    NaN\n",
       "12           NaN        2.0    NaN\n",
       "13           NaN        NaN    NaN"
      ]
     },
     "execution_count": 140,
     "metadata": {},
     "output_type": "execute_result"
    }
   ],
   "source": [
    "value_counts = pd.DataFrame(index=range(0,14))\n",
    "value_counts['spatial_info'] = prediction_errors['spatial_info'].value_counts()\n",
    "value_counts['text_pred'] = prediction_errors['text_pred'].value_counts()\n",
    "value_counts['model'] = prediction_errors['model'].value_counts()\n",
    "value_counts"
   ]
  },
  {
   "cell_type": "code",
   "execution_count": 57,
   "id": "7152eb19",
   "metadata": {},
   "outputs": [],
   "source": [
    "#prediction_errors.to_csv('results/prediction_errors.csv', header=True, index=False)"
   ]
  },
  {
   "cell_type": "code",
   "execution_count": 145,
   "id": "48834a33",
   "metadata": {},
   "outputs": [],
   "source": [
    "%matplotlib qt\n",
    "\n",
    "# frequencies in subplots\n",
    "\n",
    "fig = plt.figure(facecolor=\"w\")\n",
    "\n",
    "ax1 = plt.subplot(131)\n",
    "prediction_errors['spatial_info'].value_counts().sort_values().plot(kind = 'barh',\n",
    "                                                                    color='dodgerblue',\n",
    "                                                                    alpha=0.9)\n",
    "ax1.set_xlabel('NN with spatial info', fontsize=16)\n",
    "\n",
    "ax2 = plt.subplot(132)\n",
    "prediction_errors['text_pred'].value_counts().sort_values().plot(kind = 'barh',\n",
    "                                                                 color='darkgreen', \n",
    "                                                                 alpha=0.9)\n",
    "ax2.set_xlabel('NN text prediction', fontsize=16)\n",
    "\n",
    "ax3 = plt.subplot(133)\n",
    "prediction_errors['model'].value_counts().sort_values().plot(kind = 'barh',\n",
    "                                                             color='darkred', \n",
    "                                                             alpha=0.9)\n",
    "ax3.set_xlabel('model', fontsize=16)\n",
    "\n",
    "ax1.set_ylabel('accumulated prediction error', fontsize=18)\n",
    "plt.suptitle('error frequencies', fontsize=18)\n",
    "plt.show()"
   ]
  },
  {
   "cell_type": "code",
   "execution_count": 120,
   "id": "340ab26c",
   "metadata": {},
   "outputs": [
    {
     "data": {
      "text/plain": [
       "<AxesSubplot:>"
      ]
     },
     "execution_count": 120,
     "metadata": {},
     "output_type": "execute_result"
    }
   ],
   "source": [
    "# stacked bar chart\n",
    "\n",
    "fig = plt.figure(facecolor=\"w\")\n",
    "prediction_errors['spatial_info'].value_counts().sort_values().plot(kind = 'bar',\n",
    "                                                                    color='dodgerblue',\n",
    "                                                                    alpha=0.9,)\n",
    "prediction_errors['text_pred'].value_counts().sort_values().plot(kind = 'bar',\n",
    "                                                                 color='darkgreen', \n",
    "                                                                 alpha=0.9)\n",
    "prediction_errors['model'].value_counts().sort_values().plot(kind = 'bar',\n",
    "                                                             color='darkred', \n",
    "                                                             alpha=0.9)"
   ]
  },
  {
   "cell_type": "code",
   "execution_count": 123,
   "id": "33038016",
   "metadata": {},
   "outputs": [
    {
     "data": {
      "text/plain": [
       "<AxesSubplot:xlabel='ID'>"
      ]
     },
     "execution_count": 123,
     "metadata": {},
     "output_type": "execute_result"
    }
   ],
   "source": [
    "# separate bar charts\n",
    "\n",
    "fig = plt.figure(facecolor=\"w\")\n",
    "prediction_errors.plot(x=\"ID\", y=['spatial_info', 'text_pred', 'model'], kind='bar')"
   ]
  },
  {
   "cell_type": "code",
   "execution_count": null,
   "id": "0744b7fe",
   "metadata": {},
   "outputs": [],
   "source": []
  }
 ],
 "metadata": {
  "kernelspec": {
   "display_name": "anaconda",
   "language": "python",
   "name": "anaconda"
  },
  "language_info": {
   "codemirror_mode": {
    "name": "ipython",
    "version": 3
   },
   "file_extension": ".py",
   "mimetype": "text/x-python",
   "name": "python",
   "nbconvert_exporter": "python",
   "pygments_lexer": "ipython3",
   "version": "3.9.12"
  }
 },
 "nbformat": 4,
 "nbformat_minor": 5
}
