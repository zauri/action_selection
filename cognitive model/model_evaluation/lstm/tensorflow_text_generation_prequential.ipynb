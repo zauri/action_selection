{
 "cells": [
  {
   "cell_type": "code",
   "execution_count": 55,
   "metadata": {},
   "outputs": [],
   "source": [
    "import numpy as np\n",
    "import tensorflow as tf\n",
    "from tensorflow.keras.layers.experimental import preprocessing\n",
    "from fastDamerauLevenshtein import damerauLevenshtein"
   ]
  },
  {
   "cell_type": "markdown",
   "metadata": {},
   "source": [
    "### read data"
   ]
  },
  {
   "cell_type": "code",
   "execution_count": 2,
   "metadata": {},
   "outputs": [],
   "source": [
    "data = open('data.txt', 'rb').read().decode(encoding='utf-8')"
   ]
  },
  {
   "cell_type": "code",
   "execution_count": 3,
   "metadata": {},
   "outputs": [
    {
     "data": {
      "text/plain": [
       "'pocgkr\\ncgwpcfks\\nkfsfkspwg\\npfkswkfsococg\\nwptgkfsoc\\npwfkg\\npowcer\\ncoprerk\\nwopofkkskf\\nopwpwgcoc\\npocrfksfks\\ncgpogpoc\\npwocgfkfsrere\\nocwgrk\\nwpgsfk\\npwofsg\\npocpocwgkfs\\npocgwg\\npwgockfsfksret\\nocpwgfkskfsrere\\ncopwgwpresk\\npwterfkf\\npocwggpfkfksrer\\nwpofcgkrpwgfksocr\\ncwpfksor\\npwfksorc\\npocgwkfkfser\\npowctgcog\\npowgcpo\\npwfkt\\npwokfkrg\\ncopcogpgwfksr\\npgsfkskfg\\nwgptocopwg\\npowcgre\\nperkscwgtf\\npcgworkfkfs\\npopocgkr\\npwtgcfkfksr\\npocwkf\\npgkfkf\\ncwopg\\npowcgkfkfr\\nwpgfksk\\npocwcpoere\\npwkf\\ncptgo\\npocfkswgr\\npowcfkfk\\npwgfksfk\\ngpwfks\\ncgwpw\\ncwopgtrekfksksf\\npocsfkw\\nocpwgfkf\\npwgterkfsoc\\npocgwrkfs\\ntgcwpro\\npocgkfskfr\\npgcow\\nopwg\\nwpgcowpcfksre\\nre\\nptwgfks\\npocrfkfk\\npockr\\npockfskfswgre\\ntgpcowpgpwcog\\ngwpfrkst\\npfkfksg\\npwogsfkg\\npwkf\\ngwpocoskfsfk\\nwtpcockfkf\\nwpgfkfkre\\npococwtrfkfkg\\npwocfksfksr\\npwgerks\\npoctfkfkrwg\\npwfksocr\\ntnpzc\\ntnpcz\\ntnpzc\\ntnzpc\\npmz\\nxmbzd\\npImz\\nmzxp\\npbz\\npgz\\npnzga\\ndnzgdp\\npndz\\nnzpdgds\\nmcddxp\\npcfkdddaag\\ndagpk\\npc\\ngkfadp\\npfgds\\nbcsfgkap\\npbsfkcga\\npbgafkcs\\ngpbcksfa\\npbfkscga\\npbsgkafc\\npbcskfga\\npsfkagcb\\npfkscagb\\npfskagcb\\npskfcagb\\npfkscagb\\npsfkgacb\\npfkbscga\\npcgafkbs\\ngpabkfsc\\npabkgcfs\\ngcpabkfs\\npasbkfgc\\npabcgksf\\nsfkpcgab\\nspgbkfca\\nspakgfcb\\ncgbkpasf\\nfkspcbag\\npkfsbgca\\ncpkfgsba\\ncbgsfapk\\ncgpsakfb\\npfksgcab\\npcskfbga\\nsbkpfcag\\nfpkgbsac\\npabfgsck\\ncpgfksab\\ngfcspkob\\npkfsbagc\\npkfsbgac\\npbfkscga\\nbpksfcga\\npagbkfsc\\npcgafksb\\npcsbfkga\\npbskfgca\\npscgfbak\\npfkcbgsa\\npkfsgcba\\npcfksagb\\npbcfskga\\npbfkcsga\\npcsfkbga\\npkfsabgc\\npkfsgcba\\npkfsgcba\\npkfsgcab\\npkfbscag\\npkbsfgca\\npkfbscga\\npkfsbgac\\npkfsagbc\\npkfsgcab\\npkfsgcba\\npkfsgcab\\npkfsacgb\\npkfsbcga\\npfskbcga\\npbkfscga\\npfskbgca\\nhhsdb\\nhhhdsgb\\nhhsgdb\\nhhdsbg\\nhhsgdb\\nhhdsgb\\ndsgbhh\\nhhsdbg\\nhhsdgb\\nhhsgdb\\nhhsgdb\\nhhsdgb\\n'"
      ]
     },
     "execution_count": 3,
     "metadata": {},
     "output_type": "execute_result"
    }
   ],
   "source": [
    "data"
   ]
  },
  {
   "cell_type": "markdown",
   "metadata": {},
   "source": [
    "### generate list of sequences"
   ]
  },
  {
   "cell_type": "code",
   "execution_count": 44,
   "metadata": {},
   "outputs": [],
   "source": [
    "data_split = data.splitlines()"
   ]
  },
  {
   "cell_type": "markdown",
   "metadata": {},
   "source": [
    "### remove newline chars"
   ]
  },
  {
   "cell_type": "code",
   "execution_count": 5,
   "metadata": {},
   "outputs": [
    {
     "data": {
      "text/plain": [
       "'pocgkrcgwpcfkskfsfkspwgpfkswkfsococgwptgkfsocpwfkgpowcercoprerkwopofkkskfopwpwgcocpocrfksfkscgpogpocpwocgfkfsrereocwgrkwpgsfkpwofsgpocpocwgkfspocgwgpwgockfsfksretocpwgfkskfsrerecopwgwpreskpwterfkfpocwggpfkfksrerwpofcgkrpwgfksocrcwpfksorpwfksorcpocgwkfkfserpowctgcogpowgcpopwfktpwokfkrgcopcogpgwfksrpgsfkskfgwgptocopwgpowcgreperkscwgtfpcgworkfkfspopocgkrpwtgcfkfksrpocwkfpgkfkfcwopgpowcgkfkfrwpgfkskpocwcpoerepwkfcptgopocfkswgrpowcfkfkpwgfksfkgpwfkscgwpwcwopgtrekfksksfpocsfkwocpwgfkfpwgterkfsocpocgwrkfstgcwpropocgkfskfrpgcowopwgwpgcowpcfksrereptwgfkspocrfkfkpockrpockfskfswgretgpcowpgpwcoggwpfrkstpfkfksgpwogsfkgpwkfgwpocoskfsfkwtpcockfkfwpgfkfkrepococwtrfkfkgpwocfksfksrpwgerkspoctfkfkrwgpwfksocrtnpzctnpcztnpzctnzpcpmzxmbzdpImzmzxppbzpgzpnzgadnzgdppndznzpdgdsmcddxppcfkdddaagdagpkpcgkfadppfgdsbcsfgkappbsfkcgapbgafkcsgpbcksfapbfkscgapbsgkafcpbcskfgapsfkagcbpfkscagbpfskagcbpskfcagbpfkscagbpsfkgacbpfkbscgapcgafkbsgpabkfscpabkgcfsgcpabkfspasbkfgcpabcgksfsfkpcgabspgbkfcaspakgfcbcgbkpasffkspcbagpkfsbgcacpkfgsbacbgsfapkcgpsakfbpfksgcabpcskfbgasbkpfcagfpkgbsacpabfgsckcpgfksabgfcspkobpkfsbagcpkfsbgacpbfkscgabpksfcgapagbkfscpcgafksbpcsbfkgapbskfgcapscgfbakpfkcbgsapkfsgcbapcfksagbpbcfskgapbfkcsgapcsfkbgapkfsabgcpkfsgcbapkfsgcbapkfsgcabpkfbscagpkbsfgcapkfbscgapkfsbgacpkfsagbcpkfsgcabpkfsgcbapkfsgcabpkfsacgbpkfsbcgapfskbcgapbkfscgapfskbgcahhsdbhhhdsgbhhsgdbhhdsbghhsgdbhhdsgbdsgbhhhhsdbghhsdgbhhsgdbhhsgdbhhsdgb'"
      ]
     },
     "execution_count": 5,
     "metadata": {},
     "output_type": "execute_result"
    }
   ],
   "source": [
    "data2 = data.replace('\\n','')\n",
    "data2"
   ]
  },
  {
   "cell_type": "code",
   "execution_count": 6,
   "metadata": {},
   "outputs": [
    {
     "data": {
      "text/plain": [
       "20"
      ]
     },
     "execution_count": 6,
     "metadata": {},
     "output_type": "execute_result"
    }
   ],
   "source": [
    "vocabulary = sorted(set(data2))\n",
    "#vocabulary.remove('\\n')\n",
    "len(vocabulary)"
   ]
  },
  {
   "cell_type": "markdown",
   "metadata": {},
   "source": [
    "### Vectorize text"
   ]
  },
  {
   "cell_type": "code",
   "execution_count": 7,
   "metadata": {},
   "outputs": [
    {
     "data": {
      "text/plain": [
       "<tf.RaggedTensor [[b'a', b'b', b'c', b'd', b'e', b'f', b'g'], [b'x', b'h', b'z']]>"
      ]
     },
     "execution_count": 7,
     "metadata": {},
     "output_type": "execute_result"
    }
   ],
   "source": [
    "example_texts = ['abcdefg', 'xhz']\n",
    "\n",
    "chars = tf.strings.unicode_split(example_texts, input_encoding='UTF-8')\n",
    "chars"
   ]
  },
  {
   "cell_type": "code",
   "execution_count": 8,
   "metadata": {},
   "outputs": [],
   "source": [
    "ids_from_chars = preprocessing.StringLookup(\n",
    "    vocabulary=list(vocabulary))"
   ]
  },
  {
   "cell_type": "code",
   "execution_count": 9,
   "metadata": {},
   "outputs": [
    {
     "data": {
      "text/plain": [
       "<tf.RaggedTensor [[3, 4, 5, 6, 7, 8, 9], [20, 10, 21]]>"
      ]
     },
     "execution_count": 9,
     "metadata": {},
     "output_type": "execute_result"
    }
   ],
   "source": [
    "ids = ids_from_chars(chars)\n",
    "ids"
   ]
  },
  {
   "cell_type": "code",
   "execution_count": 10,
   "metadata": {},
   "outputs": [],
   "source": [
    "chars_from_ids = tf.keras.layers.experimental.preprocessing.StringLookup(\n",
    "    vocabulary=ids_from_chars.get_vocabulary(), invert=True)"
   ]
  },
  {
   "cell_type": "code",
   "execution_count": null,
   "metadata": {},
   "outputs": [],
   "source": []
  },
  {
   "cell_type": "code",
   "execution_count": 11,
   "metadata": {},
   "outputs": [
    {
     "data": {
      "text/plain": [
       "<tf.RaggedTensor [[b'a', b'b', b'c', b'd', b'e', b'f', b'g'], [b'x', b'h', b'z']]>"
      ]
     },
     "execution_count": 11,
     "metadata": {},
     "output_type": "execute_result"
    }
   ],
   "source": [
    "chars = chars_from_ids(ids)\n",
    "chars"
   ]
  },
  {
   "cell_type": "code",
   "execution_count": 12,
   "metadata": {},
   "outputs": [
    {
     "data": {
      "text/plain": [
       "array([b'abcdefg', b'xhz'], dtype=object)"
      ]
     },
     "execution_count": 12,
     "metadata": {},
     "output_type": "execute_result"
    }
   ],
   "source": [
    "tf.strings.reduce_join(chars, axis=-1).numpy()"
   ]
  },
  {
   "cell_type": "code",
   "execution_count": 13,
   "metadata": {},
   "outputs": [],
   "source": [
    "def text_from_ids(ids):\n",
    "    return tf.strings.reduce_join(chars_from_ids(ids), axis=-1)"
   ]
  },
  {
   "cell_type": "markdown",
   "metadata": {},
   "source": [
    "### Create training samples + targets"
   ]
  },
  {
   "cell_type": "code",
   "execution_count": 17,
   "metadata": {},
   "outputs": [
    {
     "data": {
      "text/plain": [
       "<tf.Tensor: shape=(1412,), dtype=int64, numpy=array([15, 14,  5, ...,  6,  9,  4])>"
      ]
     },
     "execution_count": 17,
     "metadata": {},
     "output_type": "execute_result"
    }
   ],
   "source": [
    "all_ids = ids_from_chars(tf.strings.unicode_split(data2, 'UTF-8'))\n",
    "all_ids"
   ]
  },
  {
   "cell_type": "code",
   "execution_count": 18,
   "metadata": {},
   "outputs": [],
   "source": [
    "ids_dataset = tf.data.Dataset.from_tensor_slices(all_ids)"
   ]
  },
  {
   "cell_type": "code",
   "execution_count": 19,
   "metadata": {},
   "outputs": [
    {
     "name": "stdout",
     "output_type": "stream",
     "text": [
      "p\n",
      "o\n",
      "c\n",
      "g\n",
      "k\n",
      "r\n",
      "c\n",
      "g\n",
      "w\n",
      "p\n"
     ]
    }
   ],
   "source": [
    "for ids in ids_dataset.take(10):\n",
    "    print(chars_from_ids(ids).numpy().decode('utf-8'))"
   ]
  },
  {
   "cell_type": "code",
   "execution_count": 20,
   "metadata": {},
   "outputs": [],
   "source": [
    "seq_length = 8\n",
    "examples_per_epoch = len(data)//(seq_length+1)"
   ]
  },
  {
   "cell_type": "code",
   "execution_count": 21,
   "metadata": {},
   "outputs": [
    {
     "name": "stdout",
     "output_type": "stream",
     "text": [
      "tf.Tensor([b'p' b'o' b'c' b'g' b'k' b'r' b'c' b'g' b'w'], shape=(9,), dtype=string)\n"
     ]
    }
   ],
   "source": [
    "sequences = ids_dataset.batch(seq_length+1, drop_remainder=True)\n",
    "\n",
    "for seq in sequences.take(1):\n",
    "    print(chars_from_ids(seq))"
   ]
  },
  {
   "cell_type": "code",
   "execution_count": 22,
   "metadata": {},
   "outputs": [
    {
     "name": "stdout",
     "output_type": "stream",
     "text": [
      "b'pocgkrcgw'\n",
      "b'pcfkskfsf'\n",
      "b'kspwgpfks'\n",
      "b'wkfsococg'\n",
      "b'wptgkfsoc'\n"
     ]
    }
   ],
   "source": [
    "for seq in sequences.take(5):\n",
    "    print(text_from_ids(seq).numpy())"
   ]
  },
  {
   "cell_type": "code",
   "execution_count": 23,
   "metadata": {},
   "outputs": [],
   "source": [
    "def split_input_target(sequence):\n",
    "    input_text = sequence[:-1]\n",
    "    target_text = sequence[1:]\n",
    "    return input_text, target_text"
   ]
  },
  {
   "cell_type": "code",
   "execution_count": 24,
   "metadata": {},
   "outputs": [],
   "source": [
    "dataset = sequences.map(split_input_target)"
   ]
  },
  {
   "cell_type": "code",
   "execution_count": 25,
   "metadata": {},
   "outputs": [
    {
     "name": "stdout",
     "output_type": "stream",
     "text": [
      "Input : b'pocgkrcg'\n",
      "Target: b'ocgkrcgw'\n"
     ]
    }
   ],
   "source": [
    "for input_example, target_example in  dataset.take(1):\n",
    "    print(\"Input :\", text_from_ids(input_example).numpy())\n",
    "    print(\"Target:\", text_from_ids(target_example).numpy())"
   ]
  },
  {
   "cell_type": "markdown",
   "metadata": {},
   "source": [
    "### Create training batches"
   ]
  },
  {
   "cell_type": "code",
   "execution_count": 26,
   "metadata": {},
   "outputs": [
    {
     "data": {
      "text/plain": [
       "<PrefetchDataset shapes: ((64, 8), (64, 8)), types: (tf.int64, tf.int64)>"
      ]
     },
     "execution_count": 26,
     "metadata": {},
     "output_type": "execute_result"
    }
   ],
   "source": [
    "# Batch size\n",
    "BATCH_SIZE = 64\n",
    "\n",
    "# Buffer size to shuffle the dataset\n",
    "# (TF data is designed to work with possibly infinite sequences,\n",
    "# so it doesn't attempt to shuffle the entire sequence in memory. Instead,\n",
    "# it maintains a buffer in which it shuffles elements).\n",
    "BUFFER_SIZE = 10000\n",
    "\n",
    "dataset = (\n",
    "    dataset\n",
    "    .shuffle(BUFFER_SIZE)\n",
    "    .batch(BATCH_SIZE, drop_remainder=True)\n",
    "    .prefetch(tf.data.experimental.AUTOTUNE))\n",
    "\n",
    "dataset"
   ]
  },
  {
   "cell_type": "markdown",
   "metadata": {},
   "source": [
    "### Build model"
   ]
  },
  {
   "cell_type": "code",
   "execution_count": 27,
   "metadata": {},
   "outputs": [],
   "source": [
    "# Length of the vocabulary in chars\n",
    "vocab_size = len(vocabulary)\n",
    "\n",
    "# The embedding dimension\n",
    "embedding_dim = 256\n",
    "\n",
    "# Number of RNN units\n",
    "rnn_units = 1024"
   ]
  },
  {
   "cell_type": "code",
   "execution_count": 28,
   "metadata": {},
   "outputs": [],
   "source": [
    "class MyModel(tf.keras.Model):\n",
    "    def __init__(self, vocab_size, embedding_dim, rnn_units):\n",
    "        super().__init__(self)\n",
    "        self.embedding = tf.keras.layers.Embedding(vocab_size, embedding_dim)\n",
    "        self.gru = tf.keras.layers.GRU(rnn_units,\n",
    "                                   return_sequences=True, \n",
    "                                   return_state=True)\n",
    "        self.dense = tf.keras.layers.Dense(vocab_size)\n",
    "\n",
    "    def call(self, inputs, states=None, return_state=False, training=False):\n",
    "        x = inputs\n",
    "        x = self.embedding(x, training=training)\n",
    "        if states is None:\n",
    "            states = self.gru.get_initial_state(x)\n",
    "        x, states = self.gru(x, initial_state=states, training=training)\n",
    "        x = self.dense(x, training=training)\n",
    "\n",
    "        if return_state:\n",
    "            return x, states\n",
    "        else: \n",
    "            return x"
   ]
  },
  {
   "cell_type": "code",
   "execution_count": 29,
   "metadata": {},
   "outputs": [],
   "source": [
    "model = MyModel(\n",
    "    # Be sure the vocabulary size matches the `StringLookup` layers.\n",
    "    vocab_size=len(ids_from_chars.get_vocabulary()),\n",
    "    embedding_dim=embedding_dim,\n",
    "    rnn_units=rnn_units)"
   ]
  },
  {
   "cell_type": "markdown",
   "metadata": {},
   "source": [
    "### Try out model"
   ]
  },
  {
   "cell_type": "code",
   "execution_count": 30,
   "metadata": {},
   "outputs": [
    {
     "name": "stdout",
     "output_type": "stream",
     "text": [
      "(64, 8, 22) # (batch_size, sequence_length, vocab_size)\n"
     ]
    }
   ],
   "source": [
    "for input_example_batch, target_example_batch in dataset.take(1):\n",
    "    example_batch_predictions = model(input_example_batch)\n",
    "    print(example_batch_predictions.shape, \"# (batch_size, sequence_length, vocab_size)\")"
   ]
  },
  {
   "cell_type": "code",
   "execution_count": 31,
   "metadata": {},
   "outputs": [
    {
     "name": "stdout",
     "output_type": "stream",
     "text": [
      "Model: \"my_model\"\n",
      "_________________________________________________________________\n",
      "Layer (type)                 Output Shape              Param #   \n",
      "=================================================================\n",
      "embedding (Embedding)        multiple                  5632      \n",
      "_________________________________________________________________\n",
      "gru (GRU)                    multiple                  3938304   \n",
      "_________________________________________________________________\n",
      "dense (Dense)                multiple                  22550     \n",
      "=================================================================\n",
      "Total params: 3,966,486\n",
      "Trainable params: 3,966,486\n",
      "Non-trainable params: 0\n",
      "_________________________________________________________________\n"
     ]
    }
   ],
   "source": [
    "model.summary()"
   ]
  },
  {
   "cell_type": "code",
   "execution_count": 32,
   "metadata": {},
   "outputs": [],
   "source": [
    "sampled_indices = tf.random.categorical(example_batch_predictions[0], num_samples=1)\n",
    "sampled_indices = tf.squeeze(sampled_indices,axis=-1).numpy()"
   ]
  },
  {
   "cell_type": "code",
   "execution_count": 33,
   "metadata": {},
   "outputs": [
    {
     "name": "stdout",
     "output_type": "stream",
     "text": [
      "Input:\n",
      " b'bfgsckcp'\n",
      "\n",
      "Next Char Predictions:\n",
      " b'hetogkhg'\n"
     ]
    }
   ],
   "source": [
    "print(\"Input:\\n\", text_from_ids(input_example_batch[0]).numpy())\n",
    "print()\n",
    "print(\"Next Char Predictions:\\n\", text_from_ids(sampled_indices).numpy())"
   ]
  },
  {
   "cell_type": "markdown",
   "metadata": {},
   "source": [
    "### Train model"
   ]
  },
  {
   "cell_type": "code",
   "execution_count": 34,
   "metadata": {},
   "outputs": [],
   "source": [
    "loss = tf.losses.SparseCategoricalCrossentropy(from_logits=True)"
   ]
  },
  {
   "cell_type": "code",
   "execution_count": 35,
   "metadata": {},
   "outputs": [
    {
     "name": "stdout",
     "output_type": "stream",
     "text": [
      "Prediction shape:  (64, 8, 22)  # (batch_size, sequence_length, vocab_size)\n",
      "Mean loss:         3.0910795\n"
     ]
    }
   ],
   "source": [
    "example_batch_loss = loss(target_example_batch, example_batch_predictions)\n",
    "mean_loss = example_batch_loss.numpy().mean()\n",
    "print(\"Prediction shape: \", example_batch_predictions.shape, \" # (batch_size, sequence_length, vocab_size)\")\n",
    "print(\"Mean loss:        \", mean_loss)"
   ]
  },
  {
   "cell_type": "code",
   "execution_count": 36,
   "metadata": {},
   "outputs": [
    {
     "data": {
      "text/plain": [
       "22.000814"
      ]
     },
     "execution_count": 36,
     "metadata": {},
     "output_type": "execute_result"
    }
   ],
   "source": [
    "tf.exp(mean_loss).numpy()"
   ]
  },
  {
   "cell_type": "code",
   "execution_count": 37,
   "metadata": {},
   "outputs": [],
   "source": [
    "model.compile(optimizer='adam', loss=loss)"
   ]
  },
  {
   "cell_type": "code",
   "execution_count": 38,
   "metadata": {},
   "outputs": [],
   "source": [
    "epochs = 100"
   ]
  },
  {
   "cell_type": "code",
   "execution_count": 39,
   "metadata": {},
   "outputs": [
    {
     "name": "stdout",
     "output_type": "stream",
     "text": [
      "Epoch 1/100\n",
      "2/2 [==============================] - 0s 62ms/step - loss: 3.0728\n",
      "Epoch 2/100\n",
      "2/2 [==============================] - 0s 58ms/step - loss: 2.9775\n",
      "Epoch 3/100\n",
      "2/2 [==============================] - 0s 60ms/step - loss: 2.7777\n",
      "Epoch 4/100\n",
      "2/2 [==============================] - 0s 57ms/step - loss: 2.7121\n",
      "Epoch 5/100\n",
      "2/2 [==============================] - 0s 56ms/step - loss: 2.6131\n",
      "Epoch 6/100\n",
      "2/2 [==============================] - 0s 54ms/step - loss: 2.5578\n",
      "Epoch 7/100\n",
      "2/2 [==============================] - 0s 56ms/step - loss: 2.5324\n",
      "Epoch 8/100\n",
      "2/2 [==============================] - 0s 61ms/step - loss: 2.4661\n",
      "Epoch 9/100\n",
      "2/2 [==============================] - 0s 61ms/step - loss: 2.3988\n",
      "Epoch 10/100\n",
      "2/2 [==============================] - 0s 62ms/step - loss: 2.3678\n",
      "Epoch 11/100\n",
      "2/2 [==============================] - 0s 54ms/step - loss: 2.2713\n",
      "Epoch 12/100\n",
      "2/2 [==============================] - 0s 70ms/step - loss: 2.2266\n",
      "Epoch 13/100\n",
      "2/2 [==============================] - 0s 58ms/step - loss: 2.1686\n",
      "Epoch 14/100\n",
      "2/2 [==============================] - 0s 67ms/step - loss: 2.1186\n",
      "Epoch 15/100\n",
      "2/2 [==============================] - 0s 75ms/step - loss: 2.0741\n",
      "Epoch 16/100\n",
      "2/2 [==============================] - 0s 56ms/step - loss: 2.0306\n",
      "Epoch 17/100\n",
      "2/2 [==============================] - 0s 60ms/step - loss: 2.0133\n",
      "Epoch 18/100\n",
      "2/2 [==============================] - 0s 65ms/step - loss: 1.9651\n",
      "Epoch 19/100\n",
      "2/2 [==============================] - 0s 64ms/step - loss: 1.9329\n",
      "Epoch 20/100\n",
      "2/2 [==============================] - 0s 58ms/step - loss: 1.8930\n",
      "Epoch 21/100\n",
      "2/2 [==============================] - 0s 60ms/step - loss: 1.8795\n",
      "Epoch 22/100\n",
      "2/2 [==============================] - 0s 59ms/step - loss: 1.8379\n",
      "Epoch 23/100\n",
      "2/2 [==============================] - 0s 59ms/step - loss: 1.8028\n",
      "Epoch 24/100\n",
      "2/2 [==============================] - 0s 62ms/step - loss: 1.7505\n",
      "Epoch 25/100\n",
      "2/2 [==============================] - 0s 58ms/step - loss: 1.7450\n",
      "Epoch 26/100\n",
      "2/2 [==============================] - 0s 61ms/step - loss: 1.7522\n",
      "Epoch 27/100\n",
      "2/2 [==============================] - 0s 57ms/step - loss: 1.7067\n",
      "Epoch 28/100\n",
      "2/2 [==============================] - 0s 63ms/step - loss: 1.6908\n",
      "Epoch 29/100\n",
      "2/2 [==============================] - 0s 59ms/step - loss: 1.6669\n",
      "Epoch 30/100\n",
      "2/2 [==============================] - 0s 59ms/step - loss: 1.6372\n",
      "Epoch 31/100\n",
      "2/2 [==============================] - 0s 56ms/step - loss: 1.6279\n",
      "Epoch 32/100\n",
      "2/2 [==============================] - 0s 59ms/step - loss: 1.6035\n",
      "Epoch 33/100\n",
      "2/2 [==============================] - 0s 58ms/step - loss: 1.5608\n",
      "Epoch 34/100\n",
      "2/2 [==============================] - 0s 63ms/step - loss: 1.5475\n",
      "Epoch 35/100\n",
      "2/2 [==============================] - 0s 56ms/step - loss: 1.5139\n",
      "Epoch 36/100\n",
      "2/2 [==============================] - 0s 56ms/step - loss: 1.5318\n",
      "Epoch 37/100\n",
      "2/2 [==============================] - 0s 60ms/step - loss: 1.4536\n",
      "Epoch 38/100\n",
      "2/2 [==============================] - 0s 60ms/step - loss: 1.4320\n",
      "Epoch 39/100\n",
      "2/2 [==============================] - 0s 58ms/step - loss: 1.4462\n",
      "Epoch 40/100\n",
      "2/2 [==============================] - 0s 64ms/step - loss: 1.3981\n",
      "Epoch 41/100\n",
      "2/2 [==============================] - 0s 58ms/step - loss: 1.3968\n",
      "Epoch 42/100\n",
      "2/2 [==============================] - 0s 62ms/step - loss: 1.3578\n",
      "Epoch 43/100\n",
      "2/2 [==============================] - 0s 58ms/step - loss: 1.3393\n",
      "Epoch 44/100\n",
      "2/2 [==============================] - 0s 55ms/step - loss: 1.3341\n",
      "Epoch 45/100\n",
      "2/2 [==============================] - 0s 60ms/step - loss: 1.3123\n",
      "Epoch 46/100\n",
      "2/2 [==============================] - 0s 57ms/step - loss: 1.3133\n",
      "Epoch 47/100\n",
      "2/2 [==============================] - 0s 71ms/step - loss: 1.2665\n",
      "Epoch 48/100\n",
      "2/2 [==============================] - 0s 56ms/step - loss: 1.2468\n",
      "Epoch 49/100\n",
      "2/2 [==============================] - 0s 64ms/step - loss: 1.2165\n",
      "Epoch 50/100\n",
      "2/2 [==============================] - 0s 58ms/step - loss: 1.1740\n",
      "Epoch 51/100\n",
      "2/2 [==============================] - 0s 67ms/step - loss: 1.1443\n",
      "Epoch 52/100\n",
      "2/2 [==============================] - 0s 61ms/step - loss: 1.1029\n",
      "Epoch 53/100\n",
      "2/2 [==============================] - 0s 60ms/step - loss: 1.0920\n",
      "Epoch 54/100\n",
      "2/2 [==============================] - 0s 59ms/step - loss: 1.0346\n",
      "Epoch 55/100\n",
      "2/2 [==============================] - 0s 57ms/step - loss: 1.0509\n",
      "Epoch 56/100\n",
      "2/2 [==============================] - 0s 57ms/step - loss: 0.9967\n",
      "Epoch 57/100\n",
      "2/2 [==============================] - 0s 66ms/step - loss: 0.9468\n",
      "Epoch 58/100\n",
      "2/2 [==============================] - 0s 63ms/step - loss: 0.9281\n",
      "Epoch 59/100\n",
      "2/2 [==============================] - 0s 57ms/step - loss: 0.9078\n",
      "Epoch 60/100\n",
      "2/2 [==============================] - 0s 59ms/step - loss: 0.8674\n",
      "Epoch 61/100\n",
      "2/2 [==============================] - 0s 67ms/step - loss: 0.8608\n",
      "Epoch 62/100\n",
      "2/2 [==============================] - 0s 53ms/step - loss: 0.8418\n",
      "Epoch 63/100\n",
      "2/2 [==============================] - 0s 69ms/step - loss: 0.8122\n",
      "Epoch 64/100\n",
      "2/2 [==============================] - 0s 59ms/step - loss: 0.7906\n",
      "Epoch 65/100\n",
      "2/2 [==============================] - 0s 54ms/step - loss: 0.7581\n",
      "Epoch 66/100\n",
      "2/2 [==============================] - 0s 55ms/step - loss: 0.7275\n",
      "Epoch 67/100\n",
      "2/2 [==============================] - 0s 56ms/step - loss: 0.7060\n",
      "Epoch 68/100\n",
      "2/2 [==============================] - 0s 62ms/step - loss: 0.6979\n",
      "Epoch 69/100\n",
      "2/2 [==============================] - 0s 53ms/step - loss: 0.6755\n",
      "Epoch 70/100\n",
      "2/2 [==============================] - 0s 64ms/step - loss: 0.6555\n",
      "Epoch 71/100\n",
      "2/2 [==============================] - 0s 58ms/step - loss: 0.6405\n",
      "Epoch 72/100\n",
      "2/2 [==============================] - 0s 52ms/step - loss: 0.6101\n",
      "Epoch 73/100\n",
      "2/2 [==============================] - 0s 56ms/step - loss: 0.6099\n",
      "Epoch 74/100\n",
      "2/2 [==============================] - 0s 54ms/step - loss: 0.5964\n",
      "Epoch 75/100\n",
      "2/2 [==============================] - 0s 55ms/step - loss: 0.5859\n",
      "Epoch 76/100\n",
      "2/2 [==============================] - 0s 62ms/step - loss: 0.5661\n",
      "Epoch 77/100\n",
      "2/2 [==============================] - 0s 56ms/step - loss: 0.5484\n",
      "Epoch 78/100\n",
      "2/2 [==============================] - 0s 57ms/step - loss: 0.5264\n",
      "Epoch 79/100\n",
      "2/2 [==============================] - 0s 66ms/step - loss: 0.5262\n",
      "Epoch 80/100\n",
      "2/2 [==============================] - 0s 57ms/step - loss: 0.5394\n",
      "Epoch 81/100\n",
      "2/2 [==============================] - 0s 55ms/step - loss: 0.5150\n",
      "Epoch 82/100\n",
      "2/2 [==============================] - 0s 57ms/step - loss: 0.5059\n",
      "Epoch 83/100\n",
      "2/2 [==============================] - 0s 60ms/step - loss: 0.4887\n",
      "Epoch 84/100\n",
      "2/2 [==============================] - 0s 59ms/step - loss: 0.4903\n",
      "Epoch 85/100\n",
      "2/2 [==============================] - 0s 56ms/step - loss: 0.4899\n",
      "Epoch 86/100\n",
      "2/2 [==============================] - 0s 55ms/step - loss: 0.4638\n",
      "Epoch 87/100\n",
      "2/2 [==============================] - 0s 58ms/step - loss: 0.4654\n",
      "Epoch 88/100\n",
      "2/2 [==============================] - 0s 63ms/step - loss: 0.4545\n",
      "Epoch 89/100\n",
      "2/2 [==============================] - 0s 55ms/step - loss: 0.4525\n",
      "Epoch 90/100\n",
      "2/2 [==============================] - 0s 58ms/step - loss: 0.4375\n",
      "Epoch 91/100\n",
      "2/2 [==============================] - 0s 55ms/step - loss: 0.4455\n",
      "Epoch 92/100\n",
      "2/2 [==============================] - 0s 58ms/step - loss: 0.4452\n",
      "Epoch 93/100\n",
      "2/2 [==============================] - 0s 53ms/step - loss: 0.4360\n",
      "Epoch 94/100\n",
      "2/2 [==============================] - 0s 66ms/step - loss: 0.4262\n",
      "Epoch 95/100\n",
      "2/2 [==============================] - 0s 56ms/step - loss: 0.4168\n",
      "Epoch 96/100\n",
      "2/2 [==============================] - 0s 64ms/step - loss: 0.4174\n",
      "Epoch 97/100\n",
      "2/2 [==============================] - 0s 54ms/step - loss: 0.4120\n",
      "Epoch 98/100\n",
      "2/2 [==============================] - 0s 59ms/step - loss: 0.4068\n",
      "Epoch 99/100\n",
      "2/2 [==============================] - 0s 59ms/step - loss: 0.4158\n",
      "Epoch 100/100\n",
      "2/2 [==============================] - 0s 65ms/step - loss: 0.4054\n"
     ]
    }
   ],
   "source": [
    "history = model.fit(dataset, epochs=epochs)"
   ]
  },
  {
   "cell_type": "markdown",
   "metadata": {},
   "source": [
    "### Generate prediction"
   ]
  },
  {
   "cell_type": "code",
   "execution_count": 40,
   "metadata": {},
   "outputs": [],
   "source": [
    "class OneStep(tf.keras.Model):\n",
    "    def __init__(self, model, chars_from_ids, ids_from_chars, temperature=1.0):\n",
    "        super().__init__()\n",
    "        self.temperature=temperature\n",
    "        self.model = model\n",
    "        self.chars_from_ids = chars_from_ids\n",
    "        self.ids_from_chars = ids_from_chars\n",
    "\n",
    "        # Create a mask to prevent \"\" or \"[UNK]\" from being generated.\n",
    "        skip_ids = self.ids_from_chars(['','[UNK]'])[:, None]\n",
    "        sparse_mask = tf.SparseTensor(\n",
    "            # Put a -inf at each bad index.\n",
    "            values=[-float('inf')]*len(skip_ids),\n",
    "            indices = skip_ids,\n",
    "            # Match the shape to the vocabulary\n",
    "            dense_shape=[len(ids_from_chars.get_vocabulary())]) \n",
    "        self.prediction_mask = tf.sparse.to_dense(sparse_mask)\n",
    "\n",
    "    @tf.function\n",
    "    def generate_one_step(self, inputs, states=None):\n",
    "        # Convert strings to token IDs.\n",
    "        input_chars = tf.strings.unicode_split(inputs, 'UTF-8')\n",
    "        input_ids = self.ids_from_chars(input_chars).to_tensor()\n",
    "\n",
    "        # Run the model.\n",
    "        # predicted_logits.shape is [batch, char, next_char_logits] \n",
    "        predicted_logits, states =  self.model(inputs=input_ids, states=states, \n",
    "                                          return_state=True)\n",
    "        # Only use the last prediction.\n",
    "        predicted_logits = predicted_logits[:, -1, :]\n",
    "        predicted_logits = predicted_logits/self.temperature\n",
    "        # Apply the prediction mask: prevent \"\" or \"[UNK]\" from being generated.\n",
    "        predicted_logits = predicted_logits + self.prediction_mask\n",
    "\n",
    "        # Sample the output logits to generate token IDs.\n",
    "        predicted_ids = tf.random.categorical(predicted_logits, num_samples=1)\n",
    "        predicted_ids = tf.squeeze(predicted_ids, axis=-1)\n",
    "\n",
    "        # Convert from token ids to characters\n",
    "        predicted_chars = self.chars_from_ids(predicted_ids)\n",
    "\n",
    "        # Return the characters and model state.\n",
    "        return predicted_chars, states"
   ]
  },
  {
   "cell_type": "code",
   "execution_count": 41,
   "metadata": {},
   "outputs": [],
   "source": [
    "one_step_model = OneStep(model, chars_from_ids, ids_from_chars)"
   ]
  },
  {
   "cell_type": "code",
   "execution_count": 56,
   "metadata": {},
   "outputs": [
    {
     "name": "stdout",
     "output_type": "stream",
     "text": [
      "pwgfkfpwg\n"
     ]
    }
   ],
   "source": [
    "states = None\n",
    "next_char = tf.constant(['p'])\n",
    "result = [next_char]\n",
    "\n",
    "for n in range(8):\n",
    "    next_char, states = one_step_model.generate_one_step(next_char, states=states)\n",
    "    result.append(next_char)\n",
    "\n",
    "result = tf.strings.join(result)\n",
    "\n",
    "print(result[0].numpy().decode('utf-8'))"
   ]
  },
  {
   "cell_type": "markdown",
   "metadata": {},
   "source": [
    "### Prequential method"
   ]
  },
  {
   "cell_type": "code",
   "execution_count": 80,
   "metadata": {},
   "outputs": [],
   "source": [
    "# test generation of predictions in loop for all first chars in list\n",
    "\n",
    "results = [[] for line in data_split]\n",
    "\n",
    "for line in range(0, len(data_split)):\n",
    "    states = None\n",
    "    next_char = tf.constant([data_split[line][0]])\n",
    "    results[line] = [next_char]\n",
    "    \n",
    "    for n in range(0, len(data_split[line]) - 1):\n",
    "        next_char, states = one_step_model.generate_one_step(next_char, states=states)\n",
    "        results[line].append(next_char)\n",
    "    results[line] = tf.strings.join(results[line])\n",
    "    results[line] = results[line][0].numpy().decode('utf-8')"
   ]
  },
  {
   "cell_type": "code",
   "execution_count": 81,
   "metadata": {},
   "outputs": [
    {
     "data": {
      "text/plain": [
       "True"
      ]
     },
     "execution_count": 81,
     "metadata": {},
     "output_type": "execute_result"
    }
   ],
   "source": [
    "# check if predicted length = observed length\n",
    "[len(line) for line in results] == [len(line) for line in data_split]"
   ]
  },
  {
   "cell_type": "code",
   "execution_count": 89,
   "metadata": {},
   "outputs": [],
   "source": [
    "# generate prediction for next char, compare to observed, determine error - until length of observed is reached\n",
    "\n",
    "results = [[] for line in data_split]\n",
    "errors = [[] for x in data_split]\n",
    "\n",
    "for line in range(0, len(data_split)):\n",
    "    i = 1\n",
    "    states = None\n",
    "    \n",
    "    while i < len(data_split[line]):\n",
    "        next_char = tf.constant([data_split[line][:i]])\n",
    "        results[line] = [next_char]\n",
    "        next_char, states = one_step_model.generate_one_step(next_char, states=states)\n",
    "        results[line].append(next_char)\n",
    "        predicted = tf.strings.join(results[line])\n",
    "        predicted = predicted[0].numpy().decode('utf-8')\n",
    "        observed = data_split[line][:i+1]\n",
    "        error = 1 - damerauLevenshtein(predicted, observed)\n",
    "        #print(predicted, observed, error)\n",
    "        \n",
    "        errors[line].append(error)\n",
    "        i +=1\n",
    "        \n",
    "    results[line] = tf.strings.join(results[line])\n",
    "    results[line] = results[line][0].numpy().decode('utf-8')"
   ]
  },
  {
   "cell_type": "code",
   "execution_count": 86,
   "metadata": {},
   "outputs": [
    {
     "data": {
      "text/plain": [
       "[0.29000000000000004,\n",
       " 0.13826530612244897,\n",
       " 0.12723214285714285,\n",
       " 0.10380291005291005,\n",
       " 0.16716269841269843,\n",
       " 0.2375,\n",
       " 0.2566666666666667,\n",
       " 0.23769841269841274,\n",
       " 0.16803350970017636,\n",
       " 0.12549603174603174,\n",
       " 0.09444444444444444,\n",
       " 0.24540816326530615,\n",
       " 0.13905723905723907,\n",
       " 0.12333333333333332,\n",
       " 0.11666666666666667,\n",
       " 0.29000000000000004,\n",
       " 0.14436868686868687,\n",
       " 0.29000000000000004,\n",
       " 0.14709820094435477,\n",
       " 0.07845368916797488,\n",
       " 0.1519877344877345,\n",
       " 0.2037414965986395,\n",
       " 0.12491318205603917,\n",
       " 0.09254281257957728,\n",
       " 0.21683673469387754,\n",
       " 0.24540816326530615,\n",
       " 0.16306244260789715,\n",
       " 0.19737103174603174,\n",
       " 0.2654761904761905,\n",
       " 0.2583333333333333,\n",
       " 0.21683673469387754,\n",
       " 0.14460470085470084,\n",
       " 0.20362103174603177,\n",
       " 0.20044091710758374,\n",
       " 0.196031746031746,\n",
       " 0.1567901234567901,\n",
       " 0.18948773448773445,\n",
       " 0.17857142857142858,\n",
       " 0.1603210678210678,\n",
       " 0.29000000000000004,\n",
       " 0.22333333333333333,\n",
       " 0.2583333333333333,\n",
       " 0.19845679012345677,\n",
       " 0.23214285714285712,\n",
       " 0.12173721340388008,\n",
       " 0.16666666666666666,\n",
       " 0.32083333333333336,\n",
       " 0.14112103174603174,\n",
       " 0.18588435374149656,\n",
       " 0.10714285714285714,\n",
       " 0.18333333333333332,\n",
       " 0.2583333333333333,\n",
       " 0.13582588046873761,\n",
       " 0.2043650793650794,\n",
       " 0.16547619047619047,\n",
       " 0.095,\n",
       " 0.17410714285714288,\n",
       " 0.1488095238095238,\n",
       " 0.20198412698412696,\n",
       " 0.32083333333333336,\n",
       " 0.25,\n",
       " 0.1521804584304584,\n",
       " 0.5,\n",
       " 0.1626984126984127,\n",
       " 0.2037414965986395,\n",
       " 0.32083333333333336,\n",
       " 0.10998168498168498,\n",
       " 0.15310638435638438,\n",
       " 0.1739795918367347,\n",
       " 0.20992063492063492,\n",
       " 0.16547619047619047,\n",
       " 0.36111111111111116,\n",
       " 0.13791814246359702,\n",
       " 0.17729276895943563,\n",
       " 0.16041666666666665,\n",
       " 0.12330840455840458,\n",
       " 0.1853210678210678,\n",
       " 0.23769841269841274,\n",
       " 0.15103535353535355,\n",
       " 0.1977891156462585,\n",
       " 0.175,\n",
       " 0.2375,\n",
       " 0.175,\n",
       " 0.32083333333333336,\n",
       " 0.4166666666666667,\n",
       " 0.2375,\n",
       " 0.36111111111111116,\n",
       " 0.16666666666666666,\n",
       " 0.4166666666666667,\n",
       " 0.4166666666666667,\n",
       " 0.32083333333333336,\n",
       " 0.29000000000000004,\n",
       " 0.36111111111111116,\n",
       " 0.2654761904761905,\n",
       " 0.2566666666666667,\n",
       " 0.18655202821869488,\n",
       " 0.32083333333333336,\n",
       " 0.5,\n",
       " 0.20666666666666664,\n",
       " 0.32083333333333336,\n",
       " 0.15136054421768708,\n",
       " 0.15612244897959185,\n",
       " 0.24540816326530615,\n",
       " 0.21683673469387754,\n",
       " 0.1238095238095238,\n",
       " 0.1547619047619048,\n",
       " 0.1714285714285714,\n",
       " 0.11785714285714285,\n",
       " 0.1773809523809524,\n",
       " 0.16547619047619047,\n",
       " 0.18928571428571425,\n",
       " 0.15952380952380954,\n",
       " 0.08928571428571429,\n",
       " 0.15952380952380954,\n",
       " 0.22159863945578234,\n",
       " 0.17857142857142858,\n",
       " 0.20969387755102037,\n",
       " 0.22159863945578234,\n",
       " 0.1989795918367347,\n",
       " 0.1547619047619048,\n",
       " 0.11785714285714285,\n",
       " 0.17517006802721088,\n",
       " 0.13690476190476192,\n",
       " 0.1989795918367347,\n",
       " 0.1977891156462585,\n",
       " 0.028571428571428564,\n",
       " 0.20969387755102037,\n",
       " 0.1773809523809524,\n",
       " 0.22159863945578234,\n",
       " 0.05952380952380952,\n",
       " 0.20969387755102037,\n",
       " 0.10714285714285714,\n",
       " 0.1977891156462585,\n",
       " 0.19642857142857142,\n",
       " 0.21683673469387754,\n",
       " 0.20969387755102037,\n",
       " 0.14166666666666666,\n",
       " 0.12040816326530612,\n",
       " 0.05238095238095237,\n",
       " 0.20714285714285716,\n",
       " 0.1989795918367347,\n",
       " 0.18588435374149656,\n",
       " 0.22500000000000003,\n",
       " 0.1476190476190476,\n",
       " 0.24540816326530615,\n",
       " 0.1977891156462585,\n",
       " 0.11564625850340136,\n",
       " 0.18928571428571425,\n",
       " 0.1357142857142857,\n",
       " 0.1918367346938775,\n",
       " 0.22500000000000003,\n",
       " 0.22500000000000003,\n",
       " 0.15136054421768708,\n",
       " 0.15136054421768708,\n",
       " 0.1130952380952381,\n",
       " 0.22755102040816327,\n",
       " 0.16326530612244897,\n",
       " 0.05238095238095237,\n",
       " 0.12040816326530612,\n",
       " 0.12040816326530612,\n",
       " 0.09523809523809523,\n",
       " 0.15136054421768708,\n",
       " 0.08928571428571429,\n",
       " 0.1977891156462585,\n",
       " 0.1238095238095238,\n",
       " 0.1918367346938775,\n",
       " 0.2037414965986395,\n",
       " 0.1918367346938775,\n",
       " 0.20833333333333334,\n",
       " 0.22380952380952376,\n",
       " 0.2566666666666667,\n",
       " 0.15,\n",
       " 0.11666666666666667,\n",
       " 0.19,\n",
       " 0.19,\n",
       " 0.2,\n",
       " 0.29000000000000004,\n",
       " 0.2566666666666667,\n",
       " 0.25,\n",
       " 0.23999999999999994]"
      ]
     },
     "execution_count": 86,
     "metadata": {},
     "output_type": "execute_result"
    }
   ],
   "source": [
    "[np.mean(error) for error in errors]"
   ]
  },
  {
   "cell_type": "code",
   "execution_count": 87,
   "metadata": {},
   "outputs": [
    {
     "data": {
      "text/plain": [
       "0.19529517671579852"
      ]
     },
     "execution_count": 87,
     "metadata": {},
     "output_type": "execute_result"
    }
   ],
   "source": [
    "np.mean([np.mean(error) for error in errors])"
   ]
  },
  {
   "cell_type": "code",
   "execution_count": null,
   "metadata": {},
   "outputs": [],
   "source": []
  }
 ],
 "metadata": {
  "kernelspec": {
   "display_name": "tf",
   "language": "python",
   "name": "tf"
  },
  "language_info": {
   "codemirror_mode": {
    "name": "ipython",
    "version": 3
   },
   "file_extension": ".py",
   "mimetype": "text/x-python",
   "name": "python",
   "nbconvert_exporter": "python",
   "pygments_lexer": "ipython3",
   "version": "3.7.9"
  }
 },
 "nbformat": 4,
 "nbformat_minor": 4
}
