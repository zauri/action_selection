{
 "cells": [
  {
   "cell_type": "code",
   "execution_count": 42,
   "id": "interested-destruction",
   "metadata": {},
   "outputs": [],
   "source": [
    "import unidecode\n",
    "import string\n",
    "import random\n",
    "import re\n",
    "import time\n",
    "import math\n",
    "import matplotlib.pyplot as plt\n",
    "import matplotlib.ticker as ticker\n",
    "\n",
    "import torch\n",
    "import torch.nn as nn\n",
    "from torch.autograd import Variable"
   ]
  },
  {
   "cell_type": "code",
   "execution_count": 48,
   "id": "genetic-jonathan",
   "metadata": {},
   "outputs": [
    {
     "name": "stdout",
     "output_type": "stream",
     "text": [
      "file_len = 1115394\n"
     ]
    }
   ],
   "source": [
    "all_characters = string.printable\n",
    "n_characters = len(all_characters)\n",
    "\n",
    "file = unidecode.unidecode(open('../shakespeare.txt').read())\n",
    "file_len = len(file)\n",
    "print('file_len =', file_len)"
   ]
  },
  {
   "cell_type": "code",
   "execution_count": 4,
   "id": "focused-start",
   "metadata": {},
   "outputs": [],
   "source": [
    "chunk_len = 200"
   ]
  },
  {
   "cell_type": "code",
   "execution_count": 5,
   "id": "hollywood-uruguay",
   "metadata": {},
   "outputs": [],
   "source": [
    "def random_chunk():\n",
    "    start_index = random.randint(0, file_len - chunk_len)\n",
    "    end_index = start_index + chunk_len + 1\n",
    "    return file[start_index:end_index]"
   ]
  },
  {
   "cell_type": "code",
   "execution_count": 6,
   "id": "powerful-sight",
   "metadata": {},
   "outputs": [
    {
     "name": "stdout",
     "output_type": "stream",
     "text": [
      "ercutio's breast,\n",
      "Who all as hot, turns deadly point to point,\n",
      "And, with a martial scorn, with one hand beats\n",
      "Cold death aside, and with the other sends\n",
      "It back to Tybalt, whose dexterity,\n",
      "Retorts it: \n"
     ]
    }
   ],
   "source": [
    "print(random_chunk())"
   ]
  },
  {
   "cell_type": "code",
   "execution_count": 23,
   "id": "concrete-layout",
   "metadata": {},
   "outputs": [],
   "source": [
    "class RNN(nn.Module):\n",
    "    def __init__(self, input_size, hidden_size, output_size, n_layers=1):\n",
    "        super(RNN, self).__init__()\n",
    "        self.input_size = input_size\n",
    "        self.hidden_size = hidden_size\n",
    "        self.output_size = output_size\n",
    "        self.n_layers = n_layers\n",
    "        \n",
    "        self.encoder = nn.Embedding(input_size, hidden_size)\n",
    "        self.gru = nn.GRU(hidden_size, hidden_size, n_layers)\n",
    "        self.decoder = nn.Linear(hidden_size, output_size)\n",
    "        \n",
    "    def forward(self, input, hidden):\n",
    "        input = self.encoder(input.view(1, -1))\n",
    "        output, hidden = self.gru(input.view(1, 1, -1), hidden)\n",
    "        output = self.decoder(output.view(1, -1))\n",
    "        return output, hidden\n",
    "    \n",
    "    def init_hidden(self):\n",
    "        return Variable(torch.zeros(self.n_layers, 1, self.hidden_size))"
   ]
  },
  {
   "cell_type": "code",
   "execution_count": 24,
   "id": "patient-program",
   "metadata": {},
   "outputs": [],
   "source": [
    "def char_tensor(string):\n",
    "    tensor = torch.zeros(len(string)).long()\n",
    "    for c in range(len(string)):\n",
    "        tensor[c] = all_characters.index(string[c])\n",
    "    return Variable(tensor)"
   ]
  },
  {
   "cell_type": "code",
   "execution_count": 25,
   "id": "divine-factory",
   "metadata": {},
   "outputs": [],
   "source": [
    "def random_training_set():\n",
    "    chunk = random_chunk()\n",
    "    inp = char_tensor(chunk[:-1])\n",
    "    target = char_tensor(chunk[1:])\n",
    "    return inp, target"
   ]
  },
  {
   "cell_type": "code",
   "execution_count": 26,
   "id": "regulation-helicopter",
   "metadata": {},
   "outputs": [],
   "source": [
    "def evaluate(prime_str='A', predict_len=100, temperature=0.8):\n",
    "    hidden = decoder.init_hidden()\n",
    "    prime_input = char_tensor(prime_str)\n",
    "    predicted = prime_str\n",
    "\n",
    "    # Use priming string to \"build up\" hidden state\n",
    "    for p in range(len(prime_str) - 1):\n",
    "        _, hidden = decoder(prime_input[p], hidden)\n",
    "    inp = prime_input[-1]\n",
    "    \n",
    "    for p in range(predict_len):\n",
    "        output, hidden = decoder(inp, hidden)\n",
    "        \n",
    "        # Sample from the network as a multinomial distribution\n",
    "        output_dist = output.data.view(-1).div(temperature).exp()\n",
    "        top_i = torch.multinomial(output_dist, 1)[0]\n",
    "        \n",
    "        # Add predicted character to string and use as next input\n",
    "        predicted_char = all_characters[top_i]\n",
    "        predicted += predicted_char\n",
    "        inp = char_tensor(predicted_char)\n",
    "\n",
    "    return predicted"
   ]
  },
  {
   "cell_type": "code",
   "execution_count": 27,
   "id": "enhanced-prototype",
   "metadata": {},
   "outputs": [],
   "source": [
    "def time_since(since):\n",
    "    s = time.time() - since\n",
    "    m = math.floor(s / 60)\n",
    "    s -= m * 60\n",
    "    return '%dm %ds' % (m, s)"
   ]
  },
  {
   "cell_type": "code",
   "execution_count": 40,
   "id": "joint-sharp",
   "metadata": {},
   "outputs": [],
   "source": [
    "def train(inp, target):\n",
    "    hidden = decoder.init_hidden()\n",
    "    decoder.zero_grad()\n",
    "    loss = 0\n",
    "\n",
    "    for c in range(chunk_len):\n",
    "        output, hidden = decoder(inp[c], hidden)\n",
    "        loss += criterion(output, torch.LongTensor([target[c]]))\n",
    "\n",
    "    loss.backward()\n",
    "    decoder_optimizer.step()\n",
    "\n",
    "    return loss.data / chunk_len"
   ]
  },
  {
   "cell_type": "code",
   "execution_count": 41,
   "id": "welcome-enzyme",
   "metadata": {},
   "outputs": [
    {
     "name": "stdout",
     "output_type": "stream",
     "text": [
      "[0m 11s (100 5%) 2.4931]\n",
      "Whemnou weente hage the sting, I an pooncoudd ding soot of lof sereftearous fand ald att? in ind fir d \n",
      "\n",
      "[0m 23s (200 10%) 2.3867]\n",
      "What wirt my his wies fakd her gand iniess\n",
      "Fom what he you hay a fordh yud, of ang!\n",
      "\n",
      "COLIS:\n",
      "And ak is  \n",
      "\n",
      "[0m 35s (300 15%) 1.9217]\n",
      "Whand me a wigh what your,\n",
      "So my my, the on wane who a wele thinge that thics hous sith if my, and cef \n",
      "\n",
      "[0m 47s (400 20%) 2.1060]\n",
      "Whad cond, of dere of the bore,\n",
      "Thou rear as the, anter weill dispity hele am you\n",
      "To do the prowned an \n",
      "\n",
      "[0m 59s (500 25%) 1.8369]\n",
      "Whet?\n",
      "\n",
      "KING HININCENGET:\n",
      "\n",
      "PARD ISI I Lent saculing.\n",
      "\n",
      "RilICIUS:\n",
      "Thall tees Rour angee, not must your co \n",
      "\n",
      "[1m 11s (600 30%) 2.1256]\n",
      "Whall sid wo, now fellow and greanciseme\n",
      "With him are saut hendressen he sture then weet:\n",
      "Bontend sear \n",
      "\n",
      "[1m 23s (700 35%) 1.7589]\n",
      "Whis the contentle, and suble as face have\n",
      "ny, but kin thoust good sour, ay stay to kintionk thoun the \n",
      "\n",
      "[1m 36s (800 40%) 2.0664]\n",
      "What not in and way,\n",
      "Ale thell your love cajarke; and the dimper drikeceds as proccesbarture.\n",
      "With are \n",
      "\n",
      "[1m 50s (900 45%) 1.7350]\n",
      "What sired\n",
      "And to Bar preat and with teme, gloud hering hand hem him dewat,\n",
      "O hour dectincentoce a gre \n",
      "\n",
      "[2m 2s (1000 50%) 1.9682]\n",
      "Whou and the nides hatem;\n",
      "For waft seent the of as theil?\n",
      "\n",
      "CORINCE:\n",
      "Thast nich there becerate not my h \n",
      "\n",
      "[2m 14s (1100 55%) 1.9808]\n",
      "Whormendet! I deplie that\n",
      "Ay. Comed he could so he the to take been.\n",
      "\n",
      "Clon, are, thell, to my wiseled  \n",
      "\n",
      "[2m 25s (1200 60%) 1.9491]\n",
      "What forture then the feent fing's swaning and my Lord homy to dock wife\n",
      "then fear his way to not with \n",
      "\n",
      "[2m 37s (1300 65%) 1.8379]\n",
      "What which you my broke love to gall.\n",
      "\n",
      "BIDBIANTA:\n",
      "If me me drese men.\n",
      "\n",
      "LUCIA:\n",
      "Burant madiand, we lords \n",
      "\n",
      "[2m 49s (1400 70%) 1.9207]\n",
      "What's recess,\n",
      "Alave his you wards there are puety thou shest me schall the not\n",
      "For say well scape enc \n",
      "\n",
      "[3m 1s (1500 75%) 1.5555]\n",
      "Whall never to but thinklied, your' but tell the parcker it must your\n",
      "in dert like son thizen andion.\n",
      " \n",
      "\n",
      "[3m 13s (1600 80%) 1.6678]\n",
      "Whell,\n",
      "In of I plose as to himpar a drecopeing aught sine;\n",
      "And than the to the speakile the love I'll  \n",
      "\n",
      "[3m 25s (1700 85%) 1.8422]\n",
      "What can:\n",
      "\n",
      "JOWZABETH:\n",
      "Were is, my lord conut the canshal all,\n",
      "If at your can therefore our graicats.\n",
      "\n",
      " \n",
      "\n",
      "[3m 37s (1800 90%) 1.9969]\n",
      "Who for Glon lives then so and a they\n",
      "an standers the jound his naman inton\n",
      "Ourersed of and serefore a \n",
      "\n",
      "[3m 49s (1900 95%) 1.6767]\n",
      "Whe.\n",
      "Gron, in mothouss yout there incedied be stice fath of onder must ree\n",
      "That engmand woars a dain,  \n",
      "\n",
      "[4m 1s (2000 100%) 1.5141]\n",
      "Whes is unswen.\n",
      "\n",
      "COMINIUS:\n",
      "There, he fing ears eye which hers it he'll.\n",
      "\n",
      "LUCIO:\n",
      "I henion of hers to hi \n",
      "\n"
     ]
    }
   ],
   "source": [
    "n_epochs = 2000\n",
    "print_every = 100\n",
    "plot_every = 10\n",
    "hidden_size = 100\n",
    "n_layers = 1\n",
    "lr = 0.005\n",
    "\n",
    "decoder = RNN(n_characters, hidden_size, n_characters, n_layers)\n",
    "decoder_optimizer = torch.optim.Adam(decoder.parameters(), lr=lr)\n",
    "criterion = nn.CrossEntropyLoss()\n",
    "\n",
    "start = time.time()\n",
    "all_losses = []\n",
    "loss_avg = 0\n",
    "\n",
    "for epoch in range(1, n_epochs + 1):\n",
    "    loss = train(*random_training_set())       \n",
    "    loss_avg += loss\n",
    "\n",
    "    if epoch % print_every == 0:\n",
    "        print('[%s (%d %d%%) %.4f]' % (time_since(start), epoch, epoch / n_epochs * 100, loss))\n",
    "        print(evaluate('Wh', 100), '\\n')\n",
    "\n",
    "    if epoch % plot_every == 0:\n",
    "        all_losses.append(loss_avg / plot_every)\n",
    "        loss_avg = 0"
   ]
  },
  {
   "cell_type": "code",
   "execution_count": 43,
   "id": "diagnostic-guest",
   "metadata": {},
   "outputs": [
    {
     "data": {
      "text/plain": [
       "[<matplotlib.lines.Line2D at 0x7f1359e68790>]"
      ]
     },
     "execution_count": 43,
     "metadata": {},
     "output_type": "execute_result"
    },
    {
     "data": {
      "image/png": "[encoded data removed]",
      "text/plain": [
       "<Figure size 432x288 with 1 Axes>"
      ]
     },
     "metadata": {
      "needs_background": "light"
     },
     "output_type": "display_data"
    }
   ],
   "source": [
    "plt.figure()\n",
    "plt.plot(all_losses)"
   ]
  },
  {
   "cell_type": "code",
   "execution_count": 44,
   "id": "identical-chemistry",
   "metadata": {},
   "outputs": [
    {
     "name": "stdout",
     "output_type": "stream",
     "text": [
      "The say the grace the grace.\n",
      "\n",
      "COMINIUS:\n",
      "Or the good the good he shall may the gods.\n",
      "\n",
      "COMINIUS:\n",
      "The to my love the was the good the good the good the like the good the good\n",
      "The shall be her should word s\n"
     ]
    }
   ],
   "source": [
    "print(evaluate('Th', 200, temperature=0.2))"
   ]
  },
  {
   "cell_type": "code",
   "execution_count": 46,
   "id": "blond-denmark",
   "metadata": {},
   "outputs": [
    {
     "name": "stdout",
     "output_type": "stream",
     "text": [
      "The gart?\n",
      "\n",
      "COMINIUS:\n",
      "The his the what did drissewert word;\n",
      "The way, he where be you, look my there I his by\n",
      "Our gartha, thy for of Houch him borks a good the again\n",
      "We less my not strake ouses math.\n",
      "\n",
      "RAT\n"
     ]
    }
   ],
   "source": [
    "print(evaluate('Th', 200, temperature=0.8))"
   ]
  },
  {
   "cell_type": "code",
   "execution_count": 45,
   "id": "accredited-foundation",
   "metadata": {},
   "outputs": [
    {
     "name": "stdout",
     "output_type": "stream",
     "text": [
      "Thage, you, ble-swill so; Inder she bloote\n",
      "whippitet, muianss; my framega; oughr opcide rismburfen! unshing\n",
      "The not my letty, my fing satcijes envruetis He alrec seced.\n",
      "Thockn, in, csoring oplse neustic\n"
     ]
    }
   ],
   "source": [
    "print(evaluate('Th', 200, temperature=1.4))"
   ]
  },
  {
   "cell_type": "code",
   "execution_count": null,
   "id": "driven-singing",
   "metadata": {},
   "outputs": [],
   "source": []
  }
 ],
 "metadata": {
  "kernelspec": {
   "display_name": "Python 3",
   "language": "python",
   "name": "python3"
  },
  "language_info": {
   "codemirror_mode": {
    "name": "ipython",
    "version": 3
   },
   "file_extension": ".py",
   "mimetype": "text/x-python",
   "name": "python",
   "nbconvert_exporter": "python",
   "pygments_lexer": "ipython3",
   "version": "3.7.7"
  }
 },
 "nbformat": 4,
 "nbformat_minor": 5
}
