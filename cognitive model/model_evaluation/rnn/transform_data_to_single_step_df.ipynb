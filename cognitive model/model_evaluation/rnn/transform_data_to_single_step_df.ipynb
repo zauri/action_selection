{
 "cells": [
  {
   "cell_type": "code",
   "execution_count": 1,
   "id": "4c137904",
   "metadata": {},
   "outputs": [],
   "source": [
    "from collections import defaultdict\n",
    "from datetime import datetime\n",
    "import pandas as pd"
   ]
  },
  {
   "cell_type": "code",
   "execution_count": 2,
   "id": "80d98c33",
   "metadata": {},
   "outputs": [],
   "source": [
    "def read_data(path_to_csv):\n",
    "    df = pd.read_csv(path_to_csv, header=0, index_col=0)\n",
    "    \n",
    "    # select columns by type\n",
    "    float_cols = df.select_dtypes(include=['float64']).columns\n",
    "    str_cols = df.select_dtypes(include=['object']).columns\n",
    "    \n",
    "    # fill NAs\n",
    "    df.loc[:, float_cols] = df.loc[:, float_cols].fillna(-99)\n",
    "    \n",
    "    # convert str to bool for true/false values\n",
    "    mask = df.applymap(type) != bool\n",
    "    bool_to_str = {True: 1, False: 0}\n",
    "    df = df.where(mask, df.replace(bool_to_str))\n",
    "    \n",
    "    return df"
   ]
  },
  {
   "cell_type": "code",
   "execution_count": 3,
   "id": "eb8a4951",
   "metadata": {},
   "outputs": [],
   "source": [
    "def get_unique_values(df):\n",
    "    sequence_list = [list(row) for row in df['sequence']]\n",
    "    unique_items = set([item for sublist in sequence_list for item in sublist])\n",
    "\n",
    "    return unique_items"
   ]
  },
  {
   "cell_type": "code",
   "execution_count": 9,
   "id": "5ea30aba",
   "metadata": {},
   "outputs": [],
   "source": [
    "def get_sequence_info(df, unique_items):\n",
    "    list_dicts = []\n",
    "    input_target_values = []\n",
    "    list_already_seen = []\n",
    "\n",
    "    for row in range(0, len(df)):\n",
    "    \n",
    "        for position, char in enumerate(df.loc[row, 'sequence']):\n",
    "            new_row_nr = row + position\n",
    "            char_dict = {}\n",
    "            sequence = df.loc[row, 'sequence']\n",
    "        \n",
    "            # specific for position in sequence\n",
    "            start_coords_col = 'start_coords' + str(position+1)\n",
    "            char_dict['start_coords.x'] = df.loc[row, str(start_coords_col + '.x')]\n",
    "            char_dict['start_coords.y'] = df.loc[row, str(start_coords_col + '.y')]\n",
    "            char_dict['start_coords.z'] = df.loc[row, str(start_coords_col + '.z')]\n",
    "            \n",
    "            char_dict['row'] = row\n",
    "        \n",
    "            if position == 0:\n",
    "                input_value = '<start>'\n",
    "                target_value = char\n",
    "                input_target_values.append([input_value, target_value])\n",
    "                \n",
    "                list_already_seen.append([])\n",
    "            \n",
    "            else:\n",
    "                input_value = df.loc[row, 'sequence'][position-1]\n",
    "                target_value = char\n",
    "                input_target_values.append([input_value, target_value])\n",
    "\n",
    "                list_already_seen.append(df.loc[row, 'sequence'][:position])\n",
    "                \n",
    "            list_dicts.append(char_dict)\n",
    "    \n",
    "    return list_dicts, input_target_values, list_already_seen"
   ]
  },
  {
   "cell_type": "code",
   "execution_count": 5,
   "id": "22b75dcf",
   "metadata": {},
   "outputs": [],
   "source": [
    "def get_row_info(df):\n",
    "    dicts_row = {}\n",
    "    \n",
    "    for row in range(0, len(df)):\n",
    "        row_dict = {}\n",
    "        sequence = df.loc[row, 'sequence']\n",
    "        \n",
    "        for position, char in enumerate(df.loc[row, 'sequence']):\n",
    "            char_coordinates_x = 'coordinates_' + char + '.x'\n",
    "            char_coordinates_y = 'coordinates_' + char + '.y'\n",
    "            char_coordinates_z = 'coordinates_' + char + '.z'\n",
    "            row_dict[char_coordinates_x] = df.loc[row, char_coordinates_x]\n",
    "            row_dict[char_coordinates_y] = df.loc[row, char_coordinates_y]\n",
    "            row_dict[char_coordinates_z] = df.loc[row, char_coordinates_z]\n",
    "            \n",
    "            char_containment = char + '.containment'\n",
    "            char_strong_k = char + '.strong_k'\n",
    "            char_mid_k = char + '.mid_k'\n",
    "            char_food_k = char + '.food_k'\n",
    "            row_dict[char_containment] = df.loc[row, char_containment]\n",
    "            row_dict[char_food_k] = df.loc[row, char_food_k]\n",
    "            row_dict[char_strong_k] = df.loc[row, char_strong_k]\n",
    "            row_dict[char_mid_k] = df.loc[row, char_mid_k]\n",
    "        \n",
    "            dicts_row[row] = row_dict\n",
    "    \n",
    "    return dicts_row        "
   ]
  },
  {
   "cell_type": "code",
   "execution_count": 6,
   "id": "51fedd61",
   "metadata": {},
   "outputs": [],
   "source": [
    "def create_singlestep_df(list_dicts, input_target_values, list_already_seen):\n",
    "    single_step_df = pd.DataFrame(list_dicts)\n",
    "    single_step_df.insert(loc=0, column='input', value=0)\n",
    "    single_step_df.insert(loc=1, column='target', value=0)\n",
    "\n",
    "    for row in range(0, len(input_target_values)):\n",
    "        single_step_df.loc[row, 'input'] = input_target_values[row][0]\n",
    "        single_step_df.loc[row, 'target'] = input_target_values[row][1]\n",
    "        \n",
    "    for row, elem in enumerate(list_already_seen):\n",
    "        for item in unique_items:\n",
    "            single_step_df.loc[row, str(item + '.already_seen')] = 0\n",
    "            if item in elem:\n",
    "                single_step_df.loc[row, str(item + '.already_seen')] = 1\n",
    "                \n",
    "    for row in range(0, len(single_step_df)):\n",
    "        for key, values in dicts_row.items():\n",
    "            if single_step_df.loc[row, 'row'] == key:\n",
    "                for k,v in values.items():\n",
    "                    single_step_df.loc[row, k] = v\n",
    "                    \n",
    "    return single_step_df"
   ]
  },
  {
   "cell_type": "code",
   "execution_count": 10,
   "id": "f3ea554a",
   "metadata": {},
   "outputs": [
    {
     "name": "stderr",
     "output_type": "stream",
     "text": [
      "/home/zauri/files/anaconda3/lib/python3.7/site-packages/pandas/core/indexing.py:1684: PerformanceWarning: DataFrame is highly fragmented.  This is usually the result of calling `frame.insert` many times, which has poor performance.  Consider joining all columns at once using pd.concat(axis=1) instead.  To get a de-fragmented frame, use `newframe = frame.copy()`\n",
      "  self.obj[key] = infer_fill_value(value)\n"
     ]
    }
   ],
   "source": [
    "df = read_data('data/task_environments_2021-07-15_transformed.csv')\n",
    "unique_items = get_unique_values(df)\n",
    "\n",
    "list_dicts, input_target_values, list_already_seen = get_sequence_info(df, unique_items)\n",
    "dicts_row = get_row_info(df)\n",
    "\n",
    "single_step_df = create_singlestep_df(list_dicts, input_target_values, list_already_seen)"
   ]
  },
  {
   "cell_type": "code",
   "execution_count": 11,
   "id": "744947c4",
   "metadata": {},
   "outputs": [
    {
     "data": {
      "text/plain": [
       "'data/single_step_df_ints_2022-03-15.csv'"
      ]
     },
     "execution_count": 11,
     "metadata": {},
     "output_type": "execute_result"
    }
   ],
   "source": [
    "date = datetime.today().strftime('%Y-%m-%d')\n",
    "filename = 'data/single_step_df_ints_' + str(date) + '.csv'\n",
    "\n",
    "filename"
   ]
  },
  {
   "cell_type": "code",
   "execution_count": 12,
   "id": "0756c8dc",
   "metadata": {},
   "outputs": [],
   "source": [
    "single_step_df.to_csv(filename, index=False, header=True)"
   ]
  },
  {
   "cell_type": "code",
   "execution_count": null,
   "id": "1a8c8c03",
   "metadata": {},
   "outputs": [],
   "source": []
  }
 ],
 "metadata": {
  "kernelspec": {
   "display_name": "Python 3 (ipykernel)",
   "language": "python",
   "name": "python3"
  },
  "language_info": {
   "codemirror_mode": {
    "name": "ipython",
    "version": 3
   },
   "file_extension": ".py",
   "mimetype": "text/x-python",
   "name": "python",
   "nbconvert_exporter": "python",
   "pygments_lexer": "ipython3",
   "version": "3.7.7"
  }
 },
 "nbformat": 4,
 "nbformat_minor": 5
}
