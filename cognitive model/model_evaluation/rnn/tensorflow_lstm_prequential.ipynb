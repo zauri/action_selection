{
 "cells": [
  {
   "cell_type": "code",
   "execution_count": 1,
   "metadata": {},
   "outputs": [],
   "source": [
    "import numpy as np\n",
    "import tensorflow as tf\n",
    "from tensorflow.keras.layers.experimental import preprocessing\n",
    "from fastDamerauLevenshtein import damerauLevenshtein"
   ]
  },
  {
   "cell_type": "markdown",
   "metadata": {},
   "source": [
    "### read data"
   ]
  },
  {
   "cell_type": "code",
   "execution_count": 2,
   "metadata": {},
   "outputs": [],
   "source": [
    "data = open('data.txt', 'rb').read().decode(encoding='utf-8')"
   ]
  },
  {
   "cell_type": "code",
   "execution_count": 3,
   "metadata": {},
   "outputs": [
    {
     "data": {
      "text/plain": [
       "'pocgkr\\ncgwpcfks\\nkfsfkspwg\\npfkswkfsococg\\nwptgkfsoc\\npwfkg\\npowcer\\ncoprerk\\nwopofkkskf\\nopwpwgcoc\\npocrfksfks\\ncgpogpoc\\npwocgfkfsrere\\nocwgrk\\nwpgsfk\\npwofsg\\npocpocwgkfs\\npocgwg\\npwgockfsfksret\\nocpwgfkskfsrere\\ncopwgwpresk\\npwterfkf\\npocwggpfkfksrer\\nwpofcgkrpwgfksocr\\ncwpfksor\\npwfksorc\\npocgwkfkfser\\npowctgcog\\npowgcpo\\npwfkt\\npwokfkrg\\ncopcogpgwfksr\\npgsfkskfg\\nwgptocopwg\\npowcgre\\nperkscwgtf\\npcgworkfkfs\\npopocgkr\\npwtgcfkfksr\\npocwkf\\npgkfkf\\ncwopg\\npowcgkfkfr\\nwpgfksk\\npocwcpoere\\npwkf\\ncptgo\\npocfkswgr\\npowcfkfk\\npwgfksfk\\ngpwfks\\ncgwpw\\ncwopgtrekfksksf\\npocsfkw\\nocpwgfkf\\npwgterkfsoc\\npocgwrkfs\\ntgcwpro\\npocgkfskfr\\npgcow\\nopwg\\nwpgcowpcfksre\\nre\\nptwgfks\\npocrfkfk\\npockr\\npockfskfswgre\\ntgpcowpgpwcog\\ngwpfrkst\\npfkfksg\\npwogsfkg\\npwkf\\ngwpocoskfsfk\\nwtpcockfkf\\nwpgfkfkre\\npococwtrfkfkg\\npwocfksfksr\\npwgerks\\npoctfkfkrwg\\npwfksocr\\ntnpzc\\ntnpcz\\ntnpzc\\ntnzpc\\npmz\\nxmbzd\\npImz\\nmzxp\\npbz\\npgz\\npnzga\\ndnzgdp\\npndz\\nnzpdgds\\nmcddxp\\npcfkdddaag\\ndagpk\\npc\\ngkfadp\\npfgds\\nbcsfgkap\\npbsfkcga\\npbgafkcs\\ngpbcksfa\\npbfkscga\\npbsgkafc\\npbcskfga\\npsfkagcb\\npfkscagb\\npfskagcb\\npskfcagb\\npfkscagb\\npsfkgacb\\npfkbscga\\npcgafkbs\\ngpabkfsc\\npabkgcfs\\ngcpabkfs\\npasbkfgc\\npabcgksf\\nsfkpcgab\\nspgbkfca\\nspakgfcb\\ncgbkpasf\\nfkspcbag\\npkfsbgca\\ncpkfgsba\\ncbgsfapk\\ncgpsakfb\\npfksgcab\\npcskfbga\\nsbkpfcag\\nfpkgbsac\\npabfgsck\\ncpgfksab\\ngfcspkob\\npkfsbagc\\npkfsbgac\\npbfkscga\\nbpksfcga\\npagbkfsc\\npcgafksb\\npcsbfkga\\npbskfgca\\npscgfbak\\npfkcbgsa\\npkfsgcba\\npcfksagb\\npbcfskga\\npbfkcsga\\npcsfkbga\\npkfsabgc\\npkfsgcba\\npkfsgcba\\npkfsgcab\\npkfbscag\\npkbsfgca\\npkfbscga\\npkfsbgac\\npkfsagbc\\npkfsgcab\\npkfsgcba\\npkfsgcab\\npkfsacgb\\npkfsbcga\\npfskbcga\\npbkfscga\\npfskbgca\\nhhsdb\\nhhhdsgb\\nhhsgdb\\nhhdsbg\\nhhsgdb\\nhhdsgb\\ndsgbhh\\nhhsdbg\\nhhsdgb\\nhhsgdb\\nhhsgdb\\nhhsdgb\\n'"
      ]
     },
     "execution_count": 3,
     "metadata": {},
     "output_type": "execute_result"
    }
   ],
   "source": [
    "data"
   ]
  },
  {
   "cell_type": "markdown",
   "metadata": {},
   "source": [
    "### generate list of sequences"
   ]
  },
  {
   "cell_type": "code",
   "execution_count": 4,
   "metadata": {},
   "outputs": [],
   "source": [
    "data_split = data.splitlines()"
   ]
  },
  {
   "cell_type": "markdown",
   "metadata": {},
   "source": [
    "### remove newline chars"
   ]
  },
  {
   "cell_type": "code",
   "execution_count": 5,
   "metadata": {},
   "outputs": [
    {
     "data": {
      "text/plain": [
       "'pocgkrcgwpcfkskfsfkspwgpfkswkfsococgwptgkfsocpwfkgpowcercoprerkwopofkkskfopwpwgcocpocrfksfkscgpogpocpwocgfkfsrereocwgrkwpgsfkpwofsgpocpocwgkfspocgwgpwgockfsfksretocpwgfkskfsrerecopwgwpreskpwterfkfpocwggpfkfksrerwpofcgkrpwgfksocrcwpfksorpwfksorcpocgwkfkfserpowctgcogpowgcpopwfktpwokfkrgcopcogpgwfksrpgsfkskfgwgptocopwgpowcgreperkscwgtfpcgworkfkfspopocgkrpwtgcfkfksrpocwkfpgkfkfcwopgpowcgkfkfrwpgfkskpocwcpoerepwkfcptgopocfkswgrpowcfkfkpwgfksfkgpwfkscgwpwcwopgtrekfksksfpocsfkwocpwgfkfpwgterkfsocpocgwrkfstgcwpropocgkfskfrpgcowopwgwpgcowpcfksrereptwgfkspocrfkfkpockrpockfskfswgretgpcowpgpwcoggwpfrkstpfkfksgpwogsfkgpwkfgwpocoskfsfkwtpcockfkfwpgfkfkrepococwtrfkfkgpwocfksfksrpwgerkspoctfkfkrwgpwfksocrtnpzctnpcztnpzctnzpcpmzxmbzdpImzmzxppbzpgzpnzgadnzgdppndznzpdgdsmcddxppcfkdddaagdagpkpcgkfadppfgdsbcsfgkappbsfkcgapbgafkcsgpbcksfapbfkscgapbsgkafcpbcskfgapsfkagcbpfkscagbpfskagcbpskfcagbpfkscagbpsfkgacbpfkbscgapcgafkbsgpabkfscpabkgcfsgcpabkfspasbkfgcpabcgksfsfkpcgabspgbkfcaspakgfcbcgbkpasffkspcbagpkfsbgcacpkfgsbacbgsfapkcgpsakfbpfksgcabpcskfbgasbkpfcagfpkgbsacpabfgsckcpgfksabgfcspkobpkfsbagcpkfsbgacpbfkscgabpksfcgapagbkfscpcgafksbpcsbfkgapbskfgcapscgfbakpfkcbgsapkfsgcbapcfksagbpbcfskgapbfkcsgapcsfkbgapkfsabgcpkfsgcbapkfsgcbapkfsgcabpkfbscagpkbsfgcapkfbscgapkfsbgacpkfsagbcpkfsgcabpkfsgcbapkfsgcabpkfsacgbpkfsbcgapfskbcgapbkfscgapfskbgcahhsdbhhhdsgbhhsgdbhhdsbghhsgdbhhdsgbdsgbhhhhsdbghhsdgbhhsgdbhhsgdbhhsdgb'"
      ]
     },
     "execution_count": 5,
     "metadata": {},
     "output_type": "execute_result"
    }
   ],
   "source": [
    "data2 = data.replace('\\n','')\n",
    "data2"
   ]
  },
  {
   "cell_type": "code",
   "execution_count": 6,
   "metadata": {},
   "outputs": [
    {
     "data": {
      "text/plain": [
       "20"
      ]
     },
     "execution_count": 6,
     "metadata": {},
     "output_type": "execute_result"
    }
   ],
   "source": [
    "vocabulary = sorted(set(data2))\n",
    "#vocabulary.remove('\\n')\n",
    "len(vocabulary)"
   ]
  },
  {
   "cell_type": "markdown",
   "metadata": {},
   "source": [
    "### Vectorize text"
   ]
  },
  {
   "cell_type": "code",
   "execution_count": 7,
   "metadata": {},
   "outputs": [
    {
     "data": {
      "text/plain": [
       "<tf.RaggedTensor [[b'a', b'b', b'c', b'd', b'e', b'f', b'g'], [b'x', b'h', b'z']]>"
      ]
     },
     "execution_count": 7,
     "metadata": {},
     "output_type": "execute_result"
    }
   ],
   "source": [
    "example_texts = ['abcdefg', 'xhz']\n",
    "\n",
    "chars = tf.strings.unicode_split(example_texts, input_encoding='UTF-8')\n",
    "chars"
   ]
  },
  {
   "cell_type": "code",
   "execution_count": 8,
   "metadata": {},
   "outputs": [],
   "source": [
    "ids_from_chars = preprocessing.StringLookup(\n",
    "    vocabulary=list(vocabulary))"
   ]
  },
  {
   "cell_type": "code",
   "execution_count": 9,
   "metadata": {},
   "outputs": [
    {
     "data": {
      "text/plain": [
       "<tf.RaggedTensor [[3, 4, 5, 6, 7, 8, 9], [20, 10, 21]]>"
      ]
     },
     "execution_count": 9,
     "metadata": {},
     "output_type": "execute_result"
    }
   ],
   "source": [
    "ids = ids_from_chars(chars)\n",
    "ids"
   ]
  },
  {
   "cell_type": "code",
   "execution_count": 10,
   "metadata": {},
   "outputs": [],
   "source": [
    "chars_from_ids = tf.keras.layers.experimental.preprocessing.StringLookup(\n",
    "    vocabulary=ids_from_chars.get_vocabulary(), invert=True)"
   ]
  },
  {
   "cell_type": "code",
   "execution_count": null,
   "metadata": {},
   "outputs": [],
   "source": []
  },
  {
   "cell_type": "code",
   "execution_count": 11,
   "metadata": {},
   "outputs": [
    {
     "data": {
      "text/plain": [
       "<tf.RaggedTensor [[b'a', b'b', b'c', b'd', b'e', b'f', b'g'], [b'x', b'h', b'z']]>"
      ]
     },
     "execution_count": 11,
     "metadata": {},
     "output_type": "execute_result"
    }
   ],
   "source": [
    "chars = chars_from_ids(ids)\n",
    "chars"
   ]
  },
  {
   "cell_type": "code",
   "execution_count": 12,
   "metadata": {},
   "outputs": [
    {
     "data": {
      "text/plain": [
       "array([b'abcdefg', b'xhz'], dtype=object)"
      ]
     },
     "execution_count": 12,
     "metadata": {},
     "output_type": "execute_result"
    }
   ],
   "source": [
    "tf.strings.reduce_join(chars, axis=-1).numpy()"
   ]
  },
  {
   "cell_type": "code",
   "execution_count": 13,
   "metadata": {},
   "outputs": [],
   "source": [
    "def text_from_ids(ids):\n",
    "    return tf.strings.reduce_join(chars_from_ids(ids), axis=-1)"
   ]
  },
  {
   "cell_type": "markdown",
   "metadata": {},
   "source": [
    "### Create training samples + targets"
   ]
  },
  {
   "cell_type": "code",
   "execution_count": 14,
   "metadata": {},
   "outputs": [
    {
     "data": {
      "text/plain": [
       "<tf.Tensor: shape=(1412,), dtype=int64, numpy=array([15, 14,  5, ...,  6,  9,  4])>"
      ]
     },
     "execution_count": 14,
     "metadata": {},
     "output_type": "execute_result"
    }
   ],
   "source": [
    "all_ids = ids_from_chars(tf.strings.unicode_split(data2, 'UTF-8'))\n",
    "all_ids"
   ]
  },
  {
   "cell_type": "code",
   "execution_count": 15,
   "metadata": {},
   "outputs": [],
   "source": [
    "ids_dataset = tf.data.Dataset.from_tensor_slices(all_ids)"
   ]
  },
  {
   "cell_type": "code",
   "execution_count": 16,
   "metadata": {},
   "outputs": [
    {
     "name": "stdout",
     "output_type": "stream",
     "text": [
      "p\n",
      "o\n",
      "c\n",
      "g\n",
      "k\n",
      "r\n",
      "c\n",
      "g\n",
      "w\n",
      "p\n"
     ]
    }
   ],
   "source": [
    "for ids in ids_dataset.take(10):\n",
    "    print(chars_from_ids(ids).numpy().decode('utf-8'))"
   ]
  },
  {
   "cell_type": "code",
   "execution_count": 17,
   "metadata": {},
   "outputs": [],
   "source": [
    "seq_length = 8\n",
    "examples_per_epoch = len(data)//(seq_length+1)"
   ]
  },
  {
   "cell_type": "code",
   "execution_count": 18,
   "metadata": {},
   "outputs": [
    {
     "name": "stdout",
     "output_type": "stream",
     "text": [
      "tf.Tensor([b'p' b'o' b'c' b'g' b'k' b'r' b'c' b'g' b'w'], shape=(9,), dtype=string)\n"
     ]
    }
   ],
   "source": [
    "sequences = ids_dataset.batch(seq_length+1, drop_remainder=True)\n",
    "\n",
    "for seq in sequences.take(1):\n",
    "    print(chars_from_ids(seq))"
   ]
  },
  {
   "cell_type": "code",
   "execution_count": 19,
   "metadata": {},
   "outputs": [
    {
     "name": "stdout",
     "output_type": "stream",
     "text": [
      "b'pocgkrcgw'\n",
      "b'pcfkskfsf'\n",
      "b'kspwgpfks'\n",
      "b'wkfsococg'\n",
      "b'wptgkfsoc'\n"
     ]
    }
   ],
   "source": [
    "for seq in sequences.take(5):\n",
    "    print(text_from_ids(seq).numpy())"
   ]
  },
  {
   "cell_type": "code",
   "execution_count": 20,
   "metadata": {},
   "outputs": [],
   "source": [
    "def split_input_target(sequence):\n",
    "    input_text = sequence[:-1]\n",
    "    target_text = sequence[1:]\n",
    "    return input_text, target_text"
   ]
  },
  {
   "cell_type": "code",
   "execution_count": 21,
   "metadata": {},
   "outputs": [],
   "source": [
    "dataset = sequences.map(split_input_target)"
   ]
  },
  {
   "cell_type": "code",
   "execution_count": 22,
   "metadata": {},
   "outputs": [
    {
     "name": "stdout",
     "output_type": "stream",
     "text": [
      "Input : b'pocgkrcg'\n",
      "Target: b'ocgkrcgw'\n"
     ]
    }
   ],
   "source": [
    "for input_example, target_example in  dataset.take(1):\n",
    "    print(\"Input :\", text_from_ids(input_example).numpy())\n",
    "    print(\"Target:\", text_from_ids(target_example).numpy())"
   ]
  },
  {
   "cell_type": "markdown",
   "metadata": {},
   "source": [
    "### Create training batches"
   ]
  },
  {
   "cell_type": "code",
   "execution_count": 23,
   "metadata": {},
   "outputs": [
    {
     "data": {
      "text/plain": [
       "<PrefetchDataset shapes: ((64, 8), (64, 8)), types: (tf.int64, tf.int64)>"
      ]
     },
     "execution_count": 23,
     "metadata": {},
     "output_type": "execute_result"
    }
   ],
   "source": [
    "# Batch size\n",
    "BATCH_SIZE = 64\n",
    "\n",
    "# Buffer size to shuffle the dataset\n",
    "# (TF data is designed to work with possibly infinite sequences,\n",
    "# so it doesn't attempt to shuffle the entire sequence in memory. Instead,\n",
    "# it maintains a buffer in which it shuffles elements).\n",
    "BUFFER_SIZE = 10000\n",
    "\n",
    "dataset = (\n",
    "    dataset\n",
    "    .shuffle(BUFFER_SIZE)\n",
    "    .batch(BATCH_SIZE, drop_remainder=True)\n",
    "    .prefetch(tf.data.experimental.AUTOTUNE))\n",
    "\n",
    "dataset"
   ]
  },
  {
   "cell_type": "markdown",
   "metadata": {},
   "source": [
    "### Build model"
   ]
  },
  {
   "cell_type": "code",
   "execution_count": 24,
   "metadata": {},
   "outputs": [],
   "source": [
    "# Length of the vocabulary in chars\n",
    "vocab_size = len(vocabulary)\n",
    "\n",
    "# The embedding dimension\n",
    "embedding_dim = 256\n",
    "\n",
    "# Number of RNN units\n",
    "rnn_units = 1024"
   ]
  },
  {
   "cell_type": "code",
   "execution_count": 28,
   "metadata": {},
   "outputs": [],
   "source": [
    "class MyModel(tf.keras.Model):\n",
    "    def __init__(self, vocab_size, embedding_dim, rnn_units):\n",
    "        super().__init__(self)\n",
    "        self.embedding = tf.keras.layers.Embedding(vocab_size, embedding_dim)\n",
    "        self.LSTM = tf.keras.layers.LSTM(rnn_units,\n",
    "                                   return_sequences=True, \n",
    "                                   return_state=True)\n",
    "        self.dense = tf.keras.layers.Dense(vocab_size)\n",
    "\n",
    "    def call(self, inputs, states=None, return_state=False, training=False):\n",
    "        x = inputs\n",
    "        x = self.embedding(x, training=training)\n",
    "        if states is None:\n",
    "            states = self.LSTM.get_initial_state(x)\n",
    "        x, states = self.LSTM(x, initial_state=states, training=training)\n",
    "        x = self.dense(x, training=training)\n",
    "\n",
    "        if return_state:\n",
    "            return x, states\n",
    "        else: \n",
    "            return x"
   ]
  },
  {
   "cell_type": "code",
   "execution_count": 37,
   "metadata": {},
   "outputs": [],
   "source": [
    "model = MyModel(\n",
    "    # Be sure the vocabulary size matches the `StringLookup` layers.\n",
    "    vocab_size=len(ids_from_chars.get_vocabulary()),\n",
    "    embedding_dim=embedding_dim,\n",
    "    rnn_units=rnn_units)"
   ]
  },
  {
   "cell_type": "markdown",
   "metadata": {},
   "source": [
    "### Try out model"
   ]
  },
  {
   "cell_type": "code",
   "execution_count": 39,
   "metadata": {},
   "outputs": [
    {
     "ename": "ValueError",
     "evalue": "too many values to unpack (expected 2)",
     "output_type": "error",
     "traceback": [
      "\u001b[0;31m---------------------------------------------------------------------------\u001b[0m",
      "\u001b[0;31mValueError\u001b[0m                                Traceback (most recent call last)",
      "\u001b[0;32m<ipython-input-39-d5691f3250ba>\u001b[0m in \u001b[0;36m<module>\u001b[0;34m\u001b[0m\n\u001b[1;32m      1\u001b[0m \u001b[0;32mfor\u001b[0m \u001b[0minput_example_batch\u001b[0m\u001b[0;34m,\u001b[0m \u001b[0mtarget_example_batch\u001b[0m \u001b[0;32min\u001b[0m \u001b[0mdataset\u001b[0m\u001b[0;34m.\u001b[0m\u001b[0mtake\u001b[0m\u001b[0;34m(\u001b[0m\u001b[0;36m1\u001b[0m\u001b[0;34m)\u001b[0m\u001b[0;34m:\u001b[0m\u001b[0;34m\u001b[0m\u001b[0;34m\u001b[0m\u001b[0m\n\u001b[0;32m----> 2\u001b[0;31m     \u001b[0mexample_batch_predictions\u001b[0m \u001b[0;34m=\u001b[0m \u001b[0mmodel\u001b[0m\u001b[0;34m(\u001b[0m\u001b[0minput_example_batch\u001b[0m\u001b[0;34m)\u001b[0m\u001b[0;34m\u001b[0m\u001b[0;34m\u001b[0m\u001b[0m\n\u001b[0m\u001b[1;32m      3\u001b[0m     \u001b[0mprint\u001b[0m\u001b[0;34m(\u001b[0m\u001b[0mexample_batch_predictions\u001b[0m\u001b[0;34m.\u001b[0m\u001b[0mshape\u001b[0m\u001b[0;34m,\u001b[0m \u001b[0;34m\"# (batch_size, sequence_length, vocab_size)\"\u001b[0m\u001b[0;34m)\u001b[0m\u001b[0;34m\u001b[0m\u001b[0;34m\u001b[0m\u001b[0m\n",
      "\u001b[0;32m~/files/anaconda3/envs/tf/lib/python3.7/site-packages/tensorflow/python/keras/engine/base_layer.py\u001b[0m in \u001b[0;36m__call__\u001b[0;34m(self, *args, **kwargs)\u001b[0m\n\u001b[1;32m    983\u001b[0m \u001b[0;34m\u001b[0m\u001b[0m\n\u001b[1;32m    984\u001b[0m         \u001b[0;32mwith\u001b[0m \u001b[0mops\u001b[0m\u001b[0;34m.\u001b[0m\u001b[0menable_auto_cast_variables\u001b[0m\u001b[0;34m(\u001b[0m\u001b[0mself\u001b[0m\u001b[0;34m.\u001b[0m\u001b[0m_compute_dtype_object\u001b[0m\u001b[0;34m)\u001b[0m\u001b[0;34m:\u001b[0m\u001b[0;34m\u001b[0m\u001b[0;34m\u001b[0m\u001b[0m\n\u001b[0;32m--> 985\u001b[0;31m           \u001b[0moutputs\u001b[0m \u001b[0;34m=\u001b[0m \u001b[0mcall_fn\u001b[0m\u001b[0;34m(\u001b[0m\u001b[0minputs\u001b[0m\u001b[0;34m,\u001b[0m \u001b[0;34m*\u001b[0m\u001b[0margs\u001b[0m\u001b[0;34m,\u001b[0m \u001b[0;34m**\u001b[0m\u001b[0mkwargs\u001b[0m\u001b[0;34m)\u001b[0m\u001b[0;34m\u001b[0m\u001b[0;34m\u001b[0m\u001b[0m\n\u001b[0m\u001b[1;32m    986\u001b[0m \u001b[0;34m\u001b[0m\u001b[0m\n\u001b[1;32m    987\u001b[0m         \u001b[0;32mif\u001b[0m \u001b[0mself\u001b[0m\u001b[0;34m.\u001b[0m\u001b[0m_activity_regularizer\u001b[0m\u001b[0;34m:\u001b[0m\u001b[0;34m\u001b[0m\u001b[0;34m\u001b[0m\u001b[0m\n",
      "\u001b[0;32m<ipython-input-28-8948cb168526>\u001b[0m in \u001b[0;36mcall\u001b[0;34m(self, inputs, states, return_state, training)\u001b[0m\n\u001b[1;32m     13\u001b[0m         \u001b[0;32mif\u001b[0m \u001b[0mstates\u001b[0m \u001b[0;32mis\u001b[0m \u001b[0;32mNone\u001b[0m\u001b[0;34m:\u001b[0m\u001b[0;34m\u001b[0m\u001b[0;34m\u001b[0m\u001b[0m\n\u001b[1;32m     14\u001b[0m             \u001b[0mstates\u001b[0m \u001b[0;34m=\u001b[0m \u001b[0mself\u001b[0m\u001b[0;34m.\u001b[0m\u001b[0mLSTM\u001b[0m\u001b[0;34m.\u001b[0m\u001b[0mget_initial_state\u001b[0m\u001b[0;34m(\u001b[0m\u001b[0mx\u001b[0m\u001b[0;34m)\u001b[0m\u001b[0;34m\u001b[0m\u001b[0;34m\u001b[0m\u001b[0m\n\u001b[0;32m---> 15\u001b[0;31m         \u001b[0mx\u001b[0m\u001b[0;34m,\u001b[0m \u001b[0mstates\u001b[0m \u001b[0;34m=\u001b[0m \u001b[0mself\u001b[0m\u001b[0;34m.\u001b[0m\u001b[0mLSTM\u001b[0m\u001b[0;34m(\u001b[0m\u001b[0mx\u001b[0m\u001b[0;34m,\u001b[0m \u001b[0minitial_state\u001b[0m\u001b[0;34m=\u001b[0m\u001b[0mstates\u001b[0m\u001b[0;34m,\u001b[0m \u001b[0mtraining\u001b[0m\u001b[0;34m=\u001b[0m\u001b[0mtraining\u001b[0m\u001b[0;34m)\u001b[0m\u001b[0;34m\u001b[0m\u001b[0;34m\u001b[0m\u001b[0m\n\u001b[0m\u001b[1;32m     16\u001b[0m         \u001b[0mx\u001b[0m \u001b[0;34m=\u001b[0m \u001b[0mself\u001b[0m\u001b[0;34m.\u001b[0m\u001b[0mdense\u001b[0m\u001b[0;34m(\u001b[0m\u001b[0mx\u001b[0m\u001b[0;34m,\u001b[0m \u001b[0mtraining\u001b[0m\u001b[0;34m=\u001b[0m\u001b[0mtraining\u001b[0m\u001b[0;34m)\u001b[0m\u001b[0;34m\u001b[0m\u001b[0;34m\u001b[0m\u001b[0m\n\u001b[1;32m     17\u001b[0m \u001b[0;34m\u001b[0m\u001b[0m\n",
      "\u001b[0;31mValueError\u001b[0m: too many values to unpack (expected 2)"
     ]
    }
   ],
   "source": [
    "for input_example_batch, target_example_batch in dataset.take(1):\n",
    "    example_batch_predictions = model(input_example_batch)\n",
    "    print(example_batch_predictions.shape, \"# (batch_size, sequence_length, vocab_size)\")"
   ]
  },
  {
   "cell_type": "code",
   "execution_count": 33,
   "metadata": {},
   "outputs": [
    {
     "name": "stdout",
     "output_type": "stream",
     "text": [
      "Model: \"my_model_1\"\n",
      "_________________________________________________________________\n",
      "Layer (type)                 Output Shape              Param #   \n",
      "=================================================================\n",
      "embedding_1 (Embedding)      multiple                  5632      \n",
      "_________________________________________________________________\n",
      "lstm_1 (LSTM)                multiple                  5246976   \n",
      "_________________________________________________________________\n"
     ]
    },
    {
     "ename": "ValueError",
     "evalue": "You tried to call `count_params` on dense_1, but the layer isn't built. You can build it manually via: `dense_1.build(batch_input_shape)`.",
     "output_type": "error",
     "traceback": [
      "\u001b[0;31m---------------------------------------------------------------------------\u001b[0m",
      "\u001b[0;31mValueError\u001b[0m                                Traceback (most recent call last)",
      "\u001b[0;32m<ipython-input-33-5f15418b3570>\u001b[0m in \u001b[0;36m<module>\u001b[0;34m\u001b[0m\n\u001b[0;32m----> 1\u001b[0;31m \u001b[0mmodel\u001b[0m\u001b[0;34m.\u001b[0m\u001b[0msummary\u001b[0m\u001b[0;34m(\u001b[0m\u001b[0;34m)\u001b[0m\u001b[0;34m\u001b[0m\u001b[0;34m\u001b[0m\u001b[0m\n\u001b[0m",
      "\u001b[0;32m~/files/anaconda3/envs/tf/lib/python3.7/site-packages/tensorflow/python/keras/engine/training.py\u001b[0m in \u001b[0;36msummary\u001b[0;34m(self, line_length, positions, print_fn)\u001b[0m\n\u001b[1;32m   2357\u001b[0m                               \u001b[0mline_length\u001b[0m\u001b[0;34m=\u001b[0m\u001b[0mline_length\u001b[0m\u001b[0;34m,\u001b[0m\u001b[0;34m\u001b[0m\u001b[0;34m\u001b[0m\u001b[0m\n\u001b[1;32m   2358\u001b[0m                               \u001b[0mpositions\u001b[0m\u001b[0;34m=\u001b[0m\u001b[0mpositions\u001b[0m\u001b[0;34m,\u001b[0m\u001b[0;34m\u001b[0m\u001b[0;34m\u001b[0m\u001b[0m\n\u001b[0;32m-> 2359\u001b[0;31m                               print_fn=print_fn)\n\u001b[0m\u001b[1;32m   2360\u001b[0m \u001b[0;34m\u001b[0m\u001b[0m\n\u001b[1;32m   2361\u001b[0m   \u001b[0;34m@\u001b[0m\u001b[0mproperty\u001b[0m\u001b[0;34m\u001b[0m\u001b[0;34m\u001b[0m\u001b[0m\n",
      "\u001b[0;32m~/files/anaconda3/envs/tf/lib/python3.7/site-packages/tensorflow/python/keras/utils/layer_utils.py\u001b[0m in \u001b[0;36mprint_summary\u001b[0;34m(model, line_length, positions, print_fn)\u001b[0m\n\u001b[1;32m    251\u001b[0m   \u001b[0;32mfor\u001b[0m \u001b[0mi\u001b[0m \u001b[0;32min\u001b[0m \u001b[0mrange\u001b[0m\u001b[0;34m(\u001b[0m\u001b[0mlen\u001b[0m\u001b[0;34m(\u001b[0m\u001b[0mlayers\u001b[0m\u001b[0;34m)\u001b[0m\u001b[0;34m)\u001b[0m\u001b[0;34m:\u001b[0m\u001b[0;34m\u001b[0m\u001b[0;34m\u001b[0m\u001b[0m\n\u001b[1;32m    252\u001b[0m     \u001b[0;32mif\u001b[0m \u001b[0msequential_like\u001b[0m\u001b[0;34m:\u001b[0m\u001b[0;34m\u001b[0m\u001b[0;34m\u001b[0m\u001b[0m\n\u001b[0;32m--> 253\u001b[0;31m       \u001b[0mprint_layer_summary\u001b[0m\u001b[0;34m(\u001b[0m\u001b[0mlayers\u001b[0m\u001b[0;34m[\u001b[0m\u001b[0mi\u001b[0m\u001b[0;34m]\u001b[0m\u001b[0;34m)\u001b[0m\u001b[0;34m\u001b[0m\u001b[0;34m\u001b[0m\u001b[0m\n\u001b[0m\u001b[1;32m    254\u001b[0m     \u001b[0;32melse\u001b[0m\u001b[0;34m:\u001b[0m\u001b[0;34m\u001b[0m\u001b[0;34m\u001b[0m\u001b[0m\n\u001b[1;32m    255\u001b[0m       \u001b[0mprint_layer_summary_with_connections\u001b[0m\u001b[0;34m(\u001b[0m\u001b[0mlayers\u001b[0m\u001b[0;34m[\u001b[0m\u001b[0mi\u001b[0m\u001b[0;34m]\u001b[0m\u001b[0;34m)\u001b[0m\u001b[0;34m\u001b[0m\u001b[0;34m\u001b[0m\u001b[0m\n",
      "\u001b[0;32m~/files/anaconda3/envs/tf/lib/python3.7/site-packages/tensorflow/python/keras/utils/layer_utils.py\u001b[0m in \u001b[0;36mprint_layer_summary\u001b[0;34m(layer)\u001b[0m\n\u001b[1;32m    209\u001b[0m     \u001b[0mname\u001b[0m \u001b[0;34m=\u001b[0m \u001b[0mlayer\u001b[0m\u001b[0;34m.\u001b[0m\u001b[0mname\u001b[0m\u001b[0;34m\u001b[0m\u001b[0;34m\u001b[0m\u001b[0m\n\u001b[1;32m    210\u001b[0m     \u001b[0mcls_name\u001b[0m \u001b[0;34m=\u001b[0m \u001b[0mlayer\u001b[0m\u001b[0;34m.\u001b[0m\u001b[0m__class__\u001b[0m\u001b[0;34m.\u001b[0m\u001b[0m__name__\u001b[0m\u001b[0;34m\u001b[0m\u001b[0;34m\u001b[0m\u001b[0m\n\u001b[0;32m--> 211\u001b[0;31m     \u001b[0mfields\u001b[0m \u001b[0;34m=\u001b[0m \u001b[0;34m[\u001b[0m\u001b[0mname\u001b[0m \u001b[0;34m+\u001b[0m \u001b[0;34m' ('\u001b[0m \u001b[0;34m+\u001b[0m \u001b[0mcls_name\u001b[0m \u001b[0;34m+\u001b[0m \u001b[0;34m')'\u001b[0m\u001b[0;34m,\u001b[0m \u001b[0moutput_shape\u001b[0m\u001b[0;34m,\u001b[0m \u001b[0mlayer\u001b[0m\u001b[0;34m.\u001b[0m\u001b[0mcount_params\u001b[0m\u001b[0;34m(\u001b[0m\u001b[0;34m)\u001b[0m\u001b[0;34m]\u001b[0m\u001b[0;34m\u001b[0m\u001b[0;34m\u001b[0m\u001b[0m\n\u001b[0m\u001b[1;32m    212\u001b[0m     \u001b[0mprint_row\u001b[0m\u001b[0;34m(\u001b[0m\u001b[0mfields\u001b[0m\u001b[0;34m,\u001b[0m \u001b[0mpositions\u001b[0m\u001b[0;34m)\u001b[0m\u001b[0;34m\u001b[0m\u001b[0;34m\u001b[0m\u001b[0m\n\u001b[1;32m    213\u001b[0m \u001b[0;34m\u001b[0m\u001b[0m\n",
      "\u001b[0;32m~/files/anaconda3/envs/tf/lib/python3.7/site-packages/tensorflow/python/keras/engine/base_layer.py\u001b[0m in \u001b[0;36mcount_params\u001b[0;34m(self)\u001b[0m\n\u001b[1;32m   2157\u001b[0m                          \u001b[0;34m', but the layer isn\\'t built. '\u001b[0m\u001b[0;34m\u001b[0m\u001b[0;34m\u001b[0m\u001b[0m\n\u001b[1;32m   2158\u001b[0m                          \u001b[0;34m'You can build it manually via: `'\u001b[0m \u001b[0;34m+\u001b[0m \u001b[0mself\u001b[0m\u001b[0;34m.\u001b[0m\u001b[0mname\u001b[0m \u001b[0;34m+\u001b[0m\u001b[0;34m\u001b[0m\u001b[0;34m\u001b[0m\u001b[0m\n\u001b[0;32m-> 2159\u001b[0;31m                          '.build(batch_input_shape)`.')\n\u001b[0m\u001b[1;32m   2160\u001b[0m     \u001b[0;32mreturn\u001b[0m \u001b[0mlayer_utils\u001b[0m\u001b[0;34m.\u001b[0m\u001b[0mcount_params\u001b[0m\u001b[0;34m(\u001b[0m\u001b[0mself\u001b[0m\u001b[0;34m.\u001b[0m\u001b[0mweights\u001b[0m\u001b[0;34m)\u001b[0m\u001b[0;34m\u001b[0m\u001b[0;34m\u001b[0m\u001b[0m\n\u001b[1;32m   2161\u001b[0m \u001b[0;34m\u001b[0m\u001b[0m\n",
      "\u001b[0;31mValueError\u001b[0m: You tried to call `count_params` on dense_1, but the layer isn't built. You can build it manually via: `dense_1.build(batch_input_shape)`."
     ]
    }
   ],
   "source": [
    "\n",
    "model.summary()"
   ]
  },
  {
   "cell_type": "code",
   "execution_count": 40,
   "metadata": {},
   "outputs": [
    {
     "ename": "NameError",
     "evalue": "name 'example_batch_predictions' is not defined",
     "output_type": "error",
     "traceback": [
      "\u001b[0;31m---------------------------------------------------------------------------\u001b[0m",
      "\u001b[0;31mNameError\u001b[0m                                 Traceback (most recent call last)",
      "\u001b[0;32m<ipython-input-40-60a341594c52>\u001b[0m in \u001b[0;36m<module>\u001b[0;34m\u001b[0m\n\u001b[0;32m----> 1\u001b[0;31m \u001b[0msampled_indices\u001b[0m \u001b[0;34m=\u001b[0m \u001b[0mtf\u001b[0m\u001b[0;34m.\u001b[0m\u001b[0mrandom\u001b[0m\u001b[0;34m.\u001b[0m\u001b[0mcategorical\u001b[0m\u001b[0;34m(\u001b[0m\u001b[0mexample_batch_predictions\u001b[0m\u001b[0;34m[\u001b[0m\u001b[0;36m0\u001b[0m\u001b[0;34m]\u001b[0m\u001b[0;34m,\u001b[0m \u001b[0mnum_samples\u001b[0m\u001b[0;34m=\u001b[0m\u001b[0;36m1\u001b[0m\u001b[0;34m)\u001b[0m\u001b[0;34m\u001b[0m\u001b[0;34m\u001b[0m\u001b[0m\n\u001b[0m\u001b[1;32m      2\u001b[0m \u001b[0msampled_indices\u001b[0m \u001b[0;34m=\u001b[0m \u001b[0mtf\u001b[0m\u001b[0;34m.\u001b[0m\u001b[0msqueeze\u001b[0m\u001b[0;34m(\u001b[0m\u001b[0msampled_indices\u001b[0m\u001b[0;34m,\u001b[0m\u001b[0maxis\u001b[0m\u001b[0;34m=\u001b[0m\u001b[0;34m-\u001b[0m\u001b[0;36m1\u001b[0m\u001b[0;34m)\u001b[0m\u001b[0;34m.\u001b[0m\u001b[0mnumpy\u001b[0m\u001b[0;34m(\u001b[0m\u001b[0;34m)\u001b[0m\u001b[0;34m\u001b[0m\u001b[0;34m\u001b[0m\u001b[0m\n",
      "\u001b[0;31mNameError\u001b[0m: name 'example_batch_predictions' is not defined"
     ]
    }
   ],
   "source": [
    "sampled_indices = tf.random.categorical(example_batch_predictions[0], num_samples=1)\n",
    "sampled_indices = tf.squeeze(sampled_indices,axis=-1).numpy()"
   ]
  },
  {
   "cell_type": "code",
   "execution_count": 31,
   "metadata": {},
   "outputs": [
    {
     "name": "stdout",
     "output_type": "stream",
     "text": [
      "Input:\n",
      " b'wterfkfp'\n",
      "\n",
      "Next Char Predictions:\n",
      " b'IdxzbpIc'\n"
     ]
    }
   ],
   "source": [
    "print(\"Input:\\n\", text_from_ids(input_example_batch[0]).numpy())\n",
    "print()\n",
    "print(\"Next Char Predictions:\\n\", text_from_ids(sampled_indices).numpy())"
   ]
  },
  {
   "cell_type": "markdown",
   "metadata": {},
   "source": [
    "### Train model"
   ]
  },
  {
   "cell_type": "code",
   "execution_count": 32,
   "metadata": {},
   "outputs": [],
   "source": [
    "loss = tf.losses.SparseCategoricalCrossentropy(from_logits=True)"
   ]
  },
  {
   "cell_type": "code",
   "execution_count": 33,
   "metadata": {},
   "outputs": [
    {
     "name": "stdout",
     "output_type": "stream",
     "text": [
      "Prediction shape:  (64, 8, 22)  # (batch_size, sequence_length, vocab_size)\n",
      "Mean loss:         3.0907843\n"
     ]
    }
   ],
   "source": [
    "example_batch_loss = loss(target_example_batch, example_batch_predictions)\n",
    "mean_loss = example_batch_loss.numpy().mean()\n",
    "print(\"Prediction shape: \", example_batch_predictions.shape, \" # (batch_size, sequence_length, vocab_size)\")\n",
    "print(\"Mean loss:        \", mean_loss)"
   ]
  },
  {
   "cell_type": "code",
   "execution_count": 34,
   "metadata": {},
   "outputs": [
    {
     "data": {
      "text/plain": [
       "21.994322"
      ]
     },
     "execution_count": 34,
     "metadata": {},
     "output_type": "execute_result"
    }
   ],
   "source": [
    "tf.exp(mean_loss).numpy()"
   ]
  },
  {
   "cell_type": "code",
   "execution_count": 35,
   "metadata": {},
   "outputs": [],
   "source": [
    "model.compile(optimizer='adam', loss=loss)"
   ]
  },
  {
   "cell_type": "code",
   "execution_count": 47,
   "metadata": {},
   "outputs": [],
   "source": [
    "epochs = 300"
   ]
  },
  {
   "cell_type": "code",
   "execution_count": 48,
   "metadata": {},
   "outputs": [
    {
     "name": "stdout",
     "output_type": "stream",
     "text": [
      "Epoch 1/300\n",
      "2/2 [==============================] - 0s 60ms/step - loss: 0.3969\n",
      "Epoch 2/300\n",
      "2/2 [==============================] - 0s 57ms/step - loss: 0.4073\n",
      "Epoch 3/300\n",
      "2/2 [==============================] - 0s 57ms/step - loss: 0.4028\n",
      "Epoch 4/300\n",
      "2/2 [==============================] - 0s 55ms/step - loss: 0.4033\n",
      "Epoch 5/300\n",
      "2/2 [==============================] - 0s 61ms/step - loss: 0.3924\n",
      "Epoch 6/300\n",
      "2/2 [==============================] - 0s 70ms/step - loss: 0.3919\n",
      "Epoch 7/300\n",
      "2/2 [==============================] - 0s 68ms/step - loss: 0.3868\n",
      "Epoch 8/300\n",
      "2/2 [==============================] - 0s 59ms/step - loss: 0.3875\n",
      "Epoch 9/300\n",
      "2/2 [==============================] - 0s 62ms/step - loss: 0.3779\n",
      "Epoch 10/300\n",
      "2/2 [==============================] - 0s 60ms/step - loss: 0.3798\n",
      "Epoch 11/300\n",
      "2/2 [==============================] - 0s 60ms/step - loss: 0.3787\n",
      "Epoch 12/300\n",
      "2/2 [==============================] - 0s 63ms/step - loss: 0.3713\n",
      "Epoch 13/300\n",
      "2/2 [==============================] - 0s 56ms/step - loss: 0.3688\n",
      "Epoch 14/300\n",
      "2/2 [==============================] - 0s 57ms/step - loss: 0.3757\n",
      "Epoch 15/300\n",
      "2/2 [==============================] - 0s 59ms/step - loss: 0.3671\n",
      "Epoch 16/300\n",
      "2/2 [==============================] - 0s 55ms/step - loss: 0.3627\n",
      "Epoch 17/300\n",
      "2/2 [==============================] - 0s 70ms/step - loss: 0.3608\n",
      "Epoch 18/300\n",
      "2/2 [==============================] - 0s 67ms/step - loss: 0.3651\n",
      "Epoch 19/300\n",
      "2/2 [==============================] - 0s 65ms/step - loss: 0.3611\n",
      "Epoch 20/300\n",
      "2/2 [==============================] - 0s 60ms/step - loss: 0.3634\n",
      "Epoch 21/300\n",
      "2/2 [==============================] - 0s 64ms/step - loss: 0.3619\n",
      "Epoch 22/300\n",
      "2/2 [==============================] - 0s 58ms/step - loss: 0.3555\n",
      "Epoch 23/300\n",
      "2/2 [==============================] - 0s 61ms/step - loss: 0.3595\n",
      "Epoch 24/300\n",
      "2/2 [==============================] - 0s 57ms/step - loss: 0.3584\n",
      "Epoch 25/300\n",
      "2/2 [==============================] - 0s 57ms/step - loss: 0.3525\n",
      "Epoch 26/300\n",
      "2/2 [==============================] - 0s 62ms/step - loss: 0.3448\n",
      "Epoch 27/300\n",
      "2/2 [==============================] - 0s 55ms/step - loss: 0.3500\n",
      "Epoch 28/300\n",
      "2/2 [==============================] - 0s 58ms/step - loss: 0.3511\n",
      "Epoch 29/300\n",
      "2/2 [==============================] - 0s 60ms/step - loss: 0.3513\n",
      "Epoch 30/300\n",
      "2/2 [==============================] - 0s 60ms/step - loss: 0.3468\n",
      "Epoch 31/300\n",
      "2/2 [==============================] - 0s 60ms/step - loss: 0.3463\n",
      "Epoch 32/300\n",
      "2/2 [==============================] - 0s 56ms/step - loss: 0.3486\n",
      "Epoch 33/300\n",
      "2/2 [==============================] - 0s 57ms/step - loss: 0.3464\n",
      "Epoch 34/300\n",
      "2/2 [==============================] - 0s 58ms/step - loss: 0.3442\n",
      "Epoch 35/300\n",
      "2/2 [==============================] - 0s 62ms/step - loss: 0.3418\n",
      "Epoch 36/300\n",
      "2/2 [==============================] - 0s 60ms/step - loss: 0.3416\n",
      "Epoch 37/300\n",
      "2/2 [==============================] - 0s 60ms/step - loss: 0.3370\n",
      "Epoch 38/300\n",
      "2/2 [==============================] - 0s 57ms/step - loss: 0.3387\n",
      "Epoch 39/300\n",
      "2/2 [==============================] - 0s 54ms/step - loss: 0.3365\n",
      "Epoch 40/300\n",
      "2/2 [==============================] - 0s 57ms/step - loss: 0.3400\n",
      "Epoch 41/300\n",
      "2/2 [==============================] - 0s 58ms/step - loss: 0.3393\n",
      "Epoch 42/300\n",
      "2/2 [==============================] - 0s 58ms/step - loss: 0.3362\n",
      "Epoch 43/300\n",
      "2/2 [==============================] - 0s 60ms/step - loss: 0.3298\n",
      "Epoch 44/300\n",
      "2/2 [==============================] - 0s 57ms/step - loss: 0.3339\n",
      "Epoch 45/300\n",
      "2/2 [==============================] - 0s 58ms/step - loss: 0.3334\n",
      "Epoch 46/300\n",
      "2/2 [==============================] - 0s 60ms/step - loss: 0.3410\n",
      "Epoch 47/300\n",
      "2/2 [==============================] - 0s 57ms/step - loss: 0.3329\n",
      "Epoch 48/300\n",
      "2/2 [==============================] - 0s 57ms/step - loss: 0.3359\n",
      "Epoch 49/300\n",
      "2/2 [==============================] - 0s 61ms/step - loss: 0.3337\n",
      "Epoch 50/300\n",
      "2/2 [==============================] - 0s 63ms/step - loss: 0.3382\n",
      "Epoch 51/300\n",
      "2/2 [==============================] - 0s 61ms/step - loss: 0.3332\n",
      "Epoch 52/300\n",
      "2/2 [==============================] - 0s 66ms/step - loss: 0.3299\n",
      "Epoch 53/300\n",
      "2/2 [==============================] - 0s 62ms/step - loss: 0.3347\n",
      "Epoch 54/300\n",
      "2/2 [==============================] - 0s 59ms/step - loss: 0.3340\n",
      "Epoch 55/300\n",
      "2/2 [==============================] - 0s 55ms/step - loss: 0.3258\n",
      "Epoch 56/300\n",
      "2/2 [==============================] - 0s 58ms/step - loss: 0.3301\n",
      "Epoch 57/300\n",
      "2/2 [==============================] - 0s 60ms/step - loss: 0.3360\n",
      "Epoch 58/300\n",
      "2/2 [==============================] - 0s 58ms/step - loss: 0.3291\n",
      "Epoch 59/300\n",
      "2/2 [==============================] - 0s 66ms/step - loss: 0.3270\n",
      "Epoch 60/300\n",
      "2/2 [==============================] - 0s 63ms/step - loss: 0.3280\n",
      "Epoch 61/300\n",
      "2/2 [==============================] - 0s 59ms/step - loss: 0.3294\n",
      "Epoch 62/300\n",
      "2/2 [==============================] - 0s 56ms/step - loss: 0.3336\n",
      "Epoch 63/300\n",
      "2/2 [==============================] - 0s 55ms/step - loss: 0.3314\n",
      "Epoch 64/300\n",
      "2/2 [==============================] - 0s 56ms/step - loss: 0.3277\n",
      "Epoch 65/300\n",
      "2/2 [==============================] - 0s 54ms/step - loss: 0.3309\n",
      "Epoch 66/300\n",
      "2/2 [==============================] - 0s 56ms/step - loss: 0.3274\n",
      "Epoch 67/300\n",
      "2/2 [==============================] - 0s 58ms/step - loss: 0.3397\n",
      "Epoch 68/300\n",
      "2/2 [==============================] - 0s 56ms/step - loss: 0.3294\n",
      "Epoch 69/300\n",
      "2/2 [==============================] - 0s 57ms/step - loss: 0.3242\n",
      "Epoch 70/300\n",
      "2/2 [==============================] - 0s 53ms/step - loss: 0.3256\n",
      "Epoch 71/300\n",
      "2/2 [==============================] - 0s 54ms/step - loss: 0.3297\n",
      "Epoch 72/300\n",
      "2/2 [==============================] - 0s 58ms/step - loss: 0.3267\n",
      "Epoch 73/300\n",
      "2/2 [==============================] - 0s 54ms/step - loss: 0.3283\n",
      "Epoch 74/300\n",
      "2/2 [==============================] - 0s 57ms/step - loss: 0.3276\n",
      "Epoch 75/300\n",
      "2/2 [==============================] - 0s 60ms/step - loss: 0.3291\n",
      "Epoch 76/300\n",
      "2/2 [==============================] - 0s 55ms/step - loss: 0.3272\n",
      "Epoch 77/300\n",
      "2/2 [==============================] - 0s 57ms/step - loss: 0.3238\n",
      "Epoch 78/300\n",
      "2/2 [==============================] - 0s 58ms/step - loss: 0.3314\n",
      "Epoch 79/300\n",
      "2/2 [==============================] - 0s 52ms/step - loss: 0.3273\n",
      "Epoch 80/300\n",
      "2/2 [==============================] - 0s 54ms/step - loss: 0.3283\n",
      "Epoch 81/300\n",
      "2/2 [==============================] - 0s 53ms/step - loss: 0.3250\n",
      "Epoch 82/300\n",
      "2/2 [==============================] - 0s 60ms/step - loss: 0.3247\n",
      "Epoch 83/300\n",
      "2/2 [==============================] - 0s 54ms/step - loss: 0.3259\n",
      "Epoch 84/300\n",
      "2/2 [==============================] - 0s 53ms/step - loss: 0.3302\n",
      "Epoch 85/300\n",
      "2/2 [==============================] - 0s 55ms/step - loss: 0.3226\n",
      "Epoch 86/300\n",
      "2/2 [==============================] - 0s 61ms/step - loss: 0.3244\n",
      "Epoch 87/300\n",
      "2/2 [==============================] - 0s 59ms/step - loss: 0.3183\n",
      "Epoch 88/300\n",
      "2/2 [==============================] - 0s 56ms/step - loss: 0.3248\n",
      "Epoch 89/300\n",
      "2/2 [==============================] - 0s 59ms/step - loss: 0.3216\n",
      "Epoch 90/300\n",
      "2/2 [==============================] - 0s 60ms/step - loss: 0.3299\n",
      "Epoch 91/300\n",
      "2/2 [==============================] - 0s 57ms/step - loss: 0.3264\n",
      "Epoch 92/300\n",
      "2/2 [==============================] - 0s 55ms/step - loss: 0.3248\n",
      "Epoch 93/300\n",
      "2/2 [==============================] - 0s 56ms/step - loss: 0.3255\n",
      "Epoch 94/300\n",
      "2/2 [==============================] - 0s 61ms/step - loss: 0.3198\n",
      "Epoch 95/300\n",
      "2/2 [==============================] - 0s 57ms/step - loss: 0.3275\n",
      "Epoch 96/300\n",
      "2/2 [==============================] - 0s 56ms/step - loss: 0.3253\n",
      "Epoch 97/300\n",
      "2/2 [==============================] - 0s 53ms/step - loss: 0.3241\n",
      "Epoch 98/300\n",
      "2/2 [==============================] - 0s 60ms/step - loss: 0.3234\n",
      "Epoch 99/300\n",
      "2/2 [==============================] - 0s 55ms/step - loss: 0.3311\n",
      "Epoch 100/300\n",
      "2/2 [==============================] - 0s 56ms/step - loss: 0.3293\n",
      "Epoch 101/300\n",
      "2/2 [==============================] - 0s 58ms/step - loss: 0.3267\n",
      "Epoch 102/300\n",
      "2/2 [==============================] - 0s 56ms/step - loss: 0.3180\n",
      "Epoch 103/300\n",
      "2/2 [==============================] - 0s 57ms/step - loss: 0.3227\n",
      "Epoch 104/300\n",
      "2/2 [==============================] - 0s 57ms/step - loss: 0.3216\n",
      "Epoch 105/300\n",
      "2/2 [==============================] - 0s 54ms/step - loss: 0.3246\n",
      "Epoch 106/300\n",
      "2/2 [==============================] - 0s 53ms/step - loss: 0.3182\n",
      "Epoch 107/300\n",
      "2/2 [==============================] - 0s 61ms/step - loss: 0.3199\n",
      "Epoch 108/300\n",
      "2/2 [==============================] - 0s 61ms/step - loss: 0.3215\n",
      "Epoch 109/300\n",
      "2/2 [==============================] - 0s 57ms/step - loss: 0.3270\n",
      "Epoch 110/300\n",
      "2/2 [==============================] - 0s 54ms/step - loss: 0.3195\n",
      "Epoch 111/300\n",
      "2/2 [==============================] - 0s 56ms/step - loss: 0.3234\n",
      "Epoch 112/300\n",
      "2/2 [==============================] - 0s 62ms/step - loss: 0.3249\n",
      "Epoch 113/300\n",
      "2/2 [==============================] - 0s 56ms/step - loss: 0.3288\n",
      "Epoch 114/300\n",
      "2/2 [==============================] - 0s 54ms/step - loss: 0.3210\n",
      "Epoch 115/300\n",
      "2/2 [==============================] - 0s 61ms/step - loss: 0.3205\n",
      "Epoch 116/300\n",
      "2/2 [==============================] - 0s 57ms/step - loss: 0.3257\n",
      "Epoch 117/300\n",
      "2/2 [==============================] - 0s 52ms/step - loss: 0.3199\n",
      "Epoch 118/300\n",
      "2/2 [==============================] - 0s 54ms/step - loss: 0.3238\n",
      "Epoch 119/300\n",
      "2/2 [==============================] - 0s 56ms/step - loss: 0.3224\n",
      "Epoch 120/300\n",
      "2/2 [==============================] - 0s 53ms/step - loss: 0.3261\n",
      "Epoch 121/300\n",
      "2/2 [==============================] - 0s 53ms/step - loss: 0.3252\n",
      "Epoch 122/300\n",
      "2/2 [==============================] - 0s 55ms/step - loss: 0.3201\n",
      "Epoch 123/300\n",
      "2/2 [==============================] - 0s 56ms/step - loss: 0.3217\n",
      "Epoch 124/300\n",
      "2/2 [==============================] - 0s 56ms/step - loss: 0.3212\n",
      "Epoch 125/300\n",
      "2/2 [==============================] - 0s 58ms/step - loss: 0.3220\n",
      "Epoch 126/300\n",
      "2/2 [==============================] - 0s 59ms/step - loss: 0.3258\n",
      "Epoch 127/300\n",
      "2/2 [==============================] - 0s 58ms/step - loss: 0.3204\n",
      "Epoch 128/300\n",
      "2/2 [==============================] - 0s 55ms/step - loss: 0.3179\n",
      "Epoch 129/300\n",
      "2/2 [==============================] - 0s 55ms/step - loss: 0.3197\n",
      "Epoch 130/300\n",
      "2/2 [==============================] - 0s 53ms/step - loss: 0.3241\n",
      "Epoch 131/300\n",
      "2/2 [==============================] - 0s 58ms/step - loss: 0.3210\n",
      "Epoch 132/300\n",
      "2/2 [==============================] - 0s 53ms/step - loss: 0.3190\n",
      "Epoch 133/300\n",
      "2/2 [==============================] - 0s 57ms/step - loss: 0.3242\n",
      "Epoch 134/300\n",
      "2/2 [==============================] - 0s 54ms/step - loss: 0.3191\n",
      "Epoch 135/300\n",
      "2/2 [==============================] - 0s 55ms/step - loss: 0.3253\n",
      "Epoch 136/300\n",
      "2/2 [==============================] - 0s 60ms/step - loss: 0.3161\n",
      "Epoch 137/300\n",
      "2/2 [==============================] - 0s 55ms/step - loss: 0.3220\n",
      "Epoch 138/300\n",
      "2/2 [==============================] - 0s 58ms/step - loss: 0.3210\n",
      "Epoch 139/300\n",
      "2/2 [==============================] - 0s 58ms/step - loss: 0.3213\n",
      "Epoch 140/300\n",
      "2/2 [==============================] - 0s 60ms/step - loss: 0.3200\n",
      "Epoch 141/300\n",
      "2/2 [==============================] - 0s 53ms/step - loss: 0.3151\n",
      "Epoch 142/300\n",
      "2/2 [==============================] - 0s 59ms/step - loss: 0.3213\n",
      "Epoch 143/300\n",
      "2/2 [==============================] - 0s 53ms/step - loss: 0.3249\n",
      "Epoch 144/300\n",
      "2/2 [==============================] - 0s 54ms/step - loss: 0.3181\n",
      "Epoch 145/300\n",
      "2/2 [==============================] - 0s 58ms/step - loss: 0.3178\n",
      "Epoch 146/300\n",
      "2/2 [==============================] - 0s 53ms/step - loss: 0.3159\n",
      "Epoch 147/300\n",
      "2/2 [==============================] - 0s 55ms/step - loss: 0.3217\n",
      "Epoch 148/300\n",
      "2/2 [==============================] - 0s 53ms/step - loss: 0.3205\n",
      "Epoch 149/300\n",
      "2/2 [==============================] - 0s 55ms/step - loss: 0.3194\n",
      "Epoch 150/300\n",
      "2/2 [==============================] - 0s 58ms/step - loss: 0.3241\n",
      "Epoch 151/300\n",
      "2/2 [==============================] - 0s 60ms/step - loss: 0.3135\n",
      "Epoch 152/300\n",
      "2/2 [==============================] - 0s 59ms/step - loss: 0.3194\n",
      "Epoch 153/300\n",
      "2/2 [==============================] - 0s 52ms/step - loss: 0.3140\n",
      "Epoch 154/300\n",
      "2/2 [==============================] - 0s 59ms/step - loss: 0.3156\n",
      "Epoch 155/300\n",
      "2/2 [==============================] - 0s 54ms/step - loss: 0.3179\n",
      "Epoch 156/300\n",
      "2/2 [==============================] - 0s 62ms/step - loss: 0.3178\n",
      "Epoch 157/300\n",
      "2/2 [==============================] - 0s 52ms/step - loss: 0.3266\n",
      "Epoch 158/300\n",
      "2/2 [==============================] - 0s 57ms/step - loss: 0.3201\n",
      "Epoch 159/300\n",
      "2/2 [==============================] - 0s 59ms/step - loss: 0.3265\n",
      "Epoch 160/300\n",
      "2/2 [==============================] - 0s 56ms/step - loss: 0.3195\n",
      "Epoch 161/300\n",
      "2/2 [==============================] - 0s 59ms/step - loss: 0.3233\n",
      "Epoch 162/300\n",
      "2/2 [==============================] - 0s 54ms/step - loss: 0.3180\n",
      "Epoch 163/300\n",
      "2/2 [==============================] - 0s 54ms/step - loss: 0.3183\n",
      "Epoch 164/300\n",
      "2/2 [==============================] - 0s 57ms/step - loss: 0.3163\n",
      "Epoch 165/300\n",
      "2/2 [==============================] - 0s 57ms/step - loss: 0.3191\n",
      "Epoch 166/300\n",
      "2/2 [==============================] - 0s 59ms/step - loss: 0.3163\n",
      "Epoch 167/300\n",
      "2/2 [==============================] - 0s 59ms/step - loss: 0.3200\n",
      "Epoch 168/300\n",
      "2/2 [==============================] - 0s 58ms/step - loss: 0.3128\n",
      "Epoch 169/300\n",
      "2/2 [==============================] - 0s 60ms/step - loss: 0.3191\n",
      "Epoch 170/300\n",
      "2/2 [==============================] - 0s 60ms/step - loss: 0.3176\n",
      "Epoch 171/300\n",
      "2/2 [==============================] - 0s 57ms/step - loss: 0.3186\n",
      "Epoch 172/300\n",
      "2/2 [==============================] - 0s 57ms/step - loss: 0.3239\n",
      "Epoch 173/300\n",
      "2/2 [==============================] - 0s 58ms/step - loss: 0.3199\n",
      "Epoch 174/300\n",
      "2/2 [==============================] - 0s 55ms/step - loss: 0.3180\n",
      "Epoch 175/300\n",
      "2/2 [==============================] - 0s 57ms/step - loss: 0.3225\n",
      "Epoch 176/300\n",
      "2/2 [==============================] - 0s 54ms/step - loss: 0.3153\n",
      "Epoch 177/300\n",
      "2/2 [==============================] - 0s 55ms/step - loss: 0.3292\n",
      "Epoch 178/300\n",
      "2/2 [==============================] - 0s 59ms/step - loss: 0.3185\n",
      "Epoch 179/300\n",
      "2/2 [==============================] - 0s 52ms/step - loss: 0.3217\n",
      "Epoch 180/300\n",
      "2/2 [==============================] - 0s 55ms/step - loss: 0.3224\n",
      "Epoch 181/300\n",
      "2/2 [==============================] - 0s 58ms/step - loss: 0.3137\n",
      "Epoch 182/300\n",
      "2/2 [==============================] - 0s 60ms/step - loss: 0.3193\n",
      "Epoch 183/300\n",
      "2/2 [==============================] - 0s 55ms/step - loss: 0.3210\n",
      "Epoch 184/300\n",
      "2/2 [==============================] - 0s 61ms/step - loss: 0.3162\n",
      "Epoch 185/300\n",
      "2/2 [==============================] - 0s 57ms/step - loss: 0.3183\n",
      "Epoch 186/300\n",
      "2/2 [==============================] - 0s 57ms/step - loss: 0.3202\n",
      "Epoch 187/300\n",
      "2/2 [==============================] - 0s 60ms/step - loss: 0.3248\n",
      "Epoch 188/300\n",
      "2/2 [==============================] - 0s 58ms/step - loss: 0.3179\n",
      "Epoch 189/300\n",
      "2/2 [==============================] - 0s 59ms/step - loss: 0.3206\n",
      "Epoch 190/300\n",
      "2/2 [==============================] - 0s 60ms/step - loss: 0.3233\n",
      "Epoch 191/300\n",
      "2/2 [==============================] - 0s 58ms/step - loss: 0.3150\n",
      "Epoch 192/300\n",
      "2/2 [==============================] - 0s 56ms/step - loss: 0.3165\n",
      "Epoch 193/300\n",
      "2/2 [==============================] - 0s 55ms/step - loss: 0.3240\n",
      "Epoch 194/300\n",
      "2/2 [==============================] - 0s 58ms/step - loss: 0.3178\n",
      "Epoch 195/300\n",
      "2/2 [==============================] - 0s 60ms/step - loss: 0.3210\n",
      "Epoch 196/300\n",
      "2/2 [==============================] - 0s 56ms/step - loss: 0.3225\n",
      "Epoch 197/300\n",
      "2/2 [==============================] - 0s 54ms/step - loss: 0.3144\n",
      "Epoch 198/300\n",
      "2/2 [==============================] - 0s 52ms/step - loss: 0.3261\n",
      "Epoch 199/300\n",
      "2/2 [==============================] - 0s 56ms/step - loss: 0.3203\n",
      "Epoch 200/300\n",
      "2/2 [==============================] - 0s 55ms/step - loss: 0.3179\n",
      "Epoch 201/300\n",
      "2/2 [==============================] - 0s 53ms/step - loss: 0.3163\n",
      "Epoch 202/300\n",
      "2/2 [==============================] - 0s 57ms/step - loss: 0.3209\n",
      "Epoch 203/300\n",
      "2/2 [==============================] - 0s 58ms/step - loss: 0.3268\n",
      "Epoch 204/300\n"
     ]
    },
    {
     "name": "stdout",
     "output_type": "stream",
     "text": [
      "2/2 [==============================] - 0s 59ms/step - loss: 0.3152\n",
      "Epoch 205/300\n",
      "2/2 [==============================] - 0s 56ms/step - loss: 0.3155\n",
      "Epoch 206/300\n",
      "2/2 [==============================] - 0s 58ms/step - loss: 0.3153\n",
      "Epoch 207/300\n",
      "2/2 [==============================] - 0s 60ms/step - loss: 0.3136\n",
      "Epoch 208/300\n",
      "2/2 [==============================] - 0s 55ms/step - loss: 0.3194\n",
      "Epoch 209/300\n",
      "2/2 [==============================] - 0s 58ms/step - loss: 0.3233\n",
      "Epoch 210/300\n",
      "2/2 [==============================] - 0s 54ms/step - loss: 0.3141\n",
      "Epoch 211/300\n",
      "2/2 [==============================] - 0s 57ms/step - loss: 0.3237\n",
      "Epoch 212/300\n",
      "2/2 [==============================] - 0s 52ms/step - loss: 0.3238\n",
      "Epoch 213/300\n",
      "2/2 [==============================] - 0s 57ms/step - loss: 0.3201\n",
      "Epoch 214/300\n",
      "2/2 [==============================] - 0s 58ms/step - loss: 0.3183\n",
      "Epoch 215/300\n",
      "2/2 [==============================] - 0s 58ms/step - loss: 0.3159\n",
      "Epoch 216/300\n",
      "2/2 [==============================] - 0s 58ms/step - loss: 0.3166\n",
      "Epoch 217/300\n",
      "2/2 [==============================] - 0s 55ms/step - loss: 0.3179\n",
      "Epoch 218/300\n",
      "2/2 [==============================] - 0s 52ms/step - loss: 0.3181\n",
      "Epoch 219/300\n",
      "2/2 [==============================] - 0s 54ms/step - loss: 0.3201\n",
      "Epoch 220/300\n",
      "2/2 [==============================] - 0s 57ms/step - loss: 0.3144\n",
      "Epoch 221/300\n",
      "2/2 [==============================] - 0s 56ms/step - loss: 0.3176\n",
      "Epoch 222/300\n",
      "2/2 [==============================] - 0s 55ms/step - loss: 0.3161\n",
      "Epoch 223/300\n",
      "2/2 [==============================] - 0s 56ms/step - loss: 0.3195\n",
      "Epoch 224/300\n",
      "2/2 [==============================] - 0s 55ms/step - loss: 0.3197\n",
      "Epoch 225/300\n",
      "2/2 [==============================] - 0s 62ms/step - loss: 0.3218\n",
      "Epoch 226/300\n",
      "2/2 [==============================] - 0s 51ms/step - loss: 0.3144\n",
      "Epoch 227/300\n",
      "2/2 [==============================] - 0s 54ms/step - loss: 0.3133\n",
      "Epoch 228/300\n",
      "2/2 [==============================] - 0s 59ms/step - loss: 0.3187\n",
      "Epoch 229/300\n",
      "2/2 [==============================] - 0s 61ms/step - loss: 0.3091\n",
      "Epoch 230/300\n",
      "2/2 [==============================] - 0s 61ms/step - loss: 0.3157\n",
      "Epoch 231/300\n",
      "2/2 [==============================] - 0s 58ms/step - loss: 0.3195\n",
      "Epoch 232/300\n",
      "2/2 [==============================] - 0s 62ms/step - loss: 0.3219\n",
      "Epoch 233/300\n",
      "2/2 [==============================] - 0s 59ms/step - loss: 0.3216\n",
      "Epoch 234/300\n",
      "2/2 [==============================] - 0s 55ms/step - loss: 0.3133\n",
      "Epoch 235/300\n",
      "2/2 [==============================] - 0s 56ms/step - loss: 0.3183\n",
      "Epoch 236/300\n",
      "2/2 [==============================] - 0s 55ms/step - loss: 0.3153\n",
      "Epoch 237/300\n",
      "2/2 [==============================] - 0s 59ms/step - loss: 0.3164\n",
      "Epoch 238/300\n",
      "2/2 [==============================] - 0s 54ms/step - loss: 0.3250\n",
      "Epoch 239/300\n",
      "2/2 [==============================] - 0s 59ms/step - loss: 0.3202\n",
      "Epoch 240/300\n",
      "2/2 [==============================] - 0s 55ms/step - loss: 0.3198\n",
      "Epoch 241/300\n",
      "2/2 [==============================] - 0s 54ms/step - loss: 0.3124\n",
      "Epoch 242/300\n",
      "2/2 [==============================] - 0s 67ms/step - loss: 0.3133\n",
      "Epoch 243/300\n",
      "2/2 [==============================] - 0s 60ms/step - loss: 0.3220\n",
      "Epoch 244/300\n",
      "2/2 [==============================] - 0s 58ms/step - loss: 0.3204\n",
      "Epoch 245/300\n",
      "2/2 [==============================] - 0s 54ms/step - loss: 0.3131\n",
      "Epoch 246/300\n",
      "2/2 [==============================] - 0s 60ms/step - loss: 0.3137\n",
      "Epoch 247/300\n",
      "2/2 [==============================] - 0s 58ms/step - loss: 0.3119\n",
      "Epoch 248/300\n",
      "2/2 [==============================] - 0s 58ms/step - loss: 0.3174\n",
      "Epoch 249/300\n",
      "2/2 [==============================] - 0s 72ms/step - loss: 0.3167\n",
      "Epoch 250/300\n",
      "2/2 [==============================] - 0s 60ms/step - loss: 0.3126\n",
      "Epoch 251/300\n",
      "2/2 [==============================] - 0s 56ms/step - loss: 0.3134\n",
      "Epoch 252/300\n",
      "2/2 [==============================] - 0s 60ms/step - loss: 0.3207\n",
      "Epoch 253/300\n",
      "2/2 [==============================] - 0s 57ms/step - loss: 0.3154\n",
      "Epoch 254/300\n",
      "2/2 [==============================] - 0s 57ms/step - loss: 0.3149\n",
      "Epoch 255/300\n",
      "2/2 [==============================] - 0s 61ms/step - loss: 0.3174\n",
      "Epoch 256/300\n",
      "2/2 [==============================] - 0s 67ms/step - loss: 0.3124\n",
      "Epoch 257/300\n",
      "2/2 [==============================] - 0s 58ms/step - loss: 0.3165\n",
      "Epoch 258/300\n",
      "2/2 [==============================] - 0s 57ms/step - loss: 0.3241\n",
      "Epoch 259/300\n",
      "2/2 [==============================] - 0s 57ms/step - loss: 0.3219\n",
      "Epoch 260/300\n",
      "2/2 [==============================] - 0s 57ms/step - loss: 0.3267\n",
      "Epoch 261/300\n",
      "2/2 [==============================] - 0s 58ms/step - loss: 0.3163\n",
      "Epoch 262/300\n",
      "2/2 [==============================] - 0s 59ms/step - loss: 0.3183\n",
      "Epoch 263/300\n",
      "2/2 [==============================] - 0s 54ms/step - loss: 0.3184\n",
      "Epoch 264/300\n",
      "2/2 [==============================] - 0s 56ms/step - loss: 0.3197\n",
      "Epoch 265/300\n",
      "2/2 [==============================] - 0s 52ms/step - loss: 0.3180\n",
      "Epoch 266/300\n",
      "2/2 [==============================] - 0s 58ms/step - loss: 0.3148\n",
      "Epoch 267/300\n",
      "2/2 [==============================] - 0s 54ms/step - loss: 0.3183\n",
      "Epoch 268/300\n",
      "2/2 [==============================] - 0s 55ms/step - loss: 0.3176\n",
      "Epoch 269/300\n",
      "2/2 [==============================] - 0s 60ms/step - loss: 0.3147\n",
      "Epoch 270/300\n",
      "2/2 [==============================] - 0s 55ms/step - loss: 0.3209\n",
      "Epoch 271/300\n",
      "2/2 [==============================] - 0s 63ms/step - loss: 0.3154\n",
      "Epoch 272/300\n",
      "2/2 [==============================] - 0s 59ms/step - loss: 0.3174\n",
      "Epoch 273/300\n",
      "2/2 [==============================] - 0s 54ms/step - loss: 0.3237\n",
      "Epoch 274/300\n",
      "2/2 [==============================] - 0s 57ms/step - loss: 0.3157\n",
      "Epoch 275/300\n",
      "2/2 [==============================] - 0s 59ms/step - loss: 0.3170\n",
      "Epoch 276/300\n",
      "2/2 [==============================] - 0s 58ms/step - loss: 0.3175\n",
      "Epoch 277/300\n",
      "2/2 [==============================] - 0s 56ms/step - loss: 0.3181\n",
      "Epoch 278/300\n",
      "2/2 [==============================] - 0s 66ms/step - loss: 0.3170\n",
      "Epoch 279/300\n",
      "2/2 [==============================] - 0s 60ms/step - loss: 0.3193\n",
      "Epoch 280/300\n",
      "2/2 [==============================] - 0s 63ms/step - loss: 0.3143\n",
      "Epoch 281/300\n",
      "2/2 [==============================] - 0s 58ms/step - loss: 0.3193\n",
      "Epoch 282/300\n",
      "2/2 [==============================] - 0s 62ms/step - loss: 0.3199\n",
      "Epoch 283/300\n",
      "2/2 [==============================] - 0s 60ms/step - loss: 0.3134\n",
      "Epoch 284/300\n",
      "2/2 [==============================] - 0s 57ms/step - loss: 0.3216\n",
      "Epoch 285/300\n",
      "2/2 [==============================] - 0s 67ms/step - loss: 0.3180\n",
      "Epoch 286/300\n",
      "2/2 [==============================] - 0s 59ms/step - loss: 0.3132\n",
      "Epoch 287/300\n",
      "2/2 [==============================] - 0s 57ms/step - loss: 0.3149\n",
      "Epoch 288/300\n",
      "2/2 [==============================] - 0s 53ms/step - loss: 0.3170\n",
      "Epoch 289/300\n",
      "2/2 [==============================] - 0s 60ms/step - loss: 0.3107\n",
      "Epoch 290/300\n",
      "2/2 [==============================] - 0s 56ms/step - loss: 0.3157\n",
      "Epoch 291/300\n",
      "2/2 [==============================] - 0s 55ms/step - loss: 0.3170\n",
      "Epoch 292/300\n",
      "2/2 [==============================] - 0s 61ms/step - loss: 0.3197\n",
      "Epoch 293/300\n",
      "2/2 [==============================] - 0s 55ms/step - loss: 0.3133\n",
      "Epoch 294/300\n",
      "2/2 [==============================] - 0s 57ms/step - loss: 0.3117\n",
      "Epoch 295/300\n",
      "2/2 [==============================] - 0s 55ms/step - loss: 0.3131\n",
      "Epoch 296/300\n",
      "2/2 [==============================] - 0s 54ms/step - loss: 0.3211\n",
      "Epoch 297/300\n",
      "2/2 [==============================] - 0s 55ms/step - loss: 0.3195\n",
      "Epoch 298/300\n",
      "2/2 [==============================] - 0s 58ms/step - loss: 0.3121\n",
      "Epoch 299/300\n",
      "2/2 [==============================] - 0s 54ms/step - loss: 0.3157\n",
      "Epoch 300/300\n",
      "2/2 [==============================] - 0s 64ms/step - loss: 0.3174\n"
     ]
    }
   ],
   "source": [
    "history = model.fit(dataset, epochs=epochs)"
   ]
  },
  {
   "cell_type": "markdown",
   "metadata": {},
   "source": [
    "### Generate prediction"
   ]
  },
  {
   "cell_type": "code",
   "execution_count": 49,
   "metadata": {},
   "outputs": [],
   "source": [
    "class OneStep(tf.keras.Model):\n",
    "    def __init__(self, model, chars_from_ids, ids_from_chars, temperature=1.0):\n",
    "        super().__init__()\n",
    "        self.temperature=temperature\n",
    "        self.model = model\n",
    "        self.chars_from_ids = chars_from_ids\n",
    "        self.ids_from_chars = ids_from_chars\n",
    "\n",
    "        # Create a mask to prevent \"\" or \"[UNK]\" from being generated.\n",
    "        skip_ids = self.ids_from_chars(['','[UNK]'])[:, None]\n",
    "        sparse_mask = tf.SparseTensor(\n",
    "            # Put a -inf at each bad index.\n",
    "            values=[-float('inf')]*len(skip_ids),\n",
    "            indices = skip_ids,\n",
    "            # Match the shape to the vocabulary\n",
    "            dense_shape=[len(ids_from_chars.get_vocabulary())]) \n",
    "        self.prediction_mask = tf.sparse.to_dense(sparse_mask)\n",
    "\n",
    "    @tf.function\n",
    "    def generate_one_step(self, inputs, states=None):\n",
    "        # Convert strings to token IDs.\n",
    "        input_chars = tf.strings.unicode_split(inputs, 'UTF-8')\n",
    "        input_ids = self.ids_from_chars(input_chars).to_tensor()\n",
    "\n",
    "        # Run the model.\n",
    "        # predicted_logits.shape is [batch, char, next_char_logits] \n",
    "        predicted_logits, states =  self.model(inputs=input_ids, states=states, \n",
    "                                          return_state=True)\n",
    "        # Only use the last prediction.\n",
    "        predicted_logits = predicted_logits[:, -1, :]\n",
    "        predicted_logits = predicted_logits/self.temperature\n",
    "        # Apply the prediction mask: prevent \"\" or \"[UNK]\" from being generated.\n",
    "        predicted_logits = predicted_logits + self.prediction_mask\n",
    "\n",
    "        # Sample the output logits to generate token IDs.\n",
    "        predicted_ids = tf.random.categorical(predicted_logits, num_samples=1)\n",
    "        predicted_ids = tf.squeeze(predicted_ids, axis=-1)\n",
    "\n",
    "        # Convert from token ids to characters\n",
    "        predicted_chars = self.chars_from_ids(predicted_ids)\n",
    "\n",
    "        # Return the characters and model state.\n",
    "        return predicted_chars, states"
   ]
  },
  {
   "cell_type": "code",
   "execution_count": 50,
   "metadata": {},
   "outputs": [],
   "source": [
    "one_step_model = OneStep(model, chars_from_ids, ids_from_chars)"
   ]
  },
  {
   "cell_type": "code",
   "execution_count": 51,
   "metadata": {},
   "outputs": [
    {
     "name": "stdout",
     "output_type": "stream",
     "text": [
      "pococwtrf\n"
     ]
    }
   ],
   "source": [
    "states = None\n",
    "next_char = tf.constant(['p'])\n",
    "result = [next_char]\n",
    "\n",
    "for n in range(8):\n",
    "    next_char, states = one_step_model.generate_one_step(next_char, states=states)\n",
    "    result.append(next_char)\n",
    "\n",
    "result = tf.strings.join(result)\n",
    "\n",
    "print(result[0].numpy().decode('utf-8'))"
   ]
  },
  {
   "cell_type": "markdown",
   "metadata": {},
   "source": [
    "### Prequential method"
   ]
  },
  {
   "cell_type": "code",
   "execution_count": 52,
   "metadata": {},
   "outputs": [],
   "source": [
    "# test generation of predictions in loop for all first chars in list\n",
    "\n",
    "results = [[] for line in data_split]\n",
    "\n",
    "for line in range(0, len(data_split)):\n",
    "    states = None\n",
    "    next_char = tf.constant([data_split[line][0]])\n",
    "    results[line] = [next_char]\n",
    "    \n",
    "    for n in range(0, len(data_split[line]) - 1):\n",
    "        next_char, states = one_step_model.generate_one_step(next_char, states=states)\n",
    "        results[line].append(next_char)\n",
    "    results[line] = tf.strings.join(results[line])\n",
    "    results[line] = results[line][0].numpy().decode('utf-8')"
   ]
  },
  {
   "cell_type": "code",
   "execution_count": 53,
   "metadata": {},
   "outputs": [
    {
     "data": {
      "text/plain": [
       "True"
      ]
     },
     "execution_count": 53,
     "metadata": {},
     "output_type": "execute_result"
    }
   ],
   "source": [
    "# check if predicted length = observed length\n",
    "[len(line) for line in results] == [len(line) for line in data_split]"
   ]
  },
  {
   "cell_type": "code",
   "execution_count": 54,
   "metadata": {},
   "outputs": [],
   "source": [
    "# generate prediction for next char, compare to observed, determine error - until length of observed is reached\n",
    "\n",
    "results = [[] for line in data_split]\n",
    "errors = [[] for x in data_split]\n",
    "\n",
    "for line in range(0, len(data_split)):\n",
    "    i = 1\n",
    "    states = None\n",
    "    \n",
    "    while i < len(data_split[line]):\n",
    "        next_char = tf.constant([data_split[line][:i]])\n",
    "        results[line] = [next_char]\n",
    "        next_char, states = one_step_model.generate_one_step(next_char, states=states)\n",
    "        results[line].append(next_char)\n",
    "        predicted = tf.strings.join(results[line])\n",
    "        predicted = predicted[0].numpy().decode('utf-8')\n",
    "        observed = data_split[line][:i+1]\n",
    "        error = 1 - damerauLevenshtein(predicted, observed)\n",
    "        #print(predicted, observed, error)\n",
    "        \n",
    "        errors[line].append(error)\n",
    "        i +=1\n",
    "        \n",
    "    results[line] = tf.strings.join(results[line])\n",
    "    results[line] = results[line][0].numpy().decode('utf-8')"
   ]
  },
  {
   "cell_type": "code",
   "execution_count": 55,
   "metadata": {},
   "outputs": [],
   "source": [
    "error_list = [np.mean(error) for error in errors]"
   ]
  },
  {
   "cell_type": "code",
   "execution_count": 57,
   "metadata": {},
   "outputs": [
    {
     "data": {
      "text/plain": [
       "0.19679846757941513"
      ]
     },
     "execution_count": 57,
     "metadata": {},
     "output_type": "execute_result"
    }
   ],
   "source": [
    "np.mean([np.mean(error) for error in errors])"
   ]
  },
  {
   "cell_type": "code",
   "execution_count": 58,
   "metadata": {},
   "outputs": [
    {
     "data": {
      "text/plain": [
       "0.18333333333333332"
      ]
     },
     "execution_count": 58,
     "metadata": {},
     "output_type": "execute_result"
    }
   ],
   "source": [
    "np.median([np.mean(error) for error in errors])"
   ]
  },
  {
   "cell_type": "code",
   "execution_count": 46,
   "metadata": {},
   "outputs": [],
   "source": [
    "with open('results/rnn_prequential.txt', 'w') as f:\n",
    "    f.write(str(error_list))"
   ]
  },
  {
   "cell_type": "code",
   "execution_count": null,
   "metadata": {},
   "outputs": [],
   "source": []
  }
 ],
 "metadata": {
  "kernelspec": {
   "display_name": "tf",
   "language": "python",
   "name": "tf"
  },
  "language_info": {
   "codemirror_mode": {
    "name": "ipython",
    "version": 3
   },
   "file_extension": ".py",
   "mimetype": "text/x-python",
   "name": "python",
   "nbconvert_exporter": "python",
   "pygments_lexer": "ipython3",
   "version": "3.7.9"
  }
 },
 "nbformat": 4,
 "nbformat_minor": 4
}
