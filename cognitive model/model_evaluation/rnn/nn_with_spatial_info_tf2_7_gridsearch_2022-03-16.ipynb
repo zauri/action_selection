{
 "cells": [
  {
   "cell_type": "code",
   "execution_count": 1,
   "id": "8da2a4b2",
   "metadata": {},
   "outputs": [
    {
     "name": "stderr",
     "output_type": "stream",
     "text": [
      "2022-03-23 12:09:58.309241: W tensorflow/stream_executor/platform/default/dso_loader.cc:64] Could not load dynamic library 'libcudart.so.11.0'; dlerror: libcudart.so.11.0: cannot open shared object file: No such file or directory\n",
      "2022-03-23 12:09:58.309277: I tensorflow/stream_executor/cuda/cudart_stub.cc:29] Ignore above cudart dlerror if you do not have a GPU set up on your machine.\n"
     ]
    }
   ],
   "source": [
    "import matplotlib.pyplot as plt\n",
    "import numpy as np\n",
    "import pandas as pd\n",
    "import seaborn as sns\n",
    "import tensorflow as tf\n",
    "\n",
    "from fastDamerauLevenshtein import damerauLevenshtein\n",
    "from keras.wrappers.scikit_learn import KerasClassifier\n",
    "from sklearn.preprocessing import MultiLabelBinarizer\n",
    "from sklearn.model_selection import StratifiedShuffleSplit, train_test_split, GridSearchCV\n",
    "from tensorflow.keras import layers"
   ]
  },
  {
   "cell_type": "code",
   "execution_count": 2,
   "id": "49e7518e",
   "metadata": {},
   "outputs": [],
   "source": [
    "df = pd.read_csv('data/single_step_df_ints_2022-03-15.csv')"
   ]
  },
  {
   "cell_type": "code",
   "execution_count": null,
   "id": "99988333",
   "metadata": {},
   "outputs": [],
   "source": []
  },
  {
   "cell_type": "code",
   "execution_count": 3,
   "id": "52fca39b",
   "metadata": {},
   "outputs": [],
   "source": [
    "float_cols = df.select_dtypes(include=['float64']).columns\n",
    "df.loc[:, float_cols] = df.loc[:, float_cols].fillna(-99)"
   ]
  },
  {
   "cell_type": "code",
   "execution_count": 4,
   "id": "f8e9acc0",
   "metadata": {},
   "outputs": [
    {
     "data": {
      "text/plain": [
       "727    l\n",
       "Name: target, dtype: object"
      ]
     },
     "execution_count": 4,
     "metadata": {},
     "output_type": "execute_result"
    }
   ],
   "source": [
    "df['target'].unique()\n",
    "df['target'].value_counts()\n",
    "\n",
    "df['target'].loc[df['target'] == 'l']"
   ]
  },
  {
   "cell_type": "code",
   "execution_count": 5,
   "id": "d3401a72",
   "metadata": {},
   "outputs": [],
   "source": [
    "nr_of_sequences = len(df[df['input'] == '<start>'])"
   ]
  },
  {
   "cell_type": "code",
   "execution_count": 6,
   "id": "16af1823",
   "metadata": {},
   "outputs": [],
   "source": [
    "# remove row with target that only occurs once\n",
    "\n",
    "df_new = df.drop(index=727, axis=0)\n",
    "df_new.reset_index(inplace=True, drop=True)"
   ]
  },
  {
   "cell_type": "code",
   "execution_count": 7,
   "id": "5491f1a4",
   "metadata": {},
   "outputs": [],
   "source": [
    "# generate stratified split for train - test/val\n",
    "\n",
    "split = StratifiedShuffleSplit(n_splits=10, test_size=0.3, random_state=42)\n",
    "\n",
    "for train_index, test_index in split.split(df_new, df_new['target']):\n",
    "    strat_train = df_new.loc[train_index]\n",
    "    strat_test_val = df_new.loc[test_index]"
   ]
  },
  {
   "cell_type": "code",
   "execution_count": null,
   "id": "90dc05ba",
   "metadata": {},
   "outputs": [],
   "source": []
  },
  {
   "cell_type": "code",
   "execution_count": 8,
   "id": "11eba3ad",
   "metadata": {},
   "outputs": [],
   "source": [
    "# split test_val into test and val\n",
    "\n",
    "split_test_val = len(strat_test_val)//2\n",
    "\n",
    "strat_test = strat_test_val[:split_test_val]\n",
    "strat_val = strat_test_val[split_test_val:]"
   ]
  },
  {
   "cell_type": "code",
   "execution_count": 9,
   "id": "ead4a95d",
   "metadata": {},
   "outputs": [],
   "source": [
    "# generate list of labels to pass to MultiLabelBinarizer so there's the same number of\n",
    "# classes for all datasets\n",
    "\n",
    "labels = df_new['target'].unique()"
   ]
  },
  {
   "cell_type": "code",
   "execution_count": 10,
   "id": "2e8da447",
   "metadata": {},
   "outputs": [],
   "source": [
    "def create_dataset(dataframe, labels, shuffle=True, batch_size=32):\n",
    "    df = dataframe.copy()\n",
    "    labels_ds = df.pop('target')\n",
    "    encoder = MultiLabelBinarizer(classes=labels)\n",
    "    encoded_labels = encoder.fit_transform(labels_ds)\n",
    "    \n",
    "    df = {key: value[:, tf.newaxis] for key, value in df.items()}\n",
    "    dataset = tf.data.Dataset.from_tensor_slices((dict(df), encoded_labels))\n",
    "    if shuffle:\n",
    "        dataset = dataset.shuffle(buffer_size=len(dataframe))\n",
    "    \n",
    "    dataset = dataset.batch(batch_size)\n",
    "    dataset = dataset.prefetch(batch_size)\n",
    "    \n",
    "    return dataset"
   ]
  },
  {
   "cell_type": "code",
   "execution_count": 11,
   "id": "9e6e6001",
   "metadata": {},
   "outputs": [],
   "source": [
    "batch_size = 256"
   ]
  },
  {
   "cell_type": "code",
   "execution_count": 12,
   "id": "416e6d06",
   "metadata": {
    "collapsed": true
   },
   "outputs": [
    {
     "name": "stderr",
     "output_type": "stream",
     "text": [
      "/tmp/ipykernel_74638/1510453973.py:7: FutureWarning: Support for multi-dimensional indexing (e.g. `obj[:, None]`) is deprecated and will be removed in a future version.  Convert to a numpy array before indexing instead.\n",
      "  df = {key: value[:, tf.newaxis] for key, value in df.items()}\n",
      "2022-03-23 12:10:04.476628: I tensorflow/stream_executor/cuda/cuda_gpu_executor.cc:939] successful NUMA node read from SysFS had negative value (-1), but there must be at least one NUMA node, so returning NUMA node zero\n",
      "2022-03-23 12:10:04.477211: W tensorflow/stream_executor/platform/default/dso_loader.cc:64] Could not load dynamic library 'libcudart.so.11.0'; dlerror: libcudart.so.11.0: cannot open shared object file: No such file or directory\n",
      "2022-03-23 12:10:04.477410: W tensorflow/stream_executor/platform/default/dso_loader.cc:64] Could not load dynamic library 'libcublas.so.11'; dlerror: libcublas.so.11: cannot open shared object file: No such file or directory\n",
      "2022-03-23 12:10:04.477582: W tensorflow/stream_executor/platform/default/dso_loader.cc:64] Could not load dynamic library 'libcublasLt.so.11'; dlerror: libcublasLt.so.11: cannot open shared object file: No such file or directory\n",
      "2022-03-23 12:10:04.477745: W tensorflow/stream_executor/platform/default/dso_loader.cc:64] Could not load dynamic library 'libcufft.so.10'; dlerror: libcufft.so.10: cannot open shared object file: No such file or directory\n",
      "2022-03-23 12:10:04.477924: W tensorflow/stream_executor/platform/default/dso_loader.cc:64] Could not load dynamic library 'libcurand.so.10'; dlerror: libcurand.so.10: cannot open shared object file: No such file or directory\n",
      "2022-03-23 12:10:04.478081: W tensorflow/stream_executor/platform/default/dso_loader.cc:64] Could not load dynamic library 'libcusolver.so.11'; dlerror: libcusolver.so.11: cannot open shared object file: No such file or directory\n",
      "2022-03-23 12:10:04.478239: W tensorflow/stream_executor/platform/default/dso_loader.cc:64] Could not load dynamic library 'libcusparse.so.11'; dlerror: libcusparse.so.11: cannot open shared object file: No such file or directory\n",
      "2022-03-23 12:10:04.478395: W tensorflow/stream_executor/platform/default/dso_loader.cc:64] Could not load dynamic library 'libcudnn.so.8'; dlerror: libcudnn.so.8: cannot open shared object file: No such file or directory\n",
      "2022-03-23 12:10:04.478414: W tensorflow/core/common_runtime/gpu/gpu_device.cc:1850] Cannot dlopen some GPU libraries. Please make sure the missing libraries mentioned above are installed properly if you would like to use GPU. Follow the guide at https://www.tensorflow.org/install/gpu for how to download and setup the required libraries for your platform.\n",
      "Skipping registering GPU devices...\n",
      "2022-03-23 12:10:04.481127: I tensorflow/core/platform/cpu_feature_guard.cc:151] This TensorFlow binary is optimized with oneAPI Deep Neural Network Library (oneDNN) to use the following CPU instructions in performance-critical operations:  AVX2 FMA\n",
      "To enable them in other operations, rebuild TensorFlow with the appropriate compiler flags.\n"
     ]
    }
   ],
   "source": [
    "train_ds = create_dataset(strat_train, labels, batch_size=batch_size)\n",
    "val_ds = create_dataset(strat_val, labels, shuffle=False, batch_size=batch_size)\n",
    "test_ds = create_dataset(strat_test, labels, shuffle=False, batch_size=batch_size)"
   ]
  },
  {
   "cell_type": "code",
   "execution_count": 13,
   "id": "06f4db47",
   "metadata": {},
   "outputs": [],
   "source": [
    "def get_normalization_layer(name, dataset):\n",
    "  # Create a Normalization layer for the feature.\n",
    "    normalizer = layers.Normalization(axis=None)\n",
    "\n",
    "  # Prepare a Dataset that only yields the feature.\n",
    "    feature_ds = dataset.map(lambda x, y: x[name])\n",
    "\n",
    "  # Learn the statistics of the data.\n",
    "    normalizer.adapt(feature_ds)\n",
    "    \n",
    "    return normalizer"
   ]
  },
  {
   "cell_type": "code",
   "execution_count": 14,
   "id": "597f7ff6",
   "metadata": {},
   "outputs": [],
   "source": [
    "def get_category_encoding_layer(name, dataset, dtype, max_tokens=None):\n",
    "    if dtype == 'string':\n",
    "        index = layers.StringLookup(max_tokens=max_tokens)\n",
    "    else:\n",
    "        index = layers.IntegerLookup(max_tokens=max_tokens)\n",
    "        \n",
    "    # prepare tf.data.Dataset that only yields the feature    \n",
    "    feature_ds = dataset.map(lambda x, y: x[name])\n",
    "    \n",
    "    # learn set of possible values and assign fixed int index\n",
    "    index.adapt(feature_ds)\n",
    "    \n",
    "    # encode int indices\n",
    "    encoder = layers.CategoryEncoding(num_tokens=index.vocabulary_size())\n",
    "    \n",
    "    # apply multi-hot encoding to indices\n",
    "    # lambda function captures the layer to include them in Keras functional models later\n",
    "    return lambda feature: encoder(index(feature))"
   ]
  },
  {
   "cell_type": "code",
   "execution_count": 15,
   "id": "9ce78468",
   "metadata": {},
   "outputs": [],
   "source": [
    "def create_input_data(dataframe):\n",
    "    all_inputs = []\n",
    "    encoded_features = []\n",
    "    \n",
    "    for header in dataframe.columns:\n",
    "        # numerical features\n",
    "        if 'coord' in header or 'already' in header:\n",
    "            numeric_col = tf.keras.Input(shape=(1,), name=header)\n",
    "            normalization_layer = get_normalization_layer(header, train_ds)\n",
    "            encoded_numeric_col = normalization_layer(numeric_col)\n",
    "            all_inputs.append(numeric_col)\n",
    "            encoded_features.append(encoded_numeric_col)\n",
    "        \n",
    "        # categorical features\n",
    "        elif 'containment' in header or 'food' in header or 'mid' in header or \\\n",
    "        'strong' in header:\n",
    "            categorical_col = tf.keras.Input(shape=(1,), name=header, dtype='int64')\n",
    "            encoding_layer = get_category_encoding_layer(name=header,\n",
    "                                                        dataset=train_ds,\n",
    "                                                        dtype='int64')\n",
    "            encoded_categorical_col = encoding_layer(categorical_col)\n",
    "            all_inputs.append(categorical_col)\n",
    "            encoded_features.append(encoded_categorical_col)\n",
    "            \n",
    "        elif header == 'input':\n",
    "            categorical_col = tf.keras.Input(shape=(1,), name='input', dtype='string')\n",
    "            encoding_layer = get_category_encoding_layer(name='input',\n",
    "                                                        dataset=train_ds,\n",
    "                                                        dtype='string')\n",
    "            encoded_categorical_col = encoding_layer(categorical_col)\n",
    "            all_inputs.append(categorical_col)\n",
    "            encoded_features.append(encoded_categorical_col)\n",
    "            \n",
    "    return all_inputs, encoded_features"
   ]
  },
  {
   "cell_type": "code",
   "execution_count": 16,
   "id": "8d333498",
   "metadata": {},
   "outputs": [],
   "source": [
    "all_inputs, encoded_features = create_input_data(df)"
   ]
  },
  {
   "cell_type": "code",
   "execution_count": 17,
   "id": "2de5cf76",
   "metadata": {},
   "outputs": [],
   "source": [
    "callback = tf.keras.callbacks.EarlyStopping(monitor='loss', patience=5)"
   ]
  },
  {
   "cell_type": "code",
   "execution_count": 23,
   "id": "de4c67a1",
   "metadata": {},
   "outputs": [],
   "source": [
    "def get_model_accuracy(train_ds, test_ds, val_ds, \n",
    "                       all_inputs=all_inputs, encoded_features=encoded_features,\n",
    "                       callback=callback):\n",
    "    accuracy_list = []\n",
    "    \n",
    "    dropout_rate = [0.2,0.3,0.4,0.5,0.6,0.7]\n",
    "    neurons = [128,256,512,1024]\n",
    "    \n",
    "    for dropout in dropout_rate:\n",
    "        for neuron_nr in neurons:\n",
    "            all_features = tf.keras.layers.concatenate(encoded_features)\n",
    "            x = tf.keras.layers.Dense(neuron_nr, activation='relu')(all_features)\n",
    "            x = tf.keras.layers.Dropout(dropout)(x)\n",
    "            x = tf.keras.layers.Dense(neuron_nr//2, activation='relu')(all_features)\n",
    "            x = tf.keras.layers.Dropout(dropout)(x)\n",
    "            output = tf.keras.layers.Dense(20)(x)\n",
    "    \n",
    "            model = tf.keras.Model(all_inputs, output)\n",
    "    \n",
    "            model.compile(optimizer='adam',\n",
    "                 loss=tf.keras.losses.CategoricalCrossentropy(from_logits=True),\n",
    "                 metrics=['accuracy'])\n",
    "    \n",
    "            history = model.fit(train_ds, epochs=200, validation_data=val_ds, \n",
    "                                callbacks=[callback], verbose=0)\n",
    "            accuracy = history.history['accuracy'][-1]\n",
    "    \n",
    "            loss, accuracy_test = model.evaluate(test_ds)\n",
    "    \n",
    "            accuracy_list.append([accuracy, accuracy_test, 'params (neurons, dropout): ', neuron_nr, dropout])\n",
    "    \n",
    "    return accuracy_list"
   ]
  },
  {
   "cell_type": "code",
   "execution_count": null,
   "id": "5bf18b28",
   "metadata": {},
   "outputs": [],
   "source": [
    "\n"
   ]
  },
  {
   "cell_type": "code",
   "execution_count": null,
   "id": "6f4a8428",
   "metadata": {
    "scrolled": true
   },
   "outputs": [],
   "source": []
  },
  {
   "cell_type": "code",
   "execution_count": 25,
   "id": "b2486a8b",
   "metadata": {},
   "outputs": [
    {
     "name": "stdout",
     "output_type": "stream",
     "text": [
      "1/1 [==============================] - 0s 91ms/step - loss: 1.3894 - accuracy: 0.5342\n",
      "1/1 [==============================] - 0s 92ms/step - loss: 1.3747 - accuracy: 0.5342\n",
      "1/1 [==============================] - 0s 98ms/step - loss: 1.4417 - accuracy: 0.5068\n",
      "1/1 [==============================] - 0s 99ms/step - loss: 1.5311 - accuracy: 0.5160\n",
      "1/1 [==============================] - 0s 91ms/step - loss: 1.3890 - accuracy: 0.5342\n",
      "1/1 [==============================] - 0s 96ms/step - loss: 1.4207 - accuracy: 0.5342\n",
      "1/1 [==============================] - 0s 91ms/step - loss: 1.3829 - accuracy: 0.5160\n",
      "1/1 [==============================] - 0s 96ms/step - loss: 1.4467 - accuracy: 0.5525\n",
      "1/1 [==============================] - 0s 95ms/step - loss: 1.4621 - accuracy: 0.5205\n",
      "1/1 [==============================] - 0s 89ms/step - loss: 1.4533 - accuracy: 0.5297\n",
      "1/1 [==============================] - 0s 91ms/step - loss: 1.4196 - accuracy: 0.5342\n",
      "1/1 [==============================] - 0s 108ms/step - loss: 1.4480 - accuracy: 0.5068\n",
      "1/1 [==============================] - 0s 95ms/step - loss: 1.5159 - accuracy: 0.5160\n",
      "1/1 [==============================] - 0s 89ms/step - loss: 1.4293 - accuracy: 0.5388\n",
      "1/1 [==============================] - 0s 87ms/step - loss: 1.4083 - accuracy: 0.5160\n",
      "1/1 [==============================] - 0s 91ms/step - loss: 1.4790 - accuracy: 0.5479\n",
      "1/1 [==============================] - 0s 91ms/step - loss: 1.5494 - accuracy: 0.5114\n",
      "1/1 [==============================] - 0s 88ms/step - loss: 1.6744 - accuracy: 0.4932\n",
      "1/1 [==============================] - 0s 92ms/step - loss: 1.4061 - accuracy: 0.5251\n",
      "1/1 [==============================] - 0s 89ms/step - loss: 1.4676 - accuracy: 0.5297\n",
      "1/1 [==============================] - 0s 94ms/step - loss: 1.6310 - accuracy: 0.5434\n",
      "1/1 [==============================] - 0s 93ms/step - loss: 1.4553 - accuracy: 0.5525\n",
      "1/1 [==============================] - 0s 90ms/step - loss: 1.4370 - accuracy: 0.5342\n",
      "1/1 [==============================] - 0s 92ms/step - loss: 1.4483 - accuracy: 0.5388\n"
     ]
    }
   ],
   "source": [
    "accuracies = get_model_accuracy(train_ds, test_ds, val_ds, all_inputs, encoded_features, callback)"
   ]
  },
  {
   "cell_type": "code",
   "execution_count": 26,
   "id": "6c50d210",
   "metadata": {},
   "outputs": [],
   "source": [
    "results = pd.DataFrame(columns=['accuracy', 'test_accuracy', 'neurons', 'dropout'])\n",
    "results['accuracy'] = [lst[0] for lst in accuracies]\n",
    "results['test_accuracy'] = [lst[1] for lst in accuracies]\n",
    "results['neurons'] = [lst[3] for lst in accuracies]\n",
    "results['dropout'] = [lst[4] for lst in accuracies]\n",
    "results['diff'] = abs(results['accuracy'] - results['test_accuracy'])"
   ]
  },
  {
   "cell_type": "code",
   "execution_count": 39,
   "id": "3a4a2db1",
   "metadata": {},
   "outputs": [
    {
     "data": {
      "text/plain": [
       "accuracy            0.744618\n",
       "test_accuracy       0.552511\n",
       "neurons          1024.000000\n",
       "dropout             0.300000\n",
       "diff                0.192107\n",
       "Name: 7, dtype: float64"
      ]
     },
     "execution_count": 39,
     "metadata": {},
     "output_type": "execute_result"
    }
   ],
   "source": [
    "highest_acc = results['test_accuracy'].idxmax()\n",
    "lowest_diff = results['diff'].idxmin()\n",
    "\n",
    "results.loc[highest_acc, :]"
   ]
  },
  {
   "cell_type": "code",
   "execution_count": 30,
   "id": "b45a39ea",
   "metadata": {},
   "outputs": [],
   "source": [
    "#results.to_csv('results/gridsearch_train_test_accuracies_2022-03-23.csv', header=True, index=False)"
   ]
  },
  {
   "cell_type": "code",
   "execution_count": 37,
   "id": "2be1a85c",
   "metadata": {},
   "outputs": [
    {
     "data": {
      "text/plain": [
       "<matplotlib.legend.Legend at 0x7f497a44aa90>"
      ]
     },
     "execution_count": 37,
     "metadata": {},
     "output_type": "execute_result"
    }
   ],
   "source": [
    "%matplotlib qt\n",
    "\n",
    "x = [x for x in range(0, len(results))]\n",
    "median_acc = [np.median(results['accuracy'])] * len(x)\n",
    "median_test_acc = [np.median(results['test_accuracy'])] * len(x)\n",
    "std = [results['accuracy'].std()] * len(x)\n",
    "std_test = [results['test_accuracy'].std()] * len(x)\n",
    "labels = ['train acc', 'test acc']\n",
    "\n",
    "fig, (ax0, ax1) = plt.subplots(nrows=1, ncols=2, sharex=False, sharey=False, figsize=(12,6),\n",
    "                              facecolor='white')\n",
    "\n",
    "ax0.boxplot([results['accuracy'], results['test_accuracy']], patch_artist=True,\n",
    "            labels=labels, showmeans=True,\n",
    "            boxprops=dict(facecolor='aliceblue', color='black'),\n",
    "            meanprops=dict(marker='D', markerfacecolor='darkred', markeredgecolor='black'),\n",
    "            medianprops=dict(linestyle='-', color='darkgreen', linewidth=1.5),\n",
    "            flierprops=dict(marker='o', markeredgecolor='firebrick', markersize=8,\n",
    "                           markerfacecolor='orangered'))\n",
    "\n",
    "#ax0.legend(fontsize=10, framealpha=0.8, loc='upper right')\n",
    "\n",
    "#ax0 = sns.boxplot(data=results.iloc[:,:2])\n",
    "\n",
    "ax1.scatter(x, results['accuracy'], s=18, c='navy')\n",
    "ax1.plot(x, median_acc, c='dodgerblue', \n",
    "         label='accuracy median: ' + str(np.round(median_acc[0], 2)))\n",
    "ax1.fill_between(x, median_acc, results['accuracy'], \n",
    "                 alpha=0.2, color='dodgerblue')\n",
    "\n",
    "ax1.scatter(x, results['test_accuracy'], s=18, c='limegreen')\n",
    "ax1.plot(x, median_test_acc, c='green', \n",
    "         label='test accuracy median: ' + str(np.round(median_test_acc[0], 2)))\n",
    "ax1.fill_between(x, median_test_acc, results['test_accuracy'], \n",
    "                 alpha=0.2, color='limegreen')\n",
    "\n",
    "plt.ylim(0.3, 0.8)\n",
    "ax1.legend(fontsize=10, framealpha=0.8, loc='lower right', markerscale=2.5)"
   ]
  }
 ],
 "metadata": {
  "kernelspec": {
   "display_name": "tf2.7",
   "language": "python",
   "name": "tf2.7"
  },
  "language_info": {
   "codemirror_mode": {
    "name": "ipython",
    "version": 3
   },
   "file_extension": ".py",
   "mimetype": "text/x-python",
   "name": "python",
   "nbconvert_exporter": "python",
   "pygments_lexer": "ipython3",
   "version": "3.9.7"
  }
 },
 "nbformat": 4,
 "nbformat_minor": 5
}
