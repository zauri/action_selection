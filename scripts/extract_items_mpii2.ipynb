{
 "cells": [
  {
   "cell_type": "code",
   "execution_count": 10,
   "id": "6a636ec1",
   "metadata": {},
   "outputs": [],
   "source": [
    "import pandas as pd\n",
    "import os"
   ]
  },
  {
   "cell_type": "code",
   "execution_count": 11,
   "id": "11045e37",
   "metadata": {},
   "outputs": [],
   "source": [
    "directory = '../../../../resources/data/mpii_cooking/tacos_corpus/TACoS/alignments/'"
   ]
  },
  {
   "cell_type": "code",
   "execution_count": 12,
   "id": "93d03ef5",
   "metadata": {},
   "outputs": [],
   "source": [
    "item_df = pd.DataFrame(columns=['ID', 'items'])"
   ]
  },
  {
   "cell_type": "code",
   "execution_count": 13,
   "id": "bf3b6a19",
   "metadata": {},
   "outputs": [],
   "source": [
    "item_dict = {}\n",
    "ids = []\n",
    "\n",
    "for file in os.listdir(directory):\n",
    "    filename = os.fsdecode(file)\n",
    "    if filename.endswith(\".tsv\"):\n",
    "        path = directory + file\n",
    "        df = pd.read_csv(path, on_bad_lines='skip', sep='\\t', header=None)\n",
    "        file_id = os.path.splitext(filename)[0].split('.')[0]\n",
    "        item_list = []\n",
    "        ids.append(file_id)\n",
    "        \n",
    "        for row in range(0, len(df)):\n",
    "            if df.iloc[row, 2] == \"take out\" and df.iloc[row, 4] not in item_list:\n",
    "                item_list.append(df.iloc[row, 4])\n",
    "        \n",
    "        item_dict[file_id] = item_list"
   ]
  },
  {
   "cell_type": "code",
   "execution_count": 14,
   "id": "945569cd",
   "metadata": {},
   "outputs": [],
   "source": [
    "item_df['ID'] = ids"
   ]
  },
  {
   "cell_type": "code",
   "execution_count": 15,
   "id": "43d4e924",
   "metadata": {},
   "outputs": [],
   "source": [
    "for row in range(0, len(item_df)):\n",
    "    ID = item_df.at[row, 'ID']\n",
    "    items = item_dict[ID]\n",
    "    item_df.at[row, 'items'] = items"
   ]
  },
  {
   "cell_type": "code",
   "execution_count": 16,
   "id": "d2d473a3",
   "metadata": {},
   "outputs": [],
   "source": [
    "item_df = item_df[item_df['items'].map(len) > 2]"
   ]
  },
  {
   "cell_type": "code",
   "execution_count": 17,
   "id": "5bf63219",
   "metadata": {},
   "outputs": [],
   "source": [
    "item_df = item_df.sort_values('ID')"
   ]
  },
  {
   "cell_type": "code",
   "execution_count": 18,
   "id": "7804f137",
   "metadata": {},
   "outputs": [
    {
     "data": {
      "text/html": [
       "<div>\n",
       "<style scoped>\n",
       "    .dataframe tbody tr th:only-of-type {\n",
       "        vertical-align: middle;\n",
       "    }\n",
       "\n",
       "    .dataframe tbody tr th {\n",
       "        vertical-align: top;\n",
       "    }\n",
       "\n",
       "    .dataframe thead th {\n",
       "        text-align: right;\n",
       "    }\n",
       "</style>\n",
       "<table border=\"1\" class=\"dataframe\">\n",
       "  <thead>\n",
       "    <tr style=\"text-align: right;\">\n",
       "      <th></th>\n",
       "      <th>ID</th>\n",
       "      <th>items</th>\n",
       "    </tr>\n",
       "  </thead>\n",
       "  <tbody>\n",
       "    <tr>\n",
       "      <th>35</th>\n",
       "      <td>s13-d21</td>\n",
       "      <td>[cutting board, knife, cucumber, plate]</td>\n",
       "    </tr>\n",
       "    <tr>\n",
       "      <th>24</th>\n",
       "      <td>s13-d25</td>\n",
       "      <td>[plastic paper bag, plate, knife, cutting board]</td>\n",
       "    </tr>\n",
       "    <tr>\n",
       "      <th>108</th>\n",
       "      <td>s13-d28</td>\n",
       "      <td>[cutting board, knife, orange, plate]</td>\n",
       "    </tr>\n",
       "    <tr>\n",
       "      <th>119</th>\n",
       "      <td>s13-d31</td>\n",
       "      <td>[garlic press, plate, garlic, knife, teaspoon]</td>\n",
       "    </tr>\n",
       "    <tr>\n",
       "      <th>68</th>\n",
       "      <td>s13-d40</td>\n",
       "      <td>[squeezer, plate, plastic bag, knife]</td>\n",
       "    </tr>\n",
       "    <tr>\n",
       "      <th>...</th>\n",
       "      <td>...</td>\n",
       "      <td>...</td>\n",
       "    </tr>\n",
       "    <tr>\n",
       "      <th>125</th>\n",
       "      <td>s37-d21</td>\n",
       "      <td>[cucumber, knife, counter,drawer, plate, peele...</td>\n",
       "    </tr>\n",
       "    <tr>\n",
       "      <th>62</th>\n",
       "      <td>s37-d25</td>\n",
       "      <td>[plastic paper bag, cutting board, knife]</td>\n",
       "    </tr>\n",
       "    <tr>\n",
       "      <th>81</th>\n",
       "      <td>s37-d29</td>\n",
       "      <td>[cutting board, knife, bowl]</td>\n",
       "    </tr>\n",
       "    <tr>\n",
       "      <th>70</th>\n",
       "      <td>s37-d39</td>\n",
       "      <td>[leek, cutting board, knife, pan, bottle, spat...</td>\n",
       "    </tr>\n",
       "    <tr>\n",
       "      <th>96</th>\n",
       "      <td>s37-d46</td>\n",
       "      <td>[pineapple, cutting board, knife, plastic box,...</td>\n",
       "    </tr>\n",
       "  </tbody>\n",
       "</table>\n",
       "<p>124 rows × 2 columns</p>\n",
       "</div>"
      ],
      "text/plain": [
       "          ID                                              items\n",
       "35   s13-d21            [cutting board, knife, cucumber, plate]\n",
       "24   s13-d25   [plastic paper bag, plate, knife, cutting board]\n",
       "108  s13-d28              [cutting board, knife, orange, plate]\n",
       "119  s13-d31     [garlic press, plate, garlic, knife, teaspoon]\n",
       "68   s13-d40              [squeezer, plate, plastic bag, knife]\n",
       "..       ...                                                ...\n",
       "125  s37-d21  [cucumber, knife, counter,drawer, plate, peele...\n",
       "62   s37-d25          [plastic paper bag, cutting board, knife]\n",
       "81   s37-d29                       [cutting board, knife, bowl]\n",
       "70   s37-d39  [leek, cutting board, knife, pan, bottle, spat...\n",
       "96   s37-d46  [pineapple, cutting board, knife, plastic box,...\n",
       "\n",
       "[124 rows x 2 columns]"
      ]
     },
     "execution_count": 18,
     "metadata": {},
     "output_type": "execute_result"
    }
   ],
   "source": [
    "item_df"
   ]
  },
  {
   "cell_type": "code",
   "execution_count": 19,
   "id": "d6cc638d",
   "metadata": {},
   "outputs": [],
   "source": [
    "#item_df.to_csv('mpii2_item_list.csv', index=False, header=True)"
   ]
  },
  {
   "cell_type": "code",
   "execution_count": null,
   "id": "38fafc42",
   "metadata": {},
   "outputs": [],
   "source": []
  }
 ],
 "metadata": {
  "kernelspec": {
   "display_name": "Python 3 (ipykernel)",
   "language": "python",
   "name": "python3"
  },
  "language_info": {
   "codemirror_mode": {
    "name": "ipython",
    "version": 3
   },
   "file_extension": ".py",
   "mimetype": "text/x-python",
   "name": "python",
   "nbconvert_exporter": "python",
   "pygments_lexer": "ipython3",
   "version": "3.7.7"
  }
 },
 "nbformat": 4,
 "nbformat_minor": 5
}
