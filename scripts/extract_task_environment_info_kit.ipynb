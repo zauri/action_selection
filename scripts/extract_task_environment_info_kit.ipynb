{
 "cells": [
  {
   "cell_type": "code",
   "execution_count": 1,
   "id": "792ffb7b",
   "metadata": {},
   "outputs": [],
   "source": [
    "import ast\n",
    "import numpy as np\n",
    "import pandas as pd"
   ]
  },
  {
   "cell_type": "code",
   "execution_count": 2,
   "id": "e62fc4a5",
   "metadata": {},
   "outputs": [],
   "source": [
    "sequences = pd.read_csv('data/kit_sequenzen.csv', header=0)"
   ]
  },
  {
   "cell_type": "code",
   "execution_count": 3,
   "id": "29a37ff0",
   "metadata": {},
   "outputs": [],
   "source": []
  },
  {
   "cell_type": "code",
   "execution_count": 4,
   "id": "e57abca7",
   "metadata": {},
   "outputs": [],
   "source": [
    "df = pd.DataFrame(columns=['ID', 'sequence', 'coordinates', 'start_coordinates', 'set_0',\n",
    "                          'set_1', 'set_2', 'set_3', 'set_4', 'set_5'])"
   ]
  },
  {
   "cell_type": "code",
   "execution_count": 21,
   "id": "a0eca3fe",
   "metadata": {},
   "outputs": [],
   "source": [
    "data = pd.read_csv('data/kit_annotation_clustered.csv', header=0)"
   ]
  },
  {
   "cell_type": "code",
   "execution_count": 22,
   "id": "4592326d",
   "metadata": {},
   "outputs": [],
   "source": [
    "all_items = []\n",
    "\n",
    "for col in data.columns:\n",
    "    if 'geschirr' not in col and 'head' not in col and 'x' in col:\n",
    "        all_items.append(col[:-2])"
   ]
  },
  {
   "cell_type": "code",
   "execution_count": 23,
   "id": "82293ad5",
   "metadata": {},
   "outputs": [],
   "source": [
    "ids = set(data['ID'])"
   ]
  },
  {
   "cell_type": "code",
   "execution_count": 24,
   "id": "3ecfd7bb",
   "metadata": {},
   "outputs": [],
   "source": [
    "df['ID'] = sorted(list(ids))"
   ]
  },
  {
   "cell_type": "markdown",
   "id": "ced27b2f",
   "metadata": {},
   "source": [
    "### get coordinates of all items"
   ]
  },
  {
   "cell_type": "code",
   "execution_count": 25,
   "id": "b7b8a612",
   "metadata": {},
   "outputs": [],
   "source": [
    "for row in range(0, len(df)):\n",
    "    locations_dict = {}\n",
    "    ID = df.at[row, 'ID']\n",
    "    filtered_df = data.loc[data['annotation'] == 'start'].set_index('ID')\n",
    "    \n",
    "    for item in all_items:\n",
    "        locations_dict[item] = [filtered_df.at[ID, str(item) + '_x'],\n",
    "                               filtered_df.at[ID, str(item) + '_y'], 2.0]\n",
    "    df.at[row, 'coordinates'] = locations_dict"
   ]
  },
  {
   "cell_type": "markdown",
   "id": "27bc2d04",
   "metadata": {},
   "source": [
    "### get subject locations"
   ]
  },
  {
   "cell_type": "code",
   "execution_count": 26,
   "id": "97be4074",
   "metadata": {},
   "outputs": [],
   "source": [
    "for row in range(0, len(df)):\n",
    "    subject_locations = []\n",
    "    ID = df.at[row, 'ID']\n",
    "    filtered_annotation = data.loc[data['ID'] == ID].reset_index()\n",
    "    \n",
    "    for row2 in range(0, len(filtered_annotation)):\n",
    "        if filtered_annotation.at[row2, 'annotation'] == 'start':\n",
    "            subject_locations.append([filtered_annotation.at[row2, 'head_x'],\n",
    "                                      filtered_annotation.at[row2, 'head_y'], 2.0])\n",
    "        elif filtered_annotation.at[row2, 'annotation'] == 'nehmen_objekte':\n",
    "            subject_locations.append([filtered_annotation.at[row2 - 1, 'head_x'],\n",
    "                                     filtered_annotation.at[row2 - 1, 'head_y'], 2.0])\n",
    "    \n",
    "    #print(subject_locations)\n",
    "    df.at[row, 'start_coordinates'] = subject_locations"
   ]
  },
  {
   "cell_type": "markdown",
   "id": "1456fe5b",
   "metadata": {},
   "source": [
    "### get sequences\n",
    "- if multiple items are taken together, define sets of items"
   ]
  },
  {
   "cell_type": "code",
   "execution_count": 27,
   "id": "de6c2e7e",
   "metadata": {},
   "outputs": [],
   "source": [
    "object_cols = ['erstes_objekt', 'zweites_objekt', 'drittes_objekt', \n",
    "               'viertes_objekt', 'fuenftes_objekt']\n",
    "\n",
    "for row in range(0 ,len(df)):\n",
    "    ID = df.at[row, 'ID']\n",
    "    filtered_annotation = data.loc[(data['ID'] == ID) & (data['annotation'] == 'nehmen_objekte')].reset_index()\n",
    "    sequence = []\n",
    "    \n",
    "    for row2 in range(0, len(filtered_annotation)):\n",
    "        if pd.isna(filtered_annotation.at[row2, 'zweites_objekt']):\n",
    "            sequence.append(filtered_annotation.at[row2, 'erstes_objekt'])\n",
    "        else:\n",
    "            set_name = str('set') + '_' + str(row2)\n",
    "            sequence.append(set_name)\n",
    "            set_items = []\n",
    "            \n",
    "            if set_name not in df.columns:\n",
    "                df[set_name] = None\n",
    "            \n",
    "            for col in object_cols:\n",
    "                if not pd.isna(filtered_annotation.at[row2, col]):\n",
    "                    set_items.append(filtered_annotation.at[row2, col])\n",
    "                    \n",
    "            df.at[row, set_name] = set_items\n",
    "        \n",
    "    df.at[row, 'sequence'] = sequence "
   ]
  },
  {
   "cell_type": "markdown",
   "id": "5e24da35",
   "metadata": {},
   "source": [
    "### get coordinates for sets"
   ]
  },
  {
   "cell_type": "code",
   "execution_count": 28,
   "id": "42dfc132",
   "metadata": {},
   "outputs": [],
   "source": [
    "set_cols = []\n",
    "\n",
    "for col_name in df.columns:\n",
    "    if 'set' in col_name:\n",
    "        set_cols.append(col_name)\n",
    "        \n",
    "for row in range(0, len(df)):\n",
    "    coords = df.at[row, 'coordinates']\n",
    "    for set_name in set_cols:\n",
    "        item_coords = []\n",
    "        try:\n",
    "            items = df.at[row, set_name]\n",
    "            #print(items)\n",
    "            for item in items:\n",
    "                item_coords.append(coords[item])\n",
    "        \n",
    "            #print(item_coords)\n",
    "            set_coords = list(np.mean(item_coords, axis=0))\n",
    "            #print(set_coords)\n",
    "            coords[set_name] = set_coords\n",
    "        \n",
    "        except:\n",
    "            coords[set_name] = []\n",
    "        \n",
    "        df.at[row, 'coordinates'] = coords"
   ]
  },
  {
   "cell_type": "markdown",
   "id": "e1c8bd75",
   "metadata": {},
   "source": [
    "### remove set coords of sets that don't occur in sequence"
   ]
  },
  {
   "cell_type": "code",
   "execution_count": 29,
   "id": "242de021",
   "metadata": {},
   "outputs": [],
   "source": [
    "for row in range(0, len(df)):\n",
    "    coords = df.at[row, 'coordinates']\n",
    "    to_remove = []\n",
    "    \n",
    "    for k, v in coords.items():\n",
    "        if v == []:\n",
    "            to_remove.append(k)\n",
    "            \n",
    "    for item in to_remove:\n",
    "        del coords[item]"
   ]
  },
  {
   "cell_type": "markdown",
   "id": "15e0bf84",
   "metadata": {},
   "source": [
    "### check for sets in sequence that don't have coordinates"
   ]
  },
  {
   "cell_type": "code",
   "execution_count": 30,
   "id": "1471b0fa",
   "metadata": {},
   "outputs": [],
   "source": [
    "for row in range(0, len(df)):\n",
    "    sequence = df.at[row, 'sequence']\n",
    "    coords = df.at[row, 'coordinates']\n",
    "    ID = df.at[row, 'ID']\n",
    "    \n",
    "    for item in sequence:\n",
    "        if item not in coords:\n",
    "            print(ID, item)"
   ]
  },
  {
   "cell_type": "code",
   "execution_count": 31,
   "id": "4699d656",
   "metadata": {},
   "outputs": [],
   "source": [
    "df.to_csv('kit_task_envs_2022-08-30.csv', header=True, index=False)"
   ]
  },
  {
   "cell_type": "code",
   "execution_count": null,
   "id": "5cf8e4a8",
   "metadata": {},
   "outputs": [],
   "source": []
  },
  {
   "cell_type": "code",
   "execution_count": null,
   "id": "ad9dc25f",
   "metadata": {},
   "outputs": [],
   "source": []
  }
 ],
 "metadata": {
  "kernelspec": {
   "display_name": "Python 3 (ipykernel)",
   "language": "python",
   "name": "python3"
  },
  "language_info": {
   "codemirror_mode": {
    "name": "ipython",
    "version": 3
   },
   "file_extension": ".py",
   "mimetype": "text/x-python",
   "name": "python",
   "nbconvert_exporter": "python",
   "pygments_lexer": "ipython3",
   "version": "3.9.13"
  }
 },
 "nbformat": 4,
 "nbformat_minor": 5
}
