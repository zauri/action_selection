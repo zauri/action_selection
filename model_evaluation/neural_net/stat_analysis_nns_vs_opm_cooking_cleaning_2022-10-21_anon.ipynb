{
 "cells": [
  {
   "cell_type": "code",
   "execution_count": 8,
   "id": "cdef47f5",
   "metadata": {},
   "outputs": [],
   "source": [
    "import ast\n",
    "import pandas as pd\n",
    "\n",
    "from scipy.stats import wilcoxon"
   ]
  },
  {
   "cell_type": "markdown",
   "id": "50d20b07",
   "metadata": {},
   "source": [
    "### preprocess data"
   ]
  },
  {
   "cell_type": "code",
   "execution_count": 2,
   "id": "8d17b8cd",
   "metadata": {},
   "outputs": [],
   "source": [
    "cleaning = pd.read_csv('results/results_cleaning_2D_n100_fitted_to_ts_2022-08-30.csv', header=0)"
   ]
  },
  {
   "cell_type": "code",
   "execution_count": 3,
   "id": "887dfc1f",
   "metadata": {},
   "outputs": [],
   "source": [
    "cooking = pd.read_csv('results/results_tablesetting_cooking_2D_n100_fitted_to_ts_on_2022-06-03.csv', header=0)"
   ]
  },
  {
   "cell_type": "code",
   "execution_count": 27,
   "id": "1a0ddf08",
   "metadata": {},
   "outputs": [],
   "source": [
    "with open ('results/pytorch_rnn_prequential_summed_fitted_on_ts_results_cooking_2022-06-09.txt', 'r') as file:\n",
    "    rnn_results_cooking = ast.literal_eval(file.read())"
   ]
  },
  {
   "cell_type": "code",
   "execution_count": null,
   "id": "f1a9d3ae",
   "metadata": {},
   "outputs": [],
   "source": []
  },
  {
   "cell_type": "code",
   "execution_count": 29,
   "id": "35abff18",
   "metadata": {},
   "outputs": [],
   "source": [
    "with open ('results/nn_spatialinfo_prequential_summed_fitted_on_ts_results_all_2022-06-07.txt', 'r') as file:\n",
    "    nn_results = ast.literal_eval(file.read())"
   ]
  },
  {
   "cell_type": "code",
   "execution_count": 15,
   "id": "6ac8b515",
   "metadata": {},
   "outputs": [],
   "source": [
    "nn_results_cooking = nn_results[186:]"
   ]
  },
  {
   "cell_type": "code",
   "execution_count": 22,
   "id": "f3481cba",
   "metadata": {},
   "outputs": [],
   "source": [
    "opm_cooking = cooking[186:]['median']"
   ]
  },
  {
   "cell_type": "code",
   "execution_count": 23,
   "id": "ed13dc1b",
   "metadata": {},
   "outputs": [],
   "source": [
    "opm_cleaning = cleaning['median']"
   ]
  },
  {
   "cell_type": "code",
   "execution_count": 33,
   "id": "5bf4540e",
   "metadata": {},
   "outputs": [],
   "source": [
    "with open ('results/pytorch_rnn_prequential_summed_fitted_ts_cleaning_2022-10-11.txt', 'r') as file:\n",
    "    rnn_results_cleaning = ast.literal_eval(file.read())"
   ]
  },
  {
   "cell_type": "code",
   "execution_count": 34,
   "id": "68d878d5",
   "metadata": {},
   "outputs": [],
   "source": [
    "with open ('results/nn_spatialinfo_prequential_summed_fitted_on_ts_results_cleaning_2022-10-11.txt', 'r') as file:\n",
    "    nn_results_cleaning = ast.literal_eval(file.read())"
   ]
  },
  {
   "cell_type": "markdown",
   "id": "7e82f29a",
   "metadata": {},
   "source": [
    "### stat analysis"
   ]
  },
  {
   "cell_type": "markdown",
   "id": "e39c276e",
   "metadata": {},
   "source": [
    "### 1. cooking"
   ]
  },
  {
   "cell_type": "code",
   "execution_count": 53,
   "id": "cfcdaa3d",
   "metadata": {},
   "outputs": [
    {
     "name": "stdout",
     "output_type": "stream",
     "text": [
      "Wilcoxon: W = 0.000, p = 0.00000\n"
     ]
    }
   ],
   "source": [
    "# nn vs opm\n",
    "stat, p = wilcoxon(opm_cooking, nn_results_cooking, zero_method='wilcox')\n",
    "print('Wilcoxon: W = %.3f, p = %.5f' % (stat, p))"
   ]
  },
  {
   "cell_type": "code",
   "execution_count": 44,
   "id": "fcabf364",
   "metadata": {},
   "outputs": [
    {
     "name": "stdout",
     "output_type": "stream",
     "text": [
      "Wilcoxon: W = 319.500, p = 0.00000\n"
     ]
    }
   ],
   "source": [
    "# rnn vs opm\n",
    "stat, p = wilcoxon(opm_cooking, rnn_results_cooking, zero_method='wilcox')\n",
    "print('Wilcoxon: W = %.3f, p = %.5f' % (stat, p))"
   ]
  },
  {
   "cell_type": "markdown",
   "id": "bc99b413",
   "metadata": {},
   "source": [
    "### 2. cleaning"
   ]
  },
  {
   "cell_type": "code",
   "execution_count": 49,
   "id": "e74f7be5",
   "metadata": {},
   "outputs": [
    {
     "name": "stdout",
     "output_type": "stream",
     "text": [
      "Wilcoxon: W = 0.000, p = 0.00002\n"
     ]
    }
   ],
   "source": [
    "# nn vs opm\n",
    "stat, p = wilcoxon(opm_cleaning, nn_results_cleaning, zero_method='wilcox')\n",
    "print('Wilcoxon: W = %.3f, p = %.5f' % (stat, p))"
   ]
  },
  {
   "cell_type": "code",
   "execution_count": 51,
   "id": "20cbe856",
   "metadata": {},
   "outputs": [
    {
     "name": "stdout",
     "output_type": "stream",
     "text": [
      "Wilcoxon: W = 0.000, p = 0.00040\n"
     ]
    }
   ],
   "source": [
    "# rnn vs opm\n",
    "stat, p = wilcoxon(opm_cleaning, rnn_results_cleaning, zero_method='wilcox')\n",
    "print('Wilcoxon: W = %.3f, p = %.5f' % (stat, p))"
   ]
  },
  {
   "cell_type": "markdown",
   "id": "1654c121",
   "metadata": {},
   "source": [
    "### compare results"
   ]
  },
  {
   "cell_type": "code",
   "execution_count": 64,
   "id": "f0fb17b5",
   "metadata": {},
   "outputs": [],
   "source": [
    "results_cooking = pd.DataFrame()\n",
    "results_cooking['opm'] = opm_cooking\n",
    "results_cooking['nn'] = nn_results_cooking\n",
    "results_cooking['rnn'] = rnn_results_cooking"
   ]
  },
  {
   "cell_type": "code",
   "execution_count": 62,
   "id": "423326c4",
   "metadata": {},
   "outputs": [
    {
     "data": {
      "text/html": [
       "<div>\n",
       "<style scoped>\n",
       "    .dataframe tbody tr th:only-of-type {\n",
       "        vertical-align: middle;\n",
       "    }\n",
       "\n",
       "    .dataframe tbody tr th {\n",
       "        vertical-align: top;\n",
       "    }\n",
       "\n",
       "    .dataframe thead th {\n",
       "        text-align: right;\n",
       "    }\n",
       "</style>\n",
       "<table border=\"1\" class=\"dataframe\">\n",
       "  <thead>\n",
       "    <tr style=\"text-align: right;\">\n",
       "      <th></th>\n",
       "      <th>opm</th>\n",
       "      <th>nn</th>\n",
       "      <th>rnn</th>\n",
       "    </tr>\n",
       "  </thead>\n",
       "  <tbody>\n",
       "    <tr>\n",
       "      <th>186</th>\n",
       "      <td>0.0</td>\n",
       "      <td>4.0</td>\n",
       "      <td>2.0</td>\n",
       "    </tr>\n",
       "    <tr>\n",
       "      <th>187</th>\n",
       "      <td>1.5</td>\n",
       "      <td>4.0</td>\n",
       "      <td>3.0</td>\n",
       "    </tr>\n",
       "    <tr>\n",
       "      <th>188</th>\n",
       "      <td>1.0</td>\n",
       "      <td>4.0</td>\n",
       "      <td>2.0</td>\n",
       "    </tr>\n",
       "    <tr>\n",
       "      <th>189</th>\n",
       "      <td>3.0</td>\n",
       "      <td>5.0</td>\n",
       "      <td>4.0</td>\n",
       "    </tr>\n",
       "    <tr>\n",
       "      <th>190</th>\n",
       "      <td>3.0</td>\n",
       "      <td>3.0</td>\n",
       "      <td>3.0</td>\n",
       "    </tr>\n",
       "    <tr>\n",
       "      <th>...</th>\n",
       "      <td>...</td>\n",
       "      <td>...</td>\n",
       "      <td>...</td>\n",
       "    </tr>\n",
       "    <tr>\n",
       "      <th>304</th>\n",
       "      <td>3.0</td>\n",
       "      <td>6.0</td>\n",
       "      <td>5.0</td>\n",
       "    </tr>\n",
       "    <tr>\n",
       "      <th>305</th>\n",
       "      <td>1.0</td>\n",
       "      <td>3.0</td>\n",
       "      <td>1.0</td>\n",
       "    </tr>\n",
       "    <tr>\n",
       "      <th>306</th>\n",
       "      <td>1.0</td>\n",
       "      <td>4.0</td>\n",
       "      <td>2.0</td>\n",
       "    </tr>\n",
       "    <tr>\n",
       "      <th>307</th>\n",
       "      <td>4.0</td>\n",
       "      <td>7.0</td>\n",
       "      <td>5.0</td>\n",
       "    </tr>\n",
       "    <tr>\n",
       "      <th>308</th>\n",
       "      <td>2.0</td>\n",
       "      <td>3.0</td>\n",
       "      <td>3.0</td>\n",
       "    </tr>\n",
       "  </tbody>\n",
       "</table>\n",
       "<p>123 rows × 3 columns</p>\n",
       "</div>"
      ],
      "text/plain": [
       "     opm   nn  rnn\n",
       "186  0.0  4.0  2.0\n",
       "187  1.5  4.0  3.0\n",
       "188  1.0  4.0  2.0\n",
       "189  3.0  5.0  4.0\n",
       "190  3.0  3.0  3.0\n",
       "..   ...  ...  ...\n",
       "304  3.0  6.0  5.0\n",
       "305  1.0  3.0  1.0\n",
       "306  1.0  4.0  2.0\n",
       "307  4.0  7.0  5.0\n",
       "308  2.0  3.0  3.0\n",
       "\n",
       "[123 rows x 3 columns]"
      ]
     },
     "execution_count": 62,
     "metadata": {},
     "output_type": "execute_result"
    }
   ],
   "source": [
    "results_cooking"
   ]
  },
  {
   "cell_type": "code",
   "execution_count": 63,
   "id": "b82059d8",
   "metadata": {},
   "outputs": [],
   "source": [
    "results_cleaning = pd.DataFrame()\n",
    "results_cleaning['opm'] = opm_cleaning\n",
    "results_cleaning['nn'] = nn_results_cleaning\n",
    "results_cleaning['rnn'] = rnn_results_cleaning"
   ]
  },
  {
   "cell_type": "code",
   "execution_count": 65,
   "id": "ddfe41cc",
   "metadata": {},
   "outputs": [
    {
     "data": {
      "text/html": [
       "<div>\n",
       "<style scoped>\n",
       "    .dataframe tbody tr th:only-of-type {\n",
       "        vertical-align: middle;\n",
       "    }\n",
       "\n",
       "    .dataframe tbody tr th {\n",
       "        vertical-align: top;\n",
       "    }\n",
       "\n",
       "    .dataframe thead th {\n",
       "        text-align: right;\n",
       "    }\n",
       "</style>\n",
       "<table border=\"1\" class=\"dataframe\">\n",
       "  <thead>\n",
       "    <tr style=\"text-align: right;\">\n",
       "      <th></th>\n",
       "      <th>opm</th>\n",
       "      <th>nn</th>\n",
       "      <th>rnn</th>\n",
       "    </tr>\n",
       "  </thead>\n",
       "  <tbody>\n",
       "    <tr>\n",
       "      <th>0</th>\n",
       "      <td>3.0</td>\n",
       "      <td>6.0</td>\n",
       "      <td>5.0</td>\n",
       "    </tr>\n",
       "    <tr>\n",
       "      <th>1</th>\n",
       "      <td>2.0</td>\n",
       "      <td>5.0</td>\n",
       "      <td>4.0</td>\n",
       "    </tr>\n",
       "    <tr>\n",
       "      <th>2</th>\n",
       "      <td>1.0</td>\n",
       "      <td>5.0</td>\n",
       "      <td>4.0</td>\n",
       "    </tr>\n",
       "    <tr>\n",
       "      <th>3</th>\n",
       "      <td>6.0</td>\n",
       "      <td>7.0</td>\n",
       "      <td>7.0</td>\n",
       "    </tr>\n",
       "    <tr>\n",
       "      <th>4</th>\n",
       "      <td>3.0</td>\n",
       "      <td>9.0</td>\n",
       "      <td>8.0</td>\n",
       "    </tr>\n",
       "    <tr>\n",
       "      <th>5</th>\n",
       "      <td>3.0</td>\n",
       "      <td>8.0</td>\n",
       "      <td>7.0</td>\n",
       "    </tr>\n",
       "    <tr>\n",
       "      <th>6</th>\n",
       "      <td>4.0</td>\n",
       "      <td>10.0</td>\n",
       "      <td>9.0</td>\n",
       "    </tr>\n",
       "    <tr>\n",
       "      <th>7</th>\n",
       "      <td>5.0</td>\n",
       "      <td>9.0</td>\n",
       "      <td>8.0</td>\n",
       "    </tr>\n",
       "    <tr>\n",
       "      <th>8</th>\n",
       "      <td>5.0</td>\n",
       "      <td>8.0</td>\n",
       "      <td>7.0</td>\n",
       "    </tr>\n",
       "    <tr>\n",
       "      <th>9</th>\n",
       "      <td>4.0</td>\n",
       "      <td>6.0</td>\n",
       "      <td>5.0</td>\n",
       "    </tr>\n",
       "    <tr>\n",
       "      <th>10</th>\n",
       "      <td>6.0</td>\n",
       "      <td>10.0</td>\n",
       "      <td>9.0</td>\n",
       "    </tr>\n",
       "    <tr>\n",
       "      <th>11</th>\n",
       "      <td>3.0</td>\n",
       "      <td>8.0</td>\n",
       "      <td>7.0</td>\n",
       "    </tr>\n",
       "    <tr>\n",
       "      <th>12</th>\n",
       "      <td>3.0</td>\n",
       "      <td>7.0</td>\n",
       "      <td>6.0</td>\n",
       "    </tr>\n",
       "    <tr>\n",
       "      <th>13</th>\n",
       "      <td>5.0</td>\n",
       "      <td>8.0</td>\n",
       "      <td>7.0</td>\n",
       "    </tr>\n",
       "    <tr>\n",
       "      <th>14</th>\n",
       "      <td>4.0</td>\n",
       "      <td>5.0</td>\n",
       "      <td>4.0</td>\n",
       "    </tr>\n",
       "    <tr>\n",
       "      <th>15</th>\n",
       "      <td>4.0</td>\n",
       "      <td>9.0</td>\n",
       "      <td>8.0</td>\n",
       "    </tr>\n",
       "    <tr>\n",
       "      <th>16</th>\n",
       "      <td>4.0</td>\n",
       "      <td>6.0</td>\n",
       "      <td>7.0</td>\n",
       "    </tr>\n",
       "  </tbody>\n",
       "</table>\n",
       "</div>"
      ],
      "text/plain": [
       "    opm    nn  rnn\n",
       "0   3.0   6.0  5.0\n",
       "1   2.0   5.0  4.0\n",
       "2   1.0   5.0  4.0\n",
       "3   6.0   7.0  7.0\n",
       "4   3.0   9.0  8.0\n",
       "5   3.0   8.0  7.0\n",
       "6   4.0  10.0  9.0\n",
       "7   5.0   9.0  8.0\n",
       "8   5.0   8.0  7.0\n",
       "9   4.0   6.0  5.0\n",
       "10  6.0  10.0  9.0\n",
       "11  3.0   8.0  7.0\n",
       "12  3.0   7.0  6.0\n",
       "13  5.0   8.0  7.0\n",
       "14  4.0   5.0  4.0\n",
       "15  4.0   9.0  8.0\n",
       "16  4.0   6.0  7.0"
      ]
     },
     "execution_count": 65,
     "metadata": {},
     "output_type": "execute_result"
    }
   ],
   "source": [
    "results_cleaning"
   ]
  },
  {
   "cell_type": "code",
   "execution_count": null,
   "id": "d988e9f9",
   "metadata": {},
   "outputs": [],
   "source": []
  }
 ],
 "metadata": {
  "kernelspec": {
   "display_name": "Python 3 (ipykernel)",
   "language": "python",
   "name": "python3"
  },
  "language_info": {
   "codemirror_mode": {
    "name": "ipython",
    "version": 3
   },
   "file_extension": ".py",
   "mimetype": "text/x-python",
   "name": "python",
   "nbconvert_exporter": "python",
   "pygments_lexer": "ipython3",
   "version": "3.9.16"
  }
 },
 "nbformat": 4,
 "nbformat_minor": 5
}
