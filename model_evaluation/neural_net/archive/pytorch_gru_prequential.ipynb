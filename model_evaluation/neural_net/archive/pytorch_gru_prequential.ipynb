{
 "cells": [
  {
   "cell_type": "code",
   "execution_count": 1,
   "id": "interested-destruction",
   "metadata": {},
   "outputs": [],
   "source": [
    "import unidecode\n",
    "import string\n",
    "import random\n",
    "import re\n",
    "import time\n",
    "import math\n",
    "import matplotlib.pyplot as plt\n",
    "import matplotlib.ticker as ticker\n",
    "import numpy as np\n",
    "\n",
    "import torch\n",
    "import torch.nn as nn\n",
    "from torch.autograd import Variable\n",
    "from fastDamerauLevenshtein import damerauLevenshtein"
   ]
  },
  {
   "cell_type": "code",
   "execution_count": 2,
   "id": "genetic-jonathan",
   "metadata": {},
   "outputs": [
    {
     "name": "stdout",
     "output_type": "stream",
     "text": [
      "file_len = 1592\n"
     ]
    },
    {
     "data": {
      "text/plain": [
       "'0123456789abcdefghijklmnopqrstuvwxyzABCDEFGHIJKLMNOPQRSTUVWXYZ!\"#$%&\\'()*+,-./:;<=>?@[\\\\]^_`{|}~ \\t\\n\\r\\x0b\\x0c'"
      ]
     },
     "execution_count": 2,
     "metadata": {},
     "output_type": "execute_result"
    }
   ],
   "source": [
    "all_characters = string.printable\n",
    "n_characters = len(all_characters)\n",
    "\n",
    "file = unidecode.unidecode(open('data.txt').read())\n",
    "file_len = len(file)\n",
    "print('file_len =', file_len)\n",
    "all_characters"
   ]
  },
  {
   "cell_type": "code",
   "execution_count": 3,
   "id": "welsh-warner",
   "metadata": {},
   "outputs": [],
   "source": [
    "data_split = file.splitlines()"
   ]
  },
  {
   "cell_type": "code",
   "execution_count": 4,
   "id": "blocked-absence",
   "metadata": {},
   "outputs": [],
   "source": [
    "#file2 = file.replace('\\n','')\n",
    "#file2"
   ]
  },
  {
   "cell_type": "code",
   "execution_count": 5,
   "id": "peaceful-moses",
   "metadata": {},
   "outputs": [
    {
     "data": {
      "text/plain": [
       "'mdc\\nIparngswzfxokbhet'"
      ]
     },
     "execution_count": 5,
     "metadata": {},
     "output_type": "execute_result"
    }
   ],
   "source": [
    "all_chars = ''.join(set(sorted(file)))\n",
    "all_chars"
   ]
  },
  {
   "cell_type": "code",
   "execution_count": 6,
   "id": "loving-validity",
   "metadata": {},
   "outputs": [],
   "source": [
    "chunk_len = 300"
   ]
  },
  {
   "cell_type": "code",
   "execution_count": 7,
   "id": "excited-tenant",
   "metadata": {},
   "outputs": [],
   "source": [
    "def random_chunk():\n",
    "    start_index = random.randint(0, file_len - chunk_len)\n",
    "    end_index = start_index + chunk_len + 1\n",
    "    return file[start_index:end_index]"
   ]
  },
  {
   "cell_type": "code",
   "execution_count": null,
   "id": "prescription-scroll",
   "metadata": {},
   "outputs": [],
   "source": []
  },
  {
   "cell_type": "code",
   "execution_count": 8,
   "id": "eleven-resolution",
   "metadata": {},
   "outputs": [],
   "source": [
    "class RNN(nn.Module):\n",
    "    def __init__(self, input_size, hidden_size, output_size, n_layers=1):\n",
    "        super(RNN, self).__init__()\n",
    "        self.input_size = input_size\n",
    "        self.hidden_size = hidden_size\n",
    "        self.output_size = output_size\n",
    "        self.n_layers = n_layers\n",
    "        \n",
    "        self.encoder = nn.Embedding(input_size, hidden_size)\n",
    "        self.gru = nn.GRU(hidden_size, hidden_size, n_layers)\n",
    "        self.decoder = nn.Linear(hidden_size, output_size)\n",
    "        \n",
    "    def forward(self, input, hidden):\n",
    "        input = self.encoder(input.view(1, -1))\n",
    "        output, hidden = self.gru(input.view(1, 1, -1), hidden)\n",
    "        output = self.decoder(output.view(1, -1))\n",
    "        return output, hidden\n",
    "    \n",
    "    def init_hidden(self):\n",
    "        return Variable(torch.zeros(self.n_layers, 1, self.hidden_size))"
   ]
  },
  {
   "cell_type": "code",
   "execution_count": 9,
   "id": "engaged-midwest",
   "metadata": {},
   "outputs": [],
   "source": [
    "def char_tensor(string):\n",
    "    tensor = torch.zeros(len(string)).long()\n",
    "    for c in range(len(string)):\n",
    "        tensor[c] = all_characters.index(string[c])\n",
    "    return Variable(tensor)"
   ]
  },
  {
   "cell_type": "code",
   "execution_count": 10,
   "id": "spare-saver",
   "metadata": {},
   "outputs": [],
   "source": [
    "def random_training_set():    \n",
    "    chunk = random_chunk()\n",
    "    inp = char_tensor(chunk[:-1])\n",
    "    target = char_tensor(chunk[1:])\n",
    "    return inp, target"
   ]
  },
  {
   "cell_type": "code",
   "execution_count": 11,
   "id": "greatest-agency",
   "metadata": {},
   "outputs": [],
   "source": [
    "def evaluate(prime_str='A', predict_len=100, temperature=0.8):\n",
    "    hidden = decoder.init_hidden()\n",
    "    prime_input = char_tensor(prime_str)\n",
    "    predicted = prime_str\n",
    "\n",
    "    # Use priming string to \"build up\" hidden state\n",
    "    for p in range(len(prime_str) - 1):\n",
    "        _, hidden = decoder(prime_input[p], hidden)\n",
    "    inp = prime_input[-1]\n",
    "    \n",
    "    for p in range(predict_len):\n",
    "        output, hidden = decoder(inp, hidden)\n",
    "        \n",
    "        # Sample from the network as a multinomial distribution\n",
    "        output_dist = output.data.view(-1).div(temperature).exp()\n",
    "        top_i = torch.multinomial(output_dist, 1)[0]\n",
    "        \n",
    "        # Add predicted character to string and use as next input\n",
    "        predicted_char = all_characters[top_i]\n",
    "        predicted += predicted_char\n",
    "        inp = char_tensor(predicted_char)\n",
    "\n",
    "    return predicted"
   ]
  },
  {
   "cell_type": "code",
   "execution_count": 12,
   "id": "paperback-ballet",
   "metadata": {},
   "outputs": [],
   "source": [
    "def time_since(since):\n",
    "    s = time.time() - since\n",
    "    m = math.floor(s / 60)\n",
    "    s -= m * 60\n",
    "    return '%dm %ds' % (m, s)"
   ]
  },
  {
   "cell_type": "code",
   "execution_count": 13,
   "id": "activated-grass",
   "metadata": {},
   "outputs": [],
   "source": [
    "def train(inp, target):\n",
    "    hidden = decoder.init_hidden()\n",
    "    decoder.zero_grad()\n",
    "    loss = 0\n",
    "\n",
    "    for c in range(chunk_len):\n",
    "        output, hidden = decoder(inp[c], hidden)\n",
    "        loss += criterion(output, torch.LongTensor([target[c]]))\n",
    "\n",
    "    loss.backward()\n",
    "    decoder_optimizer.step()\n",
    "\n",
    "    return loss.data / chunk_len"
   ]
  },
  {
   "cell_type": "code",
   "execution_count": null,
   "id": "occupied-certificate",
   "metadata": {
    "scrolled": true
   },
   "outputs": [],
   "source": []
  },
  {
   "cell_type": "code",
   "execution_count": 31,
   "id": "outdoor-gibson",
   "metadata": {},
   "outputs": [
    {
     "data": {
      "text/plain": [
       "'\\np'"
      ]
     },
     "execution_count": 31,
     "metadata": {},
     "output_type": "execute_result"
    }
   ],
   "source": [
    "evaluate('\\n', 1, temperature=0.4)"
   ]
  },
  {
   "cell_type": "markdown",
   "id": "acceptable-variance",
   "metadata": {},
   "source": [
    "### Prequential method"
   ]
  },
  {
   "cell_type": "code",
   "execution_count": 14,
   "id": "piano-cooking",
   "metadata": {
    "collapsed": true
   },
   "outputs": [
    {
     "name": "stdout",
     "output_type": "stream",
     "text": [
      "[0m 8s (50 16%) 1.6368]\n",
      "pofkfsfg\n",
      "pfksr\n",
      "pskfbs\n",
      "pocgwfkfkfkfks\n",
      "pocogpbfsgkfkgr\n",
      "wpwgfkso\n",
      "pkfsagbkfs\n",
      "gpsfsgcb\n",
      "pwgfgkfsfkfr\n",
      "pabscfk \n",
      "\n",
      "[0m 17s (100 33%) 0.8471]\n",
      "poc\n",
      "wtgpkfsocr\n",
      "pwkfg\n",
      "cwgpowr\n",
      "pocgw\n",
      "pwogkfksr\n",
      "cwpagbfkscb\n",
      "pkfscga\n",
      "pcsfksbagc\n",
      "psfkgaca\n",
      "pkfsgbac\n",
      "pkfsbcga \n",
      "\n",
      "[0m 26s (150 50%) 0.9064]\n",
      "pococ\n",
      "pocwkr\n",
      "pwofkfksocr\n",
      "pmck\n",
      "pwocococreo\n",
      "pwfksocr\n",
      "pocgwpow\n",
      "pocwksfkf\n",
      "cpwgfkfsr\n",
      "pwogfkswgre\n",
      "pocopwg\n",
      "pw \n",
      "\n",
      "[0m 35s (200 66%) 0.6556]\n",
      "pocwcfksfksr\n",
      "pocwgfkf\n",
      "perkscwgtf\n",
      "pwgfkf\n",
      "cpogskfr\n",
      "pgcowprfkfks\n",
      "pocopwgcowpgsfkf\n",
      "pwgfkfk\n",
      "pwgfksfk\n",
      "gpwkf\n",
      " \n",
      "\n",
      "[0m 44s (250 83%) 0.3520]\n",
      "poc\n",
      "gwpfkf\n",
      "gwpocopwg\n",
      "pwogcopwgre\n",
      "pocrfkfk\n",
      "pocwkf\n",
      "pgxfkf\n",
      "gpwkf\n",
      "copwg\n",
      "powcgkfskfr\n",
      "pwgkfs\n",
      "gwopwgpcopocsfk \n",
      "\n",
      "[0m 53s (300 100%) 0.6430]\n",
      "pocwgkfs\n",
      "pocgwptorekfksksg\n",
      "pwocfksfksr\n",
      "pwgerk\n",
      "pwocfkskfr\n",
      "gwpcopwgterkfswgre\n",
      "ocwprkfsoc\n",
      "pocgwrkfs\n",
      "tgcwp \n",
      "\n"
     ]
    }
   ],
   "source": [
    "n_epochs = 300\n",
    "print_every = 50\n",
    "plot_every = 10\n",
    "hidden_size = 100\n",
    "n_layers = 1\n",
    "lr = 0.005\n",
    "\n",
    "decoder = RNN(n_characters, hidden_size, n_characters, n_layers)\n",
    "decoder_optimizer = torch.optim.Adam(decoder.parameters(), lr=lr)\n",
    "criterion = nn.CrossEntropyLoss()\n",
    "\n",
    "start = time.time()\n",
    "all_losses = []\n",
    "loss_avg = 0\n",
    "\n",
    "for epoch in range(1, n_epochs + 1):\n",
    "    loss = train(*random_training_set())       \n",
    "    loss_avg += loss\n",
    "\n",
    "    if epoch % print_every == 0:\n",
    "        print('[%s (%d %d%%) %.4f]' % (time_since(start), epoch, epoch / n_epochs * 100, loss))\n",
    "        print(evaluate('po', 100), '\\n')\n",
    "\n",
    "    if epoch % plot_every == 0:\n",
    "        all_losses.append(loss_avg / plot_every)\n",
    "        loss_avg = 0"
   ]
  },
  {
   "cell_type": "code",
   "execution_count": 15,
   "id": "presidential-colon",
   "metadata": {},
   "outputs": [
    {
     "data": {
      "text/plain": [
       "[<matplotlib.lines.Line2D at 0x7f3f85fa3610>]"
      ]
     },
     "execution_count": 15,
     "metadata": {},
     "output_type": "execute_result"
    },
    {
     "data": {
      "image/png": "[encoded data removed]",
      "text/plain": [
       "<Figure size 432x288 with 1 Axes>"
      ]
     },
     "metadata": {
      "needs_background": "light"
     },
     "output_type": "display_data"
    }
   ],
   "source": [
    "plt.figure()\n",
    "plt.plot(all_losses)"
   ]
  },
  {
   "cell_type": "code",
   "execution_count": 32,
   "id": "undefined-denver",
   "metadata": {},
   "outputs": [],
   "source": [
    "results = [[] for line in data_split]\n",
    "errors = [[] for x in data_split]\n",
    "\n",
    "for line in range(0, len(data_split)):\n",
    "    i = 0\n",
    "    \n",
    "    while i < len(data_split[line]):\n",
    "        if i == 0:\n",
    "            # generate prediction for first char (input: newline character)\n",
    "            first_char = evaluate('\\n', 1, temperature=0.4)\n",
    "            predicted = first_char[1]\n",
    "            observed = data_split[line][i]\n",
    "            #print(predicted, observed)\n",
    "            error = 1 - damerauLevenshtein(predicted, observed)\n",
    "            errors[line].append(error)\n",
    "            i += 1\n",
    "            \n",
    "        else:\n",
    "            # generate prediction for next char (input: current char)\n",
    "            next_char = evaluate(data_split[line][i-1], 1, temperature=0.4)\n",
    "            predicted = next_char[1]\n",
    "            observed = data_split[line][i]\n",
    "            #print(predicted, observed)\n",
    "            error = 1 - damerauLevenshtein(predicted, observed)\n",
    "            errors[line].append(error)\n",
    "            i += 1"
   ]
  },
  {
   "cell_type": "code",
   "execution_count": 23,
   "id": "broad-bidding",
   "metadata": {
    "collapsed": true
   },
   "outputs": [
    {
     "data": {
      "text/plain": [
       "[[0.0, 0.0, 0.0, 1.0, 1.0, 1.0],\n",
       " [1.0, 1.0, 1.0, 0.0, 1.0, 1.0, 1.0, 1.0],\n",
       " [1.0, 0.0, 1.0, 0.0, 0.0, 1.0, 1.0, 1.0, 0.0],\n",
       " [0.0, 1.0, 0.0, 1.0, 1.0, 1.0, 0.0, 1.0, 1.0, 0.0, 0.0, 0.0, 1.0],\n",
       " [1.0, 1.0, 1.0, 1.0, 1.0, 0.0, 1.0, 1.0, 0.0],\n",
       " [0.0, 1.0, 1.0, 0.0, 1.0],\n",
       " [0.0, 1.0, 1.0, 1.0, 1.0, 0.0],\n",
       " [1.0, 1.0, 1.0, 1.0, 0.0, 0.0, 1.0],\n",
       " [1.0, 1.0, 1.0, 1.0, 1.0, 0.0, 1.0, 1.0, 1.0, 0.0],\n",
       " [1.0, 1.0, 1.0, 1.0, 1.0, 0.0, 1.0, 0.0, 0.0],\n",
       " [0.0, 1.0, 0.0, 1.0, 1.0, 0.0, 1.0, 1.0, 0.0, 1.0],\n",
       " [1.0, 1.0, 1.0, 1.0, 1.0, 1.0, 1.0, 0.0],\n",
       " [0.0, 1.0, 1.0, 0.0, 1.0, 1.0, 0.0, 0.0, 0.0, 1.0, 0.0, 0.0, 0.0],\n",
       " [1.0, 0.0, 1.0, 0.0, 1.0, 1.0],\n",
       " [1.0, 1.0, 1.0, 1.0, 0.0, 0.0],\n",
       " [0.0, 0.0, 1.0, 1.0, 1.0, 1.0],\n",
       " [0.0, 1.0, 0.0, 1.0, 0.0, 0.0, 1.0, 0.0, 1.0, 0.0, 1.0],\n",
       " [0.0, 0.0, 0.0, 0.0, 0.0, 0.0],\n",
       " [0.0, 0.0, 0.0, 1.0, 0.0, 1.0, 0.0, 1.0, 0.0, 1.0, 1.0, 1.0, 0.0, 1.0],\n",
       " [1.0, 0.0, 1.0, 0.0, 0.0, 0.0, 0.0, 1.0, 0.0, 0.0, 1.0, 1.0, 0.0, 0.0, 0.0],\n",
       " [1.0, 1.0, 1.0, 0.0, 0.0, 1.0, 1.0, 1.0, 0.0, 1.0, 1.0],\n",
       " [0.0, 0.0, 1.0, 0.0, 0.0, 1.0, 0.0, 0.0],\n",
       " [0.0, 1.0, 0.0, 1.0, 0.0, 1.0, 1.0, 1.0, 0.0, 0.0, 0.0, 1.0, 1.0, 0.0, 0.0],\n",
       " [1.0,\n",
       "  1.0,\n",
       "  1.0,\n",
       "  1.0,\n",
       "  1.0,\n",
       "  0.0,\n",
       "  1.0,\n",
       "  1.0,\n",
       "  1.0,\n",
       "  1.0,\n",
       "  0.0,\n",
       "  1.0,\n",
       "  0.0,\n",
       "  1.0,\n",
       "  1.0,\n",
       "  0.0,\n",
       "  1.0],\n",
       " [1.0, 1.0, 1.0, 1.0, 0.0, 1.0, 1.0, 1.0],\n",
       " [0.0, 1.0, 1.0, 0.0, 1.0, 1.0, 1.0, 1.0],\n",
       " [0.0, 1.0, 0.0, 1.0, 0.0, 1.0, 0.0, 0.0, 0.0, 1.0, 1.0, 0.0],\n",
       " [0.0, 1.0, 1.0, 1.0, 1.0, 1.0, 1.0, 1.0, 1.0],\n",
       " [0.0, 1.0, 1.0, 0.0, 1.0, 1.0, 1.0],\n",
       " [0.0, 1.0, 1.0, 0.0, 1.0],\n",
       " [0.0, 1.0, 1.0, 1.0, 0.0, 0.0, 1.0, 1.0],\n",
       " [1.0, 1.0, 1.0, 1.0, 1.0, 1.0, 1.0, 1.0, 0.0, 1.0, 0.0, 1.0, 1.0],\n",
       " [0.0, 1.0, 1.0, 0.0, 0.0, 1.0, 1.0, 0.0, 1.0],\n",
       " [1.0, 0.0, 1.0, 1.0, 1.0, 0.0, 1.0, 1.0, 0.0, 0.0],\n",
       " [0.0, 0.0, 1.0, 1.0, 1.0, 1.0, 0.0],\n",
       " [0.0, 1.0, 0.0, 1.0, 1.0, 1.0, 1.0, 0.0, 1.0, 1.0],\n",
       " [0.0, 1.0, 1.0, 1.0, 1.0, 1.0, 1.0, 0.0, 0.0, 0.0, 1.0],\n",
       " [0.0, 1.0, 1.0, 1.0, 0.0, 1.0, 1.0, 1.0],\n",
       " [0.0, 0.0, 1.0, 1.0, 1.0, 1.0, 0.0, 0.0, 0.0, 1.0, 1.0],\n",
       " [0.0, 0.0, 0.0, 0.0, 1.0, 0.0],\n",
       " [0.0, 1.0, 1.0, 0.0, 0.0, 0.0],\n",
       " [1.0, 1.0, 1.0, 1.0, 1.0],\n",
       " [0.0, 0.0, 1.0, 1.0, 0.0, 1.0, 0.0, 0.0, 0.0, 1.0],\n",
       " [1.0, 1.0, 1.0, 1.0, 0.0, 1.0, 1.0],\n",
       " [0.0, 1.0, 0.0, 1.0, 1.0, 1.0, 0.0, 1.0, 0.0, 0.0],\n",
       " [0.0, 0.0, 1.0, 0.0],\n",
       " [1.0, 1.0, 1.0, 1.0, 1.0],\n",
       " [0.0, 1.0, 0.0, 1.0, 0.0, 1.0, 1.0, 0.0, 1.0],\n",
       " [0.0, 1.0, 1.0, 0.0, 1.0, 0.0, 0.0, 0.0],\n",
       " [0.0, 1.0, 0.0, 1.0, 0.0, 1.0, 0.0, 0.0],\n",
       " [1.0, 1.0, 0.0, 1.0, 0.0, 1.0],\n",
       " [1.0, 1.0, 1.0, 1.0, 1.0],\n",
       " [1.0, 1.0, 1.0, 1.0, 1.0, 1.0, 1.0, 0.0, 1.0, 0.0, 0.0, 1.0, 0.0, 1.0, 0.0],\n",
       " [0.0, 1.0, 0.0, 1.0, 1.0, 0.0, 1.0],\n",
       " [1.0, 0.0, 1.0, 1.0, 0.0, 1.0, 0.0, 0.0],\n",
       " [0.0, 0.0, 0.0, 1.0, 0.0, 0.0, 1.0, 0.0, 1.0, 1.0, 0.0],\n",
       " [0.0, 1.0, 0.0, 1.0, 1.0, 1.0, 1.0, 0.0, 1.0],\n",
       " [1.0, 1.0, 1.0, 1.0, 1.0, 1.0, 1.0],\n",
       " [0.0, 1.0, 0.0, 1.0, 1.0, 0.0, 1.0, 1.0, 0.0, 1.0],\n",
       " [0.0, 1.0, 1.0, 0.0, 1.0],\n",
       " [1.0, 1.0, 0.0, 0.0],\n",
       " [1.0, 1.0, 1.0, 1.0, 0.0, 1.0, 1.0, 1.0, 1.0, 0.0, 1.0, 1.0, 0.0],\n",
       " [1.0, 0.0],\n",
       " [0.0, 1.0, 1.0, 0.0, 1.0, 0.0, 1.0],\n",
       " [0.0, 0.0, 0.0, 1.0, 1.0, 0.0, 0.0, 0.0],\n",
       " [0.0, 1.0, 0.0, 1.0, 1.0],\n",
       " [0.0, 0.0, 0.0, 1.0, 0.0, 1.0, 1.0, 0.0, 1.0, 1.0, 1.0, 1.0, 0.0],\n",
       " [1.0, 1.0, 1.0, 1.0, 0.0, 1.0, 1.0, 1.0, 1.0, 1.0, 1.0, 0.0, 1.0],\n",
       " [1.0, 0.0, 1.0, 1.0, 1.0, 1.0, 1.0, 1.0],\n",
       " [0.0, 1.0, 0.0, 0.0, 0.0, 1.0, 1.0],\n",
       " [0.0, 0.0, 1.0, 1.0, 1.0, 0.0, 0.0, 1.0],\n",
       " [0.0, 0.0, 1.0, 0.0],\n",
       " [1.0, 1.0, 1.0, 0.0, 0.0, 1.0, 1.0, 1.0, 0.0, 1.0, 0.0, 0.0],\n",
       " [1.0, 1.0, 1.0, 1.0, 1.0, 0.0, 1.0, 0.0, 0.0, 0.0],\n",
       " [1.0, 1.0, 1.0, 1.0, 0.0, 0.0, 0.0, 1.0, 0.0],\n",
       " [0.0, 1.0, 0.0, 1.0, 0.0, 1.0, 1.0, 1.0, 1.0, 0.0, 0.0, 0.0, 1.0],\n",
       " [0.0, 0.0, 1.0, 0.0, 1.0, 0.0, 1.0, 0.0, 0.0, 1.0, 1.0],\n",
       " [0.0, 1.0, 0.0, 1.0, 0.0, 1.0, 1.0],\n",
       " [0.0, 1.0, 0.0, 1.0, 1.0, 0.0, 0.0, 0.0, 1.0, 1.0, 0.0],\n",
       " [0.0, 1.0, 1.0, 0.0, 1.0, 1.0, 0.0, 1.0],\n",
       " [1.0, 1.0, 1.0, 1.0, 1.0],\n",
       " [1.0, 1.0, 1.0, 1.0, 1.0],\n",
       " [1.0, 1.0, 1.0, 1.0, 1.0],\n",
       " [1.0, 1.0, 0.0, 1.0, 1.0],\n",
       " [0.0, 1.0, 0.0],\n",
       " [1.0, 1.0, 1.0, 1.0, 1.0],\n",
       " [0.0, 1.0, 0.0, 0.0],\n",
       " [1.0, 0.0, 1.0, 0.0],\n",
       " [0.0, 1.0, 0.0],\n",
       " [0.0, 1.0, 1.0],\n",
       " [0.0, 1.0, 0.0, 1.0, 1.0],\n",
       " [1.0, 1.0, 0.0, 1.0, 1.0, 1.0],\n",
       " [0.0, 1.0, 1.0, 1.0],\n",
       " [1.0, 0.0, 1.0, 1.0, 1.0, 1.0, 0.0],\n",
       " [1.0, 1.0, 1.0, 1.0, 1.0, 0.0],\n",
       " [0.0, 1.0, 1.0, 0.0, 1.0, 1.0, 1.0, 1.0, 1.0, 1.0],\n",
       " [1.0, 1.0, 1.0, 1.0, 1.0],\n",
       " [0.0, 1.0],\n",
       " [1.0, 1.0, 0.0, 1.0, 1.0, 1.0],\n",
       " [0.0, 1.0, 1.0, 1.0, 0.0],\n",
       " [1.0, 1.0, 1.0, 0.0, 1.0, 1.0, 1.0, 1.0],\n",
       " [0.0, 1.0, 1.0, 0.0, 0.0, 1.0, 1.0, 1.0],\n",
       " [0.0, 1.0, 1.0, 0.0, 1.0, 1.0, 1.0, 1.0],\n",
       " [1.0, 1.0, 1.0, 1.0, 1.0, 1.0, 0.0, 1.0],\n",
       " [0.0, 1.0, 1.0, 0.0, 1.0, 1.0, 1.0, 1.0],\n",
       " [0.0, 1.0, 1.0, 1.0, 1.0, 1.0, 1.0, 1.0],\n",
       " [0.0, 1.0, 1.0, 1.0, 1.0, 0.0, 1.0, 1.0],\n",
       " [0.0, 1.0, 0.0, 0.0, 1.0, 0.0, 1.0, 1.0],\n",
       " [0.0, 1.0, 0.0, 1.0, 1.0, 1.0, 0.0, 1.0],\n",
       " [0.0, 1.0, 1.0, 1.0, 1.0, 0.0, 1.0, 1.0],\n",
       " [0.0, 1.0, 1.0, 0.0, 1.0, 1.0, 0.0, 1.0],\n",
       " [0.0, 1.0, 0.0, 1.0, 1.0, 1.0, 0.0, 1.0],\n",
       " [0.0, 1.0, 0.0, 0.0, 1.0, 1.0, 1.0, 1.0],\n",
       " [0.0, 1.0, 0.0, 1.0, 0.0, 1.0, 1.0, 0.0],\n",
       " [0.0, 1.0, 1.0, 1.0, 1.0, 0.0, 1.0, 1.0],\n",
       " [1.0, 1.0, 1.0, 1.0, 1.0, 0.0, 1.0, 1.0],\n",
       " [0.0, 1.0, 1.0, 1.0, 1.0, 1.0, 1.0, 1.0],\n",
       " [1.0, 1.0, 1.0, 1.0, 1.0, 1.0, 0.0, 1.0],\n",
       " [0.0, 1.0, 1.0, 1.0, 1.0, 0.0, 1.0, 1.0],\n",
       " [0.0, 1.0, 1.0, 1.0, 1.0, 1.0, 1.0, 1.0],\n",
       " [1.0, 0.0, 0.0, 1.0, 1.0, 0.0, 1.0, 1.0],\n",
       " [1.0, 1.0, 1.0, 1.0, 1.0, 0.0, 1.0, 1.0],\n",
       " [1.0, 1.0, 1.0, 1.0, 1.0, 1.0, 1.0, 1.0],\n",
       " [1.0, 1.0, 1.0, 1.0, 1.0, 1.0, 1.0, 0.0],\n",
       " [1.0, 0.0, 0.0, 1.0, 1.0, 1.0, 1.0, 0.0],\n",
       " [0.0, 0.0, 0.0, 1.0, 1.0, 1.0, 1.0, 1.0],\n",
       " [1.0, 1.0, 1.0, 0.0, 1.0, 1.0, 1.0, 1.0],\n",
       " [1.0, 1.0, 1.0, 1.0, 0.0, 1.0, 1.0, 0.0],\n",
       " [1.0, 1.0, 1.0, 1.0, 1.0, 1.0, 0.0, 1.0],\n",
       " [0.0, 1.0, 0.0, 1.0, 1.0, 0.0, 1.0, 1.0],\n",
       " [0.0, 1.0, 1.0, 1.0, 0.0, 1.0, 1.0, 1.0],\n",
       " [1.0, 1.0, 1.0, 1.0, 1.0, 1.0, 0.0, 0.0],\n",
       " [1.0, 1.0, 1.0, 1.0, 1.0, 1.0, 1.0, 1.0],\n",
       " [0.0, 1.0, 1.0, 1.0, 1.0, 1.0, 1.0, 1.0],\n",
       " [1.0, 1.0, 1.0, 1.0, 0.0, 1.0, 1.0, 1.0],\n",
       " [1.0, 1.0, 1.0, 1.0, 1.0, 1.0, 1.0, 1.0],\n",
       " [0.0, 1.0, 0.0, 1.0, 1.0, 1.0, 0.0, 1.0],\n",
       " [0.0, 1.0, 0.0, 1.0, 1.0, 1.0, 1.0, 1.0],\n",
       " [0.0, 1.0, 1.0, 0.0, 1.0, 1.0, 1.0, 1.0],\n",
       " [1.0, 1.0, 1.0, 1.0, 0.0, 1.0, 1.0, 0.0],\n",
       " [0.0, 1.0, 0.0, 1.0, 1.0, 0.0, 1.0, 1.0],\n",
       " [0.0, 1.0, 1.0, 1.0, 1.0, 0.0, 1.0, 1.0],\n",
       " [0.0, 1.0, 1.0, 1.0, 1.0, 0.0, 1.0, 1.0],\n",
       " [0.0, 1.0, 1.0, 1.0, 0.0, 1.0, 1.0, 1.0],\n",
       " [0.0, 1.0, 1.0, 0.0, 1.0, 1.0, 1.0, 1.0],\n",
       " [0.0, 1.0, 0.0, 1.0, 1.0, 1.0, 1.0, 1.0],\n",
       " [0.0, 1.0, 0.0, 1.0, 1.0, 1.0, 1.0, 1.0],\n",
       " [0.0, 1.0, 1.0, 0.0, 1.0, 1.0, 0.0, 1.0],\n",
       " [0.0, 1.0, 0.0, 1.0, 1.0, 1.0, 1.0, 1.0],\n",
       " [0.0, 1.0, 1.0, 0.0, 1.0, 1.0, 1.0, 1.0],\n",
       " [0.0, 1.0, 1.0, 0.0, 0.0, 1.0, 1.0, 0.0],\n",
       " [0.0, 1.0, 0.0, 1.0, 0.0, 1.0, 1.0, 1.0],\n",
       " [0.0, 1.0, 0.0, 1.0, 1.0, 1.0, 1.0, 1.0],\n",
       " [0.0, 1.0, 0.0, 1.0, 1.0, 1.0, 1.0, 1.0],\n",
       " [0.0, 1.0, 0.0, 1.0, 1.0, 1.0, 1.0, 1.0],\n",
       " [0.0, 1.0, 0.0, 1.0, 0.0, 1.0, 1.0, 0.0],\n",
       " [0.0, 1.0, 1.0, 1.0, 0.0, 1.0, 1.0, 1.0],\n",
       " [0.0, 1.0, 0.0, 1.0, 1.0, 1.0, 1.0, 1.0],\n",
       " [0.0, 1.0, 0.0, 1.0, 1.0, 1.0, 1.0, 1.0],\n",
       " [0.0, 1.0, 0.0, 1.0, 1.0, 0.0, 1.0, 0.0],\n",
       " [0.0, 1.0, 0.0, 1.0, 1.0, 1.0, 1.0, 1.0],\n",
       " [0.0, 1.0, 0.0, 1.0, 1.0, 1.0, 1.0, 1.0],\n",
       " [0.0, 1.0, 0.0, 1.0, 1.0, 1.0, 1.0, 1.0],\n",
       " [0.0, 1.0, 0.0, 1.0, 1.0, 1.0, 1.0, 1.0],\n",
       " [0.0, 1.0, 0.0, 1.0, 1.0, 1.0, 1.0, 1.0],\n",
       " [0.0, 1.0, 1.0, 1.0, 1.0, 1.0, 1.0, 1.0],\n",
       " [0.0, 0.0, 1.0, 0.0, 1.0, 1.0, 0.0, 1.0],\n",
       " [0.0, 1.0, 1.0, 1.0, 1.0, 1.0, 1.0, 1.0],\n",
       " [1.0, 1.0, 0.0, 1.0, 1.0],\n",
       " [1.0, 1.0, 1.0, 1.0, 0.0, 1.0, 1.0],\n",
       " [1.0, 1.0, 0.0, 1.0, 1.0, 1.0],\n",
       " [1.0, 1.0, 1.0, 0.0, 1.0, 1.0],\n",
       " [1.0, 1.0, 0.0, 1.0, 1.0, 1.0],\n",
       " [1.0, 1.0, 1.0, 0.0, 1.0, 1.0],\n",
       " [1.0, 0.0, 1.0, 1.0, 1.0, 1.0],\n",
       " [1.0, 1.0, 0.0, 1.0, 1.0, 1.0],\n",
       " [1.0, 1.0, 0.0, 1.0, 1.0, 1.0],\n",
       " [1.0, 1.0, 0.0, 1.0, 1.0, 1.0],\n",
       " [1.0, 1.0, 1.0, 1.0, 1.0, 1.0],\n",
       " [1.0, 1.0, 0.0, 1.0, 1.0, 1.0]]"
      ]
     },
     "execution_count": 23,
     "metadata": {},
     "output_type": "execute_result"
    }
   ],
   "source": [
    "errors"
   ]
  },
  {
   "cell_type": "code",
   "execution_count": 21,
   "id": "returning-celtic",
   "metadata": {},
   "outputs": [
    {
     "data": {
      "text/plain": [
       "5.0"
      ]
     },
     "execution_count": 21,
     "metadata": {},
     "output_type": "execute_result"
    }
   ],
   "source": [
    "summed_error = [sum(error) for error in errors]\n",
    "np.median(summed_error)"
   ]
  },
  {
   "cell_type": "code",
   "execution_count": 33,
   "id": "greek-belly",
   "metadata": {},
   "outputs": [],
   "source": [
    "with open('results/pytorch_rnn_prequential_summed.txt', 'w') as f:\n",
    "    f.write(str(summed_error))"
   ]
  },
  {
   "cell_type": "code",
   "execution_count": null,
   "id": "palestinian-aside",
   "metadata": {},
   "outputs": [],
   "source": []
  }
 ],
 "metadata": {
  "kernelspec": {
   "display_name": "Python 3",
   "language": "python",
   "name": "python3"
  },
  "language_info": {
   "codemirror_mode": {
    "name": "ipython",
    "version": 3
   },
   "file_extension": ".py",
   "mimetype": "text/x-python",
   "name": "python",
   "nbconvert_exporter": "python",
   "pygments_lexer": "ipython3",
   "version": "3.7.7"
  }
 },
 "nbformat": 4,
 "nbformat_minor": 5
}
