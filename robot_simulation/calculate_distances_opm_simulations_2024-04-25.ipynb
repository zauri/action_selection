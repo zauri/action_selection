{
 "cells": [
  {
   "cell_type": "code",
   "execution_count": 93,
   "id": "669c0ee4",
   "metadata": {},
   "outputs": [],
   "source": [
    "import ast\n",
    "import matplotlib.pyplot as plt\n",
    "import numpy as np\n",
    "import pandas as pd\n",
    "import seaborn as sns\n",
    "\n",
    "from scipy.stats import wilcoxon\n",
    "from matplotlib.lines import Line2D"
   ]
  },
  {
   "cell_type": "code",
   "execution_count": 94,
   "id": "f5e29a2c",
   "metadata": {},
   "outputs": [],
   "source": [
    "v1_seq = ['bowl','breakfast-cereal','cup','spoon','milk']\n",
    "v2_seq = ['bowl','cup','milk','breakfast-cereal','spoon']\n",
    "v3_seq = ['bowl','spoon','breakfast-cereal','cup','milk']\n",
    "v4_seq = ['bowl','spoon','milk','cup','breakfast-cereal']\n",
    "v5_seq = ['bowl','milk','breakfast-cereal','spoon','cup']"
   ]
  },
  {
   "cell_type": "code",
   "execution_count": 95,
   "id": "d068664e",
   "metadata": {},
   "outputs": [],
   "source": [
    "distances = pd.read_csv('locations_objects.csv', header=0, index_col='demo')"
   ]
  },
  {
   "cell_type": "markdown",
   "id": "463a3051",
   "metadata": {},
   "source": [
    "### Calculate distances for OPM sequences"
   ]
  },
  {
   "cell_type": "code",
   "execution_count": 96,
   "id": "17748bfa",
   "metadata": {},
   "outputs": [],
   "source": [
    "d1 = []\n",
    "for i in range(0, len(v1_seq)):\n",
    "    loc1 = v1_seq[i]\n",
    "    loc2 = 'placing_' + loc1\n",
    "    dist = np.linalg.norm(np.array(ast.literal_eval(distances.at['v1', loc2])) -\n",
    "                                np.array(ast.literal_eval(distances.at['v1', loc1])))\n",
    "    try:\n",
    "        loc3 = v1_seq[i+1]\n",
    "        dist2 = np.linalg.norm(np.array(ast.literal_eval(distances.at['v1', loc2])) -\n",
    "                                np.array(ast.literal_eval(distances.at['v1', loc3])))\n",
    "        d1.append(dist2)\n",
    "    except:\n",
    "        continue\n",
    "    d1.append(dist)"
   ]
  },
  {
   "cell_type": "code",
   "execution_count": 97,
   "id": "0b2a57a5",
   "metadata": {},
   "outputs": [
    {
     "data": {
      "text/plain": [
       "4.743217010403397"
      ]
     },
     "execution_count": 97,
     "metadata": {},
     "output_type": "execute_result"
    }
   ],
   "source": [
    "sum(d1)"
   ]
  },
  {
   "cell_type": "code",
   "execution_count": 98,
   "id": "03c792e0",
   "metadata": {},
   "outputs": [],
   "source": [
    "d2 = []\n",
    "for i in range(0, len(v2_seq)):\n",
    "    loc1 = v2_seq[i]\n",
    "    loc2 = 'placing_' + loc1\n",
    "    dist = np.linalg.norm(np.array(ast.literal_eval(distances.at['v2', loc2])) -\n",
    "                                np.array(ast.literal_eval(distances.at['v2', loc1])))\n",
    "    try:\n",
    "        loc3 = v2_seq[i+1]\n",
    "        dist2 = np.linalg.norm(np.array(ast.literal_eval(distances.at['v2', loc2])) -\n",
    "                                np.array(ast.literal_eval(distances.at['v2', loc3])))\n",
    "        d2.append(dist2)\n",
    "    except:\n",
    "        continue\n",
    "    d2.append(dist)"
   ]
  },
  {
   "cell_type": "code",
   "execution_count": 99,
   "id": "bcb46625",
   "metadata": {},
   "outputs": [
    {
     "data": {
      "text/plain": [
       "5.062442509429448"
      ]
     },
     "execution_count": 99,
     "metadata": {},
     "output_type": "execute_result"
    }
   ],
   "source": [
    "sum(d2)"
   ]
  },
  {
   "cell_type": "code",
   "execution_count": 100,
   "id": "485a2162",
   "metadata": {},
   "outputs": [],
   "source": [
    "d3 = []\n",
    "for i in range(0, len(v3_seq)):\n",
    "    loc1 = v3_seq[i]\n",
    "    loc2 = 'placing_' + loc1\n",
    "    dist = np.linalg.norm(np.array(ast.literal_eval(distances.at['v3', loc1])) -\n",
    "                                np.array(ast.literal_eval(distances.at['v3', loc2])))\n",
    "    try:\n",
    "        loc3 = v3_seq[i+1]\n",
    "        dist2 = np.linalg.norm(np.array(ast.literal_eval(distances.at['v3', loc2])) -\n",
    "                                np.array(ast.literal_eval(distances.at['v3', loc3])))\n",
    "        d3.append(dist2)\n",
    "    except:\n",
    "        continue\n",
    "    d3.append(dist)"
   ]
  },
  {
   "cell_type": "code",
   "execution_count": 101,
   "id": "b34a15b0",
   "metadata": {},
   "outputs": [
    {
     "data": {
      "text/plain": [
       "4.675510246358996"
      ]
     },
     "execution_count": 101,
     "metadata": {},
     "output_type": "execute_result"
    }
   ],
   "source": [
    "sum(d3)"
   ]
  },
  {
   "cell_type": "code",
   "execution_count": 102,
   "id": "3fa4a0ba",
   "metadata": {},
   "outputs": [],
   "source": [
    "d4 = []\n",
    "for i in range(0, len(v4_seq)):\n",
    "    loc1 = v4_seq[i]\n",
    "    loc2 = 'placing_' + loc1\n",
    "    dist = np.linalg.norm(np.array(ast.literal_eval(distances.at['v4', loc2])) -\n",
    "                                np.array(ast.literal_eval(distances.at['v4', loc1])))\n",
    "    try:\n",
    "        loc3 = v4_seq[i+1]\n",
    "        dist2 = np.linalg.norm(np.array(ast.literal_eval(distances.at['v4', loc2])) -\n",
    "                                np.array(ast.literal_eval(distances.at['v4', loc3])))\n",
    "        d4.append(dist2)\n",
    "    except:\n",
    "        continue\n",
    "    d4.append(dist)"
   ]
  },
  {
   "cell_type": "code",
   "execution_count": 103,
   "id": "960c9a13",
   "metadata": {},
   "outputs": [
    {
     "data": {
      "text/plain": [
       "5.392777958840495"
      ]
     },
     "execution_count": 103,
     "metadata": {},
     "output_type": "execute_result"
    }
   ],
   "source": [
    "sum(d4)"
   ]
  },
  {
   "cell_type": "code",
   "execution_count": 104,
   "id": "42878ac4",
   "metadata": {},
   "outputs": [],
   "source": [
    "d5 = []\n",
    "for i in range(0, len(v5_seq)):\n",
    "    loc1 = v5_seq[i]\n",
    "    loc2 = 'placing_' + loc1\n",
    "    dist = np.linalg.norm(np.array(ast.literal_eval(distances.at['v5', loc2])) -\n",
    "                                np.array(ast.literal_eval(distances.at['v5', loc1])))\n",
    "    try:\n",
    "        loc3 = v5_seq[i+1]\n",
    "        dist2 = np.linalg.norm(np.array(ast.literal_eval(distances.at['v5', loc2])) -\n",
    "                                np.array(ast.literal_eval(distances.at['v5', loc3])))\n",
    "        d5.append(dist2)\n",
    "    except:\n",
    "        continue\n",
    "    d5.append(dist)"
   ]
  },
  {
   "cell_type": "code",
   "execution_count": 105,
   "id": "a2ef9036",
   "metadata": {},
   "outputs": [
    {
     "data": {
      "text/plain": [
       "5.020026659716588"
      ]
     },
     "execution_count": 105,
     "metadata": {},
     "output_type": "execute_result"
    }
   ],
   "source": [
    "sum(d5)"
   ]
  },
  {
   "cell_type": "code",
   "execution_count": 106,
   "id": "77eeb4c6",
   "metadata": {},
   "outputs": [],
   "source": [
    "distances_opm = {}\n",
    "distances_opm['v1'] = sum(d1)\n",
    "distances_opm['v2'] = sum(d2)\n",
    "distances_opm['v3'] = sum(d3)\n",
    "distances_opm['v4'] = sum(d4)\n",
    "distances_opm['v5'] = sum(d5)"
   ]
  },
  {
   "cell_type": "code",
   "execution_count": 107,
   "id": "ba20d064",
   "metadata": {},
   "outputs": [
    {
     "data": {
      "text/plain": [
       "{'v1': 4.743217010403397,\n",
       " 'v2': 5.062442509429448,\n",
       " 'v3': 4.675510246358996,\n",
       " 'v4': 5.392777958840495,\n",
       " 'v5': 5.020026659716588}"
      ]
     },
     "execution_count": 107,
     "metadata": {},
     "output_type": "execute_result"
    }
   ],
   "source": [
    "distances_opm"
   ]
  },
  {
   "cell_type": "markdown",
   "id": "6d3308dd",
   "metadata": {},
   "source": [
    "### Calculate distances for baseline sequences"
   ]
  },
  {
   "cell_type": "code",
   "execution_count": 108,
   "id": "267d819b",
   "metadata": {},
   "outputs": [],
   "source": [
    "v1_seq2 = ['breakfast-cereal','cup','bowl','spoon','milk']\n",
    "v2_seq2 = ['spoon','breakfast-cereal','milk','cup','bowl']\n",
    "v3_seq2 = ['cup','milk','breakfast-cereal','bowl','spoon']\n",
    "v4_seq2 = ['bowl','milk','cup','spoon','breakfast-cereal']\n",
    "v5_seq2 = ['bowl','cup','breakfast-cereal','spoon','milk']"
   ]
  },
  {
   "cell_type": "code",
   "execution_count": 109,
   "id": "c71de8f1",
   "metadata": {},
   "outputs": [],
   "source": [
    "d1_2 = []\n",
    "for i in range(0, len(v1_seq2)):\n",
    "    loc1 = v1_seq2[i]\n",
    "    loc2 = 'placing_' + loc1\n",
    "    dist = np.linalg.norm(np.array(ast.literal_eval(distances.at['v1', loc2])) -\n",
    "                                np.array(ast.literal_eval(distances.at['v1', loc1])))\n",
    "    try:\n",
    "        loc3 = v1_seq2[i+1]\n",
    "        dist2 = np.linalg.norm(np.array(ast.literal_eval(distances.at['v1', loc2])) -\n",
    "                                np.array(ast.literal_eval(distances.at['v1', loc3])))\n",
    "        d1_2.append(dist2)\n",
    "    except:\n",
    "        continue\n",
    "    d1_2.append(dist)"
   ]
  },
  {
   "cell_type": "code",
   "execution_count": 110,
   "id": "03058436",
   "metadata": {},
   "outputs": [
    {
     "data": {
      "text/plain": [
       "5.3611702254174105"
      ]
     },
     "execution_count": 110,
     "metadata": {},
     "output_type": "execute_result"
    }
   ],
   "source": [
    "sum(d1_2)"
   ]
  },
  {
   "cell_type": "code",
   "execution_count": 111,
   "id": "bdfc81e4",
   "metadata": {},
   "outputs": [],
   "source": [
    "d2_2 = []\n",
    "for i in range(0, len(v2_seq2)):\n",
    "    loc1 = v2_seq2[i]\n",
    "    loc2 = 'placing_' + loc1\n",
    "    dist = np.linalg.norm(np.array(ast.literal_eval(distances.at['v2', loc2])) -\n",
    "                                np.array(ast.literal_eval(distances.at['v2', loc1])))\n",
    "    try:\n",
    "        loc3 = v2_seq2[i+1]\n",
    "        dist2 = np.linalg.norm(np.array(ast.literal_eval(distances.at['v2', loc2])) -\n",
    "                                np.array(ast.literal_eval(distances.at['v2', loc3])))\n",
    "        d2_2.append(dist2)\n",
    "    except:\n",
    "        continue\n",
    "    d2_2.append(dist)"
   ]
  },
  {
   "cell_type": "code",
   "execution_count": 112,
   "id": "e2f99824",
   "metadata": {},
   "outputs": [
    {
     "data": {
      "text/plain": [
       "4.948253687350284"
      ]
     },
     "execution_count": 112,
     "metadata": {},
     "output_type": "execute_result"
    }
   ],
   "source": [
    "sum(d2_2)"
   ]
  },
  {
   "cell_type": "code",
   "execution_count": 113,
   "id": "af1b1b4c",
   "metadata": {},
   "outputs": [],
   "source": [
    "d3_2 = []\n",
    "for i in range(0, len(v3_seq2)):\n",
    "    loc1 = v3_seq2[i]\n",
    "    loc2 = 'placing_' + loc1\n",
    "    dist = np.linalg.norm(np.array(ast.literal_eval(distances.at['v3', loc1])) -\n",
    "                                np.array(ast.literal_eval(distances.at['v3', loc2])))\n",
    "    try:\n",
    "        loc3 = v3_seq2[i+1]\n",
    "        dist2 = np.linalg.norm(np.array(ast.literal_eval(distances.at['v3', loc2])) -\n",
    "                                np.array(ast.literal_eval(distances.at['v3', loc3])))\n",
    "        d3_2.append(dist2)\n",
    "    except:\n",
    "        continue\n",
    "    d3_2.append(dist)"
   ]
  },
  {
   "cell_type": "code",
   "execution_count": 114,
   "id": "14681599",
   "metadata": {},
   "outputs": [
    {
     "data": {
      "text/plain": [
       "6.070628153169264"
      ]
     },
     "execution_count": 114,
     "metadata": {},
     "output_type": "execute_result"
    }
   ],
   "source": [
    "sum(d3_2)"
   ]
  },
  {
   "cell_type": "code",
   "execution_count": 115,
   "id": "61d13e66",
   "metadata": {},
   "outputs": [],
   "source": [
    "d4_2 = []\n",
    "for i in range(0, len(v4_seq2)):\n",
    "    loc1 = v4_seq2[i]\n",
    "    loc2 = 'placing_' + loc1\n",
    "    dist = np.linalg.norm(np.array(ast.literal_eval(distances.at['v4', loc2])) -\n",
    "                                np.array(ast.literal_eval(distances.at['v4', loc1])))\n",
    "    try:\n",
    "        loc3 = v4_seq2[i+1]\n",
    "        dist2 = np.linalg.norm(np.array(ast.literal_eval(distances.at['v4', loc2])) -\n",
    "                                np.array(ast.literal_eval(distances.at['v4', loc3])))\n",
    "        d4_2.append(dist2)\n",
    "    except:\n",
    "        continue\n",
    "    d4_2.append(dist)"
   ]
  },
  {
   "cell_type": "code",
   "execution_count": 116,
   "id": "f413542f",
   "metadata": {},
   "outputs": [
    {
     "data": {
      "text/plain": [
       "5.281143905145709"
      ]
     },
     "execution_count": 116,
     "metadata": {},
     "output_type": "execute_result"
    }
   ],
   "source": [
    "sum(d4_2)"
   ]
  },
  {
   "cell_type": "code",
   "execution_count": 117,
   "id": "7f88fa6f",
   "metadata": {},
   "outputs": [],
   "source": [
    "d5_2 = []\n",
    "for i in range(0, len(v5_seq2)):\n",
    "    loc1 = v5_seq2[i]\n",
    "    loc2 = 'placing_' + loc1\n",
    "    dist = np.linalg.norm(np.array(ast.literal_eval(distances.at['v5', loc2])) -\n",
    "                                np.array(ast.literal_eval(distances.at['v5', loc1])))\n",
    "    try:\n",
    "        loc3 = v5_seq[i+1]\n",
    "        dist2 = np.linalg.norm(np.array(ast.literal_eval(distances.at['v5', loc2])) -\n",
    "                                np.array(ast.literal_eval(distances.at['v5', loc3])))\n",
    "        d5_2.append(dist2)\n",
    "    except:\n",
    "        continue\n",
    "    d5_2.append(dist)"
   ]
  },
  {
   "cell_type": "code",
   "execution_count": 118,
   "id": "dd1af3da",
   "metadata": {},
   "outputs": [
    {
     "data": {
      "text/plain": [
       "5.309578287398773"
      ]
     },
     "execution_count": 118,
     "metadata": {},
     "output_type": "execute_result"
    }
   ],
   "source": [
    "sum(d5_2)"
   ]
  },
  {
   "cell_type": "code",
   "execution_count": 119,
   "id": "be6ce8a5",
   "metadata": {},
   "outputs": [],
   "source": [
    "distances_baseline = {}\n",
    "distances_baseline['v1'] = sum(d1_2)\n",
    "distances_baseline['v2'] = sum(d2_2)\n",
    "distances_baseline['v3'] = sum(d3_2)\n",
    "distances_baseline['v4'] = sum(d4_2)\n",
    "distances_baseline['v5'] = sum(d5_2)"
   ]
  },
  {
   "cell_type": "code",
   "execution_count": 120,
   "id": "79c9e332",
   "metadata": {},
   "outputs": [
    {
     "data": {
      "text/plain": [
       "{'v1': 4.743217010403397,\n",
       " 'v2': 5.062442509429448,\n",
       " 'v3': 4.675510246358996,\n",
       " 'v4': 5.392777958840495,\n",
       " 'v5': 5.020026659716588}"
      ]
     },
     "execution_count": 120,
     "metadata": {},
     "output_type": "execute_result"
    }
   ],
   "source": [
    "distances_opm"
   ]
  },
  {
   "cell_type": "code",
   "execution_count": 121,
   "id": "ce4ea467",
   "metadata": {},
   "outputs": [
    {
     "data": {
      "text/plain": [
       "{'v1': 5.3611702254174105,\n",
       " 'v2': 4.948253687350284,\n",
       " 'v3': 6.070628153169264,\n",
       " 'v4': 5.281143905145709,\n",
       " 'v5': 5.309578287398773}"
      ]
     },
     "execution_count": 121,
     "metadata": {},
     "output_type": "execute_result"
    }
   ],
   "source": [
    "distances_baseline"
   ]
  },
  {
   "cell_type": "code",
   "execution_count": 122,
   "id": "8de02091",
   "metadata": {},
   "outputs": [],
   "source": [
    "distances = pd.DataFrame()\n",
    "distances['distance'] = [x for x in distances_opm.values()] + [x for x in distances_baseline.values()]\n",
    "distances['type'] = ['opm'] * 5 + ['baseline'] * 5\n",
    "distances['simulation'] = [x for x in distances_baseline.keys()] * 2"
   ]
  },
  {
   "cell_type": "code",
   "execution_count": 123,
   "id": "c56226b3",
   "metadata": {},
   "outputs": [
    {
     "data": {
      "text/html": [
       "<div>\n",
       "<style scoped>\n",
       "    .dataframe tbody tr th:only-of-type {\n",
       "        vertical-align: middle;\n",
       "    }\n",
       "\n",
       "    .dataframe tbody tr th {\n",
       "        vertical-align: top;\n",
       "    }\n",
       "\n",
       "    .dataframe thead th {\n",
       "        text-align: right;\n",
       "    }\n",
       "</style>\n",
       "<table border=\"1\" class=\"dataframe\">\n",
       "  <thead>\n",
       "    <tr style=\"text-align: right;\">\n",
       "      <th></th>\n",
       "      <th>distance</th>\n",
       "      <th>type</th>\n",
       "      <th>simulation</th>\n",
       "    </tr>\n",
       "  </thead>\n",
       "  <tbody>\n",
       "    <tr>\n",
       "      <th>0</th>\n",
       "      <td>4.743217</td>\n",
       "      <td>opm</td>\n",
       "      <td>v1</td>\n",
       "    </tr>\n",
       "    <tr>\n",
       "      <th>1</th>\n",
       "      <td>5.062443</td>\n",
       "      <td>opm</td>\n",
       "      <td>v2</td>\n",
       "    </tr>\n",
       "    <tr>\n",
       "      <th>2</th>\n",
       "      <td>4.675510</td>\n",
       "      <td>opm</td>\n",
       "      <td>v3</td>\n",
       "    </tr>\n",
       "    <tr>\n",
       "      <th>3</th>\n",
       "      <td>5.392778</td>\n",
       "      <td>opm</td>\n",
       "      <td>v4</td>\n",
       "    </tr>\n",
       "    <tr>\n",
       "      <th>4</th>\n",
       "      <td>5.020027</td>\n",
       "      <td>opm</td>\n",
       "      <td>v5</td>\n",
       "    </tr>\n",
       "    <tr>\n",
       "      <th>5</th>\n",
       "      <td>5.361170</td>\n",
       "      <td>baseline</td>\n",
       "      <td>v1</td>\n",
       "    </tr>\n",
       "    <tr>\n",
       "      <th>6</th>\n",
       "      <td>4.948254</td>\n",
       "      <td>baseline</td>\n",
       "      <td>v2</td>\n",
       "    </tr>\n",
       "    <tr>\n",
       "      <th>7</th>\n",
       "      <td>6.070628</td>\n",
       "      <td>baseline</td>\n",
       "      <td>v3</td>\n",
       "    </tr>\n",
       "    <tr>\n",
       "      <th>8</th>\n",
       "      <td>5.281144</td>\n",
       "      <td>baseline</td>\n",
       "      <td>v4</td>\n",
       "    </tr>\n",
       "    <tr>\n",
       "      <th>9</th>\n",
       "      <td>5.309578</td>\n",
       "      <td>baseline</td>\n",
       "      <td>v5</td>\n",
       "    </tr>\n",
       "  </tbody>\n",
       "</table>\n",
       "</div>"
      ],
      "text/plain": [
       "   distance      type simulation\n",
       "0  4.743217       opm         v1\n",
       "1  5.062443       opm         v2\n",
       "2  4.675510       opm         v3\n",
       "3  5.392778       opm         v4\n",
       "4  5.020027       opm         v5\n",
       "5  5.361170  baseline         v1\n",
       "6  4.948254  baseline         v2\n",
       "7  6.070628  baseline         v3\n",
       "8  5.281144  baseline         v4\n",
       "9  5.309578  baseline         v5"
      ]
     },
     "execution_count": 123,
     "metadata": {},
     "output_type": "execute_result"
    }
   ],
   "source": [
    "distances"
   ]
  },
  {
   "cell_type": "markdown",
   "id": "086f54f2",
   "metadata": {},
   "source": [
    "### Plot distances: Barplot"
   ]
  },
  {
   "cell_type": "code",
   "execution_count": 124,
   "id": "47e60a6e",
   "metadata": {},
   "outputs": [],
   "source": [
    "%matplotlib qt\n",
    "\n",
    "ax = sns.barplot(y='distance',\n",
    "                 x='simulation',\n",
    "                 data=distances,\n",
    "                 hue='type',\n",
    "                 palette='viridis',\n",
    "                 saturation=0.8,\n",
    "                 alpha=0.7,\n",
    "                 width=0.7)\n",
    "\n",
    "plt.setp(ax.collections, alpha=0.5)\n",
    "\n",
    "for container in ax.containers:\n",
    "    ax.bar_label(container, fmt='{:,.2f}', fontsize=16)\n",
    "    \n",
    "ax.tick_params(axis='both', which='major', labelsize=20)\n",
    "\n",
    "plt.ylabel('distance in meters', fontsize=24)\n",
    "plt.xlabel('simulation', fontsize=24)\n",
    "ax.legend(custom_lines2, ['OPM', 'baseline'], loc='upper right', fontsize=24)\n",
    "\n",
    "plt.show()"
   ]
  },
  {
   "cell_type": "markdown",
   "id": "78ecefcb",
   "metadata": {},
   "source": [
    "### Plot distances: Violin"
   ]
  },
  {
   "cell_type": "code",
   "execution_count": 128,
   "id": "98594a53",
   "metadata": {},
   "outputs": [],
   "source": [
    "%matplotlib qt\n",
    "\n",
    "ax2 = sns.violinplot(y='distance',\n",
    "                     x='type',\n",
    "                     data=distances,\n",
    "                     palette='viridis',\n",
    "                     cut=0,\n",
    "                     inner='quartiles',\n",
    "                     saturation=.8)\n",
    "\n",
    "plt.setp(ax2.collections, alpha=0.5)\n",
    "\n",
    "#ax2.set_xticklabels(ax.get_xticklabels(), rotation=0, fontsize=24)\n",
    "ax2.tick_params(axis='both', which='major', labelsize=20)\n",
    "\n",
    "plt.ylabel('distance in meters', fontsize=24)\n",
    "plt.xlabel('simulation type', fontsize=24)\n",
    "#plt.legend(loc='upper right', fontsize=24)\n",
    "\n",
    "ax2.legend(custom_lines2, ['OPM', 'baseline'], loc='upper left', fontsize=24)\n",
    "\n",
    "#plt.tight_layout(pad=0.9)\n",
    "plt.show()"
   ]
  },
  {
   "cell_type": "markdown",
   "id": "b8f9d481",
   "metadata": {},
   "source": [
    "### Combine plots"
   ]
  },
  {
   "cell_type": "code",
   "execution_count": 126,
   "id": "86bc3509",
   "metadata": {},
   "outputs": [],
   "source": [
    "custom_cmap2 = [\"#46327e\", \"#277f8e\", \"#4ac16d\"]\n",
    "custom_lines2 = [Line2D([0], [0], color=custom_cmap2[1], lw=8, alpha=0.5),\n",
    "                Line2D([0], [0], color=custom_cmap2[2], lw=8, alpha=0.5)]"
   ]
  },
  {
   "cell_type": "code",
   "execution_count": 127,
   "id": "c46d9269",
   "metadata": {},
   "outputs": [
    {
     "ename": "AttributeError",
     "evalue": "Rectangle.set() got an unexpected keyword argument 'legend'",
     "output_type": "error",
     "traceback": [
      "\u001b[0;31m---------------------------------------------------------------------------\u001b[0m",
      "\u001b[0;31mAttributeError\u001b[0m                            Traceback (most recent call last)",
      "Cell \u001b[0;32mIn[127], line 5\u001b[0m\n\u001b[1;32m      1\u001b[0m get_ipython()\u001b[38;5;241m.\u001b[39mrun_line_magic(\u001b[38;5;124m'\u001b[39m\u001b[38;5;124mmatplotlib\u001b[39m\u001b[38;5;124m'\u001b[39m, \u001b[38;5;124m'\u001b[39m\u001b[38;5;124mqt\u001b[39m\u001b[38;5;124m'\u001b[39m)\n\u001b[1;32m      3\u001b[0m fig2, (ax3, ax4) \u001b[38;5;241m=\u001b[39m plt\u001b[38;5;241m.\u001b[39msubplots(\u001b[38;5;241m1\u001b[39m,\u001b[38;5;241m2\u001b[39m, sharey\u001b[38;5;241m=\u001b[39m\u001b[38;5;28;01mTrue\u001b[39;00m, figsize\u001b[38;5;241m=\u001b[39m(\u001b[38;5;241m12\u001b[39m,\u001b[38;5;241m8\u001b[39m))\n\u001b[0;32m----> 5\u001b[0m \u001b[43msns\u001b[49m\u001b[38;5;241;43m.\u001b[39;49m\u001b[43mbarplot\u001b[49m\u001b[43m(\u001b[49m\u001b[43my\u001b[49m\u001b[38;5;241;43m=\u001b[39;49m\u001b[38;5;124;43m'\u001b[39;49m\u001b[38;5;124;43mdistance\u001b[39;49m\u001b[38;5;124;43m'\u001b[39;49m\u001b[43m,\u001b[49m\n\u001b[1;32m      6\u001b[0m \u001b[43m            \u001b[49m\u001b[43mx\u001b[49m\u001b[38;5;241;43m=\u001b[39;49m\u001b[38;5;124;43m'\u001b[39;49m\u001b[38;5;124;43msimulation\u001b[39;49m\u001b[38;5;124;43m'\u001b[39;49m\u001b[43m,\u001b[49m\n\u001b[1;32m      7\u001b[0m \u001b[43m            \u001b[49m\u001b[43mdata\u001b[49m\u001b[38;5;241;43m=\u001b[39;49m\u001b[43mdistances\u001b[49m\u001b[43m,\u001b[49m\n\u001b[1;32m      8\u001b[0m \u001b[43m            \u001b[49m\u001b[43mhue\u001b[49m\u001b[38;5;241;43m=\u001b[39;49m\u001b[38;5;124;43m'\u001b[39;49m\u001b[38;5;124;43mtype\u001b[39;49m\u001b[38;5;124;43m'\u001b[39;49m\u001b[43m,\u001b[49m\n\u001b[1;32m      9\u001b[0m \u001b[43m            \u001b[49m\u001b[43mpalette\u001b[49m\u001b[38;5;241;43m=\u001b[39;49m\u001b[38;5;124;43m'\u001b[39;49m\u001b[38;5;124;43mviridis\u001b[39;49m\u001b[38;5;124;43m'\u001b[39;49m\u001b[43m,\u001b[49m\n\u001b[1;32m     10\u001b[0m \u001b[43m            \u001b[49m\u001b[43msaturation\u001b[49m\u001b[38;5;241;43m=\u001b[39;49m\u001b[38;5;241;43m0.7\u001b[39;49m\u001b[43m,\u001b[49m\n\u001b[1;32m     11\u001b[0m \u001b[43m            \u001b[49m\u001b[43malpha\u001b[49m\u001b[38;5;241;43m=\u001b[39;49m\u001b[38;5;241;43m0.7\u001b[39;49m\u001b[43m,\u001b[49m\n\u001b[1;32m     12\u001b[0m \u001b[43m            \u001b[49m\u001b[43mwidth\u001b[49m\u001b[38;5;241;43m=\u001b[39;49m\u001b[38;5;241;43m0.7\u001b[39;49m\u001b[43m,\u001b[49m\n\u001b[1;32m     13\u001b[0m \u001b[43m            \u001b[49m\u001b[43max\u001b[49m\u001b[38;5;241;43m=\u001b[39;49m\u001b[43max3\u001b[49m\u001b[43m,\u001b[49m\n\u001b[1;32m     14\u001b[0m \u001b[43m            \u001b[49m\u001b[43mlegend\u001b[49m\u001b[38;5;241;43m=\u001b[39;49m\u001b[38;5;28;43;01mFalse\u001b[39;49;00m\u001b[43m)\u001b[49m\n\u001b[1;32m     16\u001b[0m ax3\u001b[38;5;241m.\u001b[39mset_xlabel(\u001b[38;5;124m'\u001b[39m\u001b[38;5;124msimulation\u001b[39m\u001b[38;5;124m'\u001b[39m, fontsize\u001b[38;5;241m=\u001b[39m\u001b[38;5;241m26\u001b[39m)\n\u001b[1;32m     17\u001b[0m ax3\u001b[38;5;241m.\u001b[39mtick_params(axis\u001b[38;5;241m=\u001b[39m\u001b[38;5;124m'\u001b[39m\u001b[38;5;124mboth\u001b[39m\u001b[38;5;124m'\u001b[39m, which\u001b[38;5;241m=\u001b[39m\u001b[38;5;124m'\u001b[39m\u001b[38;5;124mmajor\u001b[39m\u001b[38;5;124m'\u001b[39m, labelsize\u001b[38;5;241m=\u001b[39m\u001b[38;5;241m20\u001b[39m)\n",
      "File \u001b[0;32m~/anaconda3/lib/python3.9/site-packages/seaborn/categorical.py:2763\u001b[0m, in \u001b[0;36mbarplot\u001b[0;34m(data, x, y, hue, order, hue_order, estimator, errorbar, n_boot, units, seed, orient, color, palette, saturation, width, errcolor, errwidth, capsize, dodge, ci, ax, **kwargs)\u001b[0m\n\u001b[1;32m   2760\u001b[0m \u001b[38;5;28;01mif\u001b[39;00m ax \u001b[38;5;129;01mis\u001b[39;00m \u001b[38;5;28;01mNone\u001b[39;00m:\n\u001b[1;32m   2761\u001b[0m     ax \u001b[38;5;241m=\u001b[39m plt\u001b[38;5;241m.\u001b[39mgca()\n\u001b[0;32m-> 2763\u001b[0m \u001b[43mplotter\u001b[49m\u001b[38;5;241;43m.\u001b[39;49m\u001b[43mplot\u001b[49m\u001b[43m(\u001b[49m\u001b[43max\u001b[49m\u001b[43m,\u001b[49m\u001b[43m \u001b[49m\u001b[43mkwargs\u001b[49m\u001b[43m)\u001b[49m\n\u001b[1;32m   2764\u001b[0m \u001b[38;5;28;01mreturn\u001b[39;00m ax\n",
      "File \u001b[0;32m~/anaconda3/lib/python3.9/site-packages/seaborn/categorical.py:1586\u001b[0m, in \u001b[0;36m_BarPlotter.plot\u001b[0;34m(self, ax, bar_kws)\u001b[0m\n\u001b[1;32m   1584\u001b[0m \u001b[38;5;28;01mdef\u001b[39;00m \u001b[38;5;21mplot\u001b[39m(\u001b[38;5;28mself\u001b[39m, ax, bar_kws):\n\u001b[1;32m   1585\u001b[0m \u001b[38;5;250m    \u001b[39m\u001b[38;5;124;03m\"\"\"Make the plot.\"\"\"\u001b[39;00m\n\u001b[0;32m-> 1586\u001b[0m     \u001b[38;5;28;43mself\u001b[39;49m\u001b[38;5;241;43m.\u001b[39;49m\u001b[43mdraw_bars\u001b[49m\u001b[43m(\u001b[49m\u001b[43max\u001b[49m\u001b[43m,\u001b[49m\u001b[43m \u001b[49m\u001b[43mbar_kws\u001b[49m\u001b[43m)\u001b[49m\n\u001b[1;32m   1587\u001b[0m     \u001b[38;5;28mself\u001b[39m\u001b[38;5;241m.\u001b[39mannotate_axes(ax)\n\u001b[1;32m   1588\u001b[0m     \u001b[38;5;28;01mif\u001b[39;00m \u001b[38;5;28mself\u001b[39m\u001b[38;5;241m.\u001b[39morient \u001b[38;5;241m==\u001b[39m \u001b[38;5;124m\"\u001b[39m\u001b[38;5;124mh\u001b[39m\u001b[38;5;124m\"\u001b[39m:\n",
      "File \u001b[0;32m~/anaconda3/lib/python3.9/site-packages/seaborn/categorical.py:1569\u001b[0m, in \u001b[0;36m_BarPlotter.draw_bars\u001b[0;34m(self, ax, kws)\u001b[0m\n\u001b[1;32m   1565\u001b[0m \u001b[38;5;28;01mfor\u001b[39;00m j, hue_level \u001b[38;5;129;01min\u001b[39;00m \u001b[38;5;28menumerate\u001b[39m(\u001b[38;5;28mself\u001b[39m\u001b[38;5;241m.\u001b[39mhue_names):\n\u001b[1;32m   1566\u001b[0m \n\u001b[1;32m   1567\u001b[0m     \u001b[38;5;66;03m# Draw the bars\u001b[39;00m\n\u001b[1;32m   1568\u001b[0m     offpos \u001b[38;5;241m=\u001b[39m barpos \u001b[38;5;241m+\u001b[39m \u001b[38;5;28mself\u001b[39m\u001b[38;5;241m.\u001b[39mhue_offsets[j]\n\u001b[0;32m-> 1569\u001b[0m     \u001b[43mbarfunc\u001b[49m\u001b[43m(\u001b[49m\u001b[43moffpos\u001b[49m\u001b[43m,\u001b[49m\u001b[43m \u001b[49m\u001b[38;5;28;43mself\u001b[39;49m\u001b[38;5;241;43m.\u001b[39;49m\u001b[43mstatistic\u001b[49m\u001b[43m[\u001b[49m\u001b[43m:\u001b[49m\u001b[43m,\u001b[49m\u001b[43m \u001b[49m\u001b[43mj\u001b[49m\u001b[43m]\u001b[49m\u001b[43m,\u001b[49m\u001b[43m \u001b[49m\u001b[38;5;28;43mself\u001b[39;49m\u001b[38;5;241;43m.\u001b[39;49m\u001b[43mnested_width\u001b[49m\u001b[43m,\u001b[49m\n\u001b[1;32m   1570\u001b[0m \u001b[43m            \u001b[49m\u001b[43mcolor\u001b[49m\u001b[38;5;241;43m=\u001b[39;49m\u001b[38;5;28;43mself\u001b[39;49m\u001b[38;5;241;43m.\u001b[39;49m\u001b[43mcolors\u001b[49m\u001b[43m[\u001b[49m\u001b[43mj\u001b[49m\u001b[43m]\u001b[49m\u001b[43m,\u001b[49m\u001b[43m \u001b[49m\u001b[43malign\u001b[49m\u001b[38;5;241;43m=\u001b[39;49m\u001b[38;5;124;43m\"\u001b[39;49m\u001b[38;5;124;43mcenter\u001b[39;49m\u001b[38;5;124;43m\"\u001b[39;49m\u001b[43m,\u001b[49m\n\u001b[1;32m   1571\u001b[0m \u001b[43m            \u001b[49m\u001b[43mlabel\u001b[49m\u001b[38;5;241;43m=\u001b[39;49m\u001b[43mhue_level\u001b[49m\u001b[43m,\u001b[49m\u001b[43m \u001b[49m\u001b[38;5;241;43m*\u001b[39;49m\u001b[38;5;241;43m*\u001b[39;49m\u001b[43mkws\u001b[49m\u001b[43m)\u001b[49m\n\u001b[1;32m   1573\u001b[0m     \u001b[38;5;66;03m# Draw the confidence intervals\u001b[39;00m\n\u001b[1;32m   1574\u001b[0m     \u001b[38;5;28;01mif\u001b[39;00m \u001b[38;5;28mself\u001b[39m\u001b[38;5;241m.\u001b[39mconfint\u001b[38;5;241m.\u001b[39msize:\n",
      "File \u001b[0;32m~/anaconda3/lib/python3.9/site-packages/matplotlib/__init__.py:1446\u001b[0m, in \u001b[0;36m_preprocess_data.<locals>.inner\u001b[0;34m(ax, data, *args, **kwargs)\u001b[0m\n\u001b[1;32m   1443\u001b[0m \u001b[38;5;129m@functools\u001b[39m\u001b[38;5;241m.\u001b[39mwraps(func)\n\u001b[1;32m   1444\u001b[0m \u001b[38;5;28;01mdef\u001b[39;00m \u001b[38;5;21minner\u001b[39m(ax, \u001b[38;5;241m*\u001b[39margs, data\u001b[38;5;241m=\u001b[39m\u001b[38;5;28;01mNone\u001b[39;00m, \u001b[38;5;241m*\u001b[39m\u001b[38;5;241m*\u001b[39mkwargs):\n\u001b[1;32m   1445\u001b[0m     \u001b[38;5;28;01mif\u001b[39;00m data \u001b[38;5;129;01mis\u001b[39;00m \u001b[38;5;28;01mNone\u001b[39;00m:\n\u001b[0;32m-> 1446\u001b[0m         \u001b[38;5;28;01mreturn\u001b[39;00m \u001b[43mfunc\u001b[49m\u001b[43m(\u001b[49m\u001b[43max\u001b[49m\u001b[43m,\u001b[49m\u001b[43m \u001b[49m\u001b[38;5;241;43m*\u001b[39;49m\u001b[38;5;28;43mmap\u001b[39;49m\u001b[43m(\u001b[49m\u001b[43msanitize_sequence\u001b[49m\u001b[43m,\u001b[49m\u001b[43m \u001b[49m\u001b[43margs\u001b[49m\u001b[43m)\u001b[49m\u001b[43m,\u001b[49m\u001b[43m \u001b[49m\u001b[38;5;241;43m*\u001b[39;49m\u001b[38;5;241;43m*\u001b[39;49m\u001b[43mkwargs\u001b[49m\u001b[43m)\u001b[49m\n\u001b[1;32m   1448\u001b[0m     bound \u001b[38;5;241m=\u001b[39m new_sig\u001b[38;5;241m.\u001b[39mbind(ax, \u001b[38;5;241m*\u001b[39margs, \u001b[38;5;241m*\u001b[39m\u001b[38;5;241m*\u001b[39mkwargs)\n\u001b[1;32m   1449\u001b[0m     auto_label \u001b[38;5;241m=\u001b[39m (bound\u001b[38;5;241m.\u001b[39marguments\u001b[38;5;241m.\u001b[39mget(label_namer)\n\u001b[1;32m   1450\u001b[0m                   \u001b[38;5;129;01mor\u001b[39;00m bound\u001b[38;5;241m.\u001b[39mkwargs\u001b[38;5;241m.\u001b[39mget(label_namer))\n",
      "File \u001b[0;32m~/anaconda3/lib/python3.9/site-packages/matplotlib/axes/_axes.py:2480\u001b[0m, in \u001b[0;36mAxes.bar\u001b[0;34m(self, x, height, width, bottom, align, **kwargs)\u001b[0m\n\u001b[1;32m   2471\u001b[0m \u001b[38;5;28;01mfor\u001b[39;00m l, b, w, h, c, e, lw, htch, lbl \u001b[38;5;129;01min\u001b[39;00m args:\n\u001b[1;32m   2472\u001b[0m     r \u001b[38;5;241m=\u001b[39m mpatches\u001b[38;5;241m.\u001b[39mRectangle(\n\u001b[1;32m   2473\u001b[0m         xy\u001b[38;5;241m=\u001b[39m(l, b), width\u001b[38;5;241m=\u001b[39mw, height\u001b[38;5;241m=\u001b[39mh,\n\u001b[1;32m   2474\u001b[0m         facecolor\u001b[38;5;241m=\u001b[39mc,\n\u001b[0;32m   (...)\u001b[0m\n\u001b[1;32m   2478\u001b[0m         hatch\u001b[38;5;241m=\u001b[39mhtch,\n\u001b[1;32m   2479\u001b[0m         )\n\u001b[0;32m-> 2480\u001b[0m     \u001b[43mr\u001b[49m\u001b[38;5;241;43m.\u001b[39;49m\u001b[43m_internal_update\u001b[49m\u001b[43m(\u001b[49m\u001b[43mkwargs\u001b[49m\u001b[43m)\u001b[49m\n\u001b[1;32m   2481\u001b[0m     r\u001b[38;5;241m.\u001b[39mget_path()\u001b[38;5;241m.\u001b[39m_interpolation_steps \u001b[38;5;241m=\u001b[39m \u001b[38;5;241m100\u001b[39m\n\u001b[1;32m   2482\u001b[0m     \u001b[38;5;28;01mif\u001b[39;00m orientation \u001b[38;5;241m==\u001b[39m \u001b[38;5;124m'\u001b[39m\u001b[38;5;124mvertical\u001b[39m\u001b[38;5;124m'\u001b[39m:\n",
      "File \u001b[0;32m~/anaconda3/lib/python3.9/site-packages/matplotlib/artist.py:1223\u001b[0m, in \u001b[0;36mArtist._internal_update\u001b[0;34m(self, kwargs)\u001b[0m\n\u001b[1;32m   1216\u001b[0m \u001b[38;5;28;01mdef\u001b[39;00m \u001b[38;5;21m_internal_update\u001b[39m(\u001b[38;5;28mself\u001b[39m, kwargs):\n\u001b[1;32m   1217\u001b[0m \u001b[38;5;250m    \u001b[39m\u001b[38;5;124;03m\"\"\"\u001b[39;00m\n\u001b[1;32m   1218\u001b[0m \u001b[38;5;124;03m    Update artist properties without prenormalizing them, but generating\u001b[39;00m\n\u001b[1;32m   1219\u001b[0m \u001b[38;5;124;03m    errors as if calling `set`.\u001b[39;00m\n\u001b[1;32m   1220\u001b[0m \n\u001b[1;32m   1221\u001b[0m \u001b[38;5;124;03m    The lack of prenormalization is to maintain backcompatibility.\u001b[39;00m\n\u001b[1;32m   1222\u001b[0m \u001b[38;5;124;03m    \"\"\"\u001b[39;00m\n\u001b[0;32m-> 1223\u001b[0m     \u001b[38;5;28;01mreturn\u001b[39;00m \u001b[38;5;28;43mself\u001b[39;49m\u001b[38;5;241;43m.\u001b[39;49m\u001b[43m_update_props\u001b[49m\u001b[43m(\u001b[49m\n\u001b[1;32m   1224\u001b[0m \u001b[43m        \u001b[49m\u001b[43mkwargs\u001b[49m\u001b[43m,\u001b[49m\u001b[43m \u001b[49m\u001b[38;5;124;43m\"\u001b[39;49m\u001b[38;5;132;43;01m{cls.__name__}\u001b[39;49;00m\u001b[38;5;124;43m.set() got an unexpected keyword argument \u001b[39;49m\u001b[38;5;124;43m\"\u001b[39;49m\n\u001b[1;32m   1225\u001b[0m \u001b[43m        \u001b[49m\u001b[38;5;124;43m\"\u001b[39;49m\u001b[38;5;132;43;01m{prop_name!r}\u001b[39;49;00m\u001b[38;5;124;43m\"\u001b[39;49m\u001b[43m)\u001b[49m\n",
      "File \u001b[0;32m~/anaconda3/lib/python3.9/site-packages/matplotlib/artist.py:1197\u001b[0m, in \u001b[0;36mArtist._update_props\u001b[0;34m(self, props, errfmt)\u001b[0m\n\u001b[1;32m   1195\u001b[0m             func \u001b[38;5;241m=\u001b[39m \u001b[38;5;28mgetattr\u001b[39m(\u001b[38;5;28mself\u001b[39m, \u001b[38;5;124mf\u001b[39m\u001b[38;5;124m\"\u001b[39m\u001b[38;5;124mset_\u001b[39m\u001b[38;5;132;01m{\u001b[39;00mk\u001b[38;5;132;01m}\u001b[39;00m\u001b[38;5;124m\"\u001b[39m, \u001b[38;5;28;01mNone\u001b[39;00m)\n\u001b[1;32m   1196\u001b[0m             \u001b[38;5;28;01mif\u001b[39;00m \u001b[38;5;129;01mnot\u001b[39;00m \u001b[38;5;28mcallable\u001b[39m(func):\n\u001b[0;32m-> 1197\u001b[0m                 \u001b[38;5;28;01mraise\u001b[39;00m \u001b[38;5;167;01mAttributeError\u001b[39;00m(\n\u001b[1;32m   1198\u001b[0m                     errfmt\u001b[38;5;241m.\u001b[39mformat(\u001b[38;5;28mcls\u001b[39m\u001b[38;5;241m=\u001b[39m\u001b[38;5;28mtype\u001b[39m(\u001b[38;5;28mself\u001b[39m), prop_name\u001b[38;5;241m=\u001b[39mk))\n\u001b[1;32m   1199\u001b[0m             ret\u001b[38;5;241m.\u001b[39mappend(func(v))\n\u001b[1;32m   1200\u001b[0m \u001b[38;5;28;01mif\u001b[39;00m ret:\n",
      "\u001b[0;31mAttributeError\u001b[0m: Rectangle.set() got an unexpected keyword argument 'legend'"
     ]
    }
   ],
   "source": [
    "%matplotlib qt\n",
    "\n",
    "fig2, (ax3, ax4) = plt.subplots(1,2, sharey=True, figsize=(12,8))\n",
    "\n",
    "sns.barplot(y='distance',\n",
    "            x='simulation',\n",
    "            data=distances,\n",
    "            hue='type',\n",
    "            palette='viridis',\n",
    "            saturation=0.7,\n",
    "            alpha=0.7,\n",
    "            width=0.7,\n",
    "            ax=ax3,\n",
    "            legend=False)\n",
    "\n",
    "ax3.set_xlabel('simulation', fontsize=26)\n",
    "ax3.tick_params(axis='both', which='major', labelsize=20)\n",
    "#ax3.set_ylabel('', fontsize=24)\n",
    "ax3.set_ylim(0,9)\n",
    "\n",
    "for line in ax3.lines:\n",
    "    line.set_color('black')\n",
    "    \n",
    "plt.setp(ax3.collections, alpha=0.4)\n",
    "\n",
    "sns.violinplot(y='distance',\n",
    "               x='type',\n",
    "               hue='type',\n",
    "               data=distances,\n",
    "               palette='viridis',\n",
    "               cut=0,\n",
    "               inner='quartiles',\n",
    "               saturation=0.8, \n",
    "               ax=ax4,\n",
    "               legend=False)\n",
    "\n",
    "plt.setp(ax4.collections, alpha=0.5)\n",
    "ax4.tick_params(axis='x', which='major', labelsize=20)\n",
    "\n",
    "ax3.set_ylabel('distance in meters', fontsize=26)\n",
    "ax4.set_xlabel('simulation type', fontsize=26)\n",
    "\n",
    "for line in ax4.lines:\n",
    "    line.set_color('black')\n",
    "\n",
    "plt.subplots_adjust(hspace=0.01)\n",
    "\n",
    "ax3.legend(custom_lines2, ['OPM', 'baseline'], loc='upper right', fontsize=24)\n",
    "ax4.legend(custom_lines2, ['OPM', 'baseline'], loc='upper right', fontsize=24)\n",
    "plt.tight_layout(pad=0.3)\n",
    "plt.show()"
   ]
  },
  {
   "cell_type": "markdown",
   "id": "a4daa3e8",
   "metadata": {},
   "source": [
    "### Stat analysis"
   ]
  },
  {
   "cell_type": "code",
   "execution_count": 114,
   "id": "bd806984",
   "metadata": {},
   "outputs": [],
   "source": [
    "opm = [x for x in distances_opm.values()]"
   ]
  },
  {
   "cell_type": "code",
   "execution_count": 115,
   "id": "3ebbaa07",
   "metadata": {},
   "outputs": [],
   "source": [
    "baseline = [x for x in distances_baseline.values()]"
   ]
  },
  {
   "cell_type": "code",
   "execution_count": 117,
   "id": "da012676",
   "metadata": {},
   "outputs": [
    {
     "name": "stdout",
     "output_type": "stream",
     "text": [
      "Wilcoxon: W = 3.000, p = 0.31250\n"
     ]
    }
   ],
   "source": [
    "stat, p = wilcoxon(opm, baseline)\n",
    "print('Wilcoxon: W = %.3f, p = %.5f' % (stat, p))"
   ]
  },
  {
   "cell_type": "code",
   "execution_count": 120,
   "id": "dbdc516c",
   "metadata": {},
   "outputs": [
    {
     "data": {
      "text/plain": [
       "(4.9787948769497845, 5.394154851696288)"
      ]
     },
     "execution_count": 120,
     "metadata": {},
     "output_type": "execute_result"
    }
   ],
   "source": [
    "np.average(opm), np.average(baseline)"
   ]
  },
  {
   "cell_type": "code",
   "execution_count": null,
   "id": "9e3b8e92",
   "metadata": {},
   "outputs": [],
   "source": []
  }
 ],
 "metadata": {
  "kernelspec": {
   "display_name": "Python 3 (ipykernel)",
   "language": "python",
   "name": "python3"
  },
  "language_info": {
   "codemirror_mode": {
    "name": "ipython",
    "version": 3
   },
   "file_extension": ".py",
   "mimetype": "text/x-python",
   "name": "python",
   "nbconvert_exporter": "python",
   "pygments_lexer": "ipython3",
   "version": "3.9.16"
  }
 },
 "nbformat": 4,
 "nbformat_minor": 5
}
