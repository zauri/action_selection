{
 "cells": [
  {
   "cell_type": "code",
   "execution_count": 1,
   "id": "9009fd91",
   "metadata": {},
   "outputs": [],
   "source": [
    "import ast\n",
    "import cmasher as cmr\n",
    "import matplotlib.pyplot as plt\n",
    "import numpy as np\n",
    "import pandas as pd\n",
    "\n",
    "from opportunistic_planning import processing, visualization\n",
    "from scipy.stats import friedmanchisquare, wilcoxon"
   ]
  },
  {
   "cell_type": "code",
   "execution_count": 2,
   "id": "272e9f79",
   "metadata": {},
   "outputs": [],
   "source": [
    "model = pd.read_csv('results/results_cleaning_2D_n100_fitted_to_ts_2023-01-20.csv', header=0)"
   ]
  },
  {
   "cell_type": "code",
   "execution_count": 3,
   "id": "9956b975",
   "metadata": {},
   "outputs": [
    {
     "data": {
      "text/html": [
       "<div>\n",
       "<style scoped>\n",
       "    .dataframe tbody tr th:only-of-type {\n",
       "        vertical-align: middle;\n",
       "    }\n",
       "\n",
       "    .dataframe tbody tr th {\n",
       "        vertical-align: top;\n",
       "    }\n",
       "\n",
       "    .dataframe thead th {\n",
       "        text-align: right;\n",
       "    }\n",
       "</style>\n",
       "<table border=\"1\" class=\"dataframe\">\n",
       "  <thead>\n",
       "    <tr style=\"text-align: right;\">\n",
       "      <th></th>\n",
       "      <th>median</th>\n",
       "      <th>median_normalized</th>\n",
       "      <th>ID</th>\n",
       "    </tr>\n",
       "  </thead>\n",
       "  <tbody>\n",
       "    <tr>\n",
       "      <th>0</th>\n",
       "      <td>3.0</td>\n",
       "      <td>0.500000</td>\n",
       "      <td>k01</td>\n",
       "    </tr>\n",
       "    <tr>\n",
       "      <th>1</th>\n",
       "      <td>2.0</td>\n",
       "      <td>0.400000</td>\n",
       "      <td>k04</td>\n",
       "    </tr>\n",
       "    <tr>\n",
       "      <th>2</th>\n",
       "      <td>1.0</td>\n",
       "      <td>0.200000</td>\n",
       "      <td>k06</td>\n",
       "    </tr>\n",
       "    <tr>\n",
       "      <th>3</th>\n",
       "      <td>6.0</td>\n",
       "      <td>0.750000</td>\n",
       "      <td>k08</td>\n",
       "    </tr>\n",
       "    <tr>\n",
       "      <th>4</th>\n",
       "      <td>3.0</td>\n",
       "      <td>0.333333</td>\n",
       "      <td>k11</td>\n",
       "    </tr>\n",
       "    <tr>\n",
       "      <th>5</th>\n",
       "      <td>3.0</td>\n",
       "      <td>0.375000</td>\n",
       "      <td>k12</td>\n",
       "    </tr>\n",
       "    <tr>\n",
       "      <th>6</th>\n",
       "      <td>4.0</td>\n",
       "      <td>0.400000</td>\n",
       "      <td>k14</td>\n",
       "    </tr>\n",
       "    <tr>\n",
       "      <th>7</th>\n",
       "      <td>5.0</td>\n",
       "      <td>0.555556</td>\n",
       "      <td>k16</td>\n",
       "    </tr>\n",
       "    <tr>\n",
       "      <th>8</th>\n",
       "      <td>5.0</td>\n",
       "      <td>0.625000</td>\n",
       "      <td>k17</td>\n",
       "    </tr>\n",
       "    <tr>\n",
       "      <th>9</th>\n",
       "      <td>4.0</td>\n",
       "      <td>0.666667</td>\n",
       "      <td>k18</td>\n",
       "    </tr>\n",
       "    <tr>\n",
       "      <th>10</th>\n",
       "      <td>6.0</td>\n",
       "      <td>0.600000</td>\n",
       "      <td>k19</td>\n",
       "    </tr>\n",
       "    <tr>\n",
       "      <th>11</th>\n",
       "      <td>3.0</td>\n",
       "      <td>0.375000</td>\n",
       "      <td>k20</td>\n",
       "    </tr>\n",
       "    <tr>\n",
       "      <th>12</th>\n",
       "      <td>3.0</td>\n",
       "      <td>0.428571</td>\n",
       "      <td>k21</td>\n",
       "    </tr>\n",
       "    <tr>\n",
       "      <th>13</th>\n",
       "      <td>5.0</td>\n",
       "      <td>0.625000</td>\n",
       "      <td>k22</td>\n",
       "    </tr>\n",
       "    <tr>\n",
       "      <th>14</th>\n",
       "      <td>4.0</td>\n",
       "      <td>0.800000</td>\n",
       "      <td>k23</td>\n",
       "    </tr>\n",
       "    <tr>\n",
       "      <th>15</th>\n",
       "      <td>4.0</td>\n",
       "      <td>0.444444</td>\n",
       "      <td>k24</td>\n",
       "    </tr>\n",
       "    <tr>\n",
       "      <th>16</th>\n",
       "      <td>4.0</td>\n",
       "      <td>0.500000</td>\n",
       "      <td>k25</td>\n",
       "    </tr>\n",
       "  </tbody>\n",
       "</table>\n",
       "</div>"
      ],
      "text/plain": [
       "    median  median_normalized   ID\n",
       "0      3.0           0.500000  k01\n",
       "1      2.0           0.400000  k04\n",
       "2      1.0           0.200000  k06\n",
       "3      6.0           0.750000  k08\n",
       "4      3.0           0.333333  k11\n",
       "5      3.0           0.375000  k12\n",
       "6      4.0           0.400000  k14\n",
       "7      5.0           0.555556  k16\n",
       "8      5.0           0.625000  k17\n",
       "9      4.0           0.666667  k18\n",
       "10     6.0           0.600000  k19\n",
       "11     3.0           0.375000  k20\n",
       "12     3.0           0.428571  k21\n",
       "13     5.0           0.625000  k22\n",
       "14     4.0           0.800000  k23\n",
       "15     4.0           0.444444  k24\n",
       "16     4.0           0.500000  k25"
      ]
     },
     "execution_count": 3,
     "metadata": {},
     "output_type": "execute_result"
    }
   ],
   "source": [
    "model"
   ]
  },
  {
   "cell_type": "code",
   "execution_count": 4,
   "id": "d890777b",
   "metadata": {},
   "outputs": [],
   "source": [
    "with open ('../../model_evaluation/neural_net/results/nn_spatialinfo_prequential_summed_fitted_on_ts_results_cleaning_2022-10-11.txt', 'r') as file:\n",
    "    nn_results = ast.literal_eval(file.read())"
   ]
  },
  {
   "cell_type": "code",
   "execution_count": 5,
   "id": "ed236946",
   "metadata": {},
   "outputs": [
    {
     "data": {
      "text/plain": [
       "17"
      ]
     },
     "execution_count": 5,
     "metadata": {},
     "output_type": "execute_result"
    }
   ],
   "source": [
    "len(nn_results)"
   ]
  },
  {
   "cell_type": "code",
   "execution_count": 6,
   "id": "3a85e945",
   "metadata": {},
   "outputs": [],
   "source": [
    "with open ('../../model_evaluation/neural_net/results/pytorch_rnn_prequential_summed_fitted_ts_cleaning_2022-10-11.txt', 'r') as file:\n",
    "    rnn_results = ast.literal_eval(file.read())"
   ]
  },
  {
   "cell_type": "code",
   "execution_count": 7,
   "id": "159dff65",
   "metadata": {},
   "outputs": [
    {
     "data": {
      "text/plain": [
       "17"
      ]
     },
     "execution_count": 7,
     "metadata": {},
     "output_type": "execute_result"
    }
   ],
   "source": [
    "len(rnn_results)"
   ]
  },
  {
   "cell_type": "markdown",
   "id": "7093c8ed",
   "metadata": {},
   "source": [
    "### Plot fitted model with baseline (all sequences)"
   ]
  },
  {
   "cell_type": "code",
   "execution_count": 9,
   "id": "548506df",
   "metadata": {},
   "outputs": [],
   "source": [
    "#%matplotlib inline\n",
    "%matplotlib qt\n",
    "\n",
    "IDs = model['ID']\n",
    "\n",
    "#seqs= results_sum['sequence'][:-2].values\n",
    "\n",
    "res = model['median'].values\n",
    "median = [np.nanmedian(res)] * len(res)\n",
    "\n",
    "x = [x for x in range (0,len(res))]\n",
    "\n",
    "fig, ax = plt.subplots(constrained_layout=False)\n",
    "\n",
    "'''\n",
    "# plot CPT baseline\n",
    "plt.scatter(x, cpt, marker='o', s=20, c='dodgerblue', alpha=0.3, \n",
    "            label=str('CPT baseline median: ') + str(round(np.median(cpt),3)))\n",
    "plt.plot(x, [np.median(cpt)] * len(x), '-', c='dodgerblue', alpha=0.9, linewidth=2)\n",
    "plt.plot((x_original,x_original),(res_original,distances), '--', c='darkgreen', alpha=0.6)\n",
    "plt.fill_between(x, cpt, alpha=0.3, color='dodgerblue')\n",
    "'''\n",
    "\n",
    "'''\n",
    "# plot RNN text prediction baseline\n",
    "plt.scatter(x, rnn_results, marker='o', s=20, c='darkgreen', alpha=0.7, \n",
    "            label=str('NN text prediction baseline median: ') + str(round(np.median(rnn_results),3)))\n",
    "plt.plot(x, [np.median(rnn_results)] * len(x), '-', c='darkgreen', alpha=0.9, linewidth=2)\n",
    "#plt.plot((x_original,x_original),(res_original,distances), '--', c='darkgreen', alpha=0.6)\n",
    "plt.fill_between(x, rnn_results, [14 for x in range(0,len(res))], alpha=0.2, \n",
    "                 color='limegreen')\n",
    "'''\n",
    "\n",
    "# plot NN baseline\n",
    "ax.scatter(x, nn_results, marker='D', s=20, c='navy', alpha=0.8, \n",
    "            label=str('NN spatial info baseline median: ') + str(round(np.median(nn_results),3)))\n",
    "ax.plot(x, [np.median(nn_results)] * len(x), '-', c='navy', alpha=0.9, linewidth=2)\n",
    "#plt.plot((x_original,x_original),(res_original,distances), '--', c='darkgreen', alpha=0.6)\n",
    "ax.fill_between(x, nn_results, alpha=0.3, color='dodgerblue')\n",
    "\n",
    "\n",
    "# plot scatter + lines for simulations\n",
    "ax.scatter(x, res, marker='o', s=26, c='darkred', alpha=0.8, \n",
    "           label=str('model-generated median: ') + str(round(np.median(res),3)),\n",
    "           zorder=3)\n",
    "#plt.plot(x, res, c='blue', alpha=0.6)\n",
    "ax.plot(x, median, c='red', alpha=0.95, linewidth=2, linestyle='--')\n",
    "#plt.fill_between(x, res, alpha=0.3, color='darkviolet')\n",
    "\n",
    "\n",
    "plt.xticks(x, labels=IDs, rotation=90, fontsize=5)\n",
    "#plt.xticklabels(IDs, rotation=90, fontsize=6)\n",
    "\n",
    "ax.set_ylabel('accumulated prediction error', fontsize=22)\n",
    "ax.set_xlabel('sequence', fontsize=22)\n",
    "#plt.ylim(0.0, 0.51)\n",
    "ax.set_title('parameters: k: 0.2,0.3,1.7; c: 1.8', fontsize=24, pad=20)\n",
    "plt.margins(0.01)\n",
    "\n",
    "lgnd = plt.legend(fontsize=20, framealpha=0.8, loc='upper right', markerscale=2.5)\n",
    "lgnd.legendHandles[0]._sizes = [70]\n",
    "lgnd.legendHandles[1]._sizes = [70]\n",
    "#lgnd.legendHandles[2]._sizes = [70]\n",
    "\n",
    "secax = ax.secondary_xaxis('top')\n",
    "\n",
    "#plt.savefig('plot_median_editdist_individualerrors_diff.png', bbox_inches='tight')\n",
    "plt.show()"
   ]
  },
  {
   "cell_type": "code",
   "execution_count": 10,
   "id": "94a8b4ef",
   "metadata": {},
   "outputs": [
    {
     "data": {
      "text/plain": [
       "187"
      ]
     },
     "execution_count": 10,
     "metadata": {},
     "output_type": "execute_result"
    }
   ],
   "source": [
    "len(nn_results[:187])"
   ]
  },
  {
   "cell_type": "markdown",
   "id": "cb4c24cd",
   "metadata": {},
   "source": [
    "### Plot fitted model with baseline (only tablesetting)"
   ]
  },
  {
   "cell_type": "code",
   "execution_count": 11,
   "id": "6bb0a337",
   "metadata": {},
   "outputs": [],
   "source": [
    "#%matplotlib inline\n",
    "%matplotlib qt\n",
    "\n",
    "nn_results = nn_results\n",
    "IDs_cleaning = model['ID']\n",
    "\n",
    "#seqs= results_sum['sequence'][:-2].values\n",
    "\n",
    "res_cleaning = model['median'].values\n",
    "median_cleaning = [np.nanmedian(res_cleaning)] * len(res_cleaning)\n",
    "\n",
    "x_cleaning = [x for x in range (0,len(res_cleaning))]\n",
    "\n",
    "fig, ax = plt.subplots(constrained_layout=False)\n",
    "\n",
    "'''\n",
    "# plot CPT baseline\n",
    "plt.scatter(x, cpt, marker='o', s=20, c='dodgerblue', alpha=0.3, \n",
    "            label=str('CPT baseline median: ') + str(round(np.median(cpt),3)))\n",
    "plt.plot(x, [np.median(cpt)] * len(x), '-', c='dodgerblue', alpha=0.9, linewidth=2)\n",
    "plt.plot((x_original,x_original),(res_original,distances), '--', c='darkgreen', alpha=0.6)\n",
    "plt.fill_between(x, cpt, alpha=0.3, color='dodgerblue')\n",
    "'''\n",
    "\n",
    "\n",
    "# plot RNN text prediction baseline\n",
    "plt.scatter(x_cleaning, rnn_results, marker='v', s=20, c='darkgreen', alpha=0.7, \n",
    "            label=str('NN text prediction (median: ') + str(round(np.median(rnn_results),3)) + ')')\n",
    "plt.plot(x_cleaning, [np.median(rnn_results)] * len(x_cleaning), '-', c='darkgreen', alpha=0.9, linewidth=2)\n",
    "#plt.plot((x_original,x_original),(res_original,distances), '--', c='darkgreen', alpha=0.6)\n",
    "plt.fill_between(x_cleaning, rnn_results, [14 for x in range(0,len(res_cleaning))], alpha=0.2, \n",
    "                 color='limegreen')\n",
    "\n",
    "\n",
    "# plot NN baseline\n",
    "ax.scatter(x_cleaning, nn_results, marker='D', s=20, c='navy', alpha=0.8, \n",
    "            label=str('NN spatial info (median: ') + str(round(np.median(nn_results), 3)) + ')')\n",
    "ax.plot(x_cleaning, [np.median(nn_results)] * len(x_cleaning), '-', c='navy', alpha=0.9, linewidth=2)\n",
    "#plt.plot((x_original,x_original),(res_original,distances), '--', c='darkgreen', alpha=0.6)\n",
    "ax.fill_between(x_cleaning, nn_results, alpha=0.3, color='dodgerblue')\n",
    "\n",
    "\n",
    "# plot scatter + lines for simulations\n",
    "ax.scatter(x_cleaning, res_cleaning, marker='o', s=26, c='darkred', alpha=0.8, \n",
    "           label=str('model (median: ') + str(round(np.median(res_cleaning),3)) + ')',\n",
    "           zorder=3)\n",
    "#plt.plot(x, res, c='blue', alpha=0.6)\n",
    "ax.plot(x_cleaning, median_cleaning, c='red', alpha=0.95, linewidth=2, linestyle='-')\n",
    "#plt.fill_between(x, res, alpha=0.3, color='darkviolet')\n",
    "\n",
    "\n",
    "plt.xticks(x_cleaning, labels=IDs_cleaning, rotation=90, fontsize=5)\n",
    "#plt.xticklabels(IDs, rotation=90, fontsize=6)\n",
    "\n",
    "ax.set_ylabel('accumulated prediction error', fontsize=22)\n",
    "ax.set_xlabel('sequence', fontsize=22)\n",
    "#plt.ylim(0.0, 0.51)\n",
    "ax.set_title('generalization to cleaning (parameters: k: 0.2,0.3,1.7; c: 1.8)', fontsize=24, pad=20)\n",
    "plt.margins(0.01)\n",
    "\n",
    "lgnd = plt.legend(fontsize=20, framealpha=0.8, loc='upper right', markerscale=2.5)\n",
    "lgnd.legendHandles[0]._sizes = [70]\n",
    "lgnd.legendHandles[1]._sizes = [70]\n",
    "lgnd.legendHandles[2]._sizes = [70]\n",
    "\n",
    "#plt.savefig('plot_median_editdist_individualerrors_diff.png', bbox_inches='tight')\n",
    "plt.show()"
   ]
  },
  {
   "cell_type": "markdown",
   "id": "b021383f",
   "metadata": {},
   "source": [
    "### second version"
   ]
  },
  {
   "cell_type": "code",
   "execution_count": 20,
   "id": "38648b49",
   "metadata": {},
   "outputs": [],
   "source": [
    "#%matplotlib inline\n",
    "%matplotlib qt\n",
    "\n",
    "IDs = df['ID']\n",
    "error = df['error']\n",
    "res = results_sum[lowest_mean_idx[0]][:-2].values\n",
    "median = [np.nanmedian(res)] * len(res)\n",
    "x = [x for x in range (0,len(res))]\n",
    "\n",
    "cmap_blue = cmr.get_sub_cmap('Blues', 0.5, 0.95)\n",
    "cmap_red = cmr.get_sub_cmap('Reds', 0.5, 0.95)\n",
    "cmap_green = cmr.get_sub_cmap('Greens', 0.5, 0.95)\n",
    "\n",
    "# plot CPT baseline\n",
    "#plt.scatter(x, cpt, marker='o', s=20, c='dodgerblue', alpha=0.3, \n",
    "#            label=str('CPT baseline median: ') + str(round(np.median(cpt),3)))\n",
    "#plt.plot(x, [np.median(cpt)] * len(x), '-', c='dodgerblue', alpha=0.9, linewidth=2)\n",
    "#plt.plot((x_original,x_original),(res_original,distances), '--', c='darkgreen', alpha=0.6)\n",
    "#plt.fill_between(x, cpt, alpha=0.3, color='dodgerblue')\n",
    "\n",
    "\n",
    "# plot RNN text prediction baseline\n",
    "plt.scatter(x, rnn_results, marker='o', s=[(item+1)*6 for item in rnn_results], \n",
    "            c=rnn_results, cmap=cmap_green, alpha=0.7, \n",
    "            label=str('NN text prediction baseline median: ') + str(round(np.median(rnn_results),3)))\n",
    "plt.plot(x, [np.median(rnn_results)] * len(x), '-', c='darkgreen', alpha=0.9, linewidth=2)\n",
    "#plt.plot((x_original,x_original),(res_original,distances), '--', c='darkgreen', alpha=0.6)\n",
    "#plt.fill_between(x, cpt, alpha=0.3, color='dodgerblue')\n",
    "\n",
    "\n",
    "# plot NN baseline\n",
    "plt.scatter(x, nn_results, marker='o', s=[(item+1)*6 for item in nn_results], \n",
    "            c=nn_results, cmap=cmap_blue, alpha=0.8,\n",
    "            label=str('NN baseline median: ') + str(round(np.median(nn_results),3)))\n",
    "plt.plot(x, [np.median(nn_results)] * len(x), '-', c='dodgerblue', alpha=0.9, linewidth=2)\n",
    "#plt.plot((x_original,x_original),(res_original,distances), '--', c='darkgreen', alpha=0.6)\n",
    "#plt.fill_between(x, nn_results, alpha=0.3, color='dodgerblue')\n",
    "\n",
    "\n",
    "# plot scatter + lines for simulations\n",
    "plt.scatter(x, res, marker='o', s=[(item+1)*6 for item in res], \n",
    "            c=res, alpha=0.8, cmap=cmap_red,\n",
    "            label=str('model-generated median: ') + str(round(lowest_median,3)))\n",
    "#plt.plot(x, res, c='blue', alpha=0.6)\n",
    "plt.plot(x, median, c='darkred', alpha=0.95, linewidth=2)\n",
    "#plt.fill_between(x, res, alpha=0.3, color='darkviolet')\n",
    "\n",
    "\n",
    "plt.xticks(x, labels=IDs, rotation=90, fontsize=5)\n",
    "#plt.xticklabels(IDs, rotation=90, fontsize=6)\n",
    "\n",
    "plt.ylabel('accumulated prediction error', fontsize=22)\n",
    "plt.xlabel('sequence', fontsize=22)\n",
    "#plt.ylim(0.0, 0.51)\n",
    "plt.title('best model: ' + str(lowest_mean_idx[0]), fontsize=24, pad=20)\n",
    "plt.margins(0.01)\n",
    "\n",
    "lgnd = plt.legend(fontsize=20, framealpha=0.8, loc='upper right', markerscale=2.5)\n",
    "lgnd.legendHandles[0]._sizes = [70]\n",
    "lgnd.legendHandles[1]._sizes = [70]\n",
    "lgnd.legendHandles[2]._sizes = [70]\n",
    "\n",
    "#plt.savefig('plot_median_editdist_individualerrors_diff.png', bbox_inches='tight')\n",
    "plt.show()"
   ]
  },
  {
   "cell_type": "markdown",
   "id": "96796a46",
   "metadata": {},
   "source": [
    "### Prep data for stat analysis"
   ]
  },
  {
   "cell_type": "code",
   "execution_count": 35,
   "id": "4a0fe58f",
   "metadata": {},
   "outputs": [
    {
     "name": "stdout",
     "output_type": "stream",
     "text": [
      "Average xy: 3.677826924589133, stdev: 0.11776431470315638, median: 3.644904458598726\n"
     ]
    }
   ],
   "source": [
    "# Get errors for model\n",
    "list_xy = []\n",
    "\n",
    "for col in results_sum:\n",
    "    if col != 'sequence' and col != 'ID' and col != 'error' and col.split(';')[2].strip() == 'xy':\n",
    "        list_xy.append(results_sum.at['mean',col])\n",
    "        \n",
    "avg_xy = np.mean(list_xy)\n",
    "med_xy = np.median(list_xy)\n",
    "std_xy = np.std(list_xy)\n",
    "print('Average xy: ' + str(avg_xy)  + ', stdev: ' + str(std_xy) + ', median: ' + str(med_xy))"
   ]
  },
  {
   "cell_type": "code",
   "execution_count": 36,
   "id": "7e131086",
   "metadata": {},
   "outputs": [
    {
     "name": "stdout",
     "output_type": "stream",
     "text": [
      "Wilcoxon: W = 4118.000, p = 0.00000\n"
     ]
    }
   ],
   "source": [
    "# model vs NN\n",
    "stat, p = wilcoxon(res, nn_results, zero_method='wilcox')\n",
    "print('Wilcoxon: W = %.3f, p = %.5f' % (stat, p))"
   ]
  },
  {
   "cell_type": "code",
   "execution_count": 43,
   "id": "74ff600c",
   "metadata": {
    "scrolled": true
   },
   "outputs": [
    {
     "data": {
      "text/plain": [
       "134"
      ]
     },
     "execution_count": 43,
     "metadata": {},
     "output_type": "execute_result"
    }
   ],
   "source": [
    "# get sequences where OPM performs worse than baseline\n",
    "\n",
    "worse_than_nn = results_sum[lowest_mean_idx[0]].loc[results_sum[lowest_mean_idx[0]] >= 4.0]\n",
    "worse_than_nn_sequences = [results_sum.at[x, 'ID'] for x in worse_than_nn.index]\n",
    "\n",
    "len(worse_than_nn_sequences)"
   ]
  },
  {
   "cell_type": "code",
   "execution_count": 38,
   "id": "048cc2a7",
   "metadata": {},
   "outputs": [
    {
     "data": {
      "text/plain": [
       "55"
      ]
     },
     "execution_count": 38,
     "metadata": {},
     "output_type": "execute_result"
    }
   ],
   "source": [
    "# get sequences where NN performs worse than baseline\n",
    "\n",
    "worse_than_opm = [i for i in nn_results if i > 3.0]\n",
    "\n",
    "len(worse_than_opm)"
   ]
  },
  {
   "cell_type": "code",
   "execution_count": null,
   "id": "cf66d1ef",
   "metadata": {},
   "outputs": [],
   "source": []
  },
  {
   "cell_type": "code",
   "execution_count": null,
   "id": "a7c0d876",
   "metadata": {},
   "outputs": [],
   "source": []
  }
 ],
 "metadata": {
  "kernelspec": {
   "display_name": "Python 3 (ipykernel)",
   "language": "python",
   "name": "python3"
  },
  "language_info": {
   "codemirror_mode": {
    "name": "ipython",
    "version": 3
   },
   "file_extension": ".py",
   "mimetype": "text/x-python",
   "name": "python",
   "nbconvert_exporter": "python",
   "pygments_lexer": "ipython3",
   "version": "3.9.13"
  }
 },
 "nbformat": 4,
 "nbformat_minor": 5
}
