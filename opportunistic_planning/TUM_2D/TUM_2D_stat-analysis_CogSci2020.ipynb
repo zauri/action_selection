{
 "cells": [
  {
   "cell_type": "code",
   "execution_count": 1,
   "metadata": {},
   "outputs": [],
   "source": [
    "from scipy.stats import friedmanchisquare, wilcoxon"
   ]
  },
  {
   "cell_type": "code",
   "execution_count": 2,
   "metadata": {},
   "outputs": [],
   "source": [
    "model_ck = [0,0,0,0,0,0,0,0,0,0,0,0,0,0.17,0.17,0,0,0.17,0.17]\n",
    "k_set = [0.8,0.8,0,0.8,0.8,0.8,0.8,0.8,0.8,0.8,0.8,0,0.8,0.8,0.8,0.8,0.8,0.8,0.8]\n",
    "c_set = [0.4,0.4,0,0.4,0.4,0.4,0.4,0.4,0.4,0.4,0.4,0,0.4,0.4,0.4,0.4,0.4,0.4,0.4]\n",
    "no_params = [1,1,0.67,1,1,1,1,1,1,1,1,0.67,1,0.8,0.8,1,1,0.8,0.8]\n",
    "globally_optimal = [0.4,0.4,0.67,0.4,0.4,0.4,0.4,0.4,0.4,0.4,0.4,0.67,0.4,0.33,0.33,0.4,0.4,0.33,0.33]"
   ]
  },
  {
   "cell_type": "code",
   "execution_count": 11,
   "metadata": {},
   "outputs": [
    {
     "name": "stdout",
     "output_type": "stream",
     "text": [
      "Friedman: stat = 66.595, p = 0.000000000000119\n"
     ]
    }
   ],
   "source": [
    "stat, p = friedmanchisquare(model_ck, globally_optimal, k_set, c_set, no_params)\n",
    "print('Friedman: stat = %.3f, p = %.15f' % (stat, p))"
   ]
  },
  {
   "cell_type": "code",
   "execution_count": 19,
   "metadata": {},
   "outputs": [
    {
     "name": "stdout",
     "output_type": "stream",
     "text": [
      "Wilcoxon global/local: stat = 0.00000, p = 0.000069810002723\n",
      "Wilcoxon c/ck: stat = 0.00000, p = 0.000129507720905\n",
      "Wilcoxon k/ck: stat = 0.00000, p = 0.000129507720905\n"
     ]
    }
   ],
   "source": [
    "stat, p = wilcoxon(globally_optimal, model_ck)\n",
    "print('Wilcoxon global/local: stat = %.5f, p = %.15f' % (stat, p))\n",
    "\n",
    "stat, p = wilcoxon(model_ck, c_set)\n",
    "print('Wilcoxon c/ck: stat = %.5f, p = %.15f' % (stat, p))\n",
    "\n",
    "stat, p = wilcoxon(model_ck, k_set, zero_method='wilcox')\n",
    "print('Wilcoxon k/ck: stat = %.5f, p = %.15f' % (stat, p))"
   ]
  },
  {
   "cell_type": "code",
   "execution_count": null,
   "metadata": {},
   "outputs": [],
   "source": []
  }
 ],
 "metadata": {
  "kernelspec": {
   "display_name": "Python 3",
   "language": "python",
   "name": "python3"
  },
  "language_info": {
   "codemirror_mode": {
    "name": "ipython",
    "version": 3
   },
   "file_extension": ".py",
   "mimetype": "text/x-python",
   "name": "python",
   "nbconvert_exporter": "python",
   "pygments_lexer": "ipython3",
   "version": "3.7.7"
  }
 },
 "nbformat": 4,
 "nbformat_minor": 4
}
