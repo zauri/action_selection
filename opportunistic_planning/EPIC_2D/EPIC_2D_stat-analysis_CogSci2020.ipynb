{
 "cells": [
  {
   "cell_type": "code",
   "execution_count": 3,
   "metadata": {},
   "outputs": [],
   "source": [
    "from scipy.stats import friedmanchisquare, wilcoxon"
   ]
  },
  {
   "cell_type": "code",
   "execution_count": 4,
   "metadata": {},
   "outputs": [],
   "source": [
    "model_ck = [0.33,0.6,0.25,0.5,0,0,0,0.43,0.25,0.29,0.33,0.78,0.8,0,0.4,0.4]\n",
    "k_set = [0.33,0.6,0.25,0.5,0,0.33,0,0.71,0.25,0.29,0.33,0.78,0.8,0,0.4,0.4]\n",
    "c_set = [0.67,0.6,0.25,0.5,0,0,0,0.57,0.5,0.43,0.67,0.78,0.8,0.5,0.4,0.6]\n",
    "no_params = [0.67,0.6,0.75,1,0,0.33,0.2,0.86,0.5,0.43,0.67,1,0.8,0.5,0.4,0.6]"
   ]
  },
  {
   "cell_type": "code",
   "execution_count": 5,
   "metadata": {},
   "outputs": [
    {
     "name": "stdout",
     "output_type": "stream",
     "text": [
      "Friedman: stat = 24.600, p = 0.000018718494056\n"
     ]
    }
   ],
   "source": [
    "stat, p = friedmanchisquare(model_ck, k_set, c_set, no_params)\n",
    "print('Friedman: stat = %.3f, p = %.15f' % (stat, p))"
   ]
  },
  {
   "cell_type": "code",
   "execution_count": 12,
   "metadata": {},
   "outputs": [
    {
     "name": "stdout",
     "output_type": "stream",
     "text": [
      "Wilcoxon no params/ck: stat = 0.00000, p = 0.002174428743498\n",
      "Wilcoxon c/ck: stat = 0.00000, p = 0.017755922614036\n",
      "Wilcoxon k/ck: stat = 0.00000, p = 0.179712494879000\n",
      "Wilcoxon c/none: stat = 0.00000, p = 0.027281171477618\n",
      "Wilcoxon k/none: stat = 0.00000, p = 0.003268029866075\n"
     ]
    },
    {
     "name": "stderr",
     "output_type": "stream",
     "text": [
      "/home/zauri/files/anaconda3/lib/python3.7/site-packages/scipy/stats/morestats.py:2879: UserWarning: Sample size too small for normal approximation.\n",
      "  warnings.warn(\"Sample size too small for normal approximation.\")\n"
     ]
    }
   ],
   "source": [
    "stat, p = wilcoxon(no_params, model_ck)\n",
    "print('Wilcoxon no params/ck: stat = %.5f, p = %.15f' % (stat, p))\n",
    "\n",
    "stat, p = wilcoxon(model_ck, c_set)\n",
    "print('Wilcoxon c/ck: stat = %.5f, p = %.15f' % (stat, p))\n",
    "\n",
    "stat, p = wilcoxon(model_ck, k_set)\n",
    "print('Wilcoxon k/ck: stat = %.5f, p = %.15f' % (stat, p))\n",
    "\n",
    "stat, p = wilcoxon(c_set, no_params)\n",
    "print('Wilcoxon c/none: stat = %.5f, p = %.15f' % (stat, p))\n",
    "\n",
    "stat, p = wilcoxon(k_set, no_params)\n",
    "print('Wilcoxon k/none: stat = %.5f, p = %.15f' % (stat, p))"
   ]
  },
  {
   "cell_type": "code",
   "execution_count": null,
   "metadata": {},
   "outputs": [],
   "source": []
  }
 ],
 "metadata": {
  "kernelspec": {
   "display_name": "Python 3",
   "language": "python",
   "name": "python3"
  },
  "language_info": {
   "codemirror_mode": {
    "name": "ipython",
    "version": 3
   },
   "file_extension": ".py",
   "mimetype": "text/x-python",
   "name": "python",
   "nbconvert_exporter": "python",
   "pygments_lexer": "ipython3",
   "version": "3.7.7"
  }
 },
 "nbformat": 4,
 "nbformat_minor": 4
}
